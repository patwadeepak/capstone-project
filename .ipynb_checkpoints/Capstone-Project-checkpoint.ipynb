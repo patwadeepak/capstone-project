{
 "cells": [
  {
   "cell_type": "markdown",
   "metadata": {
    "toc": true
   },
   "source": [
    "<h1>Table of Contents<span class=\"tocSkip\"></span></h1>\n",
    "<div class=\"toc\"><ul class=\"toc-item\"><li><span><a href=\"#Importing-Libraries\" data-toc-modified-id=\"Importing-Libraries-1\"><span class=\"toc-item-num\">1&nbsp;&nbsp;</span>Importing Libraries</a></span></li><li><span><a href=\"#Reading-data-from-disk\" data-toc-modified-id=\"Reading-data-from-disk-2\"><span class=\"toc-item-num\">2&nbsp;&nbsp;</span>Reading data from disk</a></span></li><li><span><a href=\"#EDA\" data-toc-modified-id=\"EDA-3\"><span class=\"toc-item-num\">3&nbsp;&nbsp;</span>EDA</a></span><ul class=\"toc-item\"><li><span><a href=\"#Merging-two-dataframes\" data-toc-modified-id=\"Merging-two-dataframes-3.1\"><span class=\"toc-item-num\">3.1&nbsp;&nbsp;</span>Merging two dataframes</a></span></li><li><span><a href=\"#Replacing-long-cumbersome-column-names\" data-toc-modified-id=\"Replacing-long-cumbersome-column-names-3.2\"><span class=\"toc-item-num\">3.2&nbsp;&nbsp;</span>Replacing long cumbersome column names</a></span></li><li><span><a href=\"#Univariate-Analysis,-WOE-&amp;-IV-analysis\" data-toc-modified-id=\"Univariate-Analysis,-WOE-&amp;-IV-analysis-3.3\"><span class=\"toc-item-num\">3.3&nbsp;&nbsp;</span>Univariate Analysis, WOE &amp; IV analysis</a></span><ul class=\"toc-item\"><li><span><a href=\"#Function-for-WOE-&amp;-IV-analysis\" data-toc-modified-id=\"Function-for-WOE-&amp;-IV-analysis-3.3.1\"><span class=\"toc-item-num\">3.3.1&nbsp;&nbsp;</span>Function for WOE &amp; IV analysis</a></span></li><li><span><a href=\"#Age\" data-toc-modified-id=\"Age-3.3.2\"><span class=\"toc-item-num\">3.3.2&nbsp;&nbsp;</span>Age</a></span></li><li><span><a href=\"#gender\" data-toc-modified-id=\"gender-3.3.3\"><span class=\"toc-item-num\">3.3.3&nbsp;&nbsp;</span>gender</a></span></li><li><span><a href=\"#marital\" data-toc-modified-id=\"marital-3.3.4\"><span class=\"toc-item-num\">3.3.4&nbsp;&nbsp;</span>marital</a></span></li><li><span><a href=\"#no_of_dependents\" data-toc-modified-id=\"no_of_dependents-3.3.5\"><span class=\"toc-item-num\">3.3.5&nbsp;&nbsp;</span>no_of_dependents</a></span></li><li><span><a href=\"#income\" data-toc-modified-id=\"income-3.3.6\"><span class=\"toc-item-num\">3.3.6&nbsp;&nbsp;</span>income</a></span></li><li><span><a href=\"#education\" data-toc-modified-id=\"education-3.3.7\"><span class=\"toc-item-num\">3.3.7&nbsp;&nbsp;</span>education</a></span></li><li><span><a href=\"#profession\" data-toc-modified-id=\"profession-3.3.8\"><span class=\"toc-item-num\">3.3.8&nbsp;&nbsp;</span>profession</a></span></li><li><span><a href=\"#residence_type\" data-toc-modified-id=\"residence_type-3.3.9\"><span class=\"toc-item-num\">3.3.9&nbsp;&nbsp;</span>residence_type</a></span></li><li><span><a href=\"#months_curr_residence\" data-toc-modified-id=\"months_curr_residence-3.3.10\"><span class=\"toc-item-num\">3.3.10&nbsp;&nbsp;</span>months_curr_residence</a></span></li><li><span><a href=\"#months_curr_company\" data-toc-modified-id=\"months_curr_company-3.3.11\"><span class=\"toc-item-num\">3.3.11&nbsp;&nbsp;</span>months_curr_company</a></span></li><li><span><a href=\"#cc_util\" data-toc-modified-id=\"cc_util-3.3.12\"><span class=\"toc-item-num\">3.3.12&nbsp;&nbsp;</span>cc_util</a></span></li><li><span><a href=\"#trades-6m\" data-toc-modified-id=\"trades-6m-3.3.13\"><span class=\"toc-item-num\">3.3.13&nbsp;&nbsp;</span>trades 6m</a></span></li><li><span><a href=\"#trades-12m\" data-toc-modified-id=\"trades-12m-3.3.14\"><span class=\"toc-item-num\">3.3.14&nbsp;&nbsp;</span>trades 12m</a></span></li><li><span><a href=\"#pl_trades-6m-&amp;-12m\" data-toc-modified-id=\"pl_trades-6m-&amp;-12m-3.3.15\"><span class=\"toc-item-num\">3.3.15&nbsp;&nbsp;</span>pl_trades 6m &amp; 12m</a></span></li><li><span><a href=\"#inquiries_6m-&amp;-12m\" data-toc-modified-id=\"inquiries_6m-&amp;-12m-3.3.16\"><span class=\"toc-item-num\">3.3.16&nbsp;&nbsp;</span>inquiries_6m &amp; 12m</a></span></li><li><span><a href=\"#open_home_loan\" data-toc-modified-id=\"open_home_loan-3.3.17\"><span class=\"toc-item-num\">3.3.17&nbsp;&nbsp;</span>open_home_loan</a></span></li><li><span><a href=\"#open_auto_loan\" data-toc-modified-id=\"open_auto_loan-3.3.18\"><span class=\"toc-item-num\">3.3.18&nbsp;&nbsp;</span>open_auto_loan</a></span></li><li><span><a href=\"#total_trades\" data-toc-modified-id=\"total_trades-3.3.19\"><span class=\"toc-item-num\">3.3.19&nbsp;&nbsp;</span>total_trades</a></span></li><li><span><a href=\"#outstanding_bal\" data-toc-modified-id=\"outstanding_bal-3.3.20\"><span class=\"toc-item-num\">3.3.20&nbsp;&nbsp;</span>outstanding_bal</a></span></li><li><span><a href=\"#DPD\" data-toc-modified-id=\"DPD-3.3.21\"><span class=\"toc-item-num\">3.3.21&nbsp;&nbsp;</span>DPD</a></span></li></ul></li></ul></li><li><span><a href=\"#Model-Building\" data-toc-modified-id=\"Model-Building-4\"><span class=\"toc-item-num\">4&nbsp;&nbsp;</span>Model Building</a></span><ul class=\"toc-item\"><li><span><a href=\"#separating-the-rows-with-no-performance-tag\" data-toc-modified-id=\"separating-the-rows-with-no-performance-tag-4.1\"><span class=\"toc-item-num\">4.1&nbsp;&nbsp;</span>separating the rows with no performance tag</a></span></li><li><span><a href=\"#train-test-split\" data-toc-modified-id=\"train-test-split-4.2\"><span class=\"toc-item-num\">4.2&nbsp;&nbsp;</span>train test split</a></span></li><li><span><a href=\"#Logistic-Regression-model-with-only-demographic-data\" data-toc-modified-id=\"Logistic-Regression-model-with-only-demographic-data-4.3\"><span class=\"toc-item-num\">4.3&nbsp;&nbsp;</span>Logistic Regression model with only demographic data</a></span><ul class=\"toc-item\"><li><span><a href=\"#Without-SMOTE-and-PCA\" data-toc-modified-id=\"Without-SMOTE-and-PCA-4.3.1\"><span class=\"toc-item-num\">4.3.1&nbsp;&nbsp;</span>Without SMOTE and PCA</a></span></li><li><span><a href=\"#Using-PCA\" data-toc-modified-id=\"Using-PCA-4.3.2\"><span class=\"toc-item-num\">4.3.2&nbsp;&nbsp;</span>Using PCA</a></span><ul class=\"toc-item\"><li><span><a href=\"#Train-Score\" data-toc-modified-id=\"Train-Score-4.3.2.1\"><span class=\"toc-item-num\">4.3.2.1&nbsp;&nbsp;</span>Train Score</a></span></li><li><span><a href=\"#Test-Score\" data-toc-modified-id=\"Test-Score-4.3.2.2\"><span class=\"toc-item-num\">4.3.2.2&nbsp;&nbsp;</span>Test Score</a></span></li></ul></li><li><span><a href=\"#Using-SMOTE\" data-toc-modified-id=\"Using-SMOTE-4.3.3\"><span class=\"toc-item-num\">4.3.3&nbsp;&nbsp;</span>Using SMOTE</a></span><ul class=\"toc-item\"><li><span><a href=\"#Train-Score\" data-toc-modified-id=\"Train-Score-4.3.3.1\"><span class=\"toc-item-num\">4.3.3.1&nbsp;&nbsp;</span>Train Score</a></span></li><li><span><a href=\"#Test-Score\" data-toc-modified-id=\"Test-Score-4.3.3.2\"><span class=\"toc-item-num\">4.3.3.2&nbsp;&nbsp;</span>Test Score</a></span></li></ul></li></ul></li></ul></li><li><span><a href=\"#Model-using-demographic-and-credit-bureau-data\" data-toc-modified-id=\"Model-using-demographic-and-credit-bureau-data-5\"><span class=\"toc-item-num\">5&nbsp;&nbsp;</span>Model using demographic and credit bureau data</a></span><ul class=\"toc-item\"><li><span><a href=\"#Logistic-Regression\" data-toc-modified-id=\"Logistic-Regression-5.1\"><span class=\"toc-item-num\">5.1&nbsp;&nbsp;</span>Logistic Regression</a></span><ul class=\"toc-item\"><li><ul class=\"toc-item\"><li><span><a href=\"#Train-Score\" data-toc-modified-id=\"Train-Score-5.1.0.1\"><span class=\"toc-item-num\">5.1.0.1&nbsp;&nbsp;</span>Train Score</a></span></li><li><span><a href=\"#Test-Score\" data-toc-modified-id=\"Test-Score-5.1.0.2\"><span class=\"toc-item-num\">5.1.0.2&nbsp;&nbsp;</span>Test Score</a></span></li></ul></li></ul></li><li><span><a href=\"#Random-Forest\" data-toc-modified-id=\"Random-Forest-5.2\"><span class=\"toc-item-num\">5.2&nbsp;&nbsp;</span>Random Forest</a></span></li><li><span><a href=\"#Lets-try-Catboost\" data-toc-modified-id=\"Lets-try-Catboost-5.3\"><span class=\"toc-item-num\">5.3&nbsp;&nbsp;</span>Lets try Catboost</a></span></li></ul></li><li><span><a href=\"#Application-Scorecard\" data-toc-modified-id=\"Application-Scorecard-6\"><span class=\"toc-item-num\">6&nbsp;&nbsp;</span>Application Scorecard</a></span></li></ul></div>"
   ]
  },
  {
   "cell_type": "markdown",
   "metadata": {},
   "source": [
    "## Importing Libraries"
   ]
  },
  {
   "cell_type": "code",
   "execution_count": 195,
   "metadata": {
    "ExecuteTime": {
     "end_time": "2019-09-11T11:33:45.502000Z",
     "start_time": "2019-09-11T11:33:45.499000Z"
    }
   },
   "outputs": [],
   "source": [
    "# Ignore Warnings\n",
    "import warnings\n",
    "warnings.filterwarnings('ignore')"
   ]
  },
  {
   "cell_type": "code",
   "execution_count": 196,
   "metadata": {
    "ExecuteTime": {
     "end_time": "2019-09-11T11:33:45.533000Z",
     "start_time": "2019-09-11T11:33:45.511000Z"
    }
   },
   "outputs": [],
   "source": [
    "import numpy as np\n",
    "import pandas as pd\n",
    "import matplotlib.pyplot as plt\n",
    "import seaborn as sns\n",
    "%matplotlib inline\n",
    "from scipy import stats # For Using Box-Cox Transform"
   ]
  },
  {
   "cell_type": "markdown",
   "metadata": {},
   "source": [
    "## Reading data from disk"
   ]
  },
  {
   "cell_type": "code",
   "execution_count": 197,
   "metadata": {
    "ExecuteTime": {
     "end_time": "2019-09-11T11:33:45.678000Z",
     "start_time": "2019-09-11T11:33:45.536000Z"
    }
   },
   "outputs": [],
   "source": [
    "demo = pd.read_csv('Demographic data.csv')"
   ]
  },
  {
   "cell_type": "code",
   "execution_count": 198,
   "metadata": {
    "ExecuteTime": {
     "end_time": "2019-09-11T11:33:45.838000Z",
     "start_time": "2019-09-11T11:33:45.680000Z"
    }
   },
   "outputs": [],
   "source": [
    "cb = pd.read_csv('Credit Bureau data.csv')"
   ]
  },
  {
   "cell_type": "markdown",
   "metadata": {},
   "source": [
    "## EDA"
   ]
  },
  {
   "cell_type": "markdown",
   "metadata": {},
   "source": [
    "### Merging two dataframes"
   ]
  },
  {
   "cell_type": "code",
   "execution_count": 199,
   "metadata": {
    "ExecuteTime": {
     "end_time": "2019-09-11T11:33:45.866000Z",
     "start_time": "2019-09-11T11:33:45.858000Z"
    }
   },
   "outputs": [
    {
     "data": {
      "text/plain": [
       "((71295, 12), (71295, 19))"
      ]
     },
     "execution_count": 199,
     "metadata": {},
     "output_type": "execute_result"
    }
   ],
   "source": [
    "# Shape of the dataframes\n",
    "demo.shape, cb.shape"
   ]
  },
  {
   "cell_type": "markdown",
   "metadata": {},
   "source": [
    "There are exactly same rows in both files. Lets check if there is any column we can use to join them."
   ]
  },
  {
   "cell_type": "code",
   "execution_count": 200,
   "metadata": {
    "ExecuteTime": {
     "end_time": "2019-09-11T11:33:45.912000Z",
     "start_time": "2019-09-11T11:33:45.871000Z"
    }
   },
   "outputs": [
    {
     "name": "stdout",
     "output_type": "stream",
     "text": [
      "<class 'pandas.core.frame.DataFrame'>\n",
      "RangeIndex: 71295 entries, 0 to 71294\n",
      "Data columns (total 12 columns):\n",
      "Application ID                                 71295 non-null int64\n",
      "Age                                            71295 non-null int64\n",
      "Gender                                         71293 non-null object\n",
      "Marital Status (at the time of application)    71289 non-null object\n",
      "No of dependents                               71292 non-null float64\n",
      "Income                                         71295 non-null float64\n",
      "Education                                      71176 non-null object\n",
      "Profession                                     71281 non-null object\n",
      "Type of residence                              71287 non-null object\n",
      "No of months in current residence              71295 non-null int64\n",
      "No of months in current company                71295 non-null int64\n",
      "Performance Tag                                69870 non-null float64\n",
      "dtypes: float64(3), int64(4), object(5)\n",
      "memory usage: 6.5+ MB\n"
     ]
    }
   ],
   "source": [
    "# Column details and null info\n",
    "demo.info()"
   ]
  },
  {
   "cell_type": "code",
   "execution_count": 201,
   "metadata": {
    "ExecuteTime": {
     "end_time": "2019-09-11T11:33:45.947000Z",
     "start_time": "2019-09-11T11:33:45.914000Z"
    }
   },
   "outputs": [
    {
     "name": "stdout",
     "output_type": "stream",
     "text": [
      "<class 'pandas.core.frame.DataFrame'>\n",
      "RangeIndex: 71295 entries, 0 to 71294\n",
      "Data columns (total 19 columns):\n",
      "Application ID                                                     71295 non-null int64\n",
      "No of times 90 DPD or worse in last 6 months                       71295 non-null int64\n",
      "No of times 60 DPD or worse in last 6 months                       71295 non-null int64\n",
      "No of times 30 DPD or worse in last 6 months                       71295 non-null int64\n",
      "No of times 90 DPD or worse in last 12 months                      71295 non-null int64\n",
      "No of times 60 DPD or worse in last 12 months                      71295 non-null int64\n",
      "No of times 30 DPD or worse in last 12 months                      71295 non-null int64\n",
      "Avgas CC Utilization in last 12 months                             70237 non-null float64\n",
      "No of trades opened in last 6 months                               71294 non-null float64\n",
      "No of trades opened in last 12 months                              71295 non-null int64\n",
      "No of PL trades opened in last 6 months                            71295 non-null int64\n",
      "No of PL trades opened in last 12 months                           71295 non-null int64\n",
      "No of Inquiries in last 6 months (excluding home & auto loans)     71295 non-null int64\n",
      "No of Inquiries in last 12 months (excluding home & auto loans)    71295 non-null int64\n",
      "Presence of open home loan                                         71023 non-null float64\n",
      "Outstanding Balance                                                71023 non-null float64\n",
      "Total No of Trades                                                 71295 non-null int64\n",
      "Presence of open auto loan                                         71295 non-null int64\n",
      "Performance Tag                                                    69870 non-null float64\n",
      "dtypes: float64(5), int64(14)\n",
      "memory usage: 10.3 MB\n"
     ]
    }
   ],
   "source": [
    " cb.info()"
   ]
  },
  {
   "cell_type": "markdown",
   "metadata": {},
   "source": [
    "`Application ID` is a common column. Lets merge them into one dataframe before further analysis."
   ]
  },
  {
   "cell_type": "code",
   "execution_count": 202,
   "metadata": {
    "ExecuteTime": {
     "end_time": "2019-09-11T11:33:45.969000Z",
     "start_time": "2019-09-11T11:33:45.949000Z"
    }
   },
   "outputs": [
    {
     "data": {
      "text/plain": [
       "(3, 3)"
      ]
     },
     "execution_count": 202,
     "metadata": {},
     "output_type": "execute_result"
    }
   ],
   "source": [
    "# Checking for duplicates in both dataframes\n",
    "demo['Application ID'].duplicated().sum(), cb['Application ID'].duplicated().sum()"
   ]
  },
  {
   "cell_type": "markdown",
   "metadata": {},
   "source": [
    "There are 3 application ids that repeat. Since we have 71k rows we can afford to drop 3."
   ]
  },
  {
   "cell_type": "code",
   "execution_count": 203,
   "metadata": {
    "ExecuteTime": {
     "end_time": "2019-09-11T11:33:45.987000Z",
     "start_time": "2019-09-11T11:33:45.971000Z"
    }
   },
   "outputs": [],
   "source": [
    "# Droppping duplicates on `Application ID` before using it as key for merging.\n",
    "demo = demo.loc[~demo['Application ID'].duplicated(keep='first'),:]"
   ]
  },
  {
   "cell_type": "code",
   "execution_count": 204,
   "metadata": {
    "ExecuteTime": {
     "end_time": "2019-09-11T11:33:46.004000Z",
     "start_time": "2019-09-11T11:33:45.989000Z"
    }
   },
   "outputs": [],
   "source": [
    "# Droppping duplicates on `Application ID` before using it as key for merging.\n",
    "cb = cb.loc[~cb['Application ID'].duplicated(keep='first'),:]"
   ]
  },
  {
   "cell_type": "code",
   "execution_count": 205,
   "metadata": {
    "ExecuteTime": {
     "end_time": "2019-09-11T11:33:46.010000Z",
     "start_time": "2019-09-11T11:33:46.005000Z"
    }
   },
   "outputs": [
    {
     "data": {
      "text/plain": [
       "((71292, 12), (71292, 19))"
      ]
     },
     "execution_count": 205,
     "metadata": {},
     "output_type": "execute_result"
    }
   ],
   "source": [
    "# Shapes before merging\n",
    "demo.shape, cb.shape"
   ]
  },
  {
   "cell_type": "code",
   "execution_count": 206,
   "metadata": {
    "ExecuteTime": {
     "end_time": "2019-09-11T11:33:46.242000Z",
     "start_time": "2019-09-11T11:33:46.011000Z"
    }
   },
   "outputs": [],
   "source": [
    "# Merging on the Application ID column\n",
    "df = pd.merge(demo,cb, on='Application ID', how='inner')"
   ]
  },
  {
   "cell_type": "code",
   "execution_count": 207,
   "metadata": {
    "ExecuteTime": {
     "end_time": "2019-09-11T11:33:46.251000Z",
     "start_time": "2019-09-11T11:33:46.243000Z"
    }
   },
   "outputs": [
    {
     "data": {
      "text/plain": [
       "(71292, 30)"
      ]
     },
     "execution_count": 207,
     "metadata": {},
     "output_type": "execute_result"
    }
   ],
   "source": [
    "# Check the shape after merge\n",
    "df.shape"
   ]
  },
  {
   "cell_type": "markdown",
   "metadata": {},
   "source": [
    "DataFrame shape after merge is as expected."
   ]
  },
  {
   "cell_type": "code",
   "execution_count": 208,
   "metadata": {
    "ExecuteTime": {
     "end_time": "2019-09-11T11:33:46.287000Z",
     "start_time": "2019-09-11T11:33:46.252000Z"
    },
    "scrolled": true
   },
   "outputs": [
    {
     "data": {
      "text/html": [
       "<div>\n",
       "<style scoped>\n",
       "    .dataframe tbody tr th:only-of-type {\n",
       "        vertical-align: middle;\n",
       "    }\n",
       "\n",
       "    .dataframe tbody tr th {\n",
       "        vertical-align: top;\n",
       "    }\n",
       "\n",
       "    .dataframe thead th {\n",
       "        text-align: right;\n",
       "    }\n",
       "</style>\n",
       "<table border=\"1\" class=\"dataframe\">\n",
       "  <thead>\n",
       "    <tr style=\"text-align: right;\">\n",
       "      <th></th>\n",
       "      <th>0</th>\n",
       "      <th>1</th>\n",
       "      <th>2</th>\n",
       "      <th>3</th>\n",
       "      <th>4</th>\n",
       "    </tr>\n",
       "  </thead>\n",
       "  <tbody>\n",
       "    <tr>\n",
       "      <th>Application ID</th>\n",
       "      <td>954457215</td>\n",
       "      <td>432830445</td>\n",
       "      <td>941387308</td>\n",
       "      <td>392161677</td>\n",
       "      <td>182011211</td>\n",
       "    </tr>\n",
       "    <tr>\n",
       "      <th>Age</th>\n",
       "      <td>48</td>\n",
       "      <td>31</td>\n",
       "      <td>32</td>\n",
       "      <td>43</td>\n",
       "      <td>35</td>\n",
       "    </tr>\n",
       "    <tr>\n",
       "      <th>Gender</th>\n",
       "      <td>F</td>\n",
       "      <td>M</td>\n",
       "      <td>M</td>\n",
       "      <td>M</td>\n",
       "      <td>F</td>\n",
       "    </tr>\n",
       "    <tr>\n",
       "      <th>Marital Status (at the time of application)</th>\n",
       "      <td>Married</td>\n",
       "      <td>Married</td>\n",
       "      <td>Single</td>\n",
       "      <td>Married</td>\n",
       "      <td>Married</td>\n",
       "    </tr>\n",
       "    <tr>\n",
       "      <th>No of dependents</th>\n",
       "      <td>2</td>\n",
       "      <td>4</td>\n",
       "      <td>2</td>\n",
       "      <td>1</td>\n",
       "      <td>5</td>\n",
       "    </tr>\n",
       "    <tr>\n",
       "      <th>Income</th>\n",
       "      <td>40</td>\n",
       "      <td>55</td>\n",
       "      <td>46</td>\n",
       "      <td>53</td>\n",
       "      <td>44</td>\n",
       "    </tr>\n",
       "    <tr>\n",
       "      <th>Education</th>\n",
       "      <td>Bachelor</td>\n",
       "      <td>Professional</td>\n",
       "      <td>Bachelor</td>\n",
       "      <td>Bachelor</td>\n",
       "      <td>Professional</td>\n",
       "    </tr>\n",
       "    <tr>\n",
       "      <th>Profession</th>\n",
       "      <td>SAL</td>\n",
       "      <td>SE_PROF</td>\n",
       "      <td>SE_PROF</td>\n",
       "      <td>SE</td>\n",
       "      <td>SAL</td>\n",
       "    </tr>\n",
       "    <tr>\n",
       "      <th>Type of residence</th>\n",
       "      <td>Rented</td>\n",
       "      <td>Rented</td>\n",
       "      <td>Rented</td>\n",
       "      <td>Rented</td>\n",
       "      <td>Rented</td>\n",
       "    </tr>\n",
       "    <tr>\n",
       "      <th>No of months in current residence</th>\n",
       "      <td>113</td>\n",
       "      <td>112</td>\n",
       "      <td>104</td>\n",
       "      <td>94</td>\n",
       "      <td>112</td>\n",
       "    </tr>\n",
       "    <tr>\n",
       "      <th>No of months in current company</th>\n",
       "      <td>56</td>\n",
       "      <td>46</td>\n",
       "      <td>49</td>\n",
       "      <td>53</td>\n",
       "      <td>43</td>\n",
       "    </tr>\n",
       "    <tr>\n",
       "      <th>Performance Tag_x</th>\n",
       "      <td>0</td>\n",
       "      <td>0</td>\n",
       "      <td>0</td>\n",
       "      <td>0</td>\n",
       "      <td>0</td>\n",
       "    </tr>\n",
       "    <tr>\n",
       "      <th>No of times 90 DPD or worse in last 6 months</th>\n",
       "      <td>0</td>\n",
       "      <td>0</td>\n",
       "      <td>0</td>\n",
       "      <td>0</td>\n",
       "      <td>0</td>\n",
       "    </tr>\n",
       "    <tr>\n",
       "      <th>No of times 60 DPD or worse in last 6 months</th>\n",
       "      <td>0</td>\n",
       "      <td>0</td>\n",
       "      <td>0</td>\n",
       "      <td>0</td>\n",
       "      <td>0</td>\n",
       "    </tr>\n",
       "    <tr>\n",
       "      <th>No of times 30 DPD or worse in last 6 months</th>\n",
       "      <td>0</td>\n",
       "      <td>0</td>\n",
       "      <td>0</td>\n",
       "      <td>0</td>\n",
       "      <td>0</td>\n",
       "    </tr>\n",
       "    <tr>\n",
       "      <th>No of times 90 DPD or worse in last 12 months</th>\n",
       "      <td>0</td>\n",
       "      <td>0</td>\n",
       "      <td>0</td>\n",
       "      <td>0</td>\n",
       "      <td>0</td>\n",
       "    </tr>\n",
       "    <tr>\n",
       "      <th>No of times 60 DPD or worse in last 12 months</th>\n",
       "      <td>0</td>\n",
       "      <td>0</td>\n",
       "      <td>0</td>\n",
       "      <td>0</td>\n",
       "      <td>0</td>\n",
       "    </tr>\n",
       "    <tr>\n",
       "      <th>No of times 30 DPD or worse in last 12 months</th>\n",
       "      <td>0</td>\n",
       "      <td>0</td>\n",
       "      <td>0</td>\n",
       "      <td>0</td>\n",
       "      <td>0</td>\n",
       "    </tr>\n",
       "    <tr>\n",
       "      <th>Avgas CC Utilization in last 12 months</th>\n",
       "      <td>4</td>\n",
       "      <td>3</td>\n",
       "      <td>7</td>\n",
       "      <td>11</td>\n",
       "      <td>12</td>\n",
       "    </tr>\n",
       "    <tr>\n",
       "      <th>No of trades opened in last 6 months</th>\n",
       "      <td>1</td>\n",
       "      <td>1</td>\n",
       "      <td>0</td>\n",
       "      <td>1</td>\n",
       "      <td>0</td>\n",
       "    </tr>\n",
       "    <tr>\n",
       "      <th>No of trades opened in last 12 months</th>\n",
       "      <td>2</td>\n",
       "      <td>2</td>\n",
       "      <td>0</td>\n",
       "      <td>1</td>\n",
       "      <td>1</td>\n",
       "    </tr>\n",
       "    <tr>\n",
       "      <th>No of PL trades opened in last 6 months</th>\n",
       "      <td>0</td>\n",
       "      <td>0</td>\n",
       "      <td>0</td>\n",
       "      <td>0</td>\n",
       "      <td>0</td>\n",
       "    </tr>\n",
       "    <tr>\n",
       "      <th>No of PL trades opened in last 12 months</th>\n",
       "      <td>0</td>\n",
       "      <td>0</td>\n",
       "      <td>0</td>\n",
       "      <td>0</td>\n",
       "      <td>0</td>\n",
       "    </tr>\n",
       "    <tr>\n",
       "      <th>No of Inquiries in last 6 months (excluding home &amp; auto loans)</th>\n",
       "      <td>0</td>\n",
       "      <td>0</td>\n",
       "      <td>0</td>\n",
       "      <td>0</td>\n",
       "      <td>0</td>\n",
       "    </tr>\n",
       "    <tr>\n",
       "      <th>No of Inquiries in last 12 months (excluding home &amp; auto loans)</th>\n",
       "      <td>0</td>\n",
       "      <td>0</td>\n",
       "      <td>0</td>\n",
       "      <td>0</td>\n",
       "      <td>0</td>\n",
       "    </tr>\n",
       "    <tr>\n",
       "      <th>Presence of open home loan</th>\n",
       "      <td>1</td>\n",
       "      <td>0</td>\n",
       "      <td>1</td>\n",
       "      <td>1</td>\n",
       "      <td>1</td>\n",
       "    </tr>\n",
       "    <tr>\n",
       "      <th>Outstanding Balance</th>\n",
       "      <td>2.9994e+06</td>\n",
       "      <td>3078</td>\n",
       "      <td>3.00497e+06</td>\n",
       "      <td>3.35537e+06</td>\n",
       "      <td>3.01428e+06</td>\n",
       "    </tr>\n",
       "    <tr>\n",
       "      <th>Total No of Trades</th>\n",
       "      <td>4</td>\n",
       "      <td>5</td>\n",
       "      <td>2</td>\n",
       "      <td>4</td>\n",
       "      <td>4</td>\n",
       "    </tr>\n",
       "    <tr>\n",
       "      <th>Presence of open auto loan</th>\n",
       "      <td>0</td>\n",
       "      <td>0</td>\n",
       "      <td>0</td>\n",
       "      <td>1</td>\n",
       "      <td>0</td>\n",
       "    </tr>\n",
       "    <tr>\n",
       "      <th>Performance Tag_y</th>\n",
       "      <td>0</td>\n",
       "      <td>0</td>\n",
       "      <td>0</td>\n",
       "      <td>0</td>\n",
       "      <td>0</td>\n",
       "    </tr>\n",
       "  </tbody>\n",
       "</table>\n",
       "</div>"
      ],
      "text/plain": [
       "                                                             0             1  \\\n",
       "Application ID                                       954457215     432830445   \n",
       "Age                                                         48            31   \n",
       "Gender                                                       F             M   \n",
       "Marital Status (at the time of application)            Married       Married   \n",
       "No of dependents                                             2             4   \n",
       "Income                                                      40            55   \n",
       "Education                                             Bachelor  Professional   \n",
       "Profession                                                 SAL       SE_PROF   \n",
       "Type of residence                                       Rented        Rented   \n",
       "No of months in current residence                          113           112   \n",
       "No of months in current company                             56            46   \n",
       "Performance Tag_x                                            0             0   \n",
       "No of times 90 DPD or worse in last 6 months                 0             0   \n",
       "No of times 60 DPD or worse in last 6 months                 0             0   \n",
       "No of times 30 DPD or worse in last 6 months                 0             0   \n",
       "No of times 90 DPD or worse in last 12 months                0             0   \n",
       "No of times 60 DPD or worse in last 12 months                0             0   \n",
       "No of times 30 DPD or worse in last 12 months                0             0   \n",
       "Avgas CC Utilization in last 12 months                       4             3   \n",
       "No of trades opened in last 6 months                         1             1   \n",
       "No of trades opened in last 12 months                        2             2   \n",
       "No of PL trades opened in last 6 months                      0             0   \n",
       "No of PL trades opened in last 12 months                     0             0   \n",
       "No of Inquiries in last 6 months (excluding hom...           0             0   \n",
       "No of Inquiries in last 12 months (excluding ho...           0             0   \n",
       "Presence of open home loan                                   1             0   \n",
       "Outstanding Balance                                 2.9994e+06          3078   \n",
       "Total No of Trades                                           4             5   \n",
       "Presence of open auto loan                                   0             0   \n",
       "Performance Tag_y                                            0             0   \n",
       "\n",
       "                                                              2            3  \\\n",
       "Application ID                                        941387308    392161677   \n",
       "Age                                                          32           43   \n",
       "Gender                                                        M            M   \n",
       "Marital Status (at the time of application)              Single      Married   \n",
       "No of dependents                                              2            1   \n",
       "Income                                                       46           53   \n",
       "Education                                              Bachelor     Bachelor   \n",
       "Profession                                              SE_PROF           SE   \n",
       "Type of residence                                        Rented       Rented   \n",
       "No of months in current residence                           104           94   \n",
       "No of months in current company                              49           53   \n",
       "Performance Tag_x                                             0            0   \n",
       "No of times 90 DPD or worse in last 6 months                  0            0   \n",
       "No of times 60 DPD or worse in last 6 months                  0            0   \n",
       "No of times 30 DPD or worse in last 6 months                  0            0   \n",
       "No of times 90 DPD or worse in last 12 months                 0            0   \n",
       "No of times 60 DPD or worse in last 12 months                 0            0   \n",
       "No of times 30 DPD or worse in last 12 months                 0            0   \n",
       "Avgas CC Utilization in last 12 months                        7           11   \n",
       "No of trades opened in last 6 months                          0            1   \n",
       "No of trades opened in last 12 months                         0            1   \n",
       "No of PL trades opened in last 6 months                       0            0   \n",
       "No of PL trades opened in last 12 months                      0            0   \n",
       "No of Inquiries in last 6 months (excluding hom...            0            0   \n",
       "No of Inquiries in last 12 months (excluding ho...            0            0   \n",
       "Presence of open home loan                                    1            1   \n",
       "Outstanding Balance                                 3.00497e+06  3.35537e+06   \n",
       "Total No of Trades                                            2            4   \n",
       "Presence of open auto loan                                    0            1   \n",
       "Performance Tag_y                                             0            0   \n",
       "\n",
       "                                                               4  \n",
       "Application ID                                         182011211  \n",
       "Age                                                           35  \n",
       "Gender                                                         F  \n",
       "Marital Status (at the time of application)              Married  \n",
       "No of dependents                                               5  \n",
       "Income                                                        44  \n",
       "Education                                           Professional  \n",
       "Profession                                                   SAL  \n",
       "Type of residence                                         Rented  \n",
       "No of months in current residence                            112  \n",
       "No of months in current company                               43  \n",
       "Performance Tag_x                                              0  \n",
       "No of times 90 DPD or worse in last 6 months                   0  \n",
       "No of times 60 DPD or worse in last 6 months                   0  \n",
       "No of times 30 DPD or worse in last 6 months                   0  \n",
       "No of times 90 DPD or worse in last 12 months                  0  \n",
       "No of times 60 DPD or worse in last 12 months                  0  \n",
       "No of times 30 DPD or worse in last 12 months                  0  \n",
       "Avgas CC Utilization in last 12 months                        12  \n",
       "No of trades opened in last 6 months                           0  \n",
       "No of trades opened in last 12 months                          1  \n",
       "No of PL trades opened in last 6 months                        0  \n",
       "No of PL trades opened in last 12 months                       0  \n",
       "No of Inquiries in last 6 months (excluding hom...             0  \n",
       "No of Inquiries in last 12 months (excluding ho...             0  \n",
       "Presence of open home loan                                     1  \n",
       "Outstanding Balance                                  3.01428e+06  \n",
       "Total No of Trades                                             4  \n",
       "Presence of open auto loan                                     0  \n",
       "Performance Tag_y                                              0  "
      ]
     },
     "execution_count": 208,
     "metadata": {},
     "output_type": "execute_result"
    }
   ],
   "source": [
    "# Observiong Head of the dataset\n",
    "df.head().T"
   ]
  },
  {
   "cell_type": "markdown",
   "metadata": {},
   "source": [
    "There are two Performance Tag columns from each files. Lets check if they have same data"
   ]
  },
  {
   "cell_type": "code",
   "execution_count": 209,
   "metadata": {
    "ExecuteTime": {
     "end_time": "2019-09-11T11:33:46.309000Z",
     "start_time": "2019-09-11T11:33:46.293000Z"
    }
   },
   "outputs": [
    {
     "data": {
      "text/plain": [
       "69867"
      ]
     },
     "execution_count": 209,
     "metadata": {},
     "output_type": "execute_result"
    }
   ],
   "source": [
    "# Check both performance tag Series are equal\n",
    "(df['Performance Tag_x'] == df['Performance Tag_y']).sum()"
   ]
  },
  {
   "cell_type": "markdown",
   "metadata": {
    "ExecuteTime": {
     "end_time": "2019-08-17T06:32:58.299584Z",
     "start_time": "2019-08-17T06:32:58.294597Z"
    }
   },
   "source": [
    "Among `71292`, `69867` same values, rest are nulls.<br>\n",
    "So all non-null values of the both perfomance column is same.<br>\n",
    "We need only one of them."
   ]
  },
  {
   "cell_type": "code",
   "execution_count": 210,
   "metadata": {
    "ExecuteTime": {
     "end_time": "2019-09-11T11:33:46.409000Z",
     "start_time": "2019-09-11T11:33:46.310000Z"
    }
   },
   "outputs": [],
   "source": [
    "# Dropped the \"performance tag_x\"\n",
    "df.drop('Performance Tag_x', axis=1, inplace=True)"
   ]
  },
  {
   "cell_type": "markdown",
   "metadata": {},
   "source": [
    "### Replacing long cumbersome column names"
   ]
  },
  {
   "cell_type": "code",
   "execution_count": 211,
   "metadata": {
    "ExecuteTime": {
     "end_time": "2019-09-11T11:33:46.431000Z",
     "start_time": "2019-09-11T11:33:46.410000Z"
    },
    "scrolled": true
   },
   "outputs": [
    {
     "data": {
      "text/html": [
       "<div>\n",
       "<style scoped>\n",
       "    .dataframe tbody tr th:only-of-type {\n",
       "        vertical-align: middle;\n",
       "    }\n",
       "\n",
       "    .dataframe tbody tr th {\n",
       "        vertical-align: top;\n",
       "    }\n",
       "\n",
       "    .dataframe thead th {\n",
       "        text-align: right;\n",
       "    }\n",
       "</style>\n",
       "<table border=\"1\" class=\"dataframe\">\n",
       "  <thead>\n",
       "    <tr style=\"text-align: right;\">\n",
       "      <th></th>\n",
       "      <th>0</th>\n",
       "      <th>1</th>\n",
       "      <th>2</th>\n",
       "      <th>3</th>\n",
       "      <th>4</th>\n",
       "    </tr>\n",
       "  </thead>\n",
       "  <tbody>\n",
       "    <tr>\n",
       "      <th>Application ID</th>\n",
       "      <td>954457215</td>\n",
       "      <td>432830445</td>\n",
       "      <td>941387308</td>\n",
       "      <td>392161677</td>\n",
       "      <td>182011211</td>\n",
       "    </tr>\n",
       "    <tr>\n",
       "      <th>Age</th>\n",
       "      <td>48</td>\n",
       "      <td>31</td>\n",
       "      <td>32</td>\n",
       "      <td>43</td>\n",
       "      <td>35</td>\n",
       "    </tr>\n",
       "    <tr>\n",
       "      <th>Gender</th>\n",
       "      <td>F</td>\n",
       "      <td>M</td>\n",
       "      <td>M</td>\n",
       "      <td>M</td>\n",
       "      <td>F</td>\n",
       "    </tr>\n",
       "    <tr>\n",
       "      <th>Marital Status (at the time of application)</th>\n",
       "      <td>Married</td>\n",
       "      <td>Married</td>\n",
       "      <td>Single</td>\n",
       "      <td>Married</td>\n",
       "      <td>Married</td>\n",
       "    </tr>\n",
       "    <tr>\n",
       "      <th>No of dependents</th>\n",
       "      <td>2</td>\n",
       "      <td>4</td>\n",
       "      <td>2</td>\n",
       "      <td>1</td>\n",
       "      <td>5</td>\n",
       "    </tr>\n",
       "    <tr>\n",
       "      <th>Income</th>\n",
       "      <td>40</td>\n",
       "      <td>55</td>\n",
       "      <td>46</td>\n",
       "      <td>53</td>\n",
       "      <td>44</td>\n",
       "    </tr>\n",
       "    <tr>\n",
       "      <th>Education</th>\n",
       "      <td>Bachelor</td>\n",
       "      <td>Professional</td>\n",
       "      <td>Bachelor</td>\n",
       "      <td>Bachelor</td>\n",
       "      <td>Professional</td>\n",
       "    </tr>\n",
       "    <tr>\n",
       "      <th>Profession</th>\n",
       "      <td>SAL</td>\n",
       "      <td>SE_PROF</td>\n",
       "      <td>SE_PROF</td>\n",
       "      <td>SE</td>\n",
       "      <td>SAL</td>\n",
       "    </tr>\n",
       "    <tr>\n",
       "      <th>Type of residence</th>\n",
       "      <td>Rented</td>\n",
       "      <td>Rented</td>\n",
       "      <td>Rented</td>\n",
       "      <td>Rented</td>\n",
       "      <td>Rented</td>\n",
       "    </tr>\n",
       "    <tr>\n",
       "      <th>No of months in current residence</th>\n",
       "      <td>113</td>\n",
       "      <td>112</td>\n",
       "      <td>104</td>\n",
       "      <td>94</td>\n",
       "      <td>112</td>\n",
       "    </tr>\n",
       "    <tr>\n",
       "      <th>No of months in current company</th>\n",
       "      <td>56</td>\n",
       "      <td>46</td>\n",
       "      <td>49</td>\n",
       "      <td>53</td>\n",
       "      <td>43</td>\n",
       "    </tr>\n",
       "    <tr>\n",
       "      <th>No of times 90 DPD or worse in last 6 months</th>\n",
       "      <td>0</td>\n",
       "      <td>0</td>\n",
       "      <td>0</td>\n",
       "      <td>0</td>\n",
       "      <td>0</td>\n",
       "    </tr>\n",
       "    <tr>\n",
       "      <th>No of times 60 DPD or worse in last 6 months</th>\n",
       "      <td>0</td>\n",
       "      <td>0</td>\n",
       "      <td>0</td>\n",
       "      <td>0</td>\n",
       "      <td>0</td>\n",
       "    </tr>\n",
       "    <tr>\n",
       "      <th>No of times 30 DPD or worse in last 6 months</th>\n",
       "      <td>0</td>\n",
       "      <td>0</td>\n",
       "      <td>0</td>\n",
       "      <td>0</td>\n",
       "      <td>0</td>\n",
       "    </tr>\n",
       "    <tr>\n",
       "      <th>No of times 90 DPD or worse in last 12 months</th>\n",
       "      <td>0</td>\n",
       "      <td>0</td>\n",
       "      <td>0</td>\n",
       "      <td>0</td>\n",
       "      <td>0</td>\n",
       "    </tr>\n",
       "    <tr>\n",
       "      <th>No of times 60 DPD or worse in last 12 months</th>\n",
       "      <td>0</td>\n",
       "      <td>0</td>\n",
       "      <td>0</td>\n",
       "      <td>0</td>\n",
       "      <td>0</td>\n",
       "    </tr>\n",
       "    <tr>\n",
       "      <th>No of times 30 DPD or worse in last 12 months</th>\n",
       "      <td>0</td>\n",
       "      <td>0</td>\n",
       "      <td>0</td>\n",
       "      <td>0</td>\n",
       "      <td>0</td>\n",
       "    </tr>\n",
       "    <tr>\n",
       "      <th>Avgas CC Utilization in last 12 months</th>\n",
       "      <td>4</td>\n",
       "      <td>3</td>\n",
       "      <td>7</td>\n",
       "      <td>11</td>\n",
       "      <td>12</td>\n",
       "    </tr>\n",
       "    <tr>\n",
       "      <th>No of trades opened in last 6 months</th>\n",
       "      <td>1</td>\n",
       "      <td>1</td>\n",
       "      <td>0</td>\n",
       "      <td>1</td>\n",
       "      <td>0</td>\n",
       "    </tr>\n",
       "    <tr>\n",
       "      <th>No of trades opened in last 12 months</th>\n",
       "      <td>2</td>\n",
       "      <td>2</td>\n",
       "      <td>0</td>\n",
       "      <td>1</td>\n",
       "      <td>1</td>\n",
       "    </tr>\n",
       "    <tr>\n",
       "      <th>No of PL trades opened in last 6 months</th>\n",
       "      <td>0</td>\n",
       "      <td>0</td>\n",
       "      <td>0</td>\n",
       "      <td>0</td>\n",
       "      <td>0</td>\n",
       "    </tr>\n",
       "    <tr>\n",
       "      <th>No of PL trades opened in last 12 months</th>\n",
       "      <td>0</td>\n",
       "      <td>0</td>\n",
       "      <td>0</td>\n",
       "      <td>0</td>\n",
       "      <td>0</td>\n",
       "    </tr>\n",
       "    <tr>\n",
       "      <th>No of Inquiries in last 6 months (excluding home &amp; auto loans)</th>\n",
       "      <td>0</td>\n",
       "      <td>0</td>\n",
       "      <td>0</td>\n",
       "      <td>0</td>\n",
       "      <td>0</td>\n",
       "    </tr>\n",
       "    <tr>\n",
       "      <th>No of Inquiries in last 12 months (excluding home &amp; auto loans)</th>\n",
       "      <td>0</td>\n",
       "      <td>0</td>\n",
       "      <td>0</td>\n",
       "      <td>0</td>\n",
       "      <td>0</td>\n",
       "    </tr>\n",
       "    <tr>\n",
       "      <th>Presence of open home loan</th>\n",
       "      <td>1</td>\n",
       "      <td>0</td>\n",
       "      <td>1</td>\n",
       "      <td>1</td>\n",
       "      <td>1</td>\n",
       "    </tr>\n",
       "    <tr>\n",
       "      <th>Outstanding Balance</th>\n",
       "      <td>2.9994e+06</td>\n",
       "      <td>3078</td>\n",
       "      <td>3.00497e+06</td>\n",
       "      <td>3.35537e+06</td>\n",
       "      <td>3.01428e+06</td>\n",
       "    </tr>\n",
       "    <tr>\n",
       "      <th>Total No of Trades</th>\n",
       "      <td>4</td>\n",
       "      <td>5</td>\n",
       "      <td>2</td>\n",
       "      <td>4</td>\n",
       "      <td>4</td>\n",
       "    </tr>\n",
       "    <tr>\n",
       "      <th>Presence of open auto loan</th>\n",
       "      <td>0</td>\n",
       "      <td>0</td>\n",
       "      <td>0</td>\n",
       "      <td>1</td>\n",
       "      <td>0</td>\n",
       "    </tr>\n",
       "    <tr>\n",
       "      <th>Performance Tag_y</th>\n",
       "      <td>0</td>\n",
       "      <td>0</td>\n",
       "      <td>0</td>\n",
       "      <td>0</td>\n",
       "      <td>0</td>\n",
       "    </tr>\n",
       "  </tbody>\n",
       "</table>\n",
       "</div>"
      ],
      "text/plain": [
       "                                                             0             1  \\\n",
       "Application ID                                       954457215     432830445   \n",
       "Age                                                         48            31   \n",
       "Gender                                                       F             M   \n",
       "Marital Status (at the time of application)            Married       Married   \n",
       "No of dependents                                             2             4   \n",
       "Income                                                      40            55   \n",
       "Education                                             Bachelor  Professional   \n",
       "Profession                                                 SAL       SE_PROF   \n",
       "Type of residence                                       Rented        Rented   \n",
       "No of months in current residence                          113           112   \n",
       "No of months in current company                             56            46   \n",
       "No of times 90 DPD or worse in last 6 months                 0             0   \n",
       "No of times 60 DPD or worse in last 6 months                 0             0   \n",
       "No of times 30 DPD or worse in last 6 months                 0             0   \n",
       "No of times 90 DPD or worse in last 12 months                0             0   \n",
       "No of times 60 DPD or worse in last 12 months                0             0   \n",
       "No of times 30 DPD or worse in last 12 months                0             0   \n",
       "Avgas CC Utilization in last 12 months                       4             3   \n",
       "No of trades opened in last 6 months                         1             1   \n",
       "No of trades opened in last 12 months                        2             2   \n",
       "No of PL trades opened in last 6 months                      0             0   \n",
       "No of PL trades opened in last 12 months                     0             0   \n",
       "No of Inquiries in last 6 months (excluding hom...           0             0   \n",
       "No of Inquiries in last 12 months (excluding ho...           0             0   \n",
       "Presence of open home loan                                   1             0   \n",
       "Outstanding Balance                                 2.9994e+06          3078   \n",
       "Total No of Trades                                           4             5   \n",
       "Presence of open auto loan                                   0             0   \n",
       "Performance Tag_y                                            0             0   \n",
       "\n",
       "                                                              2            3  \\\n",
       "Application ID                                        941387308    392161677   \n",
       "Age                                                          32           43   \n",
       "Gender                                                        M            M   \n",
       "Marital Status (at the time of application)              Single      Married   \n",
       "No of dependents                                              2            1   \n",
       "Income                                                       46           53   \n",
       "Education                                              Bachelor     Bachelor   \n",
       "Profession                                              SE_PROF           SE   \n",
       "Type of residence                                        Rented       Rented   \n",
       "No of months in current residence                           104           94   \n",
       "No of months in current company                              49           53   \n",
       "No of times 90 DPD or worse in last 6 months                  0            0   \n",
       "No of times 60 DPD or worse in last 6 months                  0            0   \n",
       "No of times 30 DPD or worse in last 6 months                  0            0   \n",
       "No of times 90 DPD or worse in last 12 months                 0            0   \n",
       "No of times 60 DPD or worse in last 12 months                 0            0   \n",
       "No of times 30 DPD or worse in last 12 months                 0            0   \n",
       "Avgas CC Utilization in last 12 months                        7           11   \n",
       "No of trades opened in last 6 months                          0            1   \n",
       "No of trades opened in last 12 months                         0            1   \n",
       "No of PL trades opened in last 6 months                       0            0   \n",
       "No of PL trades opened in last 12 months                      0            0   \n",
       "No of Inquiries in last 6 months (excluding hom...            0            0   \n",
       "No of Inquiries in last 12 months (excluding ho...            0            0   \n",
       "Presence of open home loan                                    1            1   \n",
       "Outstanding Balance                                 3.00497e+06  3.35537e+06   \n",
       "Total No of Trades                                            2            4   \n",
       "Presence of open auto loan                                    0            1   \n",
       "Performance Tag_y                                             0            0   \n",
       "\n",
       "                                                               4  \n",
       "Application ID                                         182011211  \n",
       "Age                                                           35  \n",
       "Gender                                                         F  \n",
       "Marital Status (at the time of application)              Married  \n",
       "No of dependents                                               5  \n",
       "Income                                                        44  \n",
       "Education                                           Professional  \n",
       "Profession                                                   SAL  \n",
       "Type of residence                                         Rented  \n",
       "No of months in current residence                            112  \n",
       "No of months in current company                               43  \n",
       "No of times 90 DPD or worse in last 6 months                   0  \n",
       "No of times 60 DPD or worse in last 6 months                   0  \n",
       "No of times 30 DPD or worse in last 6 months                   0  \n",
       "No of times 90 DPD or worse in last 12 months                  0  \n",
       "No of times 60 DPD or worse in last 12 months                  0  \n",
       "No of times 30 DPD or worse in last 12 months                  0  \n",
       "Avgas CC Utilization in last 12 months                        12  \n",
       "No of trades opened in last 6 months                           0  \n",
       "No of trades opened in last 12 months                          1  \n",
       "No of PL trades opened in last 6 months                        0  \n",
       "No of PL trades opened in last 12 months                       0  \n",
       "No of Inquiries in last 6 months (excluding hom...             0  \n",
       "No of Inquiries in last 12 months (excluding ho...             0  \n",
       "Presence of open home loan                                     1  \n",
       "Outstanding Balance                                  3.01428e+06  \n",
       "Total No of Trades                                             4  \n",
       "Presence of open auto loan                                     0  \n",
       "Performance Tag_y                                              0  "
      ]
     },
     "execution_count": 211,
     "metadata": {},
     "output_type": "execute_result"
    }
   ],
   "source": [
    "# Observing the dataframe\n",
    "df.head().T"
   ]
  },
  {
   "cell_type": "code",
   "execution_count": 212,
   "metadata": {
    "ExecuteTime": {
     "end_time": "2019-09-11T11:33:46.452000Z",
     "start_time": "2019-09-11T11:33:46.433000Z"
    }
   },
   "outputs": [
    {
     "data": {
      "text/plain": [
       "Index(['Application ID', 'Age', 'Gender',\n",
       "       'Marital Status (at the time of application)', 'No of dependents',\n",
       "       'Income', 'Education', 'Profession ', 'Type of residence',\n",
       "       'No of months in current residence', 'No of months in current company',\n",
       "       'No of times 90 DPD or worse in last 6 months',\n",
       "       'No of times 60 DPD or worse in last 6 months',\n",
       "       'No of times 30 DPD or worse in last 6 months',\n",
       "       'No of times 90 DPD or worse in last 12 months',\n",
       "       'No of times 60 DPD or worse in last 12 months',\n",
       "       'No of times 30 DPD or worse in last 12 months',\n",
       "       'Avgas CC Utilization in last 12 months',\n",
       "       'No of trades opened in last 6 months',\n",
       "       'No of trades opened in last 12 months',\n",
       "       'No of PL trades opened in last 6 months',\n",
       "       'No of PL trades opened in last 12 months',\n",
       "       'No of Inquiries in last 6 months (excluding home & auto loans)',\n",
       "       'No of Inquiries in last 12 months (excluding home & auto loans)',\n",
       "       'Presence of open home loan', 'Outstanding Balance',\n",
       "       'Total No of Trades', 'Presence of open auto loan',\n",
       "       'Performance Tag_y'],\n",
       "      dtype='object')"
      ]
     },
     "execution_count": 212,
     "metadata": {},
     "output_type": "execute_result"
    }
   ],
   "source": [
    "df.columns"
   ]
  },
  {
   "cell_type": "code",
   "execution_count": 213,
   "metadata": {
    "ExecuteTime": {
     "end_time": "2019-09-11T11:33:46.475000Z",
     "start_time": "2019-09-11T11:33:46.455000Z"
    }
   },
   "outputs": [],
   "source": [
    "df.columns = ['id', 'age', 'gender',\n",
    "       'marital', 'no_of_dependents',\n",
    "       'income', 'education', 'profession', 'residence_type',\n",
    "       'months_curr_residence', 'months_curr_company',\n",
    "       '90_dpd_6m',\n",
    "       '60_dpd_6m', \n",
    "       '30_dpd_6m',\n",
    "       '90_dpd_12m',\n",
    "       '60_dpd_12m',\n",
    "       '30_dpd_12m',\n",
    "       'cc_util',\n",
    "       'trades_6m',\n",
    "       'trades_12m',\n",
    "       'pl_trades_6m',\n",
    "       'pl_trades_12m',\n",
    "       'inquiries_6m',\n",
    "       'inquiries_12m',\n",
    "       'open_home_loan', 'outstanding_bal',\n",
    "       'total_trades', 'open_auto_loan', 'performance']"
   ]
  },
  {
   "cell_type": "markdown",
   "metadata": {},
   "source": [
    "### Univariate Analysis, WOE & IV analysis "
   ]
  },
  {
   "cell_type": "markdown",
   "metadata": {},
   "source": [
    "#### Function for WOE & IV analysis"
   ]
  },
  {
   "cell_type": "code",
   "execution_count": 215,
   "metadata": {
    "ExecuteTime": {
     "end_time": "2019-09-11T11:33:46.508000Z",
     "start_time": "2019-09-11T11:33:46.497000Z"
    }
   },
   "outputs": [],
   "source": [
    "def woe_iv(col, target,mybins=[], categorical=False):\n",
    "    \n",
    "    if categorical==False:\n",
    "    \n",
    "        cut = pd.cut(df[col], bins=mybins, include_lowest=True)\n",
    "      \n",
    "    else:\n",
    "        \n",
    "        cut = df[col]\n",
    "    \n",
    "    \n",
    "    cut.name = col+'-bin'\n",
    "    x = pd.concat([df[target], cut], axis=1)\n",
    "    x = x.reset_index().pivot_table(columns=target, index=col+'-bin', dropna=False,\n",
    "                                   values='index', aggfunc='count', fill_value=0).reset_index()\n",
    "    \n",
    "    x.columns = [col+'-bin', 'non_event', 'event']\n",
    "    \n",
    "    x.loc[(x['event']==0),'event'] = 0.5\n",
    "    x.loc[(x['non_event']==0),'non_event'] = 0.5\n",
    "    \n",
    "    x['count'] = x['non_event']+x['event']\n",
    "    \n",
    "    tot_event = x['event'].sum()\n",
    "    tot_non_event = x['non_event'].sum()\n",
    "    \n",
    "    x['event %'] = (x['event'])*100/tot_event\n",
    "    \n",
    "    x['non_event %'] = x['non_event']*100/tot_non_event\n",
    "    \n",
    "    x['WOE'] = np.log((x['event %']/x['non_event %']))\n",
    "    \n",
    "    x['event%-non_event%'] = x['event %'] - x['non_event %']\n",
    "    \n",
    "    x['IV'] = x['event%-non_event%']*x['WOE']\n",
    "    \n",
    "    print('IV is',round(x['IV'].sum(), 3))\n",
    "    \n",
    "    return x"
   ]
  },
  {
   "cell_type": "markdown",
   "metadata": {},
   "source": [
    "#### Age"
   ]
  },
  {
   "cell_type": "code",
   "execution_count": 216,
   "metadata": {
    "ExecuteTime": {
     "end_time": "2019-09-11T11:33:46.531000Z",
     "start_time": "2019-09-11T11:33:46.510000Z"
    }
   },
   "outputs": [
    {
     "data": {
      "text/plain": [
       "0"
      ]
     },
     "execution_count": 216,
     "metadata": {},
     "output_type": "execute_result"
    }
   ],
   "source": [
    "df.age.isna().sum()"
   ]
  },
  {
   "cell_type": "code",
   "execution_count": 217,
   "metadata": {
    "ExecuteTime": {
     "end_time": "2019-09-11T11:33:46.548000Z",
     "start_time": "2019-09-11T11:33:46.532000Z"
    }
   },
   "outputs": [
    {
     "data": {
      "text/plain": [
       "count    71292.000000\n",
       "mean        44.943037\n",
       "std          9.939266\n",
       "min         -3.000000\n",
       "25%         37.000000\n",
       "50%         45.000000\n",
       "75%         53.000000\n",
       "max         65.000000\n",
       "Name: age, dtype: float64"
      ]
     },
     "execution_count": 217,
     "metadata": {},
     "output_type": "execute_result"
    }
   ],
   "source": [
    "df.age.describe()"
   ]
  },
  {
   "cell_type": "code",
   "execution_count": 218,
   "metadata": {
    "ExecuteTime": {
     "end_time": "2019-09-11T11:33:46.869000Z",
     "start_time": "2019-09-11T11:33:46.551000Z"
    }
   },
   "outputs": [
    {
     "data": {
      "text/plain": [
       "<matplotlib.axes._subplots.AxesSubplot at 0xfe7cc50>"
      ]
     },
     "execution_count": 218,
     "metadata": {},
     "output_type": "execute_result"
    },
    {
     "data": {
      "image/png": "[encoded data removed]",
      "text/plain": [
       "<Figure size 432x288 with 1 Axes>"
      ]
     },
     "metadata": {
      "needs_background": "light"
     },
     "output_type": "display_data"
    }
   ],
   "source": [
    "sns.distplot(df.age)"
   ]
  },
  {
   "cell_type": "code",
   "execution_count": 219,
   "metadata": {
    "ExecuteTime": {
     "end_time": "2019-09-11T11:33:47.095000Z",
     "start_time": "2019-09-11T11:33:46.877000Z"
    }
   },
   "outputs": [
    {
     "data": {
      "image/png": "[encoded data removed]",
      "text/plain": [
       "<Figure size 432x288 with 1 Axes>"
      ]
     },
     "metadata": {
      "needs_background": "light"
     },
     "output_type": "display_data"
    }
   ],
   "source": [
    "df.boxplot(column='age', by='performance');"
   ]
  },
  {
   "cell_type": "markdown",
   "metadata": {},
   "source": [
    "Observations:<br>\n",
    "<ol>\n",
    "   <li>Values below 0 are present</li>\n",
    "   <li>Needs outlier treatment</li>\n",
    "   <li>It can be left as continuous but binning could help. Will decide based on WOE & IV </li>\n",
    "</ol>"
   ]
  },
  {
   "cell_type": "code",
   "execution_count": 220,
   "metadata": {
    "ExecuteTime": {
     "end_time": "2019-09-11T11:33:47.118000Z",
     "start_time": "2019-09-11T11:33:47.100000Z"
    }
   },
   "outputs": [],
   "source": [
    "# Fixing point 1\n",
    "df.loc[df['age']<0,'age'] = df['age'].median()"
   ]
  },
  {
   "cell_type": "code",
   "execution_count": 221,
   "metadata": {
    "ExecuteTime": {
     "end_time": "2019-09-11T11:33:47.134000Z",
     "start_time": "2019-09-11T11:33:47.119000Z"
    }
   },
   "outputs": [],
   "source": [
    "# Fixing point 2\n",
    "df.loc[df['age']<20, 'age'] = 20"
   ]
  },
  {
   "cell_type": "code",
   "execution_count": 222,
   "metadata": {
    "ExecuteTime": {
     "end_time": "2019-09-11T11:33:47.147000Z",
     "start_time": "2019-09-11T11:33:47.136000Z"
    }
   },
   "outputs": [],
   "source": [
    "# Point 3 - WOE & IV analysis\n",
    "age_bins = range(20, 70, 5)"
   ]
  },
  {
   "cell_type": "code",
   "execution_count": 223,
   "metadata": {
    "ExecuteTime": {
     "end_time": "2019-09-11T11:33:47.377000Z",
     "start_time": "2019-09-11T11:33:47.148000Z"
    }
   },
   "outputs": [
    {
     "name": "stdout",
     "output_type": "stream",
     "text": [
      "IV is 0.647\n"
     ]
    },
    {
     "data": {
      "text/html": [
       "<div>\n",
       "<style scoped>\n",
       "    .dataframe tbody tr th:only-of-type {\n",
       "        vertical-align: middle;\n",
       "    }\n",
       "\n",
       "    .dataframe tbody tr th {\n",
       "        vertical-align: top;\n",
       "    }\n",
       "\n",
       "    .dataframe thead th {\n",
       "        text-align: right;\n",
       "    }\n",
       "</style>\n",
       "<table border=\"1\" class=\"dataframe\">\n",
       "  <thead>\n",
       "    <tr style=\"text-align: right;\">\n",
       "      <th></th>\n",
       "      <th>age-bin</th>\n",
       "      <th>non_event</th>\n",
       "      <th>event</th>\n",
       "      <th>count</th>\n",
       "      <th>event %</th>\n",
       "      <th>non_event %</th>\n",
       "      <th>WOE</th>\n",
       "      <th>event%-non_event%</th>\n",
       "      <th>IV</th>\n",
       "    </tr>\n",
       "  </thead>\n",
       "  <tbody>\n",
       "    <tr>\n",
       "      <th>0</th>\n",
       "      <td>(19.999, 25.0]</td>\n",
       "      <td>410.0</td>\n",
       "      <td>9.0</td>\n",
       "      <td>419.0</td>\n",
       "      <td>0.305395</td>\n",
       "      <td>0.612672</td>\n",
       "      <td>-0.696222</td>\n",
       "      <td>-0.307277</td>\n",
       "      <td>0.213933</td>\n",
       "    </tr>\n",
       "    <tr>\n",
       "      <th>1</th>\n",
       "      <td>(25.0, 30.0]</td>\n",
       "      <td>5296.0</td>\n",
       "      <td>232.0</td>\n",
       "      <td>5528.0</td>\n",
       "      <td>7.872413</td>\n",
       "      <td>7.913927</td>\n",
       "      <td>-0.005260</td>\n",
       "      <td>-0.041514</td>\n",
       "      <td>0.000218</td>\n",
       "    </tr>\n",
       "    <tr>\n",
       "      <th>2</th>\n",
       "      <td>(30.0, 35.0]</td>\n",
       "      <td>6625.0</td>\n",
       "      <td>302.0</td>\n",
       "      <td>6927.0</td>\n",
       "      <td>10.247710</td>\n",
       "      <td>9.899880</td>\n",
       "      <td>0.034532</td>\n",
       "      <td>0.347829</td>\n",
       "      <td>0.012011</td>\n",
       "    </tr>\n",
       "    <tr>\n",
       "      <th>3</th>\n",
       "      <td>(35.0, 40.0]</td>\n",
       "      <td>11233.0</td>\n",
       "      <td>528.0</td>\n",
       "      <td>11761.0</td>\n",
       "      <td>17.916525</td>\n",
       "      <td>16.785714</td>\n",
       "      <td>0.065195</td>\n",
       "      <td>1.130811</td>\n",
       "      <td>0.073724</td>\n",
       "    </tr>\n",
       "    <tr>\n",
       "      <th>4</th>\n",
       "      <td>(40.0, 45.0]</td>\n",
       "      <td>11051.0</td>\n",
       "      <td>480.0</td>\n",
       "      <td>11531.0</td>\n",
       "      <td>16.287750</td>\n",
       "      <td>16.513748</td>\n",
       "      <td>-0.013780</td>\n",
       "      <td>-0.225998</td>\n",
       "      <td>0.003114</td>\n",
       "    </tr>\n",
       "    <tr>\n",
       "      <th>5</th>\n",
       "      <td>(45.0, 50.0]</td>\n",
       "      <td>10864.0</td>\n",
       "      <td>478.0</td>\n",
       "      <td>11342.0</td>\n",
       "      <td>16.219885</td>\n",
       "      <td>16.234310</td>\n",
       "      <td>-0.000889</td>\n",
       "      <td>-0.014425</td>\n",
       "      <td>0.000013</td>\n",
       "    </tr>\n",
       "    <tr>\n",
       "      <th>6</th>\n",
       "      <td>(50.0, 55.0]</td>\n",
       "      <td>10856.0</td>\n",
       "      <td>424.0</td>\n",
       "      <td>11280.0</td>\n",
       "      <td>14.387513</td>\n",
       "      <td>16.222355</td>\n",
       "      <td>-0.120030</td>\n",
       "      <td>-1.834842</td>\n",
       "      <td>0.220235</td>\n",
       "    </tr>\n",
       "    <tr>\n",
       "      <th>7</th>\n",
       "      <td>(55.0, 60.0]</td>\n",
       "      <td>5960.0</td>\n",
       "      <td>294.0</td>\n",
       "      <td>6254.0</td>\n",
       "      <td>9.976247</td>\n",
       "      <td>8.906157</td>\n",
       "      <td>0.113464</td>\n",
       "      <td>1.070090</td>\n",
       "      <td>0.121417</td>\n",
       "    </tr>\n",
       "    <tr>\n",
       "      <th>8</th>\n",
       "      <td>(60.0, 65.0]</td>\n",
       "      <td>4625.0</td>\n",
       "      <td>200.0</td>\n",
       "      <td>4825.0</td>\n",
       "      <td>6.786563</td>\n",
       "      <td>6.911237</td>\n",
       "      <td>-0.018204</td>\n",
       "      <td>-0.124675</td>\n",
       "      <td>0.002270</td>\n",
       "    </tr>\n",
       "  </tbody>\n",
       "</table>\n",
       "</div>"
      ],
      "text/plain": [
       "          age-bin  non_event  event    count    event %  non_event %  \\\n",
       "0  (19.999, 25.0]      410.0    9.0    419.0   0.305395     0.612672   \n",
       "1    (25.0, 30.0]     5296.0  232.0   5528.0   7.872413     7.913927   \n",
       "2    (30.0, 35.0]     6625.0  302.0   6927.0  10.247710     9.899880   \n",
       "3    (35.0, 40.0]    11233.0  528.0  11761.0  17.916525    16.785714   \n",
       "4    (40.0, 45.0]    11051.0  480.0  11531.0  16.287750    16.513748   \n",
       "5    (45.0, 50.0]    10864.0  478.0  11342.0  16.219885    16.234310   \n",
       "6    (50.0, 55.0]    10856.0  424.0  11280.0  14.387513    16.222355   \n",
       "7    (55.0, 60.0]     5960.0  294.0   6254.0   9.976247     8.906157   \n",
       "8    (60.0, 65.0]     4625.0  200.0   4825.0   6.786563     6.911237   \n",
       "\n",
       "        WOE  event%-non_event%        IV  \n",
       "0 -0.696222          -0.307277  0.213933  \n",
       "1 -0.005260          -0.041514  0.000218  \n",
       "2  0.034532           0.347829  0.012011  \n",
       "3  0.065195           1.130811  0.073724  \n",
       "4 -0.013780          -0.225998  0.003114  \n",
       "5 -0.000889          -0.014425  0.000013  \n",
       "6 -0.120030          -1.834842  0.220235  \n",
       "7  0.113464           1.070090  0.121417  \n",
       "8 -0.018204          -0.124675  0.002270  "
      ]
     },
     "execution_count": 223,
     "metadata": {},
     "output_type": "execute_result"
    }
   ],
   "source": [
    "# Fine Binning\n",
    "woe_iv(col='age', mybins=age_bins, target='performance')"
   ]
  },
  {
   "cell_type": "markdown",
   "metadata": {},
   "source": [
    "<b>Information Value\tVariable Predictiveness</b><br>\n",
    "Less than `0.02`\tNot useful for prediction<br>\n",
    "`0.02` to `0.1`\tWeak predictive Power<br>\n",
    "`0.1` to `0.3`\tMedium predictive Power<br>\n",
    "`0.3` to `0.5`\tStrong predictive Power<br>\n",
    "`>0.5`\tSuspicious Predictive Power"
   ]
  },
  {
   "cell_type": "markdown",
   "metadata": {},
   "source": [
    "OK, It is not possible for this feature to use WOE values as we can't make it monotonic."
   ]
  },
  {
   "cell_type": "markdown",
   "metadata": {},
   "source": [
    "#### gender"
   ]
  },
  {
   "cell_type": "code",
   "execution_count": 224,
   "metadata": {
    "ExecuteTime": {
     "end_time": "2019-09-11T11:33:47.389000Z",
     "start_time": "2019-09-11T11:33:47.379000Z"
    }
   },
   "outputs": [
    {
     "data": {
      "text/plain": [
       "2"
      ]
     },
     "execution_count": 224,
     "metadata": {},
     "output_type": "execute_result"
    }
   ],
   "source": [
    "df.gender.isna().sum()"
   ]
  },
  {
   "cell_type": "code",
   "execution_count": 225,
   "metadata": {
    "ExecuteTime": {
     "end_time": "2019-09-11T11:33:47.405000Z",
     "start_time": "2019-09-11T11:33:47.390000Z"
    }
   },
   "outputs": [],
   "source": [
    "def catg_analysis(col):\n",
    "    X = df.pivot_table(index=col, columns='performance',values='id', aggfunc='count', fill_value=0)\n",
    "    X['delinq%'] = round(X[1.0]*100/(X[1.0]+X[0.0]), 3)\n",
    "    return X"
   ]
  },
  {
   "cell_type": "code",
   "execution_count": 226,
   "metadata": {
    "ExecuteTime": {
     "end_time": "2019-09-11T11:33:47.453000Z",
     "start_time": "2019-09-11T11:33:47.409000Z"
    }
   },
   "outputs": [
    {
     "data": {
      "text/html": [
       "<div>\n",
       "<style scoped>\n",
       "    .dataframe tbody tr th:only-of-type {\n",
       "        vertical-align: middle;\n",
       "    }\n",
       "\n",
       "    .dataframe tbody tr th {\n",
       "        vertical-align: top;\n",
       "    }\n",
       "\n",
       "    .dataframe thead th {\n",
       "        text-align: right;\n",
       "    }\n",
       "</style>\n",
       "<table border=\"1\" class=\"dataframe\">\n",
       "  <thead>\n",
       "    <tr style=\"text-align: right;\">\n",
       "      <th>performance</th>\n",
       "      <th>0.0</th>\n",
       "      <th>1.0</th>\n",
       "      <th>delinq%</th>\n",
       "    </tr>\n",
       "    <tr>\n",
       "      <th>gender</th>\n",
       "      <th></th>\n",
       "      <th></th>\n",
       "      <th></th>\n",
       "    </tr>\n",
       "  </thead>\n",
       "  <tbody>\n",
       "    <tr>\n",
       "      <th>F</th>\n",
       "      <td>15788</td>\n",
       "      <td>718</td>\n",
       "      <td>4.350</td>\n",
       "    </tr>\n",
       "    <tr>\n",
       "      <th>M</th>\n",
       "      <td>51130</td>\n",
       "      <td>2229</td>\n",
       "      <td>4.177</td>\n",
       "    </tr>\n",
       "  </tbody>\n",
       "</table>\n",
       "</div>"
      ],
      "text/plain": [
       "performance    0.0   1.0  delinq%\n",
       "gender                           \n",
       "F            15788   718    4.350\n",
       "M            51130  2229    4.177"
      ]
     },
     "execution_count": 226,
     "metadata": {},
     "output_type": "execute_result"
    }
   ],
   "source": [
    "catg_analysis('gender')"
   ]
  },
  {
   "cell_type": "markdown",
   "metadata": {
    "ExecuteTime": {
     "end_time": "2019-08-17T09:03:36.831264Z",
     "start_time": "2019-08-17T09:03:36.826250Z"
    }
   },
   "source": [
    "Observations:<br>\n",
    "<ol>\n",
    "    <li>Need to impute missing values</li>\n",
    "    <li>Needs a Binary map M,F to 0,1</li>\n",
    "    <li>Seems insignificant feature. It will get filtered later while model building</li>\n",
    "</ol>"
   ]
  },
  {
   "cell_type": "code",
   "execution_count": 227,
   "metadata": {
    "ExecuteTime": {
     "end_time": "2019-09-11T11:33:47.470000Z",
     "start_time": "2019-09-11T11:33:47.457000Z"
    }
   },
   "outputs": [],
   "source": [
    "df.loc[df['gender'].isna(), 'gender'] = 'M'"
   ]
  },
  {
   "cell_type": "code",
   "execution_count": 228,
   "metadata": {
    "ExecuteTime": {
     "end_time": "2019-09-11T11:33:47.487000Z",
     "start_time": "2019-09-11T11:33:47.474000Z"
    }
   },
   "outputs": [],
   "source": [
    "df['gender'] = df['gender'].map({'M':1, 'F':0})"
   ]
  },
  {
   "cell_type": "markdown",
   "metadata": {},
   "source": [
    "#### marital"
   ]
  },
  {
   "cell_type": "code",
   "execution_count": 229,
   "metadata": {
    "ExecuteTime": {
     "end_time": "2019-09-11T11:33:47.503000Z",
     "start_time": "2019-09-11T11:33:47.492000Z"
    }
   },
   "outputs": [
    {
     "data": {
      "text/plain": [
       "6"
      ]
     },
     "execution_count": 229,
     "metadata": {},
     "output_type": "execute_result"
    }
   ],
   "source": [
    "df['marital'].isna().sum()"
   ]
  },
  {
   "cell_type": "code",
   "execution_count": 230,
   "metadata": {
    "ExecuteTime": {
     "end_time": "2019-09-11T11:33:47.626000Z",
     "start_time": "2019-09-11T11:33:47.507000Z"
    }
   },
   "outputs": [
    {
     "data": {
      "text/html": [
       "<div>\n",
       "<style scoped>\n",
       "    .dataframe tbody tr th:only-of-type {\n",
       "        vertical-align: middle;\n",
       "    }\n",
       "\n",
       "    .dataframe tbody tr th {\n",
       "        vertical-align: top;\n",
       "    }\n",
       "\n",
       "    .dataframe thead th {\n",
       "        text-align: right;\n",
       "    }\n",
       "</style>\n",
       "<table border=\"1\" class=\"dataframe\">\n",
       "  <thead>\n",
       "    <tr style=\"text-align: right;\">\n",
       "      <th>performance</th>\n",
       "      <th>0.0</th>\n",
       "      <th>1.0</th>\n",
       "      <th>delinq%</th>\n",
       "    </tr>\n",
       "    <tr>\n",
       "      <th>marital</th>\n",
       "      <th></th>\n",
       "      <th></th>\n",
       "      <th></th>\n",
       "    </tr>\n",
       "  </thead>\n",
       "  <tbody>\n",
       "    <tr>\n",
       "      <th>Married</th>\n",
       "      <td>57042</td>\n",
       "      <td>2502</td>\n",
       "      <td>4.202</td>\n",
       "    </tr>\n",
       "    <tr>\n",
       "      <th>Single</th>\n",
       "      <td>9872</td>\n",
       "      <td>445</td>\n",
       "      <td>4.313</td>\n",
       "    </tr>\n",
       "  </tbody>\n",
       "</table>\n",
       "</div>"
      ],
      "text/plain": [
       "performance    0.0   1.0  delinq%\n",
       "marital                          \n",
       "Married      57042  2502    4.202\n",
       "Single        9872   445    4.313"
      ]
     },
     "execution_count": 230,
     "metadata": {},
     "output_type": "execute_result"
    }
   ],
   "source": [
    "catg_analysis(\"marital\")"
   ]
  },
  {
   "cell_type": "markdown",
   "metadata": {},
   "source": [
    "Observations:<br>\n",
    "<ol>\n",
    "    <li>Need to impute missing values</li>\n",
    "    <li>Needs a Binary map Married,Single to 0,1</li>\n",
    "    <li>Seems insignificant feature. It will get filtered later while model building</li>\n",
    "</ol>"
   ]
  },
  {
   "cell_type": "code",
   "execution_count": 231,
   "metadata": {
    "ExecuteTime": {
     "end_time": "2019-09-11T11:33:47.637000Z",
     "start_time": "2019-09-11T11:33:47.628000Z"
    }
   },
   "outputs": [],
   "source": [
    "# Using mode to fillna\n",
    "df['marital'] = df['marital'].fillna(value='Married')"
   ]
  },
  {
   "cell_type": "code",
   "execution_count": 232,
   "metadata": {
    "ExecuteTime": {
     "end_time": "2019-09-11T11:33:47.658000Z",
     "start_time": "2019-09-11T11:33:47.638000Z"
    }
   },
   "outputs": [],
   "source": [
    "df['marital'] = df['marital'].map({'Married':1, 'Single':0})"
   ]
  },
  {
   "cell_type": "markdown",
   "metadata": {},
   "source": [
    "#### no_of_dependents"
   ]
  },
  {
   "cell_type": "code",
   "execution_count": 233,
   "metadata": {
    "ExecuteTime": {
     "end_time": "2019-09-11T11:33:47.671000Z",
     "start_time": "2019-09-11T11:33:47.659000Z"
    }
   },
   "outputs": [
    {
     "data": {
      "text/plain": [
       "3"
      ]
     },
     "execution_count": 233,
     "metadata": {},
     "output_type": "execute_result"
    }
   ],
   "source": [
    "df.no_of_dependents.isna().sum()"
   ]
  },
  {
   "cell_type": "code",
   "execution_count": 234,
   "metadata": {
    "ExecuteTime": {
     "end_time": "2019-09-11T11:33:47.759000Z",
     "start_time": "2019-09-11T11:33:47.672000Z"
    }
   },
   "outputs": [
    {
     "data": {
      "text/html": [
       "<div>\n",
       "<style scoped>\n",
       "    .dataframe tbody tr th:only-of-type {\n",
       "        vertical-align: middle;\n",
       "    }\n",
       "\n",
       "    .dataframe tbody tr th {\n",
       "        vertical-align: top;\n",
       "    }\n",
       "\n",
       "    .dataframe thead th {\n",
       "        text-align: right;\n",
       "    }\n",
       "</style>\n",
       "<table border=\"1\" class=\"dataframe\">\n",
       "  <thead>\n",
       "    <tr style=\"text-align: right;\">\n",
       "      <th>performance</th>\n",
       "      <th>0.0</th>\n",
       "      <th>1.0</th>\n",
       "      <th>delinq%</th>\n",
       "    </tr>\n",
       "    <tr>\n",
       "      <th>no_of_dependents</th>\n",
       "      <th></th>\n",
       "      <th></th>\n",
       "      <th></th>\n",
       "    </tr>\n",
       "  </thead>\n",
       "  <tbody>\n",
       "    <tr>\n",
       "      <th>1.0</th>\n",
       "      <td>14551</td>\n",
       "      <td>667</td>\n",
       "      <td>4.383</td>\n",
       "    </tr>\n",
       "    <tr>\n",
       "      <th>2.0</th>\n",
       "      <td>14540</td>\n",
       "      <td>588</td>\n",
       "      <td>3.887</td>\n",
       "    </tr>\n",
       "    <tr>\n",
       "      <th>3.0</th>\n",
       "      <td>14950</td>\n",
       "      <td>695</td>\n",
       "      <td>4.442</td>\n",
       "    </tr>\n",
       "    <tr>\n",
       "      <th>4.0</th>\n",
       "      <td>11504</td>\n",
       "      <td>494</td>\n",
       "      <td>4.117</td>\n",
       "    </tr>\n",
       "    <tr>\n",
       "      <th>5.0</th>\n",
       "      <td>11372</td>\n",
       "      <td>503</td>\n",
       "      <td>4.236</td>\n",
       "    </tr>\n",
       "  </tbody>\n",
       "</table>\n",
       "</div>"
      ],
      "text/plain": [
       "performance         0.0  1.0  delinq%\n",
       "no_of_dependents                     \n",
       "1.0               14551  667    4.383\n",
       "2.0               14540  588    3.887\n",
       "3.0               14950  695    4.442\n",
       "4.0               11504  494    4.117\n",
       "5.0               11372  503    4.236"
      ]
     },
     "execution_count": 234,
     "metadata": {},
     "output_type": "execute_result"
    }
   ],
   "source": [
    "catg_analysis(\"no_of_dependents\")"
   ]
  },
  {
   "cell_type": "markdown",
   "metadata": {},
   "source": [
    "Observations:<br>\n",
    "<ol>\n",
    "    <li>Need to impute missing values</li>\n",
    "    <li>Already encoded nicely</li>\n",
    "    <li>Seems insignificant feature for now</li>\n",
    "</ol>"
   ]
  },
  {
   "cell_type": "code",
   "execution_count": 235,
   "metadata": {
    "ExecuteTime": {
     "end_time": "2019-09-11T11:33:47.795000Z",
     "start_time": "2019-09-11T11:33:47.760000Z"
    }
   },
   "outputs": [],
   "source": [
    "df['no_of_dependents'].fillna(value=3, inplace=True)"
   ]
  },
  {
   "cell_type": "code",
   "execution_count": 236,
   "metadata": {
    "ExecuteTime": {
     "end_time": "2019-09-11T11:33:47.878000Z",
     "start_time": "2019-09-11T11:33:47.796000Z"
    }
   },
   "outputs": [
    {
     "name": "stdout",
     "output_type": "stream",
     "text": [
      "IV is 0.265\n"
     ]
    },
    {
     "data": {
      "text/html": [
       "<div>\n",
       "<style scoped>\n",
       "    .dataframe tbody tr th:only-of-type {\n",
       "        vertical-align: middle;\n",
       "    }\n",
       "\n",
       "    .dataframe tbody tr th {\n",
       "        vertical-align: top;\n",
       "    }\n",
       "\n",
       "    .dataframe thead th {\n",
       "        text-align: right;\n",
       "    }\n",
       "</style>\n",
       "<table border=\"1\" class=\"dataframe\">\n",
       "  <thead>\n",
       "    <tr style=\"text-align: right;\">\n",
       "      <th></th>\n",
       "      <th>no_of_dependents-bin</th>\n",
       "      <th>non_event</th>\n",
       "      <th>event</th>\n",
       "      <th>count</th>\n",
       "      <th>event %</th>\n",
       "      <th>non_event %</th>\n",
       "      <th>WOE</th>\n",
       "      <th>event%-non_event%</th>\n",
       "      <th>IV</th>\n",
       "    </tr>\n",
       "  </thead>\n",
       "  <tbody>\n",
       "    <tr>\n",
       "      <th>0</th>\n",
       "      <td>1.0</td>\n",
       "      <td>14551.0</td>\n",
       "      <td>667.0</td>\n",
       "      <td>15218.0</td>\n",
       "      <td>22.633186</td>\n",
       "      <td>21.743873</td>\n",
       "      <td>0.040085</td>\n",
       "      <td>0.889313</td>\n",
       "      <td>0.035648</td>\n",
       "    </tr>\n",
       "    <tr>\n",
       "      <th>1</th>\n",
       "      <td>2.0</td>\n",
       "      <td>14540.0</td>\n",
       "      <td>588.0</td>\n",
       "      <td>15128.0</td>\n",
       "      <td>19.952494</td>\n",
       "      <td>21.727436</td>\n",
       "      <td>-0.085222</td>\n",
       "      <td>-1.774942</td>\n",
       "      <td>0.151263</td>\n",
       "    </tr>\n",
       "    <tr>\n",
       "      <th>2</th>\n",
       "      <td>3.0</td>\n",
       "      <td>14953.0</td>\n",
       "      <td>695.0</td>\n",
       "      <td>15648.0</td>\n",
       "      <td>23.583305</td>\n",
       "      <td>22.344591</td>\n",
       "      <td>0.053955</td>\n",
       "      <td>1.238715</td>\n",
       "      <td>0.066835</td>\n",
       "    </tr>\n",
       "    <tr>\n",
       "      <th>3</th>\n",
       "      <td>4.0</td>\n",
       "      <td>11504.0</td>\n",
       "      <td>494.0</td>\n",
       "      <td>11998.0</td>\n",
       "      <td>16.762810</td>\n",
       "      <td>17.190675</td>\n",
       "      <td>-0.025204</td>\n",
       "      <td>-0.427866</td>\n",
       "      <td>0.010784</td>\n",
       "    </tr>\n",
       "    <tr>\n",
       "      <th>4</th>\n",
       "      <td>5.0</td>\n",
       "      <td>11372.0</td>\n",
       "      <td>503.0</td>\n",
       "      <td>11875.0</td>\n",
       "      <td>17.068205</td>\n",
       "      <td>16.993425</td>\n",
       "      <td>0.004391</td>\n",
       "      <td>0.074780</td>\n",
       "      <td>0.000328</td>\n",
       "    </tr>\n",
       "  </tbody>\n",
       "</table>\n",
       "</div>"
      ],
      "text/plain": [
       "   no_of_dependents-bin  non_event  event    count    event %  non_event %  \\\n",
       "0                   1.0    14551.0  667.0  15218.0  22.633186    21.743873   \n",
       "1                   2.0    14540.0  588.0  15128.0  19.952494    21.727436   \n",
       "2                   3.0    14953.0  695.0  15648.0  23.583305    22.344591   \n",
       "3                   4.0    11504.0  494.0  11998.0  16.762810    17.190675   \n",
       "4                   5.0    11372.0  503.0  11875.0  17.068205    16.993425   \n",
       "\n",
       "        WOE  event%-non_event%        IV  \n",
       "0  0.040085           0.889313  0.035648  \n",
       "1 -0.085222          -1.774942  0.151263  \n",
       "2  0.053955           1.238715  0.066835  \n",
       "3 -0.025204          -0.427866  0.010784  \n",
       "4  0.004391           0.074780  0.000328  "
      ]
     },
     "execution_count": 236,
     "metadata": {},
     "output_type": "execute_result"
    }
   ],
   "source": [
    "woe_iv(col='no_of_dependents', target='performance', categorical=True)"
   ]
  },
  {
   "cell_type": "markdown",
   "metadata": {},
   "source": [
    "This feature is also not suitable for WOE value replacement"
   ]
  },
  {
   "cell_type": "markdown",
   "metadata": {},
   "source": [
    "#### income"
   ]
  },
  {
   "cell_type": "code",
   "execution_count": 237,
   "metadata": {
    "ExecuteTime": {
     "end_time": "2019-09-11T11:33:47.887000Z",
     "start_time": "2019-09-11T11:33:47.880000Z"
    }
   },
   "outputs": [
    {
     "data": {
      "text/plain": [
       "0"
      ]
     },
     "execution_count": 237,
     "metadata": {},
     "output_type": "execute_result"
    }
   ],
   "source": [
    "df.income.isna().sum()"
   ]
  },
  {
   "cell_type": "code",
   "execution_count": 238,
   "metadata": {
    "ExecuteTime": {
     "end_time": "2019-09-11T11:33:47.911000Z",
     "start_time": "2019-09-11T11:33:47.888000Z"
    }
   },
   "outputs": [
    {
     "data": {
      "text/plain": [
       "count    71292.000000\n",
       "mean        27.195758\n",
       "std         15.514524\n",
       "min         -0.500000\n",
       "25%         14.000000\n",
       "50%         27.000000\n",
       "75%         40.000000\n",
       "max         60.000000\n",
       "Name: income, dtype: float64"
      ]
     },
     "execution_count": 238,
     "metadata": {},
     "output_type": "execute_result"
    }
   ],
   "source": [
    "df.income.describe()"
   ]
  },
  {
   "cell_type": "code",
   "execution_count": 239,
   "metadata": {
    "ExecuteTime": {
     "end_time": "2019-09-11T11:33:48.253000Z",
     "start_time": "2019-09-11T11:33:47.913000Z"
    }
   },
   "outputs": [
    {
     "data": {
      "text/plain": [
       "<matplotlib.axes._subplots.AxesSubplot at 0xfe4e320>"
      ]
     },
     "execution_count": 239,
     "metadata": {},
     "output_type": "execute_result"
    },
    {
     "data": {
      "image/png": "[encoded data removed]",
      "text/plain": [
       "<Figure size 432x288 with 1 Axes>"
      ]
     },
     "metadata": {
      "needs_background": "light"
     },
     "output_type": "display_data"
    }
   ],
   "source": [
    "sns.distplot(df.income)"
   ]
  },
  {
   "cell_type": "code",
   "execution_count": 240,
   "metadata": {
    "ExecuteTime": {
     "end_time": "2019-09-11T11:33:48.436000Z",
     "start_time": "2019-09-11T11:33:48.257000Z"
    }
   },
   "outputs": [
    {
     "data": {
      "image/png": "[encoded data removed]",
      "text/plain": [
       "<Figure size 432x288 with 1 Axes>"
      ]
     },
     "metadata": {
      "needs_background": "light"
     },
     "output_type": "display_data"
    }
   ],
   "source": [
    "df.boxplot(column='income', by='performance');"
   ]
  },
  {
   "cell_type": "markdown",
   "metadata": {},
   "source": [
    "Observations:<br>\n",
    "<ol>\n",
    "   <li>Looks like income was already standardized, no need for any transformations</li>\n",
    "   <li>WAlready standardised so not replacing negative values for this feature.</li>\n",
    "   <li>Seems significant</li>\n",
    "   <li>Will decide based on WOE & IV </li>\n",
    "</ol>"
   ]
  },
  {
   "cell_type": "code",
   "execution_count": 241,
   "metadata": {
    "ExecuteTime": {
     "end_time": "2019-09-11T11:33:48.491000Z",
     "start_time": "2019-09-11T11:33:48.437000Z"
    }
   },
   "outputs": [
    {
     "name": "stdout",
     "output_type": "stream",
     "text": [
      "IV is 3.973\n"
     ]
    },
    {
     "data": {
      "text/html": [
       "<div>\n",
       "<style scoped>\n",
       "    .dataframe tbody tr th:only-of-type {\n",
       "        vertical-align: middle;\n",
       "    }\n",
       "\n",
       "    .dataframe tbody tr th {\n",
       "        vertical-align: top;\n",
       "    }\n",
       "\n",
       "    .dataframe thead th {\n",
       "        text-align: right;\n",
       "    }\n",
       "</style>\n",
       "<table border=\"1\" class=\"dataframe\">\n",
       "  <thead>\n",
       "    <tr style=\"text-align: right;\">\n",
       "      <th></th>\n",
       "      <th>income-bin</th>\n",
       "      <th>non_event</th>\n",
       "      <th>event</th>\n",
       "      <th>count</th>\n",
       "      <th>event %</th>\n",
       "      <th>non_event %</th>\n",
       "      <th>WOE</th>\n",
       "      <th>event%-non_event%</th>\n",
       "      <th>IV</th>\n",
       "    </tr>\n",
       "  </thead>\n",
       "  <tbody>\n",
       "    <tr>\n",
       "      <th>0</th>\n",
       "      <td>(-0.501, 6.222]</td>\n",
       "      <td>7195.0</td>\n",
       "      <td>451.0</td>\n",
       "      <td>7646.0</td>\n",
       "      <td>15.303699</td>\n",
       "      <td>10.751644</td>\n",
       "      <td>0.353036</td>\n",
       "      <td>4.552055</td>\n",
       "      <td>1.607039</td>\n",
       "    </tr>\n",
       "    <tr>\n",
       "      <th>1</th>\n",
       "      <td>(6.222, 12.944]</td>\n",
       "      <td>7393.0</td>\n",
       "      <td>383.0</td>\n",
       "      <td>7776.0</td>\n",
       "      <td>12.996267</td>\n",
       "      <td>11.047519</td>\n",
       "      <td>0.162456</td>\n",
       "      <td>1.948748</td>\n",
       "      <td>0.316586</td>\n",
       "    </tr>\n",
       "    <tr>\n",
       "      <th>2</th>\n",
       "      <td>(12.944, 19.667]</td>\n",
       "      <td>8945.0</td>\n",
       "      <td>414.0</td>\n",
       "      <td>9359.0</td>\n",
       "      <td>14.048185</td>\n",
       "      <td>13.366707</td>\n",
       "      <td>0.049726</td>\n",
       "      <td>0.681478</td>\n",
       "      <td>0.033887</td>\n",
       "    </tr>\n",
       "    <tr>\n",
       "      <th>3</th>\n",
       "      <td>(19.667, 26.389]</td>\n",
       "      <td>9187.0</td>\n",
       "      <td>426.0</td>\n",
       "      <td>9613.0</td>\n",
       "      <td>14.455378</td>\n",
       "      <td>13.728332</td>\n",
       "      <td>0.051605</td>\n",
       "      <td>0.727046</td>\n",
       "      <td>0.037519</td>\n",
       "    </tr>\n",
       "    <tr>\n",
       "      <th>4</th>\n",
       "      <td>(26.389, 33.111]</td>\n",
       "      <td>9200.0</td>\n",
       "      <td>402.0</td>\n",
       "      <td>9602.0</td>\n",
       "      <td>13.640991</td>\n",
       "      <td>13.747759</td>\n",
       "      <td>-0.007797</td>\n",
       "      <td>-0.106768</td>\n",
       "      <td>0.000832</td>\n",
       "    </tr>\n",
       "    <tr>\n",
       "      <th>5</th>\n",
       "      <td>(33.111, 39.833]</td>\n",
       "      <td>7805.0</td>\n",
       "      <td>289.0</td>\n",
       "      <td>8094.0</td>\n",
       "      <td>9.806583</td>\n",
       "      <td>11.663180</td>\n",
       "      <td>-0.173383</td>\n",
       "      <td>-1.856597</td>\n",
       "      <td>0.321902</td>\n",
       "    </tr>\n",
       "    <tr>\n",
       "      <th>6</th>\n",
       "      <td>(39.833, 46.556]</td>\n",
       "      <td>8476.0</td>\n",
       "      <td>305.0</td>\n",
       "      <td>8781.0</td>\n",
       "      <td>10.349508</td>\n",
       "      <td>12.665870</td>\n",
       "      <td>-0.201972</td>\n",
       "      <td>-2.316362</td>\n",
       "      <td>0.467840</td>\n",
       "    </tr>\n",
       "    <tr>\n",
       "      <th>7</th>\n",
       "      <td>(46.556, 53.278]</td>\n",
       "      <td>5096.0</td>\n",
       "      <td>164.0</td>\n",
       "      <td>5260.0</td>\n",
       "      <td>5.564981</td>\n",
       "      <td>7.615063</td>\n",
       "      <td>-0.313635</td>\n",
       "      <td>-2.050081</td>\n",
       "      <td>0.642976</td>\n",
       "    </tr>\n",
       "    <tr>\n",
       "      <th>8</th>\n",
       "      <td>(53.278, 60.0]</td>\n",
       "      <td>3623.0</td>\n",
       "      <td>113.0</td>\n",
       "      <td>3736.0</td>\n",
       "      <td>3.834408</td>\n",
       "      <td>5.413927</td>\n",
       "      <td>-0.344960</td>\n",
       "      <td>-1.579519</td>\n",
       "      <td>0.544870</td>\n",
       "    </tr>\n",
       "  </tbody>\n",
       "</table>\n",
       "</div>"
      ],
      "text/plain": [
       "         income-bin  non_event  event   count    event %  non_event %  \\\n",
       "0   (-0.501, 6.222]     7195.0  451.0  7646.0  15.303699    10.751644   \n",
       "1   (6.222, 12.944]     7393.0  383.0  7776.0  12.996267    11.047519   \n",
       "2  (12.944, 19.667]     8945.0  414.0  9359.0  14.048185    13.366707   \n",
       "3  (19.667, 26.389]     9187.0  426.0  9613.0  14.455378    13.728332   \n",
       "4  (26.389, 33.111]     9200.0  402.0  9602.0  13.640991    13.747759   \n",
       "5  (33.111, 39.833]     7805.0  289.0  8094.0   9.806583    11.663180   \n",
       "6  (39.833, 46.556]     8476.0  305.0  8781.0  10.349508    12.665870   \n",
       "7  (46.556, 53.278]     5096.0  164.0  5260.0   5.564981     7.615063   \n",
       "8    (53.278, 60.0]     3623.0  113.0  3736.0   3.834408     5.413927   \n",
       "\n",
       "        WOE  event%-non_event%        IV  \n",
       "0  0.353036           4.552055  1.607039  \n",
       "1  0.162456           1.948748  0.316586  \n",
       "2  0.049726           0.681478  0.033887  \n",
       "3  0.051605           0.727046  0.037519  \n",
       "4 -0.007797          -0.106768  0.000832  \n",
       "5 -0.173383          -1.856597  0.321902  \n",
       "6 -0.201972          -2.316362  0.467840  \n",
       "7 -0.313635          -2.050081  0.642976  \n",
       "8 -0.344960          -1.579519  0.544870  "
      ]
     },
     "execution_count": 241,
     "metadata": {},
     "output_type": "execute_result"
    }
   ],
   "source": [
    "woe_iv(col='income', target='performance',mybins=np.linspace(start=df.income.min(), stop=df.income.max(), num=10))"
   ]
  },
  {
   "cell_type": "code",
   "execution_count": 242,
   "metadata": {
    "ExecuteTime": {
     "end_time": "2019-09-11T11:33:48.500000Z",
     "start_time": "2019-09-11T11:33:48.492000Z"
    }
   },
   "outputs": [],
   "source": [
    "income_bin = list(np.linspace(start=df.income.min(), stop=df.income.max(), num=10))"
   ]
  },
  {
   "cell_type": "code",
   "execution_count": 243,
   "metadata": {
    "ExecuteTime": {
     "end_time": "2019-09-11T11:33:48.509000Z",
     "start_time": "2019-09-11T11:33:48.501000Z"
    }
   },
   "outputs": [],
   "source": [
    "# Coarse binning - Merging similar WOE value bins.\n",
    "income_bin.remove(19.666666666666668)"
   ]
  },
  {
   "cell_type": "code",
   "execution_count": 244,
   "metadata": {
    "ExecuteTime": {
     "end_time": "2019-09-11T11:33:48.581000Z",
     "start_time": "2019-09-11T11:33:48.510000Z"
    }
   },
   "outputs": [
    {
     "name": "stdout",
     "output_type": "stream",
     "text": [
      "IV is 3.973\n"
     ]
    },
    {
     "data": {
      "text/html": [
       "<div>\n",
       "<style scoped>\n",
       "    .dataframe tbody tr th:only-of-type {\n",
       "        vertical-align: middle;\n",
       "    }\n",
       "\n",
       "    .dataframe tbody tr th {\n",
       "        vertical-align: top;\n",
       "    }\n",
       "\n",
       "    .dataframe thead th {\n",
       "        text-align: right;\n",
       "    }\n",
       "</style>\n",
       "<table border=\"1\" class=\"dataframe\">\n",
       "  <thead>\n",
       "    <tr style=\"text-align: right;\">\n",
       "      <th></th>\n",
       "      <th>income-bin</th>\n",
       "      <th>non_event</th>\n",
       "      <th>event</th>\n",
       "      <th>count</th>\n",
       "      <th>event %</th>\n",
       "      <th>non_event %</th>\n",
       "      <th>WOE</th>\n",
       "      <th>event%-non_event%</th>\n",
       "      <th>IV</th>\n",
       "    </tr>\n",
       "  </thead>\n",
       "  <tbody>\n",
       "    <tr>\n",
       "      <th>0</th>\n",
       "      <td>(-0.501, 6.222]</td>\n",
       "      <td>7195.0</td>\n",
       "      <td>451.0</td>\n",
       "      <td>7646.0</td>\n",
       "      <td>15.303699</td>\n",
       "      <td>10.751644</td>\n",
       "      <td>0.353036</td>\n",
       "      <td>4.552055</td>\n",
       "      <td>1.607039</td>\n",
       "    </tr>\n",
       "    <tr>\n",
       "      <th>1</th>\n",
       "      <td>(6.222, 12.944]</td>\n",
       "      <td>7393.0</td>\n",
       "      <td>383.0</td>\n",
       "      <td>7776.0</td>\n",
       "      <td>12.996267</td>\n",
       "      <td>11.047519</td>\n",
       "      <td>0.162456</td>\n",
       "      <td>1.948748</td>\n",
       "      <td>0.316586</td>\n",
       "    </tr>\n",
       "    <tr>\n",
       "      <th>2</th>\n",
       "      <td>(12.944, 26.389]</td>\n",
       "      <td>18132.0</td>\n",
       "      <td>840.0</td>\n",
       "      <td>18972.0</td>\n",
       "      <td>28.503563</td>\n",
       "      <td>27.095039</td>\n",
       "      <td>0.050678</td>\n",
       "      <td>1.408524</td>\n",
       "      <td>0.071382</td>\n",
       "    </tr>\n",
       "    <tr>\n",
       "      <th>3</th>\n",
       "      <td>(26.389, 33.111]</td>\n",
       "      <td>9200.0</td>\n",
       "      <td>402.0</td>\n",
       "      <td>9602.0</td>\n",
       "      <td>13.640991</td>\n",
       "      <td>13.747759</td>\n",
       "      <td>-0.007797</td>\n",
       "      <td>-0.106768</td>\n",
       "      <td>0.000832</td>\n",
       "    </tr>\n",
       "    <tr>\n",
       "      <th>4</th>\n",
       "      <td>(33.111, 39.833]</td>\n",
       "      <td>7805.0</td>\n",
       "      <td>289.0</td>\n",
       "      <td>8094.0</td>\n",
       "      <td>9.806583</td>\n",
       "      <td>11.663180</td>\n",
       "      <td>-0.173383</td>\n",
       "      <td>-1.856597</td>\n",
       "      <td>0.321902</td>\n",
       "    </tr>\n",
       "    <tr>\n",
       "      <th>5</th>\n",
       "      <td>(39.833, 46.556]</td>\n",
       "      <td>8476.0</td>\n",
       "      <td>305.0</td>\n",
       "      <td>8781.0</td>\n",
       "      <td>10.349508</td>\n",
       "      <td>12.665870</td>\n",
       "      <td>-0.201972</td>\n",
       "      <td>-2.316362</td>\n",
       "      <td>0.467840</td>\n",
       "    </tr>\n",
       "    <tr>\n",
       "      <th>6</th>\n",
       "      <td>(46.556, 53.278]</td>\n",
       "      <td>5096.0</td>\n",
       "      <td>164.0</td>\n",
       "      <td>5260.0</td>\n",
       "      <td>5.564981</td>\n",
       "      <td>7.615063</td>\n",
       "      <td>-0.313635</td>\n",
       "      <td>-2.050081</td>\n",
       "      <td>0.642976</td>\n",
       "    </tr>\n",
       "    <tr>\n",
       "      <th>7</th>\n",
       "      <td>(53.278, 60.0]</td>\n",
       "      <td>3623.0</td>\n",
       "      <td>113.0</td>\n",
       "      <td>3736.0</td>\n",
       "      <td>3.834408</td>\n",
       "      <td>5.413927</td>\n",
       "      <td>-0.344960</td>\n",
       "      <td>-1.579519</td>\n",
       "      <td>0.544870</td>\n",
       "    </tr>\n",
       "  </tbody>\n",
       "</table>\n",
       "</div>"
      ],
      "text/plain": [
       "         income-bin  non_event  event    count    event %  non_event %  \\\n",
       "0   (-0.501, 6.222]     7195.0  451.0   7646.0  15.303699    10.751644   \n",
       "1   (6.222, 12.944]     7393.0  383.0   7776.0  12.996267    11.047519   \n",
       "2  (12.944, 26.389]    18132.0  840.0  18972.0  28.503563    27.095039   \n",
       "3  (26.389, 33.111]     9200.0  402.0   9602.0  13.640991    13.747759   \n",
       "4  (33.111, 39.833]     7805.0  289.0   8094.0   9.806583    11.663180   \n",
       "5  (39.833, 46.556]     8476.0  305.0   8781.0  10.349508    12.665870   \n",
       "6  (46.556, 53.278]     5096.0  164.0   5260.0   5.564981     7.615063   \n",
       "7    (53.278, 60.0]     3623.0  113.0   3736.0   3.834408     5.413927   \n",
       "\n",
       "        WOE  event%-non_event%        IV  \n",
       "0  0.353036           4.552055  1.607039  \n",
       "1  0.162456           1.948748  0.316586  \n",
       "2  0.050678           1.408524  0.071382  \n",
       "3 -0.007797          -0.106768  0.000832  \n",
       "4 -0.173383          -1.856597  0.321902  \n",
       "5 -0.201972          -2.316362  0.467840  \n",
       "6 -0.313635          -2.050081  0.642976  \n",
       "7 -0.344960          -1.579519  0.544870  "
      ]
     },
     "execution_count": 244,
     "metadata": {},
     "output_type": "execute_result"
    }
   ],
   "source": [
    "income_woe = woe_iv(col='income', target='performance',mybins=income_bin)\n",
    "income_woe"
   ]
  },
  {
   "cell_type": "code",
   "execution_count": 245,
   "metadata": {
    "ExecuteTime": {
     "end_time": "2019-09-11T11:33:48.786000Z",
     "start_time": "2019-09-11T11:33:48.585000Z"
    }
   },
   "outputs": [
    {
     "data": {
      "text/plain": [
       "<matplotlib.axes._subplots.AxesSubplot at 0x16252a90>"
      ]
     },
     "execution_count": 245,
     "metadata": {},
     "output_type": "execute_result"
    },
    {
     "data": {
      "image/png": "[encoded data removed]",
      "text/plain": [
       "<Figure size 432x288 with 1 Axes>"
      ]
     },
     "metadata": {
      "needs_background": "light"
     },
     "output_type": "display_data"
    }
   ],
   "source": [
    "sns.lineplot(x=income_woe.index, y=income_woe['WOE'])"
   ]
  },
  {
   "cell_type": "markdown",
   "metadata": {},
   "source": [
    "The WOE plot is monotonically decreasing."
   ]
  },
  {
   "cell_type": "code",
   "execution_count": 246,
   "metadata": {
    "ExecuteTime": {
     "end_time": "2019-09-11T11:33:48.805000Z",
     "start_time": "2019-09-11T11:33:48.790000Z"
    }
   },
   "outputs": [],
   "source": [
    "income_map = {str(income_woe.iloc[row, [0,6]][0]):income_woe.iloc[row, [0,6]][1] for row in range(len(income_woe))}"
   ]
  },
  {
   "cell_type": "code",
   "execution_count": 247,
   "metadata": {
    "ExecuteTime": {
     "end_time": "2019-09-11T11:33:48.833000Z",
     "start_time": "2019-09-11T11:33:48.809000Z"
    }
   },
   "outputs": [],
   "source": [
    "df['income-bin'] = pd.cut(df['income'], bins=income_bin, include_lowest=True).map(lambda x: str(x)).map(income_map)"
   ]
  },
  {
   "cell_type": "markdown",
   "metadata": {},
   "source": [
    "We have added a column income-bin that has WOE values. We will use this column instead of raw income column in Logistic Regression."
   ]
  },
  {
   "cell_type": "markdown",
   "metadata": {},
   "source": [
    "#### education"
   ]
  },
  {
   "cell_type": "code",
   "execution_count": 248,
   "metadata": {
    "ExecuteTime": {
     "end_time": "2019-09-11T11:33:48.856000Z",
     "start_time": "2019-09-11T11:33:48.844000Z"
    }
   },
   "outputs": [
    {
     "data": {
      "text/plain": [
       "119"
      ]
     },
     "execution_count": 248,
     "metadata": {},
     "output_type": "execute_result"
    }
   ],
   "source": [
    "df.education.isna().sum()"
   ]
  },
  {
   "cell_type": "code",
   "execution_count": 249,
   "metadata": {
    "ExecuteTime": {
     "end_time": "2019-09-11T11:33:48.898000Z",
     "start_time": "2019-09-11T11:33:48.860000Z"
    }
   },
   "outputs": [
    {
     "data": {
      "text/html": [
       "<div>\n",
       "<style scoped>\n",
       "    .dataframe tbody tr th:only-of-type {\n",
       "        vertical-align: middle;\n",
       "    }\n",
       "\n",
       "    .dataframe tbody tr th {\n",
       "        vertical-align: top;\n",
       "    }\n",
       "\n",
       "    .dataframe thead th {\n",
       "        text-align: right;\n",
       "    }\n",
       "</style>\n",
       "<table border=\"1\" class=\"dataframe\">\n",
       "  <thead>\n",
       "    <tr style=\"text-align: right;\">\n",
       "      <th>performance</th>\n",
       "      <th>0.0</th>\n",
       "      <th>1.0</th>\n",
       "      <th>delinq%</th>\n",
       "    </tr>\n",
       "    <tr>\n",
       "      <th>education</th>\n",
       "      <th></th>\n",
       "      <th></th>\n",
       "      <th></th>\n",
       "    </tr>\n",
       "  </thead>\n",
       "  <tbody>\n",
       "    <tr>\n",
       "      <th>Bachelor</th>\n",
       "      <td>16560</td>\n",
       "      <td>742</td>\n",
       "      <td>4.289</td>\n",
       "    </tr>\n",
       "    <tr>\n",
       "      <th>Masters</th>\n",
       "      <td>22483</td>\n",
       "      <td>998</td>\n",
       "      <td>4.250</td>\n",
       "    </tr>\n",
       "    <tr>\n",
       "      <th>Others</th>\n",
       "      <td>111</td>\n",
       "      <td>8</td>\n",
       "      <td>6.723</td>\n",
       "    </tr>\n",
       "    <tr>\n",
       "      <th>Phd</th>\n",
       "      <td>4280</td>\n",
       "      <td>183</td>\n",
       "      <td>4.100</td>\n",
       "    </tr>\n",
       "    <tr>\n",
       "      <th>Professional</th>\n",
       "      <td>23373</td>\n",
       "      <td>1011</td>\n",
       "      <td>4.146</td>\n",
       "    </tr>\n",
       "  </tbody>\n",
       "</table>\n",
       "</div>"
      ],
      "text/plain": [
       "performance     0.0   1.0  delinq%\n",
       "education                         \n",
       "Bachelor      16560   742    4.289\n",
       "Masters       22483   998    4.250\n",
       "Others          111     8    6.723\n",
       "Phd            4280   183    4.100\n",
       "Professional  23373  1011    4.146"
      ]
     },
     "execution_count": 249,
     "metadata": {},
     "output_type": "execute_result"
    }
   ],
   "source": [
    "catg_analysis('education')"
   ]
  },
  {
   "cell_type": "markdown",
   "metadata": {},
   "source": [
    "Observations:<br>\n",
    "<ol>\n",
    "   <li>Needs imputation for missing values</li>\n",
    "   <li>Others category is undersampled here</li>\n",
    "   <li>Seems Insignificant but WOE & IV will will help here.</li>\n",
    "</ol>"
   ]
  },
  {
   "cell_type": "code",
   "execution_count": 250,
   "metadata": {
    "ExecuteTime": {
     "end_time": "2019-09-11T11:33:48.908000Z",
     "start_time": "2019-09-11T11:33:48.900000Z"
    }
   },
   "outputs": [],
   "source": [
    "df['education'] = df['education'].fillna(value='Professional')"
   ]
  },
  {
   "cell_type": "code",
   "execution_count": 251,
   "metadata": {
    "ExecuteTime": {
     "end_time": "2019-09-11T11:33:48.964000Z",
     "start_time": "2019-09-11T11:33:48.910000Z"
    }
   },
   "outputs": [],
   "source": [
    "edu = pd.get_dummies(df['education'], prefix='edu')\n",
    "df = pd.concat([df, edu], axis=1)"
   ]
  },
  {
   "cell_type": "markdown",
   "metadata": {},
   "source": [
    "#### profession"
   ]
  },
  {
   "cell_type": "code",
   "execution_count": 252,
   "metadata": {
    "ExecuteTime": {
     "end_time": "2019-09-11T11:33:48.979000Z",
     "start_time": "2019-09-11T11:33:48.965000Z"
    }
   },
   "outputs": [
    {
     "data": {
      "text/plain": [
       "14"
      ]
     },
     "execution_count": 252,
     "metadata": {},
     "output_type": "execute_result"
    }
   ],
   "source": [
    "df.profession.isna().sum()"
   ]
  },
  {
   "cell_type": "code",
   "execution_count": 253,
   "metadata": {
    "ExecuteTime": {
     "end_time": "2019-09-11T11:33:49.087000Z",
     "start_time": "2019-09-11T11:33:48.980000Z"
    }
   },
   "outputs": [
    {
     "data": {
      "text/html": [
       "<div>\n",
       "<style scoped>\n",
       "    .dataframe tbody tr th:only-of-type {\n",
       "        vertical-align: middle;\n",
       "    }\n",
       "\n",
       "    .dataframe tbody tr th {\n",
       "        vertical-align: top;\n",
       "    }\n",
       "\n",
       "    .dataframe thead th {\n",
       "        text-align: right;\n",
       "    }\n",
       "</style>\n",
       "<table border=\"1\" class=\"dataframe\">\n",
       "  <thead>\n",
       "    <tr style=\"text-align: right;\">\n",
       "      <th>performance</th>\n",
       "      <th>0.0</th>\n",
       "      <th>1.0</th>\n",
       "      <th>delinq%</th>\n",
       "    </tr>\n",
       "    <tr>\n",
       "      <th>profession</th>\n",
       "      <th></th>\n",
       "      <th></th>\n",
       "      <th></th>\n",
       "    </tr>\n",
       "  </thead>\n",
       "  <tbody>\n",
       "    <tr>\n",
       "      <th>SAL</th>\n",
       "      <td>38044</td>\n",
       "      <td>1629</td>\n",
       "      <td>4.106</td>\n",
       "    </tr>\n",
       "    <tr>\n",
       "      <th>SE</th>\n",
       "      <td>13284</td>\n",
       "      <td>641</td>\n",
       "      <td>4.603</td>\n",
       "    </tr>\n",
       "    <tr>\n",
       "      <th>SE_PROF</th>\n",
       "      <td>15579</td>\n",
       "      <td>677</td>\n",
       "      <td>4.165</td>\n",
       "    </tr>\n",
       "  </tbody>\n",
       "</table>\n",
       "</div>"
      ],
      "text/plain": [
       "performance    0.0   1.0  delinq%\n",
       "profession                       \n",
       "SAL          38044  1629    4.106\n",
       "SE           13284   641    4.603\n",
       "SE_PROF      15579   677    4.165"
      ]
     },
     "execution_count": 253,
     "metadata": {},
     "output_type": "execute_result"
    }
   ],
   "source": [
    "catg_analysis('profession')"
   ]
  },
  {
   "cell_type": "markdown",
   "metadata": {},
   "source": [
    "Observations:<br>\n",
    "<ol>\n",
    "   <li>Needs imputation for missing values</li>\n",
    "   <li>Could be significant but WOE & IV will will help here.</li>\n",
    "</ol>"
   ]
  },
  {
   "cell_type": "code",
   "execution_count": 254,
   "metadata": {
    "ExecuteTime": {
     "end_time": "2019-09-11T11:33:49.099000Z",
     "start_time": "2019-09-11T11:33:49.088000Z"
    }
   },
   "outputs": [],
   "source": [
    "df['profession'] = df['profession'].fillna(value='SAL')"
   ]
  },
  {
   "cell_type": "code",
   "execution_count": 255,
   "metadata": {
    "ExecuteTime": {
     "end_time": "2019-09-11T11:33:49.129000Z",
     "start_time": "2019-09-11T11:33:49.100000Z"
    }
   },
   "outputs": [],
   "source": [
    "prof = pd.get_dummies(df['profession'], prefix='prof')\n",
    "df = pd.concat([df, prof], axis=1)"
   ]
  },
  {
   "cell_type": "markdown",
   "metadata": {},
   "source": [
    "#### residence_type"
   ]
  },
  {
   "cell_type": "code",
   "execution_count": 371,
   "metadata": {
    "ExecuteTime": {
     "end_time": "2019-09-11T11:36:35.609000Z",
     "start_time": "2019-09-11T11:36:35.601000Z"
    }
   },
   "outputs": [
    {
     "data": {
      "text/plain": [
       "0"
      ]
     },
     "execution_count": 371,
     "metadata": {},
     "output_type": "execute_result"
    }
   ],
   "source": [
    "df.residence_type.isna().sum()"
   ]
  },
  {
   "cell_type": "code",
   "execution_count": 372,
   "metadata": {
    "ExecuteTime": {
     "end_time": "2019-09-11T11:36:36.607000Z",
     "start_time": "2019-09-11T11:36:36.579000Z"
    }
   },
   "outputs": [
    {
     "data": {
      "text/html": [
       "<div>\n",
       "<style scoped>\n",
       "    .dataframe tbody tr th:only-of-type {\n",
       "        vertical-align: middle;\n",
       "    }\n",
       "\n",
       "    .dataframe tbody tr th {\n",
       "        vertical-align: top;\n",
       "    }\n",
       "\n",
       "    .dataframe thead th {\n",
       "        text-align: right;\n",
       "    }\n",
       "</style>\n",
       "<table border=\"1\" class=\"dataframe\">\n",
       "  <thead>\n",
       "    <tr style=\"text-align: right;\">\n",
       "      <th>performance</th>\n",
       "      <th>0.0</th>\n",
       "      <th>1.0</th>\n",
       "      <th>delinq%</th>\n",
       "    </tr>\n",
       "    <tr>\n",
       "      <th>residence_type</th>\n",
       "      <th></th>\n",
       "      <th></th>\n",
       "      <th></th>\n",
       "    </tr>\n",
       "  </thead>\n",
       "  <tbody>\n",
       "    <tr>\n",
       "      <th>Company provided</th>\n",
       "      <td>1530</td>\n",
       "      <td>73</td>\n",
       "      <td>4.554</td>\n",
       "    </tr>\n",
       "    <tr>\n",
       "      <th>Living with Parents</th>\n",
       "      <td>1698</td>\n",
       "      <td>80</td>\n",
       "      <td>4.499</td>\n",
       "    </tr>\n",
       "    <tr>\n",
       "      <th>Others</th>\n",
       "      <td>193</td>\n",
       "      <td>5</td>\n",
       "      <td>2.525</td>\n",
       "    </tr>\n",
       "    <tr>\n",
       "      <th>Owned</th>\n",
       "      <td>13410</td>\n",
       "      <td>593</td>\n",
       "      <td>4.235</td>\n",
       "    </tr>\n",
       "    <tr>\n",
       "      <th>Rented</th>\n",
       "      <td>50089</td>\n",
       "      <td>2196</td>\n",
       "      <td>4.200</td>\n",
       "    </tr>\n",
       "  </tbody>\n",
       "</table>\n",
       "</div>"
      ],
      "text/plain": [
       "performance            0.0   1.0  delinq%\n",
       "residence_type                           \n",
       "Company provided      1530    73    4.554\n",
       "Living with Parents   1698    80    4.499\n",
       "Others                 193     5    2.525\n",
       "Owned                13410   593    4.235\n",
       "Rented               50089  2196    4.200"
      ]
     },
     "execution_count": 372,
     "metadata": {},
     "output_type": "execute_result"
    }
   ],
   "source": [
    "catg_analysis('residence_type')"
   ]
  },
  {
   "cell_type": "markdown",
   "metadata": {
    "ExecuteTime": {
     "end_time": "2019-08-17T09:41:08.155176Z",
     "start_time": "2019-08-17T09:41:08.150211Z"
    }
   },
   "source": [
    "Observations:<br>\n",
    "<ol>\n",
    "   <li>Needs imputation for missing values</li>\n",
    "   <li>Needs one hot encoding</li>\n",
    "   <li>Could be significant but WOE & IV will will help here.</li>\n",
    "</ol>"
   ]
  },
  {
   "cell_type": "code",
   "execution_count": 373,
   "metadata": {
    "ExecuteTime": {
     "end_time": "2019-09-11T11:36:39.260000Z",
     "start_time": "2019-09-11T11:36:39.121000Z"
    }
   },
   "outputs": [],
   "source": [
    "df['residence_type'] = df['residence_type'].fillna(value='Rented')"
   ]
  },
  {
   "cell_type": "code",
   "execution_count": 374,
   "metadata": {
    "ExecuteTime": {
     "end_time": "2019-09-11T11:36:39.896000Z",
     "start_time": "2019-09-11T11:36:39.885000Z"
    }
   },
   "outputs": [],
   "source": [
    "res_type = pd.get_dummies(df['residence_type'], prefix='res_type')"
   ]
  },
  {
   "cell_type": "code",
   "execution_count": 375,
   "metadata": {
    "ExecuteTime": {
     "end_time": "2019-09-11T11:36:40.717000Z",
     "start_time": "2019-09-11T11:36:40.702000Z"
    }
   },
   "outputs": [],
   "source": [
    "df = pd.concat([df, res_type], axis=1)"
   ]
  },
  {
   "cell_type": "markdown",
   "metadata": {},
   "source": [
    "#### months_curr_residence"
   ]
  },
  {
   "cell_type": "code",
   "execution_count": 376,
   "metadata": {
    "ExecuteTime": {
     "end_time": "2019-09-11T11:36:42.664000Z",
     "start_time": "2019-09-11T11:36:42.586000Z"
    }
   },
   "outputs": [
    {
     "data": {
      "text/plain": [
       "0"
      ]
     },
     "execution_count": 376,
     "metadata": {},
     "output_type": "execute_result"
    }
   ],
   "source": [
    "df.months_curr_residence.isna().sum()"
   ]
  },
  {
   "cell_type": "code",
   "execution_count": 377,
   "metadata": {
    "ExecuteTime": {
     "end_time": "2019-09-11T11:36:43.593000Z",
     "start_time": "2019-09-11T11:36:43.582000Z"
    }
   },
   "outputs": [
    {
     "data": {
      "text/plain": [
       "count    69867.000000\n",
       "mean        34.608299\n",
       "std         36.846256\n",
       "min          6.000000\n",
       "5%           6.000000\n",
       "25%          6.000000\n",
       "50%         10.000000\n",
       "75%         61.000000\n",
       "95%        110.000000\n",
       "max        126.000000\n",
       "Name: months_curr_residence, dtype: float64"
      ]
     },
     "execution_count": 377,
     "metadata": {},
     "output_type": "execute_result"
    }
   ],
   "source": [
    "df.months_curr_residence.describe(percentiles=[.05, .25, .50, .75, .95])"
   ]
  },
  {
   "cell_type": "code",
   "execution_count": 378,
   "metadata": {
    "ExecuteTime": {
     "end_time": "2019-09-11T11:36:44.864000Z",
     "start_time": "2019-09-11T11:36:44.529000Z"
    }
   },
   "outputs": [
    {
     "data": {
      "text/plain": [
       "<matplotlib.axes._subplots.AxesSubplot at 0x166ab438>"
      ]
     },
     "execution_count": 378,
     "metadata": {},
     "output_type": "execute_result"
    },
    {
     "data": {
      "image/png": "[encoded data removed]",
      "text/plain": [
       "<Figure size 432x288 with 1 Axes>"
      ]
     },
     "metadata": {
      "needs_background": "light"
     },
     "output_type": "display_data"
    }
   ],
   "source": [
    "sns.distplot(df.months_curr_residence)"
   ]
  },
  {
   "cell_type": "code",
   "execution_count": 379,
   "metadata": {
    "ExecuteTime": {
     "end_time": "2019-09-11T11:36:45.840000Z",
     "start_time": "2019-09-11T11:36:45.539000Z"
    }
   },
   "outputs": [
    {
     "data": {
      "text/plain": [
       "<matplotlib.axes._subplots.AxesSubplot at 0xbd03ba8>"
      ]
     },
     "execution_count": 379,
     "metadata": {},
     "output_type": "execute_result"
    },
    {
     "data": {
      "image/png": "[encoded data removed]",
      "text/plain": [
       "<Figure size 432x288 with 1 Axes>"
      ]
     },
     "metadata": {
      "needs_background": "light"
     },
     "output_type": "display_data"
    }
   ],
   "source": [
    "# Plotting again while removing the long bar to get real idea of distribution\n",
    "sns.distplot(df.loc[df['months_curr_residence']>10, 'months_curr_residence'])"
   ]
  },
  {
   "cell_type": "code",
   "execution_count": 380,
   "metadata": {
    "ExecuteTime": {
     "end_time": "2019-09-11T11:36:46.757000Z",
     "start_time": "2019-09-11T11:36:46.575000Z"
    }
   },
   "outputs": [
    {
     "data": {
      "image/png": "[encoded data removed]",
      "text/plain": [
       "<Figure size 432x288 with 1 Axes>"
      ]
     },
     "metadata": {
      "needs_background": "light"
     },
     "output_type": "display_data"
    }
   ],
   "source": [
    "df.boxplot(column='months_curr_residence', by='performance');"
   ]
  },
  {
   "cell_type": "markdown",
   "metadata": {},
   "source": [
    "Observations:<br>\n",
    "<ol>\n",
    "   <li>It can be left as continuous but binning could help. Will decide based on WOE & IV </li>\n",
    "</ol>"
   ]
  },
  {
   "cell_type": "code",
   "execution_count": 381,
   "metadata": {
    "ExecuteTime": {
     "end_time": "2019-09-11T11:36:48.388000Z",
     "start_time": "2019-09-11T11:36:48.380000Z"
    }
   },
   "outputs": [],
   "source": [
    "mcr_bins = np.linspace(start=df.months_curr_residence.min(), stop=df.months_curr_residence.max(), num=5)"
   ]
  },
  {
   "cell_type": "code",
   "execution_count": 382,
   "metadata": {
    "ExecuteTime": {
     "end_time": "2019-09-11T11:36:49.256000Z",
     "start_time": "2019-09-11T11:36:49.196000Z"
    }
   },
   "outputs": [
    {
     "name": "stdout",
     "output_type": "stream",
     "text": [
      "IV is 1.271\n"
     ]
    },
    {
     "data": {
      "text/html": [
       "<div>\n",
       "<style scoped>\n",
       "    .dataframe tbody tr th:only-of-type {\n",
       "        vertical-align: middle;\n",
       "    }\n",
       "\n",
       "    .dataframe tbody tr th {\n",
       "        vertical-align: top;\n",
       "    }\n",
       "\n",
       "    .dataframe thead th {\n",
       "        text-align: right;\n",
       "    }\n",
       "</style>\n",
       "<table border=\"1\" class=\"dataframe\">\n",
       "  <thead>\n",
       "    <tr style=\"text-align: right;\">\n",
       "      <th></th>\n",
       "      <th>months_curr_residence-bin</th>\n",
       "      <th>non_event</th>\n",
       "      <th>event</th>\n",
       "      <th>count</th>\n",
       "      <th>event %</th>\n",
       "      <th>non_event %</th>\n",
       "      <th>WOE</th>\n",
       "      <th>event%-non_event%</th>\n",
       "      <th>IV</th>\n",
       "    </tr>\n",
       "  </thead>\n",
       "  <tbody>\n",
       "    <tr>\n",
       "      <th>0</th>\n",
       "      <td>(5.999, 36.0]</td>\n",
       "      <td>42673.0</td>\n",
       "      <td>1763.0</td>\n",
       "      <td>44436.0</td>\n",
       "      <td>59.823549</td>\n",
       "      <td>63.767185</td>\n",
       "      <td>-0.063839</td>\n",
       "      <td>-3.943635</td>\n",
       "      <td>0.251759</td>\n",
       "    </tr>\n",
       "    <tr>\n",
       "      <th>1</th>\n",
       "      <td>(36.0, 66.0]</td>\n",
       "      <td>9131.0</td>\n",
       "      <td>515.0</td>\n",
       "      <td>9646.0</td>\n",
       "      <td>17.475399</td>\n",
       "      <td>13.644650</td>\n",
       "      <td>0.247447</td>\n",
       "      <td>3.830748</td>\n",
       "      <td>0.947906</td>\n",
       "    </tr>\n",
       "    <tr>\n",
       "      <th>2</th>\n",
       "      <td>(66.0, 96.0]</td>\n",
       "      <td>8031.0</td>\n",
       "      <td>374.0</td>\n",
       "      <td>8405.0</td>\n",
       "      <td>12.690872</td>\n",
       "      <td>12.000897</td>\n",
       "      <td>0.055902</td>\n",
       "      <td>0.689975</td>\n",
       "      <td>0.038571</td>\n",
       "    </tr>\n",
       "    <tr>\n",
       "      <th>3</th>\n",
       "      <td>(96.0, 126.0]</td>\n",
       "      <td>7085.0</td>\n",
       "      <td>295.0</td>\n",
       "      <td>7380.0</td>\n",
       "      <td>10.010180</td>\n",
       "      <td>10.587268</td>\n",
       "      <td>-0.056050</td>\n",
       "      <td>-0.577089</td>\n",
       "      <td>0.032346</td>\n",
       "    </tr>\n",
       "  </tbody>\n",
       "</table>\n",
       "</div>"
      ],
      "text/plain": [
       "  months_curr_residence-bin  non_event   event    count    event %  \\\n",
       "0             (5.999, 36.0]    42673.0  1763.0  44436.0  59.823549   \n",
       "1              (36.0, 66.0]     9131.0   515.0   9646.0  17.475399   \n",
       "2              (66.0, 96.0]     8031.0   374.0   8405.0  12.690872   \n",
       "3             (96.0, 126.0]     7085.0   295.0   7380.0  10.010180   \n",
       "\n",
       "   non_event %       WOE  event%-non_event%        IV  \n",
       "0    63.767185 -0.063839          -3.943635  0.251759  \n",
       "1    13.644650  0.247447           3.830748  0.947906  \n",
       "2    12.000897  0.055902           0.689975  0.038571  \n",
       "3    10.587268 -0.056050          -0.577089  0.032346  "
      ]
     },
     "execution_count": 382,
     "metadata": {},
     "output_type": "execute_result"
    }
   ],
   "source": [
    "woe_iv(col='months_curr_residence',\n",
    "       target='performance',\n",
    "       mybins=mcr_bins)"
   ]
  },
  {
   "cell_type": "markdown",
   "metadata": {},
   "source": [
    "Unable to make WOE monotonic here. So leaving this column as it is."
   ]
  },
  {
   "cell_type": "markdown",
   "metadata": {},
   "source": [
    "#### months_curr_company"
   ]
  },
  {
   "cell_type": "code",
   "execution_count": 383,
   "metadata": {
    "ExecuteTime": {
     "end_time": "2019-09-11T11:36:51.671000Z",
     "start_time": "2019-09-11T11:36:51.663000Z"
    }
   },
   "outputs": [
    {
     "data": {
      "text/plain": [
       "0"
      ]
     },
     "execution_count": 383,
     "metadata": {},
     "output_type": "execute_result"
    }
   ],
   "source": [
    "df.months_curr_company.isna().sum()"
   ]
  },
  {
   "cell_type": "code",
   "execution_count": 384,
   "metadata": {
    "ExecuteTime": {
     "end_time": "2019-09-11T11:36:52.600000Z",
     "start_time": "2019-09-11T11:36:52.589000Z"
    }
   },
   "outputs": [
    {
     "data": {
      "text/plain": [
       "count    69867.000000\n",
       "mean        34.195257\n",
       "std         20.337346\n",
       "min          3.000000\n",
       "25%         17.000000\n",
       "50%         34.000000\n",
       "75%         51.000000\n",
       "max         85.000000\n",
       "Name: months_curr_company, dtype: float64"
      ]
     },
     "execution_count": 384,
     "metadata": {},
     "output_type": "execute_result"
    }
   ],
   "source": [
    "df.months_curr_company.describe()"
   ]
  },
  {
   "cell_type": "code",
   "execution_count": 385,
   "metadata": {
    "ExecuteTime": {
     "end_time": "2019-09-11T11:36:53.871000Z",
     "start_time": "2019-09-11T11:36:53.576000Z"
    }
   },
   "outputs": [
    {
     "data": {
      "text/plain": [
       "<matplotlib.axes._subplots.AxesSubplot at 0xcaea208>"
      ]
     },
     "execution_count": 385,
     "metadata": {},
     "output_type": "execute_result"
    },
    {
     "data": {
      "image/png": "[encoded data removed]",
      "text/plain": [
       "<Figure size 432x288 with 1 Axes>"
      ]
     },
     "metadata": {
      "needs_background": "light"
     },
     "output_type": "display_data"
    }
   ],
   "source": [
    "sns.distplot(df.months_curr_company)"
   ]
  },
  {
   "cell_type": "code",
   "execution_count": 386,
   "metadata": {
    "ExecuteTime": {
     "end_time": "2019-09-11T11:36:54.830000Z",
     "start_time": "2019-09-11T11:36:54.654000Z"
    }
   },
   "outputs": [
    {
     "data": {
      "image/png": "[encoded data removed]",
      "text/plain": [
       "<Figure size 432x288 with 1 Axes>"
      ]
     },
     "metadata": {
      "needs_background": "light"
     },
     "output_type": "display_data"
    }
   ],
   "source": [
    "df.boxplot(column='months_curr_company', by='performance');"
   ]
  },
  {
   "cell_type": "markdown",
   "metadata": {},
   "source": [
    "Observations:<br>\n",
    "<ol>\n",
    "    <li>Outlier treatment is needed for sure</li>\n",
    "   <li>It can be left as continuous but binning could help. Will decide based on WOE & IV </li>\n",
    "</ol>"
   ]
  },
  {
   "cell_type": "code",
   "execution_count": 387,
   "metadata": {
    "ExecuteTime": {
     "end_time": "2019-09-11T11:36:56.755000Z",
     "start_time": "2019-09-11T11:36:56.742000Z"
    }
   },
   "outputs": [],
   "source": [
    "df.loc[df['months_curr_company'] > 85, 'months_curr_company'] = 85"
   ]
  },
  {
   "cell_type": "code",
   "execution_count": 388,
   "metadata": {
    "ExecuteTime": {
     "end_time": "2019-09-11T11:37:00.407000Z",
     "start_time": "2019-09-11T11:37:00.398000Z"
    }
   },
   "outputs": [],
   "source": [
    "mcc_bins = np.linspace(start=df.months_curr_company.min(), stop=df.months_curr_company.max(), num=10)"
   ]
  },
  {
   "cell_type": "code",
   "execution_count": 389,
   "metadata": {
    "ExecuteTime": {
     "end_time": "2019-09-11T11:37:01.844000Z",
     "start_time": "2019-09-11T11:37:01.779000Z"
    }
   },
   "outputs": [
    {
     "name": "stdout",
     "output_type": "stream",
     "text": [
      "IV is 2.319\n"
     ]
    },
    {
     "data": {
      "text/html": [
       "<div>\n",
       "<style scoped>\n",
       "    .dataframe tbody tr th:only-of-type {\n",
       "        vertical-align: middle;\n",
       "    }\n",
       "\n",
       "    .dataframe tbody tr th {\n",
       "        vertical-align: top;\n",
       "    }\n",
       "\n",
       "    .dataframe thead th {\n",
       "        text-align: right;\n",
       "    }\n",
       "</style>\n",
       "<table border=\"1\" class=\"dataframe\">\n",
       "  <thead>\n",
       "    <tr style=\"text-align: right;\">\n",
       "      <th></th>\n",
       "      <th>months_curr_company-bin</th>\n",
       "      <th>non_event</th>\n",
       "      <th>event</th>\n",
       "      <th>count</th>\n",
       "      <th>event %</th>\n",
       "      <th>non_event %</th>\n",
       "      <th>WOE</th>\n",
       "      <th>event%-non_event%</th>\n",
       "      <th>IV</th>\n",
       "    </tr>\n",
       "  </thead>\n",
       "  <tbody>\n",
       "    <tr>\n",
       "      <th>0</th>\n",
       "      <td>(2.999, 12.111]</td>\n",
       "      <td>12838.0</td>\n",
       "      <td>649.0</td>\n",
       "      <td>13487.0</td>\n",
       "      <td>22.018660</td>\n",
       "      <td>19.184100</td>\n",
       "      <td>0.137808</td>\n",
       "      <td>2.834559</td>\n",
       "      <td>0.390626</td>\n",
       "    </tr>\n",
       "    <tr>\n",
       "      <th>1</th>\n",
       "      <td>(12.111, 21.222]</td>\n",
       "      <td>8394.0</td>\n",
       "      <td>459.0</td>\n",
       "      <td>8853.0</td>\n",
       "      <td>15.572519</td>\n",
       "      <td>12.543335</td>\n",
       "      <td>0.216318</td>\n",
       "      <td>3.029184</td>\n",
       "      <td>0.655268</td>\n",
       "    </tr>\n",
       "    <tr>\n",
       "      <th>2</th>\n",
       "      <td>(21.222, 30.333]</td>\n",
       "      <td>8731.0</td>\n",
       "      <td>356.0</td>\n",
       "      <td>9087.0</td>\n",
       "      <td>12.078032</td>\n",
       "      <td>13.046922</td>\n",
       "      <td>-0.077164</td>\n",
       "      <td>-0.968889</td>\n",
       "      <td>0.074763</td>\n",
       "    </tr>\n",
       "    <tr>\n",
       "      <th>3</th>\n",
       "      <td>(30.333, 39.444]</td>\n",
       "      <td>8750.0</td>\n",
       "      <td>391.0</td>\n",
       "      <td>9141.0</td>\n",
       "      <td>13.265479</td>\n",
       "      <td>13.075314</td>\n",
       "      <td>0.014439</td>\n",
       "      <td>0.190165</td>\n",
       "      <td>0.002746</td>\n",
       "    </tr>\n",
       "    <tr>\n",
       "      <th>4</th>\n",
       "      <td>(39.444, 48.556]</td>\n",
       "      <td>8981.0</td>\n",
       "      <td>344.0</td>\n",
       "      <td>9325.0</td>\n",
       "      <td>11.670908</td>\n",
       "      <td>13.420502</td>\n",
       "      <td>-0.139684</td>\n",
       "      <td>-1.749595</td>\n",
       "      <td>0.244391</td>\n",
       "    </tr>\n",
       "    <tr>\n",
       "      <th>5</th>\n",
       "      <td>(48.556, 57.667]</td>\n",
       "      <td>9000.0</td>\n",
       "      <td>311.0</td>\n",
       "      <td>9311.0</td>\n",
       "      <td>10.551315</td>\n",
       "      <td>13.448894</td>\n",
       "      <td>-0.242646</td>\n",
       "      <td>-2.897580</td>\n",
       "      <td>0.703087</td>\n",
       "    </tr>\n",
       "    <tr>\n",
       "      <th>6</th>\n",
       "      <td>(57.667, 66.778]</td>\n",
       "      <td>6241.0</td>\n",
       "      <td>240.0</td>\n",
       "      <td>6481.0</td>\n",
       "      <td>8.142494</td>\n",
       "      <td>9.326061</td>\n",
       "      <td>-0.135716</td>\n",
       "      <td>-1.183567</td>\n",
       "      <td>0.160629</td>\n",
       "    </tr>\n",
       "    <tr>\n",
       "      <th>7</th>\n",
       "      <td>(66.778, 75.889]</td>\n",
       "      <td>3975.0</td>\n",
       "      <td>197.0</td>\n",
       "      <td>4172.0</td>\n",
       "      <td>6.683630</td>\n",
       "      <td>5.939928</td>\n",
       "      <td>0.117964</td>\n",
       "      <td>0.743702</td>\n",
       "      <td>0.087730</td>\n",
       "    </tr>\n",
       "    <tr>\n",
       "      <th>8</th>\n",
       "      <td>(75.889, 85.0]</td>\n",
       "      <td>10.0</td>\n",
       "      <td>0.5</td>\n",
       "      <td>10.5</td>\n",
       "      <td>0.016964</td>\n",
       "      <td>0.014943</td>\n",
       "      <td>0.126808</td>\n",
       "      <td>0.002020</td>\n",
       "      <td>0.000256</td>\n",
       "    </tr>\n",
       "  </tbody>\n",
       "</table>\n",
       "</div>"
      ],
      "text/plain": [
       "  months_curr_company-bin  non_event  event    count    event %  non_event %  \\\n",
       "0         (2.999, 12.111]    12838.0  649.0  13487.0  22.018660    19.184100   \n",
       "1        (12.111, 21.222]     8394.0  459.0   8853.0  15.572519    12.543335   \n",
       "2        (21.222, 30.333]     8731.0  356.0   9087.0  12.078032    13.046922   \n",
       "3        (30.333, 39.444]     8750.0  391.0   9141.0  13.265479    13.075314   \n",
       "4        (39.444, 48.556]     8981.0  344.0   9325.0  11.670908    13.420502   \n",
       "5        (48.556, 57.667]     9000.0  311.0   9311.0  10.551315    13.448894   \n",
       "6        (57.667, 66.778]     6241.0  240.0   6481.0   8.142494     9.326061   \n",
       "7        (66.778, 75.889]     3975.0  197.0   4172.0   6.683630     5.939928   \n",
       "8          (75.889, 85.0]       10.0    0.5     10.5   0.016964     0.014943   \n",
       "\n",
       "        WOE  event%-non_event%        IV  \n",
       "0  0.137808           2.834559  0.390626  \n",
       "1  0.216318           3.029184  0.655268  \n",
       "2 -0.077164          -0.968889  0.074763  \n",
       "3  0.014439           0.190165  0.002746  \n",
       "4 -0.139684          -1.749595  0.244391  \n",
       "5 -0.242646          -2.897580  0.703087  \n",
       "6 -0.135716          -1.183567  0.160629  \n",
       "7  0.117964           0.743702  0.087730  \n",
       "8  0.126808           0.002020  0.000256  "
      ]
     },
     "execution_count": 389,
     "metadata": {},
     "output_type": "execute_result"
    }
   ],
   "source": [
    "woe_iv(col='months_curr_company',\n",
    "       target='performance',\n",
    "       mybins=mcc_bins)"
   ]
  },
  {
   "cell_type": "markdown",
   "metadata": {},
   "source": [
    "This is also not suitable for WOE values."
   ]
  },
  {
   "cell_type": "markdown",
   "metadata": {},
   "source": [
    "#### cc_util"
   ]
  },
  {
   "cell_type": "code",
   "execution_count": 390,
   "metadata": {
    "ExecuteTime": {
     "end_time": "2019-09-11T11:37:08.536000Z",
     "start_time": "2019-09-11T11:37:08.528000Z"
    }
   },
   "outputs": [
    {
     "data": {
      "text/plain": [
       "0"
      ]
     },
     "execution_count": 390,
     "metadata": {},
     "output_type": "execute_result"
    }
   ],
   "source": [
    "df.cc_util.isna().sum()"
   ]
  },
  {
   "cell_type": "code",
   "execution_count": 391,
   "metadata": {
    "ExecuteTime": {
     "end_time": "2019-09-11T11:37:09.678000Z",
     "start_time": "2019-09-11T11:37:09.666000Z"
    }
   },
   "outputs": [
    {
     "data": {
      "text/plain": [
       "count    69867.000000\n",
       "mean        29.054733\n",
       "std         29.347227\n",
       "min          0.000000\n",
       "25%          8.000000\n",
       "50%         15.000000\n",
       "75%         44.000000\n",
       "max        113.000000\n",
       "Name: cc_util, dtype: float64"
      ]
     },
     "execution_count": 391,
     "metadata": {},
     "output_type": "execute_result"
    }
   ],
   "source": [
    "df.cc_util.describe()"
   ]
  },
  {
   "cell_type": "code",
   "execution_count": 392,
   "metadata": {
    "ExecuteTime": {
     "end_time": "2019-09-11T11:37:11.487000Z",
     "start_time": "2019-09-11T11:37:11.321000Z"
    }
   },
   "outputs": [
    {
     "data": {
      "text/plain": [
       "<matplotlib.axes._subplots.AxesSubplot at 0xcb72e48>"
      ]
     },
     "execution_count": 392,
     "metadata": {},
     "output_type": "execute_result"
    },
    {
     "data": {
      "image/png": "[encoded data removed]",
      "text/plain": [
       "<Figure size 432x288 with 1 Axes>"
      ]
     },
     "metadata": {
      "needs_background": "light"
     },
     "output_type": "display_data"
    }
   ],
   "source": [
    "sns.boxplot(df['cc_util'])"
   ]
  },
  {
   "cell_type": "code",
   "execution_count": 395,
   "metadata": {
    "ExecuteTime": {
     "end_time": "2019-09-11T11:38:33.780000Z",
     "start_time": "2019-09-11T11:38:33.467000Z"
    }
   },
   "outputs": [
    {
     "data": {
      "text/plain": [
       "<matplotlib.axes._subplots.AxesSubplot at 0xfb9d668>"
      ]
     },
     "execution_count": 395,
     "metadata": {},
     "output_type": "execute_result"
    },
    {
     "data": {
      "image/png": "[encoded data removed]",
      "text/plain": [
       "<Figure size 432x288 with 1 Axes>"
      ]
     },
     "metadata": {
      "needs_background": "light"
     },
     "output_type": "display_data"
    }
   ],
   "source": [
    "sns.distplot(df.cc_util.dropna())"
   ]
  },
  {
   "cell_type": "code",
   "execution_count": 396,
   "metadata": {
    "ExecuteTime": {
     "end_time": "2019-09-11T11:38:34.889000Z",
     "start_time": "2019-09-11T11:38:34.701000Z"
    }
   },
   "outputs": [
    {
     "data": {
      "image/png": "[encoded data removed]",
      "text/plain": [
       "<Figure size 432x288 with 1 Axes>"
      ]
     },
     "metadata": {
      "needs_background": "light"
     },
     "output_type": "display_data"
    }
   ],
   "source": [
    "df.boxplot(column='cc_util', by='performance');"
   ]
  },
  {
   "cell_type": "markdown",
   "metadata": {},
   "source": [
    "Observations:<br>\n",
    "<ol>\n",
    "    <li>Needs missing values imputed</li>\n",
    "    <li>Outlier treatment is needed for sure</li>\n",
    "    <li>Very significant feature</li>\n",
    "   <li>It can be left as continuous but binning could help. Will decide based on WOE & IV </li>\n",
    "</ol>"
   ]
  },
  {
   "cell_type": "code",
   "execution_count": 398,
   "metadata": {
    "ExecuteTime": {
     "end_time": "2019-09-11T11:38:46.512000Z",
     "start_time": "2019-09-11T11:38:46.504000Z"
    }
   },
   "outputs": [],
   "source": [
    "df['cc_util'] = df['cc_util'].fillna(value=0)"
   ]
  },
  {
   "cell_type": "code",
   "execution_count": 399,
   "metadata": {
    "ExecuteTime": {
     "end_time": "2019-09-11T11:38:46.529000Z",
     "start_time": "2019-09-11T11:38:46.513000Z"
    }
   },
   "outputs": [
    {
     "data": {
      "text/plain": [
       "array([  0.        ,  12.55555556,  25.11111111,  37.66666667,\n",
       "        50.22222222,  62.77777778,  75.33333333,  87.88888889,\n",
       "       100.44444444, 113.        ])"
      ]
     },
     "execution_count": 399,
     "metadata": {},
     "output_type": "execute_result"
    }
   ],
   "source": [
    "cc_util_bins =  np.linspace(start=df.cc_util.min(), stop=df.cc_util.max(), num=10)\n",
    "cc_util_bins"
   ]
  },
  {
   "cell_type": "code",
   "execution_count": 400,
   "metadata": {
    "ExecuteTime": {
     "end_time": "2019-09-11T11:38:46.598000Z",
     "start_time": "2019-09-11T11:38:46.531000Z"
    }
   },
   "outputs": [
    {
     "name": "stdout",
     "output_type": "stream",
     "text": [
      "IV is 30.255\n"
     ]
    },
    {
     "data": {
      "text/html": [
       "<div>\n",
       "<style scoped>\n",
       "    .dataframe tbody tr th:only-of-type {\n",
       "        vertical-align: middle;\n",
       "    }\n",
       "\n",
       "    .dataframe tbody tr th {\n",
       "        vertical-align: top;\n",
       "    }\n",
       "\n",
       "    .dataframe thead th {\n",
       "        text-align: right;\n",
       "    }\n",
       "</style>\n",
       "<table border=\"1\" class=\"dataframe\">\n",
       "  <thead>\n",
       "    <tr style=\"text-align: right;\">\n",
       "      <th></th>\n",
       "      <th>cc_util-bin</th>\n",
       "      <th>non_event</th>\n",
       "      <th>event</th>\n",
       "      <th>count</th>\n",
       "      <th>event %</th>\n",
       "      <th>non_event %</th>\n",
       "      <th>WOE</th>\n",
       "      <th>event%-non_event%</th>\n",
       "      <th>IV</th>\n",
       "    </tr>\n",
       "  </thead>\n",
       "  <tbody>\n",
       "    <tr>\n",
       "      <th>0</th>\n",
       "      <td>(-0.001, 12.556]</td>\n",
       "      <td>29405.0</td>\n",
       "      <td>619.0</td>\n",
       "      <td>30024.0</td>\n",
       "      <td>21.004411</td>\n",
       "      <td>43.940526</td>\n",
       "      <td>-0.738105</td>\n",
       "      <td>-22.936115</td>\n",
       "      <td>16.929251</td>\n",
       "    </tr>\n",
       "    <tr>\n",
       "      <th>1</th>\n",
       "      <td>(12.556, 25.111]</td>\n",
       "      <td>13591.0</td>\n",
       "      <td>567.0</td>\n",
       "      <td>14158.0</td>\n",
       "      <td>19.239905</td>\n",
       "      <td>20.309325</td>\n",
       "      <td>-0.054094</td>\n",
       "      <td>-1.069420</td>\n",
       "      <td>0.057849</td>\n",
       "    </tr>\n",
       "    <tr>\n",
       "      <th>2</th>\n",
       "      <td>(25.111, 37.667]</td>\n",
       "      <td>4537.0</td>\n",
       "      <td>336.0</td>\n",
       "      <td>4873.0</td>\n",
       "      <td>11.401425</td>\n",
       "      <td>6.779737</td>\n",
       "      <td>0.519800</td>\n",
       "      <td>4.621688</td>\n",
       "      <td>2.402354</td>\n",
       "    </tr>\n",
       "    <tr>\n",
       "      <th>3</th>\n",
       "      <td>(37.667, 50.222]</td>\n",
       "      <td>5811.0</td>\n",
       "      <td>471.0</td>\n",
       "      <td>6282.0</td>\n",
       "      <td>15.982355</td>\n",
       "      <td>8.683503</td>\n",
       "      <td>0.610060</td>\n",
       "      <td>7.298852</td>\n",
       "      <td>4.452740</td>\n",
       "    </tr>\n",
       "    <tr>\n",
       "      <th>4</th>\n",
       "      <td>(50.222, 62.778]</td>\n",
       "      <td>4507.0</td>\n",
       "      <td>330.0</td>\n",
       "      <td>4837.0</td>\n",
       "      <td>11.197828</td>\n",
       "      <td>6.734907</td>\n",
       "      <td>0.508416</td>\n",
       "      <td>4.462921</td>\n",
       "      <td>2.269020</td>\n",
       "    </tr>\n",
       "    <tr>\n",
       "      <th>5</th>\n",
       "      <td>(62.778, 75.333]</td>\n",
       "      <td>3270.0</td>\n",
       "      <td>267.0</td>\n",
       "      <td>3537.0</td>\n",
       "      <td>9.060061</td>\n",
       "      <td>4.886432</td>\n",
       "      <td>0.617414</td>\n",
       "      <td>4.173630</td>\n",
       "      <td>2.576855</td>\n",
       "    </tr>\n",
       "    <tr>\n",
       "      <th>6</th>\n",
       "      <td>(75.333, 87.889]</td>\n",
       "      <td>1621.0</td>\n",
       "      <td>126.0</td>\n",
       "      <td>1747.0</td>\n",
       "      <td>4.275534</td>\n",
       "      <td>2.422295</td>\n",
       "      <td>0.568194</td>\n",
       "      <td>1.853239</td>\n",
       "      <td>1.052999</td>\n",
       "    </tr>\n",
       "    <tr>\n",
       "      <th>7</th>\n",
       "      <td>(87.889, 100.444]</td>\n",
       "      <td>731.0</td>\n",
       "      <td>54.0</td>\n",
       "      <td>785.0</td>\n",
       "      <td>1.832372</td>\n",
       "      <td>1.092349</td>\n",
       "      <td>0.517281</td>\n",
       "      <td>0.740023</td>\n",
       "      <td>0.382800</td>\n",
       "    </tr>\n",
       "    <tr>\n",
       "      <th>8</th>\n",
       "      <td>(100.444, 113.0]</td>\n",
       "      <td>3447.0</td>\n",
       "      <td>177.0</td>\n",
       "      <td>3624.0</td>\n",
       "      <td>6.006108</td>\n",
       "      <td>5.150926</td>\n",
       "      <td>0.153600</td>\n",
       "      <td>0.855181</td>\n",
       "      <td>0.131356</td>\n",
       "    </tr>\n",
       "  </tbody>\n",
       "</table>\n",
       "</div>"
      ],
      "text/plain": [
       "         cc_util-bin  non_event  event    count    event %  non_event %  \\\n",
       "0   (-0.001, 12.556]    29405.0  619.0  30024.0  21.004411    43.940526   \n",
       "1   (12.556, 25.111]    13591.0  567.0  14158.0  19.239905    20.309325   \n",
       "2   (25.111, 37.667]     4537.0  336.0   4873.0  11.401425     6.779737   \n",
       "3   (37.667, 50.222]     5811.0  471.0   6282.0  15.982355     8.683503   \n",
       "4   (50.222, 62.778]     4507.0  330.0   4837.0  11.197828     6.734907   \n",
       "5   (62.778, 75.333]     3270.0  267.0   3537.0   9.060061     4.886432   \n",
       "6   (75.333, 87.889]     1621.0  126.0   1747.0   4.275534     2.422295   \n",
       "7  (87.889, 100.444]      731.0   54.0    785.0   1.832372     1.092349   \n",
       "8   (100.444, 113.0]     3447.0  177.0   3624.0   6.006108     5.150926   \n",
       "\n",
       "        WOE  event%-non_event%         IV  \n",
       "0 -0.738105         -22.936115  16.929251  \n",
       "1 -0.054094          -1.069420   0.057849  \n",
       "2  0.519800           4.621688   2.402354  \n",
       "3  0.610060           7.298852   4.452740  \n",
       "4  0.508416           4.462921   2.269020  \n",
       "5  0.617414           4.173630   2.576855  \n",
       "6  0.568194           1.853239   1.052999  \n",
       "7  0.517281           0.740023   0.382800  \n",
       "8  0.153600           0.855181   0.131356  "
      ]
     },
     "execution_count": 400,
     "metadata": {},
     "output_type": "execute_result"
    }
   ],
   "source": [
    "cc_util_woe = woe_iv(col='cc_util',\n",
    "       target='performance',\n",
    "       mybins=cc_util_bins)\n",
    "cc_util_woe"
   ]
  },
  {
   "cell_type": "markdown",
   "metadata": {
    "ExecuteTime": {
     "end_time": "2019-08-25T07:13:32.581452Z",
     "start_time": "2019-08-25T07:13:32.575468Z"
    }
   },
   "source": [
    "Not suitable for WOE Values"
   ]
  },
  {
   "cell_type": "code",
   "execution_count": 401,
   "metadata": {
    "ExecuteTime": {
     "end_time": "2019-09-11T11:38:46.987000Z",
     "start_time": "2019-09-11T11:38:46.603000Z"
    }
   },
   "outputs": [
    {
     "data": {
      "image/png": "[encoded data removed]",
      "text/plain": [
       "<Figure size 720x576 with 1 Axes>"
      ]
     },
     "metadata": {
      "needs_background": "light"
     },
     "output_type": "display_data"
    }
   ],
   "source": [
    "N = 9\n",
    "plt.figure(figsize=(10,8))\n",
    "event = cc_util_woe['event']\n",
    "non_event = cc_util_woe['non_event']\n",
    "\n",
    "ind = np.arange(N)    # the x locations for the groups\n",
    "width = 0.35       # the width of the bars: can also be len(x) sequence\n",
    "\n",
    "p1 = plt.bar(ind, non_event, width)\n",
    "p2 = plt.bar(ind, event, width, bottom=non_event)\n",
    "\n",
    "plt.ylabel('Performance')\n",
    "plt.title('Performance by cc utilization bin wise')\n",
    "plt.xticks(ind, cc_util_woe['cc_util-bin'], rotation=20)\n",
    "plt.yticks(np.arange(0, 33000, 2000))\n",
    "plt.legend((p1[0], p2[0]), ('0', '1'));"
   ]
  },
  {
   "cell_type": "markdown",
   "metadata": {},
   "source": [
    "#### trades 6m"
   ]
  },
  {
   "cell_type": "code",
   "execution_count": 402,
   "metadata": {
    "ExecuteTime": {
     "end_time": "2019-09-11T11:38:46.998000Z",
     "start_time": "2019-09-11T11:38:46.989000Z"
    }
   },
   "outputs": [
    {
     "data": {
      "text/plain": [
       "0"
      ]
     },
     "execution_count": 402,
     "metadata": {},
     "output_type": "execute_result"
    }
   ],
   "source": [
    "df['trades_6m'].isna().sum()"
   ]
  },
  {
   "cell_type": "code",
   "execution_count": 403,
   "metadata": {
    "ExecuteTime": {
     "end_time": "2019-09-11T11:38:47.033000Z",
     "start_time": "2019-09-11T11:38:47Z"
    }
   },
   "outputs": [],
   "source": [
    "df.loc[df['trades_6m'].isna(),'trades_6m'] = 0.0"
   ]
  },
  {
   "cell_type": "code",
   "execution_count": 404,
   "metadata": {
    "ExecuteTime": {
     "end_time": "2019-09-11T11:38:47.071000Z",
     "start_time": "2019-09-11T11:38:47.035000Z"
    }
   },
   "outputs": [
    {
     "data": {
      "text/html": [
       "<div>\n",
       "<style scoped>\n",
       "    .dataframe tbody tr th:only-of-type {\n",
       "        vertical-align: middle;\n",
       "    }\n",
       "\n",
       "    .dataframe tbody tr th {\n",
       "        vertical-align: top;\n",
       "    }\n",
       "\n",
       "    .dataframe thead th {\n",
       "        text-align: right;\n",
       "    }\n",
       "</style>\n",
       "<table border=\"1\" class=\"dataframe\">\n",
       "  <thead>\n",
       "    <tr style=\"text-align: right;\">\n",
       "      <th>performance</th>\n",
       "      <th>0.0</th>\n",
       "      <th>1.0</th>\n",
       "      <th>delinq%</th>\n",
       "    </tr>\n",
       "    <tr>\n",
       "      <th>trades_6m</th>\n",
       "      <th></th>\n",
       "      <th></th>\n",
       "      <th></th>\n",
       "    </tr>\n",
       "  </thead>\n",
       "  <tbody>\n",
       "    <tr>\n",
       "      <th>0.0</th>\n",
       "      <td>11923</td>\n",
       "      <td>272</td>\n",
       "      <td>2.230</td>\n",
       "    </tr>\n",
       "    <tr>\n",
       "      <th>1.0</th>\n",
       "      <td>19587</td>\n",
       "      <td>534</td>\n",
       "      <td>2.654</td>\n",
       "    </tr>\n",
       "    <tr>\n",
       "      <th>2.0</th>\n",
       "      <td>11478</td>\n",
       "      <td>638</td>\n",
       "      <td>5.266</td>\n",
       "    </tr>\n",
       "    <tr>\n",
       "      <th>3.0</th>\n",
       "      <td>8803</td>\n",
       "      <td>599</td>\n",
       "      <td>6.371</td>\n",
       "    </tr>\n",
       "    <tr>\n",
       "      <th>4.0</th>\n",
       "      <td>5861</td>\n",
       "      <td>436</td>\n",
       "      <td>6.924</td>\n",
       "    </tr>\n",
       "    <tr>\n",
       "      <th>5.0</th>\n",
       "      <td>3453</td>\n",
       "      <td>212</td>\n",
       "      <td>5.784</td>\n",
       "    </tr>\n",
       "    <tr>\n",
       "      <th>6.0</th>\n",
       "      <td>2227</td>\n",
       "      <td>109</td>\n",
       "      <td>4.666</td>\n",
       "    </tr>\n",
       "    <tr>\n",
       "      <th>7.0</th>\n",
       "      <td>1584</td>\n",
       "      <td>65</td>\n",
       "      <td>3.942</td>\n",
       "    </tr>\n",
       "    <tr>\n",
       "      <th>8.0</th>\n",
       "      <td>1102</td>\n",
       "      <td>52</td>\n",
       "      <td>4.506</td>\n",
       "    </tr>\n",
       "    <tr>\n",
       "      <th>9.0</th>\n",
       "      <td>597</td>\n",
       "      <td>21</td>\n",
       "      <td>3.398</td>\n",
       "    </tr>\n",
       "    <tr>\n",
       "      <th>10.0</th>\n",
       "      <td>231</td>\n",
       "      <td>7</td>\n",
       "      <td>2.941</td>\n",
       "    </tr>\n",
       "    <tr>\n",
       "      <th>11.0</th>\n",
       "      <td>63</td>\n",
       "      <td>2</td>\n",
       "      <td>3.077</td>\n",
       "    </tr>\n",
       "    <tr>\n",
       "      <th>12.0</th>\n",
       "      <td>11</td>\n",
       "      <td>0</td>\n",
       "      <td>0.000</td>\n",
       "    </tr>\n",
       "  </tbody>\n",
       "</table>\n",
       "</div>"
      ],
      "text/plain": [
       "performance    0.0  1.0  delinq%\n",
       "trades_6m                       \n",
       "0.0          11923  272    2.230\n",
       "1.0          19587  534    2.654\n",
       "2.0          11478  638    5.266\n",
       "3.0           8803  599    6.371\n",
       "4.0           5861  436    6.924\n",
       "5.0           3453  212    5.784\n",
       "6.0           2227  109    4.666\n",
       "7.0           1584   65    3.942\n",
       "8.0           1102   52    4.506\n",
       "9.0            597   21    3.398\n",
       "10.0           231    7    2.941\n",
       "11.0            63    2    3.077\n",
       "12.0            11    0    0.000"
      ]
     },
     "execution_count": 404,
     "metadata": {},
     "output_type": "execute_result"
    }
   ],
   "source": [
    "catg_analysis('trades_6m')"
   ]
  },
  {
   "cell_type": "code",
   "execution_count": 405,
   "metadata": {
    "ExecuteTime": {
     "end_time": "2019-09-11T11:38:47.081000Z",
     "start_time": "2019-09-11T11:38:47.073000Z"
    }
   },
   "outputs": [
    {
     "data": {
      "text/plain": [
       "[0, 1, 2, 3, 4, 5, 6, 7, 8, 9, 10, 11, 12]"
      ]
     },
     "execution_count": 405,
     "metadata": {},
     "output_type": "execute_result"
    }
   ],
   "source": [
    "t6m_bins = list(range(0,13))\n",
    "t6m_bins"
   ]
  },
  {
   "cell_type": "code",
   "execution_count": 406,
   "metadata": {
    "ExecuteTime": {
     "end_time": "2019-09-11T11:38:47.105000Z",
     "start_time": "2019-09-11T11:38:47.082000Z"
    }
   },
   "outputs": [],
   "source": [
    "t6m_bins = [0, 1, 2, 3, 12]"
   ]
  },
  {
   "cell_type": "code",
   "execution_count": 407,
   "metadata": {
    "ExecuteTime": {
     "end_time": "2019-09-11T11:38:47.180000Z",
     "start_time": "2019-09-11T11:38:47.110000Z"
    }
   },
   "outputs": [
    {
     "name": "stdout",
     "output_type": "stream",
     "text": [
      "IV is 17.352\n"
     ]
    },
    {
     "data": {
      "text/html": [
       "<div>\n",
       "<style scoped>\n",
       "    .dataframe tbody tr th:only-of-type {\n",
       "        vertical-align: middle;\n",
       "    }\n",
       "\n",
       "    .dataframe tbody tr th {\n",
       "        vertical-align: top;\n",
       "    }\n",
       "\n",
       "    .dataframe thead th {\n",
       "        text-align: right;\n",
       "    }\n",
       "</style>\n",
       "<table border=\"1\" class=\"dataframe\">\n",
       "  <thead>\n",
       "    <tr style=\"text-align: right;\">\n",
       "      <th></th>\n",
       "      <th>trades_6m-bin</th>\n",
       "      <th>non_event</th>\n",
       "      <th>event</th>\n",
       "      <th>count</th>\n",
       "      <th>event %</th>\n",
       "      <th>non_event %</th>\n",
       "      <th>WOE</th>\n",
       "      <th>event%-non_event%</th>\n",
       "      <th>IV</th>\n",
       "    </tr>\n",
       "  </thead>\n",
       "  <tbody>\n",
       "    <tr>\n",
       "      <th>0</th>\n",
       "      <td>(-0.001, 1.0]</td>\n",
       "      <td>31510.0</td>\n",
       "      <td>806.0</td>\n",
       "      <td>32316.0</td>\n",
       "      <td>27.349847</td>\n",
       "      <td>47.086073</td>\n",
       "      <td>-0.543266</td>\n",
       "      <td>-19.736226</td>\n",
       "      <td>10.722027</td>\n",
       "    </tr>\n",
       "    <tr>\n",
       "      <th>1</th>\n",
       "      <td>(1.0, 2.0]</td>\n",
       "      <td>11478.0</td>\n",
       "      <td>638.0</td>\n",
       "      <td>12116.0</td>\n",
       "      <td>21.649135</td>\n",
       "      <td>17.151823</td>\n",
       "      <td>0.232861</td>\n",
       "      <td>4.497312</td>\n",
       "      <td>1.047249</td>\n",
       "    </tr>\n",
       "    <tr>\n",
       "      <th>2</th>\n",
       "      <td>(2.0, 3.0]</td>\n",
       "      <td>8803.0</td>\n",
       "      <td>599.0</td>\n",
       "      <td>9402.0</td>\n",
       "      <td>20.325755</td>\n",
       "      <td>13.154513</td>\n",
       "      <td>0.435124</td>\n",
       "      <td>7.171242</td>\n",
       "      <td>3.120379</td>\n",
       "    </tr>\n",
       "    <tr>\n",
       "      <th>3</th>\n",
       "      <td>(3.0, 12.0]</td>\n",
       "      <td>15129.0</td>\n",
       "      <td>904.0</td>\n",
       "      <td>16033.0</td>\n",
       "      <td>30.675263</td>\n",
       "      <td>22.607591</td>\n",
       "      <td>0.305171</td>\n",
       "      <td>8.067672</td>\n",
       "      <td>2.462018</td>\n",
       "    </tr>\n",
       "  </tbody>\n",
       "</table>\n",
       "</div>"
      ],
      "text/plain": [
       "   trades_6m-bin  non_event  event    count    event %  non_event %       WOE  \\\n",
       "0  (-0.001, 1.0]    31510.0  806.0  32316.0  27.349847    47.086073 -0.543266   \n",
       "1     (1.0, 2.0]    11478.0  638.0  12116.0  21.649135    17.151823  0.232861   \n",
       "2     (2.0, 3.0]     8803.0  599.0   9402.0  20.325755    13.154513  0.435124   \n",
       "3    (3.0, 12.0]    15129.0  904.0  16033.0  30.675263    22.607591  0.305171   \n",
       "\n",
       "   event%-non_event%         IV  \n",
       "0         -19.736226  10.722027  \n",
       "1           4.497312   1.047249  \n",
       "2           7.171242   3.120379  \n",
       "3           8.067672   2.462018  "
      ]
     },
     "execution_count": 407,
     "metadata": {},
     "output_type": "execute_result"
    }
   ],
   "source": [
    "woe_iv(col='trades_6m', target='performance', mybins=t6m_bins)"
   ]
  },
  {
   "cell_type": "markdown",
   "metadata": {},
   "source": [
    "Not suitable for WOE Values"
   ]
  },
  {
   "cell_type": "markdown",
   "metadata": {},
   "source": [
    "#### trades 12m"
   ]
  },
  {
   "cell_type": "code",
   "execution_count": 408,
   "metadata": {
    "ExecuteTime": {
     "end_time": "2019-09-11T11:38:47.194000Z",
     "start_time": "2019-09-11T11:38:47.185000Z"
    }
   },
   "outputs": [
    {
     "data": {
      "text/plain": [
       "0"
      ]
     },
     "execution_count": 408,
     "metadata": {},
     "output_type": "execute_result"
    }
   ],
   "source": [
    "df['trades_12m'].isna().sum()"
   ]
  },
  {
   "cell_type": "code",
   "execution_count": 409,
   "metadata": {
    "ExecuteTime": {
     "end_time": "2019-09-11T11:38:47.246000Z",
     "start_time": "2019-09-11T11:38:47.195000Z"
    },
    "scrolled": true
   },
   "outputs": [
    {
     "data": {
      "text/html": [
       "<div>\n",
       "<style scoped>\n",
       "    .dataframe tbody tr th:only-of-type {\n",
       "        vertical-align: middle;\n",
       "    }\n",
       "\n",
       "    .dataframe tbody tr th {\n",
       "        vertical-align: top;\n",
       "    }\n",
       "\n",
       "    .dataframe thead th {\n",
       "        text-align: right;\n",
       "    }\n",
       "</style>\n",
       "<table border=\"1\" class=\"dataframe\">\n",
       "  <thead>\n",
       "    <tr style=\"text-align: right;\">\n",
       "      <th>performance</th>\n",
       "      <th>0.0</th>\n",
       "      <th>1.0</th>\n",
       "      <th>delinq%</th>\n",
       "    </tr>\n",
       "    <tr>\n",
       "      <th>trades_12m</th>\n",
       "      <th></th>\n",
       "      <th></th>\n",
       "      <th></th>\n",
       "    </tr>\n",
       "  </thead>\n",
       "  <tbody>\n",
       "    <tr>\n",
       "      <th>0</th>\n",
       "      <td>4845</td>\n",
       "      <td>111</td>\n",
       "      <td>2.240</td>\n",
       "    </tr>\n",
       "    <tr>\n",
       "      <th>1</th>\n",
       "      <td>11199</td>\n",
       "      <td>178</td>\n",
       "      <td>1.565</td>\n",
       "    </tr>\n",
       "    <tr>\n",
       "      <th>2</th>\n",
       "      <td>9145</td>\n",
       "      <td>178</td>\n",
       "      <td>1.909</td>\n",
       "    </tr>\n",
       "    <tr>\n",
       "      <th>3</th>\n",
       "      <td>4480</td>\n",
       "      <td>198</td>\n",
       "      <td>4.233</td>\n",
       "    </tr>\n",
       "    <tr>\n",
       "      <th>4</th>\n",
       "      <td>4642</td>\n",
       "      <td>208</td>\n",
       "      <td>4.289</td>\n",
       "    </tr>\n",
       "    <tr>\n",
       "      <th>5</th>\n",
       "      <td>4315</td>\n",
       "      <td>232</td>\n",
       "      <td>5.102</td>\n",
       "    </tr>\n",
       "    <tr>\n",
       "      <th>6</th>\n",
       "      <td>3940</td>\n",
       "      <td>267</td>\n",
       "      <td>6.347</td>\n",
       "    </tr>\n",
       "    <tr>\n",
       "      <th>7</th>\n",
       "      <td>3822</td>\n",
       "      <td>268</td>\n",
       "      <td>6.553</td>\n",
       "    </tr>\n",
       "    <tr>\n",
       "      <th>8</th>\n",
       "      <td>3494</td>\n",
       "      <td>305</td>\n",
       "      <td>8.028</td>\n",
       "    </tr>\n",
       "    <tr>\n",
       "      <th>9</th>\n",
       "      <td>3162</td>\n",
       "      <td>214</td>\n",
       "      <td>6.339</td>\n",
       "    </tr>\n",
       "    <tr>\n",
       "      <th>10</th>\n",
       "      <td>2617</td>\n",
       "      <td>199</td>\n",
       "      <td>7.067</td>\n",
       "    </tr>\n",
       "    <tr>\n",
       "      <th>11</th>\n",
       "      <td>2043</td>\n",
       "      <td>136</td>\n",
       "      <td>6.241</td>\n",
       "    </tr>\n",
       "    <tr>\n",
       "      <th>12</th>\n",
       "      <td>1589</td>\n",
       "      <td>115</td>\n",
       "      <td>6.749</td>\n",
       "    </tr>\n",
       "    <tr>\n",
       "      <th>13</th>\n",
       "      <td>1298</td>\n",
       "      <td>74</td>\n",
       "      <td>5.394</td>\n",
       "    </tr>\n",
       "    <tr>\n",
       "      <th>14</th>\n",
       "      <td>1064</td>\n",
       "      <td>50</td>\n",
       "      <td>4.488</td>\n",
       "    </tr>\n",
       "    <tr>\n",
       "      <th>15</th>\n",
       "      <td>1028</td>\n",
       "      <td>40</td>\n",
       "      <td>3.745</td>\n",
       "    </tr>\n",
       "    <tr>\n",
       "      <th>16</th>\n",
       "      <td>946</td>\n",
       "      <td>46</td>\n",
       "      <td>4.637</td>\n",
       "    </tr>\n",
       "    <tr>\n",
       "      <th>17</th>\n",
       "      <td>832</td>\n",
       "      <td>28</td>\n",
       "      <td>3.256</td>\n",
       "    </tr>\n",
       "    <tr>\n",
       "      <th>18</th>\n",
       "      <td>710</td>\n",
       "      <td>26</td>\n",
       "      <td>3.533</td>\n",
       "    </tr>\n",
       "    <tr>\n",
       "      <th>19</th>\n",
       "      <td>586</td>\n",
       "      <td>26</td>\n",
       "      <td>4.248</td>\n",
       "    </tr>\n",
       "    <tr>\n",
       "      <th>20</th>\n",
       "      <td>415</td>\n",
       "      <td>19</td>\n",
       "      <td>4.378</td>\n",
       "    </tr>\n",
       "    <tr>\n",
       "      <th>21</th>\n",
       "      <td>293</td>\n",
       "      <td>15</td>\n",
       "      <td>4.870</td>\n",
       "    </tr>\n",
       "    <tr>\n",
       "      <th>22</th>\n",
       "      <td>215</td>\n",
       "      <td>3</td>\n",
       "      <td>1.376</td>\n",
       "    </tr>\n",
       "    <tr>\n",
       "      <th>23</th>\n",
       "      <td>116</td>\n",
       "      <td>5</td>\n",
       "      <td>4.132</td>\n",
       "    </tr>\n",
       "    <tr>\n",
       "      <th>24</th>\n",
       "      <td>68</td>\n",
       "      <td>5</td>\n",
       "      <td>6.849</td>\n",
       "    </tr>\n",
       "    <tr>\n",
       "      <th>25</th>\n",
       "      <td>33</td>\n",
       "      <td>1</td>\n",
       "      <td>2.941</td>\n",
       "    </tr>\n",
       "    <tr>\n",
       "      <th>26</th>\n",
       "      <td>11</td>\n",
       "      <td>0</td>\n",
       "      <td>0.000</td>\n",
       "    </tr>\n",
       "    <tr>\n",
       "      <th>27</th>\n",
       "      <td>9</td>\n",
       "      <td>0</td>\n",
       "      <td>0.000</td>\n",
       "    </tr>\n",
       "    <tr>\n",
       "      <th>28</th>\n",
       "      <td>3</td>\n",
       "      <td>0</td>\n",
       "      <td>0.000</td>\n",
       "    </tr>\n",
       "  </tbody>\n",
       "</table>\n",
       "</div>"
      ],
      "text/plain": [
       "performance    0.0  1.0  delinq%\n",
       "trades_12m                      \n",
       "0             4845  111    2.240\n",
       "1            11199  178    1.565\n",
       "2             9145  178    1.909\n",
       "3             4480  198    4.233\n",
       "4             4642  208    4.289\n",
       "5             4315  232    5.102\n",
       "6             3940  267    6.347\n",
       "7             3822  268    6.553\n",
       "8             3494  305    8.028\n",
       "9             3162  214    6.339\n",
       "10            2617  199    7.067\n",
       "11            2043  136    6.241\n",
       "12            1589  115    6.749\n",
       "13            1298   74    5.394\n",
       "14            1064   50    4.488\n",
       "15            1028   40    3.745\n",
       "16             946   46    4.637\n",
       "17             832   28    3.256\n",
       "18             710   26    3.533\n",
       "19             586   26    4.248\n",
       "20             415   19    4.378\n",
       "21             293   15    4.870\n",
       "22             215    3    1.376\n",
       "23             116    5    4.132\n",
       "24              68    5    6.849\n",
       "25              33    1    2.941\n",
       "26              11    0    0.000\n",
       "27               9    0    0.000\n",
       "28               3    0    0.000"
      ]
     },
     "execution_count": 409,
     "metadata": {},
     "output_type": "execute_result"
    }
   ],
   "source": [
    "catg_analysis('trades_12m')"
   ]
  },
  {
   "cell_type": "code",
   "execution_count": 410,
   "metadata": {
    "ExecuteTime": {
     "end_time": "2019-09-11T11:38:47.255000Z",
     "start_time": "2019-09-11T11:38:47.250000Z"
    }
   },
   "outputs": [],
   "source": [
    "t12m_bins = list(range(0,29))"
   ]
  },
  {
   "cell_type": "code",
   "execution_count": 411,
   "metadata": {
    "ExecuteTime": {
     "end_time": "2019-09-11T11:38:47.333000Z",
     "start_time": "2019-09-11T11:38:47.259000Z"
    },
    "scrolled": true
   },
   "outputs": [
    {
     "name": "stdout",
     "output_type": "stream",
     "text": [
      "IV is 30.293\n"
     ]
    },
    {
     "data": {
      "text/html": [
       "<div>\n",
       "<style scoped>\n",
       "    .dataframe tbody tr th:only-of-type {\n",
       "        vertical-align: middle;\n",
       "    }\n",
       "\n",
       "    .dataframe tbody tr th {\n",
       "        vertical-align: top;\n",
       "    }\n",
       "\n",
       "    .dataframe thead th {\n",
       "        text-align: right;\n",
       "    }\n",
       "</style>\n",
       "<table border=\"1\" class=\"dataframe\">\n",
       "  <thead>\n",
       "    <tr style=\"text-align: right;\">\n",
       "      <th></th>\n",
       "      <th>trades_12m-bin</th>\n",
       "      <th>non_event</th>\n",
       "      <th>event</th>\n",
       "      <th>count</th>\n",
       "      <th>event %</th>\n",
       "      <th>non_event %</th>\n",
       "      <th>WOE</th>\n",
       "      <th>event%-non_event%</th>\n",
       "      <th>IV</th>\n",
       "    </tr>\n",
       "  </thead>\n",
       "  <tbody>\n",
       "    <tr>\n",
       "      <th>0</th>\n",
       "      <td>(-0.001, 1.0]</td>\n",
       "      <td>16044.0</td>\n",
       "      <td>289.0</td>\n",
       "      <td>16333.0</td>\n",
       "      <td>9.801594</td>\n",
       "      <td>23.974895</td>\n",
       "      <td>-0.894462</td>\n",
       "      <td>-14.173301</td>\n",
       "      <td>12.677483</td>\n",
       "    </tr>\n",
       "    <tr>\n",
       "      <th>1</th>\n",
       "      <td>(1.0, 2.0]</td>\n",
       "      <td>9145.0</td>\n",
       "      <td>178.0</td>\n",
       "      <td>9323.0</td>\n",
       "      <td>6.036968</td>\n",
       "      <td>13.665571</td>\n",
       "      <td>-0.816978</td>\n",
       "      <td>-7.628603</td>\n",
       "      <td>6.232398</td>\n",
       "    </tr>\n",
       "    <tr>\n",
       "      <th>2</th>\n",
       "      <td>(2.0, 3.0]</td>\n",
       "      <td>4480.0</td>\n",
       "      <td>198.0</td>\n",
       "      <td>4678.0</td>\n",
       "      <td>6.715279</td>\n",
       "      <td>6.694561</td>\n",
       "      <td>0.003090</td>\n",
       "      <td>0.020718</td>\n",
       "      <td>0.000064</td>\n",
       "    </tr>\n",
       "    <tr>\n",
       "      <th>3</th>\n",
       "      <td>(3.0, 4.0]</td>\n",
       "      <td>4642.0</td>\n",
       "      <td>208.0</td>\n",
       "      <td>4850.0</td>\n",
       "      <td>7.054434</td>\n",
       "      <td>6.936641</td>\n",
       "      <td>0.016839</td>\n",
       "      <td>0.117794</td>\n",
       "      <td>0.001984</td>\n",
       "    </tr>\n",
       "    <tr>\n",
       "      <th>4</th>\n",
       "      <td>(4.0, 5.0]</td>\n",
       "      <td>4315.0</td>\n",
       "      <td>232.0</td>\n",
       "      <td>4547.0</td>\n",
       "      <td>7.868408</td>\n",
       "      <td>6.447998</td>\n",
       "      <td>0.199086</td>\n",
       "      <td>1.420410</td>\n",
       "      <td>0.282784</td>\n",
       "    </tr>\n",
       "    <tr>\n",
       "      <th>5</th>\n",
       "      <td>(5.0, 6.0]</td>\n",
       "      <td>3940.0</td>\n",
       "      <td>267.0</td>\n",
       "      <td>4207.0</td>\n",
       "      <td>9.055452</td>\n",
       "      <td>5.887627</td>\n",
       "      <td>0.430514</td>\n",
       "      <td>3.167825</td>\n",
       "      <td>1.363793</td>\n",
       "    </tr>\n",
       "    <tr>\n",
       "      <th>6</th>\n",
       "      <td>(6.0, 7.0]</td>\n",
       "      <td>3822.0</td>\n",
       "      <td>268.0</td>\n",
       "      <td>4090.0</td>\n",
       "      <td>9.089367</td>\n",
       "      <td>5.711297</td>\n",
       "      <td>0.464659</td>\n",
       "      <td>3.378070</td>\n",
       "      <td>1.569651</td>\n",
       "    </tr>\n",
       "    <tr>\n",
       "      <th>7</th>\n",
       "      <td>(7.0, 8.0]</td>\n",
       "      <td>3494.0</td>\n",
       "      <td>305.0</td>\n",
       "      <td>3799.0</td>\n",
       "      <td>10.344243</td>\n",
       "      <td>5.221160</td>\n",
       "      <td>0.683711</td>\n",
       "      <td>5.123083</td>\n",
       "      <td>3.502706</td>\n",
       "    </tr>\n",
       "    <tr>\n",
       "      <th>8</th>\n",
       "      <td>(8.0, 9.0]</td>\n",
       "      <td>3162.0</td>\n",
       "      <td>214.0</td>\n",
       "      <td>3376.0</td>\n",
       "      <td>7.257928</td>\n",
       "      <td>4.725045</td>\n",
       "      <td>0.429217</td>\n",
       "      <td>2.532883</td>\n",
       "      <td>1.087157</td>\n",
       "    </tr>\n",
       "    <tr>\n",
       "      <th>9</th>\n",
       "      <td>(9.0, 10.0]</td>\n",
       "      <td>2617.0</td>\n",
       "      <td>199.0</td>\n",
       "      <td>2816.0</td>\n",
       "      <td>6.749195</td>\n",
       "      <td>3.910640</td>\n",
       "      <td>0.545722</td>\n",
       "      <td>2.838555</td>\n",
       "      <td>1.549063</td>\n",
       "    </tr>\n",
       "    <tr>\n",
       "      <th>10</th>\n",
       "      <td>(10.0, 11.0]</td>\n",
       "      <td>2043.0</td>\n",
       "      <td>136.0</td>\n",
       "      <td>2179.0</td>\n",
       "      <td>4.612515</td>\n",
       "      <td>3.052899</td>\n",
       "      <td>0.412682</td>\n",
       "      <td>1.559616</td>\n",
       "      <td>0.643625</td>\n",
       "    </tr>\n",
       "    <tr>\n",
       "      <th>11</th>\n",
       "      <td>(11.0, 12.0]</td>\n",
       "      <td>1589.0</td>\n",
       "      <td>115.0</td>\n",
       "      <td>1704.0</td>\n",
       "      <td>3.900288</td>\n",
       "      <td>2.374477</td>\n",
       "      <td>0.496273</td>\n",
       "      <td>1.525811</td>\n",
       "      <td>0.757219</td>\n",
       "    </tr>\n",
       "    <tr>\n",
       "      <th>12</th>\n",
       "      <td>(12.0, 13.0]</td>\n",
       "      <td>1298.0</td>\n",
       "      <td>74.0</td>\n",
       "      <td>1372.0</td>\n",
       "      <td>2.509751</td>\n",
       "      <td>1.939629</td>\n",
       "      <td>0.257687</td>\n",
       "      <td>0.570121</td>\n",
       "      <td>0.146913</td>\n",
       "    </tr>\n",
       "    <tr>\n",
       "      <th>13</th>\n",
       "      <td>(13.0, 14.0]</td>\n",
       "      <td>1064.0</td>\n",
       "      <td>50.0</td>\n",
       "      <td>1114.0</td>\n",
       "      <td>1.695778</td>\n",
       "      <td>1.589958</td>\n",
       "      <td>0.064434</td>\n",
       "      <td>0.105819</td>\n",
       "      <td>0.006818</td>\n",
       "    </tr>\n",
       "    <tr>\n",
       "      <th>14</th>\n",
       "      <td>(14.0, 15.0]</td>\n",
       "      <td>1028.0</td>\n",
       "      <td>40.0</td>\n",
       "      <td>1068.0</td>\n",
       "      <td>1.356622</td>\n",
       "      <td>1.536163</td>\n",
       "      <td>-0.124290</td>\n",
       "      <td>-0.179541</td>\n",
       "      <td>0.022315</td>\n",
       "    </tr>\n",
       "    <tr>\n",
       "      <th>15</th>\n",
       "      <td>(15.0, 16.0]</td>\n",
       "      <td>946.0</td>\n",
       "      <td>46.0</td>\n",
       "      <td>992.0</td>\n",
       "      <td>1.560115</td>\n",
       "      <td>1.413628</td>\n",
       "      <td>0.098600</td>\n",
       "      <td>0.146487</td>\n",
       "      <td>0.014444</td>\n",
       "    </tr>\n",
       "    <tr>\n",
       "      <th>16</th>\n",
       "      <td>(16.0, 17.0]</td>\n",
       "      <td>832.0</td>\n",
       "      <td>28.0</td>\n",
       "      <td>860.0</td>\n",
       "      <td>0.949635</td>\n",
       "      <td>1.243276</td>\n",
       "      <td>-0.269427</td>\n",
       "      <td>-0.293640</td>\n",
       "      <td>0.079114</td>\n",
       "    </tr>\n",
       "    <tr>\n",
       "      <th>17</th>\n",
       "      <td>(17.0, 18.0]</td>\n",
       "      <td>710.0</td>\n",
       "      <td>26.0</td>\n",
       "      <td>736.0</td>\n",
       "      <td>0.881804</td>\n",
       "      <td>1.060968</td>\n",
       "      <td>-0.184967</td>\n",
       "      <td>-0.179164</td>\n",
       "      <td>0.033139</td>\n",
       "    </tr>\n",
       "    <tr>\n",
       "      <th>18</th>\n",
       "      <td>(18.0, 19.0]</td>\n",
       "      <td>586.0</td>\n",
       "      <td>26.0</td>\n",
       "      <td>612.0</td>\n",
       "      <td>0.881804</td>\n",
       "      <td>0.875672</td>\n",
       "      <td>0.006978</td>\n",
       "      <td>0.006132</td>\n",
       "      <td>0.000043</td>\n",
       "    </tr>\n",
       "    <tr>\n",
       "      <th>19</th>\n",
       "      <td>(19.0, 20.0]</td>\n",
       "      <td>415.0</td>\n",
       "      <td>19.0</td>\n",
       "      <td>434.0</td>\n",
       "      <td>0.644395</td>\n",
       "      <td>0.620143</td>\n",
       "      <td>0.038362</td>\n",
       "      <td>0.024252</td>\n",
       "      <td>0.000930</td>\n",
       "    </tr>\n",
       "    <tr>\n",
       "      <th>20</th>\n",
       "      <td>(20.0, 21.0]</td>\n",
       "      <td>293.0</td>\n",
       "      <td>15.0</td>\n",
       "      <td>308.0</td>\n",
       "      <td>0.508733</td>\n",
       "      <td>0.437836</td>\n",
       "      <td>0.150079</td>\n",
       "      <td>0.070897</td>\n",
       "      <td>0.010640</td>\n",
       "    </tr>\n",
       "    <tr>\n",
       "      <th>21</th>\n",
       "      <td>(21.0, 22.0]</td>\n",
       "      <td>215.0</td>\n",
       "      <td>3.0</td>\n",
       "      <td>218.0</td>\n",
       "      <td>0.101747</td>\n",
       "      <td>0.321279</td>\n",
       "      <td>-1.149824</td>\n",
       "      <td>-0.219532</td>\n",
       "      <td>0.252424</td>\n",
       "    </tr>\n",
       "    <tr>\n",
       "      <th>22</th>\n",
       "      <td>(22.0, 23.0]</td>\n",
       "      <td>116.0</td>\n",
       "      <td>5.0</td>\n",
       "      <td>121.0</td>\n",
       "      <td>0.169578</td>\n",
       "      <td>0.173341</td>\n",
       "      <td>-0.021951</td>\n",
       "      <td>-0.003764</td>\n",
       "      <td>0.000083</td>\n",
       "    </tr>\n",
       "    <tr>\n",
       "      <th>23</th>\n",
       "      <td>(23.0, 24.0]</td>\n",
       "      <td>68.0</td>\n",
       "      <td>5.0</td>\n",
       "      <td>73.0</td>\n",
       "      <td>0.169578</td>\n",
       "      <td>0.101614</td>\n",
       "      <td>0.512132</td>\n",
       "      <td>0.067964</td>\n",
       "      <td>0.034806</td>\n",
       "    </tr>\n",
       "    <tr>\n",
       "      <th>24</th>\n",
       "      <td>(24.0, 25.0]</td>\n",
       "      <td>33.0</td>\n",
       "      <td>1.0</td>\n",
       "      <td>34.0</td>\n",
       "      <td>0.033916</td>\n",
       "      <td>0.049313</td>\n",
       "      <td>-0.374306</td>\n",
       "      <td>-0.015397</td>\n",
       "      <td>0.005763</td>\n",
       "    </tr>\n",
       "    <tr>\n",
       "      <th>25</th>\n",
       "      <td>(25.0, 26.0]</td>\n",
       "      <td>11.0</td>\n",
       "      <td>0.5</td>\n",
       "      <td>11.5</td>\n",
       "      <td>0.016958</td>\n",
       "      <td>0.016438</td>\n",
       "      <td>0.031159</td>\n",
       "      <td>0.000520</td>\n",
       "      <td>0.000016</td>\n",
       "    </tr>\n",
       "    <tr>\n",
       "      <th>26</th>\n",
       "      <td>(26.0, 27.0]</td>\n",
       "      <td>9.0</td>\n",
       "      <td>0.5</td>\n",
       "      <td>9.5</td>\n",
       "      <td>0.016958</td>\n",
       "      <td>0.013449</td>\n",
       "      <td>0.231830</td>\n",
       "      <td>0.003509</td>\n",
       "      <td>0.000813</td>\n",
       "    </tr>\n",
       "    <tr>\n",
       "      <th>27</th>\n",
       "      <td>(27.0, 28.0]</td>\n",
       "      <td>3.0</td>\n",
       "      <td>0.5</td>\n",
       "      <td>3.5</td>\n",
       "      <td>0.016958</td>\n",
       "      <td>0.004483</td>\n",
       "      <td>1.330442</td>\n",
       "      <td>0.012475</td>\n",
       "      <td>0.016597</td>\n",
       "    </tr>\n",
       "  </tbody>\n",
       "</table>\n",
       "</div>"
      ],
      "text/plain": [
       "   trades_12m-bin  non_event  event    count    event %  non_event %  \\\n",
       "0   (-0.001, 1.0]    16044.0  289.0  16333.0   9.801594    23.974895   \n",
       "1      (1.0, 2.0]     9145.0  178.0   9323.0   6.036968    13.665571   \n",
       "2      (2.0, 3.0]     4480.0  198.0   4678.0   6.715279     6.694561   \n",
       "3      (3.0, 4.0]     4642.0  208.0   4850.0   7.054434     6.936641   \n",
       "4      (4.0, 5.0]     4315.0  232.0   4547.0   7.868408     6.447998   \n",
       "5      (5.0, 6.0]     3940.0  267.0   4207.0   9.055452     5.887627   \n",
       "6      (6.0, 7.0]     3822.0  268.0   4090.0   9.089367     5.711297   \n",
       "7      (7.0, 8.0]     3494.0  305.0   3799.0  10.344243     5.221160   \n",
       "8      (8.0, 9.0]     3162.0  214.0   3376.0   7.257928     4.725045   \n",
       "9     (9.0, 10.0]     2617.0  199.0   2816.0   6.749195     3.910640   \n",
       "10   (10.0, 11.0]     2043.0  136.0   2179.0   4.612515     3.052899   \n",
       "11   (11.0, 12.0]     1589.0  115.0   1704.0   3.900288     2.374477   \n",
       "12   (12.0, 13.0]     1298.0   74.0   1372.0   2.509751     1.939629   \n",
       "13   (13.0, 14.0]     1064.0   50.0   1114.0   1.695778     1.589958   \n",
       "14   (14.0, 15.0]     1028.0   40.0   1068.0   1.356622     1.536163   \n",
       "15   (15.0, 16.0]      946.0   46.0    992.0   1.560115     1.413628   \n",
       "16   (16.0, 17.0]      832.0   28.0    860.0   0.949635     1.243276   \n",
       "17   (17.0, 18.0]      710.0   26.0    736.0   0.881804     1.060968   \n",
       "18   (18.0, 19.0]      586.0   26.0    612.0   0.881804     0.875672   \n",
       "19   (19.0, 20.0]      415.0   19.0    434.0   0.644395     0.620143   \n",
       "20   (20.0, 21.0]      293.0   15.0    308.0   0.508733     0.437836   \n",
       "21   (21.0, 22.0]      215.0    3.0    218.0   0.101747     0.321279   \n",
       "22   (22.0, 23.0]      116.0    5.0    121.0   0.169578     0.173341   \n",
       "23   (23.0, 24.0]       68.0    5.0     73.0   0.169578     0.101614   \n",
       "24   (24.0, 25.0]       33.0    1.0     34.0   0.033916     0.049313   \n",
       "25   (25.0, 26.0]       11.0    0.5     11.5   0.016958     0.016438   \n",
       "26   (26.0, 27.0]        9.0    0.5      9.5   0.016958     0.013449   \n",
       "27   (27.0, 28.0]        3.0    0.5      3.5   0.016958     0.004483   \n",
       "\n",
       "         WOE  event%-non_event%         IV  \n",
       "0  -0.894462         -14.173301  12.677483  \n",
       "1  -0.816978          -7.628603   6.232398  \n",
       "2   0.003090           0.020718   0.000064  \n",
       "3   0.016839           0.117794   0.001984  \n",
       "4   0.199086           1.420410   0.282784  \n",
       "5   0.430514           3.167825   1.363793  \n",
       "6   0.464659           3.378070   1.569651  \n",
       "7   0.683711           5.123083   3.502706  \n",
       "8   0.429217           2.532883   1.087157  \n",
       "9   0.545722           2.838555   1.549063  \n",
       "10  0.412682           1.559616   0.643625  \n",
       "11  0.496273           1.525811   0.757219  \n",
       "12  0.257687           0.570121   0.146913  \n",
       "13  0.064434           0.105819   0.006818  \n",
       "14 -0.124290          -0.179541   0.022315  \n",
       "15  0.098600           0.146487   0.014444  \n",
       "16 -0.269427          -0.293640   0.079114  \n",
       "17 -0.184967          -0.179164   0.033139  \n",
       "18  0.006978           0.006132   0.000043  \n",
       "19  0.038362           0.024252   0.000930  \n",
       "20  0.150079           0.070897   0.010640  \n",
       "21 -1.149824          -0.219532   0.252424  \n",
       "22 -0.021951          -0.003764   0.000083  \n",
       "23  0.512132           0.067964   0.034806  \n",
       "24 -0.374306          -0.015397   0.005763  \n",
       "25  0.031159           0.000520   0.000016  \n",
       "26  0.231830           0.003509   0.000813  \n",
       "27  1.330442           0.012475   0.016597  "
      ]
     },
     "execution_count": 411,
     "metadata": {},
     "output_type": "execute_result"
    }
   ],
   "source": [
    "woe_iv(col='trades_12m', target='performance', mybins=t12m_bins)"
   ]
  },
  {
   "cell_type": "markdown",
   "metadata": {},
   "source": [
    "#### pl_trades 6m & 12m"
   ]
  },
  {
   "cell_type": "code",
   "execution_count": 412,
   "metadata": {
    "ExecuteTime": {
     "end_time": "2019-09-11T11:38:47.349000Z",
     "start_time": "2019-09-11T11:38:47.336000Z"
    }
   },
   "outputs": [
    {
     "data": {
      "text/plain": [
       "(0, 0)"
      ]
     },
     "execution_count": 412,
     "metadata": {},
     "output_type": "execute_result"
    }
   ],
   "source": [
    "df['pl_trades_6m'].isna().sum(), df['pl_trades_12m'].isna().sum()"
   ]
  },
  {
   "cell_type": "code",
   "execution_count": 413,
   "metadata": {
    "ExecuteTime": {
     "end_time": "2019-09-11T11:38:47.390000Z",
     "start_time": "2019-09-11T11:38:47.351000Z"
    }
   },
   "outputs": [
    {
     "data": {
      "text/html": [
       "<div>\n",
       "<style scoped>\n",
       "    .dataframe tbody tr th:only-of-type {\n",
       "        vertical-align: middle;\n",
       "    }\n",
       "\n",
       "    .dataframe tbody tr th {\n",
       "        vertical-align: top;\n",
       "    }\n",
       "\n",
       "    .dataframe thead th {\n",
       "        text-align: right;\n",
       "    }\n",
       "</style>\n",
       "<table border=\"1\" class=\"dataframe\">\n",
       "  <thead>\n",
       "    <tr style=\"text-align: right;\">\n",
       "      <th>pl_trades_6m</th>\n",
       "      <th>0</th>\n",
       "      <th>1</th>\n",
       "      <th>2</th>\n",
       "      <th>3</th>\n",
       "      <th>4</th>\n",
       "      <th>5</th>\n",
       "      <th>6</th>\n",
       "    </tr>\n",
       "    <tr>\n",
       "      <th>performance</th>\n",
       "      <th></th>\n",
       "      <th></th>\n",
       "      <th></th>\n",
       "      <th></th>\n",
       "      <th></th>\n",
       "      <th></th>\n",
       "      <th></th>\n",
       "    </tr>\n",
       "  </thead>\n",
       "  <tbody>\n",
       "    <tr>\n",
       "      <th>0.0</th>\n",
       "      <td>30381.000</td>\n",
       "      <td>12855.000</td>\n",
       "      <td>11762.000</td>\n",
       "      <td>7448.000</td>\n",
       "      <td>3144.000</td>\n",
       "      <td>1042.000</td>\n",
       "      <td>288.000</td>\n",
       "    </tr>\n",
       "    <tr>\n",
       "      <th>1.0</th>\n",
       "      <td>699.000</td>\n",
       "      <td>691.000</td>\n",
       "      <td>803.000</td>\n",
       "      <td>501.000</td>\n",
       "      <td>197.000</td>\n",
       "      <td>48.000</td>\n",
       "      <td>8.000</td>\n",
       "    </tr>\n",
       "    <tr>\n",
       "      <th>delinq%</th>\n",
       "      <td>2.249</td>\n",
       "      <td>5.101</td>\n",
       "      <td>6.391</td>\n",
       "      <td>6.303</td>\n",
       "      <td>5.896</td>\n",
       "      <td>4.404</td>\n",
       "      <td>2.703</td>\n",
       "    </tr>\n",
       "  </tbody>\n",
       "</table>\n",
       "</div>"
      ],
      "text/plain": [
       "pl_trades_6m          0          1          2         3         4         5  \\\n",
       "performance                                                                   \n",
       "0.0           30381.000  12855.000  11762.000  7448.000  3144.000  1042.000   \n",
       "1.0             699.000    691.000    803.000   501.000   197.000    48.000   \n",
       "delinq%           2.249      5.101      6.391     6.303     5.896     4.404   \n",
       "\n",
       "pl_trades_6m        6  \n",
       "performance            \n",
       "0.0           288.000  \n",
       "1.0             8.000  \n",
       "delinq%         2.703  "
      ]
     },
     "execution_count": 413,
     "metadata": {},
     "output_type": "execute_result"
    }
   ],
   "source": [
    "catg_analysis('pl_trades_6m').T"
   ]
  },
  {
   "cell_type": "code",
   "execution_count": 414,
   "metadata": {
    "ExecuteTime": {
     "end_time": "2019-09-11T11:38:47.435000Z",
     "start_time": "2019-09-11T11:38:47.395000Z"
    }
   },
   "outputs": [
    {
     "data": {
      "text/html": [
       "<div>\n",
       "<style scoped>\n",
       "    .dataframe tbody tr th:only-of-type {\n",
       "        vertical-align: middle;\n",
       "    }\n",
       "\n",
       "    .dataframe tbody tr th {\n",
       "        vertical-align: top;\n",
       "    }\n",
       "\n",
       "    .dataframe thead th {\n",
       "        text-align: right;\n",
       "    }\n",
       "</style>\n",
       "<table border=\"1\" class=\"dataframe\">\n",
       "  <thead>\n",
       "    <tr style=\"text-align: right;\">\n",
       "      <th>pl_trades_12m</th>\n",
       "      <th>0</th>\n",
       "      <th>1</th>\n",
       "      <th>2</th>\n",
       "      <th>3</th>\n",
       "      <th>4</th>\n",
       "      <th>5</th>\n",
       "      <th>6</th>\n",
       "      <th>7</th>\n",
       "      <th>8</th>\n",
       "      <th>9</th>\n",
       "      <th>10</th>\n",
       "      <th>11</th>\n",
       "      <th>12</th>\n",
       "    </tr>\n",
       "    <tr>\n",
       "      <th>performance</th>\n",
       "      <th></th>\n",
       "      <th></th>\n",
       "      <th></th>\n",
       "      <th></th>\n",
       "      <th></th>\n",
       "      <th></th>\n",
       "      <th></th>\n",
       "      <th></th>\n",
       "      <th></th>\n",
       "      <th></th>\n",
       "      <th></th>\n",
       "      <th></th>\n",
       "      <th></th>\n",
       "    </tr>\n",
       "  </thead>\n",
       "  <tbody>\n",
       "    <tr>\n",
       "      <th>0.0</th>\n",
       "      <td>25367.00</td>\n",
       "      <td>6394.000</td>\n",
       "      <td>6464.000</td>\n",
       "      <td>7623.000</td>\n",
       "      <td>7368.00</td>\n",
       "      <td>5798.000</td>\n",
       "      <td>3780.00</td>\n",
       "      <td>2114.000</td>\n",
       "      <td>1122.000</td>\n",
       "      <td>573.000</td>\n",
       "      <td>245.000</td>\n",
       "      <td>63.000</td>\n",
       "      <td>9.0</td>\n",
       "    </tr>\n",
       "    <tr>\n",
       "      <th>1.0</th>\n",
       "      <td>457.00</td>\n",
       "      <td>247.000</td>\n",
       "      <td>366.000</td>\n",
       "      <td>507.000</td>\n",
       "      <td>535.00</td>\n",
       "      <td>391.000</td>\n",
       "      <td>243.00</td>\n",
       "      <td>109.000</td>\n",
       "      <td>50.000</td>\n",
       "      <td>28.000</td>\n",
       "      <td>10.000</td>\n",
       "      <td>3.000</td>\n",
       "      <td>1.0</td>\n",
       "    </tr>\n",
       "    <tr>\n",
       "      <th>delinq%</th>\n",
       "      <td>1.77</td>\n",
       "      <td>3.719</td>\n",
       "      <td>5.359</td>\n",
       "      <td>6.236</td>\n",
       "      <td>6.77</td>\n",
       "      <td>6.318</td>\n",
       "      <td>6.04</td>\n",
       "      <td>4.903</td>\n",
       "      <td>4.266</td>\n",
       "      <td>4.659</td>\n",
       "      <td>3.922</td>\n",
       "      <td>4.545</td>\n",
       "      <td>10.0</td>\n",
       "    </tr>\n",
       "  </tbody>\n",
       "</table>\n",
       "</div>"
      ],
      "text/plain": [
       "pl_trades_12m        0         1         2         3        4         5   \\\n",
       "performance                                                                \n",
       "0.0            25367.00  6394.000  6464.000  7623.000  7368.00  5798.000   \n",
       "1.0              457.00   247.000   366.000   507.000   535.00   391.000   \n",
       "delinq%            1.77     3.719     5.359     6.236     6.77     6.318   \n",
       "\n",
       "pl_trades_12m       6         7         8        9        10      11    12  \n",
       "performance                                                                 \n",
       "0.0            3780.00  2114.000  1122.000  573.000  245.000  63.000   9.0  \n",
       "1.0             243.00   109.000    50.000   28.000   10.000   3.000   1.0  \n",
       "delinq%           6.04     4.903     4.266    4.659    3.922   4.545  10.0  "
      ]
     },
     "execution_count": 414,
     "metadata": {},
     "output_type": "execute_result"
    }
   ],
   "source": [
    "catg_analysis('pl_trades_12m').T"
   ]
  },
  {
   "cell_type": "code",
   "execution_count": 415,
   "metadata": {
    "ExecuteTime": {
     "end_time": "2019-09-11T11:38:47.450000Z",
     "start_time": "2019-09-11T11:38:47.437000Z"
    }
   },
   "outputs": [],
   "source": [
    "pl6m_bins = list(range(7))"
   ]
  },
  {
   "cell_type": "code",
   "execution_count": 416,
   "metadata": {
    "ExecuteTime": {
     "end_time": "2019-09-11T11:38:47.511000Z",
     "start_time": "2019-09-11T11:38:47.451000Z"
    }
   },
   "outputs": [
    {
     "name": "stdout",
     "output_type": "stream",
     "text": [
      "IV is 12.993\n"
     ]
    },
    {
     "data": {
      "text/html": [
       "<div>\n",
       "<style scoped>\n",
       "    .dataframe tbody tr th:only-of-type {\n",
       "        vertical-align: middle;\n",
       "    }\n",
       "\n",
       "    .dataframe tbody tr th {\n",
       "        vertical-align: top;\n",
       "    }\n",
       "\n",
       "    .dataframe thead th {\n",
       "        text-align: right;\n",
       "    }\n",
       "</style>\n",
       "<table border=\"1\" class=\"dataframe\">\n",
       "  <thead>\n",
       "    <tr style=\"text-align: right;\">\n",
       "      <th></th>\n",
       "      <th>pl_trades_6m-bin</th>\n",
       "      <th>non_event</th>\n",
       "      <th>event</th>\n",
       "      <th>count</th>\n",
       "      <th>event %</th>\n",
       "      <th>non_event %</th>\n",
       "      <th>WOE</th>\n",
       "      <th>event%-non_event%</th>\n",
       "      <th>IV</th>\n",
       "    </tr>\n",
       "  </thead>\n",
       "  <tbody>\n",
       "    <tr>\n",
       "      <th>0</th>\n",
       "      <td>(-0.001, 1.0]</td>\n",
       "      <td>43236.0</td>\n",
       "      <td>1390.0</td>\n",
       "      <td>44626.0</td>\n",
       "      <td>47.166610</td>\n",
       "      <td>64.608488</td>\n",
       "      <td>-0.314660</td>\n",
       "      <td>-17.441878</td>\n",
       "      <td>5.488254</td>\n",
       "    </tr>\n",
       "    <tr>\n",
       "      <th>1</th>\n",
       "      <td>(1.0, 2.0]</td>\n",
       "      <td>11762.0</td>\n",
       "      <td>803.0</td>\n",
       "      <td>12565.0</td>\n",
       "      <td>27.248049</td>\n",
       "      <td>17.576210</td>\n",
       "      <td>0.438436</td>\n",
       "      <td>9.671838</td>\n",
       "      <td>4.240478</td>\n",
       "    </tr>\n",
       "    <tr>\n",
       "      <th>2</th>\n",
       "      <td>(2.0, 3.0]</td>\n",
       "      <td>7448.0</td>\n",
       "      <td>501.0</td>\n",
       "      <td>7949.0</td>\n",
       "      <td>17.000339</td>\n",
       "      <td>11.129707</td>\n",
       "      <td>0.423615</td>\n",
       "      <td>5.870632</td>\n",
       "      <td>2.486891</td>\n",
       "    </tr>\n",
       "    <tr>\n",
       "      <th>3</th>\n",
       "      <td>(3.0, 4.0]</td>\n",
       "      <td>3144.0</td>\n",
       "      <td>197.0</td>\n",
       "      <td>3341.0</td>\n",
       "      <td>6.684764</td>\n",
       "      <td>4.698147</td>\n",
       "      <td>0.352663</td>\n",
       "      <td>1.986617</td>\n",
       "      <td>0.700606</td>\n",
       "    </tr>\n",
       "    <tr>\n",
       "      <th>4</th>\n",
       "      <td>(4.0, 5.0]</td>\n",
       "      <td>1042.0</td>\n",
       "      <td>48.0</td>\n",
       "      <td>1090.0</td>\n",
       "      <td>1.628775</td>\n",
       "      <td>1.557083</td>\n",
       "      <td>0.045014</td>\n",
       "      <td>0.071692</td>\n",
       "      <td>0.003227</td>\n",
       "    </tr>\n",
       "    <tr>\n",
       "      <th>5</th>\n",
       "      <td>(5.0, 6.0]</td>\n",
       "      <td>288.0</td>\n",
       "      <td>8.0</td>\n",
       "      <td>296.0</td>\n",
       "      <td>0.271463</td>\n",
       "      <td>0.430365</td>\n",
       "      <td>-0.460809</td>\n",
       "      <td>-0.158902</td>\n",
       "      <td>0.073223</td>\n",
       "    </tr>\n",
       "  </tbody>\n",
       "</table>\n",
       "</div>"
      ],
      "text/plain": [
       "  pl_trades_6m-bin  non_event   event    count    event %  non_event %  \\\n",
       "0    (-0.001, 1.0]    43236.0  1390.0  44626.0  47.166610    64.608488   \n",
       "1       (1.0, 2.0]    11762.0   803.0  12565.0  27.248049    17.576210   \n",
       "2       (2.0, 3.0]     7448.0   501.0   7949.0  17.000339    11.129707   \n",
       "3       (3.0, 4.0]     3144.0   197.0   3341.0   6.684764     4.698147   \n",
       "4       (4.0, 5.0]     1042.0    48.0   1090.0   1.628775     1.557083   \n",
       "5       (5.0, 6.0]      288.0     8.0    296.0   0.271463     0.430365   \n",
       "\n",
       "        WOE  event%-non_event%        IV  \n",
       "0 -0.314660         -17.441878  5.488254  \n",
       "1  0.438436           9.671838  4.240478  \n",
       "2  0.423615           5.870632  2.486891  \n",
       "3  0.352663           1.986617  0.700606  \n",
       "4  0.045014           0.071692  0.003227  \n",
       "5 -0.460809          -0.158902  0.073223  "
      ]
     },
     "execution_count": 416,
     "metadata": {},
     "output_type": "execute_result"
    }
   ],
   "source": [
    "woe_iv(col='pl_trades_6m', target='performance', mybins=pl6m_bins)"
   ]
  },
  {
   "cell_type": "markdown",
   "metadata": {},
   "source": [
    "#### inquiries_6m & 12m"
   ]
  },
  {
   "cell_type": "code",
   "execution_count": 417,
   "metadata": {
    "ExecuteTime": {
     "end_time": "2019-09-11T11:38:47.522000Z",
     "start_time": "2019-09-11T11:38:47.513000Z"
    }
   },
   "outputs": [
    {
     "data": {
      "text/plain": [
       "0"
      ]
     },
     "execution_count": 417,
     "metadata": {},
     "output_type": "execute_result"
    }
   ],
   "source": [
    "df['inquiries_6m'].isna().sum()"
   ]
  },
  {
   "cell_type": "code",
   "execution_count": 418,
   "metadata": {
    "ExecuteTime": {
     "end_time": "2019-09-11T11:38:47.562000Z",
     "start_time": "2019-09-11T11:38:47.523000Z"
    }
   },
   "outputs": [
    {
     "data": {
      "text/plain": [
       "0"
      ]
     },
     "execution_count": 418,
     "metadata": {},
     "output_type": "execute_result"
    }
   ],
   "source": [
    "df['inquiries_12m'].isna().sum()"
   ]
  },
  {
   "cell_type": "code",
   "execution_count": 419,
   "metadata": {
    "ExecuteTime": {
     "end_time": "2019-09-11T11:38:47.578000Z",
     "start_time": "2019-09-11T11:38:47.563000Z"
    }
   },
   "outputs": [
    {
     "data": {
      "text/plain": [
       "71287    4\n",
       "71288    2\n",
       "71289    2\n",
       "71290    4\n",
       "71291    3\n",
       "Name: inquiries_6m, dtype: int64"
      ]
     },
     "execution_count": 419,
     "metadata": {},
     "output_type": "execute_result"
    }
   ],
   "source": [
    "df['inquiries_6m'].tail()"
   ]
  },
  {
   "cell_type": "code",
   "execution_count": 420,
   "metadata": {
    "ExecuteTime": {
     "end_time": "2019-09-11T11:38:47.594000Z",
     "start_time": "2019-09-11T11:38:47.579000Z"
    }
   },
   "outputs": [
    {
     "data": {
      "text/plain": [
       "0    0\n",
       "1    0\n",
       "2    0\n",
       "3    0\n",
       "4    0\n",
       "Name: inquiries_12m, dtype: int64"
      ]
     },
     "execution_count": 420,
     "metadata": {},
     "output_type": "execute_result"
    }
   ],
   "source": [
    "df['inquiries_12m'].head()"
   ]
  },
  {
   "cell_type": "markdown",
   "metadata": {},
   "source": [
    "#### open_home_loan"
   ]
  },
  {
   "cell_type": "code",
   "execution_count": 421,
   "metadata": {
    "ExecuteTime": {
     "end_time": "2019-09-11T11:38:47.615000Z",
     "start_time": "2019-09-11T11:38:47.598000Z"
    }
   },
   "outputs": [
    {
     "data": {
      "text/plain": [
       "0"
      ]
     },
     "execution_count": 421,
     "metadata": {},
     "output_type": "execute_result"
    }
   ],
   "source": [
    "df['open_home_loan'].isna().sum()"
   ]
  },
  {
   "cell_type": "code",
   "execution_count": 422,
   "metadata": {
    "ExecuteTime": {
     "end_time": "2019-09-11T11:38:47.629000Z",
     "start_time": "2019-09-11T11:38:47.616000Z"
    }
   },
   "outputs": [],
   "source": [
    "df['open_home_loan'] = df['open_home_loan'].fillna(value=0)"
   ]
  },
  {
   "cell_type": "code",
   "execution_count": 423,
   "metadata": {
    "ExecuteTime": {
     "end_time": "2019-09-11T11:38:47.668000Z",
     "start_time": "2019-09-11T11:38:47.630000Z"
    }
   },
   "outputs": [
    {
     "data": {
      "text/html": [
       "<div>\n",
       "<style scoped>\n",
       "    .dataframe tbody tr th:only-of-type {\n",
       "        vertical-align: middle;\n",
       "    }\n",
       "\n",
       "    .dataframe tbody tr th {\n",
       "        vertical-align: top;\n",
       "    }\n",
       "\n",
       "    .dataframe thead th {\n",
       "        text-align: right;\n",
       "    }\n",
       "</style>\n",
       "<table border=\"1\" class=\"dataframe\">\n",
       "  <thead>\n",
       "    <tr style=\"text-align: right;\">\n",
       "      <th>performance</th>\n",
       "      <th>0.0</th>\n",
       "      <th>1.0</th>\n",
       "      <th>delinq%</th>\n",
       "    </tr>\n",
       "    <tr>\n",
       "      <th>open_home_loan</th>\n",
       "      <th></th>\n",
       "      <th></th>\n",
       "      <th></th>\n",
       "    </tr>\n",
       "  </thead>\n",
       "  <tbody>\n",
       "    <tr>\n",
       "      <th>0.0</th>\n",
       "      <td>49456</td>\n",
       "      <td>2340</td>\n",
       "      <td>4.518</td>\n",
       "    </tr>\n",
       "    <tr>\n",
       "      <th>1.0</th>\n",
       "      <td>17464</td>\n",
       "      <td>607</td>\n",
       "      <td>3.359</td>\n",
       "    </tr>\n",
       "  </tbody>\n",
       "</table>\n",
       "</div>"
      ],
      "text/plain": [
       "performance       0.0   1.0  delinq%\n",
       "open_home_loan                      \n",
       "0.0             49456  2340    4.518\n",
       "1.0             17464   607    3.359"
      ]
     },
     "execution_count": 423,
     "metadata": {},
     "output_type": "execute_result"
    }
   ],
   "source": [
    "catg_analysis('open_home_loan')"
   ]
  },
  {
   "cell_type": "markdown",
   "metadata": {},
   "source": [
    "#### open_auto_loan"
   ]
  },
  {
   "cell_type": "code",
   "execution_count": 424,
   "metadata": {
    "ExecuteTime": {
     "end_time": "2019-09-11T11:38:47.681000Z",
     "start_time": "2019-09-11T11:38:47.672000Z"
    }
   },
   "outputs": [
    {
     "data": {
      "text/plain": [
       "0"
      ]
     },
     "execution_count": 424,
     "metadata": {},
     "output_type": "execute_result"
    }
   ],
   "source": [
    "df['open_auto_loan'].isna().sum()"
   ]
  },
  {
   "cell_type": "code",
   "execution_count": 425,
   "metadata": {
    "ExecuteTime": {
     "end_time": "2019-09-11T11:38:47.716000Z",
     "start_time": "2019-09-11T11:38:47.685000Z"
    }
   },
   "outputs": [
    {
     "data": {
      "text/html": [
       "<div>\n",
       "<style scoped>\n",
       "    .dataframe tbody tr th:only-of-type {\n",
       "        vertical-align: middle;\n",
       "    }\n",
       "\n",
       "    .dataframe tbody tr th {\n",
       "        vertical-align: top;\n",
       "    }\n",
       "\n",
       "    .dataframe thead th {\n",
       "        text-align: right;\n",
       "    }\n",
       "</style>\n",
       "<table border=\"1\" class=\"dataframe\">\n",
       "  <thead>\n",
       "    <tr style=\"text-align: right;\">\n",
       "      <th>performance</th>\n",
       "      <th>0.0</th>\n",
       "      <th>1.0</th>\n",
       "      <th>delinq%</th>\n",
       "    </tr>\n",
       "    <tr>\n",
       "      <th>open_auto_loan</th>\n",
       "      <th></th>\n",
       "      <th></th>\n",
       "      <th></th>\n",
       "    </tr>\n",
       "  </thead>\n",
       "  <tbody>\n",
       "    <tr>\n",
       "      <th>0</th>\n",
       "      <td>61209</td>\n",
       "      <td>2728</td>\n",
       "      <td>4.267</td>\n",
       "    </tr>\n",
       "    <tr>\n",
       "      <th>1</th>\n",
       "      <td>5711</td>\n",
       "      <td>219</td>\n",
       "      <td>3.693</td>\n",
       "    </tr>\n",
       "  </tbody>\n",
       "</table>\n",
       "</div>"
      ],
      "text/plain": [
       "performance       0.0   1.0  delinq%\n",
       "open_auto_loan                      \n",
       "0               61209  2728    4.267\n",
       "1                5711   219    3.693"
      ]
     },
     "execution_count": 425,
     "metadata": {},
     "output_type": "execute_result"
    }
   ],
   "source": [
    "catg_analysis('open_auto_loan')"
   ]
  },
  {
   "cell_type": "markdown",
   "metadata": {},
   "source": [
    "#### total_trades"
   ]
  },
  {
   "cell_type": "code",
   "execution_count": 426,
   "metadata": {
    "ExecuteTime": {
     "end_time": "2019-09-11T11:38:47.724000Z",
     "start_time": "2019-09-11T11:38:47.717000Z"
    }
   },
   "outputs": [
    {
     "data": {
      "text/plain": [
       "0"
      ]
     },
     "execution_count": 426,
     "metadata": {},
     "output_type": "execute_result"
    }
   ],
   "source": [
    "df['total_trades'].isna().sum()"
   ]
  },
  {
   "cell_type": "code",
   "execution_count": 427,
   "metadata": {
    "ExecuteTime": {
     "end_time": "2019-09-11T11:38:47.743000Z",
     "start_time": "2019-09-11T11:38:47.728000Z"
    }
   },
   "outputs": [
    {
     "data": {
      "text/plain": [
       "45"
      ]
     },
     "execution_count": 427,
     "metadata": {},
     "output_type": "execute_result"
    }
   ],
   "source": [
    "df['total_trades'].nunique()"
   ]
  },
  {
   "cell_type": "code",
   "execution_count": 428,
   "metadata": {
    "ExecuteTime": {
     "end_time": "2019-09-11T11:38:47.972000Z",
     "start_time": "2019-09-11T11:38:47.744000Z"
    },
    "scrolled": true
   },
   "outputs": [
    {
     "data": {
      "text/plain": [
       "<matplotlib.axes._subplots.AxesSubplot at 0x109ef358>"
      ]
     },
     "execution_count": 428,
     "metadata": {},
     "output_type": "execute_result"
    },
    {
     "data": {
      "image/png": "[encoded data removed]",
      "text/plain": [
       "<Figure size 432x288 with 1 Axes>"
      ]
     },
     "metadata": {
      "needs_background": "light"
     },
     "output_type": "display_data"
    }
   ],
   "source": [
    "df['total_trades'].hist()"
   ]
  },
  {
   "cell_type": "code",
   "execution_count": 429,
   "metadata": {
    "ExecuteTime": {
     "end_time": "2019-09-11T11:38:47.984000Z",
     "start_time": "2019-09-11T11:38:47.976000Z"
    }
   },
   "outputs": [],
   "source": [
    "tot_trade_bins = range(0,46,5)"
   ]
  },
  {
   "cell_type": "code",
   "execution_count": 430,
   "metadata": {
    "ExecuteTime": {
     "end_time": "2019-09-11T11:38:48.060000Z",
     "start_time": "2019-09-11T11:38:47.987000Z"
    }
   },
   "outputs": [
    {
     "name": "stdout",
     "output_type": "stream",
     "text": [
      "IV is 20.363\n"
     ]
    },
    {
     "data": {
      "text/html": [
       "<div>\n",
       "<style scoped>\n",
       "    .dataframe tbody tr th:only-of-type {\n",
       "        vertical-align: middle;\n",
       "    }\n",
       "\n",
       "    .dataframe tbody tr th {\n",
       "        vertical-align: top;\n",
       "    }\n",
       "\n",
       "    .dataframe thead th {\n",
       "        text-align: right;\n",
       "    }\n",
       "</style>\n",
       "<table border=\"1\" class=\"dataframe\">\n",
       "  <thead>\n",
       "    <tr style=\"text-align: right;\">\n",
       "      <th></th>\n",
       "      <th>total_trades-bin</th>\n",
       "      <th>non_event</th>\n",
       "      <th>event</th>\n",
       "      <th>count</th>\n",
       "      <th>event %</th>\n",
       "      <th>non_event %</th>\n",
       "      <th>WOE</th>\n",
       "      <th>event%-non_event%</th>\n",
       "      <th>IV</th>\n",
       "    </tr>\n",
       "  </thead>\n",
       "  <tbody>\n",
       "    <tr>\n",
       "      <th>0</th>\n",
       "      <td>(-0.001, 5.0]</td>\n",
       "      <td>31688.0</td>\n",
       "      <td>811.0</td>\n",
       "      <td>32499.0</td>\n",
       "      <td>27.514843</td>\n",
       "      <td>47.352062</td>\n",
       "      <td>-0.542885</td>\n",
       "      <td>-19.837219</td>\n",
       "      <td>10.769324</td>\n",
       "    </tr>\n",
       "    <tr>\n",
       "      <th>1</th>\n",
       "      <td>(5.0, 10.0]</td>\n",
       "      <td>20154.0</td>\n",
       "      <td>1306.0</td>\n",
       "      <td>21460.0</td>\n",
       "      <td>44.308736</td>\n",
       "      <td>30.116557</td>\n",
       "      <td>0.386107</td>\n",
       "      <td>14.192179</td>\n",
       "      <td>5.479696</td>\n",
       "    </tr>\n",
       "    <tr>\n",
       "      <th>2</th>\n",
       "      <td>(10.0, 15.0]</td>\n",
       "      <td>6191.0</td>\n",
       "      <td>476.0</td>\n",
       "      <td>6667.0</td>\n",
       "      <td>16.149279</td>\n",
       "      <td>9.251345</td>\n",
       "      <td>0.557106</td>\n",
       "      <td>6.897934</td>\n",
       "      <td>3.842884</td>\n",
       "    </tr>\n",
       "    <tr>\n",
       "      <th>3</th>\n",
       "      <td>(15.0, 20.0]</td>\n",
       "      <td>2339.0</td>\n",
       "      <td>84.0</td>\n",
       "      <td>2423.0</td>\n",
       "      <td>2.849873</td>\n",
       "      <td>3.495218</td>\n",
       "      <td>-0.204121</td>\n",
       "      <td>-0.645345</td>\n",
       "      <td>0.131729</td>\n",
       "    </tr>\n",
       "    <tr>\n",
       "      <th>4</th>\n",
       "      <td>(20.0, 25.0]</td>\n",
       "      <td>3329.0</td>\n",
       "      <td>131.0</td>\n",
       "      <td>3460.0</td>\n",
       "      <td>4.444444</td>\n",
       "      <td>4.974597</td>\n",
       "      <td>-0.112689</td>\n",
       "      <td>-0.530152</td>\n",
       "      <td>0.059743</td>\n",
       "    </tr>\n",
       "    <tr>\n",
       "      <th>5</th>\n",
       "      <td>(25.0, 30.0]</td>\n",
       "      <td>2353.0</td>\n",
       "      <td>102.0</td>\n",
       "      <td>2455.0</td>\n",
       "      <td>3.460560</td>\n",
       "      <td>3.516139</td>\n",
       "      <td>-0.015933</td>\n",
       "      <td>-0.055579</td>\n",
       "      <td>0.000886</td>\n",
       "    </tr>\n",
       "    <tr>\n",
       "      <th>6</th>\n",
       "      <td>(30.0, 35.0]</td>\n",
       "      <td>759.0</td>\n",
       "      <td>35.0</td>\n",
       "      <td>794.0</td>\n",
       "      <td>1.187447</td>\n",
       "      <td>1.134190</td>\n",
       "      <td>0.045887</td>\n",
       "      <td>0.053257</td>\n",
       "      <td>0.002444</td>\n",
       "    </tr>\n",
       "    <tr>\n",
       "      <th>7</th>\n",
       "      <td>(35.0, 40.0]</td>\n",
       "      <td>102.0</td>\n",
       "      <td>2.0</td>\n",
       "      <td>104.0</td>\n",
       "      <td>0.067854</td>\n",
       "      <td>0.152421</td>\n",
       "      <td>-0.809285</td>\n",
       "      <td>-0.084567</td>\n",
       "      <td>0.068439</td>\n",
       "    </tr>\n",
       "    <tr>\n",
       "      <th>8</th>\n",
       "      <td>(40.0, 45.0]</td>\n",
       "      <td>5.0</td>\n",
       "      <td>0.5</td>\n",
       "      <td>5.5</td>\n",
       "      <td>0.016964</td>\n",
       "      <td>0.007472</td>\n",
       "      <td>0.819955</td>\n",
       "      <td>0.009492</td>\n",
       "      <td>0.007783</td>\n",
       "    </tr>\n",
       "  </tbody>\n",
       "</table>\n",
       "</div>"
      ],
      "text/plain": [
       "  total_trades-bin  non_event   event    count    event %  non_event %  \\\n",
       "0    (-0.001, 5.0]    31688.0   811.0  32499.0  27.514843    47.352062   \n",
       "1      (5.0, 10.0]    20154.0  1306.0  21460.0  44.308736    30.116557   \n",
       "2     (10.0, 15.0]     6191.0   476.0   6667.0  16.149279     9.251345   \n",
       "3     (15.0, 20.0]     2339.0    84.0   2423.0   2.849873     3.495218   \n",
       "4     (20.0, 25.0]     3329.0   131.0   3460.0   4.444444     4.974597   \n",
       "5     (25.0, 30.0]     2353.0   102.0   2455.0   3.460560     3.516139   \n",
       "6     (30.0, 35.0]      759.0    35.0    794.0   1.187447     1.134190   \n",
       "7     (35.0, 40.0]      102.0     2.0    104.0   0.067854     0.152421   \n",
       "8     (40.0, 45.0]        5.0     0.5      5.5   0.016964     0.007472   \n",
       "\n",
       "        WOE  event%-non_event%         IV  \n",
       "0 -0.542885         -19.837219  10.769324  \n",
       "1  0.386107          14.192179   5.479696  \n",
       "2  0.557106           6.897934   3.842884  \n",
       "3 -0.204121          -0.645345   0.131729  \n",
       "4 -0.112689          -0.530152   0.059743  \n",
       "5 -0.015933          -0.055579   0.000886  \n",
       "6  0.045887           0.053257   0.002444  \n",
       "7 -0.809285          -0.084567   0.068439  \n",
       "8  0.819955           0.009492   0.007783  "
      ]
     },
     "execution_count": 430,
     "metadata": {},
     "output_type": "execute_result"
    }
   ],
   "source": [
    "woe_iv(col='total_trades', target='performance',mybins=tot_trade_bins)"
   ]
  },
  {
   "cell_type": "markdown",
   "metadata": {
    "ExecuteTime": {
     "end_time": "2019-08-26T15:21:31.192009Z",
     "start_time": "2019-08-26T15:21:31.188019Z"
    }
   },
   "source": [
    "#### outstanding_bal"
   ]
  },
  {
   "cell_type": "code",
   "execution_count": 431,
   "metadata": {
    "ExecuteTime": {
     "end_time": "2019-09-11T11:38:48.074000Z",
     "start_time": "2019-09-11T11:38:48.062000Z"
    }
   },
   "outputs": [
    {
     "data": {
      "text/plain": [
       "0"
      ]
     },
     "execution_count": 431,
     "metadata": {},
     "output_type": "execute_result"
    }
   ],
   "source": [
    "df['outstanding_bal'].isna().sum()"
   ]
  },
  {
   "cell_type": "code",
   "execution_count": 432,
   "metadata": {
    "ExecuteTime": {
     "end_time": "2019-09-11T11:38:48.095000Z",
     "start_time": "2019-09-11T11:38:48.079000Z"
    }
   },
   "outputs": [],
   "source": [
    "df['outstanding_bal'] = df['outstanding_bal'].fillna(value=df['outstanding_bal'].median())"
   ]
  },
  {
   "cell_type": "code",
   "execution_count": 433,
   "metadata": {
    "ExecuteTime": {
     "end_time": "2019-09-11T11:38:48.433000Z",
     "start_time": "2019-09-11T11:38:48.099000Z"
    }
   },
   "outputs": [
    {
     "data": {
      "text/plain": [
       "<matplotlib.axes._subplots.AxesSubplot at 0x10a4a978>"
      ]
     },
     "execution_count": 433,
     "metadata": {},
     "output_type": "execute_result"
    },
    {
     "data": {
      "image/png": "[encoded data removed]",
      "text/plain": [
       "<Figure size 432x288 with 1 Axes>"
      ]
     },
     "metadata": {
      "needs_background": "light"
     },
     "output_type": "display_data"
    }
   ],
   "source": [
    "sns.distplot(df['outstanding_bal'].dropna())"
   ]
  },
  {
   "cell_type": "code",
   "execution_count": 434,
   "metadata": {
    "ExecuteTime": {
     "end_time": "2019-09-11T11:38:48.448000Z",
     "start_time": "2019-09-11T11:38:48.437000Z"
    }
   },
   "outputs": [
    {
     "data": {
      "text/plain": [
       "array([      0.        ,  579866.77777778, 1159733.55555556,\n",
       "       1739600.33333333, 2319467.11111111, 2899333.88888889,\n",
       "       3479200.66666667, 4059067.44444444, 4638934.22222222,\n",
       "       5218801.        ])"
      ]
     },
     "execution_count": 434,
     "metadata": {},
     "output_type": "execute_result"
    }
   ],
   "source": [
    "ob_bins =  np.linspace(start=df.outstanding_bal.min(), stop=df.outstanding_bal.max(), num=10)\n",
    "ob_bins"
   ]
  },
  {
   "cell_type": "code",
   "execution_count": 435,
   "metadata": {
    "ExecuteTime": {
     "end_time": "2019-09-11T11:38:48.511000Z",
     "start_time": "2019-09-11T11:38:48.452000Z"
    }
   },
   "outputs": [
    {
     "name": "stdout",
     "output_type": "stream",
     "text": [
      "IV is 14.432\n"
     ]
    },
    {
     "data": {
      "text/html": [
       "<div>\n",
       "<style scoped>\n",
       "    .dataframe tbody tr th:only-of-type {\n",
       "        vertical-align: middle;\n",
       "    }\n",
       "\n",
       "    .dataframe tbody tr th {\n",
       "        vertical-align: top;\n",
       "    }\n",
       "\n",
       "    .dataframe thead th {\n",
       "        text-align: right;\n",
       "    }\n",
       "</style>\n",
       "<table border=\"1\" class=\"dataframe\">\n",
       "  <thead>\n",
       "    <tr style=\"text-align: right;\">\n",
       "      <th></th>\n",
       "      <th>outstanding_bal-bin</th>\n",
       "      <th>non_event</th>\n",
       "      <th>event</th>\n",
       "      <th>count</th>\n",
       "      <th>event %</th>\n",
       "      <th>non_event %</th>\n",
       "      <th>WOE</th>\n",
       "      <th>event%-non_event%</th>\n",
       "      <th>IV</th>\n",
       "    </tr>\n",
       "  </thead>\n",
       "  <tbody>\n",
       "    <tr>\n",
       "      <th>0</th>\n",
       "      <td>(-0.001, 579866.778]</td>\n",
       "      <td>26449.0</td>\n",
       "      <td>876.0</td>\n",
       "      <td>27325.0</td>\n",
       "      <td>29.725144</td>\n",
       "      <td>39.523311</td>\n",
       "      <td>-0.284897</td>\n",
       "      <td>-9.798167</td>\n",
       "      <td>2.791472</td>\n",
       "    </tr>\n",
       "    <tr>\n",
       "      <th>1</th>\n",
       "      <td>(579866.778, 1159733.556]</td>\n",
       "      <td>17562.0</td>\n",
       "      <td>1182.0</td>\n",
       "      <td>18744.0</td>\n",
       "      <td>40.108585</td>\n",
       "      <td>26.243276</td>\n",
       "      <td>0.424181</td>\n",
       "      <td>13.865309</td>\n",
       "      <td>5.881395</td>\n",
       "    </tr>\n",
       "    <tr>\n",
       "      <th>2</th>\n",
       "      <td>(1159733.556, 1739600.333]</td>\n",
       "      <td>4805.0</td>\n",
       "      <td>259.0</td>\n",
       "      <td>5064.0</td>\n",
       "      <td>8.788599</td>\n",
       "      <td>7.180215</td>\n",
       "      <td>0.202126</td>\n",
       "      <td>1.608383</td>\n",
       "      <td>0.325096</td>\n",
       "    </tr>\n",
       "    <tr>\n",
       "      <th>3</th>\n",
       "      <td>(1739600.333, 2319467.111]</td>\n",
       "      <td>626.0</td>\n",
       "      <td>22.0</td>\n",
       "      <td>648.0</td>\n",
       "      <td>0.746522</td>\n",
       "      <td>0.935445</td>\n",
       "      <td>-0.225598</td>\n",
       "      <td>-0.188923</td>\n",
       "      <td>0.042621</td>\n",
       "    </tr>\n",
       "    <tr>\n",
       "      <th>4</th>\n",
       "      <td>(2319467.111, 2899333.889]</td>\n",
       "      <td>49.0</td>\n",
       "      <td>2.0</td>\n",
       "      <td>51.0</td>\n",
       "      <td>0.067866</td>\n",
       "      <td>0.073222</td>\n",
       "      <td>-0.075963</td>\n",
       "      <td>-0.005356</td>\n",
       "      <td>0.000407</td>\n",
       "    </tr>\n",
       "    <tr>\n",
       "      <th>5</th>\n",
       "      <td>(2899333.889, 3479200.667]</td>\n",
       "      <td>12778.0</td>\n",
       "      <td>324.0</td>\n",
       "      <td>13102.0</td>\n",
       "      <td>10.994231</td>\n",
       "      <td>19.094441</td>\n",
       "      <td>-0.552027</td>\n",
       "      <td>-8.100210</td>\n",
       "      <td>4.471531</td>\n",
       "    </tr>\n",
       "    <tr>\n",
       "      <th>6</th>\n",
       "      <td>(3479200.667, 4059067.444]</td>\n",
       "      <td>3534.0</td>\n",
       "      <td>222.0</td>\n",
       "      <td>3756.0</td>\n",
       "      <td>7.533084</td>\n",
       "      <td>5.280932</td>\n",
       "      <td>0.355202</td>\n",
       "      <td>2.252152</td>\n",
       "      <td>0.799969</td>\n",
       "    </tr>\n",
       "    <tr>\n",
       "      <th>7</th>\n",
       "      <td>(4059067.444, 4638934.222]</td>\n",
       "      <td>976.0</td>\n",
       "      <td>49.0</td>\n",
       "      <td>1025.0</td>\n",
       "      <td>1.662708</td>\n",
       "      <td>1.458458</td>\n",
       "      <td>0.131068</td>\n",
       "      <td>0.204250</td>\n",
       "      <td>0.026771</td>\n",
       "    </tr>\n",
       "    <tr>\n",
       "      <th>8</th>\n",
       "      <td>(4638934.222, 5218801.0]</td>\n",
       "      <td>141.0</td>\n",
       "      <td>11.0</td>\n",
       "      <td>152.0</td>\n",
       "      <td>0.373261</td>\n",
       "      <td>0.210699</td>\n",
       "      <td>0.571846</td>\n",
       "      <td>0.162562</td>\n",
       "      <td>0.092960</td>\n",
       "    </tr>\n",
       "  </tbody>\n",
       "</table>\n",
       "</div>"
      ],
      "text/plain": [
       "          outstanding_bal-bin  non_event   event    count    event %  \\\n",
       "0        (-0.001, 579866.778]    26449.0   876.0  27325.0  29.725144   \n",
       "1   (579866.778, 1159733.556]    17562.0  1182.0  18744.0  40.108585   \n",
       "2  (1159733.556, 1739600.333]     4805.0   259.0   5064.0   8.788599   \n",
       "3  (1739600.333, 2319467.111]      626.0    22.0    648.0   0.746522   \n",
       "4  (2319467.111, 2899333.889]       49.0     2.0     51.0   0.067866   \n",
       "5  (2899333.889, 3479200.667]    12778.0   324.0  13102.0  10.994231   \n",
       "6  (3479200.667, 4059067.444]     3534.0   222.0   3756.0   7.533084   \n",
       "7  (4059067.444, 4638934.222]      976.0    49.0   1025.0   1.662708   \n",
       "8    (4638934.222, 5218801.0]      141.0    11.0    152.0   0.373261   \n",
       "\n",
       "   non_event %       WOE  event%-non_event%        IV  \n",
       "0    39.523311 -0.284897          -9.798167  2.791472  \n",
       "1    26.243276  0.424181          13.865309  5.881395  \n",
       "2     7.180215  0.202126           1.608383  0.325096  \n",
       "3     0.935445 -0.225598          -0.188923  0.042621  \n",
       "4     0.073222 -0.075963          -0.005356  0.000407  \n",
       "5    19.094441 -0.552027          -8.100210  4.471531  \n",
       "6     5.280932  0.355202           2.252152  0.799969  \n",
       "7     1.458458  0.131068           0.204250  0.026771  \n",
       "8     0.210699  0.571846           0.162562  0.092960  "
      ]
     },
     "execution_count": 435,
     "metadata": {},
     "output_type": "execute_result"
    }
   ],
   "source": [
    "ob_woe = woe_iv(col='outstanding_bal',\n",
    "       target='performance',\n",
    "       mybins=ob_bins)\n",
    "ob_woe"
   ]
  },
  {
   "cell_type": "code",
   "execution_count": 436,
   "metadata": {
    "ExecuteTime": {
     "end_time": "2019-09-11T11:38:48.925000Z",
     "start_time": "2019-09-11T11:38:48.513000Z"
    }
   },
   "outputs": [
    {
     "data": {
      "image/png": "[encoded data removed]",
      "text/plain": [
       "<Figure size 720x576 with 1 Axes>"
      ]
     },
     "metadata": {
      "needs_background": "light"
     },
     "output_type": "display_data"
    }
   ],
   "source": [
    "N = 9\n",
    "plt.figure(figsize=(10,8))\n",
    "event = ob_woe['event']\n",
    "non_event = ob_woe['non_event']\n",
    "\n",
    "ind = np.arange(N)    # the x locations for the groups\n",
    "width = 0.35       # the width of the bars: can also be len(x) sequence\n",
    "\n",
    "p1 = plt.bar(ind, non_event, width)\n",
    "p2 = plt.bar(ind, event, width, bottom=non_event)\n",
    "\n",
    "plt.ylabel('Performance')\n",
    "plt.title('Performance by outstanding balance bin wise')\n",
    "plt.xticks(ind, ob_woe['outstanding_bal-bin'], rotation=20)\n",
    "plt.yticks(np.arange(0, 33000, 2000))\n",
    "plt.legend((p1[0], p2[0]), ('0', '1'));"
   ]
  },
  {
   "cell_type": "markdown",
   "metadata": {},
   "source": [
    "#### DPD"
   ]
  },
  {
   "cell_type": "code",
   "execution_count": 437,
   "metadata": {
    "ExecuteTime": {
     "end_time": "2019-09-11T11:38:48.936000Z",
     "start_time": "2019-09-11T11:38:48.930000Z"
    }
   },
   "outputs": [],
   "source": [
    "dpds = ['90_dpd_6m', '60_dpd_6m', '30_dpd_6m',\n",
    "        '90_dpd_12m', '60_dpd_12m', '30_dpd_12m']"
   ]
  },
  {
   "cell_type": "code",
   "execution_count": 438,
   "metadata": {
    "ExecuteTime": {
     "end_time": "2019-09-11T11:38:48.998000Z",
     "start_time": "2019-09-11T11:38:48.940000Z"
    }
   },
   "outputs": [
    {
     "data": {
      "text/html": [
       "<div>\n",
       "<style scoped>\n",
       "    .dataframe tbody tr th:only-of-type {\n",
       "        vertical-align: middle;\n",
       "    }\n",
       "\n",
       "    .dataframe tbody tr th {\n",
       "        vertical-align: top;\n",
       "    }\n",
       "\n",
       "    .dataframe thead th {\n",
       "        text-align: right;\n",
       "    }\n",
       "</style>\n",
       "<table border=\"1\" class=\"dataframe\">\n",
       "  <thead>\n",
       "    <tr style=\"text-align: right;\">\n",
       "      <th></th>\n",
       "      <th>90_dpd_6m</th>\n",
       "      <th>60_dpd_6m</th>\n",
       "      <th>30_dpd_6m</th>\n",
       "      <th>90_dpd_12m</th>\n",
       "      <th>60_dpd_12m</th>\n",
       "      <th>30_dpd_12m</th>\n",
       "    </tr>\n",
       "  </thead>\n",
       "  <tbody>\n",
       "    <tr>\n",
       "      <th>count</th>\n",
       "      <td>69867.000000</td>\n",
       "      <td>69867.000000</td>\n",
       "      <td>69867.000000</td>\n",
       "      <td>69867.000000</td>\n",
       "      <td>69867.000000</td>\n",
       "      <td>69867.000000</td>\n",
       "    </tr>\n",
       "    <tr>\n",
       "      <th>mean</th>\n",
       "      <td>0.248973</td>\n",
       "      <td>0.391673</td>\n",
       "      <td>0.523495</td>\n",
       "      <td>0.414831</td>\n",
       "      <td>0.603375</td>\n",
       "      <td>0.733866</td>\n",
       "    </tr>\n",
       "    <tr>\n",
       "      <th>std</th>\n",
       "      <td>0.505659</td>\n",
       "      <td>0.771887</td>\n",
       "      <td>1.000760</td>\n",
       "      <td>0.763508</td>\n",
       "      <td>1.021749</td>\n",
       "      <td>1.243168</td>\n",
       "    </tr>\n",
       "    <tr>\n",
       "      <th>min</th>\n",
       "      <td>0.000000</td>\n",
       "      <td>0.000000</td>\n",
       "      <td>0.000000</td>\n",
       "      <td>0.000000</td>\n",
       "      <td>0.000000</td>\n",
       "      <td>0.000000</td>\n",
       "    </tr>\n",
       "    <tr>\n",
       "      <th>25%</th>\n",
       "      <td>0.000000</td>\n",
       "      <td>0.000000</td>\n",
       "      <td>0.000000</td>\n",
       "      <td>0.000000</td>\n",
       "      <td>0.000000</td>\n",
       "      <td>0.000000</td>\n",
       "    </tr>\n",
       "    <tr>\n",
       "      <th>50%</th>\n",
       "      <td>0.000000</td>\n",
       "      <td>0.000000</td>\n",
       "      <td>0.000000</td>\n",
       "      <td>0.000000</td>\n",
       "      <td>0.000000</td>\n",
       "      <td>0.000000</td>\n",
       "    </tr>\n",
       "    <tr>\n",
       "      <th>75%</th>\n",
       "      <td>0.000000</td>\n",
       "      <td>1.000000</td>\n",
       "      <td>1.000000</td>\n",
       "      <td>1.000000</td>\n",
       "      <td>1.000000</td>\n",
       "      <td>1.000000</td>\n",
       "    </tr>\n",
       "    <tr>\n",
       "      <th>max</th>\n",
       "      <td>3.000000</td>\n",
       "      <td>5.000000</td>\n",
       "      <td>7.000000</td>\n",
       "      <td>5.000000</td>\n",
       "      <td>7.000000</td>\n",
       "      <td>9.000000</td>\n",
       "    </tr>\n",
       "  </tbody>\n",
       "</table>\n",
       "</div>"
      ],
      "text/plain": [
       "          90_dpd_6m     60_dpd_6m     30_dpd_6m    90_dpd_12m    60_dpd_12m  \\\n",
       "count  69867.000000  69867.000000  69867.000000  69867.000000  69867.000000   \n",
       "mean       0.248973      0.391673      0.523495      0.414831      0.603375   \n",
       "std        0.505659      0.771887      1.000760      0.763508      1.021749   \n",
       "min        0.000000      0.000000      0.000000      0.000000      0.000000   \n",
       "25%        0.000000      0.000000      0.000000      0.000000      0.000000   \n",
       "50%        0.000000      0.000000      0.000000      0.000000      0.000000   \n",
       "75%        0.000000      1.000000      1.000000      1.000000      1.000000   \n",
       "max        3.000000      5.000000      7.000000      5.000000      7.000000   \n",
       "\n",
       "         30_dpd_12m  \n",
       "count  69867.000000  \n",
       "mean       0.733866  \n",
       "std        1.243168  \n",
       "min        0.000000  \n",
       "25%        0.000000  \n",
       "50%        0.000000  \n",
       "75%        1.000000  \n",
       "max        9.000000  "
      ]
     },
     "execution_count": 438,
     "metadata": {},
     "output_type": "execute_result"
    }
   ],
   "source": [
    "df[dpds].describe()"
   ]
  },
  {
   "cell_type": "code",
   "execution_count": 439,
   "metadata": {
    "ExecuteTime": {
     "end_time": "2019-09-11T11:38:49.062000Z",
     "start_time": "2019-09-11T11:38:49.028000Z"
    }
   },
   "outputs": [
    {
     "data": {
      "text/html": [
       "<div>\n",
       "<style scoped>\n",
       "    .dataframe tbody tr th:only-of-type {\n",
       "        vertical-align: middle;\n",
       "    }\n",
       "\n",
       "    .dataframe tbody tr th {\n",
       "        vertical-align: top;\n",
       "    }\n",
       "\n",
       "    .dataframe thead th {\n",
       "        text-align: right;\n",
       "    }\n",
       "</style>\n",
       "<table border=\"1\" class=\"dataframe\">\n",
       "  <thead>\n",
       "    <tr style=\"text-align: right;\">\n",
       "      <th>performance</th>\n",
       "      <th>0.0</th>\n",
       "      <th>1.0</th>\n",
       "      <th>delinq%</th>\n",
       "    </tr>\n",
       "    <tr>\n",
       "      <th>90_dpd_6m</th>\n",
       "      <th></th>\n",
       "      <th></th>\n",
       "      <th></th>\n",
       "    </tr>\n",
       "  </thead>\n",
       "  <tbody>\n",
       "    <tr>\n",
       "      <th>0</th>\n",
       "      <td>52870</td>\n",
       "      <td>1794</td>\n",
       "      <td>3.282</td>\n",
       "    </tr>\n",
       "    <tr>\n",
       "      <th>1</th>\n",
       "      <td>12249</td>\n",
       "      <td>970</td>\n",
       "      <td>7.338</td>\n",
       "    </tr>\n",
       "    <tr>\n",
       "      <th>2</th>\n",
       "      <td>1616</td>\n",
       "      <td>160</td>\n",
       "      <td>9.009</td>\n",
       "    </tr>\n",
       "    <tr>\n",
       "      <th>3</th>\n",
       "      <td>185</td>\n",
       "      <td>23</td>\n",
       "      <td>11.058</td>\n",
       "    </tr>\n",
       "  </tbody>\n",
       "</table>\n",
       "</div>"
      ],
      "text/plain": [
       "performance    0.0   1.0  delinq%\n",
       "90_dpd_6m                        \n",
       "0            52870  1794    3.282\n",
       "1            12249   970    7.338\n",
       "2             1616   160    9.009\n",
       "3              185    23   11.058"
      ]
     },
     "execution_count": 439,
     "metadata": {},
     "output_type": "execute_result"
    }
   ],
   "source": [
    "catg_analysis('90_dpd_6m')"
   ]
  },
  {
   "cell_type": "code",
   "execution_count": 440,
   "metadata": {
    "ExecuteTime": {
     "end_time": "2019-09-11T11:38:49.109000Z",
     "start_time": "2019-09-11T11:38:49.070000Z"
    }
   },
   "outputs": [
    {
     "data": {
      "text/html": [
       "<div>\n",
       "<style scoped>\n",
       "    .dataframe tbody tr th:only-of-type {\n",
       "        vertical-align: middle;\n",
       "    }\n",
       "\n",
       "    .dataframe tbody tr th {\n",
       "        vertical-align: top;\n",
       "    }\n",
       "\n",
       "    .dataframe thead th {\n",
       "        text-align: right;\n",
       "    }\n",
       "</style>\n",
       "<table border=\"1\" class=\"dataframe\">\n",
       "  <thead>\n",
       "    <tr style=\"text-align: right;\">\n",
       "      <th>performance</th>\n",
       "      <th>0.0</th>\n",
       "      <th>1.0</th>\n",
       "      <th>delinq%</th>\n",
       "    </tr>\n",
       "    <tr>\n",
       "      <th>60_dpd_6m</th>\n",
       "      <th></th>\n",
       "      <th></th>\n",
       "      <th></th>\n",
       "    </tr>\n",
       "  </thead>\n",
       "  <tbody>\n",
       "    <tr>\n",
       "      <th>0</th>\n",
       "      <td>50288</td>\n",
       "      <td>1582</td>\n",
       "      <td>3.050</td>\n",
       "    </tr>\n",
       "    <tr>\n",
       "      <th>1</th>\n",
       "      <td>10347</td>\n",
       "      <td>783</td>\n",
       "      <td>7.035</td>\n",
       "    </tr>\n",
       "    <tr>\n",
       "      <th>2</th>\n",
       "      <td>4528</td>\n",
       "      <td>389</td>\n",
       "      <td>7.911</td>\n",
       "    </tr>\n",
       "    <tr>\n",
       "      <th>3</th>\n",
       "      <td>1321</td>\n",
       "      <td>148</td>\n",
       "      <td>10.075</td>\n",
       "    </tr>\n",
       "    <tr>\n",
       "      <th>4</th>\n",
       "      <td>372</td>\n",
       "      <td>39</td>\n",
       "      <td>9.489</td>\n",
       "    </tr>\n",
       "    <tr>\n",
       "      <th>5</th>\n",
       "      <td>64</td>\n",
       "      <td>6</td>\n",
       "      <td>8.571</td>\n",
       "    </tr>\n",
       "  </tbody>\n",
       "</table>\n",
       "</div>"
      ],
      "text/plain": [
       "performance    0.0   1.0  delinq%\n",
       "60_dpd_6m                        \n",
       "0            50288  1582    3.050\n",
       "1            10347   783    7.035\n",
       "2             4528   389    7.911\n",
       "3             1321   148   10.075\n",
       "4              372    39    9.489\n",
       "5               64     6    8.571"
      ]
     },
     "execution_count": 440,
     "metadata": {},
     "output_type": "execute_result"
    }
   ],
   "source": [
    "catg_analysis('60_dpd_6m')"
   ]
  },
  {
   "cell_type": "code",
   "execution_count": 441,
   "metadata": {
    "ExecuteTime": {
     "end_time": "2019-09-11T11:38:49.144000Z",
     "start_time": "2019-09-11T11:38:49.113000Z"
    }
   },
   "outputs": [
    {
     "data": {
      "text/html": [
       "<div>\n",
       "<style scoped>\n",
       "    .dataframe tbody tr th:only-of-type {\n",
       "        vertical-align: middle;\n",
       "    }\n",
       "\n",
       "    .dataframe tbody tr th {\n",
       "        vertical-align: top;\n",
       "    }\n",
       "\n",
       "    .dataframe thead th {\n",
       "        text-align: right;\n",
       "    }\n",
       "</style>\n",
       "<table border=\"1\" class=\"dataframe\">\n",
       "  <thead>\n",
       "    <tr style=\"text-align: right;\">\n",
       "      <th>performance</th>\n",
       "      <th>0.0</th>\n",
       "      <th>1.0</th>\n",
       "      <th>delinq%</th>\n",
       "    </tr>\n",
       "    <tr>\n",
       "      <th>30_dpd_6m</th>\n",
       "      <th></th>\n",
       "      <th></th>\n",
       "      <th></th>\n",
       "    </tr>\n",
       "  </thead>\n",
       "  <tbody>\n",
       "    <tr>\n",
       "      <th>0</th>\n",
       "      <td>48643</td>\n",
       "      <td>1455</td>\n",
       "      <td>2.904</td>\n",
       "    </tr>\n",
       "    <tr>\n",
       "      <th>1</th>\n",
       "      <td>8878</td>\n",
       "      <td>622</td>\n",
       "      <td>6.547</td>\n",
       "    </tr>\n",
       "    <tr>\n",
       "      <th>2</th>\n",
       "      <td>5431</td>\n",
       "      <td>466</td>\n",
       "      <td>7.902</td>\n",
       "    </tr>\n",
       "    <tr>\n",
       "      <th>3</th>\n",
       "      <td>2585</td>\n",
       "      <td>245</td>\n",
       "      <td>8.657</td>\n",
       "    </tr>\n",
       "    <tr>\n",
       "      <th>4</th>\n",
       "      <td>938</td>\n",
       "      <td>107</td>\n",
       "      <td>10.239</td>\n",
       "    </tr>\n",
       "    <tr>\n",
       "      <th>5</th>\n",
       "      <td>343</td>\n",
       "      <td>43</td>\n",
       "      <td>11.140</td>\n",
       "    </tr>\n",
       "    <tr>\n",
       "      <th>6</th>\n",
       "      <td>88</td>\n",
       "      <td>8</td>\n",
       "      <td>8.333</td>\n",
       "    </tr>\n",
       "    <tr>\n",
       "      <th>7</th>\n",
       "      <td>14</td>\n",
       "      <td>1</td>\n",
       "      <td>6.667</td>\n",
       "    </tr>\n",
       "  </tbody>\n",
       "</table>\n",
       "</div>"
      ],
      "text/plain": [
       "performance    0.0   1.0  delinq%\n",
       "30_dpd_6m                        \n",
       "0            48643  1455    2.904\n",
       "1             8878   622    6.547\n",
       "2             5431   466    7.902\n",
       "3             2585   245    8.657\n",
       "4              938   107   10.239\n",
       "5              343    43   11.140\n",
       "6               88     8    8.333\n",
       "7               14     1    6.667"
      ]
     },
     "execution_count": 441,
     "metadata": {},
     "output_type": "execute_result"
    }
   ],
   "source": [
    "catg_analysis('30_dpd_6m')"
   ]
  },
  {
   "cell_type": "code",
   "execution_count": 442,
   "metadata": {
    "ExecuteTime": {
     "end_time": "2019-09-11T11:38:49.181000Z",
     "start_time": "2019-09-11T11:38:49.149000Z"
    }
   },
   "outputs": [
    {
     "data": {
      "text/html": [
       "<div>\n",
       "<style scoped>\n",
       "    .dataframe tbody tr th:only-of-type {\n",
       "        vertical-align: middle;\n",
       "    }\n",
       "\n",
       "    .dataframe tbody tr th {\n",
       "        vertical-align: top;\n",
       "    }\n",
       "\n",
       "    .dataframe thead th {\n",
       "        text-align: right;\n",
       "    }\n",
       "</style>\n",
       "<table border=\"1\" class=\"dataframe\">\n",
       "  <thead>\n",
       "    <tr style=\"text-align: right;\">\n",
       "      <th>performance</th>\n",
       "      <th>0.0</th>\n",
       "      <th>1.0</th>\n",
       "      <th>delinq%</th>\n",
       "    </tr>\n",
       "    <tr>\n",
       "      <th>90_dpd_12m</th>\n",
       "      <th></th>\n",
       "      <th></th>\n",
       "      <th></th>\n",
       "    </tr>\n",
       "  </thead>\n",
       "  <tbody>\n",
       "    <tr>\n",
       "      <th>0</th>\n",
       "      <td>48982</td>\n",
       "      <td>1510</td>\n",
       "      <td>2.991</td>\n",
       "    </tr>\n",
       "    <tr>\n",
       "      <th>1</th>\n",
       "      <td>10867</td>\n",
       "      <td>796</td>\n",
       "      <td>6.825</td>\n",
       "    </tr>\n",
       "    <tr>\n",
       "      <th>2</th>\n",
       "      <td>5672</td>\n",
       "      <td>488</td>\n",
       "      <td>7.922</td>\n",
       "    </tr>\n",
       "    <tr>\n",
       "      <th>3</th>\n",
       "      <td>1124</td>\n",
       "      <td>120</td>\n",
       "      <td>9.646</td>\n",
       "    </tr>\n",
       "    <tr>\n",
       "      <th>4</th>\n",
       "      <td>244</td>\n",
       "      <td>28</td>\n",
       "      <td>10.294</td>\n",
       "    </tr>\n",
       "    <tr>\n",
       "      <th>5</th>\n",
       "      <td>31</td>\n",
       "      <td>5</td>\n",
       "      <td>13.889</td>\n",
       "    </tr>\n",
       "  </tbody>\n",
       "</table>\n",
       "</div>"
      ],
      "text/plain": [
       "performance    0.0   1.0  delinq%\n",
       "90_dpd_12m                       \n",
       "0            48982  1510    2.991\n",
       "1            10867   796    6.825\n",
       "2             5672   488    7.922\n",
       "3             1124   120    9.646\n",
       "4              244    28   10.294\n",
       "5               31     5   13.889"
      ]
     },
     "execution_count": 442,
     "metadata": {},
     "output_type": "execute_result"
    }
   ],
   "source": [
    "catg_analysis('90_dpd_12m')"
   ]
  },
  {
   "cell_type": "code",
   "execution_count": 443,
   "metadata": {
    "ExecuteTime": {
     "end_time": "2019-09-11T11:38:49.214000Z",
     "start_time": "2019-09-11T11:38:49.185000Z"
    }
   },
   "outputs": [
    {
     "data": {
      "text/html": [
       "<div>\n",
       "<style scoped>\n",
       "    .dataframe tbody tr th:only-of-type {\n",
       "        vertical-align: middle;\n",
       "    }\n",
       "\n",
       "    .dataframe tbody tr th {\n",
       "        vertical-align: top;\n",
       "    }\n",
       "\n",
       "    .dataframe thead th {\n",
       "        text-align: right;\n",
       "    }\n",
       "</style>\n",
       "<table border=\"1\" class=\"dataframe\">\n",
       "  <thead>\n",
       "    <tr style=\"text-align: right;\">\n",
       "      <th>performance</th>\n",
       "      <th>0.0</th>\n",
       "      <th>1.0</th>\n",
       "      <th>delinq%</th>\n",
       "    </tr>\n",
       "    <tr>\n",
       "      <th>90_dpd_12m</th>\n",
       "      <th></th>\n",
       "      <th></th>\n",
       "      <th></th>\n",
       "    </tr>\n",
       "  </thead>\n",
       "  <tbody>\n",
       "    <tr>\n",
       "      <th>0</th>\n",
       "      <td>48982</td>\n",
       "      <td>1510</td>\n",
       "      <td>2.991</td>\n",
       "    </tr>\n",
       "    <tr>\n",
       "      <th>1</th>\n",
       "      <td>10867</td>\n",
       "      <td>796</td>\n",
       "      <td>6.825</td>\n",
       "    </tr>\n",
       "    <tr>\n",
       "      <th>2</th>\n",
       "      <td>5672</td>\n",
       "      <td>488</td>\n",
       "      <td>7.922</td>\n",
       "    </tr>\n",
       "    <tr>\n",
       "      <th>3</th>\n",
       "      <td>1124</td>\n",
       "      <td>120</td>\n",
       "      <td>9.646</td>\n",
       "    </tr>\n",
       "    <tr>\n",
       "      <th>4</th>\n",
       "      <td>244</td>\n",
       "      <td>28</td>\n",
       "      <td>10.294</td>\n",
       "    </tr>\n",
       "    <tr>\n",
       "      <th>5</th>\n",
       "      <td>31</td>\n",
       "      <td>5</td>\n",
       "      <td>13.889</td>\n",
       "    </tr>\n",
       "  </tbody>\n",
       "</table>\n",
       "</div>"
      ],
      "text/plain": [
       "performance    0.0   1.0  delinq%\n",
       "90_dpd_12m                       \n",
       "0            48982  1510    2.991\n",
       "1            10867   796    6.825\n",
       "2             5672   488    7.922\n",
       "3             1124   120    9.646\n",
       "4              244    28   10.294\n",
       "5               31     5   13.889"
      ]
     },
     "execution_count": 443,
     "metadata": {},
     "output_type": "execute_result"
    }
   ],
   "source": [
    "catg_analysis('90_dpd_12m')"
   ]
  },
  {
   "cell_type": "code",
   "execution_count": 444,
   "metadata": {
    "ExecuteTime": {
     "end_time": "2019-09-11T11:38:49.251000Z",
     "start_time": "2019-09-11T11:38:49.219000Z"
    }
   },
   "outputs": [
    {
     "data": {
      "text/html": [
       "<div>\n",
       "<style scoped>\n",
       "    .dataframe tbody tr th:only-of-type {\n",
       "        vertical-align: middle;\n",
       "    }\n",
       "\n",
       "    .dataframe tbody tr th {\n",
       "        vertical-align: top;\n",
       "    }\n",
       "\n",
       "    .dataframe thead th {\n",
       "        text-align: right;\n",
       "    }\n",
       "</style>\n",
       "<table border=\"1\" class=\"dataframe\">\n",
       "  <thead>\n",
       "    <tr style=\"text-align: right;\">\n",
       "      <th>performance</th>\n",
       "      <th>0.0</th>\n",
       "      <th>1.0</th>\n",
       "      <th>delinq%</th>\n",
       "    </tr>\n",
       "    <tr>\n",
       "      <th>60_dpd_12m</th>\n",
       "      <th></th>\n",
       "      <th></th>\n",
       "      <th></th>\n",
       "    </tr>\n",
       "  </thead>\n",
       "  <tbody>\n",
       "    <tr>\n",
       "      <th>0</th>\n",
       "      <td>44490</td>\n",
       "      <td>1378</td>\n",
       "      <td>3.004</td>\n",
       "    </tr>\n",
       "    <tr>\n",
       "      <th>1</th>\n",
       "      <td>12153</td>\n",
       "      <td>663</td>\n",
       "      <td>5.173</td>\n",
       "    </tr>\n",
       "    <tr>\n",
       "      <th>2</th>\n",
       "      <td>5932</td>\n",
       "      <td>482</td>\n",
       "      <td>7.515</td>\n",
       "    </tr>\n",
       "    <tr>\n",
       "      <th>3</th>\n",
       "      <td>2931</td>\n",
       "      <td>274</td>\n",
       "      <td>8.549</td>\n",
       "    </tr>\n",
       "    <tr>\n",
       "      <th>4</th>\n",
       "      <td>947</td>\n",
       "      <td>101</td>\n",
       "      <td>9.637</td>\n",
       "    </tr>\n",
       "    <tr>\n",
       "      <th>5</th>\n",
       "      <td>362</td>\n",
       "      <td>36</td>\n",
       "      <td>9.045</td>\n",
       "    </tr>\n",
       "    <tr>\n",
       "      <th>6</th>\n",
       "      <td>98</td>\n",
       "      <td>13</td>\n",
       "      <td>11.712</td>\n",
       "    </tr>\n",
       "    <tr>\n",
       "      <th>7</th>\n",
       "      <td>7</td>\n",
       "      <td>0</td>\n",
       "      <td>0.000</td>\n",
       "    </tr>\n",
       "  </tbody>\n",
       "</table>\n",
       "</div>"
      ],
      "text/plain": [
       "performance    0.0   1.0  delinq%\n",
       "60_dpd_12m                       \n",
       "0            44490  1378    3.004\n",
       "1            12153   663    5.173\n",
       "2             5932   482    7.515\n",
       "3             2931   274    8.549\n",
       "4              947   101    9.637\n",
       "5              362    36    9.045\n",
       "6               98    13   11.712\n",
       "7                7     0    0.000"
      ]
     },
     "execution_count": 444,
     "metadata": {},
     "output_type": "execute_result"
    }
   ],
   "source": [
    "catg_analysis('60_dpd_12m')"
   ]
  },
  {
   "cell_type": "code",
   "execution_count": 445,
   "metadata": {
    "ExecuteTime": {
     "end_time": "2019-09-11T11:38:49.289000Z",
     "start_time": "2019-09-11T11:38:49.256000Z"
    }
   },
   "outputs": [
    {
     "data": {
      "text/html": [
       "<div>\n",
       "<style scoped>\n",
       "    .dataframe tbody tr th:only-of-type {\n",
       "        vertical-align: middle;\n",
       "    }\n",
       "\n",
       "    .dataframe tbody tr th {\n",
       "        vertical-align: top;\n",
       "    }\n",
       "\n",
       "    .dataframe thead th {\n",
       "        text-align: right;\n",
       "    }\n",
       "</style>\n",
       "<table border=\"1\" class=\"dataframe\">\n",
       "  <thead>\n",
       "    <tr style=\"text-align: right;\">\n",
       "      <th>performance</th>\n",
       "      <th>0.0</th>\n",
       "      <th>1.0</th>\n",
       "      <th>delinq%</th>\n",
       "    </tr>\n",
       "    <tr>\n",
       "      <th>30_dpd_12m</th>\n",
       "      <th></th>\n",
       "      <th></th>\n",
       "      <th></th>\n",
       "    </tr>\n",
       "  </thead>\n",
       "  <tbody>\n",
       "    <tr>\n",
       "      <th>0</th>\n",
       "      <td>43541</td>\n",
       "      <td>1316</td>\n",
       "      <td>2.934</td>\n",
       "    </tr>\n",
       "    <tr>\n",
       "      <th>1</th>\n",
       "      <td>10956</td>\n",
       "      <td>518</td>\n",
       "      <td>4.515</td>\n",
       "    </tr>\n",
       "    <tr>\n",
       "      <th>2</th>\n",
       "      <td>5665</td>\n",
       "      <td>451</td>\n",
       "      <td>7.374</td>\n",
       "    </tr>\n",
       "    <tr>\n",
       "      <th>3</th>\n",
       "      <td>3787</td>\n",
       "      <td>349</td>\n",
       "      <td>8.438</td>\n",
       "    </tr>\n",
       "    <tr>\n",
       "      <th>4</th>\n",
       "      <td>1751</td>\n",
       "      <td>173</td>\n",
       "      <td>8.992</td>\n",
       "    </tr>\n",
       "    <tr>\n",
       "      <th>5</th>\n",
       "      <td>764</td>\n",
       "      <td>89</td>\n",
       "      <td>10.434</td>\n",
       "    </tr>\n",
       "    <tr>\n",
       "      <th>6</th>\n",
       "      <td>338</td>\n",
       "      <td>38</td>\n",
       "      <td>10.106</td>\n",
       "    </tr>\n",
       "    <tr>\n",
       "      <th>7</th>\n",
       "      <td>96</td>\n",
       "      <td>11</td>\n",
       "      <td>10.280</td>\n",
       "    </tr>\n",
       "    <tr>\n",
       "      <th>8</th>\n",
       "      <td>21</td>\n",
       "      <td>2</td>\n",
       "      <td>8.696</td>\n",
       "    </tr>\n",
       "    <tr>\n",
       "      <th>9</th>\n",
       "      <td>1</td>\n",
       "      <td>0</td>\n",
       "      <td>0.000</td>\n",
       "    </tr>\n",
       "  </tbody>\n",
       "</table>\n",
       "</div>"
      ],
      "text/plain": [
       "performance    0.0   1.0  delinq%\n",
       "30_dpd_12m                       \n",
       "0            43541  1316    2.934\n",
       "1            10956   518    4.515\n",
       "2             5665   451    7.374\n",
       "3             3787   349    8.438\n",
       "4             1751   173    8.992\n",
       "5              764    89   10.434\n",
       "6              338    38   10.106\n",
       "7               96    11   10.280\n",
       "8               21     2    8.696\n",
       "9                1     0    0.000"
      ]
     },
     "execution_count": 445,
     "metadata": {},
     "output_type": "execute_result"
    }
   ],
   "source": [
    "catg_analysis('30_dpd_12m')"
   ]
  },
  {
   "cell_type": "markdown",
   "metadata": {},
   "source": [
    "## Model Building"
   ]
  },
  {
   "cell_type": "markdown",
   "metadata": {},
   "source": [
    "### separating the rows with no performance tag"
   ]
  },
  {
   "cell_type": "code",
   "execution_count": 446,
   "metadata": {
    "ExecuteTime": {
     "end_time": "2019-09-11T11:38:49.300000Z",
     "start_time": "2019-09-11T11:38:49.293000Z"
    }
   },
   "outputs": [],
   "source": [
    "no_perf_set = df.loc[df['performance'].isna(),:]"
   ]
  },
  {
   "cell_type": "code",
   "execution_count": 447,
   "metadata": {
    "ExecuteTime": {
     "end_time": "2019-09-11T11:38:49.312000Z",
     "start_time": "2019-09-11T11:38:49.304000Z"
    }
   },
   "outputs": [
    {
     "data": {
      "text/plain": [
       "(0, 48)"
      ]
     },
     "execution_count": 447,
     "metadata": {},
     "output_type": "execute_result"
    }
   ],
   "source": [
    "no_perf_set.shape"
   ]
  },
  {
   "cell_type": "code",
   "execution_count": 448,
   "metadata": {
    "ExecuteTime": {
     "end_time": "2019-09-11T11:38:49.324000Z",
     "start_time": "2019-09-11T11:38:49.314000Z"
    }
   },
   "outputs": [
    {
     "data": {
      "text/plain": [
       "(69867, 48)"
      ]
     },
     "execution_count": 448,
     "metadata": {},
     "output_type": "execute_result"
    }
   ],
   "source": [
    "df.shape"
   ]
  },
  {
   "cell_type": "code",
   "execution_count": 449,
   "metadata": {
    "ExecuteTime": {
     "end_time": "2019-09-11T11:38:49.356000Z",
     "start_time": "2019-09-11T11:38:49.326000Z"
    }
   },
   "outputs": [],
   "source": [
    "df = df.loc[~df['performance'].isna(),:]"
   ]
  },
  {
   "cell_type": "code",
   "execution_count": 450,
   "metadata": {
    "ExecuteTime": {
     "end_time": "2019-09-11T11:38:49.366000Z",
     "start_time": "2019-09-11T11:38:49.357000Z"
    }
   },
   "outputs": [
    {
     "data": {
      "text/plain": [
       "(69867, 48)"
      ]
     },
     "execution_count": 450,
     "metadata": {},
     "output_type": "execute_result"
    }
   ],
   "source": [
    "df.shape"
   ]
  },
  {
   "cell_type": "markdown",
   "metadata": {},
   "source": [
    "### train test split"
   ]
  },
  {
   "cell_type": "code",
   "execution_count": 452,
   "metadata": {
    "ExecuteTime": {
     "end_time": "2019-09-11T11:38:49.408000Z",
     "start_time": "2019-09-11T11:38:49.404000Z"
    }
   },
   "outputs": [],
   "source": [
    "from sklearn.model_selection import train_test_split"
   ]
  },
  {
   "cell_type": "code",
   "execution_count": 453,
   "metadata": {
    "ExecuteTime": {
     "end_time": "2019-09-11T11:38:49.449000Z",
     "start_time": "2019-09-11T11:38:49.409000Z"
    }
   },
   "outputs": [],
   "source": [
    "y = df['performance']\n",
    "X = df.drop(columns='performance', axis=1)"
   ]
  },
  {
   "cell_type": "code",
   "execution_count": 454,
   "metadata": {
    "ExecuteTime": {
     "end_time": "2019-09-11T11:38:49.525000Z",
     "start_time": "2019-09-11T11:38:49.455000Z"
    }
   },
   "outputs": [],
   "source": [
    "X_train, X_test, y_train, y_test = train_test_split(X, y, test_size=0.33, random_state=101, stratify=y)"
   ]
  },
  {
   "cell_type": "code",
   "execution_count": 455,
   "metadata": {
    "ExecuteTime": {
     "end_time": "2019-09-11T11:38:49.547000Z",
     "start_time": "2019-09-11T11:38:49.529000Z"
    }
   },
   "outputs": [],
   "source": [
    "# storing the ids separately\n",
    "X_train_ids = X_train.pop('id')\n",
    "X_test_ids = X_test.pop('id')"
   ]
  },
  {
   "cell_type": "markdown",
   "metadata": {},
   "source": [
    "### Logistic Regression model with only demographic data"
   ]
  },
  {
   "cell_type": "code",
   "execution_count": 456,
   "metadata": {
    "ExecuteTime": {
     "end_time": "2019-09-11T11:38:49.559000Z",
     "start_time": "2019-09-11T11:38:49.551000Z"
    }
   },
   "outputs": [
    {
     "data": {
      "text/plain": [
       "Index(['Application ID', 'Age', 'Gender',\n",
       "       'Marital Status (at the time of application)', 'No of dependents',\n",
       "       'Income', 'Education', 'Profession ', 'Type of residence',\n",
       "       'No of months in current residence', 'No of months in current company',\n",
       "       'Performance Tag'],\n",
       "      dtype='object')"
      ]
     },
     "execution_count": 456,
     "metadata": {},
     "output_type": "execute_result"
    }
   ],
   "source": [
    "demo.columns"
   ]
  },
  {
   "cell_type": "code",
   "execution_count": 457,
   "metadata": {
    "ExecuteTime": {
     "end_time": "2019-09-11T11:38:49.572000Z",
     "start_time": "2019-09-11T11:38:49.563000Z"
    }
   },
   "outputs": [
    {
     "data": {
      "text/plain": [
       "Index(['id', 'age', 'gender', 'marital', 'no_of_dependents', 'income',\n",
       "       'education', 'profession', 'residence_type', 'months_curr_residence',\n",
       "       'months_curr_company', '90_dpd_6m', '60_dpd_6m', '30_dpd_6m',\n",
       "       '90_dpd_12m', '60_dpd_12m', '30_dpd_12m', 'cc_util', 'trades_6m',\n",
       "       'trades_12m', 'pl_trades_6m', 'pl_trades_12m', 'inquiries_6m',\n",
       "       'inquiries_12m', 'open_home_loan', 'outstanding_bal', 'total_trades',\n",
       "       'open_auto_loan', 'performance', 'income-bin', 'edu_Bachelor',\n",
       "       'edu_Masters', 'edu_Others', 'edu_Phd', 'edu_Professional', 'prof_SAL',\n",
       "       'prof_SE', 'prof_SE_PROF', 'res_type_Company provided',\n",
       "       'res_type_Living with Parents', 'res_type_Others', 'res_type_Owned',\n",
       "       'res_type_Rented', 'res_type_Company provided',\n",
       "       'res_type_Living with Parents', 'res_type_Others', 'res_type_Owned',\n",
       "       'res_type_Rented'],\n",
       "      dtype='object')"
      ]
     },
     "execution_count": 457,
     "metadata": {},
     "output_type": "execute_result"
    }
   ],
   "source": [
    "df.columns"
   ]
  },
  {
   "cell_type": "code",
   "execution_count": 458,
   "metadata": {
    "ExecuteTime": {
     "end_time": "2019-09-11T11:38:49.585000Z",
     "start_time": "2019-09-11T11:38:49.573000Z"
    }
   },
   "outputs": [],
   "source": [
    "demo_col = ['age', 'gender', 'marital', 'no_of_dependents', 'income-bin',\n",
    "       'edu_Bachelor', 'edu_Masters', 'edu_Others', 'edu_Phd', 'edu_Professional',\n",
    "       'prof_SAL', 'prof_SE', 'prof_SE_PROF',\n",
    "       'res_type_Company provided', 'res_type_Living with Parents', 'res_type_Others', 'res_type_Owned','res_type_Rented',\n",
    "       'months_curr_residence','months_curr_company']"
   ]
  },
  {
   "cell_type": "code",
   "execution_count": 459,
   "metadata": {
    "ExecuteTime": {
     "end_time": "2019-09-11T11:38:49.605000Z",
     "start_time": "2019-09-11T11:38:49.587000Z"
    }
   },
   "outputs": [],
   "source": [
    "from sklearn.preprocessing import StandardScaler\n",
    "from sklearn.linear_model import LogisticRegression\n",
    "from sklearn.model_selection import GridSearchCV\n",
    "from sklearn.pipeline import Pipeline\n",
    "from sklearn.metrics import confusion_matrix, classification_report, accuracy_score"
   ]
  },
  {
   "cell_type": "markdown",
   "metadata": {},
   "source": [
    "#### Without SMOTE and PCA"
   ]
  },
  {
   "cell_type": "code",
   "execution_count": 460,
   "metadata": {
    "ExecuteTime": {
     "end_time": "2019-09-11T11:38:49.625000Z",
     "start_time": "2019-09-11T11:38:49.607000Z"
    }
   },
   "outputs": [],
   "source": [
    "pipe = Pipeline([\n",
    "        ('scale', StandardScaler()),\n",
    "        ('clf', LogisticRegression(class_weight='balanced', solver='liblinear'))])"
   ]
  },
  {
   "cell_type": "code",
   "execution_count": 461,
   "metadata": {
    "ExecuteTime": {
     "end_time": "2019-09-11T11:38:49.646000Z",
     "start_time": "2019-09-11T11:38:49.634000Z"
    }
   },
   "outputs": [],
   "source": [
    "param_grid = dict(clf__penalty=['l1', 'l2'],\n",
    "                  clf__C=[1.0, 0.75, 0.55, 0.45],\n",
    "                  clf__intercept_scaling=[1, 1.25, 1.5])"
   ]
  },
  {
   "cell_type": "code",
   "execution_count": 462,
   "metadata": {
    "ExecuteTime": {
     "end_time": "2019-09-11T11:38:49.657000Z",
     "start_time": "2019-09-11T11:38:49.647000Z"
    }
   },
   "outputs": [],
   "source": [
    "grid = GridSearchCV(pipe,\n",
    "                    param_grid=param_grid,\n",
    "                    cv=5,\n",
    "                    n_jobs=-1,\n",
    "                    verbose=10,\n",
    "                    scoring= 'roc_auc',\n",
    "                    return_train_score=True)"
   ]
  },
  {
   "cell_type": "code",
   "execution_count": 463,
   "metadata": {
    "ExecuteTime": {
     "end_time": "2019-09-11T11:39:48.179000Z",
     "start_time": "2019-09-11T11:38:49.658000Z"
    }
   },
   "outputs": [
    {
     "name": "stdout",
     "output_type": "stream",
     "text": [
      "Fitting 5 folds for each of 24 candidates, totalling 120 fits\n"
     ]
    },
    {
     "name": "stderr",
     "output_type": "stream",
     "text": [
      "[Parallel(n_jobs=-1)]: Using backend LokyBackend with 15 concurrent workers.\n",
      "[Parallel(n_jobs=-1)]: Done   2 tasks      | elapsed:   12.3s\n",
      "[Parallel(n_jobs=-1)]: Done  11 tasks      | elapsed:   20.2s\n",
      "[Parallel(n_jobs=-1)]: Done  20 tasks      | elapsed:   23.0s\n",
      "[Parallel(n_jobs=-1)]: Done  31 tasks      | elapsed:   27.2s\n",
      "[Parallel(n_jobs=-1)]: Done  42 tasks      | elapsed:   32.6s\n",
      "[Parallel(n_jobs=-1)]: Done  55 tasks      | elapsed:   37.2s\n",
      "[Parallel(n_jobs=-1)]: Done  68 tasks      | elapsed:   40.6s\n",
      "[Parallel(n_jobs=-1)]: Done  83 tasks      | elapsed:   45.3s\n",
      "[Parallel(n_jobs=-1)]: Done 104 out of 120 | elapsed:   53.7s remaining:    8.2s\n",
      "[Parallel(n_jobs=-1)]: Done 117 out of 120 | elapsed:   57.3s remaining:    1.4s\n",
      "[Parallel(n_jobs=-1)]: Done 120 out of 120 | elapsed:   57.6s finished\n"
     ]
    },
    {
     "data": {
      "text/plain": [
       "GridSearchCV(cv=5, error_score='raise-deprecating',\n",
       "       estimator=Pipeline(memory=None,\n",
       "     steps=[('scale', StandardScaler(copy=True, with_mean=True, with_std=True)), ('clf', LogisticRegression(C=1.0, class_weight='balanced', dual=False,\n",
       "          fit_intercept=True, intercept_scaling=1, max_iter=100,\n",
       "          multi_class='warn', n_jobs=None, penalty='l2', random_state=None,\n",
       "          solver='liblinear', tol=0.0001, verbose=0, warm_start=False))]),\n",
       "       fit_params=None, iid='warn', n_jobs=-1,\n",
       "       param_grid={'clf__penalty': ['l1', 'l2'], 'clf__C': [1.0, 0.75, 0.55, 0.45], 'clf__intercept_scaling': [1, 1.25, 1.5]},\n",
       "       pre_dispatch='2*n_jobs', refit=True, return_train_score=True,\n",
       "       scoring='roc_auc', verbose=10)"
      ]
     },
     "execution_count": 463,
     "metadata": {},
     "output_type": "execute_result"
    }
   ],
   "source": [
    "grid.fit(X_train[demo_col], y_train)"
   ]
  },
  {
   "cell_type": "code",
   "execution_count": 464,
   "metadata": {
    "ExecuteTime": {
     "end_time": "2019-09-11T11:39:48.273000Z",
     "start_time": "2019-09-11T11:39:48.183000Z"
    }
   },
   "outputs": [
    {
     "name": "stdout",
     "output_type": "stream",
     "text": [
      "0.5641289798624195\n"
     ]
    },
    {
     "data": {
      "text/html": [
       "<div>\n",
       "<style scoped>\n",
       "    .dataframe tbody tr th:only-of-type {\n",
       "        vertical-align: middle;\n",
       "    }\n",
       "\n",
       "    .dataframe tbody tr th {\n",
       "        vertical-align: top;\n",
       "    }\n",
       "\n",
       "    .dataframe thead th {\n",
       "        text-align: right;\n",
       "    }\n",
       "</style>\n",
       "<table border=\"1\" class=\"dataframe\">\n",
       "  <thead>\n",
       "    <tr style=\"text-align: right;\">\n",
       "      <th></th>\n",
       "      <th>0</th>\n",
       "      <th>1</th>\n",
       "      <th>2</th>\n",
       "      <th>3</th>\n",
       "      <th>4</th>\n",
       "      <th>5</th>\n",
       "      <th>6</th>\n",
       "      <th>7</th>\n",
       "      <th>8</th>\n",
       "      <th>9</th>\n",
       "      <th>...</th>\n",
       "      <th>14</th>\n",
       "      <th>15</th>\n",
       "      <th>16</th>\n",
       "      <th>17</th>\n",
       "      <th>18</th>\n",
       "      <th>19</th>\n",
       "      <th>20</th>\n",
       "      <th>21</th>\n",
       "      <th>22</th>\n",
       "      <th>23</th>\n",
       "    </tr>\n",
       "  </thead>\n",
       "  <tbody>\n",
       "    <tr>\n",
       "      <th>mean_fit_time</th>\n",
       "      <td>10.0576</td>\n",
       "      <td>0.9958</td>\n",
       "      <td>15.5746</td>\n",
       "      <td>0.889</td>\n",
       "      <td>7.3294</td>\n",
       "      <td>1.2022</td>\n",
       "      <td>13.5862</td>\n",
       "      <td>1.3806</td>\n",
       "      <td>7.9948</td>\n",
       "      <td>1.31</td>\n",
       "      <td>...</td>\n",
       "      <td>5.9226</td>\n",
       "      <td>1.3628</td>\n",
       "      <td>7.548</td>\n",
       "      <td>1.34</td>\n",
       "      <td>7.0124</td>\n",
       "      <td>1.333</td>\n",
       "      <td>5.3178</td>\n",
       "      <td>1.4</td>\n",
       "      <td>4.2234</td>\n",
       "      <td>1.3444</td>\n",
       "    </tr>\n",
       "    <tr>\n",
       "      <th>std_fit_time</th>\n",
       "      <td>2.98655</td>\n",
       "      <td>0.355394</td>\n",
       "      <td>11.5793</td>\n",
       "      <td>0.198139</td>\n",
       "      <td>2.10313</td>\n",
       "      <td>0.0736679</td>\n",
       "      <td>7.9984</td>\n",
       "      <td>0.124667</td>\n",
       "      <td>2.59924</td>\n",
       "      <td>0.126979</td>\n",
       "      <td>...</td>\n",
       "      <td>3.69149</td>\n",
       "      <td>0.130446</td>\n",
       "      <td>5.24058</td>\n",
       "      <td>0.163626</td>\n",
       "      <td>3.54411</td>\n",
       "      <td>0.108246</td>\n",
       "      <td>2.03892</td>\n",
       "      <td>0.0984418</td>\n",
       "      <td>0.698067</td>\n",
       "      <td>0.143362</td>\n",
       "    </tr>\n",
       "    <tr>\n",
       "      <th>mean_score_time</th>\n",
       "      <td>0.0946</td>\n",
       "      <td>0.0398001</td>\n",
       "      <td>0.0614001</td>\n",
       "      <td>0.036</td>\n",
       "      <td>0.0106001</td>\n",
       "      <td>0.0616</td>\n",
       "      <td>0.0558001</td>\n",
       "      <td>0.00860009</td>\n",
       "      <td>0.0636001</td>\n",
       "      <td>0.00879993</td>\n",
       "      <td>...</td>\n",
       "      <td>0.00880003</td>\n",
       "      <td>0.00880008</td>\n",
       "      <td>0.00879993</td>\n",
       "      <td>0.104</td>\n",
       "      <td>0.00920005</td>\n",
       "      <td>0.099</td>\n",
       "      <td>0.0450001</td>\n",
       "      <td>0.104</td>\n",
       "      <td>0.0482002</td>\n",
       "      <td>0.0538</td>\n",
       "    </tr>\n",
       "    <tr>\n",
       "      <th>std_score_time</th>\n",
       "      <td>0.104641</td>\n",
       "      <td>0.053957</td>\n",
       "      <td>0.1048</td>\n",
       "      <td>0.0440091</td>\n",
       "      <td>0.00372023</td>\n",
       "      <td>0.103212</td>\n",
       "      <td>0.0941007</td>\n",
       "      <td>0.000490057</td>\n",
       "      <td>0.0893657</td>\n",
       "      <td>0.000748366</td>\n",
       "      <td>...</td>\n",
       "      <td>0.000399947</td>\n",
       "      <td>0.000399971</td>\n",
       "      <td>0.000399899</td>\n",
       "      <td>0.117376</td>\n",
       "      <td>0.00193905</td>\n",
       "      <td>0.112305</td>\n",
       "      <td>0.072</td>\n",
       "      <td>0.116631</td>\n",
       "      <td>0.0774038</td>\n",
       "      <td>0.0901007</td>\n",
       "    </tr>\n",
       "    <tr>\n",
       "      <th>param_clf__C</th>\n",
       "      <td>1</td>\n",
       "      <td>1</td>\n",
       "      <td>1</td>\n",
       "      <td>1</td>\n",
       "      <td>1</td>\n",
       "      <td>1</td>\n",
       "      <td>0.75</td>\n",
       "      <td>0.75</td>\n",
       "      <td>0.75</td>\n",
       "      <td>0.75</td>\n",
       "      <td>...</td>\n",
       "      <td>0.55</td>\n",
       "      <td>0.55</td>\n",
       "      <td>0.55</td>\n",
       "      <td>0.55</td>\n",
       "      <td>0.45</td>\n",
       "      <td>0.45</td>\n",
       "      <td>0.45</td>\n",
       "      <td>0.45</td>\n",
       "      <td>0.45</td>\n",
       "      <td>0.45</td>\n",
       "    </tr>\n",
       "    <tr>\n",
       "      <th>param_clf__intercept_scaling</th>\n",
       "      <td>1</td>\n",
       "      <td>1</td>\n",
       "      <td>1.25</td>\n",
       "      <td>1.25</td>\n",
       "      <td>1.5</td>\n",
       "      <td>1.5</td>\n",
       "      <td>1</td>\n",
       "      <td>1</td>\n",
       "      <td>1.25</td>\n",
       "      <td>1.25</td>\n",
       "      <td>...</td>\n",
       "      <td>1.25</td>\n",
       "      <td>1.25</td>\n",
       "      <td>1.5</td>\n",
       "      <td>1.5</td>\n",
       "      <td>1</td>\n",
       "      <td>1</td>\n",
       "      <td>1.25</td>\n",
       "      <td>1.25</td>\n",
       "      <td>1.5</td>\n",
       "      <td>1.5</td>\n",
       "    </tr>\n",
       "    <tr>\n",
       "      <th>param_clf__penalty</th>\n",
       "      <td>l1</td>\n",
       "      <td>l2</td>\n",
       "      <td>l1</td>\n",
       "      <td>l2</td>\n",
       "      <td>l1</td>\n",
       "      <td>l2</td>\n",
       "      <td>l1</td>\n",
       "      <td>l2</td>\n",
       "      <td>l1</td>\n",
       "      <td>l2</td>\n",
       "      <td>...</td>\n",
       "      <td>l1</td>\n",
       "      <td>l2</td>\n",
       "      <td>l1</td>\n",
       "      <td>l2</td>\n",
       "      <td>l1</td>\n",
       "      <td>l2</td>\n",
       "      <td>l1</td>\n",
       "      <td>l2</td>\n",
       "      <td>l1</td>\n",
       "      <td>l2</td>\n",
       "    </tr>\n",
       "    <tr>\n",
       "      <th>params</th>\n",
       "      <td>{'clf__C': 1.0, 'clf__intercept_scaling': 1, '...</td>\n",
       "      <td>{'clf__C': 1.0, 'clf__intercept_scaling': 1, '...</td>\n",
       "      <td>{'clf__C': 1.0, 'clf__intercept_scaling': 1.25...</td>\n",
       "      <td>{'clf__C': 1.0, 'clf__intercept_scaling': 1.25...</td>\n",
       "      <td>{'clf__C': 1.0, 'clf__intercept_scaling': 1.5,...</td>\n",
       "      <td>{'clf__C': 1.0, 'clf__intercept_scaling': 1.5,...</td>\n",
       "      <td>{'clf__C': 0.75, 'clf__intercept_scaling': 1, ...</td>\n",
       "      <td>{'clf__C': 0.75, 'clf__intercept_scaling': 1, ...</td>\n",
       "      <td>{'clf__C': 0.75, 'clf__intercept_scaling': 1.2...</td>\n",
       "      <td>{'clf__C': 0.75, 'clf__intercept_scaling': 1.2...</td>\n",
       "      <td>...</td>\n",
       "      <td>{'clf__C': 0.55, 'clf__intercept_scaling': 1.2...</td>\n",
       "      <td>{'clf__C': 0.55, 'clf__intercept_scaling': 1.2...</td>\n",
       "      <td>{'clf__C': 0.55, 'clf__intercept_scaling': 1.5...</td>\n",
       "      <td>{'clf__C': 0.55, 'clf__intercept_scaling': 1.5...</td>\n",
       "      <td>{'clf__C': 0.45, 'clf__intercept_scaling': 1, ...</td>\n",
       "      <td>{'clf__C': 0.45, 'clf__intercept_scaling': 1, ...</td>\n",
       "      <td>{'clf__C': 0.45, 'clf__intercept_scaling': 1.2...</td>\n",
       "      <td>{'clf__C': 0.45, 'clf__intercept_scaling': 1.2...</td>\n",
       "      <td>{'clf__C': 0.45, 'clf__intercept_scaling': 1.5...</td>\n",
       "      <td>{'clf__C': 0.45, 'clf__intercept_scaling': 1.5...</td>\n",
       "    </tr>\n",
       "    <tr>\n",
       "      <th>split0_test_score</th>\n",
       "      <td>0.561217</td>\n",
       "      <td>0.56124</td>\n",
       "      <td>0.561218</td>\n",
       "      <td>0.56124</td>\n",
       "      <td>0.561218</td>\n",
       "      <td>0.56124</td>\n",
       "      <td>0.561215</td>\n",
       "      <td>0.561239</td>\n",
       "      <td>0.561216</td>\n",
       "      <td>0.561239</td>\n",
       "      <td>...</td>\n",
       "      <td>0.561214</td>\n",
       "      <td>0.56124</td>\n",
       "      <td>0.561213</td>\n",
       "      <td>0.56124</td>\n",
       "      <td>0.561227</td>\n",
       "      <td>0.56124</td>\n",
       "      <td>0.561227</td>\n",
       "      <td>0.56124</td>\n",
       "      <td>0.561227</td>\n",
       "      <td>0.56124</td>\n",
       "    </tr>\n",
       "    <tr>\n",
       "      <th>split1_test_score</th>\n",
       "      <td>0.55928</td>\n",
       "      <td>0.559256</td>\n",
       "      <td>0.559281</td>\n",
       "      <td>0.559257</td>\n",
       "      <td>0.55928</td>\n",
       "      <td>0.559256</td>\n",
       "      <td>0.559276</td>\n",
       "      <td>0.559256</td>\n",
       "      <td>0.559276</td>\n",
       "      <td>0.559257</td>\n",
       "      <td>...</td>\n",
       "      <td>0.559285</td>\n",
       "      <td>0.559258</td>\n",
       "      <td>0.559285</td>\n",
       "      <td>0.559258</td>\n",
       "      <td>0.55928</td>\n",
       "      <td>0.559258</td>\n",
       "      <td>0.559281</td>\n",
       "      <td>0.559258</td>\n",
       "      <td>0.55928</td>\n",
       "      <td>0.559258</td>\n",
       "    </tr>\n",
       "    <tr>\n",
       "      <th>split2_test_score</th>\n",
       "      <td>0.551516</td>\n",
       "      <td>0.55153</td>\n",
       "      <td>0.551516</td>\n",
       "      <td>0.55153</td>\n",
       "      <td>0.551516</td>\n",
       "      <td>0.55153</td>\n",
       "      <td>0.551519</td>\n",
       "      <td>0.551531</td>\n",
       "      <td>0.551518</td>\n",
       "      <td>0.551531</td>\n",
       "      <td>...</td>\n",
       "      <td>0.551519</td>\n",
       "      <td>0.551532</td>\n",
       "      <td>0.551519</td>\n",
       "      <td>0.551532</td>\n",
       "      <td>0.551518</td>\n",
       "      <td>0.551531</td>\n",
       "      <td>0.551518</td>\n",
       "      <td>0.551531</td>\n",
       "      <td>0.551519</td>\n",
       "      <td>0.551531</td>\n",
       "    </tr>\n",
       "    <tr>\n",
       "      <th>split3_test_score</th>\n",
       "      <td>0.570173</td>\n",
       "      <td>0.570162</td>\n",
       "      <td>0.570173</td>\n",
       "      <td>0.570162</td>\n",
       "      <td>0.570173</td>\n",
       "      <td>0.570162</td>\n",
       "      <td>0.570181</td>\n",
       "      <td>0.570162</td>\n",
       "      <td>0.570181</td>\n",
       "      <td>0.570162</td>\n",
       "      <td>...</td>\n",
       "      <td>0.570188</td>\n",
       "      <td>0.570162</td>\n",
       "      <td>0.570188</td>\n",
       "      <td>0.570162</td>\n",
       "      <td>0.5702</td>\n",
       "      <td>0.570163</td>\n",
       "      <td>0.570199</td>\n",
       "      <td>0.570163</td>\n",
       "      <td>0.5702</td>\n",
       "      <td>0.570164</td>\n",
       "    </tr>\n",
       "    <tr>\n",
       "      <th>split4_test_score</th>\n",
       "      <td>0.578367</td>\n",
       "      <td>0.578316</td>\n",
       "      <td>0.578368</td>\n",
       "      <td>0.578316</td>\n",
       "      <td>0.578365</td>\n",
       "      <td>0.578316</td>\n",
       "      <td>0.578374</td>\n",
       "      <td>0.578316</td>\n",
       "      <td>0.578375</td>\n",
       "      <td>0.578316</td>\n",
       "      <td>...</td>\n",
       "      <td>0.578403</td>\n",
       "      <td>0.578315</td>\n",
       "      <td>0.578402</td>\n",
       "      <td>0.578315</td>\n",
       "      <td>0.578421</td>\n",
       "      <td>0.578315</td>\n",
       "      <td>0.578421</td>\n",
       "      <td>0.578315</td>\n",
       "      <td>0.578421</td>\n",
       "      <td>0.578315</td>\n",
       "    </tr>\n",
       "    <tr>\n",
       "      <th>mean_test_score</th>\n",
       "      <td>0.56411</td>\n",
       "      <td>0.564101</td>\n",
       "      <td>0.564111</td>\n",
       "      <td>0.564101</td>\n",
       "      <td>0.56411</td>\n",
       "      <td>0.564101</td>\n",
       "      <td>0.564113</td>\n",
       "      <td>0.564101</td>\n",
       "      <td>0.564113</td>\n",
       "      <td>0.564101</td>\n",
       "      <td>...</td>\n",
       "      <td>0.564121</td>\n",
       "      <td>0.564101</td>\n",
       "      <td>0.564121</td>\n",
       "      <td>0.564101</td>\n",
       "      <td>0.564129</td>\n",
       "      <td>0.564101</td>\n",
       "      <td>0.564129</td>\n",
       "      <td>0.564101</td>\n",
       "      <td>0.564129</td>\n",
       "      <td>0.564101</td>\n",
       "    </tr>\n",
       "    <tr>\n",
       "      <th>std_test_score</th>\n",
       "      <td>0.00927697</td>\n",
       "      <td>0.00925726</td>\n",
       "      <td>0.00927693</td>\n",
       "      <td>0.00925708</td>\n",
       "      <td>0.00927637</td>\n",
       "      <td>0.00925709</td>\n",
       "      <td>0.00927999</td>\n",
       "      <td>0.0092567</td>\n",
       "      <td>0.00928017</td>\n",
       "      <td>0.00925664</td>\n",
       "      <td>...</td>\n",
       "      <td>0.0092887</td>\n",
       "      <td>0.00925611</td>\n",
       "      <td>0.00928855</td>\n",
       "      <td>0.00925618</td>\n",
       "      <td>0.00929569</td>\n",
       "      <td>0.00925651</td>\n",
       "      <td>0.00929556</td>\n",
       "      <td>0.00925661</td>\n",
       "      <td>0.00929564</td>\n",
       "      <td>0.00925665</td>\n",
       "    </tr>\n",
       "    <tr>\n",
       "      <th>rank_test_score</th>\n",
       "      <td>11</td>\n",
       "      <td>23</td>\n",
       "      <td>10</td>\n",
       "      <td>19</td>\n",
       "      <td>12</td>\n",
       "      <td>20</td>\n",
       "      <td>8</td>\n",
       "      <td>24</td>\n",
       "      <td>7</td>\n",
       "      <td>22</td>\n",
       "      <td>...</td>\n",
       "      <td>4</td>\n",
       "      <td>14</td>\n",
       "      <td>6</td>\n",
       "      <td>17</td>\n",
       "      <td>3</td>\n",
       "      <td>15</td>\n",
       "      <td>2</td>\n",
       "      <td>18</td>\n",
       "      <td>1</td>\n",
       "      <td>15</td>\n",
       "    </tr>\n",
       "    <tr>\n",
       "      <th>split0_train_score</th>\n",
       "      <td>0.573476</td>\n",
       "      <td>0.573473</td>\n",
       "      <td>0.573476</td>\n",
       "      <td>0.573473</td>\n",
       "      <td>0.573476</td>\n",
       "      <td>0.573473</td>\n",
       "      <td>0.573477</td>\n",
       "      <td>0.573473</td>\n",
       "      <td>0.573477</td>\n",
       "      <td>0.573473</td>\n",
       "      <td>...</td>\n",
       "      <td>0.573478</td>\n",
       "      <td>0.573473</td>\n",
       "      <td>0.573478</td>\n",
       "      <td>0.573473</td>\n",
       "      <td>0.573477</td>\n",
       "      <td>0.573473</td>\n",
       "      <td>0.573477</td>\n",
       "      <td>0.573473</td>\n",
       "      <td>0.573477</td>\n",
       "      <td>0.573473</td>\n",
       "    </tr>\n",
       "    <tr>\n",
       "      <th>split1_train_score</th>\n",
       "      <td>0.574466</td>\n",
       "      <td>0.574467</td>\n",
       "      <td>0.574466</td>\n",
       "      <td>0.574467</td>\n",
       "      <td>0.574466</td>\n",
       "      <td>0.574467</td>\n",
       "      <td>0.574463</td>\n",
       "      <td>0.574467</td>\n",
       "      <td>0.574463</td>\n",
       "      <td>0.574467</td>\n",
       "      <td>...</td>\n",
       "      <td>0.574458</td>\n",
       "      <td>0.574467</td>\n",
       "      <td>0.574458</td>\n",
       "      <td>0.574467</td>\n",
       "      <td>0.574456</td>\n",
       "      <td>0.574467</td>\n",
       "      <td>0.574456</td>\n",
       "      <td>0.574467</td>\n",
       "      <td>0.574456</td>\n",
       "      <td>0.574467</td>\n",
       "    </tr>\n",
       "    <tr>\n",
       "      <th>split2_train_score</th>\n",
       "      <td>0.578121</td>\n",
       "      <td>0.578121</td>\n",
       "      <td>0.578121</td>\n",
       "      <td>0.578121</td>\n",
       "      <td>0.578121</td>\n",
       "      <td>0.578121</td>\n",
       "      <td>0.578119</td>\n",
       "      <td>0.578121</td>\n",
       "      <td>0.578118</td>\n",
       "      <td>0.578121</td>\n",
       "      <td>...</td>\n",
       "      <td>0.578117</td>\n",
       "      <td>0.57812</td>\n",
       "      <td>0.578117</td>\n",
       "      <td>0.57812</td>\n",
       "      <td>0.578115</td>\n",
       "      <td>0.57812</td>\n",
       "      <td>0.578115</td>\n",
       "      <td>0.57812</td>\n",
       "      <td>0.578116</td>\n",
       "      <td>0.57812</td>\n",
       "    </tr>\n",
       "    <tr>\n",
       "      <th>split3_train_score</th>\n",
       "      <td>0.573503</td>\n",
       "      <td>0.573513</td>\n",
       "      <td>0.573504</td>\n",
       "      <td>0.573513</td>\n",
       "      <td>0.573503</td>\n",
       "      <td>0.573513</td>\n",
       "      <td>0.5735</td>\n",
       "      <td>0.573513</td>\n",
       "      <td>0.5735</td>\n",
       "      <td>0.573513</td>\n",
       "      <td>...</td>\n",
       "      <td>0.573494</td>\n",
       "      <td>0.573513</td>\n",
       "      <td>0.573493</td>\n",
       "      <td>0.573513</td>\n",
       "      <td>0.573489</td>\n",
       "      <td>0.573513</td>\n",
       "      <td>0.573489</td>\n",
       "      <td>0.573513</td>\n",
       "      <td>0.573489</td>\n",
       "      <td>0.573513</td>\n",
       "    </tr>\n",
       "    <tr>\n",
       "      <th>split4_train_score</th>\n",
       "      <td>0.569366</td>\n",
       "      <td>0.569362</td>\n",
       "      <td>0.569366</td>\n",
       "      <td>0.569362</td>\n",
       "      <td>0.569367</td>\n",
       "      <td>0.569362</td>\n",
       "      <td>0.569369</td>\n",
       "      <td>0.569362</td>\n",
       "      <td>0.569369</td>\n",
       "      <td>0.569362</td>\n",
       "      <td>...</td>\n",
       "      <td>0.569369</td>\n",
       "      <td>0.569362</td>\n",
       "      <td>0.569369</td>\n",
       "      <td>0.569362</td>\n",
       "      <td>0.569371</td>\n",
       "      <td>0.569362</td>\n",
       "      <td>0.569371</td>\n",
       "      <td>0.569362</td>\n",
       "      <td>0.569371</td>\n",
       "      <td>0.569362</td>\n",
       "    </tr>\n",
       "    <tr>\n",
       "      <th>mean_train_score</th>\n",
       "      <td>0.573787</td>\n",
       "      <td>0.573787</td>\n",
       "      <td>0.573787</td>\n",
       "      <td>0.573787</td>\n",
       "      <td>0.573787</td>\n",
       "      <td>0.573787</td>\n",
       "      <td>0.573785</td>\n",
       "      <td>0.573787</td>\n",
       "      <td>0.573785</td>\n",
       "      <td>0.573787</td>\n",
       "      <td>...</td>\n",
       "      <td>0.573783</td>\n",
       "      <td>0.573787</td>\n",
       "      <td>0.573783</td>\n",
       "      <td>0.573787</td>\n",
       "      <td>0.573782</td>\n",
       "      <td>0.573787</td>\n",
       "      <td>0.573782</td>\n",
       "      <td>0.573787</td>\n",
       "      <td>0.573782</td>\n",
       "      <td>0.573787</td>\n",
       "    </tr>\n",
       "    <tr>\n",
       "      <th>std_train_score</th>\n",
       "      <td>0.0027916</td>\n",
       "      <td>0.00279286</td>\n",
       "      <td>0.00279172</td>\n",
       "      <td>0.00279285</td>\n",
       "      <td>0.00279153</td>\n",
       "      <td>0.00279284</td>\n",
       "      <td>0.00278989</td>\n",
       "      <td>0.00279281</td>\n",
       "      <td>0.00278992</td>\n",
       "      <td>0.00279277</td>\n",
       "      <td>...</td>\n",
       "      <td>0.00278925</td>\n",
       "      <td>0.00279252</td>\n",
       "      <td>0.00278926</td>\n",
       "      <td>0.00279255</td>\n",
       "      <td>0.00278815</td>\n",
       "      <td>0.00279246</td>\n",
       "      <td>0.00278808</td>\n",
       "      <td>0.00279243</td>\n",
       "      <td>0.00278831</td>\n",
       "      <td>0.00279242</td>\n",
       "    </tr>\n",
       "  </tbody>\n",
       "</table>\n",
       "<p>23 rows × 24 columns</p>\n",
       "</div>"
      ],
      "text/plain": [
       "                                                                             0   \\\n",
       "mean_fit_time                                                           10.0576   \n",
       "std_fit_time                                                            2.98655   \n",
       "mean_score_time                                                          0.0946   \n",
       "std_score_time                                                         0.104641   \n",
       "param_clf__C                                                                  1   \n",
       "param_clf__intercept_scaling                                                  1   \n",
       "param_clf__penalty                                                           l1   \n",
       "params                        {'clf__C': 1.0, 'clf__intercept_scaling': 1, '...   \n",
       "split0_test_score                                                      0.561217   \n",
       "split1_test_score                                                       0.55928   \n",
       "split2_test_score                                                      0.551516   \n",
       "split3_test_score                                                      0.570173   \n",
       "split4_test_score                                                      0.578367   \n",
       "mean_test_score                                                         0.56411   \n",
       "std_test_score                                                       0.00927697   \n",
       "rank_test_score                                                              11   \n",
       "split0_train_score                                                     0.573476   \n",
       "split1_train_score                                                     0.574466   \n",
       "split2_train_score                                                     0.578121   \n",
       "split3_train_score                                                     0.573503   \n",
       "split4_train_score                                                     0.569366   \n",
       "mean_train_score                                                       0.573787   \n",
       "std_train_score                                                       0.0027916   \n",
       "\n",
       "                                                                             1   \\\n",
       "mean_fit_time                                                            0.9958   \n",
       "std_fit_time                                                           0.355394   \n",
       "mean_score_time                                                       0.0398001   \n",
       "std_score_time                                                         0.053957   \n",
       "param_clf__C                                                                  1   \n",
       "param_clf__intercept_scaling                                                  1   \n",
       "param_clf__penalty                                                           l2   \n",
       "params                        {'clf__C': 1.0, 'clf__intercept_scaling': 1, '...   \n",
       "split0_test_score                                                       0.56124   \n",
       "split1_test_score                                                      0.559256   \n",
       "split2_test_score                                                       0.55153   \n",
       "split3_test_score                                                      0.570162   \n",
       "split4_test_score                                                      0.578316   \n",
       "mean_test_score                                                        0.564101   \n",
       "std_test_score                                                       0.00925726   \n",
       "rank_test_score                                                              23   \n",
       "split0_train_score                                                     0.573473   \n",
       "split1_train_score                                                     0.574467   \n",
       "split2_train_score                                                     0.578121   \n",
       "split3_train_score                                                     0.573513   \n",
       "split4_train_score                                                     0.569362   \n",
       "mean_train_score                                                       0.573787   \n",
       "std_train_score                                                      0.00279286   \n",
       "\n",
       "                                                                             2   \\\n",
       "mean_fit_time                                                           15.5746   \n",
       "std_fit_time                                                            11.5793   \n",
       "mean_score_time                                                       0.0614001   \n",
       "std_score_time                                                           0.1048   \n",
       "param_clf__C                                                                  1   \n",
       "param_clf__intercept_scaling                                               1.25   \n",
       "param_clf__penalty                                                           l1   \n",
       "params                        {'clf__C': 1.0, 'clf__intercept_scaling': 1.25...   \n",
       "split0_test_score                                                      0.561218   \n",
       "split1_test_score                                                      0.559281   \n",
       "split2_test_score                                                      0.551516   \n",
       "split3_test_score                                                      0.570173   \n",
       "split4_test_score                                                      0.578368   \n",
       "mean_test_score                                                        0.564111   \n",
       "std_test_score                                                       0.00927693   \n",
       "rank_test_score                                                              10   \n",
       "split0_train_score                                                     0.573476   \n",
       "split1_train_score                                                     0.574466   \n",
       "split2_train_score                                                     0.578121   \n",
       "split3_train_score                                                     0.573504   \n",
       "split4_train_score                                                     0.569366   \n",
       "mean_train_score                                                       0.573787   \n",
       "std_train_score                                                      0.00279172   \n",
       "\n",
       "                                                                             3   \\\n",
       "mean_fit_time                                                             0.889   \n",
       "std_fit_time                                                           0.198139   \n",
       "mean_score_time                                                           0.036   \n",
       "std_score_time                                                        0.0440091   \n",
       "param_clf__C                                                                  1   \n",
       "param_clf__intercept_scaling                                               1.25   \n",
       "param_clf__penalty                                                           l2   \n",
       "params                        {'clf__C': 1.0, 'clf__intercept_scaling': 1.25...   \n",
       "split0_test_score                                                       0.56124   \n",
       "split1_test_score                                                      0.559257   \n",
       "split2_test_score                                                       0.55153   \n",
       "split3_test_score                                                      0.570162   \n",
       "split4_test_score                                                      0.578316   \n",
       "mean_test_score                                                        0.564101   \n",
       "std_test_score                                                       0.00925708   \n",
       "rank_test_score                                                              19   \n",
       "split0_train_score                                                     0.573473   \n",
       "split1_train_score                                                     0.574467   \n",
       "split2_train_score                                                     0.578121   \n",
       "split3_train_score                                                     0.573513   \n",
       "split4_train_score                                                     0.569362   \n",
       "mean_train_score                                                       0.573787   \n",
       "std_train_score                                                      0.00279285   \n",
       "\n",
       "                                                                             4   \\\n",
       "mean_fit_time                                                            7.3294   \n",
       "std_fit_time                                                            2.10313   \n",
       "mean_score_time                                                       0.0106001   \n",
       "std_score_time                                                       0.00372023   \n",
       "param_clf__C                                                                  1   \n",
       "param_clf__intercept_scaling                                                1.5   \n",
       "param_clf__penalty                                                           l1   \n",
       "params                        {'clf__C': 1.0, 'clf__intercept_scaling': 1.5,...   \n",
       "split0_test_score                                                      0.561218   \n",
       "split1_test_score                                                       0.55928   \n",
       "split2_test_score                                                      0.551516   \n",
       "split3_test_score                                                      0.570173   \n",
       "split4_test_score                                                      0.578365   \n",
       "mean_test_score                                                         0.56411   \n",
       "std_test_score                                                       0.00927637   \n",
       "rank_test_score                                                              12   \n",
       "split0_train_score                                                     0.573476   \n",
       "split1_train_score                                                     0.574466   \n",
       "split2_train_score                                                     0.578121   \n",
       "split3_train_score                                                     0.573503   \n",
       "split4_train_score                                                     0.569367   \n",
       "mean_train_score                                                       0.573787   \n",
       "std_train_score                                                      0.00279153   \n",
       "\n",
       "                                                                             5   \\\n",
       "mean_fit_time                                                            1.2022   \n",
       "std_fit_time                                                          0.0736679   \n",
       "mean_score_time                                                          0.0616   \n",
       "std_score_time                                                         0.103212   \n",
       "param_clf__C                                                                  1   \n",
       "param_clf__intercept_scaling                                                1.5   \n",
       "param_clf__penalty                                                           l2   \n",
       "params                        {'clf__C': 1.0, 'clf__intercept_scaling': 1.5,...   \n",
       "split0_test_score                                                       0.56124   \n",
       "split1_test_score                                                      0.559256   \n",
       "split2_test_score                                                       0.55153   \n",
       "split3_test_score                                                      0.570162   \n",
       "split4_test_score                                                      0.578316   \n",
       "mean_test_score                                                        0.564101   \n",
       "std_test_score                                                       0.00925709   \n",
       "rank_test_score                                                              20   \n",
       "split0_train_score                                                     0.573473   \n",
       "split1_train_score                                                     0.574467   \n",
       "split2_train_score                                                     0.578121   \n",
       "split3_train_score                                                     0.573513   \n",
       "split4_train_score                                                     0.569362   \n",
       "mean_train_score                                                       0.573787   \n",
       "std_train_score                                                      0.00279284   \n",
       "\n",
       "                                                                             6   \\\n",
       "mean_fit_time                                                           13.5862   \n",
       "std_fit_time                                                             7.9984   \n",
       "mean_score_time                                                       0.0558001   \n",
       "std_score_time                                                        0.0941007   \n",
       "param_clf__C                                                               0.75   \n",
       "param_clf__intercept_scaling                                                  1   \n",
       "param_clf__penalty                                                           l1   \n",
       "params                        {'clf__C': 0.75, 'clf__intercept_scaling': 1, ...   \n",
       "split0_test_score                                                      0.561215   \n",
       "split1_test_score                                                      0.559276   \n",
       "split2_test_score                                                      0.551519   \n",
       "split3_test_score                                                      0.570181   \n",
       "split4_test_score                                                      0.578374   \n",
       "mean_test_score                                                        0.564113   \n",
       "std_test_score                                                       0.00927999   \n",
       "rank_test_score                                                               8   \n",
       "split0_train_score                                                     0.573477   \n",
       "split1_train_score                                                     0.574463   \n",
       "split2_train_score                                                     0.578119   \n",
       "split3_train_score                                                       0.5735   \n",
       "split4_train_score                                                     0.569369   \n",
       "mean_train_score                                                       0.573785   \n",
       "std_train_score                                                      0.00278989   \n",
       "\n",
       "                                                                             7   \\\n",
       "mean_fit_time                                                            1.3806   \n",
       "std_fit_time                                                           0.124667   \n",
       "mean_score_time                                                      0.00860009   \n",
       "std_score_time                                                      0.000490057   \n",
       "param_clf__C                                                               0.75   \n",
       "param_clf__intercept_scaling                                                  1   \n",
       "param_clf__penalty                                                           l2   \n",
       "params                        {'clf__C': 0.75, 'clf__intercept_scaling': 1, ...   \n",
       "split0_test_score                                                      0.561239   \n",
       "split1_test_score                                                      0.559256   \n",
       "split2_test_score                                                      0.551531   \n",
       "split3_test_score                                                      0.570162   \n",
       "split4_test_score                                                      0.578316   \n",
       "mean_test_score                                                        0.564101   \n",
       "std_test_score                                                        0.0092567   \n",
       "rank_test_score                                                              24   \n",
       "split0_train_score                                                     0.573473   \n",
       "split1_train_score                                                     0.574467   \n",
       "split2_train_score                                                     0.578121   \n",
       "split3_train_score                                                     0.573513   \n",
       "split4_train_score                                                     0.569362   \n",
       "mean_train_score                                                       0.573787   \n",
       "std_train_score                                                      0.00279281   \n",
       "\n",
       "                                                                             8   \\\n",
       "mean_fit_time                                                            7.9948   \n",
       "std_fit_time                                                            2.59924   \n",
       "mean_score_time                                                       0.0636001   \n",
       "std_score_time                                                        0.0893657   \n",
       "param_clf__C                                                               0.75   \n",
       "param_clf__intercept_scaling                                               1.25   \n",
       "param_clf__penalty                                                           l1   \n",
       "params                        {'clf__C': 0.75, 'clf__intercept_scaling': 1.2...   \n",
       "split0_test_score                                                      0.561216   \n",
       "split1_test_score                                                      0.559276   \n",
       "split2_test_score                                                      0.551518   \n",
       "split3_test_score                                                      0.570181   \n",
       "split4_test_score                                                      0.578375   \n",
       "mean_test_score                                                        0.564113   \n",
       "std_test_score                                                       0.00928017   \n",
       "rank_test_score                                                               7   \n",
       "split0_train_score                                                     0.573477   \n",
       "split1_train_score                                                     0.574463   \n",
       "split2_train_score                                                     0.578118   \n",
       "split3_train_score                                                       0.5735   \n",
       "split4_train_score                                                     0.569369   \n",
       "mean_train_score                                                       0.573785   \n",
       "std_train_score                                                      0.00278992   \n",
       "\n",
       "                                                                             9   \\\n",
       "mean_fit_time                                                              1.31   \n",
       "std_fit_time                                                           0.126979   \n",
       "mean_score_time                                                      0.00879993   \n",
       "std_score_time                                                      0.000748366   \n",
       "param_clf__C                                                               0.75   \n",
       "param_clf__intercept_scaling                                               1.25   \n",
       "param_clf__penalty                                                           l2   \n",
       "params                        {'clf__C': 0.75, 'clf__intercept_scaling': 1.2...   \n",
       "split0_test_score                                                      0.561239   \n",
       "split1_test_score                                                      0.559257   \n",
       "split2_test_score                                                      0.551531   \n",
       "split3_test_score                                                      0.570162   \n",
       "split4_test_score                                                      0.578316   \n",
       "mean_test_score                                                        0.564101   \n",
       "std_test_score                                                       0.00925664   \n",
       "rank_test_score                                                              22   \n",
       "split0_train_score                                                     0.573473   \n",
       "split1_train_score                                                     0.574467   \n",
       "split2_train_score                                                     0.578121   \n",
       "split3_train_score                                                     0.573513   \n",
       "split4_train_score                                                     0.569362   \n",
       "mean_train_score                                                       0.573787   \n",
       "std_train_score                                                      0.00279277   \n",
       "\n",
       "                              ...  \\\n",
       "mean_fit_time                 ...   \n",
       "std_fit_time                  ...   \n",
       "mean_score_time               ...   \n",
       "std_score_time                ...   \n",
       "param_clf__C                  ...   \n",
       "param_clf__intercept_scaling  ...   \n",
       "param_clf__penalty            ...   \n",
       "params                        ...   \n",
       "split0_test_score             ...   \n",
       "split1_test_score             ...   \n",
       "split2_test_score             ...   \n",
       "split3_test_score             ...   \n",
       "split4_test_score             ...   \n",
       "mean_test_score               ...   \n",
       "std_test_score                ...   \n",
       "rank_test_score               ...   \n",
       "split0_train_score            ...   \n",
       "split1_train_score            ...   \n",
       "split2_train_score            ...   \n",
       "split3_train_score            ...   \n",
       "split4_train_score            ...   \n",
       "mean_train_score              ...   \n",
       "std_train_score               ...   \n",
       "\n",
       "                                                                             14  \\\n",
       "mean_fit_time                                                            5.9226   \n",
       "std_fit_time                                                            3.69149   \n",
       "mean_score_time                                                      0.00880003   \n",
       "std_score_time                                                      0.000399947   \n",
       "param_clf__C                                                               0.55   \n",
       "param_clf__intercept_scaling                                               1.25   \n",
       "param_clf__penalty                                                           l1   \n",
       "params                        {'clf__C': 0.55, 'clf__intercept_scaling': 1.2...   \n",
       "split0_test_score                                                      0.561214   \n",
       "split1_test_score                                                      0.559285   \n",
       "split2_test_score                                                      0.551519   \n",
       "split3_test_score                                                      0.570188   \n",
       "split4_test_score                                                      0.578403   \n",
       "mean_test_score                                                        0.564121   \n",
       "std_test_score                                                        0.0092887   \n",
       "rank_test_score                                                               4   \n",
       "split0_train_score                                                     0.573478   \n",
       "split1_train_score                                                     0.574458   \n",
       "split2_train_score                                                     0.578117   \n",
       "split3_train_score                                                     0.573494   \n",
       "split4_train_score                                                     0.569369   \n",
       "mean_train_score                                                       0.573783   \n",
       "std_train_score                                                      0.00278925   \n",
       "\n",
       "                                                                             15  \\\n",
       "mean_fit_time                                                            1.3628   \n",
       "std_fit_time                                                           0.130446   \n",
       "mean_score_time                                                      0.00880008   \n",
       "std_score_time                                                      0.000399971   \n",
       "param_clf__C                                                               0.55   \n",
       "param_clf__intercept_scaling                                               1.25   \n",
       "param_clf__penalty                                                           l2   \n",
       "params                        {'clf__C': 0.55, 'clf__intercept_scaling': 1.2...   \n",
       "split0_test_score                                                       0.56124   \n",
       "split1_test_score                                                      0.559258   \n",
       "split2_test_score                                                      0.551532   \n",
       "split3_test_score                                                      0.570162   \n",
       "split4_test_score                                                      0.578315   \n",
       "mean_test_score                                                        0.564101   \n",
       "std_test_score                                                       0.00925611   \n",
       "rank_test_score                                                              14   \n",
       "split0_train_score                                                     0.573473   \n",
       "split1_train_score                                                     0.574467   \n",
       "split2_train_score                                                      0.57812   \n",
       "split3_train_score                                                     0.573513   \n",
       "split4_train_score                                                     0.569362   \n",
       "mean_train_score                                                       0.573787   \n",
       "std_train_score                                                      0.00279252   \n",
       "\n",
       "                                                                             16  \\\n",
       "mean_fit_time                                                             7.548   \n",
       "std_fit_time                                                            5.24058   \n",
       "mean_score_time                                                      0.00879993   \n",
       "std_score_time                                                      0.000399899   \n",
       "param_clf__C                                                               0.55   \n",
       "param_clf__intercept_scaling                                                1.5   \n",
       "param_clf__penalty                                                           l1   \n",
       "params                        {'clf__C': 0.55, 'clf__intercept_scaling': 1.5...   \n",
       "split0_test_score                                                      0.561213   \n",
       "split1_test_score                                                      0.559285   \n",
       "split2_test_score                                                      0.551519   \n",
       "split3_test_score                                                      0.570188   \n",
       "split4_test_score                                                      0.578402   \n",
       "mean_test_score                                                        0.564121   \n",
       "std_test_score                                                       0.00928855   \n",
       "rank_test_score                                                               6   \n",
       "split0_train_score                                                     0.573478   \n",
       "split1_train_score                                                     0.574458   \n",
       "split2_train_score                                                     0.578117   \n",
       "split3_train_score                                                     0.573493   \n",
       "split4_train_score                                                     0.569369   \n",
       "mean_train_score                                                       0.573783   \n",
       "std_train_score                                                      0.00278926   \n",
       "\n",
       "                                                                             17  \\\n",
       "mean_fit_time                                                              1.34   \n",
       "std_fit_time                                                           0.163626   \n",
       "mean_score_time                                                           0.104   \n",
       "std_score_time                                                         0.117376   \n",
       "param_clf__C                                                               0.55   \n",
       "param_clf__intercept_scaling                                                1.5   \n",
       "param_clf__penalty                                                           l2   \n",
       "params                        {'clf__C': 0.55, 'clf__intercept_scaling': 1.5...   \n",
       "split0_test_score                                                       0.56124   \n",
       "split1_test_score                                                      0.559258   \n",
       "split2_test_score                                                      0.551532   \n",
       "split3_test_score                                                      0.570162   \n",
       "split4_test_score                                                      0.578315   \n",
       "mean_test_score                                                        0.564101   \n",
       "std_test_score                                                       0.00925618   \n",
       "rank_test_score                                                              17   \n",
       "split0_train_score                                                     0.573473   \n",
       "split1_train_score                                                     0.574467   \n",
       "split2_train_score                                                      0.57812   \n",
       "split3_train_score                                                     0.573513   \n",
       "split4_train_score                                                     0.569362   \n",
       "mean_train_score                                                       0.573787   \n",
       "std_train_score                                                      0.00279255   \n",
       "\n",
       "                                                                             18  \\\n",
       "mean_fit_time                                                            7.0124   \n",
       "std_fit_time                                                            3.54411   \n",
       "mean_score_time                                                      0.00920005   \n",
       "std_score_time                                                       0.00193905   \n",
       "param_clf__C                                                               0.45   \n",
       "param_clf__intercept_scaling                                                  1   \n",
       "param_clf__penalty                                                           l1   \n",
       "params                        {'clf__C': 0.45, 'clf__intercept_scaling': 1, ...   \n",
       "split0_test_score                                                      0.561227   \n",
       "split1_test_score                                                       0.55928   \n",
       "split2_test_score                                                      0.551518   \n",
       "split3_test_score                                                        0.5702   \n",
       "split4_test_score                                                      0.578421   \n",
       "mean_test_score                                                        0.564129   \n",
       "std_test_score                                                       0.00929569   \n",
       "rank_test_score                                                               3   \n",
       "split0_train_score                                                     0.573477   \n",
       "split1_train_score                                                     0.574456   \n",
       "split2_train_score                                                     0.578115   \n",
       "split3_train_score                                                     0.573489   \n",
       "split4_train_score                                                     0.569371   \n",
       "mean_train_score                                                       0.573782   \n",
       "std_train_score                                                      0.00278815   \n",
       "\n",
       "                                                                             19  \\\n",
       "mean_fit_time                                                             1.333   \n",
       "std_fit_time                                                           0.108246   \n",
       "mean_score_time                                                           0.099   \n",
       "std_score_time                                                         0.112305   \n",
       "param_clf__C                                                               0.45   \n",
       "param_clf__intercept_scaling                                                  1   \n",
       "param_clf__penalty                                                           l2   \n",
       "params                        {'clf__C': 0.45, 'clf__intercept_scaling': 1, ...   \n",
       "split0_test_score                                                       0.56124   \n",
       "split1_test_score                                                      0.559258   \n",
       "split2_test_score                                                      0.551531   \n",
       "split3_test_score                                                      0.570163   \n",
       "split4_test_score                                                      0.578315   \n",
       "mean_test_score                                                        0.564101   \n",
       "std_test_score                                                       0.00925651   \n",
       "rank_test_score                                                              15   \n",
       "split0_train_score                                                     0.573473   \n",
       "split1_train_score                                                     0.574467   \n",
       "split2_train_score                                                      0.57812   \n",
       "split3_train_score                                                     0.573513   \n",
       "split4_train_score                                                     0.569362   \n",
       "mean_train_score                                                       0.573787   \n",
       "std_train_score                                                      0.00279246   \n",
       "\n",
       "                                                                             20  \\\n",
       "mean_fit_time                                                            5.3178   \n",
       "std_fit_time                                                            2.03892   \n",
       "mean_score_time                                                       0.0450001   \n",
       "std_score_time                                                            0.072   \n",
       "param_clf__C                                                               0.45   \n",
       "param_clf__intercept_scaling                                               1.25   \n",
       "param_clf__penalty                                                           l1   \n",
       "params                        {'clf__C': 0.45, 'clf__intercept_scaling': 1.2...   \n",
       "split0_test_score                                                      0.561227   \n",
       "split1_test_score                                                      0.559281   \n",
       "split2_test_score                                                      0.551518   \n",
       "split3_test_score                                                      0.570199   \n",
       "split4_test_score                                                      0.578421   \n",
       "mean_test_score                                                        0.564129   \n",
       "std_test_score                                                       0.00929556   \n",
       "rank_test_score                                                               2   \n",
       "split0_train_score                                                     0.573477   \n",
       "split1_train_score                                                     0.574456   \n",
       "split2_train_score                                                     0.578115   \n",
       "split3_train_score                                                     0.573489   \n",
       "split4_train_score                                                     0.569371   \n",
       "mean_train_score                                                       0.573782   \n",
       "std_train_score                                                      0.00278808   \n",
       "\n",
       "                                                                             21  \\\n",
       "mean_fit_time                                                               1.4   \n",
       "std_fit_time                                                          0.0984418   \n",
       "mean_score_time                                                           0.104   \n",
       "std_score_time                                                         0.116631   \n",
       "param_clf__C                                                               0.45   \n",
       "param_clf__intercept_scaling                                               1.25   \n",
       "param_clf__penalty                                                           l2   \n",
       "params                        {'clf__C': 0.45, 'clf__intercept_scaling': 1.2...   \n",
       "split0_test_score                                                       0.56124   \n",
       "split1_test_score                                                      0.559258   \n",
       "split2_test_score                                                      0.551531   \n",
       "split3_test_score                                                      0.570163   \n",
       "split4_test_score                                                      0.578315   \n",
       "mean_test_score                                                        0.564101   \n",
       "std_test_score                                                       0.00925661   \n",
       "rank_test_score                                                              18   \n",
       "split0_train_score                                                     0.573473   \n",
       "split1_train_score                                                     0.574467   \n",
       "split2_train_score                                                      0.57812   \n",
       "split3_train_score                                                     0.573513   \n",
       "split4_train_score                                                     0.569362   \n",
       "mean_train_score                                                       0.573787   \n",
       "std_train_score                                                      0.00279243   \n",
       "\n",
       "                                                                             22  \\\n",
       "mean_fit_time                                                            4.2234   \n",
       "std_fit_time                                                           0.698067   \n",
       "mean_score_time                                                       0.0482002   \n",
       "std_score_time                                                        0.0774038   \n",
       "param_clf__C                                                               0.45   \n",
       "param_clf__intercept_scaling                                                1.5   \n",
       "param_clf__penalty                                                           l1   \n",
       "params                        {'clf__C': 0.45, 'clf__intercept_scaling': 1.5...   \n",
       "split0_test_score                                                      0.561227   \n",
       "split1_test_score                                                       0.55928   \n",
       "split2_test_score                                                      0.551519   \n",
       "split3_test_score                                                        0.5702   \n",
       "split4_test_score                                                      0.578421   \n",
       "mean_test_score                                                        0.564129   \n",
       "std_test_score                                                       0.00929564   \n",
       "rank_test_score                                                               1   \n",
       "split0_train_score                                                     0.573477   \n",
       "split1_train_score                                                     0.574456   \n",
       "split2_train_score                                                     0.578116   \n",
       "split3_train_score                                                     0.573489   \n",
       "split4_train_score                                                     0.569371   \n",
       "mean_train_score                                                       0.573782   \n",
       "std_train_score                                                      0.00278831   \n",
       "\n",
       "                                                                             23  \n",
       "mean_fit_time                                                            1.3444  \n",
       "std_fit_time                                                           0.143362  \n",
       "mean_score_time                                                          0.0538  \n",
       "std_score_time                                                        0.0901007  \n",
       "param_clf__C                                                               0.45  \n",
       "param_clf__intercept_scaling                                                1.5  \n",
       "param_clf__penalty                                                           l2  \n",
       "params                        {'clf__C': 0.45, 'clf__intercept_scaling': 1.5...  \n",
       "split0_test_score                                                       0.56124  \n",
       "split1_test_score                                                      0.559258  \n",
       "split2_test_score                                                      0.551531  \n",
       "split3_test_score                                                      0.570164  \n",
       "split4_test_score                                                      0.578315  \n",
       "mean_test_score                                                        0.564101  \n",
       "std_test_score                                                       0.00925665  \n",
       "rank_test_score                                                              15  \n",
       "split0_train_score                                                     0.573473  \n",
       "split1_train_score                                                     0.574467  \n",
       "split2_train_score                                                      0.57812  \n",
       "split3_train_score                                                     0.573513  \n",
       "split4_train_score                                                     0.569362  \n",
       "mean_train_score                                                       0.573787  \n",
       "std_train_score                                                      0.00279242  \n",
       "\n",
       "[23 rows x 24 columns]"
      ]
     },
     "execution_count": 464,
     "metadata": {},
     "output_type": "execute_result"
    }
   ],
   "source": [
    "print(grid.best_score_)\n",
    "pd.DataFrame(grid.cv_results_).T"
   ]
  },
  {
   "cell_type": "markdown",
   "metadata": {},
   "source": [
    "Train Score"
   ]
  },
  {
   "cell_type": "code",
   "execution_count": 465,
   "metadata": {
    "ExecuteTime": {
     "end_time": "2019-09-11T11:39:48.322000Z",
     "start_time": "2019-09-11T11:39:48.278000Z"
    }
   },
   "outputs": [],
   "source": [
    "pred_y_tr = grid.best_estimator_.predict(X_train[demo_col])"
   ]
  },
  {
   "cell_type": "code",
   "execution_count": 466,
   "metadata": {
    "ExecuteTime": {
     "end_time": "2019-09-11T11:39:48.413000Z",
     "start_time": "2019-09-11T11:39:48.324000Z"
    }
   },
   "outputs": [
    {
     "data": {
      "text/plain": [
       "array([[25144, 19692],\n",
       "       [  886,  1088]], dtype=int64)"
      ]
     },
     "execution_count": 466,
     "metadata": {},
     "output_type": "execute_result"
    }
   ],
   "source": [
    "confusion_matrix(y_train, pred_y_tr)"
   ]
  },
  {
   "cell_type": "code",
   "execution_count": 467,
   "metadata": {
    "ExecuteTime": {
     "end_time": "2019-09-11T11:39:48.548000Z",
     "start_time": "2019-09-11T11:39:48.414000Z"
    }
   },
   "outputs": [
    {
     "name": "stdout",
     "output_type": "stream",
     "text": [
      "              precision    recall  f1-score   support\n",
      "\n",
      "         0.0       0.97      0.56      0.71     44836\n",
      "         1.0       0.05      0.55      0.10      1974\n",
      "\n",
      "   micro avg       0.56      0.56      0.56     46810\n",
      "   macro avg       0.51      0.56      0.40     46810\n",
      "weighted avg       0.93      0.56      0.68     46810\n",
      "\n"
     ]
    }
   ],
   "source": [
    "print(classification_report(y_train, pred_y_tr))"
   ]
  },
  {
   "cell_type": "code",
   "execution_count": 468,
   "metadata": {
    "ExecuteTime": {
     "end_time": "2019-09-11T11:39:48.566000Z",
     "start_time": "2019-09-11T11:39:48.552000Z"
    }
   },
   "outputs": [
    {
     "data": {
      "text/plain": [
       "0.5603930784020509"
      ]
     },
     "execution_count": 468,
     "metadata": {},
     "output_type": "execute_result"
    }
   ],
   "source": [
    "accuracy_score(y_train, pred_y_tr)"
   ]
  },
  {
   "cell_type": "markdown",
   "metadata": {},
   "source": [
    "Test Score"
   ]
  },
  {
   "cell_type": "code",
   "execution_count": 469,
   "metadata": {
    "ExecuteTime": {
     "end_time": "2019-09-11T11:39:48.616000Z",
     "start_time": "2019-09-11T11:39:48.570000Z"
    }
   },
   "outputs": [],
   "source": [
    "pred_y_test = grid.best_estimator_.predict(X_test[demo_col])"
   ]
  },
  {
   "cell_type": "code",
   "execution_count": 470,
   "metadata": {
    "ExecuteTime": {
     "end_time": "2019-09-11T11:39:48.629000Z",
     "start_time": "2019-09-11T11:39:48.618000Z"
    }
   },
   "outputs": [
    {
     "data": {
      "text/plain": [
       "0.5554061673244568"
      ]
     },
     "execution_count": 470,
     "metadata": {},
     "output_type": "execute_result"
    }
   ],
   "source": [
    "accuracy_score(y_test, pred_y_test)"
   ]
  },
  {
   "cell_type": "code",
   "execution_count": 471,
   "metadata": {
    "ExecuteTime": {
     "end_time": "2019-09-11T11:39:48.718000Z",
     "start_time": "2019-09-11T11:39:48.632000Z"
    }
   },
   "outputs": [
    {
     "data": {
      "text/plain": [
       "array([[12311,  9773],\n",
       "       [  478,   495]], dtype=int64)"
      ]
     },
     "execution_count": 471,
     "metadata": {},
     "output_type": "execute_result"
    }
   ],
   "source": [
    "confusion_matrix(y_test, pred_y_test)"
   ]
  },
  {
   "cell_type": "code",
   "execution_count": 472,
   "metadata": {
    "ExecuteTime": {
     "end_time": "2019-09-11T11:39:48.794000Z",
     "start_time": "2019-09-11T11:39:48.719000Z"
    }
   },
   "outputs": [
    {
     "name": "stdout",
     "output_type": "stream",
     "text": [
      "              precision    recall  f1-score   support\n",
      "\n",
      "         0.0       0.96      0.56      0.71     22084\n",
      "         1.0       0.05      0.51      0.09       973\n",
      "\n",
      "   micro avg       0.56      0.56      0.56     23057\n",
      "   macro avg       0.51      0.53      0.40     23057\n",
      "weighted avg       0.92      0.56      0.68     23057\n",
      "\n"
     ]
    }
   ],
   "source": [
    "print(classification_report(y_test, pred_y_test))"
   ]
  },
  {
   "cell_type": "markdown",
   "metadata": {},
   "source": [
    "#### Using PCA"
   ]
  },
  {
   "cell_type": "code",
   "execution_count": 473,
   "metadata": {
    "ExecuteTime": {
     "end_time": "2019-09-11T11:39:48.806000Z",
     "start_time": "2019-09-11T11:39:48.800000Z"
    }
   },
   "outputs": [],
   "source": [
    "from sklearn.decomposition import PCA"
   ]
  },
  {
   "cell_type": "code",
   "execution_count": 474,
   "metadata": {
    "ExecuteTime": {
     "end_time": "2019-09-11T11:39:49.497000Z",
     "start_time": "2019-09-11T11:39:48.808000Z"
    }
   },
   "outputs": [],
   "source": [
    "pca = PCA(n_components=10)\n",
    "X_train_pca = pca.fit_transform(X_train[demo_col])"
   ]
  },
  {
   "cell_type": "code",
   "execution_count": 475,
   "metadata": {
    "ExecuteTime": {
     "end_time": "2019-09-11T11:39:49.648000Z",
     "start_time": "2019-09-11T11:39:49.501000Z"
    }
   },
   "outputs": [
    {
     "data": {
      "image/png": "[encoded data removed]",
      "text/plain": [
       "<Figure size 432x288 with 1 Axes>"
      ]
     },
     "metadata": {
      "needs_background": "light"
     },
     "output_type": "display_data"
    }
   ],
   "source": [
    "plt.plot(np.cumsum(pca.explained_variance_ratio_))\n",
    "plt.xlabel('number of components')\n",
    "plt.ylabel('cumulative explained variance')\n",
    "plt.show()"
   ]
  },
  {
   "cell_type": "code",
   "execution_count": 476,
   "metadata": {
    "ExecuteTime": {
     "end_time": "2019-09-11T11:39:49.922000Z",
     "start_time": "2019-09-11T11:39:49.654000Z"
    }
   },
   "outputs": [],
   "source": [
    "pca = PCA(n_components=2)\n",
    "X_train_pca = pca.fit_transform(X_train[demo_col])"
   ]
  },
  {
   "cell_type": "code",
   "execution_count": 477,
   "metadata": {
    "ExecuteTime": {
     "end_time": "2019-09-11T11:39:54.491000Z",
     "start_time": "2019-09-11T11:39:49.924000Z"
    }
   },
   "outputs": [
    {
     "name": "stdout",
     "output_type": "stream",
     "text": [
      "Fitting 5 folds for each of 24 candidates, totalling 120 fits\n"
     ]
    },
    {
     "name": "stderr",
     "output_type": "stream",
     "text": [
      "[Parallel(n_jobs=-1)]: Using backend LokyBackend with 15 concurrent workers.\n",
      "[Parallel(n_jobs=-1)]: Batch computation too fast (0.1540s.) Setting batch_size=2.\n",
      "[Parallel(n_jobs=-1)]: Done   2 tasks      | elapsed:    0.1s\n",
      "[Parallel(n_jobs=-1)]: Done  11 tasks      | elapsed:    0.7s\n",
      "[Parallel(n_jobs=-1)]: Done  20 tasks      | elapsed:    0.9s\n",
      "[Parallel(n_jobs=-1)]: Done  32 tasks      | elapsed:    2.0s\n",
      "[Parallel(n_jobs=-1)]: Done  54 tasks      | elapsed:    2.3s\n",
      "[Parallel(n_jobs=-1)]: Done  78 out of 120 | elapsed:    3.2s remaining:    1.7s\n",
      "[Parallel(n_jobs=-1)]: Done 104 out of 120 | elapsed:    4.2s remaining:    0.6s\n",
      "[Parallel(n_jobs=-1)]: Done 120 out of 120 | elapsed:    4.4s finished\n"
     ]
    },
    {
     "data": {
      "text/plain": [
       "GridSearchCV(cv=5, error_score='raise-deprecating',\n",
       "       estimator=Pipeline(memory=None,\n",
       "     steps=[('scale', StandardScaler(copy=True, with_mean=True, with_std=True)), ('clf', LogisticRegression(C=1.0, class_weight='balanced', dual=False,\n",
       "          fit_intercept=True, intercept_scaling=1, max_iter=100,\n",
       "          multi_class='warn', n_jobs=None, penalty='l2', random_state=None,\n",
       "          solver='liblinear', tol=0.0001, verbose=0, warm_start=False))]),\n",
       "       fit_params=None, iid='warn', n_jobs=-1,\n",
       "       param_grid={'clf__penalty': ['l1', 'l2'], 'clf__C': [1.0, 0.75, 0.55, 0.45], 'clf__intercept_scaling': [1, 1.25, 1.5]},\n",
       "       pre_dispatch='2*n_jobs', refit=True, return_train_score=True,\n",
       "       scoring='roc_auc', verbose=10)"
      ]
     },
     "execution_count": 477,
     "metadata": {},
     "output_type": "execute_result"
    }
   ],
   "source": [
    "grid.fit(X_train_pca, y_train)"
   ]
  },
  {
   "cell_type": "markdown",
   "metadata": {},
   "source": [
    "##### Train Score"
   ]
  },
  {
   "cell_type": "code",
   "execution_count": 478,
   "metadata": {
    "ExecuteTime": {
     "end_time": "2019-09-11T11:39:54.529000Z",
     "start_time": "2019-09-11T11:39:54.492000Z"
    }
   },
   "outputs": [],
   "source": [
    "# Predict\n",
    "y_train_predict_pca = grid.best_estimator_.predict(X_train_pca)"
   ]
  },
  {
   "cell_type": "code",
   "execution_count": 479,
   "metadata": {
    "ExecuteTime": {
     "end_time": "2019-09-11T11:39:54.618000Z",
     "start_time": "2019-09-11T11:39:54.531000Z"
    }
   },
   "outputs": [
    {
     "data": {
      "text/plain": [
       "array([[23395, 21441],\n",
       "       [  899,  1075]], dtype=int64)"
      ]
     },
     "execution_count": 479,
     "metadata": {},
     "output_type": "execute_result"
    }
   ],
   "source": [
    "# Confusion Matrix\n",
    "confusion_matrix(y_train, y_train_predict_pca)"
   ]
  },
  {
   "cell_type": "code",
   "execution_count": 480,
   "metadata": {
    "ExecuteTime": {
     "end_time": "2019-09-11T11:39:54.693000Z",
     "start_time": "2019-09-11T11:39:54.620000Z"
    }
   },
   "outputs": [
    {
     "name": "stdout",
     "output_type": "stream",
     "text": [
      "              precision    recall  f1-score   support\n",
      "\n",
      "         0.0       0.96      0.52      0.68     44836\n",
      "         1.0       0.05      0.54      0.09      1974\n",
      "\n",
      "   micro avg       0.52      0.52      0.52     46810\n",
      "   macro avg       0.51      0.53      0.38     46810\n",
      "weighted avg       0.92      0.52      0.65     46810\n",
      "\n"
     ]
    }
   ],
   "source": [
    "# Calssification report\n",
    "print(classification_report(y_train, y_train_predict_pca))"
   ]
  },
  {
   "cell_type": "code",
   "execution_count": 481,
   "metadata": {
    "ExecuteTime": {
     "end_time": "2019-09-11T11:39:54.707000Z",
     "start_time": "2019-09-11T11:39:54.697000Z"
    }
   },
   "outputs": [
    {
     "data": {
      "text/plain": [
       "0.5227515488143559"
      ]
     },
     "execution_count": 481,
     "metadata": {},
     "output_type": "execute_result"
    }
   ],
   "source": [
    "# Accuracy\n",
    "accuracy_score(y_train, y_train_predict_pca)"
   ]
  },
  {
   "cell_type": "markdown",
   "metadata": {},
   "source": [
    "##### Test Score"
   ]
  },
  {
   "cell_type": "code",
   "execution_count": 482,
   "metadata": {
    "ExecuteTime": {
     "end_time": "2019-09-11T11:39:54.819000Z",
     "start_time": "2019-09-11T11:39:54.708000Z"
    }
   },
   "outputs": [],
   "source": [
    "# Predict\n",
    "X_test_pca = pca.transform(X_test[demo_col])\n",
    "pred_pca_te = grid.best_estimator_.predict(X_test_pca)"
   ]
  },
  {
   "cell_type": "code",
   "execution_count": 483,
   "metadata": {
    "ExecuteTime": {
     "end_time": "2019-09-11T11:39:54.851000Z",
     "start_time": "2019-09-11T11:39:54.820000Z"
    }
   },
   "outputs": [
    {
     "data": {
      "text/plain": [
       "array([[11469, 10615],\n",
       "       [  467,   506]], dtype=int64)"
      ]
     },
     "execution_count": 483,
     "metadata": {},
     "output_type": "execute_result"
    }
   ],
   "source": [
    "# Confusion Matrix\n",
    "confusion_matrix(y_test, pred_pca_te)"
   ]
  },
  {
   "cell_type": "code",
   "execution_count": 484,
   "metadata": {
    "ExecuteTime": {
     "end_time": "2019-09-11T11:39:54.953000Z",
     "start_time": "2019-09-11T11:39:54.853000Z"
    }
   },
   "outputs": [
    {
     "name": "stdout",
     "output_type": "stream",
     "text": [
      "              precision    recall  f1-score   support\n",
      "\n",
      "         0.0       0.96      0.52      0.67     22084\n",
      "         1.0       0.05      0.52      0.08       973\n",
      "\n",
      "   micro avg       0.52      0.52      0.52     23057\n",
      "   macro avg       0.50      0.52      0.38     23057\n",
      "weighted avg       0.92      0.52      0.65     23057\n",
      "\n"
     ]
    }
   ],
   "source": [
    "# Calssification report\n",
    "print(classification_report(y_test, pred_pca_te))"
   ]
  },
  {
   "cell_type": "code",
   "execution_count": 485,
   "metadata": {
    "ExecuteTime": {
     "end_time": "2019-09-11T11:39:54.991000Z",
     "start_time": "2019-09-11T11:39:54.982000Z"
    }
   },
   "outputs": [
    {
     "data": {
      "text/plain": [
       "0.5193650518280782"
      ]
     },
     "execution_count": 485,
     "metadata": {},
     "output_type": "execute_result"
    }
   ],
   "source": [
    "# Accuracy\n",
    "accuracy_score(y_test, pred_pca_te)"
   ]
  },
  {
   "cell_type": "markdown",
   "metadata": {},
   "source": [
    "#### Using SMOTE"
   ]
  },
  {
   "cell_type": "code",
   "execution_count": 486,
   "metadata": {
    "ExecuteTime": {
     "end_time": "2019-09-11T11:39:55.004000Z",
     "start_time": "2019-09-11T11:39:54.993000Z"
    }
   },
   "outputs": [],
   "source": [
    "from imblearn.over_sampling import SMOTE"
   ]
  },
  {
   "cell_type": "code",
   "execution_count": 487,
   "metadata": {
    "ExecuteTime": {
     "end_time": "2019-09-11T11:39:55.375000Z",
     "start_time": "2019-09-11T11:39:55.005000Z"
    }
   },
   "outputs": [],
   "source": [
    "sm = SMOTE(random_state=101, ratio=1.0)\n",
    "X_train_SMOTE, y_train_SMOTE = sm.fit_sample(X_train[demo_col], y_train)"
   ]
  },
  {
   "cell_type": "code",
   "execution_count": 488,
   "metadata": {
    "ExecuteTime": {
     "end_time": "2019-09-11T11:41:29.232000Z",
     "start_time": "2019-09-11T11:39:55.376000Z"
    }
   },
   "outputs": [
    {
     "name": "stdout",
     "output_type": "stream",
     "text": [
      "Fitting 5 folds for each of 24 candidates, totalling 120 fits\n"
     ]
    },
    {
     "name": "stderr",
     "output_type": "stream",
     "text": [
      "[Parallel(n_jobs=-1)]: Using backend LokyBackend with 15 concurrent workers.\n",
      "[Parallel(n_jobs=-1)]: Done   2 tasks      | elapsed:    3.0s\n",
      "[Parallel(n_jobs=-1)]: Done  11 tasks      | elapsed:   11.0s\n",
      "[Parallel(n_jobs=-1)]: Done  20 tasks      | elapsed:   23.1s\n",
      "[Parallel(n_jobs=-1)]: Done  31 tasks      | elapsed:   33.0s\n",
      "[Parallel(n_jobs=-1)]: Done  42 tasks      | elapsed:   40.0s\n",
      "[Parallel(n_jobs=-1)]: Done  55 tasks      | elapsed:   51.2s\n",
      "[Parallel(n_jobs=-1)]: Done  68 tasks      | elapsed:   58.5s\n",
      "[Parallel(n_jobs=-1)]: Done  83 tasks      | elapsed:  1.2min\n",
      "[Parallel(n_jobs=-1)]: Done 104 out of 120 | elapsed:  1.4min remaining:   13.2s\n",
      "[Parallel(n_jobs=-1)]: Done 117 out of 120 | elapsed:  1.5min remaining:    2.3s\n",
      "[Parallel(n_jobs=-1)]: Done 120 out of 120 | elapsed:  1.6min finished\n"
     ]
    },
    {
     "data": {
      "text/plain": [
       "GridSearchCV(cv=5, error_score='raise-deprecating',\n",
       "       estimator=Pipeline(memory=None,\n",
       "     steps=[('scale', StandardScaler(copy=True, with_mean=True, with_std=True)), ('clf', LogisticRegression(C=1.0, class_weight='balanced', dual=False,\n",
       "          fit_intercept=True, intercept_scaling=1, max_iter=100,\n",
       "          multi_class='warn', n_jobs=None, penalty='l2', random_state=None,\n",
       "          solver='liblinear', tol=0.0001, verbose=0, warm_start=False))]),\n",
       "       fit_params=None, iid='warn', n_jobs=-1,\n",
       "       param_grid={'clf__penalty': ['l1', 'l2'], 'clf__C': [1.0, 0.75, 0.55, 0.45], 'clf__intercept_scaling': [1, 1.25, 1.5]},\n",
       "       pre_dispatch='2*n_jobs', refit=True, return_train_score=True,\n",
       "       scoring='roc_auc', verbose=10)"
      ]
     },
     "execution_count": 488,
     "metadata": {},
     "output_type": "execute_result"
    }
   ],
   "source": [
    "grid.fit(X_train_SMOTE, y_train_SMOTE)"
   ]
  },
  {
   "cell_type": "markdown",
   "metadata": {},
   "source": [
    "##### Train Score"
   ]
  },
  {
   "cell_type": "code",
   "execution_count": 489,
   "metadata": {
    "ExecuteTime": {
     "end_time": "2019-09-11T11:41:29.285000Z",
     "start_time": "2019-09-11T11:41:29.236000Z"
    }
   },
   "outputs": [],
   "source": [
    "pred_smote_tr = grid.best_estimator_.predict(X_train_SMOTE)"
   ]
  },
  {
   "cell_type": "code",
   "execution_count": 490,
   "metadata": {
    "ExecuteTime": {
     "end_time": "2019-09-11T11:41:29.414000Z",
     "start_time": "2019-09-11T11:41:29.287000Z"
    }
   },
   "outputs": [
    {
     "data": {
      "text/plain": [
       "array([[25210, 19626],\n",
       "       [20057, 24779]], dtype=int64)"
      ]
     },
     "execution_count": 490,
     "metadata": {},
     "output_type": "execute_result"
    }
   ],
   "source": [
    "confusion_matrix(y_train_SMOTE, pred_smote_tr)"
   ]
  },
  {
   "cell_type": "code",
   "execution_count": 491,
   "metadata": {
    "ExecuteTime": {
     "end_time": "2019-09-11T11:41:29.562000Z",
     "start_time": "2019-09-11T11:41:29.415000Z"
    }
   },
   "outputs": [
    {
     "name": "stdout",
     "output_type": "stream",
     "text": [
      "              precision    recall  f1-score   support\n",
      "\n",
      "         0.0       0.56      0.56      0.56     44836\n",
      "         1.0       0.56      0.55      0.56     44836\n",
      "\n",
      "   micro avg       0.56      0.56      0.56     89672\n",
      "   macro avg       0.56      0.56      0.56     89672\n",
      "weighted avg       0.56      0.56      0.56     89672\n",
      "\n"
     ]
    }
   ],
   "source": [
    "print(classification_report(y_train_SMOTE, pred_smote_tr))"
   ]
  },
  {
   "cell_type": "code",
   "execution_count": 492,
   "metadata": {
    "ExecuteTime": {
     "end_time": "2019-09-11T11:41:29.586000Z",
     "start_time": "2019-09-11T11:41:29.566000Z"
    }
   },
   "outputs": [
    {
     "data": {
      "text/plain": [
       "0.5574649834954055"
      ]
     },
     "execution_count": 492,
     "metadata": {},
     "output_type": "execute_result"
    }
   ],
   "source": [
    "accuracy_score(y_train_SMOTE, pred_smote_tr)"
   ]
  },
  {
   "cell_type": "markdown",
   "metadata": {},
   "source": [
    "##### Test Score"
   ]
  },
  {
   "cell_type": "code",
   "execution_count": 493,
   "metadata": {
    "ExecuteTime": {
     "end_time": "2019-09-11T11:41:29.659000Z",
     "start_time": "2019-09-11T11:41:29.587000Z"
    }
   },
   "outputs": [],
   "source": [
    "pred_smote_te = grid.best_estimator_.predict(X_test[demo_col])"
   ]
  },
  {
   "cell_type": "code",
   "execution_count": 494,
   "metadata": {
    "ExecuteTime": {
     "end_time": "2019-09-11T11:41:29.727000Z",
     "start_time": "2019-09-11T11:41:29.661000Z"
    }
   },
   "outputs": [
    {
     "data": {
      "text/plain": [
       "array([[12364,  9720],\n",
       "       [  475,   498]], dtype=int64)"
      ]
     },
     "execution_count": 494,
     "metadata": {},
     "output_type": "execute_result"
    }
   ],
   "source": [
    "confusion_matrix(y_test, pred_smote_te)"
   ]
  },
  {
   "cell_type": "code",
   "execution_count": 495,
   "metadata": {
    "ExecuteTime": {
     "end_time": "2019-09-11T11:41:29.776000Z",
     "start_time": "2019-09-11T11:41:29.729000Z"
    }
   },
   "outputs": [
    {
     "name": "stdout",
     "output_type": "stream",
     "text": [
      "              precision    recall  f1-score   support\n",
      "\n",
      "         0.0       0.96      0.56      0.71     22084\n",
      "         1.0       0.05      0.51      0.09       973\n",
      "\n",
      "   micro avg       0.56      0.56      0.56     23057\n",
      "   macro avg       0.51      0.54      0.40     23057\n",
      "weighted avg       0.92      0.56      0.68     23057\n",
      "\n"
     ]
    }
   ],
   "source": [
    "print(classification_report(y_test, pred_smote_te))"
   ]
  },
  {
   "cell_type": "code",
   "execution_count": 496,
   "metadata": {
    "ExecuteTime": {
     "end_time": "2019-09-11T11:41:29.788000Z",
     "start_time": "2019-09-11T11:41:29.780000Z"
    }
   },
   "outputs": [
    {
     "data": {
      "text/plain": [
       "0.557834930823611"
      ]
     },
     "execution_count": 496,
     "metadata": {},
     "output_type": "execute_result"
    }
   ],
   "source": [
    "# Accuracy Score\n",
    "accuracy_score(y_test, pred_smote_te)"
   ]
  },
  {
   "cell_type": "markdown",
   "metadata": {},
   "source": [
    "## Model using demographic and credit bureau data"
   ]
  },
  {
   "cell_type": "markdown",
   "metadata": {},
   "source": [
    "### Logistic Regression"
   ]
  },
  {
   "cell_type": "code",
   "execution_count": 497,
   "metadata": {
    "ExecuteTime": {
     "end_time": "2019-09-11T11:41:29.807000Z",
     "start_time": "2019-09-11T11:41:29.789000Z"
    }
   },
   "outputs": [
    {
     "data": {
      "text/plain": [
       "Index(['id', 'age', 'gender', 'marital', 'no_of_dependents', 'income',\n",
       "       'education', 'profession', 'residence_type', 'months_curr_residence',\n",
       "       'months_curr_company', '90_dpd_6m', '60_dpd_6m', '30_dpd_6m',\n",
       "       '90_dpd_12m', '60_dpd_12m', '30_dpd_12m', 'cc_util', 'trades_6m',\n",
       "       'trades_12m', 'pl_trades_6m', 'pl_trades_12m', 'inquiries_6m',\n",
       "       'inquiries_12m', 'open_home_loan', 'outstanding_bal', 'total_trades',\n",
       "       'open_auto_loan', 'performance', 'income-bin', 'edu_Bachelor',\n",
       "       'edu_Masters', 'edu_Others', 'edu_Phd', 'edu_Professional', 'prof_SAL',\n",
       "       'prof_SE', 'prof_SE_PROF', 'res_type_Company provided',\n",
       "       'res_type_Living with Parents', 'res_type_Others', 'res_type_Owned',\n",
       "       'res_type_Rented', 'res_type_Company provided',\n",
       "       'res_type_Living with Parents', 'res_type_Others', 'res_type_Owned',\n",
       "       'res_type_Rented'],\n",
       "      dtype='object')"
      ]
     },
     "execution_count": 497,
     "metadata": {},
     "output_type": "execute_result"
    }
   ],
   "source": [
    "df.columns"
   ]
  },
  {
   "cell_type": "code",
   "execution_count": 498,
   "metadata": {
    "ExecuteTime": {
     "end_time": "2019-09-11T11:41:29.828000Z",
     "start_time": "2019-09-11T11:41:29.808000Z"
    }
   },
   "outputs": [],
   "source": [
    "cols   = ['age', 'gender', 'marital', 'no_of_dependents', 'income-bin',\n",
    "       'edu_Bachelor', 'edu_Masters', 'edu_Others', 'edu_Phd', 'edu_Professional',\n",
    "       'prof_SAL', 'prof_SE', 'prof_SE_PROF',\n",
    "       'res_type_Company provided', 'res_type_Living with Parents', 'res_type_Others', 'res_type_Owned','res_type_Rented',\n",
    "       'months_curr_residence','months_curr_company',\n",
    "       '90_dpd_6m', '60_dpd_6m', '30_dpd_6m', '90_dpd_12m', '60_dpd_12m', '30_dpd_12m',\n",
    "       'cc_util', 'trades_6m', 'trades_12m', 'pl_trades_6m', 'pl_trades_12m', 'inquiries_6m','inquiries_12m', \n",
    "       'open_home_loan', 'outstanding_bal', 'total_trades','open_auto_loan']"
   ]
  },
  {
   "cell_type": "code",
   "execution_count": 499,
   "metadata": {
    "ExecuteTime": {
     "end_time": "2019-09-11T11:41:30.075000Z",
     "start_time": "2019-09-11T11:41:29.831000Z"
    },
    "scrolled": true
   },
   "outputs": [
    {
     "data": {
      "text/html": [
       "<div>\n",
       "<style scoped>\n",
       "    .dataframe tbody tr th:only-of-type {\n",
       "        vertical-align: middle;\n",
       "    }\n",
       "\n",
       "    .dataframe tbody tr th {\n",
       "        vertical-align: top;\n",
       "    }\n",
       "\n",
       "    .dataframe thead th {\n",
       "        text-align: right;\n",
       "    }\n",
       "</style>\n",
       "<table border=\"1\" class=\"dataframe\">\n",
       "  <thead>\n",
       "    <tr style=\"text-align: right;\">\n",
       "      <th></th>\n",
       "      <th>count</th>\n",
       "      <th>mean</th>\n",
       "      <th>std</th>\n",
       "      <th>min</th>\n",
       "      <th>25%</th>\n",
       "      <th>50%</th>\n",
       "      <th>75%</th>\n",
       "      <th>max</th>\n",
       "    </tr>\n",
       "  </thead>\n",
       "  <tbody>\n",
       "    <tr>\n",
       "      <th>age</th>\n",
       "      <td>46810.0</td>\n",
       "      <td>4.500686e+01</td>\n",
       "      <td>9.925163e+00</td>\n",
       "      <td>20.00000</td>\n",
       "      <td>37.000000</td>\n",
       "      <td>45.000000</td>\n",
       "      <td>5.300000e+01</td>\n",
       "      <td>6.500000e+01</td>\n",
       "    </tr>\n",
       "    <tr>\n",
       "      <th>gender</th>\n",
       "      <td>46810.0</td>\n",
       "      <td>7.614826e-01</td>\n",
       "      <td>4.261816e-01</td>\n",
       "      <td>0.00000</td>\n",
       "      <td>1.000000</td>\n",
       "      <td>1.000000</td>\n",
       "      <td>1.000000e+00</td>\n",
       "      <td>1.000000e+00</td>\n",
       "    </tr>\n",
       "    <tr>\n",
       "      <th>marital</th>\n",
       "      <td>46810.0</td>\n",
       "      <td>8.516984e-01</td>\n",
       "      <td>3.554025e-01</td>\n",
       "      <td>0.00000</td>\n",
       "      <td>1.000000</td>\n",
       "      <td>1.000000</td>\n",
       "      <td>1.000000e+00</td>\n",
       "      <td>1.000000e+00</td>\n",
       "    </tr>\n",
       "    <tr>\n",
       "      <th>no_of_dependents</th>\n",
       "      <td>46810.0</td>\n",
       "      <td>2.865349e+00</td>\n",
       "      <td>1.384306e+00</td>\n",
       "      <td>1.00000</td>\n",
       "      <td>2.000000</td>\n",
       "      <td>3.000000</td>\n",
       "      <td>4.000000e+00</td>\n",
       "      <td>5.000000e+00</td>\n",
       "    </tr>\n",
       "    <tr>\n",
       "      <th>income-bin</th>\n",
       "      <td>46810.0</td>\n",
       "      <td>-1.839279e-02</td>\n",
       "      <td>1.984005e-01</td>\n",
       "      <td>-0.34496</td>\n",
       "      <td>-0.201972</td>\n",
       "      <td>-0.007797</td>\n",
       "      <td>5.067845e-02</td>\n",
       "      <td>3.530359e-01</td>\n",
       "    </tr>\n",
       "    <tr>\n",
       "      <th>edu_Bachelor</th>\n",
       "      <td>46810.0</td>\n",
       "      <td>2.477462e-01</td>\n",
       "      <td>4.317082e-01</td>\n",
       "      <td>0.00000</td>\n",
       "      <td>0.000000</td>\n",
       "      <td>0.000000</td>\n",
       "      <td>0.000000e+00</td>\n",
       "      <td>1.000000e+00</td>\n",
       "    </tr>\n",
       "    <tr>\n",
       "      <th>edu_Masters</th>\n",
       "      <td>46810.0</td>\n",
       "      <td>3.348857e-01</td>\n",
       "      <td>4.719555e-01</td>\n",
       "      <td>0.00000</td>\n",
       "      <td>0.000000</td>\n",
       "      <td>0.000000</td>\n",
       "      <td>1.000000e+00</td>\n",
       "      <td>1.000000e+00</td>\n",
       "    </tr>\n",
       "    <tr>\n",
       "      <th>edu_Others</th>\n",
       "      <td>46810.0</td>\n",
       "      <td>1.858577e-03</td>\n",
       "      <td>4.307160e-02</td>\n",
       "      <td>0.00000</td>\n",
       "      <td>0.000000</td>\n",
       "      <td>0.000000</td>\n",
       "      <td>0.000000e+00</td>\n",
       "      <td>1.000000e+00</td>\n",
       "    </tr>\n",
       "    <tr>\n",
       "      <th>edu_Phd</th>\n",
       "      <td>46810.0</td>\n",
       "      <td>6.453749e-02</td>\n",
       "      <td>2.457106e-01</td>\n",
       "      <td>0.00000</td>\n",
       "      <td>0.000000</td>\n",
       "      <td>0.000000</td>\n",
       "      <td>0.000000e+00</td>\n",
       "      <td>1.000000e+00</td>\n",
       "    </tr>\n",
       "    <tr>\n",
       "      <th>edu_Professional</th>\n",
       "      <td>46810.0</td>\n",
       "      <td>3.509720e-01</td>\n",
       "      <td>4.772793e-01</td>\n",
       "      <td>0.00000</td>\n",
       "      <td>0.000000</td>\n",
       "      <td>0.000000</td>\n",
       "      <td>1.000000e+00</td>\n",
       "      <td>1.000000e+00</td>\n",
       "    </tr>\n",
       "    <tr>\n",
       "      <th>prof_SAL</th>\n",
       "      <td>46810.0</td>\n",
       "      <td>5.686392e-01</td>\n",
       "      <td>4.952715e-01</td>\n",
       "      <td>0.00000</td>\n",
       "      <td>0.000000</td>\n",
       "      <td>1.000000</td>\n",
       "      <td>1.000000e+00</td>\n",
       "      <td>1.000000e+00</td>\n",
       "    </tr>\n",
       "    <tr>\n",
       "      <th>prof_SE</th>\n",
       "      <td>46810.0</td>\n",
       "      <td>1.981628e-01</td>\n",
       "      <td>3.986197e-01</td>\n",
       "      <td>0.00000</td>\n",
       "      <td>0.000000</td>\n",
       "      <td>0.000000</td>\n",
       "      <td>0.000000e+00</td>\n",
       "      <td>1.000000e+00</td>\n",
       "    </tr>\n",
       "    <tr>\n",
       "      <th>prof_SE_PROF</th>\n",
       "      <td>46810.0</td>\n",
       "      <td>2.331980e-01</td>\n",
       "      <td>4.228718e-01</td>\n",
       "      <td>0.00000</td>\n",
       "      <td>0.000000</td>\n",
       "      <td>0.000000</td>\n",
       "      <td>0.000000e+00</td>\n",
       "      <td>1.000000e+00</td>\n",
       "    </tr>\n",
       "    <tr>\n",
       "      <th>res_type_Company provided</th>\n",
       "      <td>46810.0</td>\n",
       "      <td>2.290109e-02</td>\n",
       "      <td>1.495898e-01</td>\n",
       "      <td>0.00000</td>\n",
       "      <td>0.000000</td>\n",
       "      <td>0.000000</td>\n",
       "      <td>0.000000e+00</td>\n",
       "      <td>1.000000e+00</td>\n",
       "    </tr>\n",
       "    <tr>\n",
       "      <th>res_type_Company provided</th>\n",
       "      <td>46810.0</td>\n",
       "      <td>2.290109e-02</td>\n",
       "      <td>1.495898e-01</td>\n",
       "      <td>0.00000</td>\n",
       "      <td>0.000000</td>\n",
       "      <td>0.000000</td>\n",
       "      <td>0.000000e+00</td>\n",
       "      <td>1.000000e+00</td>\n",
       "    </tr>\n",
       "    <tr>\n",
       "      <th>res_type_Living with Parents</th>\n",
       "      <td>46810.0</td>\n",
       "      <td>2.503739e-02</td>\n",
       "      <td>1.562403e-01</td>\n",
       "      <td>0.00000</td>\n",
       "      <td>0.000000</td>\n",
       "      <td>0.000000</td>\n",
       "      <td>0.000000e+00</td>\n",
       "      <td>1.000000e+00</td>\n",
       "    </tr>\n",
       "    <tr>\n",
       "      <th>res_type_Living with Parents</th>\n",
       "      <td>46810.0</td>\n",
       "      <td>2.503739e-02</td>\n",
       "      <td>1.562403e-01</td>\n",
       "      <td>0.00000</td>\n",
       "      <td>0.000000</td>\n",
       "      <td>0.000000</td>\n",
       "      <td>0.000000e+00</td>\n",
       "      <td>1.000000e+00</td>\n",
       "    </tr>\n",
       "    <tr>\n",
       "      <th>res_type_Others</th>\n",
       "      <td>46810.0</td>\n",
       "      <td>2.883999e-03</td>\n",
       "      <td>5.362596e-02</td>\n",
       "      <td>0.00000</td>\n",
       "      <td>0.000000</td>\n",
       "      <td>0.000000</td>\n",
       "      <td>0.000000e+00</td>\n",
       "      <td>1.000000e+00</td>\n",
       "    </tr>\n",
       "    <tr>\n",
       "      <th>res_type_Others</th>\n",
       "      <td>46810.0</td>\n",
       "      <td>2.883999e-03</td>\n",
       "      <td>5.362596e-02</td>\n",
       "      <td>0.00000</td>\n",
       "      <td>0.000000</td>\n",
       "      <td>0.000000</td>\n",
       "      <td>0.000000e+00</td>\n",
       "      <td>1.000000e+00</td>\n",
       "    </tr>\n",
       "    <tr>\n",
       "      <th>res_type_Owned</th>\n",
       "      <td>46810.0</td>\n",
       "      <td>2.009827e-01</td>\n",
       "      <td>4.007394e-01</td>\n",
       "      <td>0.00000</td>\n",
       "      <td>0.000000</td>\n",
       "      <td>0.000000</td>\n",
       "      <td>0.000000e+00</td>\n",
       "      <td>1.000000e+00</td>\n",
       "    </tr>\n",
       "    <tr>\n",
       "      <th>res_type_Owned</th>\n",
       "      <td>46810.0</td>\n",
       "      <td>2.009827e-01</td>\n",
       "      <td>4.007394e-01</td>\n",
       "      <td>0.00000</td>\n",
       "      <td>0.000000</td>\n",
       "      <td>0.000000</td>\n",
       "      <td>0.000000e+00</td>\n",
       "      <td>1.000000e+00</td>\n",
       "    </tr>\n",
       "    <tr>\n",
       "      <th>res_type_Rented</th>\n",
       "      <td>46810.0</td>\n",
       "      <td>7.481948e-01</td>\n",
       "      <td>4.340545e-01</td>\n",
       "      <td>0.00000</td>\n",
       "      <td>0.000000</td>\n",
       "      <td>1.000000</td>\n",
       "      <td>1.000000e+00</td>\n",
       "      <td>1.000000e+00</td>\n",
       "    </tr>\n",
       "    <tr>\n",
       "      <th>res_type_Rented</th>\n",
       "      <td>46810.0</td>\n",
       "      <td>7.481948e-01</td>\n",
       "      <td>4.340545e-01</td>\n",
       "      <td>0.00000</td>\n",
       "      <td>0.000000</td>\n",
       "      <td>1.000000</td>\n",
       "      <td>1.000000e+00</td>\n",
       "      <td>1.000000e+00</td>\n",
       "    </tr>\n",
       "    <tr>\n",
       "      <th>months_curr_residence</th>\n",
       "      <td>46810.0</td>\n",
       "      <td>3.456608e+01</td>\n",
       "      <td>3.687802e+01</td>\n",
       "      <td>6.00000</td>\n",
       "      <td>6.000000</td>\n",
       "      <td>10.000000</td>\n",
       "      <td>6.100000e+01</td>\n",
       "      <td>1.260000e+02</td>\n",
       "    </tr>\n",
       "    <tr>\n",
       "      <th>months_curr_company</th>\n",
       "      <td>46810.0</td>\n",
       "      <td>3.420169e+01</td>\n",
       "      <td>2.032432e+01</td>\n",
       "      <td>3.00000</td>\n",
       "      <td>17.000000</td>\n",
       "      <td>34.000000</td>\n",
       "      <td>5.100000e+01</td>\n",
       "      <td>8.500000e+01</td>\n",
       "    </tr>\n",
       "    <tr>\n",
       "      <th>90_dpd_6m</th>\n",
       "      <td>46810.0</td>\n",
       "      <td>2.482376e-01</td>\n",
       "      <td>5.059301e-01</td>\n",
       "      <td>0.00000</td>\n",
       "      <td>0.000000</td>\n",
       "      <td>0.000000</td>\n",
       "      <td>0.000000e+00</td>\n",
       "      <td>3.000000e+00</td>\n",
       "    </tr>\n",
       "    <tr>\n",
       "      <th>60_dpd_6m</th>\n",
       "      <td>46810.0</td>\n",
       "      <td>3.906217e-01</td>\n",
       "      <td>7.707962e-01</td>\n",
       "      <td>0.00000</td>\n",
       "      <td>0.000000</td>\n",
       "      <td>0.000000</td>\n",
       "      <td>1.000000e+00</td>\n",
       "      <td>5.000000e+00</td>\n",
       "    </tr>\n",
       "    <tr>\n",
       "      <th>30_dpd_6m</th>\n",
       "      <td>46810.0</td>\n",
       "      <td>5.213630e-01</td>\n",
       "      <td>9.977558e-01</td>\n",
       "      <td>0.00000</td>\n",
       "      <td>0.000000</td>\n",
       "      <td>0.000000</td>\n",
       "      <td>1.000000e+00</td>\n",
       "      <td>7.000000e+00</td>\n",
       "    </tr>\n",
       "    <tr>\n",
       "      <th>90_dpd_12m</th>\n",
       "      <td>46810.0</td>\n",
       "      <td>4.123264e-01</td>\n",
       "      <td>7.616259e-01</td>\n",
       "      <td>0.00000</td>\n",
       "      <td>0.000000</td>\n",
       "      <td>0.000000</td>\n",
       "      <td>1.000000e+00</td>\n",
       "      <td>5.000000e+00</td>\n",
       "    </tr>\n",
       "    <tr>\n",
       "      <th>60_dpd_12m</th>\n",
       "      <td>46810.0</td>\n",
       "      <td>6.013886e-01</td>\n",
       "      <td>1.017895e+00</td>\n",
       "      <td>0.00000</td>\n",
       "      <td>0.000000</td>\n",
       "      <td>0.000000</td>\n",
       "      <td>1.000000e+00</td>\n",
       "      <td>7.000000e+00</td>\n",
       "    </tr>\n",
       "    <tr>\n",
       "      <th>30_dpd_12m</th>\n",
       "      <td>46810.0</td>\n",
       "      <td>7.318735e-01</td>\n",
       "      <td>1.239778e+00</td>\n",
       "      <td>0.00000</td>\n",
       "      <td>0.000000</td>\n",
       "      <td>0.000000</td>\n",
       "      <td>1.000000e+00</td>\n",
       "      <td>9.000000e+00</td>\n",
       "    </tr>\n",
       "    <tr>\n",
       "      <th>cc_util</th>\n",
       "      <td>46810.0</td>\n",
       "      <td>2.901117e+01</td>\n",
       "      <td>2.930403e+01</td>\n",
       "      <td>0.00000</td>\n",
       "      <td>8.000000</td>\n",
       "      <td>15.000000</td>\n",
       "      <td>4.400000e+01</td>\n",
       "      <td>1.130000e+02</td>\n",
       "    </tr>\n",
       "    <tr>\n",
       "      <th>trades_6m</th>\n",
       "      <td>46810.0</td>\n",
       "      <td>2.279150e+00</td>\n",
       "      <td>2.077086e+00</td>\n",
       "      <td>0.00000</td>\n",
       "      <td>1.000000</td>\n",
       "      <td>2.000000</td>\n",
       "      <td>3.000000e+00</td>\n",
       "      <td>1.200000e+01</td>\n",
       "    </tr>\n",
       "    <tr>\n",
       "      <th>trades_12m</th>\n",
       "      <td>46810.0</td>\n",
       "      <td>5.764794e+00</td>\n",
       "      <td>5.086692e+00</td>\n",
       "      <td>0.00000</td>\n",
       "      <td>2.000000</td>\n",
       "      <td>4.000000</td>\n",
       "      <td>9.000000e+00</td>\n",
       "      <td>2.800000e+01</td>\n",
       "    </tr>\n",
       "    <tr>\n",
       "      <th>pl_trades_6m</th>\n",
       "      <td>46810.0</td>\n",
       "      <td>1.185067e+00</td>\n",
       "      <td>1.349750e+00</td>\n",
       "      <td>0.00000</td>\n",
       "      <td>0.000000</td>\n",
       "      <td>1.000000</td>\n",
       "      <td>2.000000e+00</td>\n",
       "      <td>6.000000e+00</td>\n",
       "    </tr>\n",
       "    <tr>\n",
       "      <th>pl_trades_12m</th>\n",
       "      <td>46810.0</td>\n",
       "      <td>2.354582e+00</td>\n",
       "      <td>2.419181e+00</td>\n",
       "      <td>0.00000</td>\n",
       "      <td>0.000000</td>\n",
       "      <td>2.000000</td>\n",
       "      <td>4.000000e+00</td>\n",
       "      <td>1.200000e+01</td>\n",
       "    </tr>\n",
       "    <tr>\n",
       "      <th>inquiries_6m</th>\n",
       "      <td>46810.0</td>\n",
       "      <td>1.754262e+00</td>\n",
       "      <td>1.986379e+00</td>\n",
       "      <td>0.00000</td>\n",
       "      <td>0.000000</td>\n",
       "      <td>1.000000</td>\n",
       "      <td>3.000000e+00</td>\n",
       "      <td>1.000000e+01</td>\n",
       "    </tr>\n",
       "    <tr>\n",
       "      <th>inquiries_12m</th>\n",
       "      <td>46810.0</td>\n",
       "      <td>3.520038e+00</td>\n",
       "      <td>3.609740e+00</td>\n",
       "      <td>0.00000</td>\n",
       "      <td>0.000000</td>\n",
       "      <td>3.000000</td>\n",
       "      <td>5.000000e+00</td>\n",
       "      <td>2.000000e+01</td>\n",
       "    </tr>\n",
       "    <tr>\n",
       "      <th>open_home_loan</th>\n",
       "      <td>46810.0</td>\n",
       "      <td>2.589831e-01</td>\n",
       "      <td>4.380810e-01</td>\n",
       "      <td>0.00000</td>\n",
       "      <td>0.000000</td>\n",
       "      <td>0.000000</td>\n",
       "      <td>1.000000e+00</td>\n",
       "      <td>1.000000e+00</td>\n",
       "    </tr>\n",
       "    <tr>\n",
       "      <th>outstanding_bal</th>\n",
       "      <td>46810.0</td>\n",
       "      <td>1.250931e+06</td>\n",
       "      <td>1.285737e+06</td>\n",
       "      <td>0.00000</td>\n",
       "      <td>208364.250000</td>\n",
       "      <td>774585.000000</td>\n",
       "      <td>2.924845e+06</td>\n",
       "      <td>5.218801e+06</td>\n",
       "    </tr>\n",
       "    <tr>\n",
       "      <th>total_trades</th>\n",
       "      <td>46810.0</td>\n",
       "      <td>8.151869e+00</td>\n",
       "      <td>7.140920e+00</td>\n",
       "      <td>0.00000</td>\n",
       "      <td>3.000000</td>\n",
       "      <td>6.000000</td>\n",
       "      <td>1.000000e+01</td>\n",
       "      <td>4.300000e+01</td>\n",
       "    </tr>\n",
       "    <tr>\n",
       "      <th>open_auto_loan</th>\n",
       "      <td>46810.0</td>\n",
       "      <td>8.498184e-02</td>\n",
       "      <td>2.788577e-01</td>\n",
       "      <td>0.00000</td>\n",
       "      <td>0.000000</td>\n",
       "      <td>0.000000</td>\n",
       "      <td>0.000000e+00</td>\n",
       "      <td>1.000000e+00</td>\n",
       "    </tr>\n",
       "  </tbody>\n",
       "</table>\n",
       "</div>"
      ],
      "text/plain": [
       "                                count          mean           std       min  \\\n",
       "age                           46810.0  4.500686e+01  9.925163e+00  20.00000   \n",
       "gender                        46810.0  7.614826e-01  4.261816e-01   0.00000   \n",
       "marital                       46810.0  8.516984e-01  3.554025e-01   0.00000   \n",
       "no_of_dependents              46810.0  2.865349e+00  1.384306e+00   1.00000   \n",
       "income-bin                    46810.0 -1.839279e-02  1.984005e-01  -0.34496   \n",
       "edu_Bachelor                  46810.0  2.477462e-01  4.317082e-01   0.00000   \n",
       "edu_Masters                   46810.0  3.348857e-01  4.719555e-01   0.00000   \n",
       "edu_Others                    46810.0  1.858577e-03  4.307160e-02   0.00000   \n",
       "edu_Phd                       46810.0  6.453749e-02  2.457106e-01   0.00000   \n",
       "edu_Professional              46810.0  3.509720e-01  4.772793e-01   0.00000   \n",
       "prof_SAL                      46810.0  5.686392e-01  4.952715e-01   0.00000   \n",
       "prof_SE                       46810.0  1.981628e-01  3.986197e-01   0.00000   \n",
       "prof_SE_PROF                  46810.0  2.331980e-01  4.228718e-01   0.00000   \n",
       "res_type_Company provided     46810.0  2.290109e-02  1.495898e-01   0.00000   \n",
       "res_type_Company provided     46810.0  2.290109e-02  1.495898e-01   0.00000   \n",
       "res_type_Living with Parents  46810.0  2.503739e-02  1.562403e-01   0.00000   \n",
       "res_type_Living with Parents  46810.0  2.503739e-02  1.562403e-01   0.00000   \n",
       "res_type_Others               46810.0  2.883999e-03  5.362596e-02   0.00000   \n",
       "res_type_Others               46810.0  2.883999e-03  5.362596e-02   0.00000   \n",
       "res_type_Owned                46810.0  2.009827e-01  4.007394e-01   0.00000   \n",
       "res_type_Owned                46810.0  2.009827e-01  4.007394e-01   0.00000   \n",
       "res_type_Rented               46810.0  7.481948e-01  4.340545e-01   0.00000   \n",
       "res_type_Rented               46810.0  7.481948e-01  4.340545e-01   0.00000   \n",
       "months_curr_residence         46810.0  3.456608e+01  3.687802e+01   6.00000   \n",
       "months_curr_company           46810.0  3.420169e+01  2.032432e+01   3.00000   \n",
       "90_dpd_6m                     46810.0  2.482376e-01  5.059301e-01   0.00000   \n",
       "60_dpd_6m                     46810.0  3.906217e-01  7.707962e-01   0.00000   \n",
       "30_dpd_6m                     46810.0  5.213630e-01  9.977558e-01   0.00000   \n",
       "90_dpd_12m                    46810.0  4.123264e-01  7.616259e-01   0.00000   \n",
       "60_dpd_12m                    46810.0  6.013886e-01  1.017895e+00   0.00000   \n",
       "30_dpd_12m                    46810.0  7.318735e-01  1.239778e+00   0.00000   \n",
       "cc_util                       46810.0  2.901117e+01  2.930403e+01   0.00000   \n",
       "trades_6m                     46810.0  2.279150e+00  2.077086e+00   0.00000   \n",
       "trades_12m                    46810.0  5.764794e+00  5.086692e+00   0.00000   \n",
       "pl_trades_6m                  46810.0  1.185067e+00  1.349750e+00   0.00000   \n",
       "pl_trades_12m                 46810.0  2.354582e+00  2.419181e+00   0.00000   \n",
       "inquiries_6m                  46810.0  1.754262e+00  1.986379e+00   0.00000   \n",
       "inquiries_12m                 46810.0  3.520038e+00  3.609740e+00   0.00000   \n",
       "open_home_loan                46810.0  2.589831e-01  4.380810e-01   0.00000   \n",
       "outstanding_bal               46810.0  1.250931e+06  1.285737e+06   0.00000   \n",
       "total_trades                  46810.0  8.151869e+00  7.140920e+00   0.00000   \n",
       "open_auto_loan                46810.0  8.498184e-02  2.788577e-01   0.00000   \n",
       "\n",
       "                                        25%            50%           75%  \\\n",
       "age                               37.000000      45.000000  5.300000e+01   \n",
       "gender                             1.000000       1.000000  1.000000e+00   \n",
       "marital                            1.000000       1.000000  1.000000e+00   \n",
       "no_of_dependents                   2.000000       3.000000  4.000000e+00   \n",
       "income-bin                        -0.201972      -0.007797  5.067845e-02   \n",
       "edu_Bachelor                       0.000000       0.000000  0.000000e+00   \n",
       "edu_Masters                        0.000000       0.000000  1.000000e+00   \n",
       "edu_Others                         0.000000       0.000000  0.000000e+00   \n",
       "edu_Phd                            0.000000       0.000000  0.000000e+00   \n",
       "edu_Professional                   0.000000       0.000000  1.000000e+00   \n",
       "prof_SAL                           0.000000       1.000000  1.000000e+00   \n",
       "prof_SE                            0.000000       0.000000  0.000000e+00   \n",
       "prof_SE_PROF                       0.000000       0.000000  0.000000e+00   \n",
       "res_type_Company provided          0.000000       0.000000  0.000000e+00   \n",
       "res_type_Company provided          0.000000       0.000000  0.000000e+00   \n",
       "res_type_Living with Parents       0.000000       0.000000  0.000000e+00   \n",
       "res_type_Living with Parents       0.000000       0.000000  0.000000e+00   \n",
       "res_type_Others                    0.000000       0.000000  0.000000e+00   \n",
       "res_type_Others                    0.000000       0.000000  0.000000e+00   \n",
       "res_type_Owned                     0.000000       0.000000  0.000000e+00   \n",
       "res_type_Owned                     0.000000       0.000000  0.000000e+00   \n",
       "res_type_Rented                    0.000000       1.000000  1.000000e+00   \n",
       "res_type_Rented                    0.000000       1.000000  1.000000e+00   \n",
       "months_curr_residence              6.000000      10.000000  6.100000e+01   \n",
       "months_curr_company               17.000000      34.000000  5.100000e+01   \n",
       "90_dpd_6m                          0.000000       0.000000  0.000000e+00   \n",
       "60_dpd_6m                          0.000000       0.000000  1.000000e+00   \n",
       "30_dpd_6m                          0.000000       0.000000  1.000000e+00   \n",
       "90_dpd_12m                         0.000000       0.000000  1.000000e+00   \n",
       "60_dpd_12m                         0.000000       0.000000  1.000000e+00   \n",
       "30_dpd_12m                         0.000000       0.000000  1.000000e+00   \n",
       "cc_util                            8.000000      15.000000  4.400000e+01   \n",
       "trades_6m                          1.000000       2.000000  3.000000e+00   \n",
       "trades_12m                         2.000000       4.000000  9.000000e+00   \n",
       "pl_trades_6m                       0.000000       1.000000  2.000000e+00   \n",
       "pl_trades_12m                      0.000000       2.000000  4.000000e+00   \n",
       "inquiries_6m                       0.000000       1.000000  3.000000e+00   \n",
       "inquiries_12m                      0.000000       3.000000  5.000000e+00   \n",
       "open_home_loan                     0.000000       0.000000  1.000000e+00   \n",
       "outstanding_bal               208364.250000  774585.000000  2.924845e+06   \n",
       "total_trades                       3.000000       6.000000  1.000000e+01   \n",
       "open_auto_loan                     0.000000       0.000000  0.000000e+00   \n",
       "\n",
       "                                       max  \n",
       "age                           6.500000e+01  \n",
       "gender                        1.000000e+00  \n",
       "marital                       1.000000e+00  \n",
       "no_of_dependents              5.000000e+00  \n",
       "income-bin                    3.530359e-01  \n",
       "edu_Bachelor                  1.000000e+00  \n",
       "edu_Masters                   1.000000e+00  \n",
       "edu_Others                    1.000000e+00  \n",
       "edu_Phd                       1.000000e+00  \n",
       "edu_Professional              1.000000e+00  \n",
       "prof_SAL                      1.000000e+00  \n",
       "prof_SE                       1.000000e+00  \n",
       "prof_SE_PROF                  1.000000e+00  \n",
       "res_type_Company provided     1.000000e+00  \n",
       "res_type_Company provided     1.000000e+00  \n",
       "res_type_Living with Parents  1.000000e+00  \n",
       "res_type_Living with Parents  1.000000e+00  \n",
       "res_type_Others               1.000000e+00  \n",
       "res_type_Others               1.000000e+00  \n",
       "res_type_Owned                1.000000e+00  \n",
       "res_type_Owned                1.000000e+00  \n",
       "res_type_Rented               1.000000e+00  \n",
       "res_type_Rented               1.000000e+00  \n",
       "months_curr_residence         1.260000e+02  \n",
       "months_curr_company           8.500000e+01  \n",
       "90_dpd_6m                     3.000000e+00  \n",
       "60_dpd_6m                     5.000000e+00  \n",
       "30_dpd_6m                     7.000000e+00  \n",
       "90_dpd_12m                    5.000000e+00  \n",
       "60_dpd_12m                    7.000000e+00  \n",
       "30_dpd_12m                    9.000000e+00  \n",
       "cc_util                       1.130000e+02  \n",
       "trades_6m                     1.200000e+01  \n",
       "trades_12m                    2.800000e+01  \n",
       "pl_trades_6m                  6.000000e+00  \n",
       "pl_trades_12m                 1.200000e+01  \n",
       "inquiries_6m                  1.000000e+01  \n",
       "inquiries_12m                 2.000000e+01  \n",
       "open_home_loan                1.000000e+00  \n",
       "outstanding_bal               5.218801e+06  \n",
       "total_trades                  4.300000e+01  \n",
       "open_auto_loan                1.000000e+00  "
      ]
     },
     "execution_count": 499,
     "metadata": {},
     "output_type": "execute_result"
    }
   ],
   "source": [
    "X_train[cols].describe().T"
   ]
  },
  {
   "cell_type": "code",
   "execution_count": 500,
   "metadata": {
    "ExecuteTime": {
     "end_time": "2019-09-11T11:41:30.429000Z",
     "start_time": "2019-09-11T11:41:30.079000Z"
    }
   },
   "outputs": [],
   "source": [
    "sm = SMOTE(random_state=121, ratio=1.0)\n",
    "X_train_smote, y_train_smote = sm.fit_sample(X_train[cols], y_train)"
   ]
  },
  {
   "cell_type": "code",
   "execution_count": 501,
   "metadata": {
    "ExecuteTime": {
     "end_time": "2019-09-11T11:44:54.515000Z",
     "start_time": "2019-09-11T11:41:30.430000Z"
    }
   },
   "outputs": [
    {
     "name": "stdout",
     "output_type": "stream",
     "text": [
      "Fitting 5 folds for each of 24 candidates, totalling 120 fits\n"
     ]
    },
    {
     "name": "stderr",
     "output_type": "stream",
     "text": [
      "[Parallel(n_jobs=-1)]: Using backend LokyBackend with 15 concurrent workers.\n",
      "[Parallel(n_jobs=-1)]: Done   2 tasks      | elapsed:   10.7s\n",
      "[Parallel(n_jobs=-1)]: Done  11 tasks      | elapsed:   27.6s\n",
      "[Parallel(n_jobs=-1)]: Done  20 tasks      | elapsed:   50.8s\n",
      "[Parallel(n_jobs=-1)]: Done  31 tasks      | elapsed:  1.1min\n",
      "[Parallel(n_jobs=-1)]: Done  42 tasks      | elapsed:  1.4min\n",
      "[Parallel(n_jobs=-1)]: Done  55 tasks      | elapsed:  1.9min\n",
      "[Parallel(n_jobs=-1)]: Done  68 tasks      | elapsed:  2.2min\n",
      "[Parallel(n_jobs=-1)]: Done  83 tasks      | elapsed:  2.6min\n",
      "[Parallel(n_jobs=-1)]: Done 104 out of 120 | elapsed:  3.0min remaining:   27.7s\n",
      "[Parallel(n_jobs=-1)]: Done 117 out of 120 | elapsed:  3.3min remaining:    5.0s\n",
      "[Parallel(n_jobs=-1)]: Done 120 out of 120 | elapsed:  3.4min finished\n"
     ]
    },
    {
     "data": {
      "text/plain": [
       "GridSearchCV(cv=5, error_score='raise-deprecating',\n",
       "       estimator=Pipeline(memory=None,\n",
       "     steps=[('scale', StandardScaler(copy=True, with_mean=True, with_std=True)), ('clf', LogisticRegression(C=1.0, class_weight='balanced', dual=False,\n",
       "          fit_intercept=True, intercept_scaling=1, max_iter=100,\n",
       "          multi_class='warn', n_jobs=None, penalty='l2', random_state=None,\n",
       "          solver='liblinear', tol=0.0001, verbose=0, warm_start=False))]),\n",
       "       fit_params=None, iid='warn', n_jobs=-1,\n",
       "       param_grid={'clf__penalty': ['l1', 'l2'], 'clf__C': [1.0, 0.75, 0.55, 0.45], 'clf__intercept_scaling': [1, 1.25, 1.5]},\n",
       "       pre_dispatch='2*n_jobs', refit=True, return_train_score=True,\n",
       "       scoring='roc_auc', verbose=10)"
      ]
     },
     "execution_count": 501,
     "metadata": {},
     "output_type": "execute_result"
    }
   ],
   "source": [
    "grid.fit(X_train_smote, y_train_smote)"
   ]
  },
  {
   "cell_type": "code",
   "execution_count": 502,
   "metadata": {
    "ExecuteTime": {
     "end_time": "2019-09-11T11:44:54.523000Z",
     "start_time": "2019-09-11T11:44:54.516000Z"
    }
   },
   "outputs": [
    {
     "data": {
      "text/plain": [
       "{'clf__C': 0.75, 'clf__intercept_scaling': 1.5, 'clf__penalty': 'l2'}"
      ]
     },
     "execution_count": 502,
     "metadata": {},
     "output_type": "execute_result"
    }
   ],
   "source": [
    "grid.best_params_"
   ]
  },
  {
   "cell_type": "code",
   "execution_count": 503,
   "metadata": {
    "ExecuteTime": {
     "end_time": "2019-09-11T11:44:54.539000Z",
     "start_time": "2019-09-11T11:44:54.525000Z"
    }
   },
   "outputs": [],
   "source": [
    "# using the tuned hyperparameter to train best logistic regression model on full data\n",
    "log_reg = LogisticRegression(C=0.55, penalty='l1', class_weight='balanced', solver='liblinear')"
   ]
  },
  {
   "cell_type": "code",
   "execution_count": 504,
   "metadata": {
    "ExecuteTime": {
     "end_time": "2019-09-11T11:44:54.704000Z",
     "start_time": "2019-09-11T11:44:54.540000Z"
    }
   },
   "outputs": [],
   "source": [
    "# Manual Scaling as not using the pipeline\n",
    "sc = StandardScaler()\n",
    "X_train_scaled = sc.fit_transform(X_train_smote)\n",
    "X_test_scaled = sc.transform(X_test[cols])"
   ]
  },
  {
   "cell_type": "code",
   "execution_count": 505,
   "metadata": {
    "ExecuteTime": {
     "end_time": "2019-09-11T11:45:00.052000Z",
     "start_time": "2019-09-11T11:44:54.705000Z"
    }
   },
   "outputs": [
    {
     "data": {
      "text/plain": [
       "LogisticRegression(C=0.55, class_weight='balanced', dual=False,\n",
       "          fit_intercept=True, intercept_scaling=1, max_iter=100,\n",
       "          multi_class='warn', n_jobs=None, penalty='l1', random_state=None,\n",
       "          solver='liblinear', tol=0.0001, verbose=0, warm_start=False)"
      ]
     },
     "execution_count": 505,
     "metadata": {},
     "output_type": "execute_result"
    }
   ],
   "source": [
    "log_reg.fit(X_train_scaled, y_train_smote)"
   ]
  },
  {
   "cell_type": "markdown",
   "metadata": {},
   "source": [
    "##### Train Score"
   ]
  },
  {
   "cell_type": "code",
   "execution_count": 506,
   "metadata": {
    "ExecuteTime": {
     "end_time": "2019-09-11T11:45:00.084000Z",
     "start_time": "2019-09-11T11:45:00.058000Z"
    }
   },
   "outputs": [],
   "source": [
    "pred_smote_tr = log_reg.predict(X_train_scaled)"
   ]
  },
  {
   "cell_type": "code",
   "execution_count": 507,
   "metadata": {
    "ExecuteTime": {
     "end_time": "2019-09-11T11:45:00.195000Z",
     "start_time": "2019-09-11T11:45:00.088000Z"
    }
   },
   "outputs": [
    {
     "data": {
      "text/plain": [
       "array([[27996, 16840],\n",
       "       [14873, 29963]], dtype=int64)"
      ]
     },
     "execution_count": 507,
     "metadata": {},
     "output_type": "execute_result"
    }
   ],
   "source": [
    "confusion_matrix(y_train_smote, pred_smote_tr)"
   ]
  },
  {
   "cell_type": "code",
   "execution_count": 508,
   "metadata": {
    "ExecuteTime": {
     "end_time": "2019-09-11T11:45:00.336000Z",
     "start_time": "2019-09-11T11:45:00.210000Z"
    }
   },
   "outputs": [
    {
     "name": "stdout",
     "output_type": "stream",
     "text": [
      "              precision    recall  f1-score   support\n",
      "\n",
      "         0.0       0.65      0.62      0.64     44836\n",
      "         1.0       0.64      0.67      0.65     44836\n",
      "\n",
      "   micro avg       0.65      0.65      0.65     89672\n",
      "   macro avg       0.65      0.65      0.65     89672\n",
      "weighted avg       0.65      0.65      0.65     89672\n",
      "\n"
     ]
    }
   ],
   "source": [
    "print(classification_report(y_train_smote, pred_smote_tr))"
   ]
  },
  {
   "cell_type": "code",
   "execution_count": 509,
   "metadata": {
    "ExecuteTime": {
     "end_time": "2019-09-11T11:45:00.355000Z",
     "start_time": "2019-09-11T11:45:00.340000Z"
    }
   },
   "outputs": [
    {
     "data": {
      "text/plain": [
       "0.6463444553483808"
      ]
     },
     "execution_count": 509,
     "metadata": {},
     "output_type": "execute_result"
    }
   ],
   "source": [
    "accuracy_score(y_train_smote, pred_smote_tr)"
   ]
  },
  {
   "cell_type": "markdown",
   "metadata": {},
   "source": [
    "##### Test Score"
   ]
  },
  {
   "cell_type": "code",
   "execution_count": 510,
   "metadata": {
    "ExecuteTime": {
     "end_time": "2019-09-11T11:45:00.365000Z",
     "start_time": "2019-09-11T11:45:00.357000Z"
    }
   },
   "outputs": [],
   "source": [
    "pred_smote_te = log_reg.predict(X_test_scaled)"
   ]
  },
  {
   "cell_type": "code",
   "execution_count": 511,
   "metadata": {
    "ExecuteTime": {
     "end_time": "2019-09-11T11:45:00.406000Z",
     "start_time": "2019-09-11T11:45:00.369000Z"
    }
   },
   "outputs": [
    {
     "data": {
      "text/plain": [
       "array([[13663,  8421],\n",
       "       [  363,   610]], dtype=int64)"
      ]
     },
     "execution_count": 511,
     "metadata": {},
     "output_type": "execute_result"
    }
   ],
   "source": [
    "confusion_matrix(y_test, pred_smote_te)"
   ]
  },
  {
   "cell_type": "code",
   "execution_count": 512,
   "metadata": {
    "ExecuteTime": {
     "end_time": "2019-09-11T11:45:00.445000Z",
     "start_time": "2019-09-11T11:45:00.407000Z"
    },
    "scrolled": true
   },
   "outputs": [
    {
     "name": "stdout",
     "output_type": "stream",
     "text": [
      "              precision    recall  f1-score   support\n",
      "\n",
      "         0.0       0.97      0.62      0.76     22084\n",
      "         1.0       0.07      0.63      0.12       973\n",
      "\n",
      "   micro avg       0.62      0.62      0.62     23057\n",
      "   macro avg       0.52      0.62      0.44     23057\n",
      "weighted avg       0.94      0.62      0.73     23057\n",
      "\n"
     ]
    }
   ],
   "source": [
    "print(classification_report(y_test, pred_smote_te))"
   ]
  },
  {
   "cell_type": "code",
   "execution_count": 513,
   "metadata": {
    "ExecuteTime": {
     "end_time": "2019-09-11T11:45:00.455000Z",
     "start_time": "2019-09-11T11:45:00.447000Z"
    }
   },
   "outputs": [
    {
     "data": {
      "text/plain": [
       "0.6190310968469446"
      ]
     },
     "execution_count": 513,
     "metadata": {},
     "output_type": "execute_result"
    }
   ],
   "source": [
    "# Accuracy Score\n",
    "accuracy_score(y_test, pred_smote_te)"
   ]
  },
  {
   "cell_type": "markdown",
   "metadata": {},
   "source": [
    "Test accuracy score jumped from `55.1%` to `62.3%` when we included credit bureau data."
   ]
  },
  {
   "cell_type": "markdown",
   "metadata": {},
   "source": [
    "### Random Forest"
   ]
  },
  {
   "cell_type": "code",
   "execution_count": 514,
   "metadata": {
    "ExecuteTime": {
     "end_time": "2019-09-11T11:45:00.470000Z",
     "start_time": "2019-09-11T11:45:00.459000Z"
    }
   },
   "outputs": [],
   "source": [
    "from sklearn.ensemble import RandomForestClassifier"
   ]
  },
  {
   "cell_type": "code",
   "execution_count": 515,
   "metadata": {
    "ExecuteTime": {
     "end_time": "2019-09-11T11:45:00.491000Z",
     "start_time": "2019-09-11T11:45:00.471000Z"
    }
   },
   "outputs": [
    {
     "data": {
      "text/plain": [
       "Index(['id', 'age', 'gender', 'marital', 'no_of_dependents', 'income',\n",
       "       'education', 'profession', 'residence_type', 'months_curr_residence',\n",
       "       'months_curr_company', '90_dpd_6m', '60_dpd_6m', '30_dpd_6m',\n",
       "       '90_dpd_12m', '60_dpd_12m', '30_dpd_12m', 'cc_util', 'trades_6m',\n",
       "       'trades_12m', 'pl_trades_6m', 'pl_trades_12m', 'inquiries_6m',\n",
       "       'inquiries_12m', 'open_home_loan', 'outstanding_bal', 'total_trades',\n",
       "       'open_auto_loan', 'performance', 'income-bin', 'edu_Bachelor',\n",
       "       'edu_Masters', 'edu_Others', 'edu_Phd', 'edu_Professional', 'prof_SAL',\n",
       "       'prof_SE', 'prof_SE_PROF', 'res_type_Company provided',\n",
       "       'res_type_Living with Parents', 'res_type_Others', 'res_type_Owned',\n",
       "       'res_type_Rented', 'res_type_Company provided',\n",
       "       'res_type_Living with Parents', 'res_type_Others', 'res_type_Owned',\n",
       "       'res_type_Rented'],\n",
       "      dtype='object')"
      ]
     },
     "execution_count": 515,
     "metadata": {},
     "output_type": "execute_result"
    }
   ],
   "source": [
    "df.columns"
   ]
  },
  {
   "cell_type": "code",
   "execution_count": 516,
   "metadata": {
    "ExecuteTime": {
     "end_time": "2019-09-11T11:45:00.500000Z",
     "start_time": "2019-09-11T11:45:00.492000Z"
    }
   },
   "outputs": [],
   "source": [
    "cols = ['age', 'gender', 'marital', 'no_of_dependents', 'income',\n",
    "        'edu_Bachelor', 'edu_Masters', 'edu_Others', 'edu_Phd', 'edu_Professional',\n",
    "        'prof_SAL', 'prof_SE', 'prof_SE_PROF', \n",
    "        'res_type_Company provided', 'res_type_Living with Parents', 'res_type_Others', 'res_type_Owned', 'res_type_Rented',\n",
    "        'months_curr_residence', 'months_curr_company', '90_dpd_6m', '60_dpd_6m', '30_dpd_6m', '90_dpd_12m', '60_dpd_12m',\n",
    "        '30_dpd_12m', 'cc_util', 'trades_6m', 'trades_12m', 'pl_trades_6m', 'pl_trades_12m', 'inquiries_6m', 'inquiries_12m',\n",
    "        'open_home_loan', 'outstanding_bal', 'total_trades', 'open_auto_loan']"
   ]
  },
  {
   "cell_type": "code",
   "execution_count": 517,
   "metadata": {
    "ExecuteTime": {
     "end_time": "2019-09-11T11:45:00.530000Z",
     "start_time": "2019-09-11T11:45:00.501000Z"
    }
   },
   "outputs": [
    {
     "data": {
      "text/plain": [
       "((46810, 42), (46810,), (23057, 42), (23057,))"
      ]
     },
     "execution_count": 517,
     "metadata": {},
     "output_type": "execute_result"
    }
   ],
   "source": [
    "X_train[cols].shape, y_train.shape, X_test[cols].shape, y_test.shape"
   ]
  },
  {
   "cell_type": "code",
   "execution_count": 518,
   "metadata": {
    "ExecuteTime": {
     "end_time": "2019-09-11T11:45:00.537000Z",
     "start_time": "2019-09-11T11:45:00.531000Z"
    }
   },
   "outputs": [],
   "source": [
    "pipe = Pipeline([('clf',RandomForestClassifier(class_weight='balanced',n_jobs=-1))])"
   ]
  },
  {
   "cell_type": "code",
   "execution_count": 519,
   "metadata": {
    "ExecuteTime": {
     "end_time": "2019-09-11T11:45:00.556000Z",
     "start_time": "2019-09-11T11:45:00.539000Z"
    }
   },
   "outputs": [],
   "source": [
    "param_grid = dict(clf__max_depth=[13, 14, 15, 16],\n",
    "                  clf__n_estimators=[85,90,100,120])"
   ]
  },
  {
   "cell_type": "code",
   "execution_count": 520,
   "metadata": {
    "ExecuteTime": {
     "end_time": "2019-09-11T11:45:00.624000Z",
     "start_time": "2019-09-11T11:45:00.570000Z"
    }
   },
   "outputs": [],
   "source": [
    "from sklearn.model_selection import StratifiedKFold\n",
    "folds = 3\n",
    "skf = StratifiedKFold(n_splits=folds, shuffle = True, random_state = 101)"
   ]
  },
  {
   "cell_type": "code",
   "execution_count": 521,
   "metadata": {
    "ExecuteTime": {
     "end_time": "2019-09-11T11:45:00.642000Z",
     "start_time": "2019-09-11T11:45:00.629000Z"
    }
   },
   "outputs": [],
   "source": [
    "grid = GridSearchCV(pipe,\n",
    "                    param_grid=param_grid,\n",
    "                    cv=skf.split(X_train[cols], y_train),\n",
    "                    n_jobs=-1,\n",
    "                    verbose=10,\n",
    "                    scoring= 'roc_auc',\n",
    "                    return_train_score=True)"
   ]
  },
  {
   "cell_type": "code",
   "execution_count": 522,
   "metadata": {
    "ExecuteTime": {
     "end_time": "2019-09-11T11:46:53.603000Z",
     "start_time": "2019-09-11T11:45:00.646000Z"
    }
   },
   "outputs": [
    {
     "name": "stdout",
     "output_type": "stream",
     "text": [
      "Fitting 3 folds for each of 16 candidates, totalling 48 fits\n"
     ]
    },
    {
     "name": "stderr",
     "output_type": "stream",
     "text": [
      "[Parallel(n_jobs=-1)]: Using backend LokyBackend with 15 concurrent workers.\n",
      "[Parallel(n_jobs=-1)]: Done   2 tasks      | elapsed:   29.9s\n",
      "[Parallel(n_jobs=-1)]: Done  11 tasks      | elapsed:   31.9s\n",
      "[Parallel(n_jobs=-1)]: Done  24 out of  48 | elapsed:  1.1min remaining:  1.1min\n",
      "[Parallel(n_jobs=-1)]: Done  29 out of  48 | elapsed:  1.1min remaining:   43.7s\n",
      "[Parallel(n_jobs=-1)]: Done  34 out of  48 | elapsed:  1.6min remaining:   40.6s\n",
      "[Parallel(n_jobs=-1)]: Done  39 out of  48 | elapsed:  1.7min remaining:   23.0s\n",
      "[Parallel(n_jobs=-1)]: Done  44 out of  48 | elapsed:  1.7min remaining:    9.1s\n",
      "[Parallel(n_jobs=-1)]: Done  48 out of  48 | elapsed:  1.8min finished\n"
     ]
    },
    {
     "data": {
      "text/plain": [
       "GridSearchCV(cv=<generator object _BaseKFold.split at 0x00000000162517C8>,\n",
       "       error_score='raise-deprecating',\n",
       "       estimator=Pipeline(memory=None,\n",
       "     steps=[('clf', RandomForestClassifier(bootstrap=True, class_weight='balanced',\n",
       "            criterion='gini', max_depth=None, max_features='auto',\n",
       "            max_leaf_nodes=None, min_impurity_decrease=0.0,\n",
       "            min_impurity_split=None, min_samples_leaf=1,\n",
       "            min_samples_split=2, min_weight_fraction_leaf=0.0,\n",
       "            n_estimators='warn', n_jobs=-1, oob_score=False,\n",
       "            random_state=None, verbose=0, warm_start=False))]),\n",
       "       fit_params=None, iid='warn', n_jobs=-1,\n",
       "       param_grid={'clf__max_depth': [13, 14, 15, 16], 'clf__n_estimators': [85, 90, 100, 120]},\n",
       "       pre_dispatch='2*n_jobs', refit=True, return_train_score=True,\n",
       "       scoring='roc_auc', verbose=10)"
      ]
     },
     "execution_count": 522,
     "metadata": {},
     "output_type": "execute_result"
    }
   ],
   "source": [
    "grid.fit(X_train[cols], y_train)"
   ]
  },
  {
   "cell_type": "code",
   "execution_count": 523,
   "metadata": {
    "ExecuteTime": {
     "end_time": "2019-09-11T11:46:53.612000Z",
     "start_time": "2019-09-11T11:46:53.605000Z"
    }
   },
   "outputs": [
    {
     "data": {
      "text/plain": [
       "{'clf__max_depth': 13, 'clf__n_estimators': 100}"
      ]
     },
     "execution_count": 523,
     "metadata": {},
     "output_type": "execute_result"
    }
   ],
   "source": [
    "grid.best_params_"
   ]
  },
  {
   "cell_type": "code",
   "execution_count": 524,
   "metadata": {
    "ExecuteTime": {
     "end_time": "2019-09-11T11:46:54.200000Z",
     "start_time": "2019-09-11T11:46:53.614000Z"
    }
   },
   "outputs": [],
   "source": [
    "pred_rfc_tr = grid.best_estimator_.predict(X_train[cols])"
   ]
  },
  {
   "cell_type": "code",
   "execution_count": 525,
   "metadata": {
    "ExecuteTime": {
     "end_time": "2019-09-11T11:46:54.211000Z",
     "start_time": "2019-09-11T11:46:54.201000Z"
    }
   },
   "outputs": [
    {
     "data": {
      "text/plain": [
       "0.9239265114291818"
      ]
     },
     "execution_count": 525,
     "metadata": {},
     "output_type": "execute_result"
    }
   ],
   "source": [
    "# Train Score\n",
    "accuracy_score(y_train, pred_rfc_tr)"
   ]
  },
  {
   "cell_type": "code",
   "execution_count": 526,
   "metadata": {
    "ExecuteTime": {
     "end_time": "2019-09-11T11:46:54.275000Z",
     "start_time": "2019-09-11T11:46:54.215000Z"
    }
   },
   "outputs": [
    {
     "data": {
      "text/plain": [
       "array([[41600,  3236],\n",
       "       [  325,  1649]], dtype=int64)"
      ]
     },
     "execution_count": 526,
     "metadata": {},
     "output_type": "execute_result"
    }
   ],
   "source": [
    "# Train Confision Matrix\n",
    "confusion_matrix(y_train, pred_rfc_tr)"
   ]
  },
  {
   "cell_type": "code",
   "execution_count": 527,
   "metadata": {
    "ExecuteTime": {
     "end_time": "2019-09-11T11:46:54.620000Z",
     "start_time": "2019-09-11T11:46:54.276000Z"
    }
   },
   "outputs": [],
   "source": [
    "pred_rfc_te =  grid.best_estimator_.predict(X_test[cols])"
   ]
  },
  {
   "cell_type": "code",
   "execution_count": 528,
   "metadata": {
    "ExecuteTime": {
     "end_time": "2019-09-11T11:46:54.628000Z",
     "start_time": "2019-09-11T11:46:54.622000Z"
    }
   },
   "outputs": [
    {
     "data": {
      "text/plain": [
       "0.8823350826213298"
      ]
     },
     "execution_count": 528,
     "metadata": {},
     "output_type": "execute_result"
    }
   ],
   "source": [
    "# Test Score\n",
    "accuracy_score(y_test, pred_rfc_te)"
   ]
  },
  {
   "cell_type": "code",
   "execution_count": 529,
   "metadata": {
    "ExecuteTime": {
     "end_time": "2019-09-11T11:46:54.670000Z",
     "start_time": "2019-09-11T11:46:54.630000Z"
    }
   },
   "outputs": [
    {
     "data": {
      "text/plain": [
       "array([[20185,  1899],\n",
       "       [  814,   159]], dtype=int64)"
      ]
     },
     "execution_count": 529,
     "metadata": {},
     "output_type": "execute_result"
    }
   ],
   "source": [
    "# Train Confision Matrix\n",
    "confusion_matrix(y_test, pred_rfc_te)"
   ]
  },
  {
   "cell_type": "code",
   "execution_count": 530,
   "metadata": {
    "ExecuteTime": {
     "end_time": "2019-09-11T11:46:54.714000Z",
     "start_time": "2019-09-11T11:46:54.674000Z"
    }
   },
   "outputs": [
    {
     "name": "stdout",
     "output_type": "stream",
     "text": [
      "              precision    recall  f1-score   support\n",
      "\n",
      "         0.0       0.96      0.91      0.94     22084\n",
      "         1.0       0.08      0.16      0.10       973\n",
      "\n",
      "   micro avg       0.88      0.88      0.88     23057\n",
      "   macro avg       0.52      0.54      0.52     23057\n",
      "weighted avg       0.92      0.88      0.90     23057\n",
      "\n"
     ]
    }
   ],
   "source": [
    "print(classification_report(y_test, pred_rfc_te))"
   ]
  },
  {
   "cell_type": "code",
   "execution_count": 531,
   "metadata": {
    "ExecuteTime": {
     "end_time": "2019-09-11T11:46:55.535000Z",
     "start_time": "2019-09-11T11:46:54.719000Z"
    }
   },
   "outputs": [],
   "source": [
    "def_probs_tr = grid.best_estimator_.predict_proba(X_train[cols])\n",
    "def_probs_te = grid.best_estimator_.predict_proba(X_test[cols])"
   ]
  },
  {
   "cell_type": "markdown",
   "metadata": {},
   "source": [
    "## Application Scorecard"
   ]
  },
  {
   "cell_type": "code",
   "execution_count": 532,
   "metadata": {
    "ExecuteTime": {
     "end_time": "2019-09-11T11:46:55.546000Z",
     "start_time": "2019-09-11T11:46:55.539000Z"
    }
   },
   "outputs": [
    {
     "data": {
      "text/plain": [
       "((46810,), (46810,), (46810, 2))"
      ]
     },
     "execution_count": 532,
     "metadata": {},
     "output_type": "execute_result"
    }
   ],
   "source": [
    "X_train_ids.shape, y_train.shape, def_probs_tr.shape"
   ]
  },
  {
   "cell_type": "code",
   "execution_count": 533,
   "metadata": {
    "ExecuteTime": {
     "end_time": "2019-09-11T11:46:55.589000Z",
     "start_time": "2019-09-11T11:46:55.561000Z"
    }
   },
   "outputs": [],
   "source": [
    "tr = pd.DataFrame({'ids': X_train_ids, 'performance':y_train,'p_good': def_probs_tr[:,0]})\n",
    "te = pd.DataFrame({'ids': X_test_ids, 'performance':y_test,'p_good': def_probs_te[:,0]})"
   ]
  },
  {
   "cell_type": "code",
   "execution_count": 534,
   "metadata": {
    "ExecuteTime": {
     "end_time": "2019-09-11T11:46:55.614000Z",
     "start_time": "2019-09-11T11:46:55.590000Z"
    }
   },
   "outputs": [],
   "source": [
    "scorecard = pd.concat([tr,te], axis=0)"
   ]
  },
  {
   "cell_type": "code",
   "execution_count": 535,
   "metadata": {
    "ExecuteTime": {
     "end_time": "2019-09-11T11:46:55.673000Z",
     "start_time": "2019-09-11T11:46:55.621000Z"
    }
   },
   "outputs": [
    {
     "data": {
      "text/html": [
       "<div>\n",
       "<style scoped>\n",
       "    .dataframe tbody tr th:only-of-type {\n",
       "        vertical-align: middle;\n",
       "    }\n",
       "\n",
       "    .dataframe tbody tr th {\n",
       "        vertical-align: top;\n",
       "    }\n",
       "\n",
       "    .dataframe thead th {\n",
       "        text-align: right;\n",
       "    }\n",
       "</style>\n",
       "<table border=\"1\" class=\"dataframe\">\n",
       "  <thead>\n",
       "    <tr style=\"text-align: right;\">\n",
       "      <th></th>\n",
       "      <th>ids</th>\n",
       "      <th>performance</th>\n",
       "      <th>p_good</th>\n",
       "      <th>odds_good</th>\n",
       "      <th>log_odds</th>\n",
       "    </tr>\n",
       "  </thead>\n",
       "  <tbody>\n",
       "    <tr>\n",
       "      <th>50619</th>\n",
       "      <td>317409782</td>\n",
       "      <td>0.0</td>\n",
       "      <td>0.496673</td>\n",
       "      <td>0.986778</td>\n",
       "      <td>-0.013310</td>\n",
       "    </tr>\n",
       "    <tr>\n",
       "      <th>52805</th>\n",
       "      <td>195448247</td>\n",
       "      <td>0.0</td>\n",
       "      <td>0.608981</td>\n",
       "      <td>1.557420</td>\n",
       "      <td>0.443031</td>\n",
       "    </tr>\n",
       "    <tr>\n",
       "      <th>523</th>\n",
       "      <td>817529425</td>\n",
       "      <td>0.0</td>\n",
       "      <td>0.921650</td>\n",
       "      <td>11.763261</td>\n",
       "      <td>2.464981</td>\n",
       "    </tr>\n",
       "    <tr>\n",
       "      <th>50032</th>\n",
       "      <td>42991917</td>\n",
       "      <td>0.0</td>\n",
       "      <td>0.583040</td>\n",
       "      <td>1.398310</td>\n",
       "      <td>0.335265</td>\n",
       "    </tr>\n",
       "    <tr>\n",
       "      <th>45438</th>\n",
       "      <td>507232865</td>\n",
       "      <td>0.0</td>\n",
       "      <td>0.554345</td>\n",
       "      <td>1.243890</td>\n",
       "      <td>0.218244</td>\n",
       "    </tr>\n",
       "  </tbody>\n",
       "</table>\n",
       "</div>"
      ],
      "text/plain": [
       "             ids  performance    p_good  odds_good  log_odds\n",
       "50619  317409782          0.0  0.496673   0.986778 -0.013310\n",
       "52805  195448247          0.0  0.608981   1.557420  0.443031\n",
       "523    817529425          0.0  0.921650  11.763261  2.464981\n",
       "50032   42991917          0.0  0.583040   1.398310  0.335265\n",
       "45438  507232865          0.0  0.554345   1.243890  0.218244"
      ]
     },
     "execution_count": 535,
     "metadata": {},
     "output_type": "execute_result"
    }
   ],
   "source": [
    "scorecard['odds_good'] = scorecard['p_good']/ (1-scorecard['p_good'])\n",
    "scorecard.loc[scorecard['p_good']==1,'odds_good'] = 1\n",
    "scorecard['log_odds'] = np.log(scorecard['odds_good'])\n",
    "scorecard.head()"
   ]
  },
  {
   "cell_type": "code",
   "execution_count": 536,
   "metadata": {
    "ExecuteTime": {
     "end_time": "2019-09-11T11:46:55.711000Z",
     "start_time": "2019-09-11T11:46:55.677000Z"
    },
    "scrolled": true
   },
   "outputs": [
    {
     "data": {
      "text/html": [
       "<div>\n",
       "<style scoped>\n",
       "    .dataframe tbody tr th:only-of-type {\n",
       "        vertical-align: middle;\n",
       "    }\n",
       "\n",
       "    .dataframe tbody tr th {\n",
       "        vertical-align: top;\n",
       "    }\n",
       "\n",
       "    .dataframe thead th {\n",
       "        text-align: right;\n",
       "    }\n",
       "</style>\n",
       "<table border=\"1\" class=\"dataframe\">\n",
       "  <thead>\n",
       "    <tr style=\"text-align: right;\">\n",
       "      <th></th>\n",
       "      <th>ids</th>\n",
       "      <th>performance</th>\n",
       "      <th>p_good</th>\n",
       "      <th>odds_good</th>\n",
       "      <th>log_odds</th>\n",
       "      <th>score</th>\n",
       "    </tr>\n",
       "  </thead>\n",
       "  <tbody>\n",
       "    <tr>\n",
       "      <th>50619</th>\n",
       "      <td>317409782</td>\n",
       "      <td>0.0</td>\n",
       "      <td>0.496673</td>\n",
       "      <td>0.986778</td>\n",
       "      <td>-0.013310</td>\n",
       "      <td>333.177402</td>\n",
       "    </tr>\n",
       "    <tr>\n",
       "      <th>52805</th>\n",
       "      <td>195448247</td>\n",
       "      <td>0.0</td>\n",
       "      <td>0.608981</td>\n",
       "      <td>1.557420</td>\n",
       "      <td>0.443031</td>\n",
       "      <td>346.344597</td>\n",
       "    </tr>\n",
       "    <tr>\n",
       "      <th>523</th>\n",
       "      <td>817529425</td>\n",
       "      <td>0.0</td>\n",
       "      <td>0.921650</td>\n",
       "      <td>11.763261</td>\n",
       "      <td>2.464981</td>\n",
       "      <td>404.685762</td>\n",
       "    </tr>\n",
       "    <tr>\n",
       "      <th>50032</th>\n",
       "      <td>42991917</td>\n",
       "      <td>0.0</td>\n",
       "      <td>0.583040</td>\n",
       "      <td>1.398310</td>\n",
       "      <td>0.335265</td>\n",
       "      <td>343.235129</td>\n",
       "    </tr>\n",
       "    <tr>\n",
       "      <th>45438</th>\n",
       "      <td>507232865</td>\n",
       "      <td>0.0</td>\n",
       "      <td>0.554345</td>\n",
       "      <td>1.243890</td>\n",
       "      <td>0.218244</td>\n",
       "      <td>339.858620</td>\n",
       "    </tr>\n",
       "    <tr>\n",
       "      <th>67619</th>\n",
       "      <td>53880502</td>\n",
       "      <td>0.0</td>\n",
       "      <td>0.490209</td>\n",
       "      <td>0.961588</td>\n",
       "      <td>-0.039169</td>\n",
       "      <td>332.431260</td>\n",
       "    </tr>\n",
       "    <tr>\n",
       "      <th>23677</th>\n",
       "      <td>955749140</td>\n",
       "      <td>0.0</td>\n",
       "      <td>0.825342</td>\n",
       "      <td>4.725469</td>\n",
       "      <td>1.552967</td>\n",
       "      <td>378.370588</td>\n",
       "    </tr>\n",
       "    <tr>\n",
       "      <th>57141</th>\n",
       "      <td>745493072</td>\n",
       "      <td>0.0</td>\n",
       "      <td>0.421606</td>\n",
       "      <td>0.728926</td>\n",
       "      <td>-0.316183</td>\n",
       "      <td>324.438320</td>\n",
       "    </tr>\n",
       "    <tr>\n",
       "      <th>61536</th>\n",
       "      <td>253191204</td>\n",
       "      <td>0.0</td>\n",
       "      <td>0.643375</td>\n",
       "      <td>1.804069</td>\n",
       "      <td>0.590045</td>\n",
       "      <td>350.586531</td>\n",
       "    </tr>\n",
       "    <tr>\n",
       "      <th>19340</th>\n",
       "      <td>36213945</td>\n",
       "      <td>0.0</td>\n",
       "      <td>0.795933</td>\n",
       "      <td>3.900340</td>\n",
       "      <td>1.361064</td>\n",
       "      <td>372.833438</td>\n",
       "    </tr>\n",
       "    <tr>\n",
       "      <th>4812</th>\n",
       "      <td>439607186</td>\n",
       "      <td>0.0</td>\n",
       "      <td>0.940895</td>\n",
       "      <td>15.919034</td>\n",
       "      <td>2.767516</td>\n",
       "      <td>413.415056</td>\n",
       "    </tr>\n",
       "    <tr>\n",
       "      <th>27120</th>\n",
       "      <td>462679146</td>\n",
       "      <td>0.0</td>\n",
       "      <td>0.817299</td>\n",
       "      <td>4.473421</td>\n",
       "      <td>1.498153</td>\n",
       "      <td>376.789008</td>\n",
       "    </tr>\n",
       "    <tr>\n",
       "      <th>44653</th>\n",
       "      <td>929101677</td>\n",
       "      <td>0.0</td>\n",
       "      <td>0.665770</td>\n",
       "      <td>1.991949</td>\n",
       "      <td>0.689114</td>\n",
       "      <td>353.445058</td>\n",
       "    </tr>\n",
       "    <tr>\n",
       "      <th>42881</th>\n",
       "      <td>855199768</td>\n",
       "      <td>0.0</td>\n",
       "      <td>0.645252</td>\n",
       "      <td>1.818903</td>\n",
       "      <td>0.598233</td>\n",
       "      <td>350.822803</td>\n",
       "    </tr>\n",
       "    <tr>\n",
       "      <th>25744</th>\n",
       "      <td>994784241</td>\n",
       "      <td>0.0</td>\n",
       "      <td>0.881358</td>\n",
       "      <td>7.428716</td>\n",
       "      <td>2.005353</td>\n",
       "      <td>391.423697</td>\n",
       "    </tr>\n",
       "    <tr>\n",
       "      <th>34742</th>\n",
       "      <td>273877508</td>\n",
       "      <td>0.0</td>\n",
       "      <td>0.864179</td>\n",
       "      <td>6.362645</td>\n",
       "      <td>1.850444</td>\n",
       "      <td>386.953973</td>\n",
       "    </tr>\n",
       "    <tr>\n",
       "      <th>60413</th>\n",
       "      <td>275522261</td>\n",
       "      <td>0.0</td>\n",
       "      <td>0.515879</td>\n",
       "      <td>1.065601</td>\n",
       "      <td>0.063539</td>\n",
       "      <td>335.394795</td>\n",
       "    </tr>\n",
       "    <tr>\n",
       "      <th>27693</th>\n",
       "      <td>329928796</td>\n",
       "      <td>0.0</td>\n",
       "      <td>0.804293</td>\n",
       "      <td>4.109689</td>\n",
       "      <td>1.413347</td>\n",
       "      <td>374.342026</td>\n",
       "    </tr>\n",
       "    <tr>\n",
       "      <th>31114</th>\n",
       "      <td>605484038</td>\n",
       "      <td>0.0</td>\n",
       "      <td>0.699644</td>\n",
       "      <td>2.329383</td>\n",
       "      <td>0.845603</td>\n",
       "      <td>357.960393</td>\n",
       "    </tr>\n",
       "    <tr>\n",
       "      <th>14821</th>\n",
       "      <td>666942246</td>\n",
       "      <td>0.0</td>\n",
       "      <td>0.881512</td>\n",
       "      <td>7.439657</td>\n",
       "      <td>2.006825</td>\n",
       "      <td>391.466162</td>\n",
       "    </tr>\n",
       "    <tr>\n",
       "      <th>67260</th>\n",
       "      <td>19611103</td>\n",
       "      <td>0.0</td>\n",
       "      <td>0.459624</td>\n",
       "      <td>0.850564</td>\n",
       "      <td>-0.161856</td>\n",
       "      <td>328.891256</td>\n",
       "    </tr>\n",
       "    <tr>\n",
       "      <th>17778</th>\n",
       "      <td>843301663</td>\n",
       "      <td>0.0</td>\n",
       "      <td>0.841215</td>\n",
       "      <td>5.297828</td>\n",
       "      <td>1.667297</td>\n",
       "      <td>381.669456</td>\n",
       "    </tr>\n",
       "    <tr>\n",
       "      <th>25387</th>\n",
       "      <td>144270472</td>\n",
       "      <td>0.0</td>\n",
       "      <td>0.842973</td>\n",
       "      <td>5.368315</td>\n",
       "      <td>1.680514</td>\n",
       "      <td>382.050823</td>\n",
       "    </tr>\n",
       "    <tr>\n",
       "      <th>47722</th>\n",
       "      <td>631291840</td>\n",
       "      <td>0.0</td>\n",
       "      <td>0.701953</td>\n",
       "      <td>2.355178</td>\n",
       "      <td>0.856617</td>\n",
       "      <td>358.278166</td>\n",
       "    </tr>\n",
       "    <tr>\n",
       "      <th>16635</th>\n",
       "      <td>122885122</td>\n",
       "      <td>0.0</td>\n",
       "      <td>0.818257</td>\n",
       "      <td>4.502269</td>\n",
       "      <td>1.504581</td>\n",
       "      <td>376.974481</td>\n",
       "    </tr>\n",
       "    <tr>\n",
       "      <th>35261</th>\n",
       "      <td>21843193</td>\n",
       "      <td>0.0</td>\n",
       "      <td>0.757408</td>\n",
       "      <td>3.122142</td>\n",
       "      <td>1.138519</td>\n",
       "      <td>366.412166</td>\n",
       "    </tr>\n",
       "    <tr>\n",
       "      <th>60488</th>\n",
       "      <td>281159992</td>\n",
       "      <td>0.0</td>\n",
       "      <td>0.537000</td>\n",
       "      <td>1.159829</td>\n",
       "      <td>0.148273</td>\n",
       "      <td>337.839691</td>\n",
       "    </tr>\n",
       "    <tr>\n",
       "      <th>39553</th>\n",
       "      <td>641962655</td>\n",
       "      <td>0.0</td>\n",
       "      <td>0.842825</td>\n",
       "      <td>5.362338</td>\n",
       "      <td>1.679400</td>\n",
       "      <td>382.018683</td>\n",
       "    </tr>\n",
       "    <tr>\n",
       "      <th>29475</th>\n",
       "      <td>640869481</td>\n",
       "      <td>0.0</td>\n",
       "      <td>0.869986</td>\n",
       "      <td>6.691498</td>\n",
       "      <td>1.900838</td>\n",
       "      <td>388.408023</td>\n",
       "    </tr>\n",
       "    <tr>\n",
       "      <th>27661</th>\n",
       "      <td>195300376</td>\n",
       "      <td>0.0</td>\n",
       "      <td>0.793169</td>\n",
       "      <td>3.834870</td>\n",
       "      <td>1.344136</td>\n",
       "      <td>372.344991</td>\n",
       "    </tr>\n",
       "    <tr>\n",
       "      <th>...</th>\n",
       "      <td>...</td>\n",
       "      <td>...</td>\n",
       "      <td>...</td>\n",
       "      <td>...</td>\n",
       "      <td>...</td>\n",
       "      <td>...</td>\n",
       "    </tr>\n",
       "    <tr>\n",
       "      <th>32337</th>\n",
       "      <td>762284603</td>\n",
       "      <td>0.0</td>\n",
       "      <td>0.676984</td>\n",
       "      <td>2.095823</td>\n",
       "      <td>0.739946</td>\n",
       "      <td>354.911777</td>\n",
       "    </tr>\n",
       "    <tr>\n",
       "      <th>45643</th>\n",
       "      <td>438976578</td>\n",
       "      <td>0.0</td>\n",
       "      <td>0.616678</td>\n",
       "      <td>1.608773</td>\n",
       "      <td>0.475472</td>\n",
       "      <td>347.280658</td>\n",
       "    </tr>\n",
       "    <tr>\n",
       "      <th>56074</th>\n",
       "      <td>91775663</td>\n",
       "      <td>0.0</td>\n",
       "      <td>0.609879</td>\n",
       "      <td>1.563310</td>\n",
       "      <td>0.446806</td>\n",
       "      <td>346.453524</td>\n",
       "    </tr>\n",
       "    <tr>\n",
       "      <th>67509</th>\n",
       "      <td>245185611</td>\n",
       "      <td>1.0</td>\n",
       "      <td>0.508074</td>\n",
       "      <td>1.032825</td>\n",
       "      <td>0.032297</td>\n",
       "      <td>334.493346</td>\n",
       "    </tr>\n",
       "    <tr>\n",
       "      <th>16076</th>\n",
       "      <td>415726605</td>\n",
       "      <td>0.0</td>\n",
       "      <td>0.831015</td>\n",
       "      <td>4.917689</td>\n",
       "      <td>1.592839</td>\n",
       "      <td>379.521051</td>\n",
       "    </tr>\n",
       "    <tr>\n",
       "      <th>41423</th>\n",
       "      <td>131282169</td>\n",
       "      <td>0.0</td>\n",
       "      <td>0.763691</td>\n",
       "      <td>3.231748</td>\n",
       "      <td>1.173023</td>\n",
       "      <td>367.407735</td>\n",
       "    </tr>\n",
       "    <tr>\n",
       "      <th>44444</th>\n",
       "      <td>866412964</td>\n",
       "      <td>0.0</td>\n",
       "      <td>0.651707</td>\n",
       "      <td>1.871148</td>\n",
       "      <td>0.626552</td>\n",
       "      <td>351.639905</td>\n",
       "    </tr>\n",
       "    <tr>\n",
       "      <th>46232</th>\n",
       "      <td>759727320</td>\n",
       "      <td>0.0</td>\n",
       "      <td>0.823257</td>\n",
       "      <td>4.657944</td>\n",
       "      <td>1.538574</td>\n",
       "      <td>377.955303</td>\n",
       "    </tr>\n",
       "    <tr>\n",
       "      <th>18487</th>\n",
       "      <td>183423656</td>\n",
       "      <td>0.0</td>\n",
       "      <td>0.886099</td>\n",
       "      <td>7.779552</td>\n",
       "      <td>2.051499</td>\n",
       "      <td>392.755179</td>\n",
       "    </tr>\n",
       "    <tr>\n",
       "      <th>64553</th>\n",
       "      <td>274562379</td>\n",
       "      <td>0.0</td>\n",
       "      <td>0.680306</td>\n",
       "      <td>2.127995</td>\n",
       "      <td>0.755180</td>\n",
       "      <td>355.351329</td>\n",
       "    </tr>\n",
       "    <tr>\n",
       "      <th>11735</th>\n",
       "      <td>376291644</td>\n",
       "      <td>0.0</td>\n",
       "      <td>0.796858</td>\n",
       "      <td>3.922668</td>\n",
       "      <td>1.366772</td>\n",
       "      <td>372.998144</td>\n",
       "    </tr>\n",
       "    <tr>\n",
       "      <th>67511</th>\n",
       "      <td>343406571</td>\n",
       "      <td>0.0</td>\n",
       "      <td>0.662671</td>\n",
       "      <td>1.964469</td>\n",
       "      <td>0.675222</td>\n",
       "      <td>353.044226</td>\n",
       "    </tr>\n",
       "    <tr>\n",
       "      <th>62304</th>\n",
       "      <td>409292735</td>\n",
       "      <td>0.0</td>\n",
       "      <td>0.480710</td>\n",
       "      <td>0.925706</td>\n",
       "      <td>-0.077199</td>\n",
       "      <td>331.333955</td>\n",
       "    </tr>\n",
       "    <tr>\n",
       "      <th>1631</th>\n",
       "      <td>898564528</td>\n",
       "      <td>1.0</td>\n",
       "      <td>0.933236</td>\n",
       "      <td>13.978184</td>\n",
       "      <td>2.637498</td>\n",
       "      <td>409.663538</td>\n",
       "    </tr>\n",
       "    <tr>\n",
       "      <th>21487</th>\n",
       "      <td>222834124</td>\n",
       "      <td>0.0</td>\n",
       "      <td>0.833275</td>\n",
       "      <td>4.997915</td>\n",
       "      <td>1.609021</td>\n",
       "      <td>379.987967</td>\n",
       "    </tr>\n",
       "    <tr>\n",
       "      <th>9652</th>\n",
       "      <td>506117462</td>\n",
       "      <td>0.0</td>\n",
       "      <td>0.723626</td>\n",
       "      <td>2.618284</td>\n",
       "      <td>0.962519</td>\n",
       "      <td>361.333875</td>\n",
       "    </tr>\n",
       "    <tr>\n",
       "      <th>26627</th>\n",
       "      <td>882975474</td>\n",
       "      <td>0.0</td>\n",
       "      <td>0.854839</td>\n",
       "      <td>5.888924</td>\n",
       "      <td>1.773073</td>\n",
       "      <td>384.721519</td>\n",
       "    </tr>\n",
       "    <tr>\n",
       "      <th>40954</th>\n",
       "      <td>425743666</td>\n",
       "      <td>0.0</td>\n",
       "      <td>0.646934</td>\n",
       "      <td>1.832329</td>\n",
       "      <td>0.605588</td>\n",
       "      <td>351.035005</td>\n",
       "    </tr>\n",
       "    <tr>\n",
       "      <th>31920</th>\n",
       "      <td>1947431</td>\n",
       "      <td>0.0</td>\n",
       "      <td>0.765997</td>\n",
       "      <td>3.273450</td>\n",
       "      <td>1.185844</td>\n",
       "      <td>367.777677</td>\n",
       "    </tr>\n",
       "    <tr>\n",
       "      <th>12572</th>\n",
       "      <td>741849522</td>\n",
       "      <td>0.0</td>\n",
       "      <td>0.839711</td>\n",
       "      <td>5.238724</td>\n",
       "      <td>1.656078</td>\n",
       "      <td>381.345745</td>\n",
       "    </tr>\n",
       "    <tr>\n",
       "      <th>16895</th>\n",
       "      <td>947839912</td>\n",
       "      <td>0.0</td>\n",
       "      <td>0.869954</td>\n",
       "      <td>6.689568</td>\n",
       "      <td>1.900549</td>\n",
       "      <td>388.399700</td>\n",
       "    </tr>\n",
       "    <tr>\n",
       "      <th>14346</th>\n",
       "      <td>270338303</td>\n",
       "      <td>0.0</td>\n",
       "      <td>0.834822</td>\n",
       "      <td>5.054076</td>\n",
       "      <td>1.620195</td>\n",
       "      <td>380.310383</td>\n",
       "    </tr>\n",
       "    <tr>\n",
       "      <th>69505</th>\n",
       "      <td>743585784</td>\n",
       "      <td>0.0</td>\n",
       "      <td>0.504492</td>\n",
       "      <td>1.018130</td>\n",
       "      <td>0.017968</td>\n",
       "      <td>334.079886</td>\n",
       "    </tr>\n",
       "    <tr>\n",
       "      <th>21776</th>\n",
       "      <td>173969977</td>\n",
       "      <td>0.0</td>\n",
       "      <td>0.795224</td>\n",
       "      <td>3.883374</td>\n",
       "      <td>1.356704</td>\n",
       "      <td>372.707651</td>\n",
       "    </tr>\n",
       "    <tr>\n",
       "      <th>37654</th>\n",
       "      <td>922308025</td>\n",
       "      <td>0.0</td>\n",
       "      <td>0.769920</td>\n",
       "      <td>3.346307</td>\n",
       "      <td>1.207857</td>\n",
       "      <td>368.412834</td>\n",
       "    </tr>\n",
       "    <tr>\n",
       "      <th>6563</th>\n",
       "      <td>439114267</td>\n",
       "      <td>0.0</td>\n",
       "      <td>0.957024</td>\n",
       "      <td>22.268711</td>\n",
       "      <td>3.103183</td>\n",
       "      <td>423.100361</td>\n",
       "    </tr>\n",
       "    <tr>\n",
       "      <th>20076</th>\n",
       "      <td>349729677</td>\n",
       "      <td>0.0</td>\n",
       "      <td>0.887279</td>\n",
       "      <td>7.871424</td>\n",
       "      <td>2.063239</td>\n",
       "      <td>393.093930</td>\n",
       "    </tr>\n",
       "    <tr>\n",
       "      <th>44468</th>\n",
       "      <td>338901176</td>\n",
       "      <td>0.0</td>\n",
       "      <td>0.634316</td>\n",
       "      <td>1.734602</td>\n",
       "      <td>0.550778</td>\n",
       "      <td>349.453537</td>\n",
       "    </tr>\n",
       "    <tr>\n",
       "      <th>40739</th>\n",
       "      <td>446481002</td>\n",
       "      <td>0.0</td>\n",
       "      <td>0.649509</td>\n",
       "      <td>1.853138</td>\n",
       "      <td>0.616880</td>\n",
       "      <td>351.360844</td>\n",
       "    </tr>\n",
       "    <tr>\n",
       "      <th>57934</th>\n",
       "      <td>643805114</td>\n",
       "      <td>0.0</td>\n",
       "      <td>0.474539</td>\n",
       "      <td>0.903092</td>\n",
       "      <td>-0.101931</td>\n",
       "      <td>330.620322</td>\n",
       "    </tr>\n",
       "  </tbody>\n",
       "</table>\n",
       "<p>69867 rows × 6 columns</p>\n",
       "</div>"
      ],
      "text/plain": [
       "             ids  performance    p_good  odds_good  log_odds       score\n",
       "50619  317409782          0.0  0.496673   0.986778 -0.013310  333.177402\n",
       "52805  195448247          0.0  0.608981   1.557420  0.443031  346.344597\n",
       "523    817529425          0.0  0.921650  11.763261  2.464981  404.685762\n",
       "50032   42991917          0.0  0.583040   1.398310  0.335265  343.235129\n",
       "45438  507232865          0.0  0.554345   1.243890  0.218244  339.858620\n",
       "67619   53880502          0.0  0.490209   0.961588 -0.039169  332.431260\n",
       "23677  955749140          0.0  0.825342   4.725469  1.552967  378.370588\n",
       "57141  745493072          0.0  0.421606   0.728926 -0.316183  324.438320\n",
       "61536  253191204          0.0  0.643375   1.804069  0.590045  350.586531\n",
       "19340   36213945          0.0  0.795933   3.900340  1.361064  372.833438\n",
       "4812   439607186          0.0  0.940895  15.919034  2.767516  413.415056\n",
       "27120  462679146          0.0  0.817299   4.473421  1.498153  376.789008\n",
       "44653  929101677          0.0  0.665770   1.991949  0.689114  353.445058\n",
       "42881  855199768          0.0  0.645252   1.818903  0.598233  350.822803\n",
       "25744  994784241          0.0  0.881358   7.428716  2.005353  391.423697\n",
       "34742  273877508          0.0  0.864179   6.362645  1.850444  386.953973\n",
       "60413  275522261          0.0  0.515879   1.065601  0.063539  335.394795\n",
       "27693  329928796          0.0  0.804293   4.109689  1.413347  374.342026\n",
       "31114  605484038          0.0  0.699644   2.329383  0.845603  357.960393\n",
       "14821  666942246          0.0  0.881512   7.439657  2.006825  391.466162\n",
       "67260   19611103          0.0  0.459624   0.850564 -0.161856  328.891256\n",
       "17778  843301663          0.0  0.841215   5.297828  1.667297  381.669456\n",
       "25387  144270472          0.0  0.842973   5.368315  1.680514  382.050823\n",
       "47722  631291840          0.0  0.701953   2.355178  0.856617  358.278166\n",
       "16635  122885122          0.0  0.818257   4.502269  1.504581  376.974481\n",
       "35261   21843193          0.0  0.757408   3.122142  1.138519  366.412166\n",
       "60488  281159992          0.0  0.537000   1.159829  0.148273  337.839691\n",
       "39553  641962655          0.0  0.842825   5.362338  1.679400  382.018683\n",
       "29475  640869481          0.0  0.869986   6.691498  1.900838  388.408023\n",
       "27661  195300376          0.0  0.793169   3.834870  1.344136  372.344991\n",
       "...          ...          ...       ...        ...       ...         ...\n",
       "32337  762284603          0.0  0.676984   2.095823  0.739946  354.911777\n",
       "45643  438976578          0.0  0.616678   1.608773  0.475472  347.280658\n",
       "56074   91775663          0.0  0.609879   1.563310  0.446806  346.453524\n",
       "67509  245185611          1.0  0.508074   1.032825  0.032297  334.493346\n",
       "16076  415726605          0.0  0.831015   4.917689  1.592839  379.521051\n",
       "41423  131282169          0.0  0.763691   3.231748  1.173023  367.407735\n",
       "44444  866412964          0.0  0.651707   1.871148  0.626552  351.639905\n",
       "46232  759727320          0.0  0.823257   4.657944  1.538574  377.955303\n",
       "18487  183423656          0.0  0.886099   7.779552  2.051499  392.755179\n",
       "64553  274562379          0.0  0.680306   2.127995  0.755180  355.351329\n",
       "11735  376291644          0.0  0.796858   3.922668  1.366772  372.998144\n",
       "67511  343406571          0.0  0.662671   1.964469  0.675222  353.044226\n",
       "62304  409292735          0.0  0.480710   0.925706 -0.077199  331.333955\n",
       "1631   898564528          1.0  0.933236  13.978184  2.637498  409.663538\n",
       "21487  222834124          0.0  0.833275   4.997915  1.609021  379.987967\n",
       "9652   506117462          0.0  0.723626   2.618284  0.962519  361.333875\n",
       "26627  882975474          0.0  0.854839   5.888924  1.773073  384.721519\n",
       "40954  425743666          0.0  0.646934   1.832329  0.605588  351.035005\n",
       "31920    1947431          0.0  0.765997   3.273450  1.185844  367.777677\n",
       "12572  741849522          0.0  0.839711   5.238724  1.656078  381.345745\n",
       "16895  947839912          0.0  0.869954   6.689568  1.900549  388.399700\n",
       "14346  270338303          0.0  0.834822   5.054076  1.620195  380.310383\n",
       "69505  743585784          0.0  0.504492   1.018130  0.017968  334.079886\n",
       "21776  173969977          0.0  0.795224   3.883374  1.356704  372.707651\n",
       "37654  922308025          0.0  0.769920   3.346307  1.207857  368.412834\n",
       "6563   439114267          0.0  0.957024  22.268711  3.103183  423.100361\n",
       "20076  349729677          0.0  0.887279   7.871424  2.063239  393.093930\n",
       "44468  338901176          0.0  0.634316   1.734602  0.550778  349.453537\n",
       "40739  446481002          0.0  0.649509   1.853138  0.616880  351.360844\n",
       "57934  643805114          0.0  0.474539   0.903092 -0.101931  330.620322\n",
       "\n",
       "[69867 rows x 6 columns]"
      ]
     },
     "execution_count": 536,
     "metadata": {},
     "output_type": "execute_result"
    }
   ],
   "source": [
    "score = 400\n",
    "factor = 20/np.log(2)\n",
    "offset = score - (factor * np.log(10))\n",
    "scorecard['score'] = (scorecard['log_odds']*factor) + offset\n",
    "scorecard"
   ]
  },
  {
   "cell_type": "code",
   "execution_count": 537,
   "metadata": {
    "ExecuteTime": {
     "end_time": "2019-09-11T11:46:55.765000Z",
     "start_time": "2019-09-11T11:46:55.714000Z"
    }
   },
   "outputs": [
    {
     "data": {
      "text/html": [
       "<div>\n",
       "<style scoped>\n",
       "    .dataframe tbody tr th:only-of-type {\n",
       "        vertical-align: middle;\n",
       "    }\n",
       "\n",
       "    .dataframe tbody tr th {\n",
       "        vertical-align: top;\n",
       "    }\n",
       "\n",
       "    .dataframe thead th {\n",
       "        text-align: right;\n",
       "    }\n",
       "</style>\n",
       "<table border=\"1\" class=\"dataframe\">\n",
       "  <thead>\n",
       "    <tr style=\"text-align: right;\">\n",
       "      <th></th>\n",
       "      <th>ids</th>\n",
       "      <th>performance</th>\n",
       "      <th>p_good</th>\n",
       "      <th>odds_good</th>\n",
       "      <th>log_odds</th>\n",
       "      <th>score</th>\n",
       "    </tr>\n",
       "  </thead>\n",
       "  <tbody>\n",
       "    <tr>\n",
       "      <th>count</th>\n",
       "      <td>6.986700e+04</td>\n",
       "      <td>69867.000000</td>\n",
       "      <td>69867.000000</td>\n",
       "      <td>69867.000000</td>\n",
       "      <td>69867.000000</td>\n",
       "      <td>69867.000000</td>\n",
       "    </tr>\n",
       "    <tr>\n",
       "      <th>mean</th>\n",
       "      <td>4.992179e+08</td>\n",
       "      <td>0.042180</td>\n",
       "      <td>0.723766</td>\n",
       "      <td>4.357711</td>\n",
       "      <td>1.109394</td>\n",
       "      <td>365.571770</td>\n",
       "    </tr>\n",
       "    <tr>\n",
       "      <th>std</th>\n",
       "      <td>2.885551e+08</td>\n",
       "      <td>0.201001</td>\n",
       "      <td>0.150698</td>\n",
       "      <td>4.685298</td>\n",
       "      <td>0.839549</td>\n",
       "      <td>24.224267</td>\n",
       "    </tr>\n",
       "    <tr>\n",
       "      <th>min</th>\n",
       "      <td>1.004500e+05</td>\n",
       "      <td>0.000000</td>\n",
       "      <td>0.215161</td>\n",
       "      <td>0.274146</td>\n",
       "      <td>-1.294094</td>\n",
       "      <td>296.221768</td>\n",
       "    </tr>\n",
       "    <tr>\n",
       "      <th>25%</th>\n",
       "      <td>2.485673e+08</td>\n",
       "      <td>0.000000</td>\n",
       "      <td>0.615148</td>\n",
       "      <td>1.598400</td>\n",
       "      <td>0.469003</td>\n",
       "      <td>347.094017</td>\n",
       "    </tr>\n",
       "    <tr>\n",
       "      <th>50%</th>\n",
       "      <td>4.980015e+08</td>\n",
       "      <td>0.000000</td>\n",
       "      <td>0.754627</td>\n",
       "      <td>3.075434</td>\n",
       "      <td>1.123446</td>\n",
       "      <td>365.977239</td>\n",
       "    </tr>\n",
       "    <tr>\n",
       "      <th>75%</th>\n",
       "      <td>7.498625e+08</td>\n",
       "      <td>0.000000</td>\n",
       "      <td>0.844203</td>\n",
       "      <td>5.418591</td>\n",
       "      <td>1.689836</td>\n",
       "      <td>382.319792</td>\n",
       "    </tr>\n",
       "    <tr>\n",
       "      <th>max</th>\n",
       "      <td>1.000084e+09</td>\n",
       "      <td>1.000000</td>\n",
       "      <td>0.993968</td>\n",
       "      <td>164.780235</td>\n",
       "      <td>5.104613</td>\n",
       "      <td>480.849426</td>\n",
       "    </tr>\n",
       "  </tbody>\n",
       "</table>\n",
       "</div>"
      ],
      "text/plain": [
       "                ids   performance        p_good     odds_good      log_odds  \\\n",
       "count  6.986700e+04  69867.000000  69867.000000  69867.000000  69867.000000   \n",
       "mean   4.992179e+08      0.042180      0.723766      4.357711      1.109394   \n",
       "std    2.885551e+08      0.201001      0.150698      4.685298      0.839549   \n",
       "min    1.004500e+05      0.000000      0.215161      0.274146     -1.294094   \n",
       "25%    2.485673e+08      0.000000      0.615148      1.598400      0.469003   \n",
       "50%    4.980015e+08      0.000000      0.754627      3.075434      1.123446   \n",
       "75%    7.498625e+08      0.000000      0.844203      5.418591      1.689836   \n",
       "max    1.000084e+09      1.000000      0.993968    164.780235      5.104613   \n",
       "\n",
       "              score  \n",
       "count  69867.000000  \n",
       "mean     365.571770  \n",
       "std       24.224267  \n",
       "min      296.221768  \n",
       "25%      347.094017  \n",
       "50%      365.977239  \n",
       "75%      382.319792  \n",
       "max      480.849426  "
      ]
     },
     "execution_count": 537,
     "metadata": {},
     "output_type": "execute_result"
    }
   ],
   "source": [
    "scorecard.describe()"
   ]
  },
  {
   "cell_type": "code",
   "execution_count": 538,
   "metadata": {
    "ExecuteTime": {
     "end_time": "2019-09-11T11:46:55.804000Z",
     "start_time": "2019-09-11T11:46:55.767000Z"
    }
   },
   "outputs": [
    {
     "data": {
      "text/html": [
       "<div>\n",
       "<style scoped>\n",
       "    .dataframe tbody tr th:only-of-type {\n",
       "        vertical-align: middle;\n",
       "    }\n",
       "\n",
       "    .dataframe tbody tr th {\n",
       "        vertical-align: top;\n",
       "    }\n",
       "\n",
       "    .dataframe thead tr th {\n",
       "        text-align: left;\n",
       "    }\n",
       "\n",
       "    .dataframe thead tr:last-of-type th {\n",
       "        text-align: right;\n",
       "    }\n",
       "</style>\n",
       "<table border=\"1\" class=\"dataframe\">\n",
       "  <thead>\n",
       "    <tr>\n",
       "      <th></th>\n",
       "      <th>ids</th>\n",
       "      <th colspan=\"4\" halign=\"left\">score</th>\n",
       "    </tr>\n",
       "    <tr>\n",
       "      <th></th>\n",
       "      <th>count</th>\n",
       "      <th>median</th>\n",
       "      <th>mean</th>\n",
       "      <th>min</th>\n",
       "      <th>max</th>\n",
       "    </tr>\n",
       "    <tr>\n",
       "      <th>performance</th>\n",
       "      <th></th>\n",
       "      <th></th>\n",
       "      <th></th>\n",
       "      <th></th>\n",
       "      <th></th>\n",
       "    </tr>\n",
       "  </thead>\n",
       "  <tbody>\n",
       "    <tr>\n",
       "      <th>0.0</th>\n",
       "      <td>66920</td>\n",
       "      <td>367.240072</td>\n",
       "      <td>366.998890</td>\n",
       "      <td>306.872553</td>\n",
       "      <td>480.849426</td>\n",
       "    </tr>\n",
       "    <tr>\n",
       "      <th>1.0</th>\n",
       "      <td>2947</td>\n",
       "      <td>327.465648</td>\n",
       "      <td>333.164963</td>\n",
       "      <td>296.221768</td>\n",
       "      <td>424.111651</td>\n",
       "    </tr>\n",
       "  </tbody>\n",
       "</table>\n",
       "</div>"
      ],
      "text/plain": [
       "               ids       score                                    \n",
       "             count      median        mean         min         max\n",
       "performance                                                       \n",
       "0.0          66920  367.240072  366.998890  306.872553  480.849426\n",
       "1.0           2947  327.465648  333.164963  296.221768  424.111651"
      ]
     },
     "execution_count": 538,
     "metadata": {},
     "output_type": "execute_result"
    }
   ],
   "source": [
    "scorecard.groupby(by='performance').agg({'ids':'count', 'score':['median','mean','min','max']})"
   ]
  },
  {
   "cell_type": "code",
   "execution_count": 548,
   "metadata": {
    "ExecuteTime": {
     "end_time": "2019-09-11T11:57:50.466000Z",
     "start_time": "2019-09-11T11:57:50.217000Z"
    }
   },
   "outputs": [
    {
     "data": {
      "image/png": "[encoded data removed]",
      "text/plain": [
       "<Figure size 1080x576 with 1 Axes>"
      ]
     },
     "metadata": {
      "needs_background": "light"
     },
     "output_type": "display_data"
    }
   ],
   "source": [
    "fig, ax = plt.subplots(1, 1, figsize=(15, 8))\n",
    "\n",
    "sns.distplot(scorecard.loc[scorecard['performance']==0,'score'], kde=True, hist=False, color='blue', label='Good', ax=ax)                                    \n",
    "sns.distplot(scorecard.loc[scorecard['performance']==1,'score'], kde=True, hist=False, color='red', label='Default', ax=ax)\n",
    "plt.title('Comparison of distributions', fontsize=16)\n",
    "plt.legend();\n",
    "plt.show()"
   ]
  },
  {
   "cell_type": "code",
   "execution_count": null,
   "metadata": {},
   "outputs": [],
   "source": [
    "cutoff vs accuracy, true positive rate, false positive rate, sensitivity, specificity etc.. and decide the cutoff score."
   ]
  },
  {
   "cell_type": "code",
   "execution_count": null,
   "metadata": {},
   "outputs": [],
   "source": []
  }
 ],
 "metadata": {
  "kernelspec": {
   "display_name": "Python 3",
   "language": "python",
   "name": "python3"
  },
  "language_info": {
   "codemirror_mode": {
    "name": "ipython",
    "version": 3
   },
   "file_extension": ".py",
   "mimetype": "text/x-python",
   "name": "python",
   "nbconvert_exporter": "python",
   "pygments_lexer": "ipython3",
   "version": "3.7.3"
  },
  "toc": {
   "base_numbering": 1,
   "nav_menu": {},
   "number_sections": true,
   "sideBar": true,
   "skip_h1_title": false,
   "title_cell": "Table of Contents",
   "title_sidebar": "Contents",
   "toc_cell": true,
   "toc_position": {
    "height": "calc(100% - 180px)",
    "left": "10px",
    "top": "150px",
    "width": "290px"
   },
   "toc_section_display": true,
   "toc_window_display": true
  }
 },
 "nbformat": 4,
 "nbformat_minor": 2
}
