{
 "cells": [
  {
   "cell_type": "markdown",
   "metadata": {
    "toc": true
   },
   "source": [
    "<h1>Table of Contents<span class=\"tocSkip\"></span></h1>\n",
    "<div class=\"toc\"><ul class=\"toc-item\"><li><span><a href=\"#Importing-Libraries\" data-toc-modified-id=\"Importing-Libraries-1\"><span class=\"toc-item-num\">1&nbsp;&nbsp;</span>Importing Libraries</a></span></li><li><span><a href=\"#Reading-data-from-disk\" data-toc-modified-id=\"Reading-data-from-disk-2\"><span class=\"toc-item-num\">2&nbsp;&nbsp;</span>Reading data from disk</a></span></li><li><span><a href=\"#EDA\" data-toc-modified-id=\"EDA-3\"><span class=\"toc-item-num\">3&nbsp;&nbsp;</span>EDA</a></span><ul class=\"toc-item\"><li><span><a href=\"#Merging-two-dataframes\" data-toc-modified-id=\"Merging-two-dataframes-3.1\"><span class=\"toc-item-num\">3.1&nbsp;&nbsp;</span>Merging two dataframes</a></span></li><li><span><a href=\"#Replacing-long-cumbersome-column-names\" data-toc-modified-id=\"Replacing-long-cumbersome-column-names-3.2\"><span class=\"toc-item-num\">3.2&nbsp;&nbsp;</span>Replacing long cumbersome column names</a></span></li><li><span><a href=\"#Univariate-Analysis,-WOE-&amp;-IV-analysis\" data-toc-modified-id=\"Univariate-Analysis,-WOE-&amp;-IV-analysis-3.3\"><span class=\"toc-item-num\">3.3&nbsp;&nbsp;</span>Univariate Analysis, WOE &amp; IV analysis</a></span><ul class=\"toc-item\"><li><span><a href=\"#Function-for-WOE-&amp;-IV-analysis\" data-toc-modified-id=\"Function-for-WOE-&amp;-IV-analysis-3.3.1\"><span class=\"toc-item-num\">3.3.1&nbsp;&nbsp;</span>Function for WOE &amp; IV analysis</a></span></li><li><span><a href=\"#Age\" data-toc-modified-id=\"Age-3.3.2\"><span class=\"toc-item-num\">3.3.2&nbsp;&nbsp;</span>Age</a></span></li><li><span><a href=\"#gender\" data-toc-modified-id=\"gender-3.3.3\"><span class=\"toc-item-num\">3.3.3&nbsp;&nbsp;</span>gender</a></span></li><li><span><a href=\"#marital\" data-toc-modified-id=\"marital-3.3.4\"><span class=\"toc-item-num\">3.3.4&nbsp;&nbsp;</span>marital</a></span></li><li><span><a href=\"#no_of_dependents\" data-toc-modified-id=\"no_of_dependents-3.3.5\"><span class=\"toc-item-num\">3.3.5&nbsp;&nbsp;</span>no_of_dependents</a></span></li><li><span><a href=\"#income\" data-toc-modified-id=\"income-3.3.6\"><span class=\"toc-item-num\">3.3.6&nbsp;&nbsp;</span>income</a></span></li><li><span><a href=\"#education\" data-toc-modified-id=\"education-3.3.7\"><span class=\"toc-item-num\">3.3.7&nbsp;&nbsp;</span>education</a></span></li><li><span><a href=\"#profession\" data-toc-modified-id=\"profession-3.3.8\"><span class=\"toc-item-num\">3.3.8&nbsp;&nbsp;</span>profession</a></span></li><li><span><a href=\"#residence_type\" data-toc-modified-id=\"residence_type-3.3.9\"><span class=\"toc-item-num\">3.3.9&nbsp;&nbsp;</span>residence_type</a></span></li><li><span><a href=\"#months_curr_residence\" data-toc-modified-id=\"months_curr_residence-3.3.10\"><span class=\"toc-item-num\">3.3.10&nbsp;&nbsp;</span>months_curr_residence</a></span></li><li><span><a href=\"#months_curr_company\" data-toc-modified-id=\"months_curr_company-3.3.11\"><span class=\"toc-item-num\">3.3.11&nbsp;&nbsp;</span>months_curr_company</a></span></li><li><span><a href=\"#cc_util\" data-toc-modified-id=\"cc_util-3.3.12\"><span class=\"toc-item-num\">3.3.12&nbsp;&nbsp;</span>cc_util</a></span></li><li><span><a href=\"#trades-6m\" data-toc-modified-id=\"trades-6m-3.3.13\"><span class=\"toc-item-num\">3.3.13&nbsp;&nbsp;</span>trades 6m</a></span></li><li><span><a href=\"#trades-12m\" data-toc-modified-id=\"trades-12m-3.3.14\"><span class=\"toc-item-num\">3.3.14&nbsp;&nbsp;</span>trades 12m</a></span></li><li><span><a href=\"#pl_trades-6m-&amp;-12m\" data-toc-modified-id=\"pl_trades-6m-&amp;-12m-3.3.15\"><span class=\"toc-item-num\">3.3.15&nbsp;&nbsp;</span>pl_trades 6m &amp; 12m</a></span></li><li><span><a href=\"#inquiries_6m-&amp;-12m\" data-toc-modified-id=\"inquiries_6m-&amp;-12m-3.3.16\"><span class=\"toc-item-num\">3.3.16&nbsp;&nbsp;</span>inquiries_6m &amp; 12m</a></span></li><li><span><a href=\"#open_home_loan\" data-toc-modified-id=\"open_home_loan-3.3.17\"><span class=\"toc-item-num\">3.3.17&nbsp;&nbsp;</span>open_home_loan</a></span></li><li><span><a href=\"#open_auto_loan\" data-toc-modified-id=\"open_auto_loan-3.3.18\"><span class=\"toc-item-num\">3.3.18&nbsp;&nbsp;</span>open_auto_loan</a></span></li><li><span><a href=\"#total_trades\" data-toc-modified-id=\"total_trades-3.3.19\"><span class=\"toc-item-num\">3.3.19&nbsp;&nbsp;</span>total_trades</a></span></li><li><span><a href=\"#outstanding_bal\" data-toc-modified-id=\"outstanding_bal-3.3.20\"><span class=\"toc-item-num\">3.3.20&nbsp;&nbsp;</span>outstanding_bal</a></span></li><li><span><a href=\"#DPD\" data-toc-modified-id=\"DPD-3.3.21\"><span class=\"toc-item-num\">3.3.21&nbsp;&nbsp;</span>DPD</a></span></li></ul></li></ul></li><li><span><a href=\"#Model-Building\" data-toc-modified-id=\"Model-Building-4\"><span class=\"toc-item-num\">4&nbsp;&nbsp;</span>Model Building</a></span><ul class=\"toc-item\"><li><span><a href=\"#separating-the-rows-with-no-performance-tag\" data-toc-modified-id=\"separating-the-rows-with-no-performance-tag-4.1\"><span class=\"toc-item-num\">4.1&nbsp;&nbsp;</span>separating the rows with no performance tag</a></span></li><li><span><a href=\"#train-test-split\" data-toc-modified-id=\"train-test-split-4.2\"><span class=\"toc-item-num\">4.2&nbsp;&nbsp;</span>train test split</a></span></li><li><span><a href=\"#Logistic-Regression-model-with-only-demographic-data\" data-toc-modified-id=\"Logistic-Regression-model-with-only-demographic-data-4.3\"><span class=\"toc-item-num\">4.3&nbsp;&nbsp;</span>Logistic Regression model with only demographic data</a></span><ul class=\"toc-item\"><li><span><a href=\"#Without-SMOTE-and-PCA\" data-toc-modified-id=\"Without-SMOTE-and-PCA-4.3.1\"><span class=\"toc-item-num\">4.3.1&nbsp;&nbsp;</span>Without SMOTE and PCA</a></span><ul class=\"toc-item\"><li><span><a href=\"#Evaluation-Metrics\" data-toc-modified-id=\"Evaluation-Metrics-4.3.1.1\"><span class=\"toc-item-num\">4.3.1.1&nbsp;&nbsp;</span>Evaluation Metrics</a></span></li></ul></li><li><span><a href=\"#Using-PCA\" data-toc-modified-id=\"Using-PCA-4.3.2\"><span class=\"toc-item-num\">4.3.2&nbsp;&nbsp;</span>Using PCA</a></span><ul class=\"toc-item\"><li><span><a href=\"#Evaluation-Metrics\" data-toc-modified-id=\"Evaluation-Metrics-4.3.2.1\"><span class=\"toc-item-num\">4.3.2.1&nbsp;&nbsp;</span>Evaluation Metrics</a></span></li></ul></li><li><span><a href=\"#Using-SMOTE-and-PCA\" data-toc-modified-id=\"Using-SMOTE-and-PCA-4.3.3\"><span class=\"toc-item-num\">4.3.3&nbsp;&nbsp;</span>Using SMOTE and PCA</a></span><ul class=\"toc-item\"><li><span><a href=\"#Evaluation-Metrics\" data-toc-modified-id=\"Evaluation-Metrics-4.3.3.1\"><span class=\"toc-item-num\">4.3.3.1&nbsp;&nbsp;</span>Evaluation Metrics</a></span></li></ul></li></ul></li></ul></li><li><span><a href=\"#Model-using-demographic-and-credit-bureau-data\" data-toc-modified-id=\"Model-using-demographic-and-credit-bureau-data-5\"><span class=\"toc-item-num\">5&nbsp;&nbsp;</span>Model using demographic and credit bureau data</a></span><ul class=\"toc-item\"><li><span><a href=\"#Logistic-Regression\" data-toc-modified-id=\"Logistic-Regression-5.1\"><span class=\"toc-item-num\">5.1&nbsp;&nbsp;</span>Logistic Regression</a></span><ul class=\"toc-item\"><li><ul class=\"toc-item\"><li><span><a href=\"#Evaluation-Metrics\" data-toc-modified-id=\"Evaluation-Metrics-5.1.0.1\"><span class=\"toc-item-num\">5.1.0.1&nbsp;&nbsp;</span>Evaluation Metrics</a></span></li></ul></li></ul></li><li><span><a href=\"#Random-Forest\" data-toc-modified-id=\"Random-Forest-5.2\"><span class=\"toc-item-num\">5.2&nbsp;&nbsp;</span>Random Forest</a></span><ul class=\"toc-item\"><li><ul class=\"toc-item\"><li><span><a href=\"#Evaluation-Metrics\" data-toc-modified-id=\"Evaluation-Metrics-5.2.0.1\"><span class=\"toc-item-num\">5.2.0.1&nbsp;&nbsp;</span>Evaluation Metrics</a></span></li></ul></li></ul></li></ul></li><li><span><a href=\"#Application-Scorecard\" data-toc-modified-id=\"Application-Scorecard-6\"><span class=\"toc-item-num\">6&nbsp;&nbsp;</span>Application Scorecard</a></span></li></ul></div>"
   ]
  },
  {
   "cell_type": "markdown",
   "metadata": {},
   "source": [
    "## Importing Libraries"
   ]
  },
  {
   "cell_type": "code",
   "execution_count": 1,
   "metadata": {
    "ExecuteTime": {
     "end_time": "2019-09-15T14:56:51.953676Z",
     "start_time": "2019-09-15T14:56:51.949709Z"
    }
   },
   "outputs": [],
   "source": [
    "# Ignore Warnings\n",
    "import warnings\n",
    "warnings.filterwarnings('ignore')"
   ]
  },
  {
   "cell_type": "code",
   "execution_count": 2,
   "metadata": {
    "ExecuteTime": {
     "end_time": "2019-09-15T14:56:54.223601Z",
     "start_time": "2019-09-15T14:56:52.604826Z"
    }
   },
   "outputs": [],
   "source": [
    "import numpy as np\n",
    "import pandas as pd\n",
    "import matplotlib.pyplot as plt\n",
    "import seaborn as sns\n",
    "%matplotlib inline\n",
    "from scipy import stats # For Using Box-Cox Transform"
   ]
  },
  {
   "cell_type": "markdown",
   "metadata": {},
   "source": [
    "## Reading data from disk"
   ]
  },
  {
   "cell_type": "code",
   "execution_count": 3,
   "metadata": {
    "ExecuteTime": {
     "end_time": "2019-09-15T14:56:55.397765Z",
     "start_time": "2019-09-15T14:56:55.181251Z"
    }
   },
   "outputs": [],
   "source": [
    "demo = pd.read_csv('Demographic data.csv')"
   ]
  },
  {
   "cell_type": "code",
   "execution_count": 4,
   "metadata": {
    "ExecuteTime": {
     "end_time": "2019-09-15T14:56:55.957270Z",
     "start_time": "2019-09-15T14:56:55.588163Z"
    }
   },
   "outputs": [],
   "source": [
    "cb = pd.read_csv('Credit Bureau data.csv')"
   ]
  },
  {
   "cell_type": "markdown",
   "metadata": {},
   "source": [
    "## EDA"
   ]
  },
  {
   "cell_type": "markdown",
   "metadata": {},
   "source": [
    "### Merging two dataframes"
   ]
  },
  {
   "cell_type": "code",
   "execution_count": 5,
   "metadata": {
    "ExecuteTime": {
     "end_time": "2019-09-15T14:56:57.081908Z",
     "start_time": "2019-09-15T14:56:57.076921Z"
    }
   },
   "outputs": [
    {
     "data": {
      "text/plain": [
       "((71295, 12), (71295, 19))"
      ]
     },
     "execution_count": 5,
     "metadata": {},
     "output_type": "execute_result"
    }
   ],
   "source": [
    "# Shape of the dataframes\n",
    "demo.shape, cb.shape"
   ]
  },
  {
   "cell_type": "markdown",
   "metadata": {},
   "source": [
    "There are exactly same rows in both files. Lets check if there is any column we can use to join them."
   ]
  },
  {
   "cell_type": "code",
   "execution_count": 6,
   "metadata": {
    "ExecuteTime": {
     "end_time": "2019-09-15T14:56:58.190707Z",
     "start_time": "2019-09-15T14:56:58.164773Z"
    }
   },
   "outputs": [
    {
     "name": "stdout",
     "output_type": "stream",
     "text": [
      "<class 'pandas.core.frame.DataFrame'>\n",
      "RangeIndex: 71295 entries, 0 to 71294\n",
      "Data columns (total 12 columns):\n",
      "Application ID                                 71295 non-null int64\n",
      "Age                                            71295 non-null int64\n",
      "Gender                                         71293 non-null object\n",
      "Marital Status (at the time of application)    71289 non-null object\n",
      "No of dependents                               71292 non-null float64\n",
      "Income                                         71295 non-null float64\n",
      "Education                                      71176 non-null object\n",
      "Profession                                     71281 non-null object\n",
      "Type of residence                              71287 non-null object\n",
      "No of months in current residence              71295 non-null int64\n",
      "No of months in current company                71295 non-null int64\n",
      "Performance Tag                                69870 non-null float64\n",
      "dtypes: float64(3), int64(4), object(5)\n",
      "memory usage: 6.5+ MB\n"
     ]
    }
   ],
   "source": [
    "# Column details and null info\n",
    "demo.info()"
   ]
  },
  {
   "cell_type": "code",
   "execution_count": 7,
   "metadata": {
    "ExecuteTime": {
     "end_time": "2019-09-15T14:56:58.660097Z",
     "start_time": "2019-09-15T14:56:58.637169Z"
    }
   },
   "outputs": [
    {
     "name": "stdout",
     "output_type": "stream",
     "text": [
      "<class 'pandas.core.frame.DataFrame'>\n",
      "RangeIndex: 71295 entries, 0 to 71294\n",
      "Data columns (total 19 columns):\n",
      "Application ID                                                     71295 non-null int64\n",
      "No of times 90 DPD or worse in last 6 months                       71295 non-null int64\n",
      "No of times 60 DPD or worse in last 6 months                       71295 non-null int64\n",
      "No of times 30 DPD or worse in last 6 months                       71295 non-null int64\n",
      "No of times 90 DPD or worse in last 12 months                      71295 non-null int64\n",
      "No of times 60 DPD or worse in last 12 months                      71295 non-null int64\n",
      "No of times 30 DPD or worse in last 12 months                      71295 non-null int64\n",
      "Avgas CC Utilization in last 12 months                             70237 non-null float64\n",
      "No of trades opened in last 6 months                               71294 non-null float64\n",
      "No of trades opened in last 12 months                              71295 non-null int64\n",
      "No of PL trades opened in last 6 months                            71295 non-null int64\n",
      "No of PL trades opened in last 12 months                           71295 non-null int64\n",
      "No of Inquiries in last 6 months (excluding home & auto loans)     71295 non-null int64\n",
      "No of Inquiries in last 12 months (excluding home & auto loans)    71295 non-null int64\n",
      "Presence of open home loan                                         71023 non-null float64\n",
      "Outstanding Balance                                                71023 non-null float64\n",
      "Total No of Trades                                                 71295 non-null int64\n",
      "Presence of open auto loan                                         71295 non-null int64\n",
      "Performance Tag                                                    69870 non-null float64\n",
      "dtypes: float64(5), int64(14)\n",
      "memory usage: 10.3 MB\n"
     ]
    }
   ],
   "source": [
    " cb.info()"
   ]
  },
  {
   "cell_type": "markdown",
   "metadata": {},
   "source": [
    "`Application ID` is a common column. Lets merge them into one dataframe before further analysis."
   ]
  },
  {
   "cell_type": "code",
   "execution_count": 8,
   "metadata": {
    "ExecuteTime": {
     "end_time": "2019-09-15T14:56:59.478080Z",
     "start_time": "2019-09-15T14:56:59.469104Z"
    }
   },
   "outputs": [
    {
     "data": {
      "text/plain": [
       "(3, 3)"
      ]
     },
     "execution_count": 8,
     "metadata": {},
     "output_type": "execute_result"
    }
   ],
   "source": [
    "# Checking for duplicates in both dataframes\n",
    "demo['Application ID'].duplicated().sum(), cb['Application ID'].duplicated().sum()"
   ]
  },
  {
   "cell_type": "markdown",
   "metadata": {},
   "source": [
    "There are 3 application ids that repeat. Since we have 71k rows we can afford to drop 3."
   ]
  },
  {
   "cell_type": "code",
   "execution_count": 9,
   "metadata": {
    "ExecuteTime": {
     "end_time": "2019-09-15T14:57:00.214415Z",
     "start_time": "2019-09-15T14:57:00.204418Z"
    }
   },
   "outputs": [],
   "source": [
    "# Droppping duplicates on `Application ID` before using it as key for merging.\n",
    "demo = demo.loc[~demo['Application ID'].duplicated(keep='first'),:]"
   ]
  },
  {
   "cell_type": "code",
   "execution_count": 10,
   "metadata": {
    "ExecuteTime": {
     "end_time": "2019-09-15T14:57:00.565957Z",
     "start_time": "2019-09-15T14:57:00.555956Z"
    }
   },
   "outputs": [],
   "source": [
    "# Droppping duplicates on `Application ID` before using it as key for merging.\n",
    "cb = cb.loc[~cb['Application ID'].duplicated(keep='first'),:]"
   ]
  },
  {
   "cell_type": "code",
   "execution_count": 11,
   "metadata": {
    "ExecuteTime": {
     "end_time": "2019-09-15T14:57:00.921119Z",
     "start_time": "2019-09-15T14:57:00.917130Z"
    }
   },
   "outputs": [
    {
     "data": {
      "text/plain": [
       "((71292, 12), (71292, 19))"
      ]
     },
     "execution_count": 11,
     "metadata": {},
     "output_type": "execute_result"
    }
   ],
   "source": [
    "# Shapes before merging\n",
    "demo.shape, cb.shape"
   ]
  },
  {
   "cell_type": "code",
   "execution_count": 12,
   "metadata": {
    "ExecuteTime": {
     "end_time": "2019-09-15T14:57:01.330385Z",
     "start_time": "2019-09-15T14:57:01.262591Z"
    }
   },
   "outputs": [],
   "source": [
    "# Merging on the Application ID column\n",
    "df = pd.merge(demo,cb, on='Application ID', how='inner')"
   ]
  },
  {
   "cell_type": "code",
   "execution_count": 13,
   "metadata": {
    "ExecuteTime": {
     "end_time": "2019-09-15T14:57:01.624952Z",
     "start_time": "2019-09-15T14:57:01.620958Z"
    }
   },
   "outputs": [
    {
     "data": {
      "text/plain": [
       "(71292, 30)"
      ]
     },
     "execution_count": 13,
     "metadata": {},
     "output_type": "execute_result"
    }
   ],
   "source": [
    "# Check the shape after merge\n",
    "df.shape"
   ]
  },
  {
   "cell_type": "markdown",
   "metadata": {},
   "source": [
    "DataFrame shape after merge is as expected."
   ]
  },
  {
   "cell_type": "code",
   "execution_count": 14,
   "metadata": {
    "ExecuteTime": {
     "end_time": "2019-09-15T14:57:02.348907Z",
     "start_time": "2019-09-15T14:57:02.337935Z"
    },
    "scrolled": true
   },
   "outputs": [
    {
     "data": {
      "text/html": [
       "<div>\n",
       "<style scoped>\n",
       "    .dataframe tbody tr th:only-of-type {\n",
       "        vertical-align: middle;\n",
       "    }\n",
       "\n",
       "    .dataframe tbody tr th {\n",
       "        vertical-align: top;\n",
       "    }\n",
       "\n",
       "    .dataframe thead th {\n",
       "        text-align: right;\n",
       "    }\n",
       "</style>\n",
       "<table border=\"1\" class=\"dataframe\">\n",
       "  <thead>\n",
       "    <tr style=\"text-align: right;\">\n",
       "      <th></th>\n",
       "      <th>0</th>\n",
       "      <th>1</th>\n",
       "      <th>2</th>\n",
       "      <th>3</th>\n",
       "      <th>4</th>\n",
       "    </tr>\n",
       "  </thead>\n",
       "  <tbody>\n",
       "    <tr>\n",
       "      <th>Application ID</th>\n",
       "      <td>954457215</td>\n",
       "      <td>432830445</td>\n",
       "      <td>941387308</td>\n",
       "      <td>392161677</td>\n",
       "      <td>182011211</td>\n",
       "    </tr>\n",
       "    <tr>\n",
       "      <th>Age</th>\n",
       "      <td>48</td>\n",
       "      <td>31</td>\n",
       "      <td>32</td>\n",
       "      <td>43</td>\n",
       "      <td>35</td>\n",
       "    </tr>\n",
       "    <tr>\n",
       "      <th>Gender</th>\n",
       "      <td>F</td>\n",
       "      <td>M</td>\n",
       "      <td>M</td>\n",
       "      <td>M</td>\n",
       "      <td>F</td>\n",
       "    </tr>\n",
       "    <tr>\n",
       "      <th>Marital Status (at the time of application)</th>\n",
       "      <td>Married</td>\n",
       "      <td>Married</td>\n",
       "      <td>Single</td>\n",
       "      <td>Married</td>\n",
       "      <td>Married</td>\n",
       "    </tr>\n",
       "    <tr>\n",
       "      <th>No of dependents</th>\n",
       "      <td>2</td>\n",
       "      <td>4</td>\n",
       "      <td>2</td>\n",
       "      <td>1</td>\n",
       "      <td>5</td>\n",
       "    </tr>\n",
       "    <tr>\n",
       "      <th>Income</th>\n",
       "      <td>40</td>\n",
       "      <td>55</td>\n",
       "      <td>46</td>\n",
       "      <td>53</td>\n",
       "      <td>44</td>\n",
       "    </tr>\n",
       "    <tr>\n",
       "      <th>Education</th>\n",
       "      <td>Bachelor</td>\n",
       "      <td>Professional</td>\n",
       "      <td>Bachelor</td>\n",
       "      <td>Bachelor</td>\n",
       "      <td>Professional</td>\n",
       "    </tr>\n",
       "    <tr>\n",
       "      <th>Profession</th>\n",
       "      <td>SAL</td>\n",
       "      <td>SE_PROF</td>\n",
       "      <td>SE_PROF</td>\n",
       "      <td>SE</td>\n",
       "      <td>SAL</td>\n",
       "    </tr>\n",
       "    <tr>\n",
       "      <th>Type of residence</th>\n",
       "      <td>Rented</td>\n",
       "      <td>Rented</td>\n",
       "      <td>Rented</td>\n",
       "      <td>Rented</td>\n",
       "      <td>Rented</td>\n",
       "    </tr>\n",
       "    <tr>\n",
       "      <th>No of months in current residence</th>\n",
       "      <td>113</td>\n",
       "      <td>112</td>\n",
       "      <td>104</td>\n",
       "      <td>94</td>\n",
       "      <td>112</td>\n",
       "    </tr>\n",
       "    <tr>\n",
       "      <th>No of months in current company</th>\n",
       "      <td>56</td>\n",
       "      <td>46</td>\n",
       "      <td>49</td>\n",
       "      <td>53</td>\n",
       "      <td>43</td>\n",
       "    </tr>\n",
       "    <tr>\n",
       "      <th>Performance Tag_x</th>\n",
       "      <td>0</td>\n",
       "      <td>0</td>\n",
       "      <td>0</td>\n",
       "      <td>0</td>\n",
       "      <td>0</td>\n",
       "    </tr>\n",
       "    <tr>\n",
       "      <th>No of times 90 DPD or worse in last 6 months</th>\n",
       "      <td>0</td>\n",
       "      <td>0</td>\n",
       "      <td>0</td>\n",
       "      <td>0</td>\n",
       "      <td>0</td>\n",
       "    </tr>\n",
       "    <tr>\n",
       "      <th>No of times 60 DPD or worse in last 6 months</th>\n",
       "      <td>0</td>\n",
       "      <td>0</td>\n",
       "      <td>0</td>\n",
       "      <td>0</td>\n",
       "      <td>0</td>\n",
       "    </tr>\n",
       "    <tr>\n",
       "      <th>No of times 30 DPD or worse in last 6 months</th>\n",
       "      <td>0</td>\n",
       "      <td>0</td>\n",
       "      <td>0</td>\n",
       "      <td>0</td>\n",
       "      <td>0</td>\n",
       "    </tr>\n",
       "    <tr>\n",
       "      <th>No of times 90 DPD or worse in last 12 months</th>\n",
       "      <td>0</td>\n",
       "      <td>0</td>\n",
       "      <td>0</td>\n",
       "      <td>0</td>\n",
       "      <td>0</td>\n",
       "    </tr>\n",
       "    <tr>\n",
       "      <th>No of times 60 DPD or worse in last 12 months</th>\n",
       "      <td>0</td>\n",
       "      <td>0</td>\n",
       "      <td>0</td>\n",
       "      <td>0</td>\n",
       "      <td>0</td>\n",
       "    </tr>\n",
       "    <tr>\n",
       "      <th>No of times 30 DPD or worse in last 12 months</th>\n",
       "      <td>0</td>\n",
       "      <td>0</td>\n",
       "      <td>0</td>\n",
       "      <td>0</td>\n",
       "      <td>0</td>\n",
       "    </tr>\n",
       "    <tr>\n",
       "      <th>Avgas CC Utilization in last 12 months</th>\n",
       "      <td>4</td>\n",
       "      <td>3</td>\n",
       "      <td>7</td>\n",
       "      <td>11</td>\n",
       "      <td>12</td>\n",
       "    </tr>\n",
       "    <tr>\n",
       "      <th>No of trades opened in last 6 months</th>\n",
       "      <td>1</td>\n",
       "      <td>1</td>\n",
       "      <td>0</td>\n",
       "      <td>1</td>\n",
       "      <td>0</td>\n",
       "    </tr>\n",
       "    <tr>\n",
       "      <th>No of trades opened in last 12 months</th>\n",
       "      <td>2</td>\n",
       "      <td>2</td>\n",
       "      <td>0</td>\n",
       "      <td>1</td>\n",
       "      <td>1</td>\n",
       "    </tr>\n",
       "    <tr>\n",
       "      <th>No of PL trades opened in last 6 months</th>\n",
       "      <td>0</td>\n",
       "      <td>0</td>\n",
       "      <td>0</td>\n",
       "      <td>0</td>\n",
       "      <td>0</td>\n",
       "    </tr>\n",
       "    <tr>\n",
       "      <th>No of PL trades opened in last 12 months</th>\n",
       "      <td>0</td>\n",
       "      <td>0</td>\n",
       "      <td>0</td>\n",
       "      <td>0</td>\n",
       "      <td>0</td>\n",
       "    </tr>\n",
       "    <tr>\n",
       "      <th>No of Inquiries in last 6 months (excluding home &amp; auto loans)</th>\n",
       "      <td>0</td>\n",
       "      <td>0</td>\n",
       "      <td>0</td>\n",
       "      <td>0</td>\n",
       "      <td>0</td>\n",
       "    </tr>\n",
       "    <tr>\n",
       "      <th>No of Inquiries in last 12 months (excluding home &amp; auto loans)</th>\n",
       "      <td>0</td>\n",
       "      <td>0</td>\n",
       "      <td>0</td>\n",
       "      <td>0</td>\n",
       "      <td>0</td>\n",
       "    </tr>\n",
       "    <tr>\n",
       "      <th>Presence of open home loan</th>\n",
       "      <td>1</td>\n",
       "      <td>0</td>\n",
       "      <td>1</td>\n",
       "      <td>1</td>\n",
       "      <td>1</td>\n",
       "    </tr>\n",
       "    <tr>\n",
       "      <th>Outstanding Balance</th>\n",
       "      <td>2.9994e+06</td>\n",
       "      <td>3078</td>\n",
       "      <td>3.00497e+06</td>\n",
       "      <td>3.35537e+06</td>\n",
       "      <td>3.01428e+06</td>\n",
       "    </tr>\n",
       "    <tr>\n",
       "      <th>Total No of Trades</th>\n",
       "      <td>4</td>\n",
       "      <td>5</td>\n",
       "      <td>2</td>\n",
       "      <td>4</td>\n",
       "      <td>4</td>\n",
       "    </tr>\n",
       "    <tr>\n",
       "      <th>Presence of open auto loan</th>\n",
       "      <td>0</td>\n",
       "      <td>0</td>\n",
       "      <td>0</td>\n",
       "      <td>1</td>\n",
       "      <td>0</td>\n",
       "    </tr>\n",
       "    <tr>\n",
       "      <th>Performance Tag_y</th>\n",
       "      <td>0</td>\n",
       "      <td>0</td>\n",
       "      <td>0</td>\n",
       "      <td>0</td>\n",
       "      <td>0</td>\n",
       "    </tr>\n",
       "  </tbody>\n",
       "</table>\n",
       "</div>"
      ],
      "text/plain": [
       "                                                             0             1  \\\n",
       "Application ID                                       954457215     432830445   \n",
       "Age                                                         48            31   \n",
       "Gender                                                       F             M   \n",
       "Marital Status (at the time of application)            Married       Married   \n",
       "No of dependents                                             2             4   \n",
       "Income                                                      40            55   \n",
       "Education                                             Bachelor  Professional   \n",
       "Profession                                                 SAL       SE_PROF   \n",
       "Type of residence                                       Rented        Rented   \n",
       "No of months in current residence                          113           112   \n",
       "No of months in current company                             56            46   \n",
       "Performance Tag_x                                            0             0   \n",
       "No of times 90 DPD or worse in last 6 months                 0             0   \n",
       "No of times 60 DPD or worse in last 6 months                 0             0   \n",
       "No of times 30 DPD or worse in last 6 months                 0             0   \n",
       "No of times 90 DPD or worse in last 12 months                0             0   \n",
       "No of times 60 DPD or worse in last 12 months                0             0   \n",
       "No of times 30 DPD or worse in last 12 months                0             0   \n",
       "Avgas CC Utilization in last 12 months                       4             3   \n",
       "No of trades opened in last 6 months                         1             1   \n",
       "No of trades opened in last 12 months                        2             2   \n",
       "No of PL trades opened in last 6 months                      0             0   \n",
       "No of PL trades opened in last 12 months                     0             0   \n",
       "No of Inquiries in last 6 months (excluding hom...           0             0   \n",
       "No of Inquiries in last 12 months (excluding ho...           0             0   \n",
       "Presence of open home loan                                   1             0   \n",
       "Outstanding Balance                                 2.9994e+06          3078   \n",
       "Total No of Trades                                           4             5   \n",
       "Presence of open auto loan                                   0             0   \n",
       "Performance Tag_y                                            0             0   \n",
       "\n",
       "                                                              2            3  \\\n",
       "Application ID                                        941387308    392161677   \n",
       "Age                                                          32           43   \n",
       "Gender                                                        M            M   \n",
       "Marital Status (at the time of application)              Single      Married   \n",
       "No of dependents                                              2            1   \n",
       "Income                                                       46           53   \n",
       "Education                                              Bachelor     Bachelor   \n",
       "Profession                                              SE_PROF           SE   \n",
       "Type of residence                                        Rented       Rented   \n",
       "No of months in current residence                           104           94   \n",
       "No of months in current company                              49           53   \n",
       "Performance Tag_x                                             0            0   \n",
       "No of times 90 DPD or worse in last 6 months                  0            0   \n",
       "No of times 60 DPD or worse in last 6 months                  0            0   \n",
       "No of times 30 DPD or worse in last 6 months                  0            0   \n",
       "No of times 90 DPD or worse in last 12 months                 0            0   \n",
       "No of times 60 DPD or worse in last 12 months                 0            0   \n",
       "No of times 30 DPD or worse in last 12 months                 0            0   \n",
       "Avgas CC Utilization in last 12 months                        7           11   \n",
       "No of trades opened in last 6 months                          0            1   \n",
       "No of trades opened in last 12 months                         0            1   \n",
       "No of PL trades opened in last 6 months                       0            0   \n",
       "No of PL trades opened in last 12 months                      0            0   \n",
       "No of Inquiries in last 6 months (excluding hom...            0            0   \n",
       "No of Inquiries in last 12 months (excluding ho...            0            0   \n",
       "Presence of open home loan                                    1            1   \n",
       "Outstanding Balance                                 3.00497e+06  3.35537e+06   \n",
       "Total No of Trades                                            2            4   \n",
       "Presence of open auto loan                                    0            1   \n",
       "Performance Tag_y                                             0            0   \n",
       "\n",
       "                                                               4  \n",
       "Application ID                                         182011211  \n",
       "Age                                                           35  \n",
       "Gender                                                         F  \n",
       "Marital Status (at the time of application)              Married  \n",
       "No of dependents                                               5  \n",
       "Income                                                        44  \n",
       "Education                                           Professional  \n",
       "Profession                                                   SAL  \n",
       "Type of residence                                         Rented  \n",
       "No of months in current residence                            112  \n",
       "No of months in current company                               43  \n",
       "Performance Tag_x                                              0  \n",
       "No of times 90 DPD or worse in last 6 months                   0  \n",
       "No of times 60 DPD or worse in last 6 months                   0  \n",
       "No of times 30 DPD or worse in last 6 months                   0  \n",
       "No of times 90 DPD or worse in last 12 months                  0  \n",
       "No of times 60 DPD or worse in last 12 months                  0  \n",
       "No of times 30 DPD or worse in last 12 months                  0  \n",
       "Avgas CC Utilization in last 12 months                        12  \n",
       "No of trades opened in last 6 months                           0  \n",
       "No of trades opened in last 12 months                          1  \n",
       "No of PL trades opened in last 6 months                        0  \n",
       "No of PL trades opened in last 12 months                       0  \n",
       "No of Inquiries in last 6 months (excluding hom...             0  \n",
       "No of Inquiries in last 12 months (excluding ho...             0  \n",
       "Presence of open home loan                                     1  \n",
       "Outstanding Balance                                  3.01428e+06  \n",
       "Total No of Trades                                             4  \n",
       "Presence of open auto loan                                     0  \n",
       "Performance Tag_y                                              0  "
      ]
     },
     "execution_count": 14,
     "metadata": {},
     "output_type": "execute_result"
    }
   ],
   "source": [
    "# Observiong Head of the dataset\n",
    "df.head().T"
   ]
  },
  {
   "cell_type": "markdown",
   "metadata": {},
   "source": [
    "There are two Performance Tag columns from each files. Lets check if they have same data"
   ]
  },
  {
   "cell_type": "code",
   "execution_count": 15,
   "metadata": {
    "ExecuteTime": {
     "end_time": "2019-09-15T14:57:02.937988Z",
     "start_time": "2019-09-15T14:57:02.932998Z"
    }
   },
   "outputs": [
    {
     "data": {
      "text/plain": [
       "69867"
      ]
     },
     "execution_count": 15,
     "metadata": {},
     "output_type": "execute_result"
    }
   ],
   "source": [
    "# Check both performance tag Series are equal\n",
    "(df['Performance Tag_x'] == df['Performance Tag_y']).sum()"
   ]
  },
  {
   "cell_type": "markdown",
   "metadata": {
    "ExecuteTime": {
     "end_time": "2019-08-17T06:32:58.299584Z",
     "start_time": "2019-08-17T06:32:58.294597Z"
    }
   },
   "source": [
    "Among `71292`, `69867` same values, rest are nulls.<br>\n",
    "So all non-null values of the both perfomance column is same.<br>\n",
    "We need only one of them."
   ]
  },
  {
   "cell_type": "code",
   "execution_count": 16,
   "metadata": {
    "ExecuteTime": {
     "end_time": "2019-09-15T14:57:03.514419Z",
     "start_time": "2019-09-15T14:57:03.484524Z"
    }
   },
   "outputs": [],
   "source": [
    "# Dropped the \"performance tag_x\"\n",
    "df.drop('Performance Tag_x', axis=1, inplace=True)"
   ]
  },
  {
   "cell_type": "markdown",
   "metadata": {},
   "source": [
    "### Replacing long cumbersome column names"
   ]
  },
  {
   "cell_type": "code",
   "execution_count": 17,
   "metadata": {
    "ExecuteTime": {
     "end_time": "2019-09-15T14:57:04.111079Z",
     "start_time": "2019-09-15T14:57:04.101106Z"
    },
    "scrolled": true
   },
   "outputs": [
    {
     "data": {
      "text/html": [
       "<div>\n",
       "<style scoped>\n",
       "    .dataframe tbody tr th:only-of-type {\n",
       "        vertical-align: middle;\n",
       "    }\n",
       "\n",
       "    .dataframe tbody tr th {\n",
       "        vertical-align: top;\n",
       "    }\n",
       "\n",
       "    .dataframe thead th {\n",
       "        text-align: right;\n",
       "    }\n",
       "</style>\n",
       "<table border=\"1\" class=\"dataframe\">\n",
       "  <thead>\n",
       "    <tr style=\"text-align: right;\">\n",
       "      <th></th>\n",
       "      <th>0</th>\n",
       "      <th>1</th>\n",
       "      <th>2</th>\n",
       "      <th>3</th>\n",
       "      <th>4</th>\n",
       "    </tr>\n",
       "  </thead>\n",
       "  <tbody>\n",
       "    <tr>\n",
       "      <th>Application ID</th>\n",
       "      <td>954457215</td>\n",
       "      <td>432830445</td>\n",
       "      <td>941387308</td>\n",
       "      <td>392161677</td>\n",
       "      <td>182011211</td>\n",
       "    </tr>\n",
       "    <tr>\n",
       "      <th>Age</th>\n",
       "      <td>48</td>\n",
       "      <td>31</td>\n",
       "      <td>32</td>\n",
       "      <td>43</td>\n",
       "      <td>35</td>\n",
       "    </tr>\n",
       "    <tr>\n",
       "      <th>Gender</th>\n",
       "      <td>F</td>\n",
       "      <td>M</td>\n",
       "      <td>M</td>\n",
       "      <td>M</td>\n",
       "      <td>F</td>\n",
       "    </tr>\n",
       "    <tr>\n",
       "      <th>Marital Status (at the time of application)</th>\n",
       "      <td>Married</td>\n",
       "      <td>Married</td>\n",
       "      <td>Single</td>\n",
       "      <td>Married</td>\n",
       "      <td>Married</td>\n",
       "    </tr>\n",
       "    <tr>\n",
       "      <th>No of dependents</th>\n",
       "      <td>2</td>\n",
       "      <td>4</td>\n",
       "      <td>2</td>\n",
       "      <td>1</td>\n",
       "      <td>5</td>\n",
       "    </tr>\n",
       "    <tr>\n",
       "      <th>Income</th>\n",
       "      <td>40</td>\n",
       "      <td>55</td>\n",
       "      <td>46</td>\n",
       "      <td>53</td>\n",
       "      <td>44</td>\n",
       "    </tr>\n",
       "    <tr>\n",
       "      <th>Education</th>\n",
       "      <td>Bachelor</td>\n",
       "      <td>Professional</td>\n",
       "      <td>Bachelor</td>\n",
       "      <td>Bachelor</td>\n",
       "      <td>Professional</td>\n",
       "    </tr>\n",
       "    <tr>\n",
       "      <th>Profession</th>\n",
       "      <td>SAL</td>\n",
       "      <td>SE_PROF</td>\n",
       "      <td>SE_PROF</td>\n",
       "      <td>SE</td>\n",
       "      <td>SAL</td>\n",
       "    </tr>\n",
       "    <tr>\n",
       "      <th>Type of residence</th>\n",
       "      <td>Rented</td>\n",
       "      <td>Rented</td>\n",
       "      <td>Rented</td>\n",
       "      <td>Rented</td>\n",
       "      <td>Rented</td>\n",
       "    </tr>\n",
       "    <tr>\n",
       "      <th>No of months in current residence</th>\n",
       "      <td>113</td>\n",
       "      <td>112</td>\n",
       "      <td>104</td>\n",
       "      <td>94</td>\n",
       "      <td>112</td>\n",
       "    </tr>\n",
       "    <tr>\n",
       "      <th>No of months in current company</th>\n",
       "      <td>56</td>\n",
       "      <td>46</td>\n",
       "      <td>49</td>\n",
       "      <td>53</td>\n",
       "      <td>43</td>\n",
       "    </tr>\n",
       "    <tr>\n",
       "      <th>No of times 90 DPD or worse in last 6 months</th>\n",
       "      <td>0</td>\n",
       "      <td>0</td>\n",
       "      <td>0</td>\n",
       "      <td>0</td>\n",
       "      <td>0</td>\n",
       "    </tr>\n",
       "    <tr>\n",
       "      <th>No of times 60 DPD or worse in last 6 months</th>\n",
       "      <td>0</td>\n",
       "      <td>0</td>\n",
       "      <td>0</td>\n",
       "      <td>0</td>\n",
       "      <td>0</td>\n",
       "    </tr>\n",
       "    <tr>\n",
       "      <th>No of times 30 DPD or worse in last 6 months</th>\n",
       "      <td>0</td>\n",
       "      <td>0</td>\n",
       "      <td>0</td>\n",
       "      <td>0</td>\n",
       "      <td>0</td>\n",
       "    </tr>\n",
       "    <tr>\n",
       "      <th>No of times 90 DPD or worse in last 12 months</th>\n",
       "      <td>0</td>\n",
       "      <td>0</td>\n",
       "      <td>0</td>\n",
       "      <td>0</td>\n",
       "      <td>0</td>\n",
       "    </tr>\n",
       "    <tr>\n",
       "      <th>No of times 60 DPD or worse in last 12 months</th>\n",
       "      <td>0</td>\n",
       "      <td>0</td>\n",
       "      <td>0</td>\n",
       "      <td>0</td>\n",
       "      <td>0</td>\n",
       "    </tr>\n",
       "    <tr>\n",
       "      <th>No of times 30 DPD or worse in last 12 months</th>\n",
       "      <td>0</td>\n",
       "      <td>0</td>\n",
       "      <td>0</td>\n",
       "      <td>0</td>\n",
       "      <td>0</td>\n",
       "    </tr>\n",
       "    <tr>\n",
       "      <th>Avgas CC Utilization in last 12 months</th>\n",
       "      <td>4</td>\n",
       "      <td>3</td>\n",
       "      <td>7</td>\n",
       "      <td>11</td>\n",
       "      <td>12</td>\n",
       "    </tr>\n",
       "    <tr>\n",
       "      <th>No of trades opened in last 6 months</th>\n",
       "      <td>1</td>\n",
       "      <td>1</td>\n",
       "      <td>0</td>\n",
       "      <td>1</td>\n",
       "      <td>0</td>\n",
       "    </tr>\n",
       "    <tr>\n",
       "      <th>No of trades opened in last 12 months</th>\n",
       "      <td>2</td>\n",
       "      <td>2</td>\n",
       "      <td>0</td>\n",
       "      <td>1</td>\n",
       "      <td>1</td>\n",
       "    </tr>\n",
       "    <tr>\n",
       "      <th>No of PL trades opened in last 6 months</th>\n",
       "      <td>0</td>\n",
       "      <td>0</td>\n",
       "      <td>0</td>\n",
       "      <td>0</td>\n",
       "      <td>0</td>\n",
       "    </tr>\n",
       "    <tr>\n",
       "      <th>No of PL trades opened in last 12 months</th>\n",
       "      <td>0</td>\n",
       "      <td>0</td>\n",
       "      <td>0</td>\n",
       "      <td>0</td>\n",
       "      <td>0</td>\n",
       "    </tr>\n",
       "    <tr>\n",
       "      <th>No of Inquiries in last 6 months (excluding home &amp; auto loans)</th>\n",
       "      <td>0</td>\n",
       "      <td>0</td>\n",
       "      <td>0</td>\n",
       "      <td>0</td>\n",
       "      <td>0</td>\n",
       "    </tr>\n",
       "    <tr>\n",
       "      <th>No of Inquiries in last 12 months (excluding home &amp; auto loans)</th>\n",
       "      <td>0</td>\n",
       "      <td>0</td>\n",
       "      <td>0</td>\n",
       "      <td>0</td>\n",
       "      <td>0</td>\n",
       "    </tr>\n",
       "    <tr>\n",
       "      <th>Presence of open home loan</th>\n",
       "      <td>1</td>\n",
       "      <td>0</td>\n",
       "      <td>1</td>\n",
       "      <td>1</td>\n",
       "      <td>1</td>\n",
       "    </tr>\n",
       "    <tr>\n",
       "      <th>Outstanding Balance</th>\n",
       "      <td>2.9994e+06</td>\n",
       "      <td>3078</td>\n",
       "      <td>3.00497e+06</td>\n",
       "      <td>3.35537e+06</td>\n",
       "      <td>3.01428e+06</td>\n",
       "    </tr>\n",
       "    <tr>\n",
       "      <th>Total No of Trades</th>\n",
       "      <td>4</td>\n",
       "      <td>5</td>\n",
       "      <td>2</td>\n",
       "      <td>4</td>\n",
       "      <td>4</td>\n",
       "    </tr>\n",
       "    <tr>\n",
       "      <th>Presence of open auto loan</th>\n",
       "      <td>0</td>\n",
       "      <td>0</td>\n",
       "      <td>0</td>\n",
       "      <td>1</td>\n",
       "      <td>0</td>\n",
       "    </tr>\n",
       "    <tr>\n",
       "      <th>Performance Tag_y</th>\n",
       "      <td>0</td>\n",
       "      <td>0</td>\n",
       "      <td>0</td>\n",
       "      <td>0</td>\n",
       "      <td>0</td>\n",
       "    </tr>\n",
       "  </tbody>\n",
       "</table>\n",
       "</div>"
      ],
      "text/plain": [
       "                                                             0             1  \\\n",
       "Application ID                                       954457215     432830445   \n",
       "Age                                                         48            31   \n",
       "Gender                                                       F             M   \n",
       "Marital Status (at the time of application)            Married       Married   \n",
       "No of dependents                                             2             4   \n",
       "Income                                                      40            55   \n",
       "Education                                             Bachelor  Professional   \n",
       "Profession                                                 SAL       SE_PROF   \n",
       "Type of residence                                       Rented        Rented   \n",
       "No of months in current residence                          113           112   \n",
       "No of months in current company                             56            46   \n",
       "No of times 90 DPD or worse in last 6 months                 0             0   \n",
       "No of times 60 DPD or worse in last 6 months                 0             0   \n",
       "No of times 30 DPD or worse in last 6 months                 0             0   \n",
       "No of times 90 DPD or worse in last 12 months                0             0   \n",
       "No of times 60 DPD or worse in last 12 months                0             0   \n",
       "No of times 30 DPD or worse in last 12 months                0             0   \n",
       "Avgas CC Utilization in last 12 months                       4             3   \n",
       "No of trades opened in last 6 months                         1             1   \n",
       "No of trades opened in last 12 months                        2             2   \n",
       "No of PL trades opened in last 6 months                      0             0   \n",
       "No of PL trades opened in last 12 months                     0             0   \n",
       "No of Inquiries in last 6 months (excluding hom...           0             0   \n",
       "No of Inquiries in last 12 months (excluding ho...           0             0   \n",
       "Presence of open home loan                                   1             0   \n",
       "Outstanding Balance                                 2.9994e+06          3078   \n",
       "Total No of Trades                                           4             5   \n",
       "Presence of open auto loan                                   0             0   \n",
       "Performance Tag_y                                            0             0   \n",
       "\n",
       "                                                              2            3  \\\n",
       "Application ID                                        941387308    392161677   \n",
       "Age                                                          32           43   \n",
       "Gender                                                        M            M   \n",
       "Marital Status (at the time of application)              Single      Married   \n",
       "No of dependents                                              2            1   \n",
       "Income                                                       46           53   \n",
       "Education                                              Bachelor     Bachelor   \n",
       "Profession                                              SE_PROF           SE   \n",
       "Type of residence                                        Rented       Rented   \n",
       "No of months in current residence                           104           94   \n",
       "No of months in current company                              49           53   \n",
       "No of times 90 DPD or worse in last 6 months                  0            0   \n",
       "No of times 60 DPD or worse in last 6 months                  0            0   \n",
       "No of times 30 DPD or worse in last 6 months                  0            0   \n",
       "No of times 90 DPD or worse in last 12 months                 0            0   \n",
       "No of times 60 DPD or worse in last 12 months                 0            0   \n",
       "No of times 30 DPD or worse in last 12 months                 0            0   \n",
       "Avgas CC Utilization in last 12 months                        7           11   \n",
       "No of trades opened in last 6 months                          0            1   \n",
       "No of trades opened in last 12 months                         0            1   \n",
       "No of PL trades opened in last 6 months                       0            0   \n",
       "No of PL trades opened in last 12 months                      0            0   \n",
       "No of Inquiries in last 6 months (excluding hom...            0            0   \n",
       "No of Inquiries in last 12 months (excluding ho...            0            0   \n",
       "Presence of open home loan                                    1            1   \n",
       "Outstanding Balance                                 3.00497e+06  3.35537e+06   \n",
       "Total No of Trades                                            2            4   \n",
       "Presence of open auto loan                                    0            1   \n",
       "Performance Tag_y                                             0            0   \n",
       "\n",
       "                                                               4  \n",
       "Application ID                                         182011211  \n",
       "Age                                                           35  \n",
       "Gender                                                         F  \n",
       "Marital Status (at the time of application)              Married  \n",
       "No of dependents                                               5  \n",
       "Income                                                        44  \n",
       "Education                                           Professional  \n",
       "Profession                                                   SAL  \n",
       "Type of residence                                         Rented  \n",
       "No of months in current residence                            112  \n",
       "No of months in current company                               43  \n",
       "No of times 90 DPD or worse in last 6 months                   0  \n",
       "No of times 60 DPD or worse in last 6 months                   0  \n",
       "No of times 30 DPD or worse in last 6 months                   0  \n",
       "No of times 90 DPD or worse in last 12 months                  0  \n",
       "No of times 60 DPD or worse in last 12 months                  0  \n",
       "No of times 30 DPD or worse in last 12 months                  0  \n",
       "Avgas CC Utilization in last 12 months                        12  \n",
       "No of trades opened in last 6 months                           0  \n",
       "No of trades opened in last 12 months                          1  \n",
       "No of PL trades opened in last 6 months                        0  \n",
       "No of PL trades opened in last 12 months                       0  \n",
       "No of Inquiries in last 6 months (excluding hom...             0  \n",
       "No of Inquiries in last 12 months (excluding ho...             0  \n",
       "Presence of open home loan                                     1  \n",
       "Outstanding Balance                                  3.01428e+06  \n",
       "Total No of Trades                                             4  \n",
       "Presence of open auto loan                                     0  \n",
       "Performance Tag_y                                              0  "
      ]
     },
     "execution_count": 17,
     "metadata": {},
     "output_type": "execute_result"
    }
   ],
   "source": [
    "# Observing the dataframe\n",
    "df.head().T"
   ]
  },
  {
   "cell_type": "code",
   "execution_count": 18,
   "metadata": {
    "ExecuteTime": {
     "end_time": "2019-09-15T14:57:04.457156Z",
     "start_time": "2019-09-15T14:57:04.453166Z"
    }
   },
   "outputs": [
    {
     "data": {
      "text/plain": [
       "Index(['Application ID', 'Age', 'Gender',\n",
       "       'Marital Status (at the time of application)', 'No of dependents',\n",
       "       'Income', 'Education', 'Profession ', 'Type of residence',\n",
       "       'No of months in current residence', 'No of months in current company',\n",
       "       'No of times 90 DPD or worse in last 6 months',\n",
       "       'No of times 60 DPD or worse in last 6 months',\n",
       "       'No of times 30 DPD or worse in last 6 months',\n",
       "       'No of times 90 DPD or worse in last 12 months',\n",
       "       'No of times 60 DPD or worse in last 12 months',\n",
       "       'No of times 30 DPD or worse in last 12 months',\n",
       "       'Avgas CC Utilization in last 12 months',\n",
       "       'No of trades opened in last 6 months',\n",
       "       'No of trades opened in last 12 months',\n",
       "       'No of PL trades opened in last 6 months',\n",
       "       'No of PL trades opened in last 12 months',\n",
       "       'No of Inquiries in last 6 months (excluding home & auto loans)',\n",
       "       'No of Inquiries in last 12 months (excluding home & auto loans)',\n",
       "       'Presence of open home loan', 'Outstanding Balance',\n",
       "       'Total No of Trades', 'Presence of open auto loan',\n",
       "       'Performance Tag_y'],\n",
       "      dtype='object')"
      ]
     },
     "execution_count": 18,
     "metadata": {},
     "output_type": "execute_result"
    }
   ],
   "source": [
    "df.columns"
   ]
  },
  {
   "cell_type": "code",
   "execution_count": 19,
   "metadata": {
    "ExecuteTime": {
     "end_time": "2019-09-15T14:57:04.784537Z",
     "start_time": "2019-09-15T14:57:04.780549Z"
    }
   },
   "outputs": [],
   "source": [
    "df.columns = ['id', 'age', 'gender',\n",
    "       'marital', 'no_of_dependents',\n",
    "       'income', 'education', 'profession', 'residence_type',\n",
    "       'months_curr_residence', 'months_curr_company',\n",
    "       '90_dpd_6m',\n",
    "       '60_dpd_6m', \n",
    "       '30_dpd_6m',\n",
    "       '90_dpd_12m',\n",
    "       '60_dpd_12m',\n",
    "       '30_dpd_12m',\n",
    "       'cc_util',\n",
    "       'trades_6m',\n",
    "       'trades_12m',\n",
    "       'pl_trades_6m',\n",
    "       'pl_trades_12m',\n",
    "       'inquiries_6m',\n",
    "       'inquiries_12m',\n",
    "       'open_home_loan', 'outstanding_bal',\n",
    "       'total_trades', 'open_auto_loan', 'performance']"
   ]
  },
  {
   "cell_type": "markdown",
   "metadata": {},
   "source": [
    "### Univariate Analysis, WOE & IV analysis "
   ]
  },
  {
   "cell_type": "markdown",
   "metadata": {},
   "source": [
    "#### Function for WOE & IV analysis"
   ]
  },
  {
   "cell_type": "code",
   "execution_count": 20,
   "metadata": {
    "ExecuteTime": {
     "end_time": "2019-09-15T14:57:05.820175Z",
     "start_time": "2019-09-15T14:57:05.812197Z"
    }
   },
   "outputs": [],
   "source": [
    "def woe_iv(col, target,mybins=[], categorical=False):\n",
    "    \n",
    "    if categorical==False:\n",
    "    \n",
    "        cut = pd.cut(df[col], bins=mybins, include_lowest=True)\n",
    "      \n",
    "    else:\n",
    "        \n",
    "        cut = df[col]\n",
    "    \n",
    "    \n",
    "    cut.name = col+'-bin'\n",
    "    x = pd.concat([df[target], cut], axis=1)\n",
    "    x = x.reset_index().pivot_table(columns=target, index=col+'-bin', dropna=False,\n",
    "                                   values='index', aggfunc='count', fill_value=0).reset_index()\n",
    "    \n",
    "    x.columns = [col+'-bin', 'non_event', 'event']\n",
    "    \n",
    "    x.loc[(x['event']==0),'event'] = 0.5\n",
    "    x.loc[(x['non_event']==0),'non_event'] = 0.5\n",
    "    \n",
    "    x['count'] = x['non_event']+x['event']\n",
    "    \n",
    "    tot_event = x['event'].sum()\n",
    "    tot_non_event = x['non_event'].sum()\n",
    "    \n",
    "    x['event %'] = (x['event'])*100/tot_event\n",
    "    \n",
    "    x['non_event %'] = x['non_event']*100/tot_non_event\n",
    "    \n",
    "    x['WOE'] = np.log((x['event %']/x['non_event %']))\n",
    "    \n",
    "    x['event%-non_event%'] = x['event %'] - x['non_event %']\n",
    "    \n",
    "    x['IV'] = x['event%-non_event%']*x['WOE']\n",
    "    \n",
    "    print('IV is',round(x['IV'].sum(), 3))\n",
    "    \n",
    "    return x"
   ]
  },
  {
   "cell_type": "markdown",
   "metadata": {},
   "source": [
    "#### Age"
   ]
  },
  {
   "cell_type": "code",
   "execution_count": 21,
   "metadata": {
    "ExecuteTime": {
     "end_time": "2019-09-15T14:57:06.472194Z",
     "start_time": "2019-09-15T14:57:06.468178Z"
    }
   },
   "outputs": [
    {
     "data": {
      "text/plain": [
       "0"
      ]
     },
     "execution_count": 21,
     "metadata": {},
     "output_type": "execute_result"
    }
   ],
   "source": [
    "df.age.isna().sum()"
   ]
  },
  {
   "cell_type": "code",
   "execution_count": 22,
   "metadata": {
    "ExecuteTime": {
     "end_time": "2019-09-15T14:57:06.788560Z",
     "start_time": "2019-09-15T14:57:06.780555Z"
    }
   },
   "outputs": [
    {
     "data": {
      "text/plain": [
       "count    71292.000000\n",
       "mean        44.943037\n",
       "std          9.939266\n",
       "min         -3.000000\n",
       "25%         37.000000\n",
       "50%         45.000000\n",
       "75%         53.000000\n",
       "max         65.000000\n",
       "Name: age, dtype: float64"
      ]
     },
     "execution_count": 22,
     "metadata": {},
     "output_type": "execute_result"
    }
   ],
   "source": [
    "df.age.describe()"
   ]
  },
  {
   "cell_type": "code",
   "execution_count": 23,
   "metadata": {
    "ExecuteTime": {
     "end_time": "2019-09-15T14:57:07.329995Z",
     "start_time": "2019-09-15T14:57:07.140505Z"
    }
   },
   "outputs": [
    {
     "data": {
      "text/plain": [
       "<matplotlib.axes._subplots.AxesSubplot at 0x1facec12208>"
      ]
     },
     "execution_count": 23,
     "metadata": {},
     "output_type": "execute_result"
    },
    {
     "data": {
      "image/png": "[encoded data removed]",
      "text/plain": [
       "<Figure size 432x288 with 1 Axes>"
      ]
     },
     "metadata": {
      "needs_background": "light"
     },
     "output_type": "display_data"
    }
   ],
   "source": [
    "sns.distplot(df.age)"
   ]
  },
  {
   "cell_type": "code",
   "execution_count": 24,
   "metadata": {
    "ExecuteTime": {
     "end_time": "2019-09-15T14:57:07.600699Z",
     "start_time": "2019-09-15T14:57:07.499991Z"
    }
   },
   "outputs": [
    {
     "data": {
      "image/png": "[encoded data removed]",
      "text/plain": [
       "<Figure size 432x288 with 1 Axes>"
      ]
     },
     "metadata": {
      "needs_background": "light"
     },
     "output_type": "display_data"
    }
   ],
   "source": [
    "df.boxplot(column='age', by='performance');"
   ]
  },
  {
   "cell_type": "markdown",
   "metadata": {},
   "source": [
    "Observations:<br>\n",
    "<ol>\n",
    "   <li>Values below 0 are present</li>\n",
    "   <li>Needs outlier treatment</li>\n",
    "   <li>It can be left as continuous but binning could help. Will decide based on WOE & IV </li>\n",
    "</ol>"
   ]
  },
  {
   "cell_type": "code",
   "execution_count": 25,
   "metadata": {
    "ExecuteTime": {
     "end_time": "2019-09-15T14:57:08.269189Z",
     "start_time": "2019-09-15T14:57:08.260192Z"
    }
   },
   "outputs": [],
   "source": [
    "# Fixing point 1\n",
    "df.loc[df['age']<=0,'age'] = df['age'].median()"
   ]
  },
  {
   "cell_type": "code",
   "execution_count": 26,
   "metadata": {
    "ExecuteTime": {
     "end_time": "2019-09-15T14:57:08.639451Z",
     "start_time": "2019-09-15T14:57:08.630477Z"
    }
   },
   "outputs": [],
   "source": [
    "# Fixing point 2\n",
    "df.loc[df['age']<20, 'age'] = 20"
   ]
  },
  {
   "cell_type": "code",
   "execution_count": 27,
   "metadata": {
    "ExecuteTime": {
     "end_time": "2019-09-15T14:57:08.968120Z",
     "start_time": "2019-09-15T14:57:08.965101Z"
    }
   },
   "outputs": [],
   "source": [
    "# Point 3 - WOE & IV analysis\n",
    "age_bins = range(20, 70, 5)"
   ]
  },
  {
   "cell_type": "code",
   "execution_count": 28,
   "metadata": {
    "ExecuteTime": {
     "end_time": "2019-09-15T14:57:09.350289Z",
     "start_time": "2019-09-15T14:57:09.300446Z"
    }
   },
   "outputs": [
    {
     "name": "stdout",
     "output_type": "stream",
     "text": [
      "IV is 0.615\n"
     ]
    },
    {
     "data": {
      "text/html": [
       "<div>\n",
       "<style scoped>\n",
       "    .dataframe tbody tr th:only-of-type {\n",
       "        vertical-align: middle;\n",
       "    }\n",
       "\n",
       "    .dataframe tbody tr th {\n",
       "        vertical-align: top;\n",
       "    }\n",
       "\n",
       "    .dataframe thead th {\n",
       "        text-align: right;\n",
       "    }\n",
       "</style>\n",
       "<table border=\"1\" class=\"dataframe\">\n",
       "  <thead>\n",
       "    <tr style=\"text-align: right;\">\n",
       "      <th></th>\n",
       "      <th>age-bin</th>\n",
       "      <th>non_event</th>\n",
       "      <th>event</th>\n",
       "      <th>count</th>\n",
       "      <th>event %</th>\n",
       "      <th>non_event %</th>\n",
       "      <th>WOE</th>\n",
       "      <th>event%-non_event%</th>\n",
       "      <th>IV</th>\n",
       "    </tr>\n",
       "  </thead>\n",
       "  <tbody>\n",
       "    <tr>\n",
       "      <th>0</th>\n",
       "      <td>(19.999, 25.0]</td>\n",
       "      <td>391.0</td>\n",
       "      <td>9.0</td>\n",
       "      <td>400.0</td>\n",
       "      <td>0.305395</td>\n",
       "      <td>0.584280</td>\n",
       "      <td>-0.648773</td>\n",
       "      <td>-0.278884</td>\n",
       "      <td>0.180933</td>\n",
       "    </tr>\n",
       "    <tr>\n",
       "      <th>1</th>\n",
       "      <td>(25.0, 30.0]</td>\n",
       "      <td>5296.0</td>\n",
       "      <td>232.0</td>\n",
       "      <td>5528.0</td>\n",
       "      <td>7.872413</td>\n",
       "      <td>7.913927</td>\n",
       "      <td>-0.005260</td>\n",
       "      <td>-0.041514</td>\n",
       "      <td>0.000218</td>\n",
       "    </tr>\n",
       "    <tr>\n",
       "      <th>2</th>\n",
       "      <td>(30.0, 35.0]</td>\n",
       "      <td>6625.0</td>\n",
       "      <td>302.0</td>\n",
       "      <td>6927.0</td>\n",
       "      <td>10.247710</td>\n",
       "      <td>9.899880</td>\n",
       "      <td>0.034532</td>\n",
       "      <td>0.347829</td>\n",
       "      <td>0.012011</td>\n",
       "    </tr>\n",
       "    <tr>\n",
       "      <th>3</th>\n",
       "      <td>(35.0, 40.0]</td>\n",
       "      <td>11233.0</td>\n",
       "      <td>528.0</td>\n",
       "      <td>11761.0</td>\n",
       "      <td>17.916525</td>\n",
       "      <td>16.785714</td>\n",
       "      <td>0.065195</td>\n",
       "      <td>1.130811</td>\n",
       "      <td>0.073724</td>\n",
       "    </tr>\n",
       "    <tr>\n",
       "      <th>4</th>\n",
       "      <td>(40.0, 45.0]</td>\n",
       "      <td>11070.0</td>\n",
       "      <td>480.0</td>\n",
       "      <td>11550.0</td>\n",
       "      <td>16.287750</td>\n",
       "      <td>16.542140</td>\n",
       "      <td>-0.015498</td>\n",
       "      <td>-0.254390</td>\n",
       "      <td>0.003942</td>\n",
       "    </tr>\n",
       "    <tr>\n",
       "      <th>5</th>\n",
       "      <td>(45.0, 50.0]</td>\n",
       "      <td>10864.0</td>\n",
       "      <td>478.0</td>\n",
       "      <td>11342.0</td>\n",
       "      <td>16.219885</td>\n",
       "      <td>16.234310</td>\n",
       "      <td>-0.000889</td>\n",
       "      <td>-0.014425</td>\n",
       "      <td>0.000013</td>\n",
       "    </tr>\n",
       "    <tr>\n",
       "      <th>6</th>\n",
       "      <td>(50.0, 55.0]</td>\n",
       "      <td>10856.0</td>\n",
       "      <td>424.0</td>\n",
       "      <td>11280.0</td>\n",
       "      <td>14.387513</td>\n",
       "      <td>16.222355</td>\n",
       "      <td>-0.120030</td>\n",
       "      <td>-1.834842</td>\n",
       "      <td>0.220235</td>\n",
       "    </tr>\n",
       "    <tr>\n",
       "      <th>7</th>\n",
       "      <td>(55.0, 60.0]</td>\n",
       "      <td>5960.0</td>\n",
       "      <td>294.0</td>\n",
       "      <td>6254.0</td>\n",
       "      <td>9.976247</td>\n",
       "      <td>8.906157</td>\n",
       "      <td>0.113464</td>\n",
       "      <td>1.070090</td>\n",
       "      <td>0.121417</td>\n",
       "    </tr>\n",
       "    <tr>\n",
       "      <th>8</th>\n",
       "      <td>(60.0, 65.0]</td>\n",
       "      <td>4625.0</td>\n",
       "      <td>200.0</td>\n",
       "      <td>4825.0</td>\n",
       "      <td>6.786563</td>\n",
       "      <td>6.911237</td>\n",
       "      <td>-0.018204</td>\n",
       "      <td>-0.124675</td>\n",
       "      <td>0.002270</td>\n",
       "    </tr>\n",
       "  </tbody>\n",
       "</table>\n",
       "</div>"
      ],
      "text/plain": [
       "          age-bin  non_event  event    count    event %  non_event %  \\\n",
       "0  (19.999, 25.0]      391.0    9.0    400.0   0.305395     0.584280   \n",
       "1    (25.0, 30.0]     5296.0  232.0   5528.0   7.872413     7.913927   \n",
       "2    (30.0, 35.0]     6625.0  302.0   6927.0  10.247710     9.899880   \n",
       "3    (35.0, 40.0]    11233.0  528.0  11761.0  17.916525    16.785714   \n",
       "4    (40.0, 45.0]    11070.0  480.0  11550.0  16.287750    16.542140   \n",
       "5    (45.0, 50.0]    10864.0  478.0  11342.0  16.219885    16.234310   \n",
       "6    (50.0, 55.0]    10856.0  424.0  11280.0  14.387513    16.222355   \n",
       "7    (55.0, 60.0]     5960.0  294.0   6254.0   9.976247     8.906157   \n",
       "8    (60.0, 65.0]     4625.0  200.0   4825.0   6.786563     6.911237   \n",
       "\n",
       "        WOE  event%-non_event%        IV  \n",
       "0 -0.648773          -0.278884  0.180933  \n",
       "1 -0.005260          -0.041514  0.000218  \n",
       "2  0.034532           0.347829  0.012011  \n",
       "3  0.065195           1.130811  0.073724  \n",
       "4 -0.015498          -0.254390  0.003942  \n",
       "5 -0.000889          -0.014425  0.000013  \n",
       "6 -0.120030          -1.834842  0.220235  \n",
       "7  0.113464           1.070090  0.121417  \n",
       "8 -0.018204          -0.124675  0.002270  "
      ]
     },
     "execution_count": 28,
     "metadata": {},
     "output_type": "execute_result"
    }
   ],
   "source": [
    "# Fine Binning\n",
    "woe_iv(col='age', mybins=age_bins, target='performance')"
   ]
  },
  {
   "cell_type": "markdown",
   "metadata": {},
   "source": [
    "<b>Information Value\tVariable Predictiveness</b><br>\n",
    "Less than `0.02`\tNot useful for prediction<br>\n",
    "`0.02` to `0.1`\tWeak predictive Power<br>\n",
    "`0.1` to `0.3`\tMedium predictive Power<br>\n",
    "`0.3` to `0.5`\tStrong predictive Power<br>\n",
    "`>0.5`\tSuspicious Predictive Power"
   ]
  },
  {
   "cell_type": "markdown",
   "metadata": {},
   "source": [
    "OK, It is not possible for this feature to use WOE values as we can't make it monotonic."
   ]
  },
  {
   "cell_type": "markdown",
   "metadata": {},
   "source": [
    "#### gender"
   ]
  },
  {
   "cell_type": "code",
   "execution_count": 29,
   "metadata": {
    "ExecuteTime": {
     "end_time": "2019-09-15T14:57:10.659806Z",
     "start_time": "2019-09-15T14:57:10.652802Z"
    }
   },
   "outputs": [
    {
     "data": {
      "text/plain": [
       "2"
      ]
     },
     "execution_count": 29,
     "metadata": {},
     "output_type": "execute_result"
    }
   ],
   "source": [
    "df.gender.isna().sum()"
   ]
  },
  {
   "cell_type": "code",
   "execution_count": 30,
   "metadata": {
    "ExecuteTime": {
     "end_time": "2019-09-15T14:57:10.992954Z",
     "start_time": "2019-09-15T14:57:10.988967Z"
    }
   },
   "outputs": [],
   "source": [
    "def catg_analysis(col):\n",
    "    X = df.pivot_table(index=col, columns='performance',values='id', aggfunc='count', fill_value=0)\n",
    "    X['delinq%'] = round(X[1.0]*100/(X[1.0]+X[0.0]), 3)\n",
    "    return X"
   ]
  },
  {
   "cell_type": "code",
   "execution_count": 31,
   "metadata": {
    "ExecuteTime": {
     "end_time": "2019-09-15T14:57:11.348627Z",
     "start_time": "2019-09-15T14:57:11.324666Z"
    }
   },
   "outputs": [
    {
     "data": {
      "text/html": [
       "<div>\n",
       "<style scoped>\n",
       "    .dataframe tbody tr th:only-of-type {\n",
       "        vertical-align: middle;\n",
       "    }\n",
       "\n",
       "    .dataframe tbody tr th {\n",
       "        vertical-align: top;\n",
       "    }\n",
       "\n",
       "    .dataframe thead th {\n",
       "        text-align: right;\n",
       "    }\n",
       "</style>\n",
       "<table border=\"1\" class=\"dataframe\">\n",
       "  <thead>\n",
       "    <tr style=\"text-align: right;\">\n",
       "      <th>performance</th>\n",
       "      <th>0.0</th>\n",
       "      <th>1.0</th>\n",
       "      <th>delinq%</th>\n",
       "    </tr>\n",
       "    <tr>\n",
       "      <th>gender</th>\n",
       "      <th></th>\n",
       "      <th></th>\n",
       "      <th></th>\n",
       "    </tr>\n",
       "  </thead>\n",
       "  <tbody>\n",
       "    <tr>\n",
       "      <th>F</th>\n",
       "      <td>15788</td>\n",
       "      <td>718</td>\n",
       "      <td>4.350</td>\n",
       "    </tr>\n",
       "    <tr>\n",
       "      <th>M</th>\n",
       "      <td>51130</td>\n",
       "      <td>2229</td>\n",
       "      <td>4.177</td>\n",
       "    </tr>\n",
       "  </tbody>\n",
       "</table>\n",
       "</div>"
      ],
      "text/plain": [
       "performance    0.0   1.0  delinq%\n",
       "gender                           \n",
       "F            15788   718    4.350\n",
       "M            51130  2229    4.177"
      ]
     },
     "execution_count": 31,
     "metadata": {},
     "output_type": "execute_result"
    }
   ],
   "source": [
    "catg_analysis('gender')"
   ]
  },
  {
   "cell_type": "markdown",
   "metadata": {
    "ExecuteTime": {
     "end_time": "2019-08-17T09:03:36.831264Z",
     "start_time": "2019-08-17T09:03:36.826250Z"
    }
   },
   "source": [
    "Observations:<br>\n",
    "<ol>\n",
    "    <li>Need to impute missing values</li>\n",
    "    <li>Needs a Binary map M,F to 0,1</li>\n",
    "    <li>Seems insignificant feature. It will get filtered later while model building</li>\n",
    "</ol>"
   ]
  },
  {
   "cell_type": "code",
   "execution_count": 32,
   "metadata": {
    "ExecuteTime": {
     "end_time": "2019-09-15T14:57:12.227960Z",
     "start_time": "2019-09-15T14:57:12.220983Z"
    }
   },
   "outputs": [],
   "source": [
    "df.loc[df['gender'].isna(), 'gender'] = 'M'"
   ]
  },
  {
   "cell_type": "code",
   "execution_count": 33,
   "metadata": {
    "ExecuteTime": {
     "end_time": "2019-09-15T14:57:12.563318Z",
     "start_time": "2019-09-15T14:57:12.556315Z"
    }
   },
   "outputs": [],
   "source": [
    "df['gender'] = df['gender'].map({'M':1, 'F':0})"
   ]
  },
  {
   "cell_type": "markdown",
   "metadata": {},
   "source": [
    "#### marital"
   ]
  },
  {
   "cell_type": "code",
   "execution_count": 34,
   "metadata": {
    "ExecuteTime": {
     "end_time": "2019-09-15T14:57:13.282672Z",
     "start_time": "2019-09-15T14:57:13.276681Z"
    }
   },
   "outputs": [
    {
     "data": {
      "text/plain": [
       "6"
      ]
     },
     "execution_count": 34,
     "metadata": {},
     "output_type": "execute_result"
    }
   ],
   "source": [
    "df['marital'].isna().sum()"
   ]
  },
  {
   "cell_type": "code",
   "execution_count": 35,
   "metadata": {
    "ExecuteTime": {
     "end_time": "2019-09-15T14:57:13.620831Z",
     "start_time": "2019-09-15T14:57:13.596895Z"
    }
   },
   "outputs": [
    {
     "data": {
      "text/html": [
       "<div>\n",
       "<style scoped>\n",
       "    .dataframe tbody tr th:only-of-type {\n",
       "        vertical-align: middle;\n",
       "    }\n",
       "\n",
       "    .dataframe tbody tr th {\n",
       "        vertical-align: top;\n",
       "    }\n",
       "\n",
       "    .dataframe thead th {\n",
       "        text-align: right;\n",
       "    }\n",
       "</style>\n",
       "<table border=\"1\" class=\"dataframe\">\n",
       "  <thead>\n",
       "    <tr style=\"text-align: right;\">\n",
       "      <th>performance</th>\n",
       "      <th>0.0</th>\n",
       "      <th>1.0</th>\n",
       "      <th>delinq%</th>\n",
       "    </tr>\n",
       "    <tr>\n",
       "      <th>marital</th>\n",
       "      <th></th>\n",
       "      <th></th>\n",
       "      <th></th>\n",
       "    </tr>\n",
       "  </thead>\n",
       "  <tbody>\n",
       "    <tr>\n",
       "      <th>Married</th>\n",
       "      <td>57042</td>\n",
       "      <td>2502</td>\n",
       "      <td>4.202</td>\n",
       "    </tr>\n",
       "    <tr>\n",
       "      <th>Single</th>\n",
       "      <td>9872</td>\n",
       "      <td>445</td>\n",
       "      <td>4.313</td>\n",
       "    </tr>\n",
       "  </tbody>\n",
       "</table>\n",
       "</div>"
      ],
      "text/plain": [
       "performance    0.0   1.0  delinq%\n",
       "marital                          \n",
       "Married      57042  2502    4.202\n",
       "Single        9872   445    4.313"
      ]
     },
     "execution_count": 35,
     "metadata": {},
     "output_type": "execute_result"
    }
   ],
   "source": [
    "catg_analysis(\"marital\")"
   ]
  },
  {
   "cell_type": "markdown",
   "metadata": {},
   "source": [
    "Observations:<br>\n",
    "<ol>\n",
    "    <li>Need to impute missing values</li>\n",
    "    <li>Needs a Binary map Married,Single to 0,1</li>\n",
    "    <li>Seems insignificant feature. It will get filtered later while model building</li>\n",
    "</ol>"
   ]
  },
  {
   "cell_type": "code",
   "execution_count": 36,
   "metadata": {
    "ExecuteTime": {
     "end_time": "2019-09-15T14:57:14.099413Z",
     "start_time": "2019-09-15T14:57:14.092404Z"
    }
   },
   "outputs": [],
   "source": [
    "# Using mode to fillna\n",
    "df['marital'] = df['marital'].fillna(value='Married')"
   ]
  },
  {
   "cell_type": "code",
   "execution_count": 37,
   "metadata": {
    "ExecuteTime": {
     "end_time": "2019-09-15T14:57:14.373753Z",
     "start_time": "2019-09-15T14:57:14.364755Z"
    }
   },
   "outputs": [],
   "source": [
    "df['marital'] = df['marital'].map({'Married':1, 'Single':0})"
   ]
  },
  {
   "cell_type": "markdown",
   "metadata": {},
   "source": [
    "#### no_of_dependents"
   ]
  },
  {
   "cell_type": "code",
   "execution_count": 38,
   "metadata": {
    "ExecuteTime": {
     "end_time": "2019-09-15T14:57:14.857570Z",
     "start_time": "2019-09-15T14:57:14.852585Z"
    }
   },
   "outputs": [
    {
     "data": {
      "text/plain": [
       "3"
      ]
     },
     "execution_count": 38,
     "metadata": {},
     "output_type": "execute_result"
    }
   ],
   "source": [
    "df.no_of_dependents.isna().sum()"
   ]
  },
  {
   "cell_type": "code",
   "execution_count": 39,
   "metadata": {
    "ExecuteTime": {
     "end_time": "2019-09-15T14:57:15.124856Z",
     "start_time": "2019-09-15T14:57:15.099922Z"
    }
   },
   "outputs": [
    {
     "data": {
      "text/html": [
       "<div>\n",
       "<style scoped>\n",
       "    .dataframe tbody tr th:only-of-type {\n",
       "        vertical-align: middle;\n",
       "    }\n",
       "\n",
       "    .dataframe tbody tr th {\n",
       "        vertical-align: top;\n",
       "    }\n",
       "\n",
       "    .dataframe thead th {\n",
       "        text-align: right;\n",
       "    }\n",
       "</style>\n",
       "<table border=\"1\" class=\"dataframe\">\n",
       "  <thead>\n",
       "    <tr style=\"text-align: right;\">\n",
       "      <th>performance</th>\n",
       "      <th>0.0</th>\n",
       "      <th>1.0</th>\n",
       "      <th>delinq%</th>\n",
       "    </tr>\n",
       "    <tr>\n",
       "      <th>no_of_dependents</th>\n",
       "      <th></th>\n",
       "      <th></th>\n",
       "      <th></th>\n",
       "    </tr>\n",
       "  </thead>\n",
       "  <tbody>\n",
       "    <tr>\n",
       "      <th>1.0</th>\n",
       "      <td>14551</td>\n",
       "      <td>667</td>\n",
       "      <td>4.383</td>\n",
       "    </tr>\n",
       "    <tr>\n",
       "      <th>2.0</th>\n",
       "      <td>14540</td>\n",
       "      <td>588</td>\n",
       "      <td>3.887</td>\n",
       "    </tr>\n",
       "    <tr>\n",
       "      <th>3.0</th>\n",
       "      <td>14950</td>\n",
       "      <td>695</td>\n",
       "      <td>4.442</td>\n",
       "    </tr>\n",
       "    <tr>\n",
       "      <th>4.0</th>\n",
       "      <td>11504</td>\n",
       "      <td>494</td>\n",
       "      <td>4.117</td>\n",
       "    </tr>\n",
       "    <tr>\n",
       "      <th>5.0</th>\n",
       "      <td>11372</td>\n",
       "      <td>503</td>\n",
       "      <td>4.236</td>\n",
       "    </tr>\n",
       "  </tbody>\n",
       "</table>\n",
       "</div>"
      ],
      "text/plain": [
       "performance         0.0  1.0  delinq%\n",
       "no_of_dependents                     \n",
       "1.0               14551  667    4.383\n",
       "2.0               14540  588    3.887\n",
       "3.0               14950  695    4.442\n",
       "4.0               11504  494    4.117\n",
       "5.0               11372  503    4.236"
      ]
     },
     "execution_count": 39,
     "metadata": {},
     "output_type": "execute_result"
    }
   ],
   "source": [
    "catg_analysis(\"no_of_dependents\")"
   ]
  },
  {
   "cell_type": "markdown",
   "metadata": {},
   "source": [
    "Observations:<br>\n",
    "<ol>\n",
    "    <li>Need to impute missing values</li>\n",
    "    <li>Already encoded nicely</li>\n",
    "    <li>Seems insignificant feature for now</li>\n",
    "</ol>"
   ]
  },
  {
   "cell_type": "code",
   "execution_count": 40,
   "metadata": {
    "ExecuteTime": {
     "end_time": "2019-09-15T14:57:15.569401Z",
     "start_time": "2019-09-15T14:57:15.565412Z"
    }
   },
   "outputs": [],
   "source": [
    "df['no_of_dependents'].fillna(value=3, inplace=True)"
   ]
  },
  {
   "cell_type": "code",
   "execution_count": 41,
   "metadata": {
    "ExecuteTime": {
     "end_time": "2019-09-15T14:57:15.821024Z",
     "start_time": "2019-09-15T14:57:15.797083Z"
    }
   },
   "outputs": [
    {
     "name": "stdout",
     "output_type": "stream",
     "text": [
      "IV is 0.265\n"
     ]
    },
    {
     "data": {
      "text/html": [
       "<div>\n",
       "<style scoped>\n",
       "    .dataframe tbody tr th:only-of-type {\n",
       "        vertical-align: middle;\n",
       "    }\n",
       "\n",
       "    .dataframe tbody tr th {\n",
       "        vertical-align: top;\n",
       "    }\n",
       "\n",
       "    .dataframe thead th {\n",
       "        text-align: right;\n",
       "    }\n",
       "</style>\n",
       "<table border=\"1\" class=\"dataframe\">\n",
       "  <thead>\n",
       "    <tr style=\"text-align: right;\">\n",
       "      <th></th>\n",
       "      <th>no_of_dependents-bin</th>\n",
       "      <th>non_event</th>\n",
       "      <th>event</th>\n",
       "      <th>count</th>\n",
       "      <th>event %</th>\n",
       "      <th>non_event %</th>\n",
       "      <th>WOE</th>\n",
       "      <th>event%-non_event%</th>\n",
       "      <th>IV</th>\n",
       "    </tr>\n",
       "  </thead>\n",
       "  <tbody>\n",
       "    <tr>\n",
       "      <th>0</th>\n",
       "      <td>1.0</td>\n",
       "      <td>14551.0</td>\n",
       "      <td>667.0</td>\n",
       "      <td>15218.0</td>\n",
       "      <td>22.633186</td>\n",
       "      <td>21.743873</td>\n",
       "      <td>0.040085</td>\n",
       "      <td>0.889313</td>\n",
       "      <td>0.035648</td>\n",
       "    </tr>\n",
       "    <tr>\n",
       "      <th>1</th>\n",
       "      <td>2.0</td>\n",
       "      <td>14540.0</td>\n",
       "      <td>588.0</td>\n",
       "      <td>15128.0</td>\n",
       "      <td>19.952494</td>\n",
       "      <td>21.727436</td>\n",
       "      <td>-0.085222</td>\n",
       "      <td>-1.774942</td>\n",
       "      <td>0.151263</td>\n",
       "    </tr>\n",
       "    <tr>\n",
       "      <th>2</th>\n",
       "      <td>3.0</td>\n",
       "      <td>14953.0</td>\n",
       "      <td>695.0</td>\n",
       "      <td>15648.0</td>\n",
       "      <td>23.583305</td>\n",
       "      <td>22.344591</td>\n",
       "      <td>0.053955</td>\n",
       "      <td>1.238715</td>\n",
       "      <td>0.066835</td>\n",
       "    </tr>\n",
       "    <tr>\n",
       "      <th>3</th>\n",
       "      <td>4.0</td>\n",
       "      <td>11504.0</td>\n",
       "      <td>494.0</td>\n",
       "      <td>11998.0</td>\n",
       "      <td>16.762810</td>\n",
       "      <td>17.190675</td>\n",
       "      <td>-0.025204</td>\n",
       "      <td>-0.427866</td>\n",
       "      <td>0.010784</td>\n",
       "    </tr>\n",
       "    <tr>\n",
       "      <th>4</th>\n",
       "      <td>5.0</td>\n",
       "      <td>11372.0</td>\n",
       "      <td>503.0</td>\n",
       "      <td>11875.0</td>\n",
       "      <td>17.068205</td>\n",
       "      <td>16.993425</td>\n",
       "      <td>0.004391</td>\n",
       "      <td>0.074780</td>\n",
       "      <td>0.000328</td>\n",
       "    </tr>\n",
       "  </tbody>\n",
       "</table>\n",
       "</div>"
      ],
      "text/plain": [
       "   no_of_dependents-bin  non_event  event    count    event %  non_event %  \\\n",
       "0                   1.0    14551.0  667.0  15218.0  22.633186    21.743873   \n",
       "1                   2.0    14540.0  588.0  15128.0  19.952494    21.727436   \n",
       "2                   3.0    14953.0  695.0  15648.0  23.583305    22.344591   \n",
       "3                   4.0    11504.0  494.0  11998.0  16.762810    17.190675   \n",
       "4                   5.0    11372.0  503.0  11875.0  17.068205    16.993425   \n",
       "\n",
       "        WOE  event%-non_event%        IV  \n",
       "0  0.040085           0.889313  0.035648  \n",
       "1 -0.085222          -1.774942  0.151263  \n",
       "2  0.053955           1.238715  0.066835  \n",
       "3 -0.025204          -0.427866  0.010784  \n",
       "4  0.004391           0.074780  0.000328  "
      ]
     },
     "execution_count": 41,
     "metadata": {},
     "output_type": "execute_result"
    }
   ],
   "source": [
    "woe_iv(col='no_of_dependents', target='performance', categorical=True)"
   ]
  },
  {
   "cell_type": "markdown",
   "metadata": {},
   "source": [
    "This feature is also not suitable for WOE value replacement"
   ]
  },
  {
   "cell_type": "markdown",
   "metadata": {},
   "source": [
    "#### income"
   ]
  },
  {
   "cell_type": "code",
   "execution_count": 42,
   "metadata": {
    "ExecuteTime": {
     "end_time": "2019-09-15T14:57:16.561949Z",
     "start_time": "2019-09-15T14:57:16.556941Z"
    }
   },
   "outputs": [
    {
     "data": {
      "text/plain": [
       "0"
      ]
     },
     "execution_count": 42,
     "metadata": {},
     "output_type": "execute_result"
    }
   ],
   "source": [
    "df.income.isna().sum()"
   ]
  },
  {
   "cell_type": "code",
   "execution_count": 43,
   "metadata": {
    "ExecuteTime": {
     "end_time": "2019-09-15T14:57:16.812448Z",
     "start_time": "2019-09-15T14:57:16.804446Z"
    }
   },
   "outputs": [
    {
     "data": {
      "text/plain": [
       "count    71292.000000\n",
       "mean        27.195758\n",
       "std         15.514524\n",
       "min         -0.500000\n",
       "25%         14.000000\n",
       "50%         27.000000\n",
       "75%         40.000000\n",
       "max         60.000000\n",
       "Name: income, dtype: float64"
      ]
     },
     "execution_count": 43,
     "metadata": {},
     "output_type": "execute_result"
    }
   ],
   "source": [
    "df.income.describe()"
   ]
  },
  {
   "cell_type": "code",
   "execution_count": 44,
   "metadata": {
    "ExecuteTime": {
     "end_time": "2019-09-15T14:57:17.243497Z",
     "start_time": "2019-09-15T14:57:17.075919Z"
    }
   },
   "outputs": [
    {
     "data": {
      "text/plain": [
       "<matplotlib.axes._subplots.AxesSubplot at 0x1facf7963c8>"
      ]
     },
     "execution_count": 44,
     "metadata": {},
     "output_type": "execute_result"
    },
    {
     "data": {
      "image/png": "[encoded data removed]",
      "text/plain": [
       "<Figure size 432x288 with 1 Axes>"
      ]
     },
     "metadata": {
      "needs_background": "light"
     },
     "output_type": "display_data"
    }
   ],
   "source": [
    "sns.distplot(df.income)"
   ]
  },
  {
   "cell_type": "code",
   "execution_count": 45,
   "metadata": {
    "ExecuteTime": {
     "end_time": "2019-09-15T14:57:17.426980Z",
     "start_time": "2019-09-15T14:57:17.332234Z"
    }
   },
   "outputs": [
    {
     "data": {
      "image/png": "[encoded data removed]",
      "text/plain": [
       "<Figure size 432x288 with 1 Axes>"
      ]
     },
     "metadata": {
      "needs_background": "light"
     },
     "output_type": "display_data"
    }
   ],
   "source": [
    "df.boxplot(column='income', by='performance');"
   ]
  },
  {
   "cell_type": "markdown",
   "metadata": {},
   "source": [
    "Observations:<br>\n",
    "<ol>\n",
    "   <li>Looks like income was already standardized, no need for any transformations</li>\n",
    "   <li>WAlready standardised so not replacing negative values for this feature.</li>\n",
    "   <li>Seems significant</li>\n",
    "   <li>Will decide based on WOE & IV </li>\n",
    "</ol>"
   ]
  },
  {
   "cell_type": "code",
   "execution_count": 46,
   "metadata": {
    "ExecuteTime": {
     "end_time": "2019-09-15T14:57:17.865677Z",
     "start_time": "2019-09-15T14:57:17.860692Z"
    }
   },
   "outputs": [],
   "source": [
    "df.loc[df.income <0,'income'] = 0"
   ]
  },
  {
   "cell_type": "code",
   "execution_count": 47,
   "metadata": {
    "ExecuteTime": {
     "end_time": "2019-09-15T14:57:18.152499Z",
     "start_time": "2019-09-15T14:57:18.116617Z"
    }
   },
   "outputs": [
    {
     "name": "stdout",
     "output_type": "stream",
     "text": [
      "IV is 3.97\n"
     ]
    },
    {
     "data": {
      "text/html": [
       "<div>\n",
       "<style scoped>\n",
       "    .dataframe tbody tr th:only-of-type {\n",
       "        vertical-align: middle;\n",
       "    }\n",
       "\n",
       "    .dataframe tbody tr th {\n",
       "        vertical-align: top;\n",
       "    }\n",
       "\n",
       "    .dataframe thead th {\n",
       "        text-align: right;\n",
       "    }\n",
       "</style>\n",
       "<table border=\"1\" class=\"dataframe\">\n",
       "  <thead>\n",
       "    <tr style=\"text-align: right;\">\n",
       "      <th></th>\n",
       "      <th>income-bin</th>\n",
       "      <th>non_event</th>\n",
       "      <th>event</th>\n",
       "      <th>count</th>\n",
       "      <th>event %</th>\n",
       "      <th>non_event %</th>\n",
       "      <th>WOE</th>\n",
       "      <th>event%-non_event%</th>\n",
       "      <th>IV</th>\n",
       "    </tr>\n",
       "  </thead>\n",
       "  <tbody>\n",
       "    <tr>\n",
       "      <th>0</th>\n",
       "      <td>(-0.001, 6.667]</td>\n",
       "      <td>7195.0</td>\n",
       "      <td>451.0</td>\n",
       "      <td>7646.0</td>\n",
       "      <td>15.303699</td>\n",
       "      <td>10.751644</td>\n",
       "      <td>0.353036</td>\n",
       "      <td>4.552055</td>\n",
       "      <td>1.607039</td>\n",
       "    </tr>\n",
       "    <tr>\n",
       "      <th>1</th>\n",
       "      <td>(6.667, 13.333]</td>\n",
       "      <td>8662.0</td>\n",
       "      <td>443.0</td>\n",
       "      <td>9105.0</td>\n",
       "      <td>15.032236</td>\n",
       "      <td>12.943814</td>\n",
       "      <td>0.149579</td>\n",
       "      <td>2.088423</td>\n",
       "      <td>0.312384</td>\n",
       "    </tr>\n",
       "    <tr>\n",
       "      <th>2</th>\n",
       "      <td>(13.333, 20.0]</td>\n",
       "      <td>9015.0</td>\n",
       "      <td>423.0</td>\n",
       "      <td>9438.0</td>\n",
       "      <td>14.353580</td>\n",
       "      <td>13.471309</td>\n",
       "      <td>0.063437</td>\n",
       "      <td>0.882271</td>\n",
       "      <td>0.055969</td>\n",
       "    </tr>\n",
       "    <tr>\n",
       "      <th>3</th>\n",
       "      <td>(20.0, 26.667]</td>\n",
       "      <td>7848.0</td>\n",
       "      <td>357.0</td>\n",
       "      <td>8205.0</td>\n",
       "      <td>12.114014</td>\n",
       "      <td>11.727436</td>\n",
       "      <td>0.032432</td>\n",
       "      <td>0.386579</td>\n",
       "      <td>0.012537</td>\n",
       "    </tr>\n",
       "    <tr>\n",
       "      <th>4</th>\n",
       "      <td>(26.667, 33.333]</td>\n",
       "      <td>9200.0</td>\n",
       "      <td>402.0</td>\n",
       "      <td>9602.0</td>\n",
       "      <td>13.640991</td>\n",
       "      <td>13.747759</td>\n",
       "      <td>-0.007797</td>\n",
       "      <td>-0.106768</td>\n",
       "      <td>0.000832</td>\n",
       "    </tr>\n",
       "    <tr>\n",
       "      <th>5</th>\n",
       "      <td>(33.333, 40.0]</td>\n",
       "      <td>9089.0</td>\n",
       "      <td>326.0</td>\n",
       "      <td>9415.0</td>\n",
       "      <td>11.062097</td>\n",
       "      <td>13.581889</td>\n",
       "      <td>-0.205213</td>\n",
       "      <td>-2.519792</td>\n",
       "      <td>0.517093</td>\n",
       "    </tr>\n",
       "    <tr>\n",
       "      <th>6</th>\n",
       "      <td>(40.0, 46.667]</td>\n",
       "      <td>7192.0</td>\n",
       "      <td>268.0</td>\n",
       "      <td>7460.0</td>\n",
       "      <td>9.093994</td>\n",
       "      <td>10.747161</td>\n",
       "      <td>-0.167027</td>\n",
       "      <td>-1.653167</td>\n",
       "      <td>0.276124</td>\n",
       "    </tr>\n",
       "    <tr>\n",
       "      <th>7</th>\n",
       "      <td>(46.667, 53.333]</td>\n",
       "      <td>5096.0</td>\n",
       "      <td>164.0</td>\n",
       "      <td>5260.0</td>\n",
       "      <td>5.564981</td>\n",
       "      <td>7.615063</td>\n",
       "      <td>-0.313635</td>\n",
       "      <td>-2.050081</td>\n",
       "      <td>0.642976</td>\n",
       "    </tr>\n",
       "    <tr>\n",
       "      <th>8</th>\n",
       "      <td>(53.333, 60.0]</td>\n",
       "      <td>3623.0</td>\n",
       "      <td>113.0</td>\n",
       "      <td>3736.0</td>\n",
       "      <td>3.834408</td>\n",
       "      <td>5.413927</td>\n",
       "      <td>-0.344960</td>\n",
       "      <td>-1.579519</td>\n",
       "      <td>0.544870</td>\n",
       "    </tr>\n",
       "  </tbody>\n",
       "</table>\n",
       "</div>"
      ],
      "text/plain": [
       "         income-bin  non_event  event   count    event %  non_event %  \\\n",
       "0   (-0.001, 6.667]     7195.0  451.0  7646.0  15.303699    10.751644   \n",
       "1   (6.667, 13.333]     8662.0  443.0  9105.0  15.032236    12.943814   \n",
       "2    (13.333, 20.0]     9015.0  423.0  9438.0  14.353580    13.471309   \n",
       "3    (20.0, 26.667]     7848.0  357.0  8205.0  12.114014    11.727436   \n",
       "4  (26.667, 33.333]     9200.0  402.0  9602.0  13.640991    13.747759   \n",
       "5    (33.333, 40.0]     9089.0  326.0  9415.0  11.062097    13.581889   \n",
       "6    (40.0, 46.667]     7192.0  268.0  7460.0   9.093994    10.747161   \n",
       "7  (46.667, 53.333]     5096.0  164.0  5260.0   5.564981     7.615063   \n",
       "8    (53.333, 60.0]     3623.0  113.0  3736.0   3.834408     5.413927   \n",
       "\n",
       "        WOE  event%-non_event%        IV  \n",
       "0  0.353036           4.552055  1.607039  \n",
       "1  0.149579           2.088423  0.312384  \n",
       "2  0.063437           0.882271  0.055969  \n",
       "3  0.032432           0.386579  0.012537  \n",
       "4 -0.007797          -0.106768  0.000832  \n",
       "5 -0.205213          -2.519792  0.517093  \n",
       "6 -0.167027          -1.653167  0.276124  \n",
       "7 -0.313635          -2.050081  0.642976  \n",
       "8 -0.344960          -1.579519  0.544870  "
      ]
     },
     "execution_count": 47,
     "metadata": {},
     "output_type": "execute_result"
    }
   ],
   "source": [
    "woe_iv(col='income', target='performance',mybins=np.linspace(start=df.income.min(), stop=df.income.max(), num=10))"
   ]
  },
  {
   "cell_type": "code",
   "execution_count": 48,
   "metadata": {
    "ExecuteTime": {
     "end_time": "2019-09-15T14:57:18.368219Z",
     "start_time": "2019-09-15T14:57:18.364203Z"
    }
   },
   "outputs": [],
   "source": [
    "income_bin = list(np.linspace(start=df.income.min(), stop=df.income.max(), num=10))"
   ]
  },
  {
   "cell_type": "code",
   "execution_count": 49,
   "metadata": {
    "ExecuteTime": {
     "end_time": "2019-09-15T14:57:18.624658Z",
     "start_time": "2019-09-15T14:57:18.620647Z"
    }
   },
   "outputs": [],
   "source": [
    "# Coarse binning - Merging similar WOE value bins.\n",
    "income_bin.remove(40)"
   ]
  },
  {
   "cell_type": "code",
   "execution_count": 50,
   "metadata": {
    "ExecuteTime": {
     "end_time": "2019-09-15T14:57:18.919874Z",
     "start_time": "2019-09-15T14:57:18.884963Z"
    }
   },
   "outputs": [
    {
     "name": "stdout",
     "output_type": "stream",
     "text": [
      "IV is 3.962\n"
     ]
    },
    {
     "data": {
      "text/html": [
       "<div>\n",
       "<style scoped>\n",
       "    .dataframe tbody tr th:only-of-type {\n",
       "        vertical-align: middle;\n",
       "    }\n",
       "\n",
       "    .dataframe tbody tr th {\n",
       "        vertical-align: top;\n",
       "    }\n",
       "\n",
       "    .dataframe thead th {\n",
       "        text-align: right;\n",
       "    }\n",
       "</style>\n",
       "<table border=\"1\" class=\"dataframe\">\n",
       "  <thead>\n",
       "    <tr style=\"text-align: right;\">\n",
       "      <th></th>\n",
       "      <th>income-bin</th>\n",
       "      <th>non_event</th>\n",
       "      <th>event</th>\n",
       "      <th>count</th>\n",
       "      <th>event %</th>\n",
       "      <th>non_event %</th>\n",
       "      <th>WOE</th>\n",
       "      <th>event%-non_event%</th>\n",
       "      <th>IV</th>\n",
       "    </tr>\n",
       "  </thead>\n",
       "  <tbody>\n",
       "    <tr>\n",
       "      <th>0</th>\n",
       "      <td>(-0.001, 6.667]</td>\n",
       "      <td>7195.0</td>\n",
       "      <td>451.0</td>\n",
       "      <td>7646.0</td>\n",
       "      <td>15.303699</td>\n",
       "      <td>10.751644</td>\n",
       "      <td>0.353036</td>\n",
       "      <td>4.552055</td>\n",
       "      <td>1.607039</td>\n",
       "    </tr>\n",
       "    <tr>\n",
       "      <th>1</th>\n",
       "      <td>(6.667, 13.333]</td>\n",
       "      <td>8662.0</td>\n",
       "      <td>443.0</td>\n",
       "      <td>9105.0</td>\n",
       "      <td>15.032236</td>\n",
       "      <td>12.943814</td>\n",
       "      <td>0.149579</td>\n",
       "      <td>2.088423</td>\n",
       "      <td>0.312384</td>\n",
       "    </tr>\n",
       "    <tr>\n",
       "      <th>2</th>\n",
       "      <td>(13.333, 20.0]</td>\n",
       "      <td>9015.0</td>\n",
       "      <td>423.0</td>\n",
       "      <td>9438.0</td>\n",
       "      <td>14.353580</td>\n",
       "      <td>13.471309</td>\n",
       "      <td>0.063437</td>\n",
       "      <td>0.882271</td>\n",
       "      <td>0.055969</td>\n",
       "    </tr>\n",
       "    <tr>\n",
       "      <th>3</th>\n",
       "      <td>(20.0, 26.667]</td>\n",
       "      <td>7848.0</td>\n",
       "      <td>357.0</td>\n",
       "      <td>8205.0</td>\n",
       "      <td>12.114014</td>\n",
       "      <td>11.727436</td>\n",
       "      <td>0.032432</td>\n",
       "      <td>0.386579</td>\n",
       "      <td>0.012537</td>\n",
       "    </tr>\n",
       "    <tr>\n",
       "      <th>4</th>\n",
       "      <td>(26.667, 33.333]</td>\n",
       "      <td>9200.0</td>\n",
       "      <td>402.0</td>\n",
       "      <td>9602.0</td>\n",
       "      <td>13.640991</td>\n",
       "      <td>13.747759</td>\n",
       "      <td>-0.007797</td>\n",
       "      <td>-0.106768</td>\n",
       "      <td>0.000832</td>\n",
       "    </tr>\n",
       "    <tr>\n",
       "      <th>5</th>\n",
       "      <td>(33.333, 46.667]</td>\n",
       "      <td>16281.0</td>\n",
       "      <td>594.0</td>\n",
       "      <td>16875.0</td>\n",
       "      <td>20.156091</td>\n",
       "      <td>24.329050</td>\n",
       "      <td>-0.188165</td>\n",
       "      <td>-4.172959</td>\n",
       "      <td>0.785203</td>\n",
       "    </tr>\n",
       "    <tr>\n",
       "      <th>6</th>\n",
       "      <td>(46.667, 53.333]</td>\n",
       "      <td>5096.0</td>\n",
       "      <td>164.0</td>\n",
       "      <td>5260.0</td>\n",
       "      <td>5.564981</td>\n",
       "      <td>7.615063</td>\n",
       "      <td>-0.313635</td>\n",
       "      <td>-2.050081</td>\n",
       "      <td>0.642976</td>\n",
       "    </tr>\n",
       "    <tr>\n",
       "      <th>7</th>\n",
       "      <td>(53.333, 60.0]</td>\n",
       "      <td>3623.0</td>\n",
       "      <td>113.0</td>\n",
       "      <td>3736.0</td>\n",
       "      <td>3.834408</td>\n",
       "      <td>5.413927</td>\n",
       "      <td>-0.344960</td>\n",
       "      <td>-1.579519</td>\n",
       "      <td>0.544870</td>\n",
       "    </tr>\n",
       "  </tbody>\n",
       "</table>\n",
       "</div>"
      ],
      "text/plain": [
       "         income-bin  non_event  event    count    event %  non_event %  \\\n",
       "0   (-0.001, 6.667]     7195.0  451.0   7646.0  15.303699    10.751644   \n",
       "1   (6.667, 13.333]     8662.0  443.0   9105.0  15.032236    12.943814   \n",
       "2    (13.333, 20.0]     9015.0  423.0   9438.0  14.353580    13.471309   \n",
       "3    (20.0, 26.667]     7848.0  357.0   8205.0  12.114014    11.727436   \n",
       "4  (26.667, 33.333]     9200.0  402.0   9602.0  13.640991    13.747759   \n",
       "5  (33.333, 46.667]    16281.0  594.0  16875.0  20.156091    24.329050   \n",
       "6  (46.667, 53.333]     5096.0  164.0   5260.0   5.564981     7.615063   \n",
       "7    (53.333, 60.0]     3623.0  113.0   3736.0   3.834408     5.413927   \n",
       "\n",
       "        WOE  event%-non_event%        IV  \n",
       "0  0.353036           4.552055  1.607039  \n",
       "1  0.149579           2.088423  0.312384  \n",
       "2  0.063437           0.882271  0.055969  \n",
       "3  0.032432           0.386579  0.012537  \n",
       "4 -0.007797          -0.106768  0.000832  \n",
       "5 -0.188165          -4.172959  0.785203  \n",
       "6 -0.313635          -2.050081  0.642976  \n",
       "7 -0.344960          -1.579519  0.544870  "
      ]
     },
     "execution_count": 50,
     "metadata": {},
     "output_type": "execute_result"
    }
   ],
   "source": [
    "income_woe = woe_iv(col='income', target='performance',mybins=income_bin)\n",
    "income_woe"
   ]
  },
  {
   "cell_type": "code",
   "execution_count": 51,
   "metadata": {
    "ExecuteTime": {
     "end_time": "2019-09-15T14:57:19.287863Z",
     "start_time": "2019-09-15T14:57:19.156215Z"
    }
   },
   "outputs": [
    {
     "data": {
      "text/plain": [
       "<matplotlib.axes._subplots.AxesSubplot at 0x1facf7d5400>"
      ]
     },
     "execution_count": 51,
     "metadata": {},
     "output_type": "execute_result"
    },
    {
     "data": {
      "image/png": "[encoded data removed]",
      "text/plain": [
       "<Figure size 432x288 with 1 Axes>"
      ]
     },
     "metadata": {
      "needs_background": "light"
     },
     "output_type": "display_data"
    }
   ],
   "source": [
    "sns.lineplot(x=income_woe.index, y=income_woe['WOE'])"
   ]
  },
  {
   "cell_type": "markdown",
   "metadata": {},
   "source": [
    "The WOE plot is monotonically decreasing."
   ]
  },
  {
   "cell_type": "code",
   "execution_count": 52,
   "metadata": {
    "ExecuteTime": {
     "end_time": "2019-09-15T14:57:19.672834Z",
     "start_time": "2019-09-15T14:57:19.664855Z"
    }
   },
   "outputs": [],
   "source": [
    "# dictionary comprehension\n",
    "income_map = {str(income_woe.iloc[row, [0,6]][0]):income_woe.iloc[row, [0,6]][1] for row in range(len(income_woe))}"
   ]
  },
  {
   "cell_type": "code",
   "execution_count": 53,
   "metadata": {
    "ExecuteTime": {
     "end_time": "2019-09-15T14:57:20.165516Z",
     "start_time": "2019-09-15T14:57:20.150577Z"
    }
   },
   "outputs": [],
   "source": [
    "df['income-bin'] = pd.cut(df['income'], bins=income_bin, include_lowest=True).map(lambda x: str(x)).map(income_map)"
   ]
  },
  {
   "cell_type": "markdown",
   "metadata": {},
   "source": [
    "We have added a column income-bin that has WOE values. We will use this column instead of raw income column in Logistic Regression."
   ]
  },
  {
   "cell_type": "markdown",
   "metadata": {},
   "source": [
    "#### education"
   ]
  },
  {
   "cell_type": "code",
   "execution_count": 54,
   "metadata": {
    "ExecuteTime": {
     "end_time": "2019-09-15T14:57:20.746994Z",
     "start_time": "2019-09-15T14:57:20.740980Z"
    }
   },
   "outputs": [
    {
     "data": {
      "text/plain": [
       "119"
      ]
     },
     "execution_count": 54,
     "metadata": {},
     "output_type": "execute_result"
    }
   ],
   "source": [
    "df.education.isna().sum()"
   ]
  },
  {
   "cell_type": "code",
   "execution_count": 55,
   "metadata": {
    "ExecuteTime": {
     "end_time": "2019-09-15T14:57:21.016243Z",
     "start_time": "2019-09-15T14:57:20.988318Z"
    }
   },
   "outputs": [
    {
     "data": {
      "text/html": [
       "<div>\n",
       "<style scoped>\n",
       "    .dataframe tbody tr th:only-of-type {\n",
       "        vertical-align: middle;\n",
       "    }\n",
       "\n",
       "    .dataframe tbody tr th {\n",
       "        vertical-align: top;\n",
       "    }\n",
       "\n",
       "    .dataframe thead th {\n",
       "        text-align: right;\n",
       "    }\n",
       "</style>\n",
       "<table border=\"1\" class=\"dataframe\">\n",
       "  <thead>\n",
       "    <tr style=\"text-align: right;\">\n",
       "      <th>performance</th>\n",
       "      <th>0.0</th>\n",
       "      <th>1.0</th>\n",
       "      <th>delinq%</th>\n",
       "    </tr>\n",
       "    <tr>\n",
       "      <th>education</th>\n",
       "      <th></th>\n",
       "      <th></th>\n",
       "      <th></th>\n",
       "    </tr>\n",
       "  </thead>\n",
       "  <tbody>\n",
       "    <tr>\n",
       "      <th>Bachelor</th>\n",
       "      <td>16560</td>\n",
       "      <td>742</td>\n",
       "      <td>4.289</td>\n",
       "    </tr>\n",
       "    <tr>\n",
       "      <th>Masters</th>\n",
       "      <td>22483</td>\n",
       "      <td>998</td>\n",
       "      <td>4.250</td>\n",
       "    </tr>\n",
       "    <tr>\n",
       "      <th>Others</th>\n",
       "      <td>111</td>\n",
       "      <td>8</td>\n",
       "      <td>6.723</td>\n",
       "    </tr>\n",
       "    <tr>\n",
       "      <th>Phd</th>\n",
       "      <td>4280</td>\n",
       "      <td>183</td>\n",
       "      <td>4.100</td>\n",
       "    </tr>\n",
       "    <tr>\n",
       "      <th>Professional</th>\n",
       "      <td>23373</td>\n",
       "      <td>1011</td>\n",
       "      <td>4.146</td>\n",
       "    </tr>\n",
       "  </tbody>\n",
       "</table>\n",
       "</div>"
      ],
      "text/plain": [
       "performance     0.0   1.0  delinq%\n",
       "education                         \n",
       "Bachelor      16560   742    4.289\n",
       "Masters       22483   998    4.250\n",
       "Others          111     8    6.723\n",
       "Phd            4280   183    4.100\n",
       "Professional  23373  1011    4.146"
      ]
     },
     "execution_count": 55,
     "metadata": {},
     "output_type": "execute_result"
    }
   ],
   "source": [
    "catg_analysis('education')"
   ]
  },
  {
   "cell_type": "markdown",
   "metadata": {},
   "source": [
    "Observations:<br>\n",
    "<ol>\n",
    "   <li>Needs imputation for missing values</li>\n",
    "   <li>Others category is undersampled here</li>\n",
    "   <li>Seems Insignificant but WOE & IV will will help here.</li>\n",
    "</ol>"
   ]
  },
  {
   "cell_type": "code",
   "execution_count": 56,
   "metadata": {
    "ExecuteTime": {
     "end_time": "2019-09-15T14:57:21.538855Z",
     "start_time": "2019-09-15T14:57:21.532889Z"
    }
   },
   "outputs": [],
   "source": [
    "df['education'] = df['education'].fillna(value='Professional')"
   ]
  },
  {
   "cell_type": "code",
   "execution_count": 57,
   "metadata": {
    "ExecuteTime": {
     "end_time": "2019-09-15T14:57:21.852505Z",
     "start_time": "2019-09-15T14:57:21.836526Z"
    }
   },
   "outputs": [],
   "source": [
    "edu = pd.get_dummies(df['education'], prefix='edu')\n",
    "df = pd.concat([df, edu], axis=1)"
   ]
  },
  {
   "cell_type": "markdown",
   "metadata": {},
   "source": [
    "#### profession"
   ]
  },
  {
   "cell_type": "code",
   "execution_count": 58,
   "metadata": {
    "ExecuteTime": {
     "end_time": "2019-09-15T14:57:22.402085Z",
     "start_time": "2019-09-15T14:57:22.396072Z"
    }
   },
   "outputs": [
    {
     "data": {
      "text/plain": [
       "14"
      ]
     },
     "execution_count": 58,
     "metadata": {},
     "output_type": "execute_result"
    }
   ],
   "source": [
    "df.profession.isna().sum()"
   ]
  },
  {
   "cell_type": "code",
   "execution_count": 59,
   "metadata": {
    "ExecuteTime": {
     "end_time": "2019-09-15T14:57:22.725149Z",
     "start_time": "2019-09-15T14:57:22.692238Z"
    }
   },
   "outputs": [
    {
     "data": {
      "text/html": [
       "<div>\n",
       "<style scoped>\n",
       "    .dataframe tbody tr th:only-of-type {\n",
       "        vertical-align: middle;\n",
       "    }\n",
       "\n",
       "    .dataframe tbody tr th {\n",
       "        vertical-align: top;\n",
       "    }\n",
       "\n",
       "    .dataframe thead th {\n",
       "        text-align: right;\n",
       "    }\n",
       "</style>\n",
       "<table border=\"1\" class=\"dataframe\">\n",
       "  <thead>\n",
       "    <tr style=\"text-align: right;\">\n",
       "      <th>performance</th>\n",
       "      <th>0.0</th>\n",
       "      <th>1.0</th>\n",
       "      <th>delinq%</th>\n",
       "    </tr>\n",
       "    <tr>\n",
       "      <th>profession</th>\n",
       "      <th></th>\n",
       "      <th></th>\n",
       "      <th></th>\n",
       "    </tr>\n",
       "  </thead>\n",
       "  <tbody>\n",
       "    <tr>\n",
       "      <th>SAL</th>\n",
       "      <td>38044</td>\n",
       "      <td>1629</td>\n",
       "      <td>4.106</td>\n",
       "    </tr>\n",
       "    <tr>\n",
       "      <th>SE</th>\n",
       "      <td>13284</td>\n",
       "      <td>641</td>\n",
       "      <td>4.603</td>\n",
       "    </tr>\n",
       "    <tr>\n",
       "      <th>SE_PROF</th>\n",
       "      <td>15579</td>\n",
       "      <td>677</td>\n",
       "      <td>4.165</td>\n",
       "    </tr>\n",
       "  </tbody>\n",
       "</table>\n",
       "</div>"
      ],
      "text/plain": [
       "performance    0.0   1.0  delinq%\n",
       "profession                       \n",
       "SAL          38044  1629    4.106\n",
       "SE           13284   641    4.603\n",
       "SE_PROF      15579   677    4.165"
      ]
     },
     "execution_count": 59,
     "metadata": {},
     "output_type": "execute_result"
    }
   ],
   "source": [
    "catg_analysis('profession')"
   ]
  },
  {
   "cell_type": "markdown",
   "metadata": {},
   "source": [
    "Observations:<br>\n",
    "<ol>\n",
    "   <li>Needs imputation for missing values</li>\n",
    "   <li>Could be significant but WOE & IV will will help here.</li>\n",
    "</ol>"
   ]
  },
  {
   "cell_type": "code",
   "execution_count": 60,
   "metadata": {
    "ExecuteTime": {
     "end_time": "2019-09-15T14:57:23.387027Z",
     "start_time": "2019-09-15T14:57:23.380046Z"
    }
   },
   "outputs": [],
   "source": [
    "df['profession'] = df['profession'].fillna(value='SAL')"
   ]
  },
  {
   "cell_type": "code",
   "execution_count": 61,
   "metadata": {
    "ExecuteTime": {
     "end_time": "2019-09-15T14:57:23.674503Z",
     "start_time": "2019-09-15T14:57:23.660519Z"
    }
   },
   "outputs": [],
   "source": [
    "prof = pd.get_dummies(df['profession'], prefix='prof')\n",
    "df = pd.concat([df, prof], axis=1)"
   ]
  },
  {
   "cell_type": "markdown",
   "metadata": {},
   "source": [
    "#### residence_type"
   ]
  },
  {
   "cell_type": "code",
   "execution_count": 62,
   "metadata": {
    "ExecuteTime": {
     "end_time": "2019-09-15T14:57:24.267651Z",
     "start_time": "2019-09-15T14:57:24.260671Z"
    }
   },
   "outputs": [
    {
     "data": {
      "text/plain": [
       "8"
      ]
     },
     "execution_count": 62,
     "metadata": {},
     "output_type": "execute_result"
    }
   ],
   "source": [
    "df.residence_type.isna().sum()"
   ]
  },
  {
   "cell_type": "code",
   "execution_count": 63,
   "metadata": {
    "ExecuteTime": {
     "end_time": "2019-09-15T14:57:24.599627Z",
     "start_time": "2019-09-15T14:57:24.566717Z"
    }
   },
   "outputs": [
    {
     "data": {
      "text/html": [
       "<div>\n",
       "<style scoped>\n",
       "    .dataframe tbody tr th:only-of-type {\n",
       "        vertical-align: middle;\n",
       "    }\n",
       "\n",
       "    .dataframe tbody tr th {\n",
       "        vertical-align: top;\n",
       "    }\n",
       "\n",
       "    .dataframe thead th {\n",
       "        text-align: right;\n",
       "    }\n",
       "</style>\n",
       "<table border=\"1\" class=\"dataframe\">\n",
       "  <thead>\n",
       "    <tr style=\"text-align: right;\">\n",
       "      <th>performance</th>\n",
       "      <th>0.0</th>\n",
       "      <th>1.0</th>\n",
       "      <th>delinq%</th>\n",
       "    </tr>\n",
       "    <tr>\n",
       "      <th>residence_type</th>\n",
       "      <th></th>\n",
       "      <th></th>\n",
       "      <th></th>\n",
       "    </tr>\n",
       "  </thead>\n",
       "  <tbody>\n",
       "    <tr>\n",
       "      <th>Company provided</th>\n",
       "      <td>1530</td>\n",
       "      <td>73</td>\n",
       "      <td>4.554</td>\n",
       "    </tr>\n",
       "    <tr>\n",
       "      <th>Living with Parents</th>\n",
       "      <td>1698</td>\n",
       "      <td>80</td>\n",
       "      <td>4.499</td>\n",
       "    </tr>\n",
       "    <tr>\n",
       "      <th>Others</th>\n",
       "      <td>193</td>\n",
       "      <td>5</td>\n",
       "      <td>2.525</td>\n",
       "    </tr>\n",
       "    <tr>\n",
       "      <th>Owned</th>\n",
       "      <td>13410</td>\n",
       "      <td>593</td>\n",
       "      <td>4.235</td>\n",
       "    </tr>\n",
       "    <tr>\n",
       "      <th>Rented</th>\n",
       "      <td>50081</td>\n",
       "      <td>2196</td>\n",
       "      <td>4.201</td>\n",
       "    </tr>\n",
       "  </tbody>\n",
       "</table>\n",
       "</div>"
      ],
      "text/plain": [
       "performance            0.0   1.0  delinq%\n",
       "residence_type                           \n",
       "Company provided      1530    73    4.554\n",
       "Living with Parents   1698    80    4.499\n",
       "Others                 193     5    2.525\n",
       "Owned                13410   593    4.235\n",
       "Rented               50081  2196    4.201"
      ]
     },
     "execution_count": 63,
     "metadata": {},
     "output_type": "execute_result"
    }
   ],
   "source": [
    "catg_analysis('residence_type')"
   ]
  },
  {
   "cell_type": "markdown",
   "metadata": {
    "ExecuteTime": {
     "end_time": "2019-08-17T09:41:08.155176Z",
     "start_time": "2019-08-17T09:41:08.150211Z"
    }
   },
   "source": [
    "Observations:<br>\n",
    "<ol>\n",
    "   <li>Needs imputation for missing values</li>\n",
    "   <li>Needs one hot encoding</li>\n",
    "   <li>Could be significant but WOE & IV will will help here.</li>\n",
    "</ol>"
   ]
  },
  {
   "cell_type": "code",
   "execution_count": 64,
   "metadata": {
    "ExecuteTime": {
     "end_time": "2019-09-15T14:57:25.298164Z",
     "start_time": "2019-09-15T14:57:25.292153Z"
    }
   },
   "outputs": [],
   "source": [
    "df['residence_type'] = df['residence_type'].fillna(value='Rented')"
   ]
  },
  {
   "cell_type": "code",
   "execution_count": 65,
   "metadata": {
    "ExecuteTime": {
     "end_time": "2019-09-15T14:57:25.636699Z",
     "start_time": "2019-09-15T14:57:25.630715Z"
    }
   },
   "outputs": [],
   "source": [
    "res_type = pd.get_dummies(df['residence_type'], prefix='res_type')"
   ]
  },
  {
   "cell_type": "code",
   "execution_count": 66,
   "metadata": {
    "ExecuteTime": {
     "end_time": "2019-09-15T14:57:25.979244Z",
     "start_time": "2019-09-15T14:57:25.965282Z"
    }
   },
   "outputs": [],
   "source": [
    "df = pd.concat([df, res_type], axis=1)"
   ]
  },
  {
   "cell_type": "markdown",
   "metadata": {},
   "source": [
    "#### months_curr_residence"
   ]
  },
  {
   "cell_type": "code",
   "execution_count": 67,
   "metadata": {
    "ExecuteTime": {
     "end_time": "2019-09-15T14:57:26.665760Z",
     "start_time": "2019-09-15T14:57:26.660774Z"
    }
   },
   "outputs": [
    {
     "data": {
      "text/plain": [
       "0"
      ]
     },
     "execution_count": 67,
     "metadata": {},
     "output_type": "execute_result"
    }
   ],
   "source": [
    "df.months_curr_residence.isna().sum()"
   ]
  },
  {
   "cell_type": "code",
   "execution_count": 68,
   "metadata": {
    "ExecuteTime": {
     "end_time": "2019-09-15T14:57:27.084581Z",
     "start_time": "2019-09-15T14:57:27.076600Z"
    }
   },
   "outputs": [
    {
     "data": {
      "text/plain": [
       "count    71292.000000\n",
       "mean        34.563570\n",
       "std         36.760345\n",
       "min          6.000000\n",
       "5%           6.000000\n",
       "25%          6.000000\n",
       "50%         11.000000\n",
       "75%         60.000000\n",
       "95%        110.000000\n",
       "max        126.000000\n",
       "Name: months_curr_residence, dtype: float64"
      ]
     },
     "execution_count": 68,
     "metadata": {},
     "output_type": "execute_result"
    }
   ],
   "source": [
    "df.months_curr_residence.describe(percentiles=[.05, .25, .50, .75, .95])"
   ]
  },
  {
   "cell_type": "code",
   "execution_count": 69,
   "metadata": {
    "ExecuteTime": {
     "end_time": "2019-09-15T14:57:27.645441Z",
     "start_time": "2019-09-15T14:57:27.475895Z"
    }
   },
   "outputs": [
    {
     "data": {
      "text/plain": [
       "<matplotlib.axes._subplots.AxesSubplot at 0x1facf8635f8>"
      ]
     },
     "execution_count": 69,
     "metadata": {},
     "output_type": "execute_result"
    },
    {
     "data": {
      "image/png": "[encoded data removed]",
      "text/plain": [
       "<Figure size 432x288 with 1 Axes>"
      ]
     },
     "metadata": {
      "needs_background": "light"
     },
     "output_type": "display_data"
    }
   ],
   "source": [
    "sns.distplot(df.months_curr_residence)"
   ]
  },
  {
   "cell_type": "code",
   "execution_count": 70,
   "metadata": {
    "ExecuteTime": {
     "end_time": "2019-09-15T14:57:28.177870Z",
     "start_time": "2019-09-15T14:57:28.028270Z"
    }
   },
   "outputs": [
    {
     "data": {
      "text/plain": [
       "<matplotlib.axes._subplots.AxesSubplot at 0x1facf9af1d0>"
      ]
     },
     "execution_count": 70,
     "metadata": {},
     "output_type": "execute_result"
    },
    {
     "data": {
      "image/png": "[encoded data removed]",
      "text/plain": [
       "<Figure size 432x288 with 1 Axes>"
      ]
     },
     "metadata": {
      "needs_background": "light"
     },
     "output_type": "display_data"
    }
   ],
   "source": [
    "# Plotting again while removing the long bar to get real idea of distribution\n",
    "sns.distplot(df.loc[df['months_curr_residence']>10, 'months_curr_residence'])"
   ]
  },
  {
   "cell_type": "code",
   "execution_count": 71,
   "metadata": {
    "ExecuteTime": {
     "end_time": "2019-09-15T14:57:28.511121Z",
     "start_time": "2019-09-15T14:57:28.388476Z"
    }
   },
   "outputs": [
    {
     "data": {
      "image/png": "[encoded data removed]",
      "text/plain": [
       "<Figure size 432x288 with 1 Axes>"
      ]
     },
     "metadata": {
      "needs_background": "light"
     },
     "output_type": "display_data"
    }
   ],
   "source": [
    "df.boxplot(column='months_curr_residence', by='performance');"
   ]
  },
  {
   "cell_type": "markdown",
   "metadata": {},
   "source": [
    "Observations:<br>\n",
    "<ol>\n",
    "   <li>It can be left as continuous but binning could help. Will decide based on WOE & IV </li>\n",
    "</ol>"
   ]
  },
  {
   "cell_type": "code",
   "execution_count": 72,
   "metadata": {
    "ExecuteTime": {
     "end_time": "2019-09-15T14:57:29.360740Z",
     "start_time": "2019-09-15T14:57:29.355727Z"
    }
   },
   "outputs": [],
   "source": [
    "mcr_bins = np.linspace(start=df.months_curr_residence.min(), stop=df.months_curr_residence.max(), num=5)"
   ]
  },
  {
   "cell_type": "code",
   "execution_count": 73,
   "metadata": {
    "ExecuteTime": {
     "end_time": "2019-09-15T14:57:29.825119Z",
     "start_time": "2019-09-15T14:57:29.798165Z"
    }
   },
   "outputs": [
    {
     "name": "stdout",
     "output_type": "stream",
     "text": [
      "IV is 1.271\n"
     ]
    },
    {
     "data": {
      "text/html": [
       "<div>\n",
       "<style scoped>\n",
       "    .dataframe tbody tr th:only-of-type {\n",
       "        vertical-align: middle;\n",
       "    }\n",
       "\n",
       "    .dataframe tbody tr th {\n",
       "        vertical-align: top;\n",
       "    }\n",
       "\n",
       "    .dataframe thead th {\n",
       "        text-align: right;\n",
       "    }\n",
       "</style>\n",
       "<table border=\"1\" class=\"dataframe\">\n",
       "  <thead>\n",
       "    <tr style=\"text-align: right;\">\n",
       "      <th></th>\n",
       "      <th>months_curr_residence-bin</th>\n",
       "      <th>non_event</th>\n",
       "      <th>event</th>\n",
       "      <th>count</th>\n",
       "      <th>event %</th>\n",
       "      <th>non_event %</th>\n",
       "      <th>WOE</th>\n",
       "      <th>event%-non_event%</th>\n",
       "      <th>IV</th>\n",
       "    </tr>\n",
       "  </thead>\n",
       "  <tbody>\n",
       "    <tr>\n",
       "      <th>0</th>\n",
       "      <td>(5.999, 36.0]</td>\n",
       "      <td>42673.0</td>\n",
       "      <td>1763.0</td>\n",
       "      <td>44436.0</td>\n",
       "      <td>59.823549</td>\n",
       "      <td>63.767185</td>\n",
       "      <td>-0.063839</td>\n",
       "      <td>-3.943635</td>\n",
       "      <td>0.251759</td>\n",
       "    </tr>\n",
       "    <tr>\n",
       "      <th>1</th>\n",
       "      <td>(36.0, 66.0]</td>\n",
       "      <td>9131.0</td>\n",
       "      <td>515.0</td>\n",
       "      <td>9646.0</td>\n",
       "      <td>17.475399</td>\n",
       "      <td>13.644650</td>\n",
       "      <td>0.247447</td>\n",
       "      <td>3.830748</td>\n",
       "      <td>0.947906</td>\n",
       "    </tr>\n",
       "    <tr>\n",
       "      <th>2</th>\n",
       "      <td>(66.0, 96.0]</td>\n",
       "      <td>8031.0</td>\n",
       "      <td>374.0</td>\n",
       "      <td>8405.0</td>\n",
       "      <td>12.690872</td>\n",
       "      <td>12.000897</td>\n",
       "      <td>0.055902</td>\n",
       "      <td>0.689975</td>\n",
       "      <td>0.038571</td>\n",
       "    </tr>\n",
       "    <tr>\n",
       "      <th>3</th>\n",
       "      <td>(96.0, 126.0]</td>\n",
       "      <td>7085.0</td>\n",
       "      <td>295.0</td>\n",
       "      <td>7380.0</td>\n",
       "      <td>10.010180</td>\n",
       "      <td>10.587268</td>\n",
       "      <td>-0.056050</td>\n",
       "      <td>-0.577089</td>\n",
       "      <td>0.032346</td>\n",
       "    </tr>\n",
       "  </tbody>\n",
       "</table>\n",
       "</div>"
      ],
      "text/plain": [
       "  months_curr_residence-bin  non_event   event    count    event %  \\\n",
       "0             (5.999, 36.0]    42673.0  1763.0  44436.0  59.823549   \n",
       "1              (36.0, 66.0]     9131.0   515.0   9646.0  17.475399   \n",
       "2              (66.0, 96.0]     8031.0   374.0   8405.0  12.690872   \n",
       "3             (96.0, 126.0]     7085.0   295.0   7380.0  10.010180   \n",
       "\n",
       "   non_event %       WOE  event%-non_event%        IV  \n",
       "0    63.767185 -0.063839          -3.943635  0.251759  \n",
       "1    13.644650  0.247447           3.830748  0.947906  \n",
       "2    12.000897  0.055902           0.689975  0.038571  \n",
       "3    10.587268 -0.056050          -0.577089  0.032346  "
      ]
     },
     "execution_count": 73,
     "metadata": {},
     "output_type": "execute_result"
    }
   ],
   "source": [
    "woe_iv(col='months_curr_residence',\n",
    "       target='performance',\n",
    "       mybins=mcr_bins)"
   ]
  },
  {
   "cell_type": "markdown",
   "metadata": {},
   "source": [
    "Unable to make WOE monotonic here. So leaving this column as it is."
   ]
  },
  {
   "cell_type": "markdown",
   "metadata": {},
   "source": [
    "#### months_curr_company"
   ]
  },
  {
   "cell_type": "code",
   "execution_count": 74,
   "metadata": {
    "ExecuteTime": {
     "end_time": "2019-09-15T14:57:30.977971Z",
     "start_time": "2019-09-15T14:57:30.972985Z"
    }
   },
   "outputs": [
    {
     "data": {
      "text/plain": [
       "0"
      ]
     },
     "execution_count": 74,
     "metadata": {},
     "output_type": "execute_result"
    }
   ],
   "source": [
    "df.months_curr_company.isna().sum()"
   ]
  },
  {
   "cell_type": "code",
   "execution_count": 75,
   "metadata": {
    "ExecuteTime": {
     "end_time": "2019-09-15T14:57:31.340285Z",
     "start_time": "2019-09-15T14:57:31.332307Z"
    }
   },
   "outputs": [
    {
     "data": {
      "text/plain": [
       "count    71292.000000\n",
       "mean        33.957976\n",
       "std         20.410377\n",
       "min          3.000000\n",
       "25%         16.000000\n",
       "50%         34.000000\n",
       "75%         51.000000\n",
       "max        133.000000\n",
       "Name: months_curr_company, dtype: float64"
      ]
     },
     "execution_count": 75,
     "metadata": {},
     "output_type": "execute_result"
    }
   ],
   "source": [
    "df.months_curr_company.describe()"
   ]
  },
  {
   "cell_type": "code",
   "execution_count": 76,
   "metadata": {
    "ExecuteTime": {
     "end_time": "2019-09-15T14:57:31.878268Z",
     "start_time": "2019-09-15T14:57:31.708679Z"
    }
   },
   "outputs": [
    {
     "data": {
      "text/plain": [
       "<matplotlib.axes._subplots.AxesSubplot at 0x1face8f2550>"
      ]
     },
     "execution_count": 76,
     "metadata": {},
     "output_type": "execute_result"
    },
    {
     "data": {
      "image/png": "[encoded data removed]",
      "text/plain": [
       "<Figure size 432x288 with 1 Axes>"
      ]
     },
     "metadata": {
      "needs_background": "light"
     },
     "output_type": "display_data"
    }
   ],
   "source": [
    "sns.distplot(df.months_curr_company)"
   ]
  },
  {
   "cell_type": "code",
   "execution_count": 77,
   "metadata": {
    "ExecuteTime": {
     "end_time": "2019-09-15T14:57:32.398785Z",
     "start_time": "2019-09-15T14:57:32.268134Z"
    }
   },
   "outputs": [
    {
     "data": {
      "image/png": "[encoded data removed]",
      "text/plain": [
       "<Figure size 432x288 with 1 Axes>"
      ]
     },
     "metadata": {
      "needs_background": "light"
     },
     "output_type": "display_data"
    }
   ],
   "source": [
    "df.boxplot(column='months_curr_company', by='performance');"
   ]
  },
  {
   "cell_type": "markdown",
   "metadata": {},
   "source": [
    "Observations:<br>\n",
    "<ol>\n",
    "    <li>Outlier treatment is needed for sure</li>\n",
    "   <li>It can be left as continuous but binning could help. Will decide based on WOE & IV </li>\n",
    "</ol>"
   ]
  },
  {
   "cell_type": "code",
   "execution_count": 78,
   "metadata": {
    "ExecuteTime": {
     "end_time": "2019-09-15T14:57:33.451275Z",
     "start_time": "2019-09-15T14:57:33.444294Z"
    }
   },
   "outputs": [],
   "source": [
    "df.loc[df['months_curr_company'] > 100, 'months_curr_company'] = 100"
   ]
  },
  {
   "cell_type": "code",
   "execution_count": 79,
   "metadata": {
    "ExecuteTime": {
     "end_time": "2019-09-15T14:57:33.992955Z",
     "start_time": "2019-09-15T14:57:33.987991Z"
    }
   },
   "outputs": [],
   "source": [
    "mcc_bins = np.linspace(start=df.months_curr_company.min(), stop=df.months_curr_company.max(), num=10)"
   ]
  },
  {
   "cell_type": "code",
   "execution_count": 80,
   "metadata": {
    "ExecuteTime": {
     "end_time": "2019-09-15T14:57:34.652045Z",
     "start_time": "2019-09-15T14:57:34.621129Z"
    }
   },
   "outputs": [
    {
     "name": "stdout",
     "output_type": "stream",
     "text": [
      "IV is 1.685\n"
     ]
    },
    {
     "data": {
      "text/html": [
       "<div>\n",
       "<style scoped>\n",
       "    .dataframe tbody tr th:only-of-type {\n",
       "        vertical-align: middle;\n",
       "    }\n",
       "\n",
       "    .dataframe tbody tr th {\n",
       "        vertical-align: top;\n",
       "    }\n",
       "\n",
       "    .dataframe thead th {\n",
       "        text-align: right;\n",
       "    }\n",
       "</style>\n",
       "<table border=\"1\" class=\"dataframe\">\n",
       "  <thead>\n",
       "    <tr style=\"text-align: right;\">\n",
       "      <th></th>\n",
       "      <th>months_curr_company-bin</th>\n",
       "      <th>non_event</th>\n",
       "      <th>event</th>\n",
       "      <th>count</th>\n",
       "      <th>event %</th>\n",
       "      <th>non_event %</th>\n",
       "      <th>WOE</th>\n",
       "      <th>event%-non_event%</th>\n",
       "      <th>IV</th>\n",
       "    </tr>\n",
       "  </thead>\n",
       "  <tbody>\n",
       "    <tr>\n",
       "      <th>0</th>\n",
       "      <td>(2.999, 13.778]</td>\n",
       "      <td>13803.0</td>\n",
       "      <td>700.0</td>\n",
       "      <td>14503.0</td>\n",
       "      <td>23.744912</td>\n",
       "      <td>20.626121</td>\n",
       "      <td>0.140810</td>\n",
       "      <td>3.118791</td>\n",
       "      <td>0.439157</td>\n",
       "    </tr>\n",
       "    <tr>\n",
       "      <th>1</th>\n",
       "      <td>(13.778, 24.556]</td>\n",
       "      <td>10335.0</td>\n",
       "      <td>521.0</td>\n",
       "      <td>10856.0</td>\n",
       "      <td>17.672999</td>\n",
       "      <td>15.443814</td>\n",
       "      <td>0.134829</td>\n",
       "      <td>2.229185</td>\n",
       "      <td>0.300560</td>\n",
       "    </tr>\n",
       "    <tr>\n",
       "      <th>2</th>\n",
       "      <td>(24.556, 35.333]</td>\n",
       "      <td>10630.0</td>\n",
       "      <td>449.0</td>\n",
       "      <td>11079.0</td>\n",
       "      <td>15.230665</td>\n",
       "      <td>15.884638</td>\n",
       "      <td>-0.042042</td>\n",
       "      <td>-0.653974</td>\n",
       "      <td>0.027494</td>\n",
       "    </tr>\n",
       "    <tr>\n",
       "      <th>3</th>\n",
       "      <td>(35.333, 46.111]</td>\n",
       "      <td>10997.0</td>\n",
       "      <td>441.0</td>\n",
       "      <td>11438.0</td>\n",
       "      <td>14.959294</td>\n",
       "      <td>16.433054</td>\n",
       "      <td>-0.093962</td>\n",
       "      <td>-1.473760</td>\n",
       "      <td>0.138477</td>\n",
       "    </tr>\n",
       "    <tr>\n",
       "      <th>4</th>\n",
       "      <td>(46.111, 56.889]</td>\n",
       "      <td>9900.0</td>\n",
       "      <td>368.0</td>\n",
       "      <td>10268.0</td>\n",
       "      <td>12.483039</td>\n",
       "      <td>14.793784</td>\n",
       "      <td>-0.169836</td>\n",
       "      <td>-2.310744</td>\n",
       "      <td>0.392448</td>\n",
       "    </tr>\n",
       "    <tr>\n",
       "      <th>5</th>\n",
       "      <td>(56.889, 67.667]</td>\n",
       "      <td>7734.0</td>\n",
       "      <td>292.0</td>\n",
       "      <td>8026.0</td>\n",
       "      <td>9.905020</td>\n",
       "      <td>11.557083</td>\n",
       "      <td>-0.154257</td>\n",
       "      <td>-1.652063</td>\n",
       "      <td>0.254842</td>\n",
       "    </tr>\n",
       "    <tr>\n",
       "      <th>6</th>\n",
       "      <td>(67.667, 78.444]</td>\n",
       "      <td>3511.0</td>\n",
       "      <td>176.0</td>\n",
       "      <td>3687.0</td>\n",
       "      <td>5.970149</td>\n",
       "      <td>5.246563</td>\n",
       "      <td>0.129199</td>\n",
       "      <td>0.723586</td>\n",
       "      <td>0.093486</td>\n",
       "    </tr>\n",
       "    <tr>\n",
       "      <th>7</th>\n",
       "      <td>(78.444, 89.222]</td>\n",
       "      <td>1.0</td>\n",
       "      <td>0.5</td>\n",
       "      <td>1.5</td>\n",
       "      <td>0.016961</td>\n",
       "      <td>0.001494</td>\n",
       "      <td>2.429224</td>\n",
       "      <td>0.015466</td>\n",
       "      <td>0.037571</td>\n",
       "    </tr>\n",
       "    <tr>\n",
       "      <th>8</th>\n",
       "      <td>(89.222, 100.0]</td>\n",
       "      <td>9.0</td>\n",
       "      <td>0.5</td>\n",
       "      <td>9.5</td>\n",
       "      <td>0.016961</td>\n",
       "      <td>0.013449</td>\n",
       "      <td>0.231999</td>\n",
       "      <td>0.003512</td>\n",
       "      <td>0.000815</td>\n",
       "    </tr>\n",
       "  </tbody>\n",
       "</table>\n",
       "</div>"
      ],
      "text/plain": [
       "  months_curr_company-bin  non_event  event    count    event %  non_event %  \\\n",
       "0         (2.999, 13.778]    13803.0  700.0  14503.0  23.744912    20.626121   \n",
       "1        (13.778, 24.556]    10335.0  521.0  10856.0  17.672999    15.443814   \n",
       "2        (24.556, 35.333]    10630.0  449.0  11079.0  15.230665    15.884638   \n",
       "3        (35.333, 46.111]    10997.0  441.0  11438.0  14.959294    16.433054   \n",
       "4        (46.111, 56.889]     9900.0  368.0  10268.0  12.483039    14.793784   \n",
       "5        (56.889, 67.667]     7734.0  292.0   8026.0   9.905020    11.557083   \n",
       "6        (67.667, 78.444]     3511.0  176.0   3687.0   5.970149     5.246563   \n",
       "7        (78.444, 89.222]        1.0    0.5      1.5   0.016961     0.001494   \n",
       "8         (89.222, 100.0]        9.0    0.5      9.5   0.016961     0.013449   \n",
       "\n",
       "        WOE  event%-non_event%        IV  \n",
       "0  0.140810           3.118791  0.439157  \n",
       "1  0.134829           2.229185  0.300560  \n",
       "2 -0.042042          -0.653974  0.027494  \n",
       "3 -0.093962          -1.473760  0.138477  \n",
       "4 -0.169836          -2.310744  0.392448  \n",
       "5 -0.154257          -1.652063  0.254842  \n",
       "6  0.129199           0.723586  0.093486  \n",
       "7  2.429224           0.015466  0.037571  \n",
       "8  0.231999           0.003512  0.000815  "
      ]
     },
     "execution_count": 80,
     "metadata": {},
     "output_type": "execute_result"
    }
   ],
   "source": [
    "woe_iv(col='months_curr_company',\n",
    "       target='performance',\n",
    "       mybins=mcc_bins)"
   ]
  },
  {
   "cell_type": "markdown",
   "metadata": {},
   "source": [
    "This is also not suitable for WOE values."
   ]
  },
  {
   "cell_type": "markdown",
   "metadata": {},
   "source": [
    "#### cc_util"
   ]
  },
  {
   "cell_type": "code",
   "execution_count": 81,
   "metadata": {
    "ExecuteTime": {
     "end_time": "2019-09-15T14:57:36.056016Z",
     "start_time": "2019-09-15T14:57:35.948276Z"
    }
   },
   "outputs": [
    {
     "data": {
      "text/plain": [
       "<matplotlib.axes._subplots.AxesSubplot at 0x1faceb63588>"
      ]
     },
     "execution_count": 81,
     "metadata": {},
     "output_type": "execute_result"
    },
    {
     "data": {
      "image/png": "[encoded data removed]",
      "text/plain": [
       "<Figure size 432x288 with 1 Axes>"
      ]
     },
     "metadata": {
      "needs_background": "light"
     },
     "output_type": "display_data"
    }
   ],
   "source": [
    "df.cc_util.hist()"
   ]
  },
  {
   "cell_type": "code",
   "execution_count": 82,
   "metadata": {
    "ExecuteTime": {
     "end_time": "2019-09-15T14:57:36.248890Z",
     "start_time": "2019-09-15T14:57:36.243904Z"
    }
   },
   "outputs": [
    {
     "data": {
      "text/plain": [
       "1058"
      ]
     },
     "execution_count": 82,
     "metadata": {},
     "output_type": "execute_result"
    }
   ],
   "source": [
    "df.cc_util.isna().sum()"
   ]
  },
  {
   "cell_type": "markdown",
   "metadata": {},
   "source": [
    "It is mentioned in the problem statement that some application id will not have a hit in credit bureau and those will have zeroes in cb.csv file. Lets filter them and add this information in a new feature."
   ]
  },
  {
   "cell_type": "code",
   "execution_count": 83,
   "metadata": {
    "ExecuteTime": {
     "end_time": "2019-09-15T14:57:37.087880Z",
     "start_time": "2019-09-15T14:57:37.084889Z"
    }
   },
   "outputs": [],
   "source": [
    "cb_cols = ['90_dpd_6m',\n",
    "       '60_dpd_6m', \n",
    "       '30_dpd_6m',\n",
    "       '90_dpd_12m',\n",
    "       '60_dpd_12m',\n",
    "       '30_dpd_12m',\n",
    "       'cc_util',\n",
    "       'trades_6m',\n",
    "       'trades_12m',\n",
    "       'pl_trades_6m',\n",
    "       'pl_trades_12m',\n",
    "       'inquiries_6m',\n",
    "       'inquiries_12m',\n",
    "       'open_home_loan', 'outstanding_bal',\n",
    "       'total_trades', 'open_auto_loan']"
   ]
  },
  {
   "cell_type": "code",
   "execution_count": 84,
   "metadata": {
    "ExecuteTime": {
     "end_time": "2019-09-15T14:57:37.472030Z",
     "start_time": "2019-09-15T14:57:37.447075Z"
    }
   },
   "outputs": [
    {
     "data": {
      "text/plain": [
       "566"
      ]
     },
     "execution_count": 84,
     "metadata": {},
     "output_type": "execute_result"
    }
   ],
   "source": [
    "(df.loc[:, cb_cols].sum(axis=1) == 0).sum()"
   ]
  },
  {
   "cell_type": "markdown",
   "metadata": {},
   "source": [
    "Total 566 records where there was no hit in the credit bureau."
   ]
  },
  {
   "cell_type": "code",
   "execution_count": 85,
   "metadata": {
    "ExecuteTime": {
     "end_time": "2019-09-15T14:57:38.412241Z",
     "start_time": "2019-09-15T14:57:38.380348Z"
    }
   },
   "outputs": [
    {
     "data": {
      "text/html": [
       "<div>\n",
       "<style scoped>\n",
       "    .dataframe tbody tr th:only-of-type {\n",
       "        vertical-align: middle;\n",
       "    }\n",
       "\n",
       "    .dataframe tbody tr th {\n",
       "        vertical-align: top;\n",
       "    }\n",
       "\n",
       "    .dataframe thead th {\n",
       "        text-align: right;\n",
       "    }\n",
       "</style>\n",
       "<table border=\"1\" class=\"dataframe\">\n",
       "  <thead>\n",
       "    <tr style=\"text-align: right;\">\n",
       "      <th></th>\n",
       "      <th>90_dpd_6m</th>\n",
       "      <th>60_dpd_6m</th>\n",
       "      <th>30_dpd_6m</th>\n",
       "      <th>90_dpd_12m</th>\n",
       "      <th>60_dpd_12m</th>\n",
       "      <th>30_dpd_12m</th>\n",
       "      <th>cc_util</th>\n",
       "      <th>trades_6m</th>\n",
       "      <th>trades_12m</th>\n",
       "      <th>pl_trades_6m</th>\n",
       "      <th>pl_trades_12m</th>\n",
       "      <th>inquiries_6m</th>\n",
       "      <th>inquiries_12m</th>\n",
       "      <th>open_home_loan</th>\n",
       "      <th>outstanding_bal</th>\n",
       "      <th>total_trades</th>\n",
       "      <th>open_auto_loan</th>\n",
       "    </tr>\n",
       "  </thead>\n",
       "  <tbody>\n",
       "    <tr>\n",
       "      <th>630</th>\n",
       "      <td>0</td>\n",
       "      <td>0</td>\n",
       "      <td>0</td>\n",
       "      <td>0</td>\n",
       "      <td>0</td>\n",
       "      <td>0</td>\n",
       "      <td>NaN</td>\n",
       "      <td>0.0</td>\n",
       "      <td>0</td>\n",
       "      <td>0</td>\n",
       "      <td>0</td>\n",
       "      <td>0</td>\n",
       "      <td>0</td>\n",
       "      <td>0.0</td>\n",
       "      <td>0.0</td>\n",
       "      <td>0</td>\n",
       "      <td>0</td>\n",
       "    </tr>\n",
       "    <tr>\n",
       "      <th>711</th>\n",
       "      <td>0</td>\n",
       "      <td>0</td>\n",
       "      <td>0</td>\n",
       "      <td>0</td>\n",
       "      <td>0</td>\n",
       "      <td>0</td>\n",
       "      <td>NaN</td>\n",
       "      <td>0.0</td>\n",
       "      <td>0</td>\n",
       "      <td>0</td>\n",
       "      <td>0</td>\n",
       "      <td>0</td>\n",
       "      <td>0</td>\n",
       "      <td>0.0</td>\n",
       "      <td>0.0</td>\n",
       "      <td>0</td>\n",
       "      <td>0</td>\n",
       "    </tr>\n",
       "    <tr>\n",
       "      <th>934</th>\n",
       "      <td>0</td>\n",
       "      <td>0</td>\n",
       "      <td>0</td>\n",
       "      <td>0</td>\n",
       "      <td>0</td>\n",
       "      <td>0</td>\n",
       "      <td>NaN</td>\n",
       "      <td>0.0</td>\n",
       "      <td>0</td>\n",
       "      <td>0</td>\n",
       "      <td>0</td>\n",
       "      <td>0</td>\n",
       "      <td>0</td>\n",
       "      <td>0.0</td>\n",
       "      <td>0.0</td>\n",
       "      <td>0</td>\n",
       "      <td>0</td>\n",
       "    </tr>\n",
       "    <tr>\n",
       "      <th>975</th>\n",
       "      <td>0</td>\n",
       "      <td>0</td>\n",
       "      <td>0</td>\n",
       "      <td>0</td>\n",
       "      <td>0</td>\n",
       "      <td>0</td>\n",
       "      <td>NaN</td>\n",
       "      <td>0.0</td>\n",
       "      <td>0</td>\n",
       "      <td>0</td>\n",
       "      <td>0</td>\n",
       "      <td>0</td>\n",
       "      <td>0</td>\n",
       "      <td>0.0</td>\n",
       "      <td>0.0</td>\n",
       "      <td>0</td>\n",
       "      <td>0</td>\n",
       "    </tr>\n",
       "    <tr>\n",
       "      <th>980</th>\n",
       "      <td>0</td>\n",
       "      <td>0</td>\n",
       "      <td>0</td>\n",
       "      <td>0</td>\n",
       "      <td>0</td>\n",
       "      <td>0</td>\n",
       "      <td>NaN</td>\n",
       "      <td>0.0</td>\n",
       "      <td>0</td>\n",
       "      <td>0</td>\n",
       "      <td>0</td>\n",
       "      <td>0</td>\n",
       "      <td>0</td>\n",
       "      <td>0.0</td>\n",
       "      <td>0.0</td>\n",
       "      <td>0</td>\n",
       "      <td>0</td>\n",
       "    </tr>\n",
       "  </tbody>\n",
       "</table>\n",
       "</div>"
      ],
      "text/plain": [
       "     90_dpd_6m  60_dpd_6m  30_dpd_6m  90_dpd_12m  60_dpd_12m  30_dpd_12m  \\\n",
       "630          0          0          0           0           0           0   \n",
       "711          0          0          0           0           0           0   \n",
       "934          0          0          0           0           0           0   \n",
       "975          0          0          0           0           0           0   \n",
       "980          0          0          0           0           0           0   \n",
       "\n",
       "     cc_util  trades_6m  trades_12m  pl_trades_6m  pl_trades_12m  \\\n",
       "630      NaN        0.0           0             0              0   \n",
       "711      NaN        0.0           0             0              0   \n",
       "934      NaN        0.0           0             0              0   \n",
       "975      NaN        0.0           0             0              0   \n",
       "980      NaN        0.0           0             0              0   \n",
       "\n",
       "     inquiries_6m  inquiries_12m  open_home_loan  outstanding_bal  \\\n",
       "630             0              0             0.0              0.0   \n",
       "711             0              0             0.0              0.0   \n",
       "934             0              0             0.0              0.0   \n",
       "975             0              0             0.0              0.0   \n",
       "980             0              0             0.0              0.0   \n",
       "\n",
       "     total_trades  open_auto_loan  \n",
       "630             0               0  \n",
       "711             0               0  \n",
       "934             0               0  \n",
       "975             0               0  \n",
       "980             0               0  "
      ]
     },
     "execution_count": 85,
     "metadata": {},
     "output_type": "execute_result"
    }
   ],
   "source": [
    "# Lets see how those no hit records look.\n",
    "df.loc[df.loc[:, cb_cols].sum(axis=1) == 0,cb_cols].head()"
   ]
  },
  {
   "cell_type": "code",
   "execution_count": 86,
   "metadata": {
    "ExecuteTime": {
     "end_time": "2019-09-15T14:57:38.803613Z",
     "start_time": "2019-09-15T14:57:38.780652Z"
    }
   },
   "outputs": [],
   "source": [
    "# For these impute cc_util with a 0\n",
    "df.loc[ (df.loc[:, cb_cols].sum(axis=1) == 0) & (df['cc_util'].isna()),'cc_util'] = 0"
   ]
  },
  {
   "cell_type": "markdown",
   "metadata": {},
   "source": [
    "Also mentioned in the problem statement that cases with some credit bureau data but missing credit card utilisation means the applicant does not have any other credit card."
   ]
  },
  {
   "cell_type": "code",
   "execution_count": 87,
   "metadata": {
    "ExecuteTime": {
     "end_time": "2019-09-15T14:57:39.818753Z",
     "start_time": "2019-09-15T14:57:39.795812Z"
    }
   },
   "outputs": [],
   "source": [
    "df.loc[(df.loc[:, cb_cols].sum(axis=1) != 0) & (df['cc_util'].isna()),'cc_util'] = df['cc_util'].median()"
   ]
  },
  {
   "cell_type": "code",
   "execution_count": 88,
   "metadata": {
    "ExecuteTime": {
     "end_time": "2019-09-15T14:57:40.260477Z",
     "start_time": "2019-09-15T14:57:40.252472Z"
    }
   },
   "outputs": [
    {
     "data": {
      "text/plain": [
       "count    71292.000000\n",
       "mean        29.358175\n",
       "std         29.454272\n",
       "min          0.000000\n",
       "25%          8.000000\n",
       "50%         15.000000\n",
       "75%         45.000000\n",
       "max        113.000000\n",
       "Name: cc_util, dtype: float64"
      ]
     },
     "execution_count": 88,
     "metadata": {},
     "output_type": "execute_result"
    }
   ],
   "source": [
    "df.cc_util.describe()"
   ]
  },
  {
   "cell_type": "code",
   "execution_count": 89,
   "metadata": {
    "ExecuteTime": {
     "end_time": "2019-09-15T14:57:40.751582Z",
     "start_time": "2019-09-15T14:57:40.668778Z"
    }
   },
   "outputs": [
    {
     "data": {
      "text/plain": [
       "<matplotlib.axes._subplots.AxesSubplot at 0x1facf0923c8>"
      ]
     },
     "execution_count": 89,
     "metadata": {},
     "output_type": "execute_result"
    },
    {
     "data": {
      "image/png": "[encoded data removed]",
      "text/plain": [
       "<Figure size 432x288 with 1 Axes>"
      ]
     },
     "metadata": {
      "needs_background": "light"
     },
     "output_type": "display_data"
    }
   ],
   "source": [
    "sns.boxplot(df['cc_util'])"
   ]
  },
  {
   "cell_type": "code",
   "execution_count": 90,
   "metadata": {
    "ExecuteTime": {
     "end_time": "2019-09-15T14:57:43.904357Z",
     "start_time": "2019-09-15T14:57:43.804624Z"
    }
   },
   "outputs": [
    {
     "data": {
      "image/png": "[encoded data removed]",
      "text/plain": [
       "<Figure size 432x288 with 1 Axes>"
      ]
     },
     "metadata": {
      "needs_background": "light"
     },
     "output_type": "display_data"
    }
   ],
   "source": [
    "df.boxplot(column='cc_util', by='performance');"
   ]
  },
  {
   "cell_type": "markdown",
   "metadata": {},
   "source": [
    "Observations:<br>\n",
    "<ol>\n",
    "    <li>Needs missing values imputed</li>\n",
    "    <li>Outlier treatment is needed for sure</li>\n",
    "    <li>Very significant feature</li>\n",
    "   <li>It can be left as continuous but binning could help. Will decide based on WOE & IV </li>\n",
    "</ol>"
   ]
  },
  {
   "cell_type": "code",
   "execution_count": 91,
   "metadata": {
    "ExecuteTime": {
     "end_time": "2019-09-15T14:57:45.098477Z",
     "start_time": "2019-09-15T14:57:45.092511Z"
    }
   },
   "outputs": [
    {
     "data": {
      "text/plain": [
       "array([  0.        ,  12.55555556,  25.11111111,  37.66666667,\n",
       "        50.22222222,  62.77777778,  75.33333333,  87.88888889,\n",
       "       100.44444444, 113.        ])"
      ]
     },
     "execution_count": 91,
     "metadata": {},
     "output_type": "execute_result"
    }
   ],
   "source": [
    "cc_util_bins =  np.linspace(start=df.cc_util.min(), stop=df.cc_util.max(), num=10)\n",
    "cc_util_bins"
   ]
  },
  {
   "cell_type": "code",
   "execution_count": 92,
   "metadata": {
    "ExecuteTime": {
     "end_time": "2019-09-15T14:57:45.560477Z",
     "start_time": "2019-09-15T14:57:45.532575Z"
    }
   },
   "outputs": [
    {
     "name": "stdout",
     "output_type": "stream",
     "text": [
      "IV is 29.46\n"
     ]
    },
    {
     "data": {
      "text/html": [
       "<div>\n",
       "<style scoped>\n",
       "    .dataframe tbody tr th:only-of-type {\n",
       "        vertical-align: middle;\n",
       "    }\n",
       "\n",
       "    .dataframe tbody tr th {\n",
       "        vertical-align: top;\n",
       "    }\n",
       "\n",
       "    .dataframe thead th {\n",
       "        text-align: right;\n",
       "    }\n",
       "</style>\n",
       "<table border=\"1\" class=\"dataframe\">\n",
       "  <thead>\n",
       "    <tr style=\"text-align: right;\">\n",
       "      <th></th>\n",
       "      <th>cc_util-bin</th>\n",
       "      <th>non_event</th>\n",
       "      <th>event</th>\n",
       "      <th>count</th>\n",
       "      <th>event %</th>\n",
       "      <th>non_event %</th>\n",
       "      <th>WOE</th>\n",
       "      <th>event%-non_event%</th>\n",
       "      <th>IV</th>\n",
       "    </tr>\n",
       "  </thead>\n",
       "  <tbody>\n",
       "    <tr>\n",
       "      <th>0</th>\n",
       "      <td>(-0.001, 12.556]</td>\n",
       "      <td>29941.0</td>\n",
       "      <td>649.0</td>\n",
       "      <td>30590.0</td>\n",
       "      <td>22.022396</td>\n",
       "      <td>44.741482</td>\n",
       "      <td>-0.708841</td>\n",
       "      <td>-22.719087</td>\n",
       "      <td>16.104224</td>\n",
       "    </tr>\n",
       "    <tr>\n",
       "      <th>1</th>\n",
       "      <td>(12.556, 25.111]</td>\n",
       "      <td>13055.0</td>\n",
       "      <td>537.0</td>\n",
       "      <td>13592.0</td>\n",
       "      <td>18.221921</td>\n",
       "      <td>19.508368</td>\n",
       "      <td>-0.068218</td>\n",
       "      <td>-1.286448</td>\n",
       "      <td>0.087759</td>\n",
       "    </tr>\n",
       "    <tr>\n",
       "      <th>2</th>\n",
       "      <td>(25.111, 37.667]</td>\n",
       "      <td>4537.0</td>\n",
       "      <td>336.0</td>\n",
       "      <td>4873.0</td>\n",
       "      <td>11.401425</td>\n",
       "      <td>6.779737</td>\n",
       "      <td>0.519800</td>\n",
       "      <td>4.621688</td>\n",
       "      <td>2.402354</td>\n",
       "    </tr>\n",
       "    <tr>\n",
       "      <th>3</th>\n",
       "      <td>(37.667, 50.222]</td>\n",
       "      <td>5811.0</td>\n",
       "      <td>471.0</td>\n",
       "      <td>6282.0</td>\n",
       "      <td>15.982355</td>\n",
       "      <td>8.683503</td>\n",
       "      <td>0.610060</td>\n",
       "      <td>7.298852</td>\n",
       "      <td>4.452740</td>\n",
       "    </tr>\n",
       "    <tr>\n",
       "      <th>4</th>\n",
       "      <td>(50.222, 62.778]</td>\n",
       "      <td>4507.0</td>\n",
       "      <td>330.0</td>\n",
       "      <td>4837.0</td>\n",
       "      <td>11.197828</td>\n",
       "      <td>6.734907</td>\n",
       "      <td>0.508416</td>\n",
       "      <td>4.462921</td>\n",
       "      <td>2.269020</td>\n",
       "    </tr>\n",
       "    <tr>\n",
       "      <th>5</th>\n",
       "      <td>(62.778, 75.333]</td>\n",
       "      <td>3270.0</td>\n",
       "      <td>267.0</td>\n",
       "      <td>3537.0</td>\n",
       "      <td>9.060061</td>\n",
       "      <td>4.886432</td>\n",
       "      <td>0.617414</td>\n",
       "      <td>4.173630</td>\n",
       "      <td>2.576855</td>\n",
       "    </tr>\n",
       "    <tr>\n",
       "      <th>6</th>\n",
       "      <td>(75.333, 87.889]</td>\n",
       "      <td>1621.0</td>\n",
       "      <td>126.0</td>\n",
       "      <td>1747.0</td>\n",
       "      <td>4.275534</td>\n",
       "      <td>2.422295</td>\n",
       "      <td>0.568194</td>\n",
       "      <td>1.853239</td>\n",
       "      <td>1.052999</td>\n",
       "    </tr>\n",
       "    <tr>\n",
       "      <th>7</th>\n",
       "      <td>(87.889, 100.444]</td>\n",
       "      <td>731.0</td>\n",
       "      <td>54.0</td>\n",
       "      <td>785.0</td>\n",
       "      <td>1.832372</td>\n",
       "      <td>1.092349</td>\n",
       "      <td>0.517281</td>\n",
       "      <td>0.740023</td>\n",
       "      <td>0.382800</td>\n",
       "    </tr>\n",
       "    <tr>\n",
       "      <th>8</th>\n",
       "      <td>(100.444, 113.0]</td>\n",
       "      <td>3447.0</td>\n",
       "      <td>177.0</td>\n",
       "      <td>3624.0</td>\n",
       "      <td>6.006108</td>\n",
       "      <td>5.150926</td>\n",
       "      <td>0.153600</td>\n",
       "      <td>0.855181</td>\n",
       "      <td>0.131356</td>\n",
       "    </tr>\n",
       "  </tbody>\n",
       "</table>\n",
       "</div>"
      ],
      "text/plain": [
       "         cc_util-bin  non_event  event    count    event %  non_event %  \\\n",
       "0   (-0.001, 12.556]    29941.0  649.0  30590.0  22.022396    44.741482   \n",
       "1   (12.556, 25.111]    13055.0  537.0  13592.0  18.221921    19.508368   \n",
       "2   (25.111, 37.667]     4537.0  336.0   4873.0  11.401425     6.779737   \n",
       "3   (37.667, 50.222]     5811.0  471.0   6282.0  15.982355     8.683503   \n",
       "4   (50.222, 62.778]     4507.0  330.0   4837.0  11.197828     6.734907   \n",
       "5   (62.778, 75.333]     3270.0  267.0   3537.0   9.060061     4.886432   \n",
       "6   (75.333, 87.889]     1621.0  126.0   1747.0   4.275534     2.422295   \n",
       "7  (87.889, 100.444]      731.0   54.0    785.0   1.832372     1.092349   \n",
       "8   (100.444, 113.0]     3447.0  177.0   3624.0   6.006108     5.150926   \n",
       "\n",
       "        WOE  event%-non_event%         IV  \n",
       "0 -0.708841         -22.719087  16.104224  \n",
       "1 -0.068218          -1.286448   0.087759  \n",
       "2  0.519800           4.621688   2.402354  \n",
       "3  0.610060           7.298852   4.452740  \n",
       "4  0.508416           4.462921   2.269020  \n",
       "5  0.617414           4.173630   2.576855  \n",
       "6  0.568194           1.853239   1.052999  \n",
       "7  0.517281           0.740023   0.382800  \n",
       "8  0.153600           0.855181   0.131356  "
      ]
     },
     "execution_count": 92,
     "metadata": {},
     "output_type": "execute_result"
    }
   ],
   "source": [
    "cc_util_woe = woe_iv(col='cc_util',\n",
    "       target='performance',\n",
    "       mybins=cc_util_bins)\n",
    "cc_util_woe"
   ]
  },
  {
   "cell_type": "markdown",
   "metadata": {
    "ExecuteTime": {
     "end_time": "2019-08-25T07:13:32.581452Z",
     "start_time": "2019-08-25T07:13:32.575468Z"
    }
   },
   "source": [
    "Not suitable for WOE Values"
   ]
  },
  {
   "cell_type": "code",
   "execution_count": 93,
   "metadata": {
    "ExecuteTime": {
     "end_time": "2019-09-15T14:57:46.782305Z",
     "start_time": "2019-09-15T14:57:46.604754Z"
    }
   },
   "outputs": [
    {
     "data": {
      "image/png": "[encoded data removed]",
      "text/plain": [
       "<Figure size 720x576 with 1 Axes>"
      ]
     },
     "metadata": {
      "needs_background": "light"
     },
     "output_type": "display_data"
    }
   ],
   "source": [
    "N = 9\n",
    "plt.figure(figsize=(10,8))\n",
    "event = cc_util_woe['event']\n",
    "non_event = cc_util_woe['non_event']\n",
    "\n",
    "ind = np.arange(N)    # the x locations for the groups\n",
    "width = 0.35       # the width of the bars: can also be len(x) sequence\n",
    "\n",
    "p1 = plt.bar(ind, non_event, width)\n",
    "p2 = plt.bar(ind, event, width, bottom=non_event)\n",
    "\n",
    "plt.ylabel('Performance')\n",
    "plt.title('Performance by cc utilization bin wise')\n",
    "plt.xticks(ind, cc_util_woe['cc_util-bin'], rotation=20)\n",
    "plt.yticks(np.arange(0, 33000, 2000))\n",
    "plt.legend((p1[0], p2[0]), ('0', '1'));"
   ]
  },
  {
   "cell_type": "markdown",
   "metadata": {},
   "source": [
    "#### trades 6m"
   ]
  },
  {
   "cell_type": "code",
   "execution_count": 94,
   "metadata": {
    "ExecuteTime": {
     "end_time": "2019-09-15T14:57:47.841401Z",
     "start_time": "2019-09-15T14:57:47.836415Z"
    }
   },
   "outputs": [
    {
     "data": {
      "text/plain": [
       "1"
      ]
     },
     "execution_count": 94,
     "metadata": {},
     "output_type": "execute_result"
    }
   ],
   "source": [
    "df['trades_6m'].isna().sum()"
   ]
  },
  {
   "cell_type": "code",
   "execution_count": 95,
   "metadata": {
    "ExecuteTime": {
     "end_time": "2019-09-15T14:57:48.618204Z",
     "start_time": "2019-09-15T14:57:48.612192Z"
    }
   },
   "outputs": [],
   "source": [
    "df.loc[df['trades_6m'].isna(),'trades_6m'] = 0.0"
   ]
  },
  {
   "cell_type": "code",
   "execution_count": 96,
   "metadata": {
    "ExecuteTime": {
     "end_time": "2019-09-15T14:57:48.972950Z",
     "start_time": "2019-09-15T14:57:48.956993Z"
    }
   },
   "outputs": [
    {
     "data": {
      "text/html": [
       "<div>\n",
       "<style scoped>\n",
       "    .dataframe tbody tr th:only-of-type {\n",
       "        vertical-align: middle;\n",
       "    }\n",
       "\n",
       "    .dataframe tbody tr th {\n",
       "        vertical-align: top;\n",
       "    }\n",
       "\n",
       "    .dataframe thead th {\n",
       "        text-align: right;\n",
       "    }\n",
       "</style>\n",
       "<table border=\"1\" class=\"dataframe\">\n",
       "  <thead>\n",
       "    <tr style=\"text-align: right;\">\n",
       "      <th>performance</th>\n",
       "      <th>0.0</th>\n",
       "      <th>1.0</th>\n",
       "      <th>delinq%</th>\n",
       "    </tr>\n",
       "    <tr>\n",
       "      <th>trades_6m</th>\n",
       "      <th></th>\n",
       "      <th></th>\n",
       "      <th></th>\n",
       "    </tr>\n",
       "  </thead>\n",
       "  <tbody>\n",
       "    <tr>\n",
       "      <th>0.0</th>\n",
       "      <td>11923</td>\n",
       "      <td>272</td>\n",
       "      <td>2.230</td>\n",
       "    </tr>\n",
       "    <tr>\n",
       "      <th>1.0</th>\n",
       "      <td>19587</td>\n",
       "      <td>534</td>\n",
       "      <td>2.654</td>\n",
       "    </tr>\n",
       "    <tr>\n",
       "      <th>2.0</th>\n",
       "      <td>11478</td>\n",
       "      <td>638</td>\n",
       "      <td>5.266</td>\n",
       "    </tr>\n",
       "    <tr>\n",
       "      <th>3.0</th>\n",
       "      <td>8803</td>\n",
       "      <td>599</td>\n",
       "      <td>6.371</td>\n",
       "    </tr>\n",
       "    <tr>\n",
       "      <th>4.0</th>\n",
       "      <td>5861</td>\n",
       "      <td>436</td>\n",
       "      <td>6.924</td>\n",
       "    </tr>\n",
       "    <tr>\n",
       "      <th>5.0</th>\n",
       "      <td>3453</td>\n",
       "      <td>212</td>\n",
       "      <td>5.784</td>\n",
       "    </tr>\n",
       "    <tr>\n",
       "      <th>6.0</th>\n",
       "      <td>2227</td>\n",
       "      <td>109</td>\n",
       "      <td>4.666</td>\n",
       "    </tr>\n",
       "    <tr>\n",
       "      <th>7.0</th>\n",
       "      <td>1584</td>\n",
       "      <td>65</td>\n",
       "      <td>3.942</td>\n",
       "    </tr>\n",
       "    <tr>\n",
       "      <th>8.0</th>\n",
       "      <td>1102</td>\n",
       "      <td>52</td>\n",
       "      <td>4.506</td>\n",
       "    </tr>\n",
       "    <tr>\n",
       "      <th>9.0</th>\n",
       "      <td>597</td>\n",
       "      <td>21</td>\n",
       "      <td>3.398</td>\n",
       "    </tr>\n",
       "    <tr>\n",
       "      <th>10.0</th>\n",
       "      <td>231</td>\n",
       "      <td>7</td>\n",
       "      <td>2.941</td>\n",
       "    </tr>\n",
       "    <tr>\n",
       "      <th>11.0</th>\n",
       "      <td>63</td>\n",
       "      <td>2</td>\n",
       "      <td>3.077</td>\n",
       "    </tr>\n",
       "    <tr>\n",
       "      <th>12.0</th>\n",
       "      <td>11</td>\n",
       "      <td>0</td>\n",
       "      <td>0.000</td>\n",
       "    </tr>\n",
       "  </tbody>\n",
       "</table>\n",
       "</div>"
      ],
      "text/plain": [
       "performance    0.0  1.0  delinq%\n",
       "trades_6m                       \n",
       "0.0          11923  272    2.230\n",
       "1.0          19587  534    2.654\n",
       "2.0          11478  638    5.266\n",
       "3.0           8803  599    6.371\n",
       "4.0           5861  436    6.924\n",
       "5.0           3453  212    5.784\n",
       "6.0           2227  109    4.666\n",
       "7.0           1584   65    3.942\n",
       "8.0           1102   52    4.506\n",
       "9.0            597   21    3.398\n",
       "10.0           231    7    2.941\n",
       "11.0            63    2    3.077\n",
       "12.0            11    0    0.000"
      ]
     },
     "execution_count": 96,
     "metadata": {},
     "output_type": "execute_result"
    }
   ],
   "source": [
    "catg_analysis('trades_6m')"
   ]
  },
  {
   "cell_type": "code",
   "execution_count": 97,
   "metadata": {
    "ExecuteTime": {
     "end_time": "2019-09-15T14:57:49.353312Z",
     "start_time": "2019-09-15T14:57:49.349323Z"
    }
   },
   "outputs": [
    {
     "data": {
      "text/plain": [
       "[0, 1, 2, 3, 4, 5, 6, 7, 8, 9, 10, 11, 12]"
      ]
     },
     "execution_count": 97,
     "metadata": {},
     "output_type": "execute_result"
    }
   ],
   "source": [
    "t6m_bins = list(range(0,13))\n",
    "t6m_bins"
   ]
  },
  {
   "cell_type": "code",
   "execution_count": 98,
   "metadata": {
    "ExecuteTime": {
     "end_time": "2019-09-15T14:57:49.959632Z",
     "start_time": "2019-09-15T14:57:49.956663Z"
    }
   },
   "outputs": [],
   "source": [
    "t6m_bins = [0, 1, 2, 3, 12]"
   ]
  },
  {
   "cell_type": "code",
   "execution_count": 99,
   "metadata": {
    "ExecuteTime": {
     "end_time": "2019-09-15T14:57:50.511749Z",
     "start_time": "2019-09-15T14:57:50.484821Z"
    }
   },
   "outputs": [
    {
     "name": "stdout",
     "output_type": "stream",
     "text": [
      "IV is 17.352\n"
     ]
    },
    {
     "data": {
      "text/html": [
       "<div>\n",
       "<style scoped>\n",
       "    .dataframe tbody tr th:only-of-type {\n",
       "        vertical-align: middle;\n",
       "    }\n",
       "\n",
       "    .dataframe tbody tr th {\n",
       "        vertical-align: top;\n",
       "    }\n",
       "\n",
       "    .dataframe thead th {\n",
       "        text-align: right;\n",
       "    }\n",
       "</style>\n",
       "<table border=\"1\" class=\"dataframe\">\n",
       "  <thead>\n",
       "    <tr style=\"text-align: right;\">\n",
       "      <th></th>\n",
       "      <th>trades_6m-bin</th>\n",
       "      <th>non_event</th>\n",
       "      <th>event</th>\n",
       "      <th>count</th>\n",
       "      <th>event %</th>\n",
       "      <th>non_event %</th>\n",
       "      <th>WOE</th>\n",
       "      <th>event%-non_event%</th>\n",
       "      <th>IV</th>\n",
       "    </tr>\n",
       "  </thead>\n",
       "  <tbody>\n",
       "    <tr>\n",
       "      <th>0</th>\n",
       "      <td>(-0.001, 1.0]</td>\n",
       "      <td>31510.0</td>\n",
       "      <td>806.0</td>\n",
       "      <td>32316.0</td>\n",
       "      <td>27.349847</td>\n",
       "      <td>47.086073</td>\n",
       "      <td>-0.543266</td>\n",
       "      <td>-19.736226</td>\n",
       "      <td>10.722027</td>\n",
       "    </tr>\n",
       "    <tr>\n",
       "      <th>1</th>\n",
       "      <td>(1.0, 2.0]</td>\n",
       "      <td>11478.0</td>\n",
       "      <td>638.0</td>\n",
       "      <td>12116.0</td>\n",
       "      <td>21.649135</td>\n",
       "      <td>17.151823</td>\n",
       "      <td>0.232861</td>\n",
       "      <td>4.497312</td>\n",
       "      <td>1.047249</td>\n",
       "    </tr>\n",
       "    <tr>\n",
       "      <th>2</th>\n",
       "      <td>(2.0, 3.0]</td>\n",
       "      <td>8803.0</td>\n",
       "      <td>599.0</td>\n",
       "      <td>9402.0</td>\n",
       "      <td>20.325755</td>\n",
       "      <td>13.154513</td>\n",
       "      <td>0.435124</td>\n",
       "      <td>7.171242</td>\n",
       "      <td>3.120379</td>\n",
       "    </tr>\n",
       "    <tr>\n",
       "      <th>3</th>\n",
       "      <td>(3.0, 12.0]</td>\n",
       "      <td>15129.0</td>\n",
       "      <td>904.0</td>\n",
       "      <td>16033.0</td>\n",
       "      <td>30.675263</td>\n",
       "      <td>22.607591</td>\n",
       "      <td>0.305171</td>\n",
       "      <td>8.067672</td>\n",
       "      <td>2.462018</td>\n",
       "    </tr>\n",
       "  </tbody>\n",
       "</table>\n",
       "</div>"
      ],
      "text/plain": [
       "   trades_6m-bin  non_event  event    count    event %  non_event %       WOE  \\\n",
       "0  (-0.001, 1.0]    31510.0  806.0  32316.0  27.349847    47.086073 -0.543266   \n",
       "1     (1.0, 2.0]    11478.0  638.0  12116.0  21.649135    17.151823  0.232861   \n",
       "2     (2.0, 3.0]     8803.0  599.0   9402.0  20.325755    13.154513  0.435124   \n",
       "3    (3.0, 12.0]    15129.0  904.0  16033.0  30.675263    22.607591  0.305171   \n",
       "\n",
       "   event%-non_event%         IV  \n",
       "0         -19.736226  10.722027  \n",
       "1           4.497312   1.047249  \n",
       "2           7.171242   3.120379  \n",
       "3           8.067672   2.462018  "
      ]
     },
     "execution_count": 99,
     "metadata": {},
     "output_type": "execute_result"
    }
   ],
   "source": [
    "woe_iv(col='trades_6m', target='performance', mybins=t6m_bins)"
   ]
  },
  {
   "cell_type": "markdown",
   "metadata": {},
   "source": [
    "Not suitable for WOE Values"
   ]
  },
  {
   "cell_type": "markdown",
   "metadata": {},
   "source": [
    "#### trades 12m"
   ]
  },
  {
   "cell_type": "code",
   "execution_count": 100,
   "metadata": {
    "ExecuteTime": {
     "end_time": "2019-09-15T14:57:52.441730Z",
     "start_time": "2019-09-15T14:57:52.436745Z"
    }
   },
   "outputs": [
    {
     "data": {
      "text/plain": [
       "0"
      ]
     },
     "execution_count": 100,
     "metadata": {},
     "output_type": "execute_result"
    }
   ],
   "source": [
    "df['trades_12m'].isna().sum()"
   ]
  },
  {
   "cell_type": "code",
   "execution_count": 101,
   "metadata": {
    "ExecuteTime": {
     "end_time": "2019-09-15T14:57:52.838685Z",
     "start_time": "2019-09-15T14:57:52.821729Z"
    },
    "scrolled": true
   },
   "outputs": [
    {
     "data": {
      "text/html": [
       "<div>\n",
       "<style scoped>\n",
       "    .dataframe tbody tr th:only-of-type {\n",
       "        vertical-align: middle;\n",
       "    }\n",
       "\n",
       "    .dataframe tbody tr th {\n",
       "        vertical-align: top;\n",
       "    }\n",
       "\n",
       "    .dataframe thead th {\n",
       "        text-align: right;\n",
       "    }\n",
       "</style>\n",
       "<table border=\"1\" class=\"dataframe\">\n",
       "  <thead>\n",
       "    <tr style=\"text-align: right;\">\n",
       "      <th>performance</th>\n",
       "      <th>0.0</th>\n",
       "      <th>1.0</th>\n",
       "      <th>delinq%</th>\n",
       "    </tr>\n",
       "    <tr>\n",
       "      <th>trades_12m</th>\n",
       "      <th></th>\n",
       "      <th></th>\n",
       "      <th></th>\n",
       "    </tr>\n",
       "  </thead>\n",
       "  <tbody>\n",
       "    <tr>\n",
       "      <th>0</th>\n",
       "      <td>4845</td>\n",
       "      <td>111</td>\n",
       "      <td>2.240</td>\n",
       "    </tr>\n",
       "    <tr>\n",
       "      <th>1</th>\n",
       "      <td>11199</td>\n",
       "      <td>178</td>\n",
       "      <td>1.565</td>\n",
       "    </tr>\n",
       "    <tr>\n",
       "      <th>2</th>\n",
       "      <td>9145</td>\n",
       "      <td>178</td>\n",
       "      <td>1.909</td>\n",
       "    </tr>\n",
       "    <tr>\n",
       "      <th>3</th>\n",
       "      <td>4480</td>\n",
       "      <td>198</td>\n",
       "      <td>4.233</td>\n",
       "    </tr>\n",
       "    <tr>\n",
       "      <th>4</th>\n",
       "      <td>4642</td>\n",
       "      <td>208</td>\n",
       "      <td>4.289</td>\n",
       "    </tr>\n",
       "    <tr>\n",
       "      <th>5</th>\n",
       "      <td>4315</td>\n",
       "      <td>232</td>\n",
       "      <td>5.102</td>\n",
       "    </tr>\n",
       "    <tr>\n",
       "      <th>6</th>\n",
       "      <td>3940</td>\n",
       "      <td>267</td>\n",
       "      <td>6.347</td>\n",
       "    </tr>\n",
       "    <tr>\n",
       "      <th>7</th>\n",
       "      <td>3822</td>\n",
       "      <td>268</td>\n",
       "      <td>6.553</td>\n",
       "    </tr>\n",
       "    <tr>\n",
       "      <th>8</th>\n",
       "      <td>3494</td>\n",
       "      <td>305</td>\n",
       "      <td>8.028</td>\n",
       "    </tr>\n",
       "    <tr>\n",
       "      <th>9</th>\n",
       "      <td>3162</td>\n",
       "      <td>214</td>\n",
       "      <td>6.339</td>\n",
       "    </tr>\n",
       "    <tr>\n",
       "      <th>10</th>\n",
       "      <td>2617</td>\n",
       "      <td>199</td>\n",
       "      <td>7.067</td>\n",
       "    </tr>\n",
       "    <tr>\n",
       "      <th>11</th>\n",
       "      <td>2043</td>\n",
       "      <td>136</td>\n",
       "      <td>6.241</td>\n",
       "    </tr>\n",
       "    <tr>\n",
       "      <th>12</th>\n",
       "      <td>1589</td>\n",
       "      <td>115</td>\n",
       "      <td>6.749</td>\n",
       "    </tr>\n",
       "    <tr>\n",
       "      <th>13</th>\n",
       "      <td>1298</td>\n",
       "      <td>74</td>\n",
       "      <td>5.394</td>\n",
       "    </tr>\n",
       "    <tr>\n",
       "      <th>14</th>\n",
       "      <td>1064</td>\n",
       "      <td>50</td>\n",
       "      <td>4.488</td>\n",
       "    </tr>\n",
       "    <tr>\n",
       "      <th>15</th>\n",
       "      <td>1028</td>\n",
       "      <td>40</td>\n",
       "      <td>3.745</td>\n",
       "    </tr>\n",
       "    <tr>\n",
       "      <th>16</th>\n",
       "      <td>946</td>\n",
       "      <td>46</td>\n",
       "      <td>4.637</td>\n",
       "    </tr>\n",
       "    <tr>\n",
       "      <th>17</th>\n",
       "      <td>832</td>\n",
       "      <td>28</td>\n",
       "      <td>3.256</td>\n",
       "    </tr>\n",
       "    <tr>\n",
       "      <th>18</th>\n",
       "      <td>710</td>\n",
       "      <td>26</td>\n",
       "      <td>3.533</td>\n",
       "    </tr>\n",
       "    <tr>\n",
       "      <th>19</th>\n",
       "      <td>586</td>\n",
       "      <td>26</td>\n",
       "      <td>4.248</td>\n",
       "    </tr>\n",
       "    <tr>\n",
       "      <th>20</th>\n",
       "      <td>415</td>\n",
       "      <td>19</td>\n",
       "      <td>4.378</td>\n",
       "    </tr>\n",
       "    <tr>\n",
       "      <th>21</th>\n",
       "      <td>293</td>\n",
       "      <td>15</td>\n",
       "      <td>4.870</td>\n",
       "    </tr>\n",
       "    <tr>\n",
       "      <th>22</th>\n",
       "      <td>215</td>\n",
       "      <td>3</td>\n",
       "      <td>1.376</td>\n",
       "    </tr>\n",
       "    <tr>\n",
       "      <th>23</th>\n",
       "      <td>116</td>\n",
       "      <td>5</td>\n",
       "      <td>4.132</td>\n",
       "    </tr>\n",
       "    <tr>\n",
       "      <th>24</th>\n",
       "      <td>68</td>\n",
       "      <td>5</td>\n",
       "      <td>6.849</td>\n",
       "    </tr>\n",
       "    <tr>\n",
       "      <th>25</th>\n",
       "      <td>33</td>\n",
       "      <td>1</td>\n",
       "      <td>2.941</td>\n",
       "    </tr>\n",
       "    <tr>\n",
       "      <th>26</th>\n",
       "      <td>11</td>\n",
       "      <td>0</td>\n",
       "      <td>0.000</td>\n",
       "    </tr>\n",
       "    <tr>\n",
       "      <th>27</th>\n",
       "      <td>9</td>\n",
       "      <td>0</td>\n",
       "      <td>0.000</td>\n",
       "    </tr>\n",
       "    <tr>\n",
       "      <th>28</th>\n",
       "      <td>3</td>\n",
       "      <td>0</td>\n",
       "      <td>0.000</td>\n",
       "    </tr>\n",
       "  </tbody>\n",
       "</table>\n",
       "</div>"
      ],
      "text/plain": [
       "performance    0.0  1.0  delinq%\n",
       "trades_12m                      \n",
       "0             4845  111    2.240\n",
       "1            11199  178    1.565\n",
       "2             9145  178    1.909\n",
       "3             4480  198    4.233\n",
       "4             4642  208    4.289\n",
       "5             4315  232    5.102\n",
       "6             3940  267    6.347\n",
       "7             3822  268    6.553\n",
       "8             3494  305    8.028\n",
       "9             3162  214    6.339\n",
       "10            2617  199    7.067\n",
       "11            2043  136    6.241\n",
       "12            1589  115    6.749\n",
       "13            1298   74    5.394\n",
       "14            1064   50    4.488\n",
       "15            1028   40    3.745\n",
       "16             946   46    4.637\n",
       "17             832   28    3.256\n",
       "18             710   26    3.533\n",
       "19             586   26    4.248\n",
       "20             415   19    4.378\n",
       "21             293   15    4.870\n",
       "22             215    3    1.376\n",
       "23             116    5    4.132\n",
       "24              68    5    6.849\n",
       "25              33    1    2.941\n",
       "26              11    0    0.000\n",
       "27               9    0    0.000\n",
       "28               3    0    0.000"
      ]
     },
     "execution_count": 101,
     "metadata": {},
     "output_type": "execute_result"
    }
   ],
   "source": [
    "catg_analysis('trades_12m')"
   ]
  },
  {
   "cell_type": "code",
   "execution_count": 102,
   "metadata": {
    "ExecuteTime": {
     "end_time": "2019-09-15T14:57:53.175822Z",
     "start_time": "2019-09-15T14:57:53.172857Z"
    }
   },
   "outputs": [],
   "source": [
    "t12m_bins = list(range(0,29))"
   ]
  },
  {
   "cell_type": "code",
   "execution_count": 103,
   "metadata": {
    "ExecuteTime": {
     "end_time": "2019-09-15T14:57:53.640131Z",
     "start_time": "2019-09-15T14:57:53.606223Z"
    },
    "scrolled": true
   },
   "outputs": [
    {
     "name": "stdout",
     "output_type": "stream",
     "text": [
      "IV is 30.293\n"
     ]
    },
    {
     "data": {
      "text/html": [
       "<div>\n",
       "<style scoped>\n",
       "    .dataframe tbody tr th:only-of-type {\n",
       "        vertical-align: middle;\n",
       "    }\n",
       "\n",
       "    .dataframe tbody tr th {\n",
       "        vertical-align: top;\n",
       "    }\n",
       "\n",
       "    .dataframe thead th {\n",
       "        text-align: right;\n",
       "    }\n",
       "</style>\n",
       "<table border=\"1\" class=\"dataframe\">\n",
       "  <thead>\n",
       "    <tr style=\"text-align: right;\">\n",
       "      <th></th>\n",
       "      <th>trades_12m-bin</th>\n",
       "      <th>non_event</th>\n",
       "      <th>event</th>\n",
       "      <th>count</th>\n",
       "      <th>event %</th>\n",
       "      <th>non_event %</th>\n",
       "      <th>WOE</th>\n",
       "      <th>event%-non_event%</th>\n",
       "      <th>IV</th>\n",
       "    </tr>\n",
       "  </thead>\n",
       "  <tbody>\n",
       "    <tr>\n",
       "      <th>0</th>\n",
       "      <td>(-0.001, 1.0]</td>\n",
       "      <td>16044.0</td>\n",
       "      <td>289.0</td>\n",
       "      <td>16333.0</td>\n",
       "      <td>9.801594</td>\n",
       "      <td>23.974895</td>\n",
       "      <td>-0.894462</td>\n",
       "      <td>-14.173301</td>\n",
       "      <td>12.677483</td>\n",
       "    </tr>\n",
       "    <tr>\n",
       "      <th>1</th>\n",
       "      <td>(1.0, 2.0]</td>\n",
       "      <td>9145.0</td>\n",
       "      <td>178.0</td>\n",
       "      <td>9323.0</td>\n",
       "      <td>6.036968</td>\n",
       "      <td>13.665571</td>\n",
       "      <td>-0.816978</td>\n",
       "      <td>-7.628603</td>\n",
       "      <td>6.232398</td>\n",
       "    </tr>\n",
       "    <tr>\n",
       "      <th>2</th>\n",
       "      <td>(2.0, 3.0]</td>\n",
       "      <td>4480.0</td>\n",
       "      <td>198.0</td>\n",
       "      <td>4678.0</td>\n",
       "      <td>6.715279</td>\n",
       "      <td>6.694561</td>\n",
       "      <td>0.003090</td>\n",
       "      <td>0.020718</td>\n",
       "      <td>0.000064</td>\n",
       "    </tr>\n",
       "    <tr>\n",
       "      <th>3</th>\n",
       "      <td>(3.0, 4.0]</td>\n",
       "      <td>4642.0</td>\n",
       "      <td>208.0</td>\n",
       "      <td>4850.0</td>\n",
       "      <td>7.054434</td>\n",
       "      <td>6.936641</td>\n",
       "      <td>0.016839</td>\n",
       "      <td>0.117794</td>\n",
       "      <td>0.001984</td>\n",
       "    </tr>\n",
       "    <tr>\n",
       "      <th>4</th>\n",
       "      <td>(4.0, 5.0]</td>\n",
       "      <td>4315.0</td>\n",
       "      <td>232.0</td>\n",
       "      <td>4547.0</td>\n",
       "      <td>7.868408</td>\n",
       "      <td>6.447998</td>\n",
       "      <td>0.199086</td>\n",
       "      <td>1.420410</td>\n",
       "      <td>0.282784</td>\n",
       "    </tr>\n",
       "    <tr>\n",
       "      <th>5</th>\n",
       "      <td>(5.0, 6.0]</td>\n",
       "      <td>3940.0</td>\n",
       "      <td>267.0</td>\n",
       "      <td>4207.0</td>\n",
       "      <td>9.055452</td>\n",
       "      <td>5.887627</td>\n",
       "      <td>0.430514</td>\n",
       "      <td>3.167825</td>\n",
       "      <td>1.363793</td>\n",
       "    </tr>\n",
       "    <tr>\n",
       "      <th>6</th>\n",
       "      <td>(6.0, 7.0]</td>\n",
       "      <td>3822.0</td>\n",
       "      <td>268.0</td>\n",
       "      <td>4090.0</td>\n",
       "      <td>9.089367</td>\n",
       "      <td>5.711297</td>\n",
       "      <td>0.464659</td>\n",
       "      <td>3.378070</td>\n",
       "      <td>1.569651</td>\n",
       "    </tr>\n",
       "    <tr>\n",
       "      <th>7</th>\n",
       "      <td>(7.0, 8.0]</td>\n",
       "      <td>3494.0</td>\n",
       "      <td>305.0</td>\n",
       "      <td>3799.0</td>\n",
       "      <td>10.344243</td>\n",
       "      <td>5.221160</td>\n",
       "      <td>0.683711</td>\n",
       "      <td>5.123083</td>\n",
       "      <td>3.502706</td>\n",
       "    </tr>\n",
       "    <tr>\n",
       "      <th>8</th>\n",
       "      <td>(8.0, 9.0]</td>\n",
       "      <td>3162.0</td>\n",
       "      <td>214.0</td>\n",
       "      <td>3376.0</td>\n",
       "      <td>7.257928</td>\n",
       "      <td>4.725045</td>\n",
       "      <td>0.429217</td>\n",
       "      <td>2.532883</td>\n",
       "      <td>1.087157</td>\n",
       "    </tr>\n",
       "    <tr>\n",
       "      <th>9</th>\n",
       "      <td>(9.0, 10.0]</td>\n",
       "      <td>2617.0</td>\n",
       "      <td>199.0</td>\n",
       "      <td>2816.0</td>\n",
       "      <td>6.749195</td>\n",
       "      <td>3.910640</td>\n",
       "      <td>0.545722</td>\n",
       "      <td>2.838555</td>\n",
       "      <td>1.549063</td>\n",
       "    </tr>\n",
       "    <tr>\n",
       "      <th>10</th>\n",
       "      <td>(10.0, 11.0]</td>\n",
       "      <td>2043.0</td>\n",
       "      <td>136.0</td>\n",
       "      <td>2179.0</td>\n",
       "      <td>4.612515</td>\n",
       "      <td>3.052899</td>\n",
       "      <td>0.412682</td>\n",
       "      <td>1.559616</td>\n",
       "      <td>0.643625</td>\n",
       "    </tr>\n",
       "    <tr>\n",
       "      <th>11</th>\n",
       "      <td>(11.0, 12.0]</td>\n",
       "      <td>1589.0</td>\n",
       "      <td>115.0</td>\n",
       "      <td>1704.0</td>\n",
       "      <td>3.900288</td>\n",
       "      <td>2.374477</td>\n",
       "      <td>0.496273</td>\n",
       "      <td>1.525811</td>\n",
       "      <td>0.757219</td>\n",
       "    </tr>\n",
       "    <tr>\n",
       "      <th>12</th>\n",
       "      <td>(12.0, 13.0]</td>\n",
       "      <td>1298.0</td>\n",
       "      <td>74.0</td>\n",
       "      <td>1372.0</td>\n",
       "      <td>2.509751</td>\n",
       "      <td>1.939629</td>\n",
       "      <td>0.257687</td>\n",
       "      <td>0.570121</td>\n",
       "      <td>0.146913</td>\n",
       "    </tr>\n",
       "    <tr>\n",
       "      <th>13</th>\n",
       "      <td>(13.0, 14.0]</td>\n",
       "      <td>1064.0</td>\n",
       "      <td>50.0</td>\n",
       "      <td>1114.0</td>\n",
       "      <td>1.695778</td>\n",
       "      <td>1.589958</td>\n",
       "      <td>0.064434</td>\n",
       "      <td>0.105819</td>\n",
       "      <td>0.006818</td>\n",
       "    </tr>\n",
       "    <tr>\n",
       "      <th>14</th>\n",
       "      <td>(14.0, 15.0]</td>\n",
       "      <td>1028.0</td>\n",
       "      <td>40.0</td>\n",
       "      <td>1068.0</td>\n",
       "      <td>1.356622</td>\n",
       "      <td>1.536163</td>\n",
       "      <td>-0.124290</td>\n",
       "      <td>-0.179541</td>\n",
       "      <td>0.022315</td>\n",
       "    </tr>\n",
       "    <tr>\n",
       "      <th>15</th>\n",
       "      <td>(15.0, 16.0]</td>\n",
       "      <td>946.0</td>\n",
       "      <td>46.0</td>\n",
       "      <td>992.0</td>\n",
       "      <td>1.560115</td>\n",
       "      <td>1.413628</td>\n",
       "      <td>0.098600</td>\n",
       "      <td>0.146487</td>\n",
       "      <td>0.014444</td>\n",
       "    </tr>\n",
       "    <tr>\n",
       "      <th>16</th>\n",
       "      <td>(16.0, 17.0]</td>\n",
       "      <td>832.0</td>\n",
       "      <td>28.0</td>\n",
       "      <td>860.0</td>\n",
       "      <td>0.949635</td>\n",
       "      <td>1.243276</td>\n",
       "      <td>-0.269427</td>\n",
       "      <td>-0.293640</td>\n",
       "      <td>0.079114</td>\n",
       "    </tr>\n",
       "    <tr>\n",
       "      <th>17</th>\n",
       "      <td>(17.0, 18.0]</td>\n",
       "      <td>710.0</td>\n",
       "      <td>26.0</td>\n",
       "      <td>736.0</td>\n",
       "      <td>0.881804</td>\n",
       "      <td>1.060968</td>\n",
       "      <td>-0.184967</td>\n",
       "      <td>-0.179164</td>\n",
       "      <td>0.033139</td>\n",
       "    </tr>\n",
       "    <tr>\n",
       "      <th>18</th>\n",
       "      <td>(18.0, 19.0]</td>\n",
       "      <td>586.0</td>\n",
       "      <td>26.0</td>\n",
       "      <td>612.0</td>\n",
       "      <td>0.881804</td>\n",
       "      <td>0.875672</td>\n",
       "      <td>0.006978</td>\n",
       "      <td>0.006132</td>\n",
       "      <td>0.000043</td>\n",
       "    </tr>\n",
       "    <tr>\n",
       "      <th>19</th>\n",
       "      <td>(19.0, 20.0]</td>\n",
       "      <td>415.0</td>\n",
       "      <td>19.0</td>\n",
       "      <td>434.0</td>\n",
       "      <td>0.644395</td>\n",
       "      <td>0.620143</td>\n",
       "      <td>0.038362</td>\n",
       "      <td>0.024252</td>\n",
       "      <td>0.000930</td>\n",
       "    </tr>\n",
       "    <tr>\n",
       "      <th>20</th>\n",
       "      <td>(20.0, 21.0]</td>\n",
       "      <td>293.0</td>\n",
       "      <td>15.0</td>\n",
       "      <td>308.0</td>\n",
       "      <td>0.508733</td>\n",
       "      <td>0.437836</td>\n",
       "      <td>0.150079</td>\n",
       "      <td>0.070897</td>\n",
       "      <td>0.010640</td>\n",
       "    </tr>\n",
       "    <tr>\n",
       "      <th>21</th>\n",
       "      <td>(21.0, 22.0]</td>\n",
       "      <td>215.0</td>\n",
       "      <td>3.0</td>\n",
       "      <td>218.0</td>\n",
       "      <td>0.101747</td>\n",
       "      <td>0.321279</td>\n",
       "      <td>-1.149824</td>\n",
       "      <td>-0.219532</td>\n",
       "      <td>0.252424</td>\n",
       "    </tr>\n",
       "    <tr>\n",
       "      <th>22</th>\n",
       "      <td>(22.0, 23.0]</td>\n",
       "      <td>116.0</td>\n",
       "      <td>5.0</td>\n",
       "      <td>121.0</td>\n",
       "      <td>0.169578</td>\n",
       "      <td>0.173341</td>\n",
       "      <td>-0.021951</td>\n",
       "      <td>-0.003764</td>\n",
       "      <td>0.000083</td>\n",
       "    </tr>\n",
       "    <tr>\n",
       "      <th>23</th>\n",
       "      <td>(23.0, 24.0]</td>\n",
       "      <td>68.0</td>\n",
       "      <td>5.0</td>\n",
       "      <td>73.0</td>\n",
       "      <td>0.169578</td>\n",
       "      <td>0.101614</td>\n",
       "      <td>0.512132</td>\n",
       "      <td>0.067964</td>\n",
       "      <td>0.034806</td>\n",
       "    </tr>\n",
       "    <tr>\n",
       "      <th>24</th>\n",
       "      <td>(24.0, 25.0]</td>\n",
       "      <td>33.0</td>\n",
       "      <td>1.0</td>\n",
       "      <td>34.0</td>\n",
       "      <td>0.033916</td>\n",
       "      <td>0.049313</td>\n",
       "      <td>-0.374306</td>\n",
       "      <td>-0.015397</td>\n",
       "      <td>0.005763</td>\n",
       "    </tr>\n",
       "    <tr>\n",
       "      <th>25</th>\n",
       "      <td>(25.0, 26.0]</td>\n",
       "      <td>11.0</td>\n",
       "      <td>0.5</td>\n",
       "      <td>11.5</td>\n",
       "      <td>0.016958</td>\n",
       "      <td>0.016438</td>\n",
       "      <td>0.031159</td>\n",
       "      <td>0.000520</td>\n",
       "      <td>0.000016</td>\n",
       "    </tr>\n",
       "    <tr>\n",
       "      <th>26</th>\n",
       "      <td>(26.0, 27.0]</td>\n",
       "      <td>9.0</td>\n",
       "      <td>0.5</td>\n",
       "      <td>9.5</td>\n",
       "      <td>0.016958</td>\n",
       "      <td>0.013449</td>\n",
       "      <td>0.231830</td>\n",
       "      <td>0.003509</td>\n",
       "      <td>0.000813</td>\n",
       "    </tr>\n",
       "    <tr>\n",
       "      <th>27</th>\n",
       "      <td>(27.0, 28.0]</td>\n",
       "      <td>3.0</td>\n",
       "      <td>0.5</td>\n",
       "      <td>3.5</td>\n",
       "      <td>0.016958</td>\n",
       "      <td>0.004483</td>\n",
       "      <td>1.330442</td>\n",
       "      <td>0.012475</td>\n",
       "      <td>0.016597</td>\n",
       "    </tr>\n",
       "  </tbody>\n",
       "</table>\n",
       "</div>"
      ],
      "text/plain": [
       "   trades_12m-bin  non_event  event    count    event %  non_event %  \\\n",
       "0   (-0.001, 1.0]    16044.0  289.0  16333.0   9.801594    23.974895   \n",
       "1      (1.0, 2.0]     9145.0  178.0   9323.0   6.036968    13.665571   \n",
       "2      (2.0, 3.0]     4480.0  198.0   4678.0   6.715279     6.694561   \n",
       "3      (3.0, 4.0]     4642.0  208.0   4850.0   7.054434     6.936641   \n",
       "4      (4.0, 5.0]     4315.0  232.0   4547.0   7.868408     6.447998   \n",
       "5      (5.0, 6.0]     3940.0  267.0   4207.0   9.055452     5.887627   \n",
       "6      (6.0, 7.0]     3822.0  268.0   4090.0   9.089367     5.711297   \n",
       "7      (7.0, 8.0]     3494.0  305.0   3799.0  10.344243     5.221160   \n",
       "8      (8.0, 9.0]     3162.0  214.0   3376.0   7.257928     4.725045   \n",
       "9     (9.0, 10.0]     2617.0  199.0   2816.0   6.749195     3.910640   \n",
       "10   (10.0, 11.0]     2043.0  136.0   2179.0   4.612515     3.052899   \n",
       "11   (11.0, 12.0]     1589.0  115.0   1704.0   3.900288     2.374477   \n",
       "12   (12.0, 13.0]     1298.0   74.0   1372.0   2.509751     1.939629   \n",
       "13   (13.0, 14.0]     1064.0   50.0   1114.0   1.695778     1.589958   \n",
       "14   (14.0, 15.0]     1028.0   40.0   1068.0   1.356622     1.536163   \n",
       "15   (15.0, 16.0]      946.0   46.0    992.0   1.560115     1.413628   \n",
       "16   (16.0, 17.0]      832.0   28.0    860.0   0.949635     1.243276   \n",
       "17   (17.0, 18.0]      710.0   26.0    736.0   0.881804     1.060968   \n",
       "18   (18.0, 19.0]      586.0   26.0    612.0   0.881804     0.875672   \n",
       "19   (19.0, 20.0]      415.0   19.0    434.0   0.644395     0.620143   \n",
       "20   (20.0, 21.0]      293.0   15.0    308.0   0.508733     0.437836   \n",
       "21   (21.0, 22.0]      215.0    3.0    218.0   0.101747     0.321279   \n",
       "22   (22.0, 23.0]      116.0    5.0    121.0   0.169578     0.173341   \n",
       "23   (23.0, 24.0]       68.0    5.0     73.0   0.169578     0.101614   \n",
       "24   (24.0, 25.0]       33.0    1.0     34.0   0.033916     0.049313   \n",
       "25   (25.0, 26.0]       11.0    0.5     11.5   0.016958     0.016438   \n",
       "26   (26.0, 27.0]        9.0    0.5      9.5   0.016958     0.013449   \n",
       "27   (27.0, 28.0]        3.0    0.5      3.5   0.016958     0.004483   \n",
       "\n",
       "         WOE  event%-non_event%         IV  \n",
       "0  -0.894462         -14.173301  12.677483  \n",
       "1  -0.816978          -7.628603   6.232398  \n",
       "2   0.003090           0.020718   0.000064  \n",
       "3   0.016839           0.117794   0.001984  \n",
       "4   0.199086           1.420410   0.282784  \n",
       "5   0.430514           3.167825   1.363793  \n",
       "6   0.464659           3.378070   1.569651  \n",
       "7   0.683711           5.123083   3.502706  \n",
       "8   0.429217           2.532883   1.087157  \n",
       "9   0.545722           2.838555   1.549063  \n",
       "10  0.412682           1.559616   0.643625  \n",
       "11  0.496273           1.525811   0.757219  \n",
       "12  0.257687           0.570121   0.146913  \n",
       "13  0.064434           0.105819   0.006818  \n",
       "14 -0.124290          -0.179541   0.022315  \n",
       "15  0.098600           0.146487   0.014444  \n",
       "16 -0.269427          -0.293640   0.079114  \n",
       "17 -0.184967          -0.179164   0.033139  \n",
       "18  0.006978           0.006132   0.000043  \n",
       "19  0.038362           0.024252   0.000930  \n",
       "20  0.150079           0.070897   0.010640  \n",
       "21 -1.149824          -0.219532   0.252424  \n",
       "22 -0.021951          -0.003764   0.000083  \n",
       "23  0.512132           0.067964   0.034806  \n",
       "24 -0.374306          -0.015397   0.005763  \n",
       "25  0.031159           0.000520   0.000016  \n",
       "26  0.231830           0.003509   0.000813  \n",
       "27  1.330442           0.012475   0.016597  "
      ]
     },
     "execution_count": 103,
     "metadata": {},
     "output_type": "execute_result"
    }
   ],
   "source": [
    "woe_iv(col='trades_12m', target='performance', mybins=t12m_bins)"
   ]
  },
  {
   "cell_type": "markdown",
   "metadata": {},
   "source": [
    "#### pl_trades 6m & 12m"
   ]
  },
  {
   "cell_type": "code",
   "execution_count": 104,
   "metadata": {
    "ExecuteTime": {
     "end_time": "2019-09-15T14:57:54.481919Z",
     "start_time": "2019-09-15T14:57:54.476929Z"
    }
   },
   "outputs": [
    {
     "data": {
      "text/plain": [
       "(0, 0)"
      ]
     },
     "execution_count": 104,
     "metadata": {},
     "output_type": "execute_result"
    }
   ],
   "source": [
    "df['pl_trades_6m'].isna().sum(), df['pl_trades_12m'].isna().sum()"
   ]
  },
  {
   "cell_type": "code",
   "execution_count": 105,
   "metadata": {
    "ExecuteTime": {
     "end_time": "2019-09-15T14:57:54.965194Z",
     "start_time": "2019-09-15T14:57:54.949209Z"
    }
   },
   "outputs": [
    {
     "data": {
      "text/html": [
       "<div>\n",
       "<style scoped>\n",
       "    .dataframe tbody tr th:only-of-type {\n",
       "        vertical-align: middle;\n",
       "    }\n",
       "\n",
       "    .dataframe tbody tr th {\n",
       "        vertical-align: top;\n",
       "    }\n",
       "\n",
       "    .dataframe thead th {\n",
       "        text-align: right;\n",
       "    }\n",
       "</style>\n",
       "<table border=\"1\" class=\"dataframe\">\n",
       "  <thead>\n",
       "    <tr style=\"text-align: right;\">\n",
       "      <th>pl_trades_6m</th>\n",
       "      <th>0</th>\n",
       "      <th>1</th>\n",
       "      <th>2</th>\n",
       "      <th>3</th>\n",
       "      <th>4</th>\n",
       "      <th>5</th>\n",
       "      <th>6</th>\n",
       "    </tr>\n",
       "    <tr>\n",
       "      <th>performance</th>\n",
       "      <th></th>\n",
       "      <th></th>\n",
       "      <th></th>\n",
       "      <th></th>\n",
       "      <th></th>\n",
       "      <th></th>\n",
       "      <th></th>\n",
       "    </tr>\n",
       "  </thead>\n",
       "  <tbody>\n",
       "    <tr>\n",
       "      <th>0.0</th>\n",
       "      <td>30381.000</td>\n",
       "      <td>12855.000</td>\n",
       "      <td>11762.000</td>\n",
       "      <td>7448.000</td>\n",
       "      <td>3144.000</td>\n",
       "      <td>1042.000</td>\n",
       "      <td>288.000</td>\n",
       "    </tr>\n",
       "    <tr>\n",
       "      <th>1.0</th>\n",
       "      <td>699.000</td>\n",
       "      <td>691.000</td>\n",
       "      <td>803.000</td>\n",
       "      <td>501.000</td>\n",
       "      <td>197.000</td>\n",
       "      <td>48.000</td>\n",
       "      <td>8.000</td>\n",
       "    </tr>\n",
       "    <tr>\n",
       "      <th>delinq%</th>\n",
       "      <td>2.249</td>\n",
       "      <td>5.101</td>\n",
       "      <td>6.391</td>\n",
       "      <td>6.303</td>\n",
       "      <td>5.896</td>\n",
       "      <td>4.404</td>\n",
       "      <td>2.703</td>\n",
       "    </tr>\n",
       "  </tbody>\n",
       "</table>\n",
       "</div>"
      ],
      "text/plain": [
       "pl_trades_6m          0          1          2         3         4         5  \\\n",
       "performance                                                                   \n",
       "0.0           30381.000  12855.000  11762.000  7448.000  3144.000  1042.000   \n",
       "1.0             699.000    691.000    803.000   501.000   197.000    48.000   \n",
       "delinq%           2.249      5.101      6.391     6.303     5.896     4.404   \n",
       "\n",
       "pl_trades_6m        6  \n",
       "performance            \n",
       "0.0           288.000  \n",
       "1.0             8.000  \n",
       "delinq%         2.703  "
      ]
     },
     "execution_count": 105,
     "metadata": {},
     "output_type": "execute_result"
    }
   ],
   "source": [
    "catg_analysis('pl_trades_6m').T"
   ]
  },
  {
   "cell_type": "code",
   "execution_count": 106,
   "metadata": {
    "ExecuteTime": {
     "end_time": "2019-09-15T14:57:55.408853Z",
     "start_time": "2019-09-15T14:57:55.388910Z"
    }
   },
   "outputs": [
    {
     "data": {
      "text/html": [
       "<div>\n",
       "<style scoped>\n",
       "    .dataframe tbody tr th:only-of-type {\n",
       "        vertical-align: middle;\n",
       "    }\n",
       "\n",
       "    .dataframe tbody tr th {\n",
       "        vertical-align: top;\n",
       "    }\n",
       "\n",
       "    .dataframe thead th {\n",
       "        text-align: right;\n",
       "    }\n",
       "</style>\n",
       "<table border=\"1\" class=\"dataframe\">\n",
       "  <thead>\n",
       "    <tr style=\"text-align: right;\">\n",
       "      <th>pl_trades_12m</th>\n",
       "      <th>0</th>\n",
       "      <th>1</th>\n",
       "      <th>2</th>\n",
       "      <th>3</th>\n",
       "      <th>4</th>\n",
       "      <th>5</th>\n",
       "      <th>6</th>\n",
       "      <th>7</th>\n",
       "      <th>8</th>\n",
       "      <th>9</th>\n",
       "      <th>10</th>\n",
       "      <th>11</th>\n",
       "      <th>12</th>\n",
       "    </tr>\n",
       "    <tr>\n",
       "      <th>performance</th>\n",
       "      <th></th>\n",
       "      <th></th>\n",
       "      <th></th>\n",
       "      <th></th>\n",
       "      <th></th>\n",
       "      <th></th>\n",
       "      <th></th>\n",
       "      <th></th>\n",
       "      <th></th>\n",
       "      <th></th>\n",
       "      <th></th>\n",
       "      <th></th>\n",
       "      <th></th>\n",
       "    </tr>\n",
       "  </thead>\n",
       "  <tbody>\n",
       "    <tr>\n",
       "      <th>0.0</th>\n",
       "      <td>25367.00</td>\n",
       "      <td>6394.000</td>\n",
       "      <td>6464.000</td>\n",
       "      <td>7623.000</td>\n",
       "      <td>7368.00</td>\n",
       "      <td>5798.000</td>\n",
       "      <td>3780.00</td>\n",
       "      <td>2114.000</td>\n",
       "      <td>1122.000</td>\n",
       "      <td>573.000</td>\n",
       "      <td>245.000</td>\n",
       "      <td>63.000</td>\n",
       "      <td>9.0</td>\n",
       "    </tr>\n",
       "    <tr>\n",
       "      <th>1.0</th>\n",
       "      <td>457.00</td>\n",
       "      <td>247.000</td>\n",
       "      <td>366.000</td>\n",
       "      <td>507.000</td>\n",
       "      <td>535.00</td>\n",
       "      <td>391.000</td>\n",
       "      <td>243.00</td>\n",
       "      <td>109.000</td>\n",
       "      <td>50.000</td>\n",
       "      <td>28.000</td>\n",
       "      <td>10.000</td>\n",
       "      <td>3.000</td>\n",
       "      <td>1.0</td>\n",
       "    </tr>\n",
       "    <tr>\n",
       "      <th>delinq%</th>\n",
       "      <td>1.77</td>\n",
       "      <td>3.719</td>\n",
       "      <td>5.359</td>\n",
       "      <td>6.236</td>\n",
       "      <td>6.77</td>\n",
       "      <td>6.318</td>\n",
       "      <td>6.04</td>\n",
       "      <td>4.903</td>\n",
       "      <td>4.266</td>\n",
       "      <td>4.659</td>\n",
       "      <td>3.922</td>\n",
       "      <td>4.545</td>\n",
       "      <td>10.0</td>\n",
       "    </tr>\n",
       "  </tbody>\n",
       "</table>\n",
       "</div>"
      ],
      "text/plain": [
       "pl_trades_12m        0         1         2         3        4         5   \\\n",
       "performance                                                                \n",
       "0.0            25367.00  6394.000  6464.000  7623.000  7368.00  5798.000   \n",
       "1.0              457.00   247.000   366.000   507.000   535.00   391.000   \n",
       "delinq%            1.77     3.719     5.359     6.236     6.77     6.318   \n",
       "\n",
       "pl_trades_12m       6         7         8        9        10      11    12  \n",
       "performance                                                                 \n",
       "0.0            3780.00  2114.000  1122.000  573.000  245.000  63.000   9.0  \n",
       "1.0             243.00   109.000    50.000   28.000   10.000   3.000   1.0  \n",
       "delinq%           6.04     4.903     4.266    4.659    3.922   4.545  10.0  "
      ]
     },
     "execution_count": 106,
     "metadata": {},
     "output_type": "execute_result"
    }
   ],
   "source": [
    "catg_analysis('pl_trades_12m').T"
   ]
  },
  {
   "cell_type": "code",
   "execution_count": 107,
   "metadata": {
    "ExecuteTime": {
     "end_time": "2019-09-15T14:57:56.023838Z",
     "start_time": "2019-09-15T14:57:56.019848Z"
    }
   },
   "outputs": [],
   "source": [
    "pl6m_bins = list(range(7))"
   ]
  },
  {
   "cell_type": "code",
   "execution_count": 108,
   "metadata": {
    "ExecuteTime": {
     "end_time": "2019-09-15T14:57:56.760813Z",
     "start_time": "2019-09-15T14:57:56.732868Z"
    }
   },
   "outputs": [
    {
     "name": "stdout",
     "output_type": "stream",
     "text": [
      "IV is 12.993\n"
     ]
    },
    {
     "data": {
      "text/html": [
       "<div>\n",
       "<style scoped>\n",
       "    .dataframe tbody tr th:only-of-type {\n",
       "        vertical-align: middle;\n",
       "    }\n",
       "\n",
       "    .dataframe tbody tr th {\n",
       "        vertical-align: top;\n",
       "    }\n",
       "\n",
       "    .dataframe thead th {\n",
       "        text-align: right;\n",
       "    }\n",
       "</style>\n",
       "<table border=\"1\" class=\"dataframe\">\n",
       "  <thead>\n",
       "    <tr style=\"text-align: right;\">\n",
       "      <th></th>\n",
       "      <th>pl_trades_6m-bin</th>\n",
       "      <th>non_event</th>\n",
       "      <th>event</th>\n",
       "      <th>count</th>\n",
       "      <th>event %</th>\n",
       "      <th>non_event %</th>\n",
       "      <th>WOE</th>\n",
       "      <th>event%-non_event%</th>\n",
       "      <th>IV</th>\n",
       "    </tr>\n",
       "  </thead>\n",
       "  <tbody>\n",
       "    <tr>\n",
       "      <th>0</th>\n",
       "      <td>(-0.001, 1.0]</td>\n",
       "      <td>43236.0</td>\n",
       "      <td>1390.0</td>\n",
       "      <td>44626.0</td>\n",
       "      <td>47.166610</td>\n",
       "      <td>64.608488</td>\n",
       "      <td>-0.314660</td>\n",
       "      <td>-17.441878</td>\n",
       "      <td>5.488254</td>\n",
       "    </tr>\n",
       "    <tr>\n",
       "      <th>1</th>\n",
       "      <td>(1.0, 2.0]</td>\n",
       "      <td>11762.0</td>\n",
       "      <td>803.0</td>\n",
       "      <td>12565.0</td>\n",
       "      <td>27.248049</td>\n",
       "      <td>17.576210</td>\n",
       "      <td>0.438436</td>\n",
       "      <td>9.671838</td>\n",
       "      <td>4.240478</td>\n",
       "    </tr>\n",
       "    <tr>\n",
       "      <th>2</th>\n",
       "      <td>(2.0, 3.0]</td>\n",
       "      <td>7448.0</td>\n",
       "      <td>501.0</td>\n",
       "      <td>7949.0</td>\n",
       "      <td>17.000339</td>\n",
       "      <td>11.129707</td>\n",
       "      <td>0.423615</td>\n",
       "      <td>5.870632</td>\n",
       "      <td>2.486891</td>\n",
       "    </tr>\n",
       "    <tr>\n",
       "      <th>3</th>\n",
       "      <td>(3.0, 4.0]</td>\n",
       "      <td>3144.0</td>\n",
       "      <td>197.0</td>\n",
       "      <td>3341.0</td>\n",
       "      <td>6.684764</td>\n",
       "      <td>4.698147</td>\n",
       "      <td>0.352663</td>\n",
       "      <td>1.986617</td>\n",
       "      <td>0.700606</td>\n",
       "    </tr>\n",
       "    <tr>\n",
       "      <th>4</th>\n",
       "      <td>(4.0, 5.0]</td>\n",
       "      <td>1042.0</td>\n",
       "      <td>48.0</td>\n",
       "      <td>1090.0</td>\n",
       "      <td>1.628775</td>\n",
       "      <td>1.557083</td>\n",
       "      <td>0.045014</td>\n",
       "      <td>0.071692</td>\n",
       "      <td>0.003227</td>\n",
       "    </tr>\n",
       "    <tr>\n",
       "      <th>5</th>\n",
       "      <td>(5.0, 6.0]</td>\n",
       "      <td>288.0</td>\n",
       "      <td>8.0</td>\n",
       "      <td>296.0</td>\n",
       "      <td>0.271463</td>\n",
       "      <td>0.430365</td>\n",
       "      <td>-0.460809</td>\n",
       "      <td>-0.158902</td>\n",
       "      <td>0.073223</td>\n",
       "    </tr>\n",
       "  </tbody>\n",
       "</table>\n",
       "</div>"
      ],
      "text/plain": [
       "  pl_trades_6m-bin  non_event   event    count    event %  non_event %  \\\n",
       "0    (-0.001, 1.0]    43236.0  1390.0  44626.0  47.166610    64.608488   \n",
       "1       (1.0, 2.0]    11762.0   803.0  12565.0  27.248049    17.576210   \n",
       "2       (2.0, 3.0]     7448.0   501.0   7949.0  17.000339    11.129707   \n",
       "3       (3.0, 4.0]     3144.0   197.0   3341.0   6.684764     4.698147   \n",
       "4       (4.0, 5.0]     1042.0    48.0   1090.0   1.628775     1.557083   \n",
       "5       (5.0, 6.0]      288.0     8.0    296.0   0.271463     0.430365   \n",
       "\n",
       "        WOE  event%-non_event%        IV  \n",
       "0 -0.314660         -17.441878  5.488254  \n",
       "1  0.438436           9.671838  4.240478  \n",
       "2  0.423615           5.870632  2.486891  \n",
       "3  0.352663           1.986617  0.700606  \n",
       "4  0.045014           0.071692  0.003227  \n",
       "5 -0.460809          -0.158902  0.073223  "
      ]
     },
     "execution_count": 108,
     "metadata": {},
     "output_type": "execute_result"
    }
   ],
   "source": [
    "woe_iv(col='pl_trades_6m', target='performance', mybins=pl6m_bins)"
   ]
  },
  {
   "cell_type": "markdown",
   "metadata": {},
   "source": [
    "#### inquiries_6m & 12m"
   ]
  },
  {
   "cell_type": "code",
   "execution_count": 109,
   "metadata": {
    "ExecuteTime": {
     "end_time": "2019-09-15T14:57:57.657882Z",
     "start_time": "2019-09-15T14:57:57.653863Z"
    }
   },
   "outputs": [
    {
     "data": {
      "text/plain": [
       "0"
      ]
     },
     "execution_count": 109,
     "metadata": {},
     "output_type": "execute_result"
    }
   ],
   "source": [
    "df['inquiries_6m'].isna().sum()"
   ]
  },
  {
   "cell_type": "code",
   "execution_count": 110,
   "metadata": {
    "ExecuteTime": {
     "end_time": "2019-09-15T14:57:58.081311Z",
     "start_time": "2019-09-15T14:57:58.076297Z"
    }
   },
   "outputs": [
    {
     "data": {
      "text/plain": [
       "0"
      ]
     },
     "execution_count": 110,
     "metadata": {},
     "output_type": "execute_result"
    }
   ],
   "source": [
    "df['inquiries_12m'].isna().sum()"
   ]
  },
  {
   "cell_type": "code",
   "execution_count": 111,
   "metadata": {
    "ExecuteTime": {
     "end_time": "2019-09-15T14:57:58.520619Z",
     "start_time": "2019-09-15T14:57:58.515629Z"
    }
   },
   "outputs": [
    {
     "data": {
      "text/plain": [
       "71287    4\n",
       "71288    2\n",
       "71289    2\n",
       "71290    4\n",
       "71291    3\n",
       "Name: inquiries_6m, dtype: int64"
      ]
     },
     "execution_count": 111,
     "metadata": {},
     "output_type": "execute_result"
    }
   ],
   "source": [
    "df['inquiries_6m'].tail()"
   ]
  },
  {
   "cell_type": "code",
   "execution_count": 112,
   "metadata": {
    "ExecuteTime": {
     "end_time": "2019-09-15T14:57:58.977098Z",
     "start_time": "2019-09-15T14:57:58.972111Z"
    }
   },
   "outputs": [
    {
     "data": {
      "text/plain": [
       "0    0\n",
       "1    0\n",
       "2    0\n",
       "3    0\n",
       "4    0\n",
       "Name: inquiries_12m, dtype: int64"
      ]
     },
     "execution_count": 112,
     "metadata": {},
     "output_type": "execute_result"
    }
   ],
   "source": [
    "df['inquiries_12m'].head()"
   ]
  },
  {
   "cell_type": "markdown",
   "metadata": {},
   "source": [
    "#### open_home_loan"
   ]
  },
  {
   "cell_type": "code",
   "execution_count": 113,
   "metadata": {
    "ExecuteTime": {
     "end_time": "2019-09-15T14:58:00.049061Z",
     "start_time": "2019-09-15T14:58:00.044078Z"
    }
   },
   "outputs": [
    {
     "data": {
      "text/plain": [
       "272"
      ]
     },
     "execution_count": 113,
     "metadata": {},
     "output_type": "execute_result"
    }
   ],
   "source": [
    "df['open_home_loan'].isna().sum()"
   ]
  },
  {
   "cell_type": "markdown",
   "metadata": {},
   "source": [
    "Outstanding balance is very high for people having open home loan since it appears the loan amount is included in outstanding balance."
   ]
  },
  {
   "cell_type": "code",
   "execution_count": 114,
   "metadata": {
    "ExecuteTime": {
     "end_time": "2019-09-15T14:58:00.966358Z",
     "start_time": "2019-09-15T14:58:00.868641Z"
    }
   },
   "outputs": [
    {
     "data": {
      "image/png": "[encoded data removed]",
      "text/plain": [
       "<Figure size 432x288 with 1 Axes>"
      ]
     },
     "metadata": {
      "needs_background": "light"
     },
     "output_type": "display_data"
    }
   ],
   "source": [
    "df.boxplot(column='outstanding_bal', by='open_home_loan');"
   ]
  },
  {
   "cell_type": "code",
   "execution_count": 115,
   "metadata": {
    "ExecuteTime": {
     "end_time": "2019-09-15T14:58:01.313709Z",
     "start_time": "2019-09-15T14:58:01.308727Z"
    },
    "scrolled": true
   },
   "outputs": [
    {
     "data": {
      "text/plain": [
       "open_home_loan     272\n",
       "outstanding_bal    272\n",
       "dtype: int64"
      ]
     },
     "execution_count": 115,
     "metadata": {},
     "output_type": "execute_result"
    }
   ],
   "source": [
    "df.loc[df.open_home_loan.isna(), ['open_home_loan' ,'outstanding_bal']].isna().sum()"
   ]
  },
  {
   "cell_type": "markdown",
   "metadata": {
    "ExecuteTime": {
     "end_time": "2019-09-12T13:30:29.334096Z",
     "start_time": "2019-09-12T13:30:29.329096Z"
    }
   },
   "source": [
    "We cannot use outstanding balance to detect the open hoem loan since for same rows both are NULL"
   ]
  },
  {
   "cell_type": "code",
   "execution_count": 116,
   "metadata": {
    "ExecuteTime": {
     "end_time": "2019-09-15T14:58:02.536555Z",
     "start_time": "2019-09-15T14:58:02.532565Z"
    }
   },
   "outputs": [],
   "source": [
    "# So We will have to impute with majority here\n",
    "df['open_home_loan'].fillna(value=0, inplace=True)"
   ]
  },
  {
   "cell_type": "code",
   "execution_count": 117,
   "metadata": {
    "ExecuteTime": {
     "end_time": "2019-09-15T14:58:03.028894Z",
     "start_time": "2019-09-15T14:58:03.014929Z"
    }
   },
   "outputs": [
    {
     "data": {
      "text/html": [
       "<div>\n",
       "<style scoped>\n",
       "    .dataframe tbody tr th:only-of-type {\n",
       "        vertical-align: middle;\n",
       "    }\n",
       "\n",
       "    .dataframe tbody tr th {\n",
       "        vertical-align: top;\n",
       "    }\n",
       "\n",
       "    .dataframe thead th {\n",
       "        text-align: right;\n",
       "    }\n",
       "</style>\n",
       "<table border=\"1\" class=\"dataframe\">\n",
       "  <thead>\n",
       "    <tr style=\"text-align: right;\">\n",
       "      <th>performance</th>\n",
       "      <th>0.0</th>\n",
       "      <th>1.0</th>\n",
       "      <th>delinq%</th>\n",
       "    </tr>\n",
       "    <tr>\n",
       "      <th>open_home_loan</th>\n",
       "      <th></th>\n",
       "      <th></th>\n",
       "      <th></th>\n",
       "    </tr>\n",
       "  </thead>\n",
       "  <tbody>\n",
       "    <tr>\n",
       "      <th>0.0</th>\n",
       "      <td>49456</td>\n",
       "      <td>2340</td>\n",
       "      <td>4.518</td>\n",
       "    </tr>\n",
       "    <tr>\n",
       "      <th>1.0</th>\n",
       "      <td>17464</td>\n",
       "      <td>607</td>\n",
       "      <td>3.359</td>\n",
       "    </tr>\n",
       "  </tbody>\n",
       "</table>\n",
       "</div>"
      ],
      "text/plain": [
       "performance       0.0   1.0  delinq%\n",
       "open_home_loan                      \n",
       "0.0             49456  2340    4.518\n",
       "1.0             17464   607    3.359"
      ]
     },
     "execution_count": 117,
     "metadata": {},
     "output_type": "execute_result"
    }
   ],
   "source": [
    "catg_analysis('open_home_loan')"
   ]
  },
  {
   "cell_type": "markdown",
   "metadata": {},
   "source": [
    "#### open_auto_loan"
   ]
  },
  {
   "cell_type": "code",
   "execution_count": 118,
   "metadata": {
    "ExecuteTime": {
     "end_time": "2019-09-15T14:58:03.913273Z",
     "start_time": "2019-09-15T14:58:03.909279Z"
    }
   },
   "outputs": [
    {
     "data": {
      "text/plain": [
       "0"
      ]
     },
     "execution_count": 118,
     "metadata": {},
     "output_type": "execute_result"
    }
   ],
   "source": [
    "df['open_auto_loan'].isna().sum()"
   ]
  },
  {
   "cell_type": "code",
   "execution_count": 119,
   "metadata": {
    "ExecuteTime": {
     "end_time": "2019-09-15T14:58:04.475109Z",
     "start_time": "2019-09-15T14:58:04.460149Z"
    }
   },
   "outputs": [
    {
     "data": {
      "text/html": [
       "<div>\n",
       "<style scoped>\n",
       "    .dataframe tbody tr th:only-of-type {\n",
       "        vertical-align: middle;\n",
       "    }\n",
       "\n",
       "    .dataframe tbody tr th {\n",
       "        vertical-align: top;\n",
       "    }\n",
       "\n",
       "    .dataframe thead th {\n",
       "        text-align: right;\n",
       "    }\n",
       "</style>\n",
       "<table border=\"1\" class=\"dataframe\">\n",
       "  <thead>\n",
       "    <tr style=\"text-align: right;\">\n",
       "      <th>performance</th>\n",
       "      <th>0.0</th>\n",
       "      <th>1.0</th>\n",
       "      <th>delinq%</th>\n",
       "    </tr>\n",
       "    <tr>\n",
       "      <th>open_auto_loan</th>\n",
       "      <th></th>\n",
       "      <th></th>\n",
       "      <th></th>\n",
       "    </tr>\n",
       "  </thead>\n",
       "  <tbody>\n",
       "    <tr>\n",
       "      <th>0</th>\n",
       "      <td>61209</td>\n",
       "      <td>2728</td>\n",
       "      <td>4.267</td>\n",
       "    </tr>\n",
       "    <tr>\n",
       "      <th>1</th>\n",
       "      <td>5711</td>\n",
       "      <td>219</td>\n",
       "      <td>3.693</td>\n",
       "    </tr>\n",
       "  </tbody>\n",
       "</table>\n",
       "</div>"
      ],
      "text/plain": [
       "performance       0.0   1.0  delinq%\n",
       "open_auto_loan                      \n",
       "0               61209  2728    4.267\n",
       "1                5711   219    3.693"
      ]
     },
     "execution_count": 119,
     "metadata": {},
     "output_type": "execute_result"
    }
   ],
   "source": [
    "catg_analysis('open_auto_loan')"
   ]
  },
  {
   "cell_type": "markdown",
   "metadata": {},
   "source": [
    "#### total_trades"
   ]
  },
  {
   "cell_type": "code",
   "execution_count": 120,
   "metadata": {
    "ExecuteTime": {
     "end_time": "2019-09-15T14:58:05.417096Z",
     "start_time": "2019-09-15T14:58:05.412109Z"
    }
   },
   "outputs": [
    {
     "data": {
      "text/plain": [
       "0"
      ]
     },
     "execution_count": 120,
     "metadata": {},
     "output_type": "execute_result"
    }
   ],
   "source": [
    "df['total_trades'].isna().sum()"
   ]
  },
  {
   "cell_type": "code",
   "execution_count": 121,
   "metadata": {
    "ExecuteTime": {
     "end_time": "2019-09-15T14:58:05.772553Z",
     "start_time": "2019-09-15T14:58:05.766568Z"
    }
   },
   "outputs": [
    {
     "data": {
      "text/plain": [
       "45"
      ]
     },
     "execution_count": 121,
     "metadata": {},
     "output_type": "execute_result"
    }
   ],
   "source": [
    "df['total_trades'].nunique()"
   ]
  },
  {
   "cell_type": "code",
   "execution_count": 122,
   "metadata": {
    "ExecuteTime": {
     "end_time": "2019-09-15T14:58:06.223511Z",
     "start_time": "2019-09-15T14:58:06.124761Z"
    },
    "scrolled": true
   },
   "outputs": [
    {
     "data": {
      "text/plain": [
       "<matplotlib.axes._subplots.AxesSubplot at 0x1facff861d0>"
      ]
     },
     "execution_count": 122,
     "metadata": {},
     "output_type": "execute_result"
    },
    {
     "data": {
      "image/png": "[encoded data removed]",
      "text/plain": [
       "<Figure size 432x288 with 1 Axes>"
      ]
     },
     "metadata": {
      "needs_background": "light"
     },
     "output_type": "display_data"
    }
   ],
   "source": [
    "df['total_trades'].hist()"
   ]
  },
  {
   "cell_type": "code",
   "execution_count": 123,
   "metadata": {
    "ExecuteTime": {
     "end_time": "2019-09-15T14:58:06.671331Z",
     "start_time": "2019-09-15T14:58:06.668361Z"
    }
   },
   "outputs": [],
   "source": [
    "tot_trade_bins = range(0,46,5)"
   ]
  },
  {
   "cell_type": "code",
   "execution_count": 124,
   "metadata": {
    "ExecuteTime": {
     "end_time": "2019-09-15T14:58:07.163862Z",
     "start_time": "2019-09-15T14:58:07.133943Z"
    }
   },
   "outputs": [
    {
     "name": "stdout",
     "output_type": "stream",
     "text": [
      "IV is 20.363\n"
     ]
    },
    {
     "data": {
      "text/html": [
       "<div>\n",
       "<style scoped>\n",
       "    .dataframe tbody tr th:only-of-type {\n",
       "        vertical-align: middle;\n",
       "    }\n",
       "\n",
       "    .dataframe tbody tr th {\n",
       "        vertical-align: top;\n",
       "    }\n",
       "\n",
       "    .dataframe thead th {\n",
       "        text-align: right;\n",
       "    }\n",
       "</style>\n",
       "<table border=\"1\" class=\"dataframe\">\n",
       "  <thead>\n",
       "    <tr style=\"text-align: right;\">\n",
       "      <th></th>\n",
       "      <th>total_trades-bin</th>\n",
       "      <th>non_event</th>\n",
       "      <th>event</th>\n",
       "      <th>count</th>\n",
       "      <th>event %</th>\n",
       "      <th>non_event %</th>\n",
       "      <th>WOE</th>\n",
       "      <th>event%-non_event%</th>\n",
       "      <th>IV</th>\n",
       "    </tr>\n",
       "  </thead>\n",
       "  <tbody>\n",
       "    <tr>\n",
       "      <th>0</th>\n",
       "      <td>(-0.001, 5.0]</td>\n",
       "      <td>31688.0</td>\n",
       "      <td>811.0</td>\n",
       "      <td>32499.0</td>\n",
       "      <td>27.514843</td>\n",
       "      <td>47.352062</td>\n",
       "      <td>-0.542885</td>\n",
       "      <td>-19.837219</td>\n",
       "      <td>10.769324</td>\n",
       "    </tr>\n",
       "    <tr>\n",
       "      <th>1</th>\n",
       "      <td>(5.0, 10.0]</td>\n",
       "      <td>20154.0</td>\n",
       "      <td>1306.0</td>\n",
       "      <td>21460.0</td>\n",
       "      <td>44.308736</td>\n",
       "      <td>30.116557</td>\n",
       "      <td>0.386107</td>\n",
       "      <td>14.192179</td>\n",
       "      <td>5.479696</td>\n",
       "    </tr>\n",
       "    <tr>\n",
       "      <th>2</th>\n",
       "      <td>(10.0, 15.0]</td>\n",
       "      <td>6191.0</td>\n",
       "      <td>476.0</td>\n",
       "      <td>6667.0</td>\n",
       "      <td>16.149279</td>\n",
       "      <td>9.251345</td>\n",
       "      <td>0.557106</td>\n",
       "      <td>6.897934</td>\n",
       "      <td>3.842884</td>\n",
       "    </tr>\n",
       "    <tr>\n",
       "      <th>3</th>\n",
       "      <td>(15.0, 20.0]</td>\n",
       "      <td>2339.0</td>\n",
       "      <td>84.0</td>\n",
       "      <td>2423.0</td>\n",
       "      <td>2.849873</td>\n",
       "      <td>3.495218</td>\n",
       "      <td>-0.204121</td>\n",
       "      <td>-0.645345</td>\n",
       "      <td>0.131729</td>\n",
       "    </tr>\n",
       "    <tr>\n",
       "      <th>4</th>\n",
       "      <td>(20.0, 25.0]</td>\n",
       "      <td>3329.0</td>\n",
       "      <td>131.0</td>\n",
       "      <td>3460.0</td>\n",
       "      <td>4.444444</td>\n",
       "      <td>4.974597</td>\n",
       "      <td>-0.112689</td>\n",
       "      <td>-0.530152</td>\n",
       "      <td>0.059743</td>\n",
       "    </tr>\n",
       "    <tr>\n",
       "      <th>5</th>\n",
       "      <td>(25.0, 30.0]</td>\n",
       "      <td>2353.0</td>\n",
       "      <td>102.0</td>\n",
       "      <td>2455.0</td>\n",
       "      <td>3.460560</td>\n",
       "      <td>3.516139</td>\n",
       "      <td>-0.015933</td>\n",
       "      <td>-0.055579</td>\n",
       "      <td>0.000886</td>\n",
       "    </tr>\n",
       "    <tr>\n",
       "      <th>6</th>\n",
       "      <td>(30.0, 35.0]</td>\n",
       "      <td>759.0</td>\n",
       "      <td>35.0</td>\n",
       "      <td>794.0</td>\n",
       "      <td>1.187447</td>\n",
       "      <td>1.134190</td>\n",
       "      <td>0.045887</td>\n",
       "      <td>0.053257</td>\n",
       "      <td>0.002444</td>\n",
       "    </tr>\n",
       "    <tr>\n",
       "      <th>7</th>\n",
       "      <td>(35.0, 40.0]</td>\n",
       "      <td>102.0</td>\n",
       "      <td>2.0</td>\n",
       "      <td>104.0</td>\n",
       "      <td>0.067854</td>\n",
       "      <td>0.152421</td>\n",
       "      <td>-0.809285</td>\n",
       "      <td>-0.084567</td>\n",
       "      <td>0.068439</td>\n",
       "    </tr>\n",
       "    <tr>\n",
       "      <th>8</th>\n",
       "      <td>(40.0, 45.0]</td>\n",
       "      <td>5.0</td>\n",
       "      <td>0.5</td>\n",
       "      <td>5.5</td>\n",
       "      <td>0.016964</td>\n",
       "      <td>0.007472</td>\n",
       "      <td>0.819955</td>\n",
       "      <td>0.009492</td>\n",
       "      <td>0.007783</td>\n",
       "    </tr>\n",
       "  </tbody>\n",
       "</table>\n",
       "</div>"
      ],
      "text/plain": [
       "  total_trades-bin  non_event   event    count    event %  non_event %  \\\n",
       "0    (-0.001, 5.0]    31688.0   811.0  32499.0  27.514843    47.352062   \n",
       "1      (5.0, 10.0]    20154.0  1306.0  21460.0  44.308736    30.116557   \n",
       "2     (10.0, 15.0]     6191.0   476.0   6667.0  16.149279     9.251345   \n",
       "3     (15.0, 20.0]     2339.0    84.0   2423.0   2.849873     3.495218   \n",
       "4     (20.0, 25.0]     3329.0   131.0   3460.0   4.444444     4.974597   \n",
       "5     (25.0, 30.0]     2353.0   102.0   2455.0   3.460560     3.516139   \n",
       "6     (30.0, 35.0]      759.0    35.0    794.0   1.187447     1.134190   \n",
       "7     (35.0, 40.0]      102.0     2.0    104.0   0.067854     0.152421   \n",
       "8     (40.0, 45.0]        5.0     0.5      5.5   0.016964     0.007472   \n",
       "\n",
       "        WOE  event%-non_event%         IV  \n",
       "0 -0.542885         -19.837219  10.769324  \n",
       "1  0.386107          14.192179   5.479696  \n",
       "2  0.557106           6.897934   3.842884  \n",
       "3 -0.204121          -0.645345   0.131729  \n",
       "4 -0.112689          -0.530152   0.059743  \n",
       "5 -0.015933          -0.055579   0.000886  \n",
       "6  0.045887           0.053257   0.002444  \n",
       "7 -0.809285          -0.084567   0.068439  \n",
       "8  0.819955           0.009492   0.007783  "
      ]
     },
     "execution_count": 124,
     "metadata": {},
     "output_type": "execute_result"
    }
   ],
   "source": [
    "woe_iv(col='total_trades', target='performance',mybins=tot_trade_bins)"
   ]
  },
  {
   "cell_type": "markdown",
   "metadata": {
    "ExecuteTime": {
     "end_time": "2019-08-26T15:21:31.192009Z",
     "start_time": "2019-08-26T15:21:31.188019Z"
    }
   },
   "source": [
    "#### outstanding_bal"
   ]
  },
  {
   "cell_type": "code",
   "execution_count": 125,
   "metadata": {
    "ExecuteTime": {
     "end_time": "2019-09-15T14:58:07.841857Z",
     "start_time": "2019-09-15T14:58:07.836870Z"
    }
   },
   "outputs": [
    {
     "data": {
      "text/plain": [
       "272"
      ]
     },
     "execution_count": 125,
     "metadata": {},
     "output_type": "execute_result"
    }
   ],
   "source": [
    "df['outstanding_bal'].isna().sum()"
   ]
  },
  {
   "cell_type": "code",
   "execution_count": 126,
   "metadata": {
    "ExecuteTime": {
     "end_time": "2019-09-15T14:58:08.186068Z",
     "start_time": "2019-09-15T14:58:08.180085Z"
    }
   },
   "outputs": [
    {
     "data": {
      "text/plain": [
       "open_home_loan     0.0\n",
       "outstanding_bal    0.0\n",
       "dtype: float64"
      ]
     },
     "execution_count": 126,
     "metadata": {},
     "output_type": "execute_result"
    }
   ],
   "source": [
    "df.loc[df['outstanding_bal'].isna(), ['open_home_loan', 'outstanding_bal']].sum()"
   ]
  },
  {
   "cell_type": "code",
   "execution_count": 127,
   "metadata": {
    "ExecuteTime": {
     "end_time": "2019-09-15T14:58:08.626351Z",
     "start_time": "2019-09-15T14:58:08.620339Z"
    }
   },
   "outputs": [],
   "source": [
    "df.loc[df.outstanding_bal.isna(),'outstanding_bal']  = df.loc[df.open_home_loan==0,'outstanding_bal'].median()"
   ]
  },
  {
   "cell_type": "code",
   "execution_count": 128,
   "metadata": {
    "ExecuteTime": {
     "end_time": "2019-09-15T14:58:09.240479Z",
     "start_time": "2019-09-15T14:58:09.076944Z"
    }
   },
   "outputs": [
    {
     "data": {
      "text/plain": [
       "<matplotlib.axes._subplots.AxesSubplot at 0x1fad00c06a0>"
      ]
     },
     "execution_count": 128,
     "metadata": {},
     "output_type": "execute_result"
    },
    {
     "data": {
      "image/png": "[encoded data removed]",
      "text/plain": [
       "<Figure size 432x288 with 1 Axes>"
      ]
     },
     "metadata": {
      "needs_background": "light"
     },
     "output_type": "display_data"
    }
   ],
   "source": [
    "sns.distplot(df['outstanding_bal'].dropna())"
   ]
  },
  {
   "cell_type": "markdown",
   "metadata": {},
   "source": [
    " Seems like the outstanding balance is distributed in two parts due to open_home loan feature.<br>\n",
    " Since the home is open or not the info is captured already. <br>\n",
    " I am cerating adjusted outstanding balance excluding the home loan amount "
   ]
  },
  {
   "cell_type": "code",
   "execution_count": 129,
   "metadata": {
    "ExecuteTime": {
     "end_time": "2019-09-15T14:58:10.057523Z",
     "start_time": "2019-09-15T14:58:10.052511Z"
    }
   },
   "outputs": [
    {
     "data": {
      "text/plain": [
       "2583104.0"
      ]
     },
     "execution_count": 129,
     "metadata": {},
     "output_type": "execute_result"
    }
   ],
   "source": [
    "df.loc[df['open_home_loan']==1,'outstanding_bal'].min()"
   ]
  },
  {
   "cell_type": "code",
   "execution_count": 130,
   "metadata": {
    "ExecuteTime": {
     "end_time": "2019-09-15T14:58:10.559993Z",
     "start_time": "2019-09-15T14:58:10.555977Z"
    }
   },
   "outputs": [],
   "source": [
    "df['obal_adj'] = df['outstanding_bal']"
   ]
  },
  {
   "cell_type": "code",
   "execution_count": 131,
   "metadata": {
    "ExecuteTime": {
     "end_time": "2019-09-15T14:58:11.141212Z",
     "start_time": "2019-09-15T14:58:11.124257Z"
    }
   },
   "outputs": [],
   "source": [
    "# Seems like the outstanding balance is distributed in two parts due to open_home loan feature.\n",
    "# Since the home is open or not the info is captured already.\n",
    "# I am cerating adjusted outstanding balance excluding the home loan amount\n",
    "df.loc[df.open_home_loan==1, 'obal_adj'] = df.loc[df.open_home_loan==1,'obal_adj'].apply(lambda x: x-2583104 if x>2583104 else x)"
   ]
  },
  {
   "cell_type": "code",
   "execution_count": 132,
   "metadata": {
    "ExecuteTime": {
     "end_time": "2019-09-15T14:58:11.588996Z",
     "start_time": "2019-09-15T14:58:11.583006Z"
    }
   },
   "outputs": [
    {
     "data": {
      "text/plain": [
       "(0, 0)"
      ]
     },
     "execution_count": 132,
     "metadata": {},
     "output_type": "execute_result"
    }
   ],
   "source": [
    "df['outstanding_bal'].isna().sum(), df['obal_adj'].isna().sum()"
   ]
  },
  {
   "cell_type": "code",
   "execution_count": 133,
   "metadata": {
    "ExecuteTime": {
     "end_time": "2019-09-15T14:58:12.129166Z",
     "start_time": "2019-09-15T14:58:12.124180Z"
    }
   },
   "outputs": [
    {
     "data": {
      "text/plain": [
       "array([      0.        ,  292855.22222222,  585710.44444444,\n",
       "        878565.66666667, 1171420.88888889, 1464276.11111111,\n",
       "       1757131.33333333, 2049986.55555556, 2342841.77777778,\n",
       "       2635697.        ])"
      ]
     },
     "execution_count": 133,
     "metadata": {},
     "output_type": "execute_result"
    }
   ],
   "source": [
    "ob_bins =  np.linspace(start=df.obal_adj.min(), stop=df.obal_adj.max(), num=10)\n",
    "ob_bins"
   ]
  },
  {
   "cell_type": "code",
   "execution_count": 134,
   "metadata": {
    "ExecuteTime": {
     "end_time": "2019-09-15T14:58:12.553402Z",
     "start_time": "2019-09-15T14:58:12.526474Z"
    }
   },
   "outputs": [
    {
     "name": "stdout",
     "output_type": "stream",
     "text": [
      "IV is 16.942\n"
     ]
    },
    {
     "data": {
      "text/html": [
       "<div>\n",
       "<style scoped>\n",
       "    .dataframe tbody tr th:only-of-type {\n",
       "        vertical-align: middle;\n",
       "    }\n",
       "\n",
       "    .dataframe tbody tr th {\n",
       "        vertical-align: top;\n",
       "    }\n",
       "\n",
       "    .dataframe thead th {\n",
       "        text-align: right;\n",
       "    }\n",
       "</style>\n",
       "<table border=\"1\" class=\"dataframe\">\n",
       "  <thead>\n",
       "    <tr style=\"text-align: right;\">\n",
       "      <th></th>\n",
       "      <th>obal_adj-bin</th>\n",
       "      <th>non_event</th>\n",
       "      <th>event</th>\n",
       "      <th>count</th>\n",
       "      <th>event %</th>\n",
       "      <th>non_event %</th>\n",
       "      <th>WOE</th>\n",
       "      <th>event%-non_event%</th>\n",
       "      <th>IV</th>\n",
       "    </tr>\n",
       "  </thead>\n",
       "  <tbody>\n",
       "    <tr>\n",
       "      <th>0</th>\n",
       "      <td>(-0.001, 292855.222]</td>\n",
       "      <td>19177.0</td>\n",
       "      <td>450.0</td>\n",
       "      <td>19627.0</td>\n",
       "      <td>15.269766</td>\n",
       "      <td>28.656605</td>\n",
       "      <td>-0.629509</td>\n",
       "      <td>-13.386839</td>\n",
       "      <td>8.427138</td>\n",
       "    </tr>\n",
       "    <tr>\n",
       "      <th>1</th>\n",
       "      <td>(292855.222, 585710.444]</td>\n",
       "      <td>18056.0</td>\n",
       "      <td>635.0</td>\n",
       "      <td>18691.0</td>\n",
       "      <td>21.547336</td>\n",
       "      <td>26.981470</td>\n",
       "      <td>-0.224898</td>\n",
       "      <td>-5.434134</td>\n",
       "      <td>1.222127</td>\n",
       "    </tr>\n",
       "    <tr>\n",
       "      <th>2</th>\n",
       "      <td>(585710.444, 878565.667]</td>\n",
       "      <td>13045.0</td>\n",
       "      <td>857.0</td>\n",
       "      <td>13902.0</td>\n",
       "      <td>29.080421</td>\n",
       "      <td>19.493425</td>\n",
       "      <td>0.399988</td>\n",
       "      <td>9.586996</td>\n",
       "      <td>3.834682</td>\n",
       "    </tr>\n",
       "    <tr>\n",
       "      <th>3</th>\n",
       "      <td>(878565.667, 1171420.889]</td>\n",
       "      <td>9342.0</td>\n",
       "      <td>619.0</td>\n",
       "      <td>9961.0</td>\n",
       "      <td>21.004411</td>\n",
       "      <td>13.959952</td>\n",
       "      <td>0.408540</td>\n",
       "      <td>7.044459</td>\n",
       "      <td>2.877942</td>\n",
       "    </tr>\n",
       "    <tr>\n",
       "      <th>4</th>\n",
       "      <td>(1171420.889, 1464276.111]</td>\n",
       "      <td>4350.0</td>\n",
       "      <td>248.0</td>\n",
       "      <td>4598.0</td>\n",
       "      <td>8.415338</td>\n",
       "      <td>6.500299</td>\n",
       "      <td>0.258208</td>\n",
       "      <td>1.915039</td>\n",
       "      <td>0.494478</td>\n",
       "    </tr>\n",
       "    <tr>\n",
       "      <th>5</th>\n",
       "      <td>(1464276.111, 1757131.333]</td>\n",
       "      <td>2061.0</td>\n",
       "      <td>99.0</td>\n",
       "      <td>2160.0</td>\n",
       "      <td>3.359348</td>\n",
       "      <td>3.079797</td>\n",
       "      <td>0.086883</td>\n",
       "      <td>0.279552</td>\n",
       "      <td>0.024288</td>\n",
       "    </tr>\n",
       "    <tr>\n",
       "      <th>6</th>\n",
       "      <td>(1757131.333, 2049986.556]</td>\n",
       "      <td>652.0</td>\n",
       "      <td>25.0</td>\n",
       "      <td>677.0</td>\n",
       "      <td>0.848320</td>\n",
       "      <td>0.974298</td>\n",
       "      <td>-0.138459</td>\n",
       "      <td>-0.125977</td>\n",
       "      <td>0.017443</td>\n",
       "    </tr>\n",
       "    <tr>\n",
       "      <th>7</th>\n",
       "      <td>(2049986.556, 2342841.778]</td>\n",
       "      <td>214.0</td>\n",
       "      <td>12.0</td>\n",
       "      <td>226.0</td>\n",
       "      <td>0.407194</td>\n",
       "      <td>0.319785</td>\n",
       "      <td>0.241641</td>\n",
       "      <td>0.087409</td>\n",
       "      <td>0.021122</td>\n",
       "    </tr>\n",
       "    <tr>\n",
       "      <th>8</th>\n",
       "      <td>(2342841.778, 2635697.0]</td>\n",
       "      <td>23.0</td>\n",
       "      <td>2.0</td>\n",
       "      <td>25.0</td>\n",
       "      <td>0.067866</td>\n",
       "      <td>0.034369</td>\n",
       "      <td>0.680363</td>\n",
       "      <td>0.033496</td>\n",
       "      <td>0.022790</td>\n",
       "    </tr>\n",
       "  </tbody>\n",
       "</table>\n",
       "</div>"
      ],
      "text/plain": [
       "                 obal_adj-bin  non_event  event    count    event %  \\\n",
       "0        (-0.001, 292855.222]    19177.0  450.0  19627.0  15.269766   \n",
       "1    (292855.222, 585710.444]    18056.0  635.0  18691.0  21.547336   \n",
       "2    (585710.444, 878565.667]    13045.0  857.0  13902.0  29.080421   \n",
       "3   (878565.667, 1171420.889]     9342.0  619.0   9961.0  21.004411   \n",
       "4  (1171420.889, 1464276.111]     4350.0  248.0   4598.0   8.415338   \n",
       "5  (1464276.111, 1757131.333]     2061.0   99.0   2160.0   3.359348   \n",
       "6  (1757131.333, 2049986.556]      652.0   25.0    677.0   0.848320   \n",
       "7  (2049986.556, 2342841.778]      214.0   12.0    226.0   0.407194   \n",
       "8    (2342841.778, 2635697.0]       23.0    2.0     25.0   0.067866   \n",
       "\n",
       "   non_event %       WOE  event%-non_event%        IV  \n",
       "0    28.656605 -0.629509         -13.386839  8.427138  \n",
       "1    26.981470 -0.224898          -5.434134  1.222127  \n",
       "2    19.493425  0.399988           9.586996  3.834682  \n",
       "3    13.959952  0.408540           7.044459  2.877942  \n",
       "4     6.500299  0.258208           1.915039  0.494478  \n",
       "5     3.079797  0.086883           0.279552  0.024288  \n",
       "6     0.974298 -0.138459          -0.125977  0.017443  \n",
       "7     0.319785  0.241641           0.087409  0.021122  \n",
       "8     0.034369  0.680363           0.033496  0.022790  "
      ]
     },
     "execution_count": 134,
     "metadata": {},
     "output_type": "execute_result"
    }
   ],
   "source": [
    "ob_woe = woe_iv(col='obal_adj',\n",
    "       target='performance',\n",
    "       mybins=ob_bins)\n",
    "ob_woe"
   ]
  },
  {
   "cell_type": "code",
   "execution_count": 135,
   "metadata": {
    "ExecuteTime": {
     "end_time": "2019-09-15T14:58:13.571206Z",
     "start_time": "2019-09-15T14:58:13.388694Z"
    }
   },
   "outputs": [
    {
     "data": {
      "image/png": "[encoded data removed]",
      "text/plain": [
       "<Figure size 720x576 with 1 Axes>"
      ]
     },
     "metadata": {
      "needs_background": "light"
     },
     "output_type": "display_data"
    }
   ],
   "source": [
    "N = 9\n",
    "plt.figure(figsize=(10,8))\n",
    "event = ob_woe['event']\n",
    "non_event = ob_woe['non_event']\n",
    "\n",
    "ind = np.arange(N)    # the x locations for the groups\n",
    "width = 0.35       # the width of the bars: can also be len(x) sequence\n",
    "\n",
    "p1 = plt.bar(ind, non_event, width)\n",
    "p2 = plt.bar(ind, event, width, bottom=non_event)\n",
    "\n",
    "plt.ylabel('Performance')\n",
    "plt.title('Performance by outstanding balance bin wise')\n",
    "plt.xticks(ind, ob_woe['obal_adj-bin'], rotation=20)\n",
    "plt.yticks(np.arange(0, 21000, 2000))\n",
    "plt.legend((p1[0], p2[0]), ('0', '1'));"
   ]
  },
  {
   "cell_type": "code",
   "execution_count": 136,
   "metadata": {
    "ExecuteTime": {
     "end_time": "2019-09-15T14:58:14.186625Z",
     "start_time": "2019-09-15T14:58:14.021041Z"
    }
   },
   "outputs": [
    {
     "data": {
      "image/png": "[encoded data removed]",
      "text/plain": [
       "<Figure size 720x576 with 1 Axes>"
      ]
     },
     "metadata": {
      "needs_background": "light"
     },
     "output_type": "display_data"
    }
   ],
   "source": [
    "plt.figure(figsize=(10,8))\n",
    "r = range(1, 10)\n",
    "raw_data = {'goods': ob_woe['non_event'],\n",
    "            'default': ob_woe['event']}\n",
    "\n",
    "t = pd.DataFrame(raw_data)\n",
    " \n",
    "# From raw value to percentage\n",
    "totals = [i+j for i,j in zip(t['goods'], t['default'])]\n",
    "goods = [i / j * 100 for i,j in zip(t['goods'], totals)]\n",
    "default = [i / j * 100 for i,j in zip(t['default'], totals)]\n",
    " \n",
    "# plot\n",
    "barWidth = 0.85\n",
    "names = ob_woe['obal_adj-bin']\n",
    "# Create goods Bars\n",
    "plt.bar(r, goods, color='#1f77b4', edgecolor='white', width=barWidth)\n",
    "# Create bads Bars\n",
    "plt.bar(r, default, bottom=goods, color='#ff7f0e',\n",
    "        edgecolor='white', width=barWidth)\n",
    " \n",
    "# Custom x axis\n",
    "plt.xticks(r, names, rotation=40)\n",
    "plt.ylabel(\"Percentage\");\n",
    "plt.xlabel(\"Outstanding balance Bins\");"
   ]
  },
  {
   "cell_type": "markdown",
   "metadata": {},
   "source": [
    "#### DPD"
   ]
  },
  {
   "cell_type": "code",
   "execution_count": 137,
   "metadata": {
    "ExecuteTime": {
     "end_time": "2019-09-15T14:58:15.343469Z",
     "start_time": "2019-09-15T14:58:15.340478Z"
    }
   },
   "outputs": [],
   "source": [
    "dpds = ['90_dpd_6m', '60_dpd_6m', '30_dpd_6m',\n",
    "        '90_dpd_12m', '60_dpd_12m', '30_dpd_12m']"
   ]
  },
  {
   "cell_type": "code",
   "execution_count": 138,
   "metadata": {
    "ExecuteTime": {
     "end_time": "2019-09-15T14:58:15.708477Z",
     "start_time": "2019-09-15T14:58:15.677559Z"
    }
   },
   "outputs": [
    {
     "data": {
      "text/html": [
       "<div>\n",
       "<style scoped>\n",
       "    .dataframe tbody tr th:only-of-type {\n",
       "        vertical-align: middle;\n",
       "    }\n",
       "\n",
       "    .dataframe tbody tr th {\n",
       "        vertical-align: top;\n",
       "    }\n",
       "\n",
       "    .dataframe thead th {\n",
       "        text-align: right;\n",
       "    }\n",
       "</style>\n",
       "<table border=\"1\" class=\"dataframe\">\n",
       "  <thead>\n",
       "    <tr style=\"text-align: right;\">\n",
       "      <th></th>\n",
       "      <th>90_dpd_6m</th>\n",
       "      <th>60_dpd_6m</th>\n",
       "      <th>30_dpd_6m</th>\n",
       "      <th>90_dpd_12m</th>\n",
       "      <th>60_dpd_12m</th>\n",
       "      <th>30_dpd_12m</th>\n",
       "    </tr>\n",
       "  </thead>\n",
       "  <tbody>\n",
       "    <tr>\n",
       "      <th>count</th>\n",
       "      <td>71292.000000</td>\n",
       "      <td>71292.000000</td>\n",
       "      <td>71292.000000</td>\n",
       "      <td>71292.000000</td>\n",
       "      <td>71292.000000</td>\n",
       "      <td>71292.000000</td>\n",
       "    </tr>\n",
       "    <tr>\n",
       "      <th>mean</th>\n",
       "      <td>0.270311</td>\n",
       "      <td>0.430525</td>\n",
       "      <td>0.577190</td>\n",
       "      <td>0.450331</td>\n",
       "      <td>0.655459</td>\n",
       "      <td>0.800875</td>\n",
       "    </tr>\n",
       "    <tr>\n",
       "      <th>std</th>\n",
       "      <td>0.534168</td>\n",
       "      <td>0.825344</td>\n",
       "      <td>1.074442</td>\n",
       "      <td>0.808380</td>\n",
       "      <td>1.089532</td>\n",
       "      <td>1.331932</td>\n",
       "    </tr>\n",
       "    <tr>\n",
       "      <th>min</th>\n",
       "      <td>0.000000</td>\n",
       "      <td>0.000000</td>\n",
       "      <td>0.000000</td>\n",
       "      <td>0.000000</td>\n",
       "      <td>0.000000</td>\n",
       "      <td>0.000000</td>\n",
       "    </tr>\n",
       "    <tr>\n",
       "      <th>25%</th>\n",
       "      <td>0.000000</td>\n",
       "      <td>0.000000</td>\n",
       "      <td>0.000000</td>\n",
       "      <td>0.000000</td>\n",
       "      <td>0.000000</td>\n",
       "      <td>0.000000</td>\n",
       "    </tr>\n",
       "    <tr>\n",
       "      <th>50%</th>\n",
       "      <td>0.000000</td>\n",
       "      <td>0.000000</td>\n",
       "      <td>0.000000</td>\n",
       "      <td>0.000000</td>\n",
       "      <td>0.000000</td>\n",
       "      <td>0.000000</td>\n",
       "    </tr>\n",
       "    <tr>\n",
       "      <th>75%</th>\n",
       "      <td>0.000000</td>\n",
       "      <td>1.000000</td>\n",
       "      <td>1.000000</td>\n",
       "      <td>1.000000</td>\n",
       "      <td>1.000000</td>\n",
       "      <td>1.000000</td>\n",
       "    </tr>\n",
       "    <tr>\n",
       "      <th>max</th>\n",
       "      <td>3.000000</td>\n",
       "      <td>5.000000</td>\n",
       "      <td>7.000000</td>\n",
       "      <td>5.000000</td>\n",
       "      <td>7.000000</td>\n",
       "      <td>9.000000</td>\n",
       "    </tr>\n",
       "  </tbody>\n",
       "</table>\n",
       "</div>"
      ],
      "text/plain": [
       "          90_dpd_6m     60_dpd_6m     30_dpd_6m    90_dpd_12m    60_dpd_12m  \\\n",
       "count  71292.000000  71292.000000  71292.000000  71292.000000  71292.000000   \n",
       "mean       0.270311      0.430525      0.577190      0.450331      0.655459   \n",
       "std        0.534168      0.825344      1.074442      0.808380      1.089532   \n",
       "min        0.000000      0.000000      0.000000      0.000000      0.000000   \n",
       "25%        0.000000      0.000000      0.000000      0.000000      0.000000   \n",
       "50%        0.000000      0.000000      0.000000      0.000000      0.000000   \n",
       "75%        0.000000      1.000000      1.000000      1.000000      1.000000   \n",
       "max        3.000000      5.000000      7.000000      5.000000      7.000000   \n",
       "\n",
       "         30_dpd_12m  \n",
       "count  71292.000000  \n",
       "mean       0.800875  \n",
       "std        1.331932  \n",
       "min        0.000000  \n",
       "25%        0.000000  \n",
       "50%        0.000000  \n",
       "75%        1.000000  \n",
       "max        9.000000  "
      ]
     },
     "execution_count": 138,
     "metadata": {},
     "output_type": "execute_result"
    }
   ],
   "source": [
    "df[dpds].describe()"
   ]
  },
  {
   "cell_type": "code",
   "execution_count": 139,
   "metadata": {
    "ExecuteTime": {
     "end_time": "2019-09-15T14:58:16.076363Z",
     "start_time": "2019-09-15T14:58:16.061398Z"
    }
   },
   "outputs": [
    {
     "data": {
      "text/html": [
       "<div>\n",
       "<style scoped>\n",
       "    .dataframe tbody tr th:only-of-type {\n",
       "        vertical-align: middle;\n",
       "    }\n",
       "\n",
       "    .dataframe tbody tr th {\n",
       "        vertical-align: top;\n",
       "    }\n",
       "\n",
       "    .dataframe thead th {\n",
       "        text-align: right;\n",
       "    }\n",
       "</style>\n",
       "<table border=\"1\" class=\"dataframe\">\n",
       "  <thead>\n",
       "    <tr style=\"text-align: right;\">\n",
       "      <th>performance</th>\n",
       "      <th>0.0</th>\n",
       "      <th>1.0</th>\n",
       "      <th>delinq%</th>\n",
       "    </tr>\n",
       "    <tr>\n",
       "      <th>90_dpd_6m</th>\n",
       "      <th></th>\n",
       "      <th></th>\n",
       "      <th></th>\n",
       "    </tr>\n",
       "  </thead>\n",
       "  <tbody>\n",
       "    <tr>\n",
       "      <th>0</th>\n",
       "      <td>52870</td>\n",
       "      <td>1794</td>\n",
       "      <td>3.282</td>\n",
       "    </tr>\n",
       "    <tr>\n",
       "      <th>1</th>\n",
       "      <td>12249</td>\n",
       "      <td>970</td>\n",
       "      <td>7.338</td>\n",
       "    </tr>\n",
       "    <tr>\n",
       "      <th>2</th>\n",
       "      <td>1616</td>\n",
       "      <td>160</td>\n",
       "      <td>9.009</td>\n",
       "    </tr>\n",
       "    <tr>\n",
       "      <th>3</th>\n",
       "      <td>185</td>\n",
       "      <td>23</td>\n",
       "      <td>11.058</td>\n",
       "    </tr>\n",
       "  </tbody>\n",
       "</table>\n",
       "</div>"
      ],
      "text/plain": [
       "performance    0.0   1.0  delinq%\n",
       "90_dpd_6m                        \n",
       "0            52870  1794    3.282\n",
       "1            12249   970    7.338\n",
       "2             1616   160    9.009\n",
       "3              185    23   11.058"
      ]
     },
     "execution_count": 139,
     "metadata": {},
     "output_type": "execute_result"
    }
   ],
   "source": [
    "catg_analysis('90_dpd_6m')"
   ]
  },
  {
   "cell_type": "code",
   "execution_count": 140,
   "metadata": {
    "ExecuteTime": {
     "end_time": "2019-09-15T14:58:16.611207Z",
     "start_time": "2019-09-15T14:58:16.596226Z"
    }
   },
   "outputs": [
    {
     "data": {
      "text/html": [
       "<div>\n",
       "<style scoped>\n",
       "    .dataframe tbody tr th:only-of-type {\n",
       "        vertical-align: middle;\n",
       "    }\n",
       "\n",
       "    .dataframe tbody tr th {\n",
       "        vertical-align: top;\n",
       "    }\n",
       "\n",
       "    .dataframe thead th {\n",
       "        text-align: right;\n",
       "    }\n",
       "</style>\n",
       "<table border=\"1\" class=\"dataframe\">\n",
       "  <thead>\n",
       "    <tr style=\"text-align: right;\">\n",
       "      <th>performance</th>\n",
       "      <th>0.0</th>\n",
       "      <th>1.0</th>\n",
       "      <th>delinq%</th>\n",
       "    </tr>\n",
       "    <tr>\n",
       "      <th>60_dpd_6m</th>\n",
       "      <th></th>\n",
       "      <th></th>\n",
       "      <th></th>\n",
       "    </tr>\n",
       "  </thead>\n",
       "  <tbody>\n",
       "    <tr>\n",
       "      <th>0</th>\n",
       "      <td>50288</td>\n",
       "      <td>1582</td>\n",
       "      <td>3.050</td>\n",
       "    </tr>\n",
       "    <tr>\n",
       "      <th>1</th>\n",
       "      <td>10347</td>\n",
       "      <td>783</td>\n",
       "      <td>7.035</td>\n",
       "    </tr>\n",
       "    <tr>\n",
       "      <th>2</th>\n",
       "      <td>4528</td>\n",
       "      <td>389</td>\n",
       "      <td>7.911</td>\n",
       "    </tr>\n",
       "    <tr>\n",
       "      <th>3</th>\n",
       "      <td>1321</td>\n",
       "      <td>148</td>\n",
       "      <td>10.075</td>\n",
       "    </tr>\n",
       "    <tr>\n",
       "      <th>4</th>\n",
       "      <td>372</td>\n",
       "      <td>39</td>\n",
       "      <td>9.489</td>\n",
       "    </tr>\n",
       "    <tr>\n",
       "      <th>5</th>\n",
       "      <td>64</td>\n",
       "      <td>6</td>\n",
       "      <td>8.571</td>\n",
       "    </tr>\n",
       "  </tbody>\n",
       "</table>\n",
       "</div>"
      ],
      "text/plain": [
       "performance    0.0   1.0  delinq%\n",
       "60_dpd_6m                        \n",
       "0            50288  1582    3.050\n",
       "1            10347   783    7.035\n",
       "2             4528   389    7.911\n",
       "3             1321   148   10.075\n",
       "4              372    39    9.489\n",
       "5               64     6    8.571"
      ]
     },
     "execution_count": 140,
     "metadata": {},
     "output_type": "execute_result"
    }
   ],
   "source": [
    "catg_analysis('60_dpd_6m')"
   ]
  },
  {
   "cell_type": "code",
   "execution_count": 141,
   "metadata": {
    "ExecuteTime": {
     "end_time": "2019-09-15T14:58:17.101901Z",
     "start_time": "2019-09-15T14:58:17.085940Z"
    }
   },
   "outputs": [
    {
     "data": {
      "text/html": [
       "<div>\n",
       "<style scoped>\n",
       "    .dataframe tbody tr th:only-of-type {\n",
       "        vertical-align: middle;\n",
       "    }\n",
       "\n",
       "    .dataframe tbody tr th {\n",
       "        vertical-align: top;\n",
       "    }\n",
       "\n",
       "    .dataframe thead th {\n",
       "        text-align: right;\n",
       "    }\n",
       "</style>\n",
       "<table border=\"1\" class=\"dataframe\">\n",
       "  <thead>\n",
       "    <tr style=\"text-align: right;\">\n",
       "      <th>performance</th>\n",
       "      <th>0.0</th>\n",
       "      <th>1.0</th>\n",
       "      <th>delinq%</th>\n",
       "    </tr>\n",
       "    <tr>\n",
       "      <th>30_dpd_6m</th>\n",
       "      <th></th>\n",
       "      <th></th>\n",
       "      <th></th>\n",
       "    </tr>\n",
       "  </thead>\n",
       "  <tbody>\n",
       "    <tr>\n",
       "      <th>0</th>\n",
       "      <td>48643</td>\n",
       "      <td>1455</td>\n",
       "      <td>2.904</td>\n",
       "    </tr>\n",
       "    <tr>\n",
       "      <th>1</th>\n",
       "      <td>8878</td>\n",
       "      <td>622</td>\n",
       "      <td>6.547</td>\n",
       "    </tr>\n",
       "    <tr>\n",
       "      <th>2</th>\n",
       "      <td>5431</td>\n",
       "      <td>466</td>\n",
       "      <td>7.902</td>\n",
       "    </tr>\n",
       "    <tr>\n",
       "      <th>3</th>\n",
       "      <td>2585</td>\n",
       "      <td>245</td>\n",
       "      <td>8.657</td>\n",
       "    </tr>\n",
       "    <tr>\n",
       "      <th>4</th>\n",
       "      <td>938</td>\n",
       "      <td>107</td>\n",
       "      <td>10.239</td>\n",
       "    </tr>\n",
       "    <tr>\n",
       "      <th>5</th>\n",
       "      <td>343</td>\n",
       "      <td>43</td>\n",
       "      <td>11.140</td>\n",
       "    </tr>\n",
       "    <tr>\n",
       "      <th>6</th>\n",
       "      <td>88</td>\n",
       "      <td>8</td>\n",
       "      <td>8.333</td>\n",
       "    </tr>\n",
       "    <tr>\n",
       "      <th>7</th>\n",
       "      <td>14</td>\n",
       "      <td>1</td>\n",
       "      <td>6.667</td>\n",
       "    </tr>\n",
       "  </tbody>\n",
       "</table>\n",
       "</div>"
      ],
      "text/plain": [
       "performance    0.0   1.0  delinq%\n",
       "30_dpd_6m                        \n",
       "0            48643  1455    2.904\n",
       "1             8878   622    6.547\n",
       "2             5431   466    7.902\n",
       "3             2585   245    8.657\n",
       "4              938   107   10.239\n",
       "5              343    43   11.140\n",
       "6               88     8    8.333\n",
       "7               14     1    6.667"
      ]
     },
     "execution_count": 141,
     "metadata": {},
     "output_type": "execute_result"
    }
   ],
   "source": [
    "catg_analysis('30_dpd_6m')"
   ]
  },
  {
   "cell_type": "code",
   "execution_count": 142,
   "metadata": {
    "ExecuteTime": {
     "end_time": "2019-09-15T14:58:17.643779Z",
     "start_time": "2019-09-15T14:58:17.628819Z"
    }
   },
   "outputs": [
    {
     "data": {
      "text/html": [
       "<div>\n",
       "<style scoped>\n",
       "    .dataframe tbody tr th:only-of-type {\n",
       "        vertical-align: middle;\n",
       "    }\n",
       "\n",
       "    .dataframe tbody tr th {\n",
       "        vertical-align: top;\n",
       "    }\n",
       "\n",
       "    .dataframe thead th {\n",
       "        text-align: right;\n",
       "    }\n",
       "</style>\n",
       "<table border=\"1\" class=\"dataframe\">\n",
       "  <thead>\n",
       "    <tr style=\"text-align: right;\">\n",
       "      <th>performance</th>\n",
       "      <th>0.0</th>\n",
       "      <th>1.0</th>\n",
       "      <th>delinq%</th>\n",
       "    </tr>\n",
       "    <tr>\n",
       "      <th>90_dpd_12m</th>\n",
       "      <th></th>\n",
       "      <th></th>\n",
       "      <th></th>\n",
       "    </tr>\n",
       "  </thead>\n",
       "  <tbody>\n",
       "    <tr>\n",
       "      <th>0</th>\n",
       "      <td>48982</td>\n",
       "      <td>1510</td>\n",
       "      <td>2.991</td>\n",
       "    </tr>\n",
       "    <tr>\n",
       "      <th>1</th>\n",
       "      <td>10867</td>\n",
       "      <td>796</td>\n",
       "      <td>6.825</td>\n",
       "    </tr>\n",
       "    <tr>\n",
       "      <th>2</th>\n",
       "      <td>5672</td>\n",
       "      <td>488</td>\n",
       "      <td>7.922</td>\n",
       "    </tr>\n",
       "    <tr>\n",
       "      <th>3</th>\n",
       "      <td>1124</td>\n",
       "      <td>120</td>\n",
       "      <td>9.646</td>\n",
       "    </tr>\n",
       "    <tr>\n",
       "      <th>4</th>\n",
       "      <td>244</td>\n",
       "      <td>28</td>\n",
       "      <td>10.294</td>\n",
       "    </tr>\n",
       "    <tr>\n",
       "      <th>5</th>\n",
       "      <td>31</td>\n",
       "      <td>5</td>\n",
       "      <td>13.889</td>\n",
       "    </tr>\n",
       "  </tbody>\n",
       "</table>\n",
       "</div>"
      ],
      "text/plain": [
       "performance    0.0   1.0  delinq%\n",
       "90_dpd_12m                       \n",
       "0            48982  1510    2.991\n",
       "1            10867   796    6.825\n",
       "2             5672   488    7.922\n",
       "3             1124   120    9.646\n",
       "4              244    28   10.294\n",
       "5               31     5   13.889"
      ]
     },
     "execution_count": 142,
     "metadata": {},
     "output_type": "execute_result"
    }
   ],
   "source": [
    "catg_analysis('90_dpd_12m')"
   ]
  },
  {
   "cell_type": "code",
   "execution_count": 143,
   "metadata": {
    "ExecuteTime": {
     "end_time": "2019-09-15T14:58:18.197104Z",
     "start_time": "2019-09-15T14:58:18.182135Z"
    }
   },
   "outputs": [
    {
     "data": {
      "text/html": [
       "<div>\n",
       "<style scoped>\n",
       "    .dataframe tbody tr th:only-of-type {\n",
       "        vertical-align: middle;\n",
       "    }\n",
       "\n",
       "    .dataframe tbody tr th {\n",
       "        vertical-align: top;\n",
       "    }\n",
       "\n",
       "    .dataframe thead th {\n",
       "        text-align: right;\n",
       "    }\n",
       "</style>\n",
       "<table border=\"1\" class=\"dataframe\">\n",
       "  <thead>\n",
       "    <tr style=\"text-align: right;\">\n",
       "      <th>performance</th>\n",
       "      <th>0.0</th>\n",
       "      <th>1.0</th>\n",
       "      <th>delinq%</th>\n",
       "    </tr>\n",
       "    <tr>\n",
       "      <th>90_dpd_12m</th>\n",
       "      <th></th>\n",
       "      <th></th>\n",
       "      <th></th>\n",
       "    </tr>\n",
       "  </thead>\n",
       "  <tbody>\n",
       "    <tr>\n",
       "      <th>0</th>\n",
       "      <td>48982</td>\n",
       "      <td>1510</td>\n",
       "      <td>2.991</td>\n",
       "    </tr>\n",
       "    <tr>\n",
       "      <th>1</th>\n",
       "      <td>10867</td>\n",
       "      <td>796</td>\n",
       "      <td>6.825</td>\n",
       "    </tr>\n",
       "    <tr>\n",
       "      <th>2</th>\n",
       "      <td>5672</td>\n",
       "      <td>488</td>\n",
       "      <td>7.922</td>\n",
       "    </tr>\n",
       "    <tr>\n",
       "      <th>3</th>\n",
       "      <td>1124</td>\n",
       "      <td>120</td>\n",
       "      <td>9.646</td>\n",
       "    </tr>\n",
       "    <tr>\n",
       "      <th>4</th>\n",
       "      <td>244</td>\n",
       "      <td>28</td>\n",
       "      <td>10.294</td>\n",
       "    </tr>\n",
       "    <tr>\n",
       "      <th>5</th>\n",
       "      <td>31</td>\n",
       "      <td>5</td>\n",
       "      <td>13.889</td>\n",
       "    </tr>\n",
       "  </tbody>\n",
       "</table>\n",
       "</div>"
      ],
      "text/plain": [
       "performance    0.0   1.0  delinq%\n",
       "90_dpd_12m                       \n",
       "0            48982  1510    2.991\n",
       "1            10867   796    6.825\n",
       "2             5672   488    7.922\n",
       "3             1124   120    9.646\n",
       "4              244    28   10.294\n",
       "5               31     5   13.889"
      ]
     },
     "execution_count": 143,
     "metadata": {},
     "output_type": "execute_result"
    }
   ],
   "source": [
    "catg_analysis('90_dpd_12m')"
   ]
  },
  {
   "cell_type": "code",
   "execution_count": 144,
   "metadata": {
    "ExecuteTime": {
     "end_time": "2019-09-15T14:58:18.651053Z",
     "start_time": "2019-09-15T14:58:18.637098Z"
    }
   },
   "outputs": [
    {
     "data": {
      "text/html": [
       "<div>\n",
       "<style scoped>\n",
       "    .dataframe tbody tr th:only-of-type {\n",
       "        vertical-align: middle;\n",
       "    }\n",
       "\n",
       "    .dataframe tbody tr th {\n",
       "        vertical-align: top;\n",
       "    }\n",
       "\n",
       "    .dataframe thead th {\n",
       "        text-align: right;\n",
       "    }\n",
       "</style>\n",
       "<table border=\"1\" class=\"dataframe\">\n",
       "  <thead>\n",
       "    <tr style=\"text-align: right;\">\n",
       "      <th>performance</th>\n",
       "      <th>0.0</th>\n",
       "      <th>1.0</th>\n",
       "      <th>delinq%</th>\n",
       "    </tr>\n",
       "    <tr>\n",
       "      <th>60_dpd_12m</th>\n",
       "      <th></th>\n",
       "      <th></th>\n",
       "      <th></th>\n",
       "    </tr>\n",
       "  </thead>\n",
       "  <tbody>\n",
       "    <tr>\n",
       "      <th>0</th>\n",
       "      <td>44490</td>\n",
       "      <td>1378</td>\n",
       "      <td>3.004</td>\n",
       "    </tr>\n",
       "    <tr>\n",
       "      <th>1</th>\n",
       "      <td>12153</td>\n",
       "      <td>663</td>\n",
       "      <td>5.173</td>\n",
       "    </tr>\n",
       "    <tr>\n",
       "      <th>2</th>\n",
       "      <td>5932</td>\n",
       "      <td>482</td>\n",
       "      <td>7.515</td>\n",
       "    </tr>\n",
       "    <tr>\n",
       "      <th>3</th>\n",
       "      <td>2931</td>\n",
       "      <td>274</td>\n",
       "      <td>8.549</td>\n",
       "    </tr>\n",
       "    <tr>\n",
       "      <th>4</th>\n",
       "      <td>947</td>\n",
       "      <td>101</td>\n",
       "      <td>9.637</td>\n",
       "    </tr>\n",
       "    <tr>\n",
       "      <th>5</th>\n",
       "      <td>362</td>\n",
       "      <td>36</td>\n",
       "      <td>9.045</td>\n",
       "    </tr>\n",
       "    <tr>\n",
       "      <th>6</th>\n",
       "      <td>98</td>\n",
       "      <td>13</td>\n",
       "      <td>11.712</td>\n",
       "    </tr>\n",
       "    <tr>\n",
       "      <th>7</th>\n",
       "      <td>7</td>\n",
       "      <td>0</td>\n",
       "      <td>0.000</td>\n",
       "    </tr>\n",
       "  </tbody>\n",
       "</table>\n",
       "</div>"
      ],
      "text/plain": [
       "performance    0.0   1.0  delinq%\n",
       "60_dpd_12m                       \n",
       "0            44490  1378    3.004\n",
       "1            12153   663    5.173\n",
       "2             5932   482    7.515\n",
       "3             2931   274    8.549\n",
       "4              947   101    9.637\n",
       "5              362    36    9.045\n",
       "6               98    13   11.712\n",
       "7                7     0    0.000"
      ]
     },
     "execution_count": 144,
     "metadata": {},
     "output_type": "execute_result"
    }
   ],
   "source": [
    "catg_analysis('60_dpd_12m')"
   ]
  },
  {
   "cell_type": "code",
   "execution_count": 145,
   "metadata": {
    "ExecuteTime": {
     "end_time": "2019-09-15T14:58:19.166272Z",
     "start_time": "2019-09-15T14:58:19.150314Z"
    }
   },
   "outputs": [
    {
     "data": {
      "text/html": [
       "<div>\n",
       "<style scoped>\n",
       "    .dataframe tbody tr th:only-of-type {\n",
       "        vertical-align: middle;\n",
       "    }\n",
       "\n",
       "    .dataframe tbody tr th {\n",
       "        vertical-align: top;\n",
       "    }\n",
       "\n",
       "    .dataframe thead th {\n",
       "        text-align: right;\n",
       "    }\n",
       "</style>\n",
       "<table border=\"1\" class=\"dataframe\">\n",
       "  <thead>\n",
       "    <tr style=\"text-align: right;\">\n",
       "      <th>performance</th>\n",
       "      <th>0.0</th>\n",
       "      <th>1.0</th>\n",
       "      <th>delinq%</th>\n",
       "    </tr>\n",
       "    <tr>\n",
       "      <th>30_dpd_12m</th>\n",
       "      <th></th>\n",
       "      <th></th>\n",
       "      <th></th>\n",
       "    </tr>\n",
       "  </thead>\n",
       "  <tbody>\n",
       "    <tr>\n",
       "      <th>0</th>\n",
       "      <td>43541</td>\n",
       "      <td>1316</td>\n",
       "      <td>2.934</td>\n",
       "    </tr>\n",
       "    <tr>\n",
       "      <th>1</th>\n",
       "      <td>10956</td>\n",
       "      <td>518</td>\n",
       "      <td>4.515</td>\n",
       "    </tr>\n",
       "    <tr>\n",
       "      <th>2</th>\n",
       "      <td>5665</td>\n",
       "      <td>451</td>\n",
       "      <td>7.374</td>\n",
       "    </tr>\n",
       "    <tr>\n",
       "      <th>3</th>\n",
       "      <td>3787</td>\n",
       "      <td>349</td>\n",
       "      <td>8.438</td>\n",
       "    </tr>\n",
       "    <tr>\n",
       "      <th>4</th>\n",
       "      <td>1751</td>\n",
       "      <td>173</td>\n",
       "      <td>8.992</td>\n",
       "    </tr>\n",
       "    <tr>\n",
       "      <th>5</th>\n",
       "      <td>764</td>\n",
       "      <td>89</td>\n",
       "      <td>10.434</td>\n",
       "    </tr>\n",
       "    <tr>\n",
       "      <th>6</th>\n",
       "      <td>338</td>\n",
       "      <td>38</td>\n",
       "      <td>10.106</td>\n",
       "    </tr>\n",
       "    <tr>\n",
       "      <th>7</th>\n",
       "      <td>96</td>\n",
       "      <td>11</td>\n",
       "      <td>10.280</td>\n",
       "    </tr>\n",
       "    <tr>\n",
       "      <th>8</th>\n",
       "      <td>21</td>\n",
       "      <td>2</td>\n",
       "      <td>8.696</td>\n",
       "    </tr>\n",
       "    <tr>\n",
       "      <th>9</th>\n",
       "      <td>1</td>\n",
       "      <td>0</td>\n",
       "      <td>0.000</td>\n",
       "    </tr>\n",
       "  </tbody>\n",
       "</table>\n",
       "</div>"
      ],
      "text/plain": [
       "performance    0.0   1.0  delinq%\n",
       "30_dpd_12m                       \n",
       "0            43541  1316    2.934\n",
       "1            10956   518    4.515\n",
       "2             5665   451    7.374\n",
       "3             3787   349    8.438\n",
       "4             1751   173    8.992\n",
       "5              764    89   10.434\n",
       "6              338    38   10.106\n",
       "7               96    11   10.280\n",
       "8               21     2    8.696\n",
       "9                1     0    0.000"
      ]
     },
     "execution_count": 145,
     "metadata": {},
     "output_type": "execute_result"
    }
   ],
   "source": [
    "catg_analysis('30_dpd_12m')"
   ]
  },
  {
   "cell_type": "markdown",
   "metadata": {},
   "source": [
    "## Model Building"
   ]
  },
  {
   "cell_type": "markdown",
   "metadata": {},
   "source": [
    "### separating the rows with no performance tag"
   ]
  },
  {
   "cell_type": "code",
   "execution_count": 146,
   "metadata": {
    "ExecuteTime": {
     "end_time": "2019-09-15T14:58:20.641361Z",
     "start_time": "2019-09-15T14:58:20.636369Z"
    }
   },
   "outputs": [],
   "source": [
    "no_perf_set = df.loc[df['performance'].isna(),:]"
   ]
  },
  {
   "cell_type": "code",
   "execution_count": 147,
   "metadata": {
    "ExecuteTime": {
     "end_time": "2019-09-15T14:58:21.056936Z",
     "start_time": "2019-09-15T14:58:21.052947Z"
    }
   },
   "outputs": [
    {
     "data": {
      "text/plain": [
       "(1425, 44)"
      ]
     },
     "execution_count": 147,
     "metadata": {},
     "output_type": "execute_result"
    }
   ],
   "source": [
    "no_perf_set.shape"
   ]
  },
  {
   "cell_type": "code",
   "execution_count": 148,
   "metadata": {
    "ExecuteTime": {
     "end_time": "2019-09-15T14:58:21.417194Z",
     "start_time": "2019-09-15T14:58:21.413206Z"
    }
   },
   "outputs": [
    {
     "data": {
      "text/plain": [
       "(71292, 44)"
      ]
     },
     "execution_count": 148,
     "metadata": {},
     "output_type": "execute_result"
    }
   ],
   "source": [
    "df.shape"
   ]
  },
  {
   "cell_type": "code",
   "execution_count": 149,
   "metadata": {
    "ExecuteTime": {
     "end_time": "2019-09-15T14:58:21.841718Z",
     "start_time": "2019-09-15T14:58:21.828748Z"
    }
   },
   "outputs": [],
   "source": [
    "df = df.loc[~df['performance'].isna(),:]"
   ]
  },
  {
   "cell_type": "code",
   "execution_count": 150,
   "metadata": {
    "ExecuteTime": {
     "end_time": "2019-09-15T14:58:22.239803Z",
     "start_time": "2019-09-15T14:58:22.235815Z"
    }
   },
   "outputs": [
    {
     "data": {
      "text/plain": [
       "(69867, 44)"
      ]
     },
     "execution_count": 150,
     "metadata": {},
     "output_type": "execute_result"
    }
   ],
   "source": [
    "df.shape"
   ]
  },
  {
   "cell_type": "markdown",
   "metadata": {},
   "source": [
    "### train test split"
   ]
  },
  {
   "cell_type": "code",
   "execution_count": 151,
   "metadata": {
    "ExecuteTime": {
     "end_time": "2019-09-15T14:58:25.064559Z",
     "start_time": "2019-09-15T14:58:24.164963Z"
    }
   },
   "outputs": [],
   "source": [
    "from sklearn.model_selection import train_test_split"
   ]
  },
  {
   "cell_type": "code",
   "execution_count": 152,
   "metadata": {
    "ExecuteTime": {
     "end_time": "2019-09-15T14:58:27.104226Z",
     "start_time": "2019-09-15T14:58:27.093256Z"
    }
   },
   "outputs": [],
   "source": [
    "y = df['performance']\n",
    "X = df.drop(columns='performance', axis=1)"
   ]
  },
  {
   "cell_type": "code",
   "execution_count": 153,
   "metadata": {
    "ExecuteTime": {
     "end_time": "2019-09-15T14:58:27.463661Z",
     "start_time": "2019-09-15T14:58:27.428732Z"
    }
   },
   "outputs": [],
   "source": [
    "X_train, X_test, y_train, y_test = train_test_split(X, y, test_size=0.33, random_state=101, stratify=y)"
   ]
  },
  {
   "cell_type": "code",
   "execution_count": 154,
   "metadata": {
    "ExecuteTime": {
     "end_time": "2019-09-15T14:58:27.955222Z",
     "start_time": "2019-09-15T14:58:27.949238Z"
    }
   },
   "outputs": [],
   "source": [
    "# storing the ids separately\n",
    "X_train_ids = X_train.pop('id')\n",
    "X_test_ids = X_test.pop('id')"
   ]
  },
  {
   "cell_type": "markdown",
   "metadata": {},
   "source": [
    "### Logistic Regression model with only demographic data"
   ]
  },
  {
   "cell_type": "code",
   "execution_count": 155,
   "metadata": {
    "ExecuteTime": {
     "end_time": "2019-09-15T14:58:28.896581Z",
     "start_time": "2019-09-15T14:58:28.892609Z"
    }
   },
   "outputs": [
    {
     "data": {
      "text/plain": [
       "Index(['Application ID', 'Age', 'Gender',\n",
       "       'Marital Status (at the time of application)', 'No of dependents',\n",
       "       'Income', 'Education', 'Profession ', 'Type of residence',\n",
       "       'No of months in current residence', 'No of months in current company',\n",
       "       'Performance Tag'],\n",
       "      dtype='object')"
      ]
     },
     "execution_count": 155,
     "metadata": {},
     "output_type": "execute_result"
    }
   ],
   "source": [
    "demo.columns"
   ]
  },
  {
   "cell_type": "code",
   "execution_count": 156,
   "metadata": {
    "ExecuteTime": {
     "end_time": "2019-09-15T14:58:29.464336Z",
     "start_time": "2019-09-15T14:58:29.460347Z"
    }
   },
   "outputs": [
    {
     "data": {
      "text/plain": [
       "Index(['id', 'age', 'gender', 'marital', 'no_of_dependents', 'income',\n",
       "       'education', 'profession', 'residence_type', 'months_curr_residence',\n",
       "       'months_curr_company', '90_dpd_6m', '60_dpd_6m', '30_dpd_6m',\n",
       "       '90_dpd_12m', '60_dpd_12m', '30_dpd_12m', 'cc_util', 'trades_6m',\n",
       "       'trades_12m', 'pl_trades_6m', 'pl_trades_12m', 'inquiries_6m',\n",
       "       'inquiries_12m', 'open_home_loan', 'outstanding_bal', 'total_trades',\n",
       "       'open_auto_loan', 'performance', 'income-bin', 'edu_Bachelor',\n",
       "       'edu_Masters', 'edu_Others', 'edu_Phd', 'edu_Professional', 'prof_SAL',\n",
       "       'prof_SE', 'prof_SE_PROF', 'res_type_Company provided',\n",
       "       'res_type_Living with Parents', 'res_type_Others', 'res_type_Owned',\n",
       "       'res_type_Rented', 'obal_adj'],\n",
       "      dtype='object')"
      ]
     },
     "execution_count": 156,
     "metadata": {},
     "output_type": "execute_result"
    }
   ],
   "source": [
    "df.columns"
   ]
  },
  {
   "cell_type": "code",
   "execution_count": 157,
   "metadata": {
    "ExecuteTime": {
     "end_time": "2019-09-15T14:58:29.970456Z",
     "start_time": "2019-09-15T14:58:29.966468Z"
    }
   },
   "outputs": [],
   "source": [
    "demo_col = ['age', 'gender', 'marital', 'no_of_dependents', 'income-bin',\n",
    "       'edu_Bachelor', 'edu_Masters', 'edu_Others', 'edu_Phd', 'edu_Professional',\n",
    "       'prof_SAL', 'prof_SE', 'prof_SE_PROF',\n",
    "       'res_type_Company provided', 'res_type_Living with Parents', 'res_type_Others', 'res_type_Owned','res_type_Rented',\n",
    "       'months_curr_residence','months_curr_company']"
   ]
  },
  {
   "cell_type": "code",
   "execution_count": 158,
   "metadata": {
    "ExecuteTime": {
     "end_time": "2019-09-15T14:58:30.678851Z",
     "start_time": "2019-09-15T14:58:30.548159Z"
    }
   },
   "outputs": [],
   "source": [
    "from sklearn.preprocessing import StandardScaler\n",
    "from sklearn.linear_model import LogisticRegression\n",
    "from sklearn.model_selection import GridSearchCV\n",
    "from sklearn.pipeline import Pipeline\n",
    "from sklearn.metrics import confusion_matrix, classification_report, accuracy_score"
   ]
  },
  {
   "cell_type": "markdown",
   "metadata": {},
   "source": [
    "#### Without SMOTE and PCA"
   ]
  },
  {
   "cell_type": "code",
   "execution_count": 159,
   "metadata": {
    "ExecuteTime": {
     "end_time": "2019-09-15T14:58:31.422911Z",
     "start_time": "2019-09-15T14:58:31.419918Z"
    }
   },
   "outputs": [],
   "source": [
    "from sklearn.model_selection import StratifiedKFold\n",
    "folds = 3\n",
    "skf = StratifiedKFold(n_splits=folds, shuffle = True, random_state = 101)"
   ]
  },
  {
   "cell_type": "code",
   "execution_count": 160,
   "metadata": {
    "ExecuteTime": {
     "end_time": "2019-09-15T14:58:33.431624Z",
     "start_time": "2019-09-15T14:58:33.428656Z"
    }
   },
   "outputs": [],
   "source": [
    "pipe = Pipeline([\n",
    "        ('scale', StandardScaler()),\n",
    "        ('clf', LogisticRegression(class_weight='balanced', solver='liblinear', penalty='l1'))])"
   ]
  },
  {
   "cell_type": "code",
   "execution_count": 161,
   "metadata": {
    "ExecuteTime": {
     "end_time": "2019-09-15T14:58:34.174704Z",
     "start_time": "2019-09-15T14:58:34.172677Z"
    }
   },
   "outputs": [],
   "source": [
    "param_grid = dict(clf__C=[ 0.01, 0.005, 0.001],\n",
    "                  clf__intercept_scaling=[1, 1.25])"
   ]
  },
  {
   "cell_type": "code",
   "execution_count": 162,
   "metadata": {
    "ExecuteTime": {
     "end_time": "2019-09-15T14:58:34.923526Z",
     "start_time": "2019-09-15T14:58:34.916519Z"
    }
   },
   "outputs": [],
   "source": [
    "grid = GridSearchCV(pipe,\n",
    "                    param_grid=param_grid,\n",
    "                    cv=skf.split(X_train[demo_col], y_train),\n",
    "                    n_jobs=-1,\n",
    "                    verbose=10,\n",
    "                    scoring= 'roc_auc',\n",
    "                    return_train_score=True)"
   ]
  },
  {
   "cell_type": "code",
   "execution_count": 163,
   "metadata": {
    "ExecuteTime": {
     "end_time": "2019-09-15T14:58:38.526343Z",
     "start_time": "2019-09-15T14:58:36.021077Z"
    }
   },
   "outputs": [
    {
     "name": "stdout",
     "output_type": "stream",
     "text": [
      "Fitting 3 folds for each of 6 candidates, totalling 18 fits\n"
     ]
    },
    {
     "name": "stderr",
     "output_type": "stream",
     "text": [
      "[Parallel(n_jobs=-1)]: Using backend LokyBackend with 8 concurrent workers.\n",
      "[Parallel(n_jobs=-1)]: Done   2 tasks      | elapsed:    1.9s\n",
      "[Parallel(n_jobs=-1)]: Done   5 out of  18 | elapsed:    1.9s remaining:    5.1s\n",
      "[Parallel(n_jobs=-1)]: Done   7 out of  18 | elapsed:    1.9s remaining:    3.1s\n",
      "[Parallel(n_jobs=-1)]: Done   9 out of  18 | elapsed:    2.1s remaining:    2.1s\n",
      "[Parallel(n_jobs=-1)]: Done  11 out of  18 | elapsed:    2.2s remaining:    1.3s\n",
      "[Parallel(n_jobs=-1)]: Done  13 out of  18 | elapsed:    2.2s remaining:    0.8s\n",
      "[Parallel(n_jobs=-1)]: Done  15 out of  18 | elapsed:    2.2s remaining:    0.4s\n",
      "[Parallel(n_jobs=-1)]: Done  18 out of  18 | elapsed:    2.3s finished\n",
      "C:\\Users\\Elysium\\Anaconda3\\lib\\site-packages\\sklearn\\preprocessing\\data.py:625: DataConversionWarning: Data with input dtype uint8, int64, float64 were all converted to float64 by StandardScaler.\n",
      "  return self.partial_fit(X, y)\n",
      "C:\\Users\\Elysium\\Anaconda3\\lib\\site-packages\\sklearn\\base.py:465: DataConversionWarning: Data with input dtype uint8, int64, float64 were all converted to float64 by StandardScaler.\n",
      "  return self.fit(X, y, **fit_params).transform(X)\n"
     ]
    },
    {
     "data": {
      "text/plain": [
       "GridSearchCV(cv=<generator object _BaseKFold.split at 0x000001FAD74C91B0>,\n",
       "       error_score='raise-deprecating',\n",
       "       estimator=Pipeline(memory=None,\n",
       "     steps=[('scale', StandardScaler(copy=True, with_mean=True, with_std=True)), ('clf', LogisticRegression(C=1.0, class_weight='balanced', dual=False,\n",
       "          fit_intercept=True, intercept_scaling=1, max_iter=100,\n",
       "          multi_class='warn', n_jobs=None, penalty='l1', random_state=None,\n",
       "          solver='liblinear', tol=0.0001, verbose=0, warm_start=False))]),\n",
       "       fit_params=None, iid='warn', n_jobs=-1,\n",
       "       param_grid={'clf__C': [0.01, 0.005, 0.001], 'clf__intercept_scaling': [1, 1.25]},\n",
       "       pre_dispatch='2*n_jobs', refit=True, return_train_score=True,\n",
       "       scoring='roc_auc', verbose=10)"
      ]
     },
     "execution_count": 163,
     "metadata": {},
     "output_type": "execute_result"
    }
   ],
   "source": [
    "grid.fit(X_train[demo_col], y_train)"
   ]
  },
  {
   "cell_type": "code",
   "execution_count": 164,
   "metadata": {
    "ExecuteTime": {
     "end_time": "2019-09-15T14:58:40.537128Z",
     "start_time": "2019-09-15T14:58:40.533140Z"
    }
   },
   "outputs": [
    {
     "name": "stdout",
     "output_type": "stream",
     "text": [
      "0.5640808706368753\n"
     ]
    },
    {
     "data": {
      "text/plain": [
       "{'clf__C': 0.005, 'clf__intercept_scaling': 1}"
      ]
     },
     "execution_count": 164,
     "metadata": {},
     "output_type": "execute_result"
    }
   ],
   "source": [
    "print(grid.best_score_)\n",
    "grid.best_params_"
   ]
  },
  {
   "cell_type": "markdown",
   "metadata": {},
   "source": [
    "##### Evaluation Metrics"
   ]
  },
  {
   "cell_type": "code",
   "execution_count": 166,
   "metadata": {
    "ExecuteTime": {
     "end_time": "2019-09-15T14:58:53.173733Z",
     "start_time": "2019-09-15T14:58:53.164724Z"
    }
   },
   "outputs": [],
   "source": [
    "from sklearn.metrics import roc_auc_score, precision_score\n",
    "def evaluate(name, grid, X_train, y_train, X_test, y_test):\n",
    "    metrics = pd.DataFrame()\n",
    "    if hasattr(grid,'best_estimator_'):\n",
    "        mod = grid.best_estimator_\n",
    "    else:\n",
    "        mod = grid\n",
    "    \n",
    "    y_pred_tr = mod.predict(X_train)\n",
    "    cm_tr = confusion_matrix(y_train, y_pred_tr)\n",
    "    \n",
    "    metrics.loc['Train Accuracy', name] = accuracy_score(y_train, y_pred_tr)\n",
    "    metrics.loc['CM row1 - Train', name] = str(cm_tr[0,0])+', '+str(cm_tr[0,1])\n",
    "    metrics.loc['row2 - Train', name] = str(cm_tr[1,0])+', '+str(cm_tr[1,1])\n",
    "    metrics.loc['Train Specificity', name] = round(cm_tr[1,1]/(cm_tr[1,0]+cm_tr[1,1]), 3)\n",
    "    metrics.loc['Train Sensitivity/Recall', name] = round(cm_tr[1,1]/(cm_tr[1,1]+cm_tr[0,1]), 3)\n",
    "    metrics.loc['Train Precision', name] = precision_score(y_train, y_pred_tr)\n",
    "    metrics.loc['Train AUC', name] = roc_auc_score(y_train, y_pred_tr)\n",
    "    \n",
    "    \n",
    "    y_pred_te = mod.predict(X_test)\n",
    "    cm_te = confusion_matrix(y_test, y_pred_te)\n",
    "    metrics.loc['Test Accuracy', name] = accuracy_score(y_test, y_pred_te)\n",
    "    metrics.loc['CM row1 - Test', name] = str(cm_te[0,0])+', '+str(cm_te[0,1])\n",
    "    metrics.loc['row2 - Test', name] = str(cm_te[1,0])+', '+str(cm_te[1,1])\n",
    "    metrics.loc['Test Specificity', name] = round(cm_te[1,1]/(cm_te[1,0]+cm_te[1,1]), 3)\n",
    "    metrics.loc['Test Sensitivity/Recall', name] = round(cm_te[1,1]/(cm_te[1,1]+cm_te[0,1]), 3)\n",
    "    metrics.loc['Test Precision', name] = precision_score(y_test, y_pred_te)\n",
    "    metrics.loc['Test AUC', name] = roc_auc_score(y_test, y_pred_te)\n",
    "    \n",
    "    return metrics"
   ]
  },
  {
   "cell_type": "code",
   "execution_count": 167,
   "metadata": {
    "ExecuteTime": {
     "end_time": "2019-09-15T14:58:54.621038Z",
     "start_time": "2019-09-15T14:58:54.508362Z"
    }
   },
   "outputs": [
    {
     "name": "stderr",
     "output_type": "stream",
     "text": [
      "C:\\Users\\Elysium\\Anaconda3\\lib\\site-packages\\sklearn\\pipeline.py:331: DataConversionWarning: Data with input dtype uint8, int64, float64 were all converted to float64 by StandardScaler.\n",
      "  Xt = transform.transform(Xt)\n",
      "C:\\Users\\Elysium\\Anaconda3\\lib\\site-packages\\sklearn\\pipeline.py:331: DataConversionWarning: Data with input dtype uint8, int64, float64 were all converted to float64 by StandardScaler.\n",
      "  Xt = transform.transform(Xt)\n"
     ]
    },
    {
     "data": {
      "text/html": [
       "<div>\n",
       "<style scoped>\n",
       "    .dataframe tbody tr th:only-of-type {\n",
       "        vertical-align: middle;\n",
       "    }\n",
       "\n",
       "    .dataframe tbody tr th {\n",
       "        vertical-align: top;\n",
       "    }\n",
       "\n",
       "    .dataframe thead th {\n",
       "        text-align: right;\n",
       "    }\n",
       "</style>\n",
       "<table border=\"1\" class=\"dataframe\">\n",
       "  <thead>\n",
       "    <tr style=\"text-align: right;\">\n",
       "      <th></th>\n",
       "      <th>LR_demo</th>\n",
       "    </tr>\n",
       "  </thead>\n",
       "  <tbody>\n",
       "    <tr>\n",
       "      <th>Train Accuracy</th>\n",
       "      <td>0.531104</td>\n",
       "    </tr>\n",
       "    <tr>\n",
       "      <th>CM row1 - Train</th>\n",
       "      <td>23716, 21120</td>\n",
       "    </tr>\n",
       "    <tr>\n",
       "      <th>row2 - Train</th>\n",
       "      <td>829, 1145</td>\n",
       "    </tr>\n",
       "    <tr>\n",
       "      <th>Train Specificity</th>\n",
       "      <td>0.58</td>\n",
       "    </tr>\n",
       "    <tr>\n",
       "      <th>Train Sensitivity/Recall</th>\n",
       "      <td>0.051</td>\n",
       "    </tr>\n",
       "    <tr>\n",
       "      <th>Train Precision</th>\n",
       "      <td>0.051426</td>\n",
       "    </tr>\n",
       "    <tr>\n",
       "      <th>Train AUC</th>\n",
       "      <td>0.554495</td>\n",
       "    </tr>\n",
       "    <tr>\n",
       "      <th>Test Accuracy</th>\n",
       "      <td>0.524613</td>\n",
       "    </tr>\n",
       "    <tr>\n",
       "      <th>CM row1 - Test</th>\n",
       "      <td>11570, 10514</td>\n",
       "    </tr>\n",
       "    <tr>\n",
       "      <th>row2 - Test</th>\n",
       "      <td>447, 526</td>\n",
       "    </tr>\n",
       "    <tr>\n",
       "      <th>Test Specificity</th>\n",
       "      <td>0.541</td>\n",
       "    </tr>\n",
       "    <tr>\n",
       "      <th>Test Sensitivity/Recall</th>\n",
       "      <td>0.048</td>\n",
       "    </tr>\n",
       "    <tr>\n",
       "      <th>Test Precision</th>\n",
       "      <td>0.0476449</td>\n",
       "    </tr>\n",
       "    <tr>\n",
       "      <th>Test AUC</th>\n",
       "      <td>0.532252</td>\n",
       "    </tr>\n",
       "  </tbody>\n",
       "</table>\n",
       "</div>"
      ],
      "text/plain": [
       "                               LR_demo\n",
       "Train Accuracy                0.531104\n",
       "CM row1 - Train           23716, 21120\n",
       "row2 - Train                 829, 1145\n",
       "Train Specificity                 0.58\n",
       "Train Sensitivity/Recall         0.051\n",
       "Train Precision               0.051426\n",
       "Train AUC                     0.554495\n",
       "Test Accuracy                 0.524613\n",
       "CM row1 - Test            11570, 10514\n",
       "row2 - Test                   447, 526\n",
       "Test Specificity                 0.541\n",
       "Test Sensitivity/Recall          0.048\n",
       "Test Precision               0.0476449\n",
       "Test AUC                      0.532252"
      ]
     },
     "execution_count": 167,
     "metadata": {},
     "output_type": "execute_result"
    }
   ],
   "source": [
    "LR_demo = evaluate('LR_demo', grid, X_train[demo_col], y_train, X_test[demo_col], y_test)\n",
    "LR_demo"
   ]
  },
  {
   "cell_type": "markdown",
   "metadata": {},
   "source": [
    "#### Using PCA"
   ]
  },
  {
   "cell_type": "code",
   "execution_count": 168,
   "metadata": {
    "ExecuteTime": {
     "end_time": "2019-09-15T15:00:09.695840Z",
     "start_time": "2019-09-15T15:00:09.668886Z"
    }
   },
   "outputs": [],
   "source": [
    "from sklearn.decomposition import PCA"
   ]
  },
  {
   "cell_type": "code",
   "execution_count": 169,
   "metadata": {
    "ExecuteTime": {
     "end_time": "2019-09-15T15:00:10.208454Z",
     "start_time": "2019-09-15T15:00:10.084809Z"
    }
   },
   "outputs": [],
   "source": [
    "pca = PCA(n_components=10)\n",
    "X_train_pca = pca.fit_transform(X_train[demo_col])"
   ]
  },
  {
   "cell_type": "code",
   "execution_count": 170,
   "metadata": {
    "ExecuteTime": {
     "end_time": "2019-09-15T15:00:10.709620Z",
     "start_time": "2019-09-15T15:00:10.629834Z"
    }
   },
   "outputs": [
    {
     "data": {
      "image/png": "[encoded data removed]",
      "text/plain": [
       "<Figure size 432x288 with 1 Axes>"
      ]
     },
     "metadata": {
      "needs_background": "light"
     },
     "output_type": "display_data"
    }
   ],
   "source": [
    "plt.plot(np.cumsum(pca.explained_variance_ratio_))\n",
    "plt.xlabel('number of components')\n",
    "plt.ylabel('cumulative explained variance')\n",
    "plt.show()"
   ]
  },
  {
   "cell_type": "code",
   "execution_count": 171,
   "metadata": {
    "ExecuteTime": {
     "end_time": "2019-09-15T15:00:11.153953Z",
     "start_time": "2019-09-15T15:00:11.077159Z"
    }
   },
   "outputs": [],
   "source": [
    "pca = PCA(n_components=2)\n",
    "X_train_pca = pca.fit_transform(X_train[demo_col])"
   ]
  },
  {
   "cell_type": "code",
   "execution_count": 172,
   "metadata": {
    "ExecuteTime": {
     "end_time": "2019-09-15T15:00:11.600894Z",
     "start_time": "2019-09-15T15:00:11.595907Z"
    }
   },
   "outputs": [],
   "source": [
    "folds = 3\n",
    "skf = StratifiedKFold(n_splits=folds, shuffle = True, random_state = 101)\n",
    "pipe = Pipeline([\n",
    "        ('scale', StandardScaler()),\n",
    "        ('clf', LogisticRegression(class_weight='balanced', solver='liblinear', penalty='l1'))])\n",
    "param_grid = dict(clf__C=[0.5, 0.01, 0.005, 0.001])\n",
    "grid = GridSearchCV(pipe,\n",
    "                    param_grid=param_grid,\n",
    "                    cv=skf.split(X_train_pca, y_train),\n",
    "                    n_jobs=-1,\n",
    "                    verbose=10,\n",
    "                    scoring= 'roc_auc',\n",
    "                    return_train_score=True)"
   ]
  },
  {
   "cell_type": "code",
   "execution_count": 173,
   "metadata": {
    "ExecuteTime": {
     "end_time": "2019-09-15T15:00:12.224988Z",
     "start_time": "2019-09-15T15:00:12.037489Z"
    }
   },
   "outputs": [
    {
     "name": "stdout",
     "output_type": "stream",
     "text": [
      "Fitting 3 folds for each of 4 candidates, totalling 12 fits\n"
     ]
    },
    {
     "name": "stderr",
     "output_type": "stream",
     "text": [
      "[Parallel(n_jobs=-1)]: Using backend LokyBackend with 8 concurrent workers.\n",
      "[Parallel(n_jobs=-1)]: Done   1 tasks      | elapsed:    0.0s\n",
      "[Parallel(n_jobs=-1)]: Batch computation too fast (0.0698s.) Setting batch_size=4.\n",
      "[Parallel(n_jobs=-1)]: Done   3 out of  12 | elapsed:    0.0s remaining:    0.2s\n",
      "[Parallel(n_jobs=-1)]: Done   5 out of  12 | elapsed:    0.0s remaining:    0.0s\n",
      "[Parallel(n_jobs=-1)]: Done   7 out of  12 | elapsed:    0.0s remaining:    0.0s\n",
      "[Parallel(n_jobs=-1)]: Done   9 out of  12 | elapsed:    0.0s remaining:    0.0s\n",
      "[Parallel(n_jobs=-1)]: Done  12 out of  12 | elapsed:    0.0s finished\n"
     ]
    },
    {
     "data": {
      "text/plain": [
       "GridSearchCV(cv=<generator object _BaseKFold.split at 0x000001FAD7819F48>,\n",
       "       error_score='raise-deprecating',\n",
       "       estimator=Pipeline(memory=None,\n",
       "     steps=[('scale', StandardScaler(copy=True, with_mean=True, with_std=True)), ('clf', LogisticRegression(C=1.0, class_weight='balanced', dual=False,\n",
       "          fit_intercept=True, intercept_scaling=1, max_iter=100,\n",
       "          multi_class='warn', n_jobs=None, penalty='l1', random_state=None,\n",
       "          solver='liblinear', tol=0.0001, verbose=0, warm_start=False))]),\n",
       "       fit_params=None, iid='warn', n_jobs=-1,\n",
       "       param_grid={'clf__C': [0.5, 0.01, 0.005, 0.001]},\n",
       "       pre_dispatch='2*n_jobs', refit=True, return_train_score=True,\n",
       "       scoring='roc_auc', verbose=10)"
      ]
     },
     "execution_count": 173,
     "metadata": {},
     "output_type": "execute_result"
    }
   ],
   "source": [
    "grid.fit(X_train_pca, y_train)"
   ]
  },
  {
   "cell_type": "code",
   "execution_count": 174,
   "metadata": {
    "ExecuteTime": {
     "end_time": "2019-09-15T15:00:12.520711Z",
     "start_time": "2019-09-15T15:00:12.516740Z"
    }
   },
   "outputs": [
    {
     "data": {
      "text/plain": [
       "({'clf__C': 0.01}, 0.5385226809214937)"
      ]
     },
     "execution_count": 174,
     "metadata": {},
     "output_type": "execute_result"
    }
   ],
   "source": [
    "grid.best_params_, grid.best_score_"
   ]
  },
  {
   "cell_type": "markdown",
   "metadata": {},
   "source": [
    "##### Evaluation Metrics"
   ]
  },
  {
   "cell_type": "code",
   "execution_count": 175,
   "metadata": {
    "ExecuteTime": {
     "end_time": "2019-09-15T15:00:21.464864Z",
     "start_time": "2019-09-15T15:00:21.365105Z"
    }
   },
   "outputs": [
    {
     "data": {
      "text/html": [
       "<div>\n",
       "<style scoped>\n",
       "    .dataframe tbody tr th:only-of-type {\n",
       "        vertical-align: middle;\n",
       "    }\n",
       "\n",
       "    .dataframe tbody tr th {\n",
       "        vertical-align: top;\n",
       "    }\n",
       "\n",
       "    .dataframe thead th {\n",
       "        text-align: right;\n",
       "    }\n",
       "</style>\n",
       "<table border=\"1\" class=\"dataframe\">\n",
       "  <thead>\n",
       "    <tr style=\"text-align: right;\">\n",
       "      <th></th>\n",
       "      <th>LR_demo</th>\n",
       "      <th>PCA_demo</th>\n",
       "    </tr>\n",
       "  </thead>\n",
       "  <tbody>\n",
       "    <tr>\n",
       "      <th>Train Accuracy</th>\n",
       "      <td>0.531104</td>\n",
       "      <td>0.504273</td>\n",
       "    </tr>\n",
       "    <tr>\n",
       "      <th>CM row1 - Train</th>\n",
       "      <td>23716, 21120</td>\n",
       "      <td>22485, 22351</td>\n",
       "    </tr>\n",
       "    <tr>\n",
       "      <th>row2 - Train</th>\n",
       "      <td>829, 1145</td>\n",
       "      <td>854, 1120</td>\n",
       "    </tr>\n",
       "    <tr>\n",
       "      <th>Train Specificity</th>\n",
       "      <td>0.58</td>\n",
       "      <td>0.567</td>\n",
       "    </tr>\n",
       "    <tr>\n",
       "      <th>Train Sensitivity/Recall</th>\n",
       "      <td>0.051</td>\n",
       "      <td>0.048</td>\n",
       "    </tr>\n",
       "    <tr>\n",
       "      <th>Train Precision</th>\n",
       "      <td>0.051426</td>\n",
       "      <td>0.0477185</td>\n",
       "    </tr>\n",
       "    <tr>\n",
       "      <th>Train AUC</th>\n",
       "      <td>0.554495</td>\n",
       "      <td>0.534435</td>\n",
       "    </tr>\n",
       "    <tr>\n",
       "      <th>Test Accuracy</th>\n",
       "      <td>0.524613</td>\n",
       "      <td>0.501279</td>\n",
       "    </tr>\n",
       "    <tr>\n",
       "      <th>CM row1 - Test</th>\n",
       "      <td>11570, 10514</td>\n",
       "      <td>11034, 11050</td>\n",
       "    </tr>\n",
       "    <tr>\n",
       "      <th>row2 - Test</th>\n",
       "      <td>447, 526</td>\n",
       "      <td>449, 524</td>\n",
       "    </tr>\n",
       "    <tr>\n",
       "      <th>Test Specificity</th>\n",
       "      <td>0.541</td>\n",
       "      <td>0.539</td>\n",
       "    </tr>\n",
       "    <tr>\n",
       "      <th>Test Sensitivity/Recall</th>\n",
       "      <td>0.048</td>\n",
       "      <td>0.045</td>\n",
       "    </tr>\n",
       "    <tr>\n",
       "      <th>Test Precision</th>\n",
       "      <td>0.0476449</td>\n",
       "      <td>0.0452739</td>\n",
       "    </tr>\n",
       "    <tr>\n",
       "      <th>Test AUC</th>\n",
       "      <td>0.532252</td>\n",
       "      <td>0.519089</td>\n",
       "    </tr>\n",
       "  </tbody>\n",
       "</table>\n",
       "</div>"
      ],
      "text/plain": [
       "                               LR_demo      PCA_demo\n",
       "Train Accuracy                0.531104      0.504273\n",
       "CM row1 - Train           23716, 21120  22485, 22351\n",
       "row2 - Train                 829, 1145     854, 1120\n",
       "Train Specificity                 0.58         0.567\n",
       "Train Sensitivity/Recall         0.051         0.048\n",
       "Train Precision               0.051426     0.0477185\n",
       "Train AUC                     0.554495      0.534435\n",
       "Test Accuracy                 0.524613      0.501279\n",
       "CM row1 - Test            11570, 10514  11034, 11050\n",
       "row2 - Test                   447, 526      449, 524\n",
       "Test Specificity                 0.541         0.539\n",
       "Test Sensitivity/Recall          0.048         0.045\n",
       "Test Precision               0.0476449     0.0452739\n",
       "Test AUC                      0.532252      0.519089"
      ]
     },
     "execution_count": 175,
     "metadata": {},
     "output_type": "execute_result"
    }
   ],
   "source": [
    "PCA_demo = evaluate('PCA_demo', grid, X_train_pca, y_train, \n",
    "                    pca.transform(X_test[demo_col]), y_test)\n",
    "metrics = pd.concat([LR_demo, PCA_demo], axis=1)\n",
    "metrics"
   ]
  },
  {
   "cell_type": "markdown",
   "metadata": {},
   "source": [
    "#### Using SMOTE and PCA"
   ]
  },
  {
   "cell_type": "code",
   "execution_count": 176,
   "metadata": {
    "ExecuteTime": {
     "end_time": "2019-09-15T15:00:25.578037Z",
     "start_time": "2019-09-15T15:00:25.567067Z"
    }
   },
   "outputs": [],
   "source": [
    "from imblearn.over_sampling import SMOTE"
   ]
  },
  {
   "cell_type": "code",
   "execution_count": 177,
   "metadata": {
    "ExecuteTime": {
     "end_time": "2019-09-15T15:00:26.074277Z",
     "start_time": "2019-09-15T15:00:25.891737Z"
    }
   },
   "outputs": [],
   "source": [
    "sm = SMOTE(random_state=101, ratio=1.0)\n",
    "X_train_SMOTE, y_train_SMOTE = sm.fit_sample(X_train[demo_col], y_train)"
   ]
  },
  {
   "cell_type": "code",
   "execution_count": 178,
   "metadata": {
    "ExecuteTime": {
     "end_time": "2019-09-15T15:00:27.347056Z",
     "start_time": "2019-09-15T15:00:27.003974Z"
    }
   },
   "outputs": [
    {
     "data": {
      "text/plain": [
       "Text(0, 0.5, 'cumulative explained variance')"
      ]
     },
     "execution_count": 178,
     "metadata": {},
     "output_type": "execute_result"
    },
    {
     "data": {
      "image/png": "[encoded data removed]",
      "text/plain": [
       "<Figure size 432x288 with 1 Axes>"
      ]
     },
     "metadata": {
      "needs_background": "light"
     },
     "output_type": "display_data"
    }
   ],
   "source": [
    "pca = PCA(n_components=10)\n",
    "X_train_pca = pca.fit_transform(X_train_SMOTE)\n",
    "plt.plot(np.cumsum(pca.explained_variance_ratio_))\n",
    "plt.xlabel('number of components')\n",
    "plt.ylabel('cumulative explained variance')"
   ]
  },
  {
   "cell_type": "code",
   "execution_count": 179,
   "metadata": {
    "ExecuteTime": {
     "end_time": "2019-09-15T15:00:27.641270Z",
     "start_time": "2019-09-15T15:00:27.484691Z"
    }
   },
   "outputs": [],
   "source": [
    "pca = PCA(n_components=2)\n",
    "X_train_pca = pca.fit_transform(X_train_SMOTE)"
   ]
  },
  {
   "cell_type": "code",
   "execution_count": 180,
   "metadata": {
    "ExecuteTime": {
     "end_time": "2019-09-15T15:00:28.105134Z",
     "start_time": "2019-09-15T15:00:28.100148Z"
    }
   },
   "outputs": [],
   "source": [
    "folds = 3\n",
    "skf = StratifiedKFold(n_splits=folds, shuffle = True, random_state = 101)\n",
    "pipe = Pipeline([\n",
    "        ('scale', StandardScaler()),\n",
    "        ('clf', LogisticRegression(class_weight='balanced', solver='liblinear', penalty='l1'))])\n",
    "param_grid = dict(clf__C=[0.5, 0.01, 0.005, 0.001])\n",
    "grid = GridSearchCV(pipe,\n",
    "                    param_grid=param_grid,\n",
    "                    cv=skf.split(X_train_pca, y_train_SMOTE),\n",
    "                    n_jobs=-1,\n",
    "                    verbose=10,\n",
    "                    scoring= 'roc_auc',\n",
    "                    return_train_score=True)"
   ]
  },
  {
   "cell_type": "code",
   "execution_count": 181,
   "metadata": {
    "ExecuteTime": {
     "end_time": "2019-09-15T15:00:28.969741Z",
     "start_time": "2019-09-15T15:00:28.644611Z"
    }
   },
   "outputs": [
    {
     "name": "stdout",
     "output_type": "stream",
     "text": [
      "Fitting 3 folds for each of 4 candidates, totalling 12 fits\n"
     ]
    },
    {
     "name": "stderr",
     "output_type": "stream",
     "text": [
      "[Parallel(n_jobs=-1)]: Using backend LokyBackend with 8 concurrent workers.\n",
      "[Parallel(n_jobs=-1)]: Done   1 tasks      | elapsed:    0.0s\n",
      "[Parallel(n_jobs=-1)]: Batch computation too fast (0.1406s.) Setting batch_size=2.\n",
      "[Parallel(n_jobs=-1)]: Done   3 out of  12 | elapsed:    0.1s remaining:    0.4s\n",
      "[Parallel(n_jobs=-1)]: Done   5 out of  12 | elapsed:    0.1s remaining:    0.1s\n",
      "[Parallel(n_jobs=-1)]: Done   7 out of  12 | elapsed:    0.1s remaining:    0.0s\n",
      "[Parallel(n_jobs=-1)]: Done   9 out of  12 | elapsed:    0.1s remaining:    0.0s\n",
      "[Parallel(n_jobs=-1)]: Done  12 out of  12 | elapsed:    0.2s finished\n"
     ]
    },
    {
     "data": {
      "text/plain": [
       "GridSearchCV(cv=<generator object _BaseKFold.split at 0x000001FAD75E1930>,\n",
       "       error_score='raise-deprecating',\n",
       "       estimator=Pipeline(memory=None,\n",
       "     steps=[('scale', StandardScaler(copy=True, with_mean=True, with_std=True)), ('clf', LogisticRegression(C=1.0, class_weight='balanced', dual=False,\n",
       "          fit_intercept=True, intercept_scaling=1, max_iter=100,\n",
       "          multi_class='warn', n_jobs=None, penalty='l1', random_state=None,\n",
       "          solver='liblinear', tol=0.0001, verbose=0, warm_start=False))]),\n",
       "       fit_params=None, iid='warn', n_jobs=-1,\n",
       "       param_grid={'clf__C': [0.5, 0.01, 0.005, 0.001]},\n",
       "       pre_dispatch='2*n_jobs', refit=True, return_train_score=True,\n",
       "       scoring='roc_auc', verbose=10)"
      ]
     },
     "execution_count": 181,
     "metadata": {},
     "output_type": "execute_result"
    }
   ],
   "source": [
    "grid.fit(X_train_pca, y_train_SMOTE)"
   ]
  },
  {
   "cell_type": "markdown",
   "metadata": {},
   "source": [
    "##### Evaluation Metrics"
   ]
  },
  {
   "cell_type": "code",
   "execution_count": 182,
   "metadata": {
    "ExecuteTime": {
     "end_time": "2019-09-15T15:00:30.049486Z",
     "start_time": "2019-09-15T15:00:29.908862Z"
    }
   },
   "outputs": [
    {
     "data": {
      "text/html": [
       "<div>\n",
       "<style scoped>\n",
       "    .dataframe tbody tr th:only-of-type {\n",
       "        vertical-align: middle;\n",
       "    }\n",
       "\n",
       "    .dataframe tbody tr th {\n",
       "        vertical-align: top;\n",
       "    }\n",
       "\n",
       "    .dataframe thead th {\n",
       "        text-align: right;\n",
       "    }\n",
       "</style>\n",
       "<table border=\"1\" class=\"dataframe\">\n",
       "  <thead>\n",
       "    <tr style=\"text-align: right;\">\n",
       "      <th></th>\n",
       "      <th>LR_demo</th>\n",
       "      <th>PCA_demo</th>\n",
       "      <th>smote_demo</th>\n",
       "    </tr>\n",
       "  </thead>\n",
       "  <tbody>\n",
       "    <tr>\n",
       "      <th>Train Accuracy</th>\n",
       "      <td>0.531104</td>\n",
       "      <td>0.504273</td>\n",
       "      <td>0.535529</td>\n",
       "    </tr>\n",
       "    <tr>\n",
       "      <th>CM row1 - Train</th>\n",
       "      <td>23716, 21120</td>\n",
       "      <td>22485, 22351</td>\n",
       "      <td>23362, 21474</td>\n",
       "    </tr>\n",
       "    <tr>\n",
       "      <th>row2 - Train</th>\n",
       "      <td>829, 1145</td>\n",
       "      <td>854, 1120</td>\n",
       "      <td>20176, 24660</td>\n",
       "    </tr>\n",
       "    <tr>\n",
       "      <th>Train Specificity</th>\n",
       "      <td>0.58</td>\n",
       "      <td>0.567</td>\n",
       "      <td>0.55</td>\n",
       "    </tr>\n",
       "    <tr>\n",
       "      <th>Train Sensitivity/Recall</th>\n",
       "      <td>0.051</td>\n",
       "      <td>0.048</td>\n",
       "      <td>0.535</td>\n",
       "    </tr>\n",
       "    <tr>\n",
       "      <th>Train Precision</th>\n",
       "      <td>0.051426</td>\n",
       "      <td>0.0477185</td>\n",
       "      <td>0.53453</td>\n",
       "    </tr>\n",
       "    <tr>\n",
       "      <th>Train AUC</th>\n",
       "      <td>0.554495</td>\n",
       "      <td>0.534435</td>\n",
       "      <td>0.535529</td>\n",
       "    </tr>\n",
       "    <tr>\n",
       "      <th>Test Accuracy</th>\n",
       "      <td>0.524613</td>\n",
       "      <td>0.501279</td>\n",
       "      <td>0.518975</td>\n",
       "    </tr>\n",
       "    <tr>\n",
       "      <th>CM row1 - Test</th>\n",
       "      <td>11570, 10514</td>\n",
       "      <td>11034, 11050</td>\n",
       "      <td>11461, 10623</td>\n",
       "    </tr>\n",
       "    <tr>\n",
       "      <th>row2 - Test</th>\n",
       "      <td>447, 526</td>\n",
       "      <td>449, 524</td>\n",
       "      <td>468, 505</td>\n",
       "    </tr>\n",
       "    <tr>\n",
       "      <th>Test Specificity</th>\n",
       "      <td>0.541</td>\n",
       "      <td>0.539</td>\n",
       "      <td>0.519</td>\n",
       "    </tr>\n",
       "    <tr>\n",
       "      <th>Test Sensitivity/Recall</th>\n",
       "      <td>0.048</td>\n",
       "      <td>0.045</td>\n",
       "      <td>0.045</td>\n",
       "    </tr>\n",
       "    <tr>\n",
       "      <th>Test Precision</th>\n",
       "      <td>0.0476449</td>\n",
       "      <td>0.0452739</td>\n",
       "      <td>0.045381</td>\n",
       "    </tr>\n",
       "    <tr>\n",
       "      <th>Test AUC</th>\n",
       "      <td>0.532252</td>\n",
       "      <td>0.519089</td>\n",
       "      <td>0.518993</td>\n",
       "    </tr>\n",
       "  </tbody>\n",
       "</table>\n",
       "</div>"
      ],
      "text/plain": [
       "                               LR_demo      PCA_demo    smote_demo\n",
       "Train Accuracy                0.531104      0.504273      0.535529\n",
       "CM row1 - Train           23716, 21120  22485, 22351  23362, 21474\n",
       "row2 - Train                 829, 1145     854, 1120  20176, 24660\n",
       "Train Specificity                 0.58         0.567          0.55\n",
       "Train Sensitivity/Recall         0.051         0.048         0.535\n",
       "Train Precision               0.051426     0.0477185       0.53453\n",
       "Train AUC                     0.554495      0.534435      0.535529\n",
       "Test Accuracy                 0.524613      0.501279      0.518975\n",
       "CM row1 - Test            11570, 10514  11034, 11050  11461, 10623\n",
       "row2 - Test                   447, 526      449, 524      468, 505\n",
       "Test Specificity                 0.541         0.539         0.519\n",
       "Test Sensitivity/Recall          0.048         0.045         0.045\n",
       "Test Precision               0.0476449     0.0452739      0.045381\n",
       "Test AUC                      0.532252      0.519089      0.518993"
      ]
     },
     "execution_count": 182,
     "metadata": {},
     "output_type": "execute_result"
    }
   ],
   "source": [
    "smote_demo = evaluate('smote_demo', grid, X_train_pca, y_train_SMOTE, \n",
    "                    pca.transform(X_test[demo_col]), y_test)\n",
    "metrics = pd.concat([metrics, smote_demo], axis=1)\n",
    "metrics"
   ]
  },
  {
   "cell_type": "markdown",
   "metadata": {},
   "source": [
    "## Model using demographic and credit bureau data"
   ]
  },
  {
   "cell_type": "markdown",
   "metadata": {},
   "source": [
    "### Logistic Regression"
   ]
  },
  {
   "cell_type": "code",
   "execution_count": 183,
   "metadata": {
    "ExecuteTime": {
     "end_time": "2019-09-15T15:00:31.777491Z",
     "start_time": "2019-09-15T15:00:31.773529Z"
    }
   },
   "outputs": [
    {
     "data": {
      "text/plain": [
       "Index(['id', 'age', 'gender', 'marital', 'no_of_dependents', 'income',\n",
       "       'education', 'profession', 'residence_type', 'months_curr_residence',\n",
       "       'months_curr_company', '90_dpd_6m', '60_dpd_6m', '30_dpd_6m',\n",
       "       '90_dpd_12m', '60_dpd_12m', '30_dpd_12m', 'cc_util', 'trades_6m',\n",
       "       'trades_12m', 'pl_trades_6m', 'pl_trades_12m', 'inquiries_6m',\n",
       "       'inquiries_12m', 'open_home_loan', 'outstanding_bal', 'total_trades',\n",
       "       'open_auto_loan', 'performance', 'income-bin', 'edu_Bachelor',\n",
       "       'edu_Masters', 'edu_Others', 'edu_Phd', 'edu_Professional', 'prof_SAL',\n",
       "       'prof_SE', 'prof_SE_PROF', 'res_type_Company provided',\n",
       "       'res_type_Living with Parents', 'res_type_Others', 'res_type_Owned',\n",
       "       'res_type_Rented', 'obal_adj'],\n",
       "      dtype='object')"
      ]
     },
     "execution_count": 183,
     "metadata": {},
     "output_type": "execute_result"
    }
   ],
   "source": [
    "df.columns"
   ]
  },
  {
   "cell_type": "code",
   "execution_count": 184,
   "metadata": {
    "ExecuteTime": {
     "end_time": "2019-09-15T15:00:32.259021Z",
     "start_time": "2019-09-15T15:00:32.255033Z"
    }
   },
   "outputs": [],
   "source": [
    "cols   = ['age', 'gender', 'marital', 'no_of_dependents', 'income-bin',\n",
    "       'edu_Bachelor', 'edu_Masters', 'edu_Others', 'edu_Phd', 'edu_Professional',\n",
    "       'prof_SAL', 'prof_SE', 'prof_SE_PROF',\n",
    "       'res_type_Company provided', 'res_type_Living with Parents', 'res_type_Others', 'res_type_Owned','res_type_Rented',\n",
    "       'months_curr_residence','months_curr_company',\n",
    "       '90_dpd_6m', '60_dpd_6m', '30_dpd_6m', '90_dpd_12m', '60_dpd_12m', '30_dpd_12m',\n",
    "       'cc_util', 'trades_6m', 'trades_12m', 'pl_trades_6m', 'pl_trades_12m', 'inquiries_6m','inquiries_12m', \n",
    "       'open_home_loan', 'obal_adj', 'total_trades', 'open_auto_loan']"
   ]
  },
  {
   "cell_type": "code",
   "execution_count": 185,
   "metadata": {
    "ExecuteTime": {
     "end_time": "2019-09-15T15:00:32.945298Z",
     "start_time": "2019-09-15T15:00:32.796695Z"
    },
    "scrolled": true
   },
   "outputs": [
    {
     "data": {
      "text/html": [
       "<div>\n",
       "<style scoped>\n",
       "    .dataframe tbody tr th:only-of-type {\n",
       "        vertical-align: middle;\n",
       "    }\n",
       "\n",
       "    .dataframe tbody tr th {\n",
       "        vertical-align: top;\n",
       "    }\n",
       "\n",
       "    .dataframe thead th {\n",
       "        text-align: right;\n",
       "    }\n",
       "</style>\n",
       "<table border=\"1\" class=\"dataframe\">\n",
       "  <thead>\n",
       "    <tr style=\"text-align: right;\">\n",
       "      <th></th>\n",
       "      <th>count</th>\n",
       "      <th>mean</th>\n",
       "      <th>std</th>\n",
       "      <th>min</th>\n",
       "      <th>25%</th>\n",
       "      <th>50%</th>\n",
       "      <th>75%</th>\n",
       "      <th>max</th>\n",
       "    </tr>\n",
       "  </thead>\n",
       "  <tbody>\n",
       "    <tr>\n",
       "      <th>age</th>\n",
       "      <td>46810.0</td>\n",
       "      <td>45.013800</td>\n",
       "      <td>9.916407</td>\n",
       "      <td>20.00000</td>\n",
       "      <td>38.000000</td>\n",
       "      <td>45.000000</td>\n",
       "      <td>53.000000</td>\n",
       "      <td>6.500000e+01</td>\n",
       "    </tr>\n",
       "    <tr>\n",
       "      <th>gender</th>\n",
       "      <td>46810.0</td>\n",
       "      <td>0.761483</td>\n",
       "      <td>0.426182</td>\n",
       "      <td>0.00000</td>\n",
       "      <td>1.000000</td>\n",
       "      <td>1.000000</td>\n",
       "      <td>1.000000</td>\n",
       "      <td>1.000000e+00</td>\n",
       "    </tr>\n",
       "    <tr>\n",
       "      <th>marital</th>\n",
       "      <td>46810.0</td>\n",
       "      <td>0.851698</td>\n",
       "      <td>0.355403</td>\n",
       "      <td>0.00000</td>\n",
       "      <td>1.000000</td>\n",
       "      <td>1.000000</td>\n",
       "      <td>1.000000</td>\n",
       "      <td>1.000000e+00</td>\n",
       "    </tr>\n",
       "    <tr>\n",
       "      <th>no_of_dependents</th>\n",
       "      <td>46810.0</td>\n",
       "      <td>2.865349</td>\n",
       "      <td>1.384306</td>\n",
       "      <td>1.00000</td>\n",
       "      <td>2.000000</td>\n",
       "      <td>3.000000</td>\n",
       "      <td>4.000000</td>\n",
       "      <td>5.000000e+00</td>\n",
       "    </tr>\n",
       "    <tr>\n",
       "      <th>income-bin</th>\n",
       "      <td>46810.0</td>\n",
       "      <td>-0.018343</td>\n",
       "      <td>0.198166</td>\n",
       "      <td>-0.34496</td>\n",
       "      <td>-0.188165</td>\n",
       "      <td>-0.007797</td>\n",
       "      <td>0.063437</td>\n",
       "      <td>3.530359e-01</td>\n",
       "    </tr>\n",
       "    <tr>\n",
       "      <th>edu_Bachelor</th>\n",
       "      <td>46810.0</td>\n",
       "      <td>0.247746</td>\n",
       "      <td>0.431708</td>\n",
       "      <td>0.00000</td>\n",
       "      <td>0.000000</td>\n",
       "      <td>0.000000</td>\n",
       "      <td>0.000000</td>\n",
       "      <td>1.000000e+00</td>\n",
       "    </tr>\n",
       "    <tr>\n",
       "      <th>edu_Masters</th>\n",
       "      <td>46810.0</td>\n",
       "      <td>0.334886</td>\n",
       "      <td>0.471956</td>\n",
       "      <td>0.00000</td>\n",
       "      <td>0.000000</td>\n",
       "      <td>0.000000</td>\n",
       "      <td>1.000000</td>\n",
       "      <td>1.000000e+00</td>\n",
       "    </tr>\n",
       "    <tr>\n",
       "      <th>edu_Others</th>\n",
       "      <td>46810.0</td>\n",
       "      <td>0.001859</td>\n",
       "      <td>0.043072</td>\n",
       "      <td>0.00000</td>\n",
       "      <td>0.000000</td>\n",
       "      <td>0.000000</td>\n",
       "      <td>0.000000</td>\n",
       "      <td>1.000000e+00</td>\n",
       "    </tr>\n",
       "    <tr>\n",
       "      <th>edu_Phd</th>\n",
       "      <td>46810.0</td>\n",
       "      <td>0.064537</td>\n",
       "      <td>0.245711</td>\n",
       "      <td>0.00000</td>\n",
       "      <td>0.000000</td>\n",
       "      <td>0.000000</td>\n",
       "      <td>0.000000</td>\n",
       "      <td>1.000000e+00</td>\n",
       "    </tr>\n",
       "    <tr>\n",
       "      <th>edu_Professional</th>\n",
       "      <td>46810.0</td>\n",
       "      <td>0.350972</td>\n",
       "      <td>0.477279</td>\n",
       "      <td>0.00000</td>\n",
       "      <td>0.000000</td>\n",
       "      <td>0.000000</td>\n",
       "      <td>1.000000</td>\n",
       "      <td>1.000000e+00</td>\n",
       "    </tr>\n",
       "    <tr>\n",
       "      <th>prof_SAL</th>\n",
       "      <td>46810.0</td>\n",
       "      <td>0.568639</td>\n",
       "      <td>0.495272</td>\n",
       "      <td>0.00000</td>\n",
       "      <td>0.000000</td>\n",
       "      <td>1.000000</td>\n",
       "      <td>1.000000</td>\n",
       "      <td>1.000000e+00</td>\n",
       "    </tr>\n",
       "    <tr>\n",
       "      <th>prof_SE</th>\n",
       "      <td>46810.0</td>\n",
       "      <td>0.198163</td>\n",
       "      <td>0.398620</td>\n",
       "      <td>0.00000</td>\n",
       "      <td>0.000000</td>\n",
       "      <td>0.000000</td>\n",
       "      <td>0.000000</td>\n",
       "      <td>1.000000e+00</td>\n",
       "    </tr>\n",
       "    <tr>\n",
       "      <th>prof_SE_PROF</th>\n",
       "      <td>46810.0</td>\n",
       "      <td>0.233198</td>\n",
       "      <td>0.422872</td>\n",
       "      <td>0.00000</td>\n",
       "      <td>0.000000</td>\n",
       "      <td>0.000000</td>\n",
       "      <td>0.000000</td>\n",
       "      <td>1.000000e+00</td>\n",
       "    </tr>\n",
       "    <tr>\n",
       "      <th>res_type_Company provided</th>\n",
       "      <td>46810.0</td>\n",
       "      <td>0.022901</td>\n",
       "      <td>0.149590</td>\n",
       "      <td>0.00000</td>\n",
       "      <td>0.000000</td>\n",
       "      <td>0.000000</td>\n",
       "      <td>0.000000</td>\n",
       "      <td>1.000000e+00</td>\n",
       "    </tr>\n",
       "    <tr>\n",
       "      <th>res_type_Living with Parents</th>\n",
       "      <td>46810.0</td>\n",
       "      <td>0.025037</td>\n",
       "      <td>0.156240</td>\n",
       "      <td>0.00000</td>\n",
       "      <td>0.000000</td>\n",
       "      <td>0.000000</td>\n",
       "      <td>0.000000</td>\n",
       "      <td>1.000000e+00</td>\n",
       "    </tr>\n",
       "    <tr>\n",
       "      <th>res_type_Others</th>\n",
       "      <td>46810.0</td>\n",
       "      <td>0.002884</td>\n",
       "      <td>0.053626</td>\n",
       "      <td>0.00000</td>\n",
       "      <td>0.000000</td>\n",
       "      <td>0.000000</td>\n",
       "      <td>0.000000</td>\n",
       "      <td>1.000000e+00</td>\n",
       "    </tr>\n",
       "    <tr>\n",
       "      <th>res_type_Owned</th>\n",
       "      <td>46810.0</td>\n",
       "      <td>0.200983</td>\n",
       "      <td>0.400739</td>\n",
       "      <td>0.00000</td>\n",
       "      <td>0.000000</td>\n",
       "      <td>0.000000</td>\n",
       "      <td>0.000000</td>\n",
       "      <td>1.000000e+00</td>\n",
       "    </tr>\n",
       "    <tr>\n",
       "      <th>res_type_Rented</th>\n",
       "      <td>46810.0</td>\n",
       "      <td>0.748195</td>\n",
       "      <td>0.434055</td>\n",
       "      <td>0.00000</td>\n",
       "      <td>0.000000</td>\n",
       "      <td>1.000000</td>\n",
       "      <td>1.000000</td>\n",
       "      <td>1.000000e+00</td>\n",
       "    </tr>\n",
       "    <tr>\n",
       "      <th>months_curr_residence</th>\n",
       "      <td>46810.0</td>\n",
       "      <td>34.566076</td>\n",
       "      <td>36.878020</td>\n",
       "      <td>6.00000</td>\n",
       "      <td>6.000000</td>\n",
       "      <td>10.000000</td>\n",
       "      <td>61.000000</td>\n",
       "      <td>1.260000e+02</td>\n",
       "    </tr>\n",
       "    <tr>\n",
       "      <th>months_curr_company</th>\n",
       "      <td>46810.0</td>\n",
       "      <td>34.203098</td>\n",
       "      <td>20.328337</td>\n",
       "      <td>3.00000</td>\n",
       "      <td>17.000000</td>\n",
       "      <td>34.000000</td>\n",
       "      <td>51.000000</td>\n",
       "      <td>1.000000e+02</td>\n",
       "    </tr>\n",
       "    <tr>\n",
       "      <th>90_dpd_6m</th>\n",
       "      <td>46810.0</td>\n",
       "      <td>0.248238</td>\n",
       "      <td>0.505930</td>\n",
       "      <td>0.00000</td>\n",
       "      <td>0.000000</td>\n",
       "      <td>0.000000</td>\n",
       "      <td>0.000000</td>\n",
       "      <td>3.000000e+00</td>\n",
       "    </tr>\n",
       "    <tr>\n",
       "      <th>60_dpd_6m</th>\n",
       "      <td>46810.0</td>\n",
       "      <td>0.390622</td>\n",
       "      <td>0.770796</td>\n",
       "      <td>0.00000</td>\n",
       "      <td>0.000000</td>\n",
       "      <td>0.000000</td>\n",
       "      <td>1.000000</td>\n",
       "      <td>5.000000e+00</td>\n",
       "    </tr>\n",
       "    <tr>\n",
       "      <th>30_dpd_6m</th>\n",
       "      <td>46810.0</td>\n",
       "      <td>0.521363</td>\n",
       "      <td>0.997756</td>\n",
       "      <td>0.00000</td>\n",
       "      <td>0.000000</td>\n",
       "      <td>0.000000</td>\n",
       "      <td>1.000000</td>\n",
       "      <td>7.000000e+00</td>\n",
       "    </tr>\n",
       "    <tr>\n",
       "      <th>90_dpd_12m</th>\n",
       "      <td>46810.0</td>\n",
       "      <td>0.412326</td>\n",
       "      <td>0.761626</td>\n",
       "      <td>0.00000</td>\n",
       "      <td>0.000000</td>\n",
       "      <td>0.000000</td>\n",
       "      <td>1.000000</td>\n",
       "      <td>5.000000e+00</td>\n",
       "    </tr>\n",
       "    <tr>\n",
       "      <th>60_dpd_12m</th>\n",
       "      <td>46810.0</td>\n",
       "      <td>0.601389</td>\n",
       "      <td>1.017895</td>\n",
       "      <td>0.00000</td>\n",
       "      <td>0.000000</td>\n",
       "      <td>0.000000</td>\n",
       "      <td>1.000000</td>\n",
       "      <td>7.000000e+00</td>\n",
       "    </tr>\n",
       "    <tr>\n",
       "      <th>30_dpd_12m</th>\n",
       "      <td>46810.0</td>\n",
       "      <td>0.731874</td>\n",
       "      <td>1.239778</td>\n",
       "      <td>0.00000</td>\n",
       "      <td>0.000000</td>\n",
       "      <td>0.000000</td>\n",
       "      <td>1.000000</td>\n",
       "      <td>9.000000e+00</td>\n",
       "    </tr>\n",
       "    <tr>\n",
       "      <th>cc_util</th>\n",
       "      <td>46810.0</td>\n",
       "      <td>28.892288</td>\n",
       "      <td>29.390933</td>\n",
       "      <td>0.00000</td>\n",
       "      <td>8.000000</td>\n",
       "      <td>15.000000</td>\n",
       "      <td>44.000000</td>\n",
       "      <td>1.130000e+02</td>\n",
       "    </tr>\n",
       "    <tr>\n",
       "      <th>trades_6m</th>\n",
       "      <td>46810.0</td>\n",
       "      <td>2.279150</td>\n",
       "      <td>2.077086</td>\n",
       "      <td>0.00000</td>\n",
       "      <td>1.000000</td>\n",
       "      <td>2.000000</td>\n",
       "      <td>3.000000</td>\n",
       "      <td>1.200000e+01</td>\n",
       "    </tr>\n",
       "    <tr>\n",
       "      <th>trades_12m</th>\n",
       "      <td>46810.0</td>\n",
       "      <td>5.764794</td>\n",
       "      <td>5.086692</td>\n",
       "      <td>0.00000</td>\n",
       "      <td>2.000000</td>\n",
       "      <td>4.000000</td>\n",
       "      <td>9.000000</td>\n",
       "      <td>2.800000e+01</td>\n",
       "    </tr>\n",
       "    <tr>\n",
       "      <th>pl_trades_6m</th>\n",
       "      <td>46810.0</td>\n",
       "      <td>1.185067</td>\n",
       "      <td>1.349750</td>\n",
       "      <td>0.00000</td>\n",
       "      <td>0.000000</td>\n",
       "      <td>1.000000</td>\n",
       "      <td>2.000000</td>\n",
       "      <td>6.000000e+00</td>\n",
       "    </tr>\n",
       "    <tr>\n",
       "      <th>pl_trades_12m</th>\n",
       "      <td>46810.0</td>\n",
       "      <td>2.354582</td>\n",
       "      <td>2.419181</td>\n",
       "      <td>0.00000</td>\n",
       "      <td>0.000000</td>\n",
       "      <td>2.000000</td>\n",
       "      <td>4.000000</td>\n",
       "      <td>1.200000e+01</td>\n",
       "    </tr>\n",
       "    <tr>\n",
       "      <th>inquiries_6m</th>\n",
       "      <td>46810.0</td>\n",
       "      <td>1.754262</td>\n",
       "      <td>1.986379</td>\n",
       "      <td>0.00000</td>\n",
       "      <td>0.000000</td>\n",
       "      <td>1.000000</td>\n",
       "      <td>3.000000</td>\n",
       "      <td>1.000000e+01</td>\n",
       "    </tr>\n",
       "    <tr>\n",
       "      <th>inquiries_12m</th>\n",
       "      <td>46810.0</td>\n",
       "      <td>3.520038</td>\n",
       "      <td>3.609740</td>\n",
       "      <td>0.00000</td>\n",
       "      <td>0.000000</td>\n",
       "      <td>3.000000</td>\n",
       "      <td>5.000000</td>\n",
       "      <td>2.000000e+01</td>\n",
       "    </tr>\n",
       "    <tr>\n",
       "      <th>open_home_loan</th>\n",
       "      <td>46810.0</td>\n",
       "      <td>0.258983</td>\n",
       "      <td>0.438081</td>\n",
       "      <td>0.00000</td>\n",
       "      <td>0.000000</td>\n",
       "      <td>0.000000</td>\n",
       "      <td>1.000000</td>\n",
       "      <td>1.000000e+00</td>\n",
       "    </tr>\n",
       "    <tr>\n",
       "      <th>obal_adj</th>\n",
       "      <td>46810.0</td>\n",
       "      <td>581152.889447</td>\n",
       "      <td>460125.105202</td>\n",
       "      <td>0.00000</td>\n",
       "      <td>208336.750000</td>\n",
       "      <td>532101.500000</td>\n",
       "      <td>884869.000000</td>\n",
       "      <td>2.635697e+06</td>\n",
       "    </tr>\n",
       "    <tr>\n",
       "      <th>total_trades</th>\n",
       "      <td>46810.0</td>\n",
       "      <td>8.151869</td>\n",
       "      <td>7.140920</td>\n",
       "      <td>0.00000</td>\n",
       "      <td>3.000000</td>\n",
       "      <td>6.000000</td>\n",
       "      <td>10.000000</td>\n",
       "      <td>4.300000e+01</td>\n",
       "    </tr>\n",
       "    <tr>\n",
       "      <th>open_auto_loan</th>\n",
       "      <td>46810.0</td>\n",
       "      <td>0.084982</td>\n",
       "      <td>0.278858</td>\n",
       "      <td>0.00000</td>\n",
       "      <td>0.000000</td>\n",
       "      <td>0.000000</td>\n",
       "      <td>0.000000</td>\n",
       "      <td>1.000000e+00</td>\n",
       "    </tr>\n",
       "  </tbody>\n",
       "</table>\n",
       "</div>"
      ],
      "text/plain": [
       "                                count           mean            std       min  \\\n",
       "age                           46810.0      45.013800       9.916407  20.00000   \n",
       "gender                        46810.0       0.761483       0.426182   0.00000   \n",
       "marital                       46810.0       0.851698       0.355403   0.00000   \n",
       "no_of_dependents              46810.0       2.865349       1.384306   1.00000   \n",
       "income-bin                    46810.0      -0.018343       0.198166  -0.34496   \n",
       "edu_Bachelor                  46810.0       0.247746       0.431708   0.00000   \n",
       "edu_Masters                   46810.0       0.334886       0.471956   0.00000   \n",
       "edu_Others                    46810.0       0.001859       0.043072   0.00000   \n",
       "edu_Phd                       46810.0       0.064537       0.245711   0.00000   \n",
       "edu_Professional              46810.0       0.350972       0.477279   0.00000   \n",
       "prof_SAL                      46810.0       0.568639       0.495272   0.00000   \n",
       "prof_SE                       46810.0       0.198163       0.398620   0.00000   \n",
       "prof_SE_PROF                  46810.0       0.233198       0.422872   0.00000   \n",
       "res_type_Company provided     46810.0       0.022901       0.149590   0.00000   \n",
       "res_type_Living with Parents  46810.0       0.025037       0.156240   0.00000   \n",
       "res_type_Others               46810.0       0.002884       0.053626   0.00000   \n",
       "res_type_Owned                46810.0       0.200983       0.400739   0.00000   \n",
       "res_type_Rented               46810.0       0.748195       0.434055   0.00000   \n",
       "months_curr_residence         46810.0      34.566076      36.878020   6.00000   \n",
       "months_curr_company           46810.0      34.203098      20.328337   3.00000   \n",
       "90_dpd_6m                     46810.0       0.248238       0.505930   0.00000   \n",
       "60_dpd_6m                     46810.0       0.390622       0.770796   0.00000   \n",
       "30_dpd_6m                     46810.0       0.521363       0.997756   0.00000   \n",
       "90_dpd_12m                    46810.0       0.412326       0.761626   0.00000   \n",
       "60_dpd_12m                    46810.0       0.601389       1.017895   0.00000   \n",
       "30_dpd_12m                    46810.0       0.731874       1.239778   0.00000   \n",
       "cc_util                       46810.0      28.892288      29.390933   0.00000   \n",
       "trades_6m                     46810.0       2.279150       2.077086   0.00000   \n",
       "trades_12m                    46810.0       5.764794       5.086692   0.00000   \n",
       "pl_trades_6m                  46810.0       1.185067       1.349750   0.00000   \n",
       "pl_trades_12m                 46810.0       2.354582       2.419181   0.00000   \n",
       "inquiries_6m                  46810.0       1.754262       1.986379   0.00000   \n",
       "inquiries_12m                 46810.0       3.520038       3.609740   0.00000   \n",
       "open_home_loan                46810.0       0.258983       0.438081   0.00000   \n",
       "obal_adj                      46810.0  581152.889447  460125.105202   0.00000   \n",
       "total_trades                  46810.0       8.151869       7.140920   0.00000   \n",
       "open_auto_loan                46810.0       0.084982       0.278858   0.00000   \n",
       "\n",
       "                                        25%            50%            75%  \\\n",
       "age                               38.000000      45.000000      53.000000   \n",
       "gender                             1.000000       1.000000       1.000000   \n",
       "marital                            1.000000       1.000000       1.000000   \n",
       "no_of_dependents                   2.000000       3.000000       4.000000   \n",
       "income-bin                        -0.188165      -0.007797       0.063437   \n",
       "edu_Bachelor                       0.000000       0.000000       0.000000   \n",
       "edu_Masters                        0.000000       0.000000       1.000000   \n",
       "edu_Others                         0.000000       0.000000       0.000000   \n",
       "edu_Phd                            0.000000       0.000000       0.000000   \n",
       "edu_Professional                   0.000000       0.000000       1.000000   \n",
       "prof_SAL                           0.000000       1.000000       1.000000   \n",
       "prof_SE                            0.000000       0.000000       0.000000   \n",
       "prof_SE_PROF                       0.000000       0.000000       0.000000   \n",
       "res_type_Company provided          0.000000       0.000000       0.000000   \n",
       "res_type_Living with Parents       0.000000       0.000000       0.000000   \n",
       "res_type_Others                    0.000000       0.000000       0.000000   \n",
       "res_type_Owned                     0.000000       0.000000       0.000000   \n",
       "res_type_Rented                    0.000000       1.000000       1.000000   \n",
       "months_curr_residence              6.000000      10.000000      61.000000   \n",
       "months_curr_company               17.000000      34.000000      51.000000   \n",
       "90_dpd_6m                          0.000000       0.000000       0.000000   \n",
       "60_dpd_6m                          0.000000       0.000000       1.000000   \n",
       "30_dpd_6m                          0.000000       0.000000       1.000000   \n",
       "90_dpd_12m                         0.000000       0.000000       1.000000   \n",
       "60_dpd_12m                         0.000000       0.000000       1.000000   \n",
       "30_dpd_12m                         0.000000       0.000000       1.000000   \n",
       "cc_util                            8.000000      15.000000      44.000000   \n",
       "trades_6m                          1.000000       2.000000       3.000000   \n",
       "trades_12m                         2.000000       4.000000       9.000000   \n",
       "pl_trades_6m                       0.000000       1.000000       2.000000   \n",
       "pl_trades_12m                      0.000000       2.000000       4.000000   \n",
       "inquiries_6m                       0.000000       1.000000       3.000000   \n",
       "inquiries_12m                      0.000000       3.000000       5.000000   \n",
       "open_home_loan                     0.000000       0.000000       1.000000   \n",
       "obal_adj                      208336.750000  532101.500000  884869.000000   \n",
       "total_trades                       3.000000       6.000000      10.000000   \n",
       "open_auto_loan                     0.000000       0.000000       0.000000   \n",
       "\n",
       "                                       max  \n",
       "age                           6.500000e+01  \n",
       "gender                        1.000000e+00  \n",
       "marital                       1.000000e+00  \n",
       "no_of_dependents              5.000000e+00  \n",
       "income-bin                    3.530359e-01  \n",
       "edu_Bachelor                  1.000000e+00  \n",
       "edu_Masters                   1.000000e+00  \n",
       "edu_Others                    1.000000e+00  \n",
       "edu_Phd                       1.000000e+00  \n",
       "edu_Professional              1.000000e+00  \n",
       "prof_SAL                      1.000000e+00  \n",
       "prof_SE                       1.000000e+00  \n",
       "prof_SE_PROF                  1.000000e+00  \n",
       "res_type_Company provided     1.000000e+00  \n",
       "res_type_Living with Parents  1.000000e+00  \n",
       "res_type_Others               1.000000e+00  \n",
       "res_type_Owned                1.000000e+00  \n",
       "res_type_Rented               1.000000e+00  \n",
       "months_curr_residence         1.260000e+02  \n",
       "months_curr_company           1.000000e+02  \n",
       "90_dpd_6m                     3.000000e+00  \n",
       "60_dpd_6m                     5.000000e+00  \n",
       "30_dpd_6m                     7.000000e+00  \n",
       "90_dpd_12m                    5.000000e+00  \n",
       "60_dpd_12m                    7.000000e+00  \n",
       "30_dpd_12m                    9.000000e+00  \n",
       "cc_util                       1.130000e+02  \n",
       "trades_6m                     1.200000e+01  \n",
       "trades_12m                    2.800000e+01  \n",
       "pl_trades_6m                  6.000000e+00  \n",
       "pl_trades_12m                 1.200000e+01  \n",
       "inquiries_6m                  1.000000e+01  \n",
       "inquiries_12m                 2.000000e+01  \n",
       "open_home_loan                1.000000e+00  \n",
       "obal_adj                      2.635697e+06  \n",
       "total_trades                  4.300000e+01  \n",
       "open_auto_loan                1.000000e+00  "
      ]
     },
     "execution_count": 185,
     "metadata": {},
     "output_type": "execute_result"
    }
   ],
   "source": [
    "X_train[cols].describe().T"
   ]
  },
  {
   "cell_type": "code",
   "execution_count": 186,
   "metadata": {
    "ExecuteTime": {
     "end_time": "2019-09-15T15:00:33.452251Z",
     "start_time": "2019-09-15T15:00:33.243815Z"
    }
   },
   "outputs": [],
   "source": [
    "sm = SMOTE(random_state=121, ratio=1.0)\n",
    "X_train_smote, y_train_smote = sm.fit_sample(X_train[cols], y_train)"
   ]
  },
  {
   "cell_type": "code",
   "execution_count": 187,
   "metadata": {
    "ExecuteTime": {
     "end_time": "2019-09-15T15:00:33.998792Z",
     "start_time": "2019-09-15T15:00:33.765415Z"
    }
   },
   "outputs": [
    {
     "data": {
      "text/plain": [
       "Text(0, 0.5, 'cumulative explained variance')"
      ]
     },
     "execution_count": 187,
     "metadata": {},
     "output_type": "execute_result"
    },
    {
     "data": {
      "image/png": "[encoded data removed]",
      "text/plain": [
       "<Figure size 432x288 with 1 Axes>"
      ]
     },
     "metadata": {
      "needs_background": "light"
     },
     "output_type": "display_data"
    }
   ],
   "source": [
    "pca = PCA(n_components=len(cols))\n",
    "X_train_pca = pca.fit_transform(X_train_smote)\n",
    "plt.plot(np.cumsum(pca.explained_variance_ratio_))\n",
    "plt.xlabel('number of components')\n",
    "plt.ylabel('cumulative explained variance')"
   ]
  },
  {
   "cell_type": "code",
   "execution_count": 188,
   "metadata": {
    "ExecuteTime": {
     "end_time": "2019-09-15T15:00:34.475517Z",
     "start_time": "2019-09-15T15:00:34.276050Z"
    }
   },
   "outputs": [],
   "source": [
    "pca = PCA(n_components=4)\n",
    "X_train_pca = pca.fit_transform(X_train_smote)"
   ]
  },
  {
   "cell_type": "code",
   "execution_count": 189,
   "metadata": {
    "ExecuteTime": {
     "end_time": "2019-09-15T15:00:34.881490Z",
     "start_time": "2019-09-15T15:00:34.876526Z"
    }
   },
   "outputs": [],
   "source": [
    "folds = 3\n",
    "skf = StratifiedKFold(n_splits=folds, shuffle = True, random_state = 101)\n",
    "pipe = Pipeline([\n",
    "        ('scale', StandardScaler()),\n",
    "        ('clf', LogisticRegression(class_weight='balanced'))])\n",
    "param_grid = dict(clf__C=[0.5, 0.01, 0.005, 0.001])\n",
    "grid = GridSearchCV(pipe,\n",
    "                    param_grid=param_grid,\n",
    "                    cv=skf.split(X_train_pca, y_train_smote),\n",
    "                    n_jobs=-1,\n",
    "                    verbose=10,\n",
    "                    scoring= 'roc_auc',\n",
    "                    return_train_score=True)"
   ]
  },
  {
   "cell_type": "code",
   "execution_count": 190,
   "metadata": {
    "ExecuteTime": {
     "end_time": "2019-09-15T15:00:35.820799Z",
     "start_time": "2019-09-15T15:00:35.412915Z"
    }
   },
   "outputs": [
    {
     "name": "stdout",
     "output_type": "stream",
     "text": [
      "Fitting 3 folds for each of 4 candidates, totalling 12 fits\n"
     ]
    },
    {
     "name": "stderr",
     "output_type": "stream",
     "text": [
      "[Parallel(n_jobs=-1)]: Using backend LokyBackend with 8 concurrent workers.\n",
      "[Parallel(n_jobs=-1)]: Done   1 tasks      | elapsed:    0.1s\n",
      "[Parallel(n_jobs=-1)]: Batch computation too fast (0.1685s.) Setting batch_size=2.\n",
      "[Parallel(n_jobs=-1)]: Done   3 out of  12 | elapsed:    0.1s remaining:    0.5s\n",
      "[Parallel(n_jobs=-1)]: Done   5 out of  12 | elapsed:    0.1s remaining:    0.2s\n",
      "[Parallel(n_jobs=-1)]: Done   7 out of  12 | elapsed:    0.1s remaining:    0.0s\n",
      "[Parallel(n_jobs=-1)]: Done   9 out of  12 | elapsed:    0.2s remaining:    0.0s\n",
      "[Parallel(n_jobs=-1)]: Done  12 out of  12 | elapsed:    0.2s finished\n"
     ]
    },
    {
     "data": {
      "text/plain": [
       "GridSearchCV(cv=<generator object _BaseKFold.split at 0x000001FAD75E1C78>,\n",
       "       error_score='raise-deprecating',\n",
       "       estimator=Pipeline(memory=None,\n",
       "     steps=[('scale', StandardScaler(copy=True, with_mean=True, with_std=True)), ('clf', LogisticRegression(C=1.0, class_weight='balanced', dual=False,\n",
       "          fit_intercept=True, intercept_scaling=1, max_iter=100,\n",
       "          multi_class='warn', n_jobs=None, penalty='l2', random_state=None,\n",
       "          solver='warn', tol=0.0001, verbose=0, warm_start=False))]),\n",
       "       fit_params=None, iid='warn', n_jobs=-1,\n",
       "       param_grid={'clf__C': [0.5, 0.01, 0.005, 0.001]},\n",
       "       pre_dispatch='2*n_jobs', refit=True, return_train_score=True,\n",
       "       scoring='roc_auc', verbose=10)"
      ]
     },
     "execution_count": 190,
     "metadata": {},
     "output_type": "execute_result"
    }
   ],
   "source": [
    "grid.fit(X_train_pca, y_train_smote)"
   ]
  },
  {
   "cell_type": "code",
   "execution_count": 191,
   "metadata": {
    "ExecuteTime": {
     "end_time": "2019-09-15T15:00:35.959429Z",
     "start_time": "2019-09-15T15:00:35.955440Z"
    }
   },
   "outputs": [
    {
     "data": {
      "text/plain": [
       "{'clf__C': 0.5}"
      ]
     },
     "execution_count": 191,
     "metadata": {},
     "output_type": "execute_result"
    }
   ],
   "source": [
    "grid.best_params_"
   ]
  },
  {
   "cell_type": "markdown",
   "metadata": {},
   "source": [
    "##### Evaluation Metrics"
   ]
  },
  {
   "cell_type": "code",
   "execution_count": 192,
   "metadata": {
    "ExecuteTime": {
     "end_time": "2019-09-15T15:00:37.518756Z",
     "start_time": "2019-09-15T15:00:37.356190Z"
    }
   },
   "outputs": [
    {
     "data": {
      "text/html": [
       "<div>\n",
       "<style scoped>\n",
       "    .dataframe tbody tr th:only-of-type {\n",
       "        vertical-align: middle;\n",
       "    }\n",
       "\n",
       "    .dataframe tbody tr th {\n",
       "        vertical-align: top;\n",
       "    }\n",
       "\n",
       "    .dataframe thead th {\n",
       "        text-align: right;\n",
       "    }\n",
       "</style>\n",
       "<table border=\"1\" class=\"dataframe\">\n",
       "  <thead>\n",
       "    <tr style=\"text-align: right;\">\n",
       "      <th></th>\n",
       "      <th>LR_demo</th>\n",
       "      <th>PCA_demo</th>\n",
       "      <th>smote_demo</th>\n",
       "      <th>LR_smote_pca</th>\n",
       "    </tr>\n",
       "  </thead>\n",
       "  <tbody>\n",
       "    <tr>\n",
       "      <th>Train Accuracy</th>\n",
       "      <td>0.531104</td>\n",
       "      <td>0.504273</td>\n",
       "      <td>0.535529</td>\n",
       "      <td>0.630832</td>\n",
       "    </tr>\n",
       "    <tr>\n",
       "      <th>CM row1 - Train</th>\n",
       "      <td>23716, 21120</td>\n",
       "      <td>22485, 22351</td>\n",
       "      <td>23362, 21474</td>\n",
       "      <td>26929, 17907</td>\n",
       "    </tr>\n",
       "    <tr>\n",
       "      <th>row2 - Train</th>\n",
       "      <td>829, 1145</td>\n",
       "      <td>854, 1120</td>\n",
       "      <td>20176, 24660</td>\n",
       "      <td>15197, 29639</td>\n",
       "    </tr>\n",
       "    <tr>\n",
       "      <th>Train Specificity</th>\n",
       "      <td>0.58</td>\n",
       "      <td>0.567</td>\n",
       "      <td>0.55</td>\n",
       "      <td>0.661</td>\n",
       "    </tr>\n",
       "    <tr>\n",
       "      <th>Train Sensitivity/Recall</th>\n",
       "      <td>0.051</td>\n",
       "      <td>0.048</td>\n",
       "      <td>0.535</td>\n",
       "      <td>0.623</td>\n",
       "    </tr>\n",
       "    <tr>\n",
       "      <th>Train Precision</th>\n",
       "      <td>0.051426</td>\n",
       "      <td>0.0477185</td>\n",
       "      <td>0.53453</td>\n",
       "      <td>0.623375</td>\n",
       "    </tr>\n",
       "    <tr>\n",
       "      <th>Train AUC</th>\n",
       "      <td>0.554495</td>\n",
       "      <td>0.534435</td>\n",
       "      <td>0.535529</td>\n",
       "      <td>0.630832</td>\n",
       "    </tr>\n",
       "    <tr>\n",
       "      <th>Test Accuracy</th>\n",
       "      <td>0.524613</td>\n",
       "      <td>0.501279</td>\n",
       "      <td>0.518975</td>\n",
       "      <td>0.59895</td>\n",
       "    </tr>\n",
       "    <tr>\n",
       "      <th>CM row1 - Test</th>\n",
       "      <td>11570, 10514</td>\n",
       "      <td>11034, 11050</td>\n",
       "      <td>11461, 10623</td>\n",
       "      <td>13204, 8880</td>\n",
       "    </tr>\n",
       "    <tr>\n",
       "      <th>row2 - Test</th>\n",
       "      <td>447, 526</td>\n",
       "      <td>449, 524</td>\n",
       "      <td>468, 505</td>\n",
       "      <td>367, 606</td>\n",
       "    </tr>\n",
       "    <tr>\n",
       "      <th>Test Specificity</th>\n",
       "      <td>0.541</td>\n",
       "      <td>0.539</td>\n",
       "      <td>0.519</td>\n",
       "      <td>0.623</td>\n",
       "    </tr>\n",
       "    <tr>\n",
       "      <th>Test Sensitivity/Recall</th>\n",
       "      <td>0.048</td>\n",
       "      <td>0.045</td>\n",
       "      <td>0.045</td>\n",
       "      <td>0.064</td>\n",
       "    </tr>\n",
       "    <tr>\n",
       "      <th>Test Precision</th>\n",
       "      <td>0.0476449</td>\n",
       "      <td>0.0452739</td>\n",
       "      <td>0.045381</td>\n",
       "      <td>0.0638836</td>\n",
       "    </tr>\n",
       "    <tr>\n",
       "      <th>Test AUC</th>\n",
       "      <td>0.532252</td>\n",
       "      <td>0.519089</td>\n",
       "      <td>0.518993</td>\n",
       "      <td>0.610357</td>\n",
       "    </tr>\n",
       "  </tbody>\n",
       "</table>\n",
       "</div>"
      ],
      "text/plain": [
       "                               LR_demo      PCA_demo    smote_demo  \\\n",
       "Train Accuracy                0.531104      0.504273      0.535529   \n",
       "CM row1 - Train           23716, 21120  22485, 22351  23362, 21474   \n",
       "row2 - Train                 829, 1145     854, 1120  20176, 24660   \n",
       "Train Specificity                 0.58         0.567          0.55   \n",
       "Train Sensitivity/Recall         0.051         0.048         0.535   \n",
       "Train Precision               0.051426     0.0477185       0.53453   \n",
       "Train AUC                     0.554495      0.534435      0.535529   \n",
       "Test Accuracy                 0.524613      0.501279      0.518975   \n",
       "CM row1 - Test            11570, 10514  11034, 11050  11461, 10623   \n",
       "row2 - Test                   447, 526      449, 524      468, 505   \n",
       "Test Specificity                 0.541         0.539         0.519   \n",
       "Test Sensitivity/Recall          0.048         0.045         0.045   \n",
       "Test Precision               0.0476449     0.0452739      0.045381   \n",
       "Test AUC                      0.532252      0.519089      0.518993   \n",
       "\n",
       "                          LR_smote_pca  \n",
       "Train Accuracy                0.630832  \n",
       "CM row1 - Train           26929, 17907  \n",
       "row2 - Train              15197, 29639  \n",
       "Train Specificity                0.661  \n",
       "Train Sensitivity/Recall         0.623  \n",
       "Train Precision               0.623375  \n",
       "Train AUC                     0.630832  \n",
       "Test Accuracy                  0.59895  \n",
       "CM row1 - Test             13204, 8880  \n",
       "row2 - Test                   367, 606  \n",
       "Test Specificity                 0.623  \n",
       "Test Sensitivity/Recall          0.064  \n",
       "Test Precision               0.0638836  \n",
       "Test AUC                      0.610357  "
      ]
     },
     "execution_count": 192,
     "metadata": {},
     "output_type": "execute_result"
    }
   ],
   "source": [
    "LR_smote_pca = evaluate('LR_smote_pca', grid, X_train_pca, y_train_smote, \n",
    "                    pca.transform(X_test[cols]), y_test)\n",
    "metrics = pd.concat([metrics, LR_smote_pca], axis=1)\n",
    "metrics"
   ]
  },
  {
   "cell_type": "markdown",
   "metadata": {},
   "source": [
    "All metrics have improved after we used all the data"
   ]
  },
  {
   "cell_type": "markdown",
   "metadata": {},
   "source": [
    "### Random Forest"
   ]
  },
  {
   "cell_type": "code",
   "execution_count": 193,
   "metadata": {
    "ExecuteTime": {
     "end_time": "2019-09-15T15:00:46.002880Z",
     "start_time": "2019-09-15T15:00:45.940020Z"
    }
   },
   "outputs": [],
   "source": [
    "from sklearn.ensemble import RandomForestClassifier"
   ]
  },
  {
   "cell_type": "code",
   "execution_count": 194,
   "metadata": {
    "ExecuteTime": {
     "end_time": "2019-09-15T15:00:46.343408Z",
     "start_time": "2019-09-15T15:00:46.341387Z"
    }
   },
   "outputs": [],
   "source": [
    "cols.remove('income-bin')"
   ]
  },
  {
   "cell_type": "code",
   "execution_count": 195,
   "metadata": {
    "ExecuteTime": {
     "end_time": "2019-09-15T15:00:46.757915Z",
     "start_time": "2019-09-15T15:00:46.755915Z"
    }
   },
   "outputs": [],
   "source": [
    "cols.append('income')"
   ]
  },
  {
   "cell_type": "code",
   "execution_count": 196,
   "metadata": {
    "ExecuteTime": {
     "end_time": "2019-09-15T15:00:47.407389Z",
     "start_time": "2019-09-15T15:00:47.404398Z"
    }
   },
   "outputs": [],
   "source": [
    "cols.remove('obal_adj')\n",
    "cols.append('outstanding_bal')"
   ]
  },
  {
   "cell_type": "code",
   "execution_count": 197,
   "metadata": {
    "ExecuteTime": {
     "end_time": "2019-09-15T15:00:48.847392Z",
     "start_time": "2019-09-15T15:00:48.836394Z"
    }
   },
   "outputs": [
    {
     "data": {
      "text/plain": [
       "((46810, 37), (46810,), (23057, 37), (23057,))"
      ]
     },
     "execution_count": 197,
     "metadata": {},
     "output_type": "execute_result"
    }
   ],
   "source": [
    "X_train[cols].shape, y_train.shape, X_test[cols].shape, y_test.shape"
   ]
  },
  {
   "cell_type": "code",
   "execution_count": 198,
   "metadata": {
    "ExecuteTime": {
     "end_time": "2019-09-15T15:00:49.687793Z",
     "start_time": "2019-09-15T15:00:49.684825Z"
    }
   },
   "outputs": [],
   "source": [
    "rfc = RandomForestClassifier(class_weight='balanced')"
   ]
  },
  {
   "cell_type": "code",
   "execution_count": 199,
   "metadata": {
    "ExecuteTime": {
     "end_time": "2019-09-15T15:00:50.376078Z",
     "start_time": "2019-09-15T15:00:50.373113Z"
    }
   },
   "outputs": [],
   "source": [
    "param_grid = dict(max_depth=[13, 14, 15, 16],\n",
    "                  n_estimators=[85,90,100,120],\n",
    "                  min_samples_leaf= [90, 100, 110],\n",
    "                  min_samples_split=[475, 485, 495])"
   ]
  },
  {
   "cell_type": "code",
   "execution_count": 200,
   "metadata": {
    "ExecuteTime": {
     "end_time": "2019-09-15T15:00:50.878470Z",
     "start_time": "2019-09-15T15:00:50.875478Z"
    }
   },
   "outputs": [],
   "source": [
    "from sklearn.model_selection import StratifiedKFold\n",
    "folds = 3\n",
    "skf = StratifiedKFold(n_splits=folds, shuffle = True, random_state = 101)"
   ]
  },
  {
   "cell_type": "code",
   "execution_count": 201,
   "metadata": {
    "ExecuteTime": {
     "end_time": "2019-09-15T15:00:51.372729Z",
     "start_time": "2019-09-15T15:00:51.364727Z"
    }
   },
   "outputs": [],
   "source": [
    "grid = GridSearchCV(estimator=rfc,\n",
    "                    param_grid=param_grid,\n",
    "                    cv=skf.split(X_train[cols], y_train),\n",
    "                    n_jobs=-1,\n",
    "                    verbose=10,\n",
    "                    scoring= 'roc_auc',\n",
    "                    return_train_score=True)"
   ]
  },
  {
   "cell_type": "code",
   "execution_count": 202,
   "metadata": {
    "ExecuteTime": {
     "end_time": "2019-09-15T15:03:53.066935Z",
     "start_time": "2019-09-15T15:00:51.972395Z"
    }
   },
   "outputs": [
    {
     "name": "stdout",
     "output_type": "stream",
     "text": [
      "Fitting 3 folds for each of 144 candidates, totalling 432 fits\n"
     ]
    },
    {
     "name": "stderr",
     "output_type": "stream",
     "text": [
      "[Parallel(n_jobs=-1)]: Using backend LokyBackend with 8 concurrent workers.\n",
      "[Parallel(n_jobs=-1)]: Done   2 tasks      | elapsed:    2.9s\n",
      "[Parallel(n_jobs=-1)]: Done   9 tasks      | elapsed:    6.2s\n",
      "[Parallel(n_jobs=-1)]: Done  16 tasks      | elapsed:    7.1s\n",
      "[Parallel(n_jobs=-1)]: Done  25 tasks      | elapsed:   12.2s\n",
      "[Parallel(n_jobs=-1)]: Done  34 tasks      | elapsed:   16.2s\n",
      "[Parallel(n_jobs=-1)]: Done  45 tasks      | elapsed:   20.0s\n",
      "[Parallel(n_jobs=-1)]: Done  56 tasks      | elapsed:   24.5s\n",
      "[Parallel(n_jobs=-1)]: Done  69 tasks      | elapsed:   29.9s\n",
      "[Parallel(n_jobs=-1)]: Done  82 tasks      | elapsed:   35.5s\n",
      "[Parallel(n_jobs=-1)]: Done  97 tasks      | elapsed:   40.6s\n",
      "[Parallel(n_jobs=-1)]: Done 112 tasks      | elapsed:   46.9s\n",
      "[Parallel(n_jobs=-1)]: Done 129 tasks      | elapsed:   54.5s\n",
      "[Parallel(n_jobs=-1)]: Done 146 tasks      | elapsed:  1.0min\n",
      "[Parallel(n_jobs=-1)]: Done 165 tasks      | elapsed:  1.2min\n",
      "[Parallel(n_jobs=-1)]: Done 184 tasks      | elapsed:  1.3min\n",
      "[Parallel(n_jobs=-1)]: Done 205 tasks      | elapsed:  1.4min\n",
      "[Parallel(n_jobs=-1)]: Done 226 tasks      | elapsed:  1.6min\n",
      "[Parallel(n_jobs=-1)]: Done 249 tasks      | elapsed:  1.7min\n",
      "[Parallel(n_jobs=-1)]: Done 272 tasks      | elapsed:  1.9min\n",
      "[Parallel(n_jobs=-1)]: Done 297 tasks      | elapsed:  2.1min\n",
      "[Parallel(n_jobs=-1)]: Done 322 tasks      | elapsed:  2.2min\n",
      "[Parallel(n_jobs=-1)]: Done 349 tasks      | elapsed:  2.4min\n",
      "[Parallel(n_jobs=-1)]: Done 376 tasks      | elapsed:  2.6min\n",
      "[Parallel(n_jobs=-1)]: Done 405 tasks      | elapsed:  2.8min\n",
      "[Parallel(n_jobs=-1)]: Done 432 out of 432 | elapsed:  3.0min finished\n"
     ]
    },
    {
     "data": {
      "text/plain": [
       "GridSearchCV(cv=<generator object _BaseKFold.split at 0x000001FAD7774660>,\n",
       "       error_score='raise-deprecating',\n",
       "       estimator=RandomForestClassifier(bootstrap=True, class_weight='balanced',\n",
       "            criterion='gini', max_depth=None, max_features='auto',\n",
       "            max_leaf_nodes=None, min_impurity_decrease=0.0,\n",
       "            min_impurity_split=None, min_samples_leaf=1,\n",
       "            min_samples_split=2, min_weight_fraction_leaf=0.0,\n",
       "            n_estimators='warn', n_jobs=None, oob_score=False,\n",
       "            random_state=None, verbose=0, warm_start=False),\n",
       "       fit_params=None, iid='warn', n_jobs=-1,\n",
       "       param_grid={'max_depth': [13, 14, 15, 16], 'n_estimators': [85, 90, 100, 120], 'min_samples_leaf': [90, 100, 110], 'min_samples_split': [475, 485, 495]},\n",
       "       pre_dispatch='2*n_jobs', refit=True, return_train_score=True,\n",
       "       scoring='roc_auc', verbose=10)"
      ]
     },
     "execution_count": 202,
     "metadata": {},
     "output_type": "execute_result"
    }
   ],
   "source": [
    "grid.fit(X_train[cols], y_train)"
   ]
  },
  {
   "cell_type": "code",
   "execution_count": 203,
   "metadata": {
    "ExecuteTime": {
     "end_time": "2019-09-15T15:03:53.072947Z",
     "start_time": "2019-09-15T15:03:53.067932Z"
    }
   },
   "outputs": [
    {
     "data": {
      "text/plain": [
       "{'max_depth': 15,\n",
       " 'min_samples_leaf': 100,\n",
       " 'min_samples_split': 475,\n",
       " 'n_estimators': 120}"
      ]
     },
     "execution_count": 203,
     "metadata": {},
     "output_type": "execute_result"
    }
   ],
   "source": [
    "grid.best_params_"
   ]
  },
  {
   "cell_type": "markdown",
   "metadata": {},
   "source": [
    "##### Evaluation Metrics"
   ]
  },
  {
   "cell_type": "markdown",
   "metadata": {
    "ExecuteTime": {
     "end_time": "2019-09-15T11:30:21.799156Z",
     "start_time": "2019-09-15T11:30:21.795168Z"
    }
   },
   "source": [
    "metrics.drop(columns=['RF_all_feat', 'RF_choosen_feat'],axis=1, inplace=True)"
   ]
  },
  {
   "cell_type": "code",
   "execution_count": 204,
   "metadata": {
    "ExecuteTime": {
     "end_time": "2019-09-15T15:03:53.925664Z",
     "start_time": "2019-09-15T15:03:53.073917Z"
    }
   },
   "outputs": [
    {
     "data": {
      "text/html": [
       "<div>\n",
       "<style scoped>\n",
       "    .dataframe tbody tr th:only-of-type {\n",
       "        vertical-align: middle;\n",
       "    }\n",
       "\n",
       "    .dataframe tbody tr th {\n",
       "        vertical-align: top;\n",
       "    }\n",
       "\n",
       "    .dataframe thead th {\n",
       "        text-align: right;\n",
       "    }\n",
       "</style>\n",
       "<table border=\"1\" class=\"dataframe\">\n",
       "  <thead>\n",
       "    <tr style=\"text-align: right;\">\n",
       "      <th></th>\n",
       "      <th>LR_demo</th>\n",
       "      <th>PCA_demo</th>\n",
       "      <th>smote_demo</th>\n",
       "      <th>LR_smote_pca</th>\n",
       "      <th>RF_all_feat</th>\n",
       "    </tr>\n",
       "  </thead>\n",
       "  <tbody>\n",
       "    <tr>\n",
       "      <th>Train Accuracy</th>\n",
       "      <td>0.531104</td>\n",
       "      <td>0.504273</td>\n",
       "      <td>0.535529</td>\n",
       "      <td>0.630832</td>\n",
       "      <td>0.652937</td>\n",
       "    </tr>\n",
       "    <tr>\n",
       "      <th>CM row1 - Train</th>\n",
       "      <td>23716, 21120</td>\n",
       "      <td>22485, 22351</td>\n",
       "      <td>23362, 21474</td>\n",
       "      <td>26929, 17907</td>\n",
       "      <td>29148, 15688</td>\n",
       "    </tr>\n",
       "    <tr>\n",
       "      <th>row2 - Train</th>\n",
       "      <td>829, 1145</td>\n",
       "      <td>854, 1120</td>\n",
       "      <td>20176, 24660</td>\n",
       "      <td>15197, 29639</td>\n",
       "      <td>558, 1416</td>\n",
       "    </tr>\n",
       "    <tr>\n",
       "      <th>Train Specificity</th>\n",
       "      <td>0.58</td>\n",
       "      <td>0.567</td>\n",
       "      <td>0.55</td>\n",
       "      <td>0.661</td>\n",
       "      <td>0.717</td>\n",
       "    </tr>\n",
       "    <tr>\n",
       "      <th>Train Sensitivity/Recall</th>\n",
       "      <td>0.051</td>\n",
       "      <td>0.048</td>\n",
       "      <td>0.535</td>\n",
       "      <td>0.623</td>\n",
       "      <td>0.083</td>\n",
       "    </tr>\n",
       "    <tr>\n",
       "      <th>Train Precision</th>\n",
       "      <td>0.051426</td>\n",
       "      <td>0.0477185</td>\n",
       "      <td>0.53453</td>\n",
       "      <td>0.623375</td>\n",
       "      <td>0.0827877</td>\n",
       "    </tr>\n",
       "    <tr>\n",
       "      <th>Train AUC</th>\n",
       "      <td>0.554495</td>\n",
       "      <td>0.534435</td>\n",
       "      <td>0.535529</td>\n",
       "      <td>0.630832</td>\n",
       "      <td>0.683714</td>\n",
       "    </tr>\n",
       "    <tr>\n",
       "      <th>Test Accuracy</th>\n",
       "      <td>0.524613</td>\n",
       "      <td>0.501279</td>\n",
       "      <td>0.518975</td>\n",
       "      <td>0.59895</td>\n",
       "      <td>0.639892</td>\n",
       "    </tr>\n",
       "    <tr>\n",
       "      <th>CM row1 - Test</th>\n",
       "      <td>11570, 10514</td>\n",
       "      <td>11034, 11050</td>\n",
       "      <td>11461, 10623</td>\n",
       "      <td>13204, 8880</td>\n",
       "      <td>14173, 7911</td>\n",
       "    </tr>\n",
       "    <tr>\n",
       "      <th>row2 - Test</th>\n",
       "      <td>447, 526</td>\n",
       "      <td>449, 524</td>\n",
       "      <td>468, 505</td>\n",
       "      <td>367, 606</td>\n",
       "      <td>392, 581</td>\n",
       "    </tr>\n",
       "    <tr>\n",
       "      <th>Test Specificity</th>\n",
       "      <td>0.541</td>\n",
       "      <td>0.539</td>\n",
       "      <td>0.519</td>\n",
       "      <td>0.623</td>\n",
       "      <td>0.597</td>\n",
       "    </tr>\n",
       "    <tr>\n",
       "      <th>Test Sensitivity/Recall</th>\n",
       "      <td>0.048</td>\n",
       "      <td>0.045</td>\n",
       "      <td>0.045</td>\n",
       "      <td>0.064</td>\n",
       "      <td>0.068</td>\n",
       "    </tr>\n",
       "    <tr>\n",
       "      <th>Test Precision</th>\n",
       "      <td>0.0476449</td>\n",
       "      <td>0.0452739</td>\n",
       "      <td>0.045381</td>\n",
       "      <td>0.0638836</td>\n",
       "      <td>0.0684173</td>\n",
       "    </tr>\n",
       "    <tr>\n",
       "      <th>Test AUC</th>\n",
       "      <td>0.532252</td>\n",
       "      <td>0.519089</td>\n",
       "      <td>0.518993</td>\n",
       "      <td>0.610357</td>\n",
       "      <td>0.61945</td>\n",
       "    </tr>\n",
       "  </tbody>\n",
       "</table>\n",
       "</div>"
      ],
      "text/plain": [
       "                               LR_demo      PCA_demo    smote_demo  \\\n",
       "Train Accuracy                0.531104      0.504273      0.535529   \n",
       "CM row1 - Train           23716, 21120  22485, 22351  23362, 21474   \n",
       "row2 - Train                 829, 1145     854, 1120  20176, 24660   \n",
       "Train Specificity                 0.58         0.567          0.55   \n",
       "Train Sensitivity/Recall         0.051         0.048         0.535   \n",
       "Train Precision               0.051426     0.0477185       0.53453   \n",
       "Train AUC                     0.554495      0.534435      0.535529   \n",
       "Test Accuracy                 0.524613      0.501279      0.518975   \n",
       "CM row1 - Test            11570, 10514  11034, 11050  11461, 10623   \n",
       "row2 - Test                   447, 526      449, 524      468, 505   \n",
       "Test Specificity                 0.541         0.539         0.519   \n",
       "Test Sensitivity/Recall          0.048         0.045         0.045   \n",
       "Test Precision               0.0476449     0.0452739      0.045381   \n",
       "Test AUC                      0.532252      0.519089      0.518993   \n",
       "\n",
       "                          LR_smote_pca   RF_all_feat  \n",
       "Train Accuracy                0.630832      0.652937  \n",
       "CM row1 - Train           26929, 17907  29148, 15688  \n",
       "row2 - Train              15197, 29639     558, 1416  \n",
       "Train Specificity                0.661         0.717  \n",
       "Train Sensitivity/Recall         0.623         0.083  \n",
       "Train Precision               0.623375     0.0827877  \n",
       "Train AUC                     0.630832      0.683714  \n",
       "Test Accuracy                  0.59895      0.639892  \n",
       "CM row1 - Test             13204, 8880   14173, 7911  \n",
       "row2 - Test                   367, 606      392, 581  \n",
       "Test Specificity                 0.623         0.597  \n",
       "Test Sensitivity/Recall          0.064         0.068  \n",
       "Test Precision               0.0638836     0.0684173  \n",
       "Test AUC                      0.610357       0.61945  "
      ]
     },
     "execution_count": 204,
     "metadata": {},
     "output_type": "execute_result"
    }
   ],
   "source": [
    "RF_all_feat = evaluate('RF_all_feat', grid, X_train[cols], y_train, \n",
    "                    X_test[cols], y_test)\n",
    "metrics = pd.concat([metrics, RF_all_feat], axis=1)\n",
    "metrics"
   ]
  },
  {
   "cell_type": "markdown",
   "metadata": {},
   "source": [
    "All metrics have improved train and test when we used Random Forest model"
   ]
  },
  {
   "cell_type": "code",
   "execution_count": 205,
   "metadata": {
    "ExecuteTime": {
     "end_time": "2019-09-15T15:03:56.311292Z",
     "start_time": "2019-09-15T15:03:53.927635Z"
    }
   },
   "outputs": [
    {
     "data": {
      "text/plain": [
       "RandomForestClassifier(bootstrap=True, class_weight='balanced',\n",
       "            criterion='gini', max_depth=13, max_features='auto',\n",
       "            max_leaf_nodes=None, min_impurity_decrease=0.0,\n",
       "            min_impurity_split=None, min_samples_leaf=110,\n",
       "            min_samples_split=475, min_weight_fraction_leaf=0.0,\n",
       "            n_estimators=100, n_jobs=None, oob_score=False,\n",
       "            random_state=None, verbose=0, warm_start=False)"
      ]
     },
     "execution_count": 205,
     "metadata": {},
     "output_type": "execute_result"
    }
   ],
   "source": [
    "model = RandomForestClassifier(class_weight='balanced',\n",
    "                      max_depth= 13,\n",
    "                      n_estimators=100,\n",
    "                      min_samples_leaf= 110,\n",
    "                      min_samples_split= 475)\n",
    "model.fit(X_train[cols], y_train)"
   ]
  },
  {
   "cell_type": "code",
   "execution_count": 206,
   "metadata": {
    "ExecuteTime": {
     "end_time": "2019-09-15T15:03:56.318272Z",
     "start_time": "2019-09-15T15:03:56.313258Z"
    }
   },
   "outputs": [],
   "source": [
    "from sklearn.metrics import roc_curve, roc_auc_score\n",
    "def draw_roc(y_true1, y_pred1, y_true2, y_pred2):\n",
    "    plt.figure(figsize=(10, 6))\n",
    "    \n",
    "    fpr, tpr,_ = roc_curve(y_true1, y_pred1, drop_intermediate = False)\n",
    "    auc_score = roc_auc_score(y_true1, y_pred1)\n",
    "    plt.plot(fpr, tpr, label='Train ROC curve (area = %0.2f)' % auc_score )\n",
    "    \n",
    "    fpr, tpr,_ = roc_curve(y_true2, y_pred2, drop_intermediate = False)\n",
    "    auc_score = roc_auc_score(y_true2, y_pred2)\n",
    "    plt.plot(fpr, tpr, label='Test ROC curve (area = %0.2f)' % auc_score )\n",
    "    \n",
    "    plt.plot([0, 1], [0, 1], 'k--')\n",
    "    plt.xlim([0.0, 1.0])\n",
    "    plt.ylim([0.0, 1.0])\n",
    "    plt.xlabel('False Positive Rate or [1 - True Negative Rate]')\n",
    "    plt.ylabel('True Positive Rate')\n",
    "    plt.title('Receiver operating characteristic')\n",
    "    plt.legend(loc=\"lower right\")\n",
    "    plt.show()\n",
    "\n",
    "    return None"
   ]
  },
  {
   "cell_type": "code",
   "execution_count": 207,
   "metadata": {
    "ExecuteTime": {
     "end_time": "2019-09-15T15:03:57.006565Z",
     "start_time": "2019-09-15T15:03:56.319241Z"
    }
   },
   "outputs": [
    {
     "data": {
      "text/plain": [
       "((46810,), (46810,), (23057,), (23057,))"
      ]
     },
     "execution_count": 207,
     "metadata": {},
     "output_type": "execute_result"
    }
   ],
   "source": [
    "y_pred_tr = model.predict(X_train[cols])\n",
    "y_pred_te = model.predict(X_test[cols])\n",
    "y_pred_tr.shape, y_train.shape, y_pred_te.shape, y_test.shape"
   ]
  },
  {
   "cell_type": "code",
   "execution_count": 208,
   "metadata": {
    "ExecuteTime": {
     "end_time": "2019-09-15T15:03:57.127216Z",
     "start_time": "2019-09-15T15:03:57.007537Z"
    }
   },
   "outputs": [
    {
     "data": {
      "image/png": "[encoded data removed]",
      "text/plain": [
       "<Figure size 720x432 with 1 Axes>"
      ]
     },
     "metadata": {
      "needs_background": "light"
     },
     "output_type": "display_data"
    }
   ],
   "source": [
    "draw_roc(y_train,y_pred_tr, y_test, y_pred_te)"
   ]
  },
  {
   "cell_type": "code",
   "execution_count": 209,
   "metadata": {
    "ExecuteTime": {
     "end_time": "2019-09-15T15:03:57.133200Z",
     "start_time": "2019-09-15T15:03:57.128214Z"
    }
   },
   "outputs": [],
   "source": [
    "def plot_feature_importances(clf, X, top_n=len(cols), figsize=(8,15),\n",
    "                             title=\"Feature Importances\"):\n",
    "    \n",
    "    \n",
    "    feat_imp = pd.DataFrame({'Importance':clf.feature_importances_})    \n",
    "    feat_imp['Feature'] = X.columns\n",
    "    feat_imp.sort_values(by='Importance', ascending=False, inplace=True)\n",
    "    feat_imp = feat_imp.iloc[:top_n]\n",
    "    \n",
    "    feat_imp.sort_values(by='Importance', inplace=True)\n",
    "    feat_imp = feat_imp.set_index('Feature', drop=True)\n",
    "    feat_imp.plot.barh(title=title, figsize=figsize)\n",
    "    plt.xlabel('Feature Importance Score')\n",
    "    \n",
    "    return feat_imp"
   ]
  },
  {
   "cell_type": "code",
   "execution_count": 210,
   "metadata": {
    "ExecuteTime": {
     "end_time": "2019-09-15T15:03:57.522210Z",
     "start_time": "2019-09-15T15:03:57.134198Z"
    }
   },
   "outputs": [
    {
     "data": {
      "image/png": "[encoded data removed]",
      "text/plain": [
       "<Figure size 576x1080 with 1 Axes>"
      ]
     },
     "metadata": {
      "needs_background": "light"
     },
     "output_type": "display_data"
    }
   ],
   "source": [
    "feat_imp =  plot_feature_importances(model, X_train[cols])"
   ]
  },
  {
   "cell_type": "markdown",
   "metadata": {},
   "source": [
    "## Application Scorecard"
   ]
  },
  {
   "cell_type": "code",
   "execution_count": 211,
   "metadata": {
    "ExecuteTime": {
     "end_time": "2019-09-15T15:03:58.101733Z",
     "start_time": "2019-09-15T15:03:57.523180Z"
    }
   },
   "outputs": [],
   "source": [
    "def_probs_tr = model.predict_proba(X_train[cols])\n",
    "def_probs_te = model.predict_proba(X_test[cols])"
   ]
  },
  {
   "cell_type": "code",
   "execution_count": 212,
   "metadata": {
    "ExecuteTime": {
     "end_time": "2019-09-15T15:03:58.106621Z",
     "start_time": "2019-09-15T15:03:58.102631Z"
    }
   },
   "outputs": [
    {
     "data": {
      "text/plain": [
       "((46810,), (46810,), (46810, 2))"
      ]
     },
     "execution_count": 212,
     "metadata": {},
     "output_type": "execute_result"
    }
   ],
   "source": [
    "X_train_ids.shape, y_train.shape, def_probs_tr.shape"
   ]
  },
  {
   "cell_type": "code",
   "execution_count": 213,
   "metadata": {
    "ExecuteTime": {
     "end_time": "2019-09-15T15:03:58.184415Z",
     "start_time": "2019-09-15T15:03:58.107619Z"
    }
   },
   "outputs": [],
   "source": [
    "tr = pd.DataFrame({'ids': X_train_ids, 'performance':y_train,'p_good': def_probs_tr[:,0]})\n",
    "te = pd.DataFrame({'ids': X_test_ids, 'performance':y_test,'p_good': def_probs_te[:,0]})"
   ]
  },
  {
   "cell_type": "code",
   "execution_count": 214,
   "metadata": {
    "ExecuteTime": {
     "end_time": "2019-09-15T15:03:58.317769Z",
     "start_time": "2019-09-15T15:03:58.185410Z"
    }
   },
   "outputs": [],
   "source": [
    "scorecard = pd.concat([tr,te], axis=0)"
   ]
  },
  {
   "cell_type": "code",
   "execution_count": 215,
   "metadata": {
    "ExecuteTime": {
     "end_time": "2019-09-15T15:03:58.405729Z",
     "start_time": "2019-09-15T15:03:58.318728Z"
    }
   },
   "outputs": [
    {
     "data": {
      "text/html": [
       "<div>\n",
       "<style scoped>\n",
       "    .dataframe tbody tr th:only-of-type {\n",
       "        vertical-align: middle;\n",
       "    }\n",
       "\n",
       "    .dataframe tbody tr th {\n",
       "        vertical-align: top;\n",
       "    }\n",
       "\n",
       "    .dataframe thead th {\n",
       "        text-align: right;\n",
       "    }\n",
       "</style>\n",
       "<table border=\"1\" class=\"dataframe\">\n",
       "  <thead>\n",
       "    <tr style=\"text-align: right;\">\n",
       "      <th></th>\n",
       "      <th>ids</th>\n",
       "      <th>performance</th>\n",
       "      <th>p_good</th>\n",
       "      <th>odds_good</th>\n",
       "      <th>log_odds</th>\n",
       "    </tr>\n",
       "  </thead>\n",
       "  <tbody>\n",
       "    <tr>\n",
       "      <th>50619</th>\n",
       "      <td>317409782</td>\n",
       "      <td>0.0</td>\n",
       "      <td>0.405337</td>\n",
       "      <td>0.681625</td>\n",
       "      <td>-0.383275</td>\n",
       "    </tr>\n",
       "    <tr>\n",
       "      <th>52805</th>\n",
       "      <td>195448247</td>\n",
       "      <td>0.0</td>\n",
       "      <td>0.543757</td>\n",
       "      <td>1.191815</td>\n",
       "      <td>0.175477</td>\n",
       "    </tr>\n",
       "    <tr>\n",
       "      <th>523</th>\n",
       "      <td>817529425</td>\n",
       "      <td>0.0</td>\n",
       "      <td>0.877534</td>\n",
       "      <td>7.165548</td>\n",
       "      <td>1.969285</td>\n",
       "    </tr>\n",
       "    <tr>\n",
       "      <th>50032</th>\n",
       "      <td>42991917</td>\n",
       "      <td>0.0</td>\n",
       "      <td>0.449927</td>\n",
       "      <td>0.817941</td>\n",
       "      <td>-0.200965</td>\n",
       "    </tr>\n",
       "    <tr>\n",
       "      <th>45438</th>\n",
       "      <td>507232865</td>\n",
       "      <td>0.0</td>\n",
       "      <td>0.443346</td>\n",
       "      <td>0.796448</td>\n",
       "      <td>-0.227594</td>\n",
       "    </tr>\n",
       "  </tbody>\n",
       "</table>\n",
       "</div>"
      ],
      "text/plain": [
       "             ids  performance    p_good  odds_good  log_odds\n",
       "50619  317409782          0.0  0.405337   0.681625 -0.383275\n",
       "52805  195448247          0.0  0.543757   1.191815  0.175477\n",
       "523    817529425          0.0  0.877534   7.165548  1.969285\n",
       "50032   42991917          0.0  0.449927   0.817941 -0.200965\n",
       "45438  507232865          0.0  0.443346   0.796448 -0.227594"
      ]
     },
     "execution_count": 215,
     "metadata": {},
     "output_type": "execute_result"
    }
   ],
   "source": [
    "scorecard['odds_good'] = scorecard['p_good']/ (1-scorecard['p_good'])\n",
    "scorecard.loc[scorecard['p_good']==1,'odds_good'] = 1\n",
    "scorecard['log_odds'] = np.log(scorecard['odds_good'])\n",
    "scorecard.head()"
   ]
  },
  {
   "cell_type": "code",
   "execution_count": 216,
   "metadata": {
    "ExecuteTime": {
     "end_time": "2019-09-15T15:03:58.521641Z",
     "start_time": "2019-09-15T15:03:58.406708Z"
    },
    "scrolled": true
   },
   "outputs": [
    {
     "data": {
      "text/html": [
       "<div>\n",
       "<style scoped>\n",
       "    .dataframe tbody tr th:only-of-type {\n",
       "        vertical-align: middle;\n",
       "    }\n",
       "\n",
       "    .dataframe tbody tr th {\n",
       "        vertical-align: top;\n",
       "    }\n",
       "\n",
       "    .dataframe thead th {\n",
       "        text-align: right;\n",
       "    }\n",
       "</style>\n",
       "<table border=\"1\" class=\"dataframe\">\n",
       "  <thead>\n",
       "    <tr style=\"text-align: right;\">\n",
       "      <th></th>\n",
       "      <th>ids</th>\n",
       "      <th>performance</th>\n",
       "      <th>p_good</th>\n",
       "      <th>odds_good</th>\n",
       "      <th>log_odds</th>\n",
       "      <th>score</th>\n",
       "    </tr>\n",
       "  </thead>\n",
       "  <tbody>\n",
       "    <tr>\n",
       "      <th>50619</th>\n",
       "      <td>317409782</td>\n",
       "      <td>0.0</td>\n",
       "      <td>0.405337</td>\n",
       "      <td>0.681625</td>\n",
       "      <td>-0.383275</td>\n",
       "      <td>322.502454</td>\n",
       "    </tr>\n",
       "    <tr>\n",
       "      <th>52805</th>\n",
       "      <td>195448247</td>\n",
       "      <td>0.0</td>\n",
       "      <td>0.543757</td>\n",
       "      <td>1.191815</td>\n",
       "      <td>0.175477</td>\n",
       "      <td>338.624645</td>\n",
       "    </tr>\n",
       "    <tr>\n",
       "      <th>523</th>\n",
       "      <td>817529425</td>\n",
       "      <td>0.0</td>\n",
       "      <td>0.877534</td>\n",
       "      <td>7.165548</td>\n",
       "      <td>1.969285</td>\n",
       "      <td>390.382980</td>\n",
       "    </tr>\n",
       "    <tr>\n",
       "      <th>50032</th>\n",
       "      <td>42991917</td>\n",
       "      <td>0.0</td>\n",
       "      <td>0.449927</td>\n",
       "      <td>0.817941</td>\n",
       "      <td>-0.200965</td>\n",
       "      <td>327.762821</td>\n",
       "    </tr>\n",
       "    <tr>\n",
       "      <th>45438</th>\n",
       "      <td>507232865</td>\n",
       "      <td>0.0</td>\n",
       "      <td>0.443346</td>\n",
       "      <td>0.796448</td>\n",
       "      <td>-0.227594</td>\n",
       "      <td>326.994471</td>\n",
       "    </tr>\n",
       "    <tr>\n",
       "      <th>67619</th>\n",
       "      <td>53880502</td>\n",
       "      <td>0.0</td>\n",
       "      <td>0.309901</td>\n",
       "      <td>0.449068</td>\n",
       "      <td>-0.800581</td>\n",
       "      <td>310.461542</td>\n",
       "    </tr>\n",
       "    <tr>\n",
       "      <th>23677</th>\n",
       "      <td>955749140</td>\n",
       "      <td>0.0</td>\n",
       "      <td>0.600308</td>\n",
       "      <td>1.501926</td>\n",
       "      <td>0.406748</td>\n",
       "      <td>345.297713</td>\n",
       "    </tr>\n",
       "    <tr>\n",
       "      <th>57141</th>\n",
       "      <td>745493072</td>\n",
       "      <td>0.0</td>\n",
       "      <td>0.358493</td>\n",
       "      <td>0.558829</td>\n",
       "      <td>-0.581912</td>\n",
       "      <td>316.770994</td>\n",
       "    </tr>\n",
       "    <tr>\n",
       "      <th>61536</th>\n",
       "      <td>253191204</td>\n",
       "      <td>0.0</td>\n",
       "      <td>0.383465</td>\n",
       "      <td>0.621969</td>\n",
       "      <td>-0.474865</td>\n",
       "      <td>319.859721</td>\n",
       "    </tr>\n",
       "    <tr>\n",
       "      <th>19340</th>\n",
       "      <td>36213945</td>\n",
       "      <td>0.0</td>\n",
       "      <td>0.716533</td>\n",
       "      <td>2.527751</td>\n",
       "      <td>0.927330</td>\n",
       "      <td>360.318529</td>\n",
       "    </tr>\n",
       "    <tr>\n",
       "      <th>4812</th>\n",
       "      <td>439607186</td>\n",
       "      <td>0.0</td>\n",
       "      <td>0.815789</td>\n",
       "      <td>4.428563</td>\n",
       "      <td>1.488075</td>\n",
       "      <td>376.498209</td>\n",
       "    </tr>\n",
       "    <tr>\n",
       "      <th>27120</th>\n",
       "      <td>462679146</td>\n",
       "      <td>0.0</td>\n",
       "      <td>0.635709</td>\n",
       "      <td>1.745056</td>\n",
       "      <td>0.556787</td>\n",
       "      <td>349.626904</td>\n",
       "    </tr>\n",
       "    <tr>\n",
       "      <th>44653</th>\n",
       "      <td>929101677</td>\n",
       "      <td>0.0</td>\n",
       "      <td>0.508914</td>\n",
       "      <td>1.036305</td>\n",
       "      <td>0.035661</td>\n",
       "      <td>334.590401</td>\n",
       "    </tr>\n",
       "    <tr>\n",
       "      <th>42881</th>\n",
       "      <td>855199768</td>\n",
       "      <td>0.0</td>\n",
       "      <td>0.489930</td>\n",
       "      <td>0.960517</td>\n",
       "      <td>-0.040284</td>\n",
       "      <td>332.399085</td>\n",
       "    </tr>\n",
       "    <tr>\n",
       "      <th>25744</th>\n",
       "      <td>994784241</td>\n",
       "      <td>0.0</td>\n",
       "      <td>0.691563</td>\n",
       "      <td>2.242154</td>\n",
       "      <td>0.807437</td>\n",
       "      <td>356.859148</td>\n",
       "    </tr>\n",
       "    <tr>\n",
       "      <th>34742</th>\n",
       "      <td>273877508</td>\n",
       "      <td>0.0</td>\n",
       "      <td>0.706210</td>\n",
       "      <td>2.403788</td>\n",
       "      <td>0.877046</td>\n",
       "      <td>358.867635</td>\n",
       "    </tr>\n",
       "    <tr>\n",
       "      <th>60413</th>\n",
       "      <td>275522261</td>\n",
       "      <td>0.0</td>\n",
       "      <td>0.389910</td>\n",
       "      <td>0.639103</td>\n",
       "      <td>-0.447690</td>\n",
       "      <td>320.643842</td>\n",
       "    </tr>\n",
       "    <tr>\n",
       "      <th>27693</th>\n",
       "      <td>329928796</td>\n",
       "      <td>0.0</td>\n",
       "      <td>0.709469</td>\n",
       "      <td>2.441970</td>\n",
       "      <td>0.892805</td>\n",
       "      <td>359.322349</td>\n",
       "    </tr>\n",
       "    <tr>\n",
       "      <th>31114</th>\n",
       "      <td>605484038</td>\n",
       "      <td>0.0</td>\n",
       "      <td>0.581697</td>\n",
       "      <td>1.390611</td>\n",
       "      <td>0.329743</td>\n",
       "      <td>343.075819</td>\n",
       "    </tr>\n",
       "    <tr>\n",
       "      <th>14821</th>\n",
       "      <td>666942246</td>\n",
       "      <td>0.0</td>\n",
       "      <td>0.788898</td>\n",
       "      <td>3.737036</td>\n",
       "      <td>1.318293</td>\n",
       "      <td>371.599330</td>\n",
       "    </tr>\n",
       "    <tr>\n",
       "      <th>67260</th>\n",
       "      <td>19611103</td>\n",
       "      <td>0.0</td>\n",
       "      <td>0.385920</td>\n",
       "      <td>0.628453</td>\n",
       "      <td>-0.464495</td>\n",
       "      <td>320.158960</td>\n",
       "    </tr>\n",
       "    <tr>\n",
       "      <th>17778</th>\n",
       "      <td>843301663</td>\n",
       "      <td>0.0</td>\n",
       "      <td>0.790095</td>\n",
       "      <td>3.764069</td>\n",
       "      <td>1.325500</td>\n",
       "      <td>371.807297</td>\n",
       "    </tr>\n",
       "    <tr>\n",
       "      <th>25387</th>\n",
       "      <td>144270472</td>\n",
       "      <td>0.0</td>\n",
       "      <td>0.738805</td>\n",
       "      <td>2.828564</td>\n",
       "      <td>1.039769</td>\n",
       "      <td>363.562835</td>\n",
       "    </tr>\n",
       "    <tr>\n",
       "      <th>47722</th>\n",
       "      <td>631291840</td>\n",
       "      <td>0.0</td>\n",
       "      <td>0.506881</td>\n",
       "      <td>1.027908</td>\n",
       "      <td>0.027525</td>\n",
       "      <td>334.355653</td>\n",
       "    </tr>\n",
       "    <tr>\n",
       "      <th>16635</th>\n",
       "      <td>122885122</td>\n",
       "      <td>0.0</td>\n",
       "      <td>0.758927</td>\n",
       "      <td>3.148114</td>\n",
       "      <td>1.146804</td>\n",
       "      <td>366.651197</td>\n",
       "    </tr>\n",
       "    <tr>\n",
       "      <th>35261</th>\n",
       "      <td>21843193</td>\n",
       "      <td>0.0</td>\n",
       "      <td>0.568265</td>\n",
       "      <td>1.316235</td>\n",
       "      <td>0.274775</td>\n",
       "      <td>341.489770</td>\n",
       "    </tr>\n",
       "    <tr>\n",
       "      <th>60488</th>\n",
       "      <td>281159992</td>\n",
       "      <td>0.0</td>\n",
       "      <td>0.424464</td>\n",
       "      <td>0.737509</td>\n",
       "      <td>-0.304476</td>\n",
       "      <td>324.776106</td>\n",
       "    </tr>\n",
       "    <tr>\n",
       "      <th>39553</th>\n",
       "      <td>641962655</td>\n",
       "      <td>0.0</td>\n",
       "      <td>0.652518</td>\n",
       "      <td>1.877846</td>\n",
       "      <td>0.630125</td>\n",
       "      <td>351.743015</td>\n",
       "    </tr>\n",
       "    <tr>\n",
       "      <th>29475</th>\n",
       "      <td>640869481</td>\n",
       "      <td>0.0</td>\n",
       "      <td>0.704412</td>\n",
       "      <td>2.383091</td>\n",
       "      <td>0.868398</td>\n",
       "      <td>358.618120</td>\n",
       "    </tr>\n",
       "    <tr>\n",
       "      <th>27661</th>\n",
       "      <td>195300376</td>\n",
       "      <td>0.0</td>\n",
       "      <td>0.718444</td>\n",
       "      <td>2.551688</td>\n",
       "      <td>0.936755</td>\n",
       "      <td>360.590482</td>\n",
       "    </tr>\n",
       "    <tr>\n",
       "      <th>...</th>\n",
       "      <td>...</td>\n",
       "      <td>...</td>\n",
       "      <td>...</td>\n",
       "      <td>...</td>\n",
       "      <td>...</td>\n",
       "      <td>...</td>\n",
       "    </tr>\n",
       "    <tr>\n",
       "      <th>32337</th>\n",
       "      <td>762284603</td>\n",
       "      <td>0.0</td>\n",
       "      <td>0.530789</td>\n",
       "      <td>1.131239</td>\n",
       "      <td>0.123313</td>\n",
       "      <td>337.119506</td>\n",
       "    </tr>\n",
       "    <tr>\n",
       "      <th>45643</th>\n",
       "      <td>438976578</td>\n",
       "      <td>0.0</td>\n",
       "      <td>0.531689</td>\n",
       "      <td>1.135334</td>\n",
       "      <td>0.126927</td>\n",
       "      <td>337.223766</td>\n",
       "    </tr>\n",
       "    <tr>\n",
       "      <th>56074</th>\n",
       "      <td>91775663</td>\n",
       "      <td>0.0</td>\n",
       "      <td>0.439176</td>\n",
       "      <td>0.783092</td>\n",
       "      <td>-0.244505</td>\n",
       "      <td>326.506518</td>\n",
       "    </tr>\n",
       "    <tr>\n",
       "      <th>67509</th>\n",
       "      <td>245185611</td>\n",
       "      <td>1.0</td>\n",
       "      <td>0.359085</td>\n",
       "      <td>0.560268</td>\n",
       "      <td>-0.579339</td>\n",
       "      <td>316.845240</td>\n",
       "    </tr>\n",
       "    <tr>\n",
       "      <th>16076</th>\n",
       "      <td>415726605</td>\n",
       "      <td>0.0</td>\n",
       "      <td>0.685783</td>\n",
       "      <td>2.182510</td>\n",
       "      <td>0.780476</td>\n",
       "      <td>356.081210</td>\n",
       "    </tr>\n",
       "    <tr>\n",
       "      <th>41423</th>\n",
       "      <td>131282169</td>\n",
       "      <td>0.0</td>\n",
       "      <td>0.498820</td>\n",
       "      <td>0.995290</td>\n",
       "      <td>-0.004721</td>\n",
       "      <td>333.425222</td>\n",
       "    </tr>\n",
       "    <tr>\n",
       "      <th>44444</th>\n",
       "      <td>866412964</td>\n",
       "      <td>0.0</td>\n",
       "      <td>0.513003</td>\n",
       "      <td>1.053401</td>\n",
       "      <td>0.052024</td>\n",
       "      <td>335.062537</td>\n",
       "    </tr>\n",
       "    <tr>\n",
       "      <th>46232</th>\n",
       "      <td>759727320</td>\n",
       "      <td>0.0</td>\n",
       "      <td>0.559555</td>\n",
       "      <td>1.270431</td>\n",
       "      <td>0.239356</td>\n",
       "      <td>340.467806</td>\n",
       "    </tr>\n",
       "    <tr>\n",
       "      <th>18487</th>\n",
       "      <td>183423656</td>\n",
       "      <td>0.0</td>\n",
       "      <td>0.661800</td>\n",
       "      <td>1.956827</td>\n",
       "      <td>0.671324</td>\n",
       "      <td>352.931760</td>\n",
       "    </tr>\n",
       "    <tr>\n",
       "      <th>64553</th>\n",
       "      <td>274562379</td>\n",
       "      <td>0.0</td>\n",
       "      <td>0.406872</td>\n",
       "      <td>0.685976</td>\n",
       "      <td>-0.376913</td>\n",
       "      <td>322.686032</td>\n",
       "    </tr>\n",
       "    <tr>\n",
       "      <th>11735</th>\n",
       "      <td>376291644</td>\n",
       "      <td>0.0</td>\n",
       "      <td>0.685087</td>\n",
       "      <td>2.175483</td>\n",
       "      <td>0.777251</td>\n",
       "      <td>355.988154</td>\n",
       "    </tr>\n",
       "    <tr>\n",
       "      <th>67511</th>\n",
       "      <td>343406571</td>\n",
       "      <td>0.0</td>\n",
       "      <td>0.393491</td>\n",
       "      <td>0.648780</td>\n",
       "      <td>-0.432662</td>\n",
       "      <td>321.077462</td>\n",
       "    </tr>\n",
       "    <tr>\n",
       "      <th>62304</th>\n",
       "      <td>409292735</td>\n",
       "      <td>0.0</td>\n",
       "      <td>0.341840</td>\n",
       "      <td>0.519388</td>\n",
       "      <td>-0.655104</td>\n",
       "      <td>314.659123</td>\n",
       "    </tr>\n",
       "    <tr>\n",
       "      <th>1631</th>\n",
       "      <td>898564528</td>\n",
       "      <td>1.0</td>\n",
       "      <td>0.877201</td>\n",
       "      <td>7.143408</td>\n",
       "      <td>1.966190</td>\n",
       "      <td>390.293689</td>\n",
       "    </tr>\n",
       "    <tr>\n",
       "      <th>21487</th>\n",
       "      <td>222834124</td>\n",
       "      <td>0.0</td>\n",
       "      <td>0.663149</td>\n",
       "      <td>1.968671</td>\n",
       "      <td>0.677359</td>\n",
       "      <td>353.105881</td>\n",
       "    </tr>\n",
       "    <tr>\n",
       "      <th>9652</th>\n",
       "      <td>506117462</td>\n",
       "      <td>0.0</td>\n",
       "      <td>0.646030</td>\n",
       "      <td>1.825095</td>\n",
       "      <td>0.601632</td>\n",
       "      <td>350.920875</td>\n",
       "    </tr>\n",
       "    <tr>\n",
       "      <th>26627</th>\n",
       "      <td>882975474</td>\n",
       "      <td>0.0</td>\n",
       "      <td>0.679387</td>\n",
       "      <td>2.119023</td>\n",
       "      <td>0.750955</td>\n",
       "      <td>355.229418</td>\n",
       "    </tr>\n",
       "    <tr>\n",
       "      <th>40954</th>\n",
       "      <td>425743666</td>\n",
       "      <td>0.0</td>\n",
       "      <td>0.455932</td>\n",
       "      <td>0.838006</td>\n",
       "      <td>-0.176730</td>\n",
       "      <td>328.462102</td>\n",
       "    </tr>\n",
       "    <tr>\n",
       "      <th>31920</th>\n",
       "      <td>1947431</td>\n",
       "      <td>0.0</td>\n",
       "      <td>0.601508</td>\n",
       "      <td>1.509464</td>\n",
       "      <td>0.411754</td>\n",
       "      <td>345.442160</td>\n",
       "    </tr>\n",
       "    <tr>\n",
       "      <th>12572</th>\n",
       "      <td>741849522</td>\n",
       "      <td>0.0</td>\n",
       "      <td>0.759226</td>\n",
       "      <td>3.153265</td>\n",
       "      <td>1.148438</td>\n",
       "      <td>366.698368</td>\n",
       "    </tr>\n",
       "    <tr>\n",
       "      <th>16895</th>\n",
       "      <td>947839912</td>\n",
       "      <td>0.0</td>\n",
       "      <td>0.804872</td>\n",
       "      <td>4.124839</td>\n",
       "      <td>1.417027</td>\n",
       "      <td>374.448196</td>\n",
       "    </tr>\n",
       "    <tr>\n",
       "      <th>14346</th>\n",
       "      <td>270338303</td>\n",
       "      <td>0.0</td>\n",
       "      <td>0.780035</td>\n",
       "      <td>3.546174</td>\n",
       "      <td>1.265869</td>\n",
       "      <td>370.086702</td>\n",
       "    </tr>\n",
       "    <tr>\n",
       "      <th>69505</th>\n",
       "      <td>743585784</td>\n",
       "      <td>0.0</td>\n",
       "      <td>0.318180</td>\n",
       "      <td>0.466662</td>\n",
       "      <td>-0.762151</td>\n",
       "      <td>311.570419</td>\n",
       "    </tr>\n",
       "    <tr>\n",
       "      <th>21776</th>\n",
       "      <td>173969977</td>\n",
       "      <td>0.0</td>\n",
       "      <td>0.653411</td>\n",
       "      <td>1.885265</td>\n",
       "      <td>0.634068</td>\n",
       "      <td>351.856778</td>\n",
       "    </tr>\n",
       "    <tr>\n",
       "      <th>37654</th>\n",
       "      <td>922308025</td>\n",
       "      <td>0.0</td>\n",
       "      <td>0.594365</td>\n",
       "      <td>1.465273</td>\n",
       "      <td>0.382042</td>\n",
       "      <td>344.584827</td>\n",
       "    </tr>\n",
       "    <tr>\n",
       "      <th>6563</th>\n",
       "      <td>439114267</td>\n",
       "      <td>0.0</td>\n",
       "      <td>0.819662</td>\n",
       "      <td>4.545137</td>\n",
       "      <td>1.514058</td>\n",
       "      <td>377.247915</td>\n",
       "    </tr>\n",
       "    <tr>\n",
       "      <th>20076</th>\n",
       "      <td>349729677</td>\n",
       "      <td>0.0</td>\n",
       "      <td>0.697554</td>\n",
       "      <td>2.306370</td>\n",
       "      <td>0.835675</td>\n",
       "      <td>357.673921</td>\n",
       "    </tr>\n",
       "    <tr>\n",
       "      <th>44468</th>\n",
       "      <td>338901176</td>\n",
       "      <td>0.0</td>\n",
       "      <td>0.517160</td>\n",
       "      <td>1.071080</td>\n",
       "      <td>0.068668</td>\n",
       "      <td>335.542766</td>\n",
       "    </tr>\n",
       "    <tr>\n",
       "      <th>40739</th>\n",
       "      <td>446481002</td>\n",
       "      <td>0.0</td>\n",
       "      <td>0.488722</td>\n",
       "      <td>0.955884</td>\n",
       "      <td>-0.045118</td>\n",
       "      <td>332.259602</td>\n",
       "    </tr>\n",
       "    <tr>\n",
       "      <th>57934</th>\n",
       "      <td>643805114</td>\n",
       "      <td>0.0</td>\n",
       "      <td>0.387876</td>\n",
       "      <td>0.633656</td>\n",
       "      <td>-0.456249</td>\n",
       "      <td>320.396879</td>\n",
       "    </tr>\n",
       "  </tbody>\n",
       "</table>\n",
       "<p>69867 rows × 6 columns</p>\n",
       "</div>"
      ],
      "text/plain": [
       "             ids  performance    p_good  odds_good  log_odds       score\n",
       "50619  317409782          0.0  0.405337   0.681625 -0.383275  322.502454\n",
       "52805  195448247          0.0  0.543757   1.191815  0.175477  338.624645\n",
       "523    817529425          0.0  0.877534   7.165548  1.969285  390.382980\n",
       "50032   42991917          0.0  0.449927   0.817941 -0.200965  327.762821\n",
       "45438  507232865          0.0  0.443346   0.796448 -0.227594  326.994471\n",
       "67619   53880502          0.0  0.309901   0.449068 -0.800581  310.461542\n",
       "23677  955749140          0.0  0.600308   1.501926  0.406748  345.297713\n",
       "57141  745493072          0.0  0.358493   0.558829 -0.581912  316.770994\n",
       "61536  253191204          0.0  0.383465   0.621969 -0.474865  319.859721\n",
       "19340   36213945          0.0  0.716533   2.527751  0.927330  360.318529\n",
       "4812   439607186          0.0  0.815789   4.428563  1.488075  376.498209\n",
       "27120  462679146          0.0  0.635709   1.745056  0.556787  349.626904\n",
       "44653  929101677          0.0  0.508914   1.036305  0.035661  334.590401\n",
       "42881  855199768          0.0  0.489930   0.960517 -0.040284  332.399085\n",
       "25744  994784241          0.0  0.691563   2.242154  0.807437  356.859148\n",
       "34742  273877508          0.0  0.706210   2.403788  0.877046  358.867635\n",
       "60413  275522261          0.0  0.389910   0.639103 -0.447690  320.643842\n",
       "27693  329928796          0.0  0.709469   2.441970  0.892805  359.322349\n",
       "31114  605484038          0.0  0.581697   1.390611  0.329743  343.075819\n",
       "14821  666942246          0.0  0.788898   3.737036  1.318293  371.599330\n",
       "67260   19611103          0.0  0.385920   0.628453 -0.464495  320.158960\n",
       "17778  843301663          0.0  0.790095   3.764069  1.325500  371.807297\n",
       "25387  144270472          0.0  0.738805   2.828564  1.039769  363.562835\n",
       "47722  631291840          0.0  0.506881   1.027908  0.027525  334.355653\n",
       "16635  122885122          0.0  0.758927   3.148114  1.146804  366.651197\n",
       "35261   21843193          0.0  0.568265   1.316235  0.274775  341.489770\n",
       "60488  281159992          0.0  0.424464   0.737509 -0.304476  324.776106\n",
       "39553  641962655          0.0  0.652518   1.877846  0.630125  351.743015\n",
       "29475  640869481          0.0  0.704412   2.383091  0.868398  358.618120\n",
       "27661  195300376          0.0  0.718444   2.551688  0.936755  360.590482\n",
       "...          ...          ...       ...        ...       ...         ...\n",
       "32337  762284603          0.0  0.530789   1.131239  0.123313  337.119506\n",
       "45643  438976578          0.0  0.531689   1.135334  0.126927  337.223766\n",
       "56074   91775663          0.0  0.439176   0.783092 -0.244505  326.506518\n",
       "67509  245185611          1.0  0.359085   0.560268 -0.579339  316.845240\n",
       "16076  415726605          0.0  0.685783   2.182510  0.780476  356.081210\n",
       "41423  131282169          0.0  0.498820   0.995290 -0.004721  333.425222\n",
       "44444  866412964          0.0  0.513003   1.053401  0.052024  335.062537\n",
       "46232  759727320          0.0  0.559555   1.270431  0.239356  340.467806\n",
       "18487  183423656          0.0  0.661800   1.956827  0.671324  352.931760\n",
       "64553  274562379          0.0  0.406872   0.685976 -0.376913  322.686032\n",
       "11735  376291644          0.0  0.685087   2.175483  0.777251  355.988154\n",
       "67511  343406571          0.0  0.393491   0.648780 -0.432662  321.077462\n",
       "62304  409292735          0.0  0.341840   0.519388 -0.655104  314.659123\n",
       "1631   898564528          1.0  0.877201   7.143408  1.966190  390.293689\n",
       "21487  222834124          0.0  0.663149   1.968671  0.677359  353.105881\n",
       "9652   506117462          0.0  0.646030   1.825095  0.601632  350.920875\n",
       "26627  882975474          0.0  0.679387   2.119023  0.750955  355.229418\n",
       "40954  425743666          0.0  0.455932   0.838006 -0.176730  328.462102\n",
       "31920    1947431          0.0  0.601508   1.509464  0.411754  345.442160\n",
       "12572  741849522          0.0  0.759226   3.153265  1.148438  366.698368\n",
       "16895  947839912          0.0  0.804872   4.124839  1.417027  374.448196\n",
       "14346  270338303          0.0  0.780035   3.546174  1.265869  370.086702\n",
       "69505  743585784          0.0  0.318180   0.466662 -0.762151  311.570419\n",
       "21776  173969977          0.0  0.653411   1.885265  0.634068  351.856778\n",
       "37654  922308025          0.0  0.594365   1.465273  0.382042  344.584827\n",
       "6563   439114267          0.0  0.819662   4.545137  1.514058  377.247915\n",
       "20076  349729677          0.0  0.697554   2.306370  0.835675  357.673921\n",
       "44468  338901176          0.0  0.517160   1.071080  0.068668  335.542766\n",
       "40739  446481002          0.0  0.488722   0.955884 -0.045118  332.259602\n",
       "57934  643805114          0.0  0.387876   0.633656 -0.456249  320.396879\n",
       "\n",
       "[69867 rows x 6 columns]"
      ]
     },
     "execution_count": 216,
     "metadata": {},
     "output_type": "execute_result"
    }
   ],
   "source": [
    "score = 400\n",
    "factor = 20/np.log(2)\n",
    "offset = score - (factor * np.log(10))\n",
    "scorecard['score'] = (scorecard['log_odds']*factor) + offset\n",
    "scorecard"
   ]
  },
  {
   "cell_type": "code",
   "execution_count": 217,
   "metadata": {
    "ExecuteTime": {
     "end_time": "2019-09-15T15:03:58.651309Z",
     "start_time": "2019-09-15T15:03:58.522619Z"
    }
   },
   "outputs": [
    {
     "data": {
      "text/html": [
       "<div>\n",
       "<style scoped>\n",
       "    .dataframe tbody tr th:only-of-type {\n",
       "        vertical-align: middle;\n",
       "    }\n",
       "\n",
       "    .dataframe tbody tr th {\n",
       "        vertical-align: top;\n",
       "    }\n",
       "\n",
       "    .dataframe thead th {\n",
       "        text-align: right;\n",
       "    }\n",
       "</style>\n",
       "<table border=\"1\" class=\"dataframe\">\n",
       "  <thead>\n",
       "    <tr style=\"text-align: right;\">\n",
       "      <th></th>\n",
       "      <th>ids</th>\n",
       "      <th>performance</th>\n",
       "      <th>p_good</th>\n",
       "      <th>odds_good</th>\n",
       "      <th>log_odds</th>\n",
       "      <th>score</th>\n",
       "    </tr>\n",
       "  </thead>\n",
       "  <tbody>\n",
       "    <tr>\n",
       "      <th>count</th>\n",
       "      <td>6.986700e+04</td>\n",
       "      <td>69867.000000</td>\n",
       "      <td>69867.000000</td>\n",
       "      <td>69867.000000</td>\n",
       "      <td>69867.000000</td>\n",
       "      <td>69867.000000</td>\n",
       "    </tr>\n",
       "    <tr>\n",
       "      <th>mean</th>\n",
       "      <td>4.992179e+08</td>\n",
       "      <td>0.042180</td>\n",
       "      <td>0.585601</td>\n",
       "      <td>1.987654</td>\n",
       "      <td>0.399750</td>\n",
       "      <td>345.095774</td>\n",
       "    </tr>\n",
       "    <tr>\n",
       "      <th>std</th>\n",
       "      <td>2.885551e+08</td>\n",
       "      <td>0.201001</td>\n",
       "      <td>0.166201</td>\n",
       "      <td>1.592087</td>\n",
       "      <td>0.753525</td>\n",
       "      <td>21.742140</td>\n",
       "    </tr>\n",
       "    <tr>\n",
       "      <th>min</th>\n",
       "      <td>1.004500e+05</td>\n",
       "      <td>0.000000</td>\n",
       "      <td>0.257778</td>\n",
       "      <td>0.347305</td>\n",
       "      <td>-1.057551</td>\n",
       "      <td>303.046957</td>\n",
       "    </tr>\n",
       "    <tr>\n",
       "      <th>25%</th>\n",
       "      <td>2.485673e+08</td>\n",
       "      <td>0.000000</td>\n",
       "      <td>0.436639</td>\n",
       "      <td>0.775060</td>\n",
       "      <td>-0.254815</td>\n",
       "      <td>326.209039</td>\n",
       "    </tr>\n",
       "    <tr>\n",
       "      <th>50%</th>\n",
       "      <td>4.980015e+08</td>\n",
       "      <td>0.000000</td>\n",
       "      <td>0.583467</td>\n",
       "      <td>1.400770</td>\n",
       "      <td>0.337022</td>\n",
       "      <td>343.285848</td>\n",
       "    </tr>\n",
       "    <tr>\n",
       "      <th>75%</th>\n",
       "      <td>7.498625e+08</td>\n",
       "      <td>0.000000</td>\n",
       "      <td>0.737533</td>\n",
       "      <td>2.810008</td>\n",
       "      <td>1.033187</td>\n",
       "      <td>363.372925</td>\n",
       "    </tr>\n",
       "    <tr>\n",
       "      <th>max</th>\n",
       "      <td>1.000084e+09</td>\n",
       "      <td>1.000000</td>\n",
       "      <td>0.940794</td>\n",
       "      <td>15.890209</td>\n",
       "      <td>2.765703</td>\n",
       "      <td>413.362762</td>\n",
       "    </tr>\n",
       "  </tbody>\n",
       "</table>\n",
       "</div>"
      ],
      "text/plain": [
       "                ids   performance        p_good     odds_good      log_odds  \\\n",
       "count  6.986700e+04  69867.000000  69867.000000  69867.000000  69867.000000   \n",
       "mean   4.992179e+08      0.042180      0.585601      1.987654      0.399750   \n",
       "std    2.885551e+08      0.201001      0.166201      1.592087      0.753525   \n",
       "min    1.004500e+05      0.000000      0.257778      0.347305     -1.057551   \n",
       "25%    2.485673e+08      0.000000      0.436639      0.775060     -0.254815   \n",
       "50%    4.980015e+08      0.000000      0.583467      1.400770      0.337022   \n",
       "75%    7.498625e+08      0.000000      0.737533      2.810008      1.033187   \n",
       "max    1.000084e+09      1.000000      0.940794     15.890209      2.765703   \n",
       "\n",
       "              score  \n",
       "count  69867.000000  \n",
       "mean     345.095774  \n",
       "std       21.742140  \n",
       "min      303.046957  \n",
       "25%      326.209039  \n",
       "50%      343.285848  \n",
       "75%      363.372925  \n",
       "max      413.362762  "
      ]
     },
     "execution_count": 217,
     "metadata": {},
     "output_type": "execute_result"
    }
   ],
   "source": [
    "scorecard.describe()"
   ]
  },
  {
   "cell_type": "code",
   "execution_count": 218,
   "metadata": {
    "ExecuteTime": {
     "end_time": "2019-09-15T15:03:58.708152Z",
     "start_time": "2019-09-15T15:03:58.652273Z"
    }
   },
   "outputs": [
    {
     "data": {
      "text/html": [
       "<div>\n",
       "<style scoped>\n",
       "    .dataframe tbody tr th:only-of-type {\n",
       "        vertical-align: middle;\n",
       "    }\n",
       "\n",
       "    .dataframe tbody tr th {\n",
       "        vertical-align: top;\n",
       "    }\n",
       "\n",
       "    .dataframe thead tr th {\n",
       "        text-align: left;\n",
       "    }\n",
       "\n",
       "    .dataframe thead tr:last-of-type th {\n",
       "        text-align: right;\n",
       "    }\n",
       "</style>\n",
       "<table border=\"1\" class=\"dataframe\">\n",
       "  <thead>\n",
       "    <tr>\n",
       "      <th></th>\n",
       "      <th>ids</th>\n",
       "      <th colspan=\"4\" halign=\"left\">score</th>\n",
       "    </tr>\n",
       "    <tr>\n",
       "      <th></th>\n",
       "      <th>count</th>\n",
       "      <th>median</th>\n",
       "      <th>mean</th>\n",
       "      <th>min</th>\n",
       "      <th>max</th>\n",
       "    </tr>\n",
       "    <tr>\n",
       "      <th>performance</th>\n",
       "      <th></th>\n",
       "      <th></th>\n",
       "      <th></th>\n",
       "      <th></th>\n",
       "      <th></th>\n",
       "    </tr>\n",
       "  </thead>\n",
       "  <tbody>\n",
       "    <tr>\n",
       "      <th>0.0</th>\n",
       "      <td>66920</td>\n",
       "      <td>344.316814</td>\n",
       "      <td>345.807126</td>\n",
       "      <td>303.584232</td>\n",
       "      <td>413.362762</td>\n",
       "    </tr>\n",
       "    <tr>\n",
       "      <th>1.0</th>\n",
       "      <td>2947</td>\n",
       "      <td>324.782637</td>\n",
       "      <td>328.942502</td>\n",
       "      <td>303.046957</td>\n",
       "      <td>390.293689</td>\n",
       "    </tr>\n",
       "  </tbody>\n",
       "</table>\n",
       "</div>"
      ],
      "text/plain": [
       "               ids       score                                    \n",
       "             count      median        mean         min         max\n",
       "performance                                                       \n",
       "0.0          66920  344.316814  345.807126  303.584232  413.362762\n",
       "1.0           2947  324.782637  328.942502  303.046957  390.293689"
      ]
     },
     "execution_count": 218,
     "metadata": {},
     "output_type": "execute_result"
    }
   ],
   "source": [
    "scorecard.groupby(by='performance').agg({'ids':'count', 'score':['median','mean','min','max']})"
   ]
  },
  {
   "cell_type": "code",
   "execution_count": 219,
   "metadata": {
    "ExecuteTime": {
     "end_time": "2019-09-15T15:03:58.980396Z",
     "start_time": "2019-09-15T15:03:58.711116Z"
    }
   },
   "outputs": [
    {
     "data": {
      "text/plain": [
       "<matplotlib.axes._subplots.AxesSubplot at 0x1fad81865c0>"
      ]
     },
     "execution_count": 219,
     "metadata": {},
     "output_type": "execute_result"
    },
    {
     "data": {
      "image/png": "[encoded data removed]",
      "text/plain": [
       "<Figure size 432x288 with 1 Axes>"
      ]
     },
     "metadata": {
      "needs_background": "light"
     },
     "output_type": "display_data"
    }
   ],
   "source": [
    "sns.distplot(scorecard['score'])"
   ]
  },
  {
   "cell_type": "code",
   "execution_count": 220,
   "metadata": {
    "ExecuteTime": {
     "end_time": "2019-09-15T15:03:59.136007Z",
     "start_time": "2019-09-15T15:03:58.981394Z"
    }
   },
   "outputs": [
    {
     "data": {
      "image/png": "[encoded data removed]",
      "text/plain": [
       "<Figure size 1080x576 with 1 Axes>"
      ]
     },
     "metadata": {
      "needs_background": "light"
     },
     "output_type": "display_data"
    }
   ],
   "source": [
    "fig, ax = plt.subplots(1, 1, figsize=(15, 8))\n",
    "\n",
    "sns.distplot(scorecard.loc[scorecard['performance']==0,'score'], kde=True, hist=False, color='blue', label='Good', ax=ax)                                    \n",
    "sns.distplot(scorecard.loc[scorecard['performance']==1,'score'], kde=True, hist=False, color='red', label='Default', ax=ax)\n",
    "plt.title('Comparison of distributions', fontsize=16)\n",
    "plt.legend();\n",
    "plt.show()"
   ]
  },
  {
   "cell_type": "code",
   "execution_count": 221,
   "metadata": {
    "ExecuteTime": {
     "end_time": "2019-09-15T15:03:59.143983Z",
     "start_time": "2019-09-15T15:03:59.136978Z"
    }
   },
   "outputs": [],
   "source": [
    "scorecard['by_cutoff'] = 0\n",
    "scorecard.loc[ scorecard['score'] <= 340 ,'by_cutoff'] = 1"
   ]
  },
  {
   "cell_type": "code",
   "execution_count": 226,
   "metadata": {
    "ExecuteTime": {
     "end_time": "2019-09-15T15:06:45.808177Z",
     "start_time": "2019-09-15T15:06:45.789202Z"
    }
   },
   "outputs": [],
   "source": [
    "pred_no_perf_set = model.predict(no_perf_set.drop('id', axis=1)[cols])"
   ]
  },
  {
   "cell_type": "code",
   "execution_count": 231,
   "metadata": {
    "ExecuteTime": {
     "end_time": "2019-09-15T15:07:41.922256Z",
     "start_time": "2019-09-15T15:07:41.918269Z"
    }
   },
   "outputs": [
    {
     "data": {
      "text/plain": [
       "1423.0"
      ]
     },
     "execution_count": 231,
     "metadata": {},
     "output_type": "execute_result"
    }
   ],
   "source": [
    "# Defaults among the rejected set\n",
    "pred_no_perf_set.sum()"
   ]
  },
  {
   "cell_type": "code",
   "execution_count": 232,
   "metadata": {
    "ExecuteTime": {
     "end_time": "2019-09-15T15:08:01.839780Z",
     "start_time": "2019-09-15T15:08:01.836763Z"
    }
   },
   "outputs": [
    {
     "data": {
      "text/plain": [
       "1425"
      ]
     },
     "execution_count": 232,
     "metadata": {},
     "output_type": "execute_result"
    }
   ],
   "source": [
    "# Total rejected records\n",
    "len(no_perf_set)"
   ]
  },
  {
   "cell_type": "markdown",
   "metadata": {},
   "source": [
    "Only 2 records are predicted to be good performers among all the rejected applications."
   ]
  }
 ],
 "metadata": {
  "kernelspec": {
   "display_name": "Python 3",
   "language": "python",
   "name": "python3"
  },
  "language_info": {
   "codemirror_mode": {
    "name": "ipython",
    "version": 3
   },
   "file_extension": ".py",
   "mimetype": "text/x-python",
   "name": "python",
   "nbconvert_exporter": "python",
   "pygments_lexer": "ipython3",
   "version": "3.7.1"
  },
  "toc": {
   "base_numbering": 1,
   "nav_menu": {},
   "number_sections": true,
   "sideBar": true,
   "skip_h1_title": false,
   "title_cell": "Table of Contents",
   "title_sidebar": "Contents",
   "toc_cell": true,
   "toc_position": {
    "height": "calc(100% - 180px)",
    "left": "10px",
    "top": "150px",
    "width": "290px"
   },
   "toc_section_display": true,
   "toc_window_display": true
  }
 },
 "nbformat": 4,
 "nbformat_minor": 2
}
